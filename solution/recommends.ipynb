{
 "cells": [
  {
   "metadata": {
    "collapsed": true,
    "ExecuteTime": {
     "end_time": "2024-10-12T21:30:39.725689Z",
     "start_time": "2024-10-12T21:30:39.051827Z"
    }
   },
   "cell_type": "code",
   "source": [
    "from pathlib import Path\n",
    "\n",
    "import numpy as np\n",
    "import pandas as pd"
   ],
   "id": "initial_id",
   "outputs": [],
   "execution_count": 1
  },
  {
   "metadata": {
    "ExecuteTime": {
     "end_time": "2024-10-12T21:30:40.059746Z",
     "start_time": "2024-10-12T21:30:39.753095Z"
    }
   },
   "cell_type": "code",
   "source": [
    "import h2o\n",
    "from h2o.estimators.gbm import H2OGradientBoostingEstimator"
   ],
   "id": "5802908c400af4a0",
   "outputs": [],
   "execution_count": 2
  },
  {
   "metadata": {
    "ExecuteTime": {
     "end_time": "2024-10-12T21:30:40.500223Z",
     "start_time": "2024-10-12T21:30:40.252337Z"
    }
   },
   "cell_type": "code",
   "source": [
    "import os\n",
    "import threadpoolctl\n",
    "import warnings\n",
    "\n",
    "from rectools.models import ImplicitALSWrapperModel\n",
    "from rectools.dataset import Dataset\n",
    "from implicit.als import AlternatingLeastSquares\n",
    "\n",
    "warnings.filterwarnings('ignore')\n",
    "\n",
    "# For implicit ALS\n",
    "os.environ[\"OPENBLAS_NUM_THREADS\"] = \"1\"\n",
    "threadpoolctl.threadpool_limits(1, \"blas\")"
   ],
   "id": "8a30bde391d9e196",
   "outputs": [
    {
     "name": "stderr",
     "output_type": "stream",
     "text": [
      "/home/varsey/PycharmProjects/zagruzka-resheniya-kokos-002/venv/lib/python3.11/site-packages/tqdm/auto.py:21: TqdmWarning: IProgress not found. Please update jupyter and ipywidgets. See https://ipywidgets.readthedocs.io/en/stable/user_install.html\n",
      "  from .autonotebook import tqdm as notebook_tqdm\n"
     ]
    },
    {
     "data": {
      "text/plain": [
       "<threadpoolctl.threadpool_limits at 0x7d8d4e314a50>"
      ]
     },
     "execution_count": 3,
     "metadata": {},
     "output_type": "execute_result"
    }
   ],
   "execution_count": 3
  },
  {
   "metadata": {
    "ExecuteTime": {
     "end_time": "2024-10-12T21:30:43.633951Z",
     "start_time": "2024-10-12T21:30:43.311780Z"
    }
   },
   "cell_type": "code",
   "source": "from sklearn.feature_extraction.text import TfidfVectorizer",
   "id": "56a98e0f54b9958f",
   "outputs": [],
   "execution_count": 4
  },
  {
   "metadata": {
    "ExecuteTime": {
     "end_time": "2024-10-12T21:30:43.717603Z",
     "start_time": "2024-10-12T21:30:43.646674Z"
    }
   },
   "cell_type": "code",
   "source": "from src.utils import processing, calculate_recall, create_index_hnsw ",
   "id": "8713cf7a9fc9dc59",
   "outputs": [],
   "execution_count": 5
  },
  {
   "metadata": {
    "ExecuteTime": {
     "end_time": "2024-10-12T21:30:44.067484Z",
     "start_time": "2024-10-12T21:30:43.977369Z"
    }
   },
   "cell_type": "code",
   "source": [
    "catalog = pd.read_parquet(f'{Path.cwd().parent}/data/stokman_catalog_preprocessed.pq', engine='pyarrow')\n",
    "catalog.head()"
   ],
   "id": "ed039728e851bc93",
   "outputs": [
    {
     "data": {
      "text/plain": [
       "             add_date shop_id product_id category_id  price  \\\n",
       "0 2024-09-30 03:07:09     350    1025536        8922   6990   \n",
       "1 2024-09-19 03:07:08     350    1025614       10600    330   \n",
       "2 2024-09-30 03:07:09     350    1025656         231  13240   \n",
       "3 2024-09-30 03:07:09     350    1025659       14546   7550   \n",
       "4 2024-09-30 03:07:09     350    1025668        1949   1290   \n",
       "\n",
       "                                       title  old_price  \n",
       "0               6048 48557 44342 53515 17614       6990  \n",
       "1          42548 40244 23485 10853 6545 2343        330  \n",
       "2  14034 42002 48557 56089 46836 55620 50785      26490  \n",
       "3        32640 50164 48557 25314 23255 42146      12590  \n",
       "4                    51789 48557 56089 20149       1290  "
      ],
      "text/html": [
       "<div>\n",
       "<style scoped>\n",
       "    .dataframe tbody tr th:only-of-type {\n",
       "        vertical-align: middle;\n",
       "    }\n",
       "\n",
       "    .dataframe tbody tr th {\n",
       "        vertical-align: top;\n",
       "    }\n",
       "\n",
       "    .dataframe thead th {\n",
       "        text-align: right;\n",
       "    }\n",
       "</style>\n",
       "<table border=\"1\" class=\"dataframe\">\n",
       "  <thead>\n",
       "    <tr style=\"text-align: right;\">\n",
       "      <th></th>\n",
       "      <th>add_date</th>\n",
       "      <th>shop_id</th>\n",
       "      <th>product_id</th>\n",
       "      <th>category_id</th>\n",
       "      <th>price</th>\n",
       "      <th>title</th>\n",
       "      <th>old_price</th>\n",
       "    </tr>\n",
       "  </thead>\n",
       "  <tbody>\n",
       "    <tr>\n",
       "      <th>0</th>\n",
       "      <td>2024-09-30 03:07:09</td>\n",
       "      <td>350</td>\n",
       "      <td>1025536</td>\n",
       "      <td>8922</td>\n",
       "      <td>6990</td>\n",
       "      <td>6048 48557 44342 53515 17614</td>\n",
       "      <td>6990</td>\n",
       "    </tr>\n",
       "    <tr>\n",
       "      <th>1</th>\n",
       "      <td>2024-09-19 03:07:08</td>\n",
       "      <td>350</td>\n",
       "      <td>1025614</td>\n",
       "      <td>10600</td>\n",
       "      <td>330</td>\n",
       "      <td>42548 40244 23485 10853 6545 2343</td>\n",
       "      <td>330</td>\n",
       "    </tr>\n",
       "    <tr>\n",
       "      <th>2</th>\n",
       "      <td>2024-09-30 03:07:09</td>\n",
       "      <td>350</td>\n",
       "      <td>1025656</td>\n",
       "      <td>231</td>\n",
       "      <td>13240</td>\n",
       "      <td>14034 42002 48557 56089 46836 55620 50785</td>\n",
       "      <td>26490</td>\n",
       "    </tr>\n",
       "    <tr>\n",
       "      <th>3</th>\n",
       "      <td>2024-09-30 03:07:09</td>\n",
       "      <td>350</td>\n",
       "      <td>1025659</td>\n",
       "      <td>14546</td>\n",
       "      <td>7550</td>\n",
       "      <td>32640 50164 48557 25314 23255 42146</td>\n",
       "      <td>12590</td>\n",
       "    </tr>\n",
       "    <tr>\n",
       "      <th>4</th>\n",
       "      <td>2024-09-30 03:07:09</td>\n",
       "      <td>350</td>\n",
       "      <td>1025668</td>\n",
       "      <td>1949</td>\n",
       "      <td>1290</td>\n",
       "      <td>51789 48557 56089 20149</td>\n",
       "      <td>1290</td>\n",
       "    </tr>\n",
       "  </tbody>\n",
       "</table>\n",
       "</div>"
      ]
     },
     "execution_count": 6,
     "metadata": {},
     "output_type": "execute_result"
    }
   ],
   "execution_count": 6
  },
  {
   "metadata": {
    "ExecuteTime": {
     "end_time": "2024-10-12T21:30:47.827165Z",
     "start_time": "2024-10-12T21:30:44.253431Z"
    }
   },
   "cell_type": "code",
   "source": [
    "actions = pd.read_parquet(f'{Path.cwd().parent}/data/train_actions.pq', engine='pyarrow')\n",
    "actions.head()"
   ],
   "id": "981e162b35596c1",
   "outputs": [
    {
     "data": {
      "text/plain": [
       "                                user_id                           loc_user_id  \\\n",
       "0  6fd49b56-8cc6-11ed-86e0-002590c0647c  c6e357dc-121d-449d-a744-e9a0b56c2380   \n",
       "1  6fd49b56-8cc6-11ed-86e0-002590c0647c  c6e357dc-121d-449d-a744-e9a0b56c2380   \n",
       "2  f9c498ec-5d3b-11ef-86e0-002590c0647c  120c9064-1131-4dc3-8048-44184531b42e   \n",
       "3  59386b5c-e64f-11ec-8086-002590c82437  f0745572-893f-4e50-bc52-5af47badff5a   \n",
       "4  badbd396-6cab-11ef-86e0-002590c0647c  73423d85-d47c-4332-8155-5200615302b5   \n",
       "\n",
       "   action                date products      pageId  \n",
       "0       7 2024-09-07 00:00:04       []  2571824865  \n",
       "1       7 2024-09-07 00:00:08       []  3834364438  \n",
       "2       7 2024-09-07 00:00:08       []  2448628415  \n",
       "3       7 2024-09-07 00:00:11       []  3875013967  \n",
       "4       7 2024-09-07 00:00:11       []  3025531174  "
      ],
      "text/html": [
       "<div>\n",
       "<style scoped>\n",
       "    .dataframe tbody tr th:only-of-type {\n",
       "        vertical-align: middle;\n",
       "    }\n",
       "\n",
       "    .dataframe tbody tr th {\n",
       "        vertical-align: top;\n",
       "    }\n",
       "\n",
       "    .dataframe thead th {\n",
       "        text-align: right;\n",
       "    }\n",
       "</style>\n",
       "<table border=\"1\" class=\"dataframe\">\n",
       "  <thead>\n",
       "    <tr style=\"text-align: right;\">\n",
       "      <th></th>\n",
       "      <th>user_id</th>\n",
       "      <th>loc_user_id</th>\n",
       "      <th>action</th>\n",
       "      <th>date</th>\n",
       "      <th>products</th>\n",
       "      <th>pageId</th>\n",
       "    </tr>\n",
       "  </thead>\n",
       "  <tbody>\n",
       "    <tr>\n",
       "      <th>0</th>\n",
       "      <td>6fd49b56-8cc6-11ed-86e0-002590c0647c</td>\n",
       "      <td>c6e357dc-121d-449d-a744-e9a0b56c2380</td>\n",
       "      <td>7</td>\n",
       "      <td>2024-09-07 00:00:04</td>\n",
       "      <td>[]</td>\n",
       "      <td>2571824865</td>\n",
       "    </tr>\n",
       "    <tr>\n",
       "      <th>1</th>\n",
       "      <td>6fd49b56-8cc6-11ed-86e0-002590c0647c</td>\n",
       "      <td>c6e357dc-121d-449d-a744-e9a0b56c2380</td>\n",
       "      <td>7</td>\n",
       "      <td>2024-09-07 00:00:08</td>\n",
       "      <td>[]</td>\n",
       "      <td>3834364438</td>\n",
       "    </tr>\n",
       "    <tr>\n",
       "      <th>2</th>\n",
       "      <td>f9c498ec-5d3b-11ef-86e0-002590c0647c</td>\n",
       "      <td>120c9064-1131-4dc3-8048-44184531b42e</td>\n",
       "      <td>7</td>\n",
       "      <td>2024-09-07 00:00:08</td>\n",
       "      <td>[]</td>\n",
       "      <td>2448628415</td>\n",
       "    </tr>\n",
       "    <tr>\n",
       "      <th>3</th>\n",
       "      <td>59386b5c-e64f-11ec-8086-002590c82437</td>\n",
       "      <td>f0745572-893f-4e50-bc52-5af47badff5a</td>\n",
       "      <td>7</td>\n",
       "      <td>2024-09-07 00:00:11</td>\n",
       "      <td>[]</td>\n",
       "      <td>3875013967</td>\n",
       "    </tr>\n",
       "    <tr>\n",
       "      <th>4</th>\n",
       "      <td>badbd396-6cab-11ef-86e0-002590c0647c</td>\n",
       "      <td>73423d85-d47c-4332-8155-5200615302b5</td>\n",
       "      <td>7</td>\n",
       "      <td>2024-09-07 00:00:11</td>\n",
       "      <td>[]</td>\n",
       "      <td>3025531174</td>\n",
       "    </tr>\n",
       "  </tbody>\n",
       "</table>\n",
       "</div>"
      ]
     },
     "execution_count": 7,
     "metadata": {},
     "output_type": "execute_result"
    }
   ],
   "execution_count": 7
  },
  {
   "metadata": {},
   "cell_type": "markdown",
   "source": "#### Разворачиваем данные по айдишникам продуктов",
   "id": "56e5db1a6058946c"
  },
  {
   "metadata": {
    "ExecuteTime": {
     "end_time": "2024-10-12T21:30:53.196708Z",
     "start_time": "2024-10-12T21:30:47.866626Z"
    }
   },
   "cell_type": "code",
   "source": [
    "_actions = (\n",
    "    actions\n",
    "    .copy()\n",
    "    .explode('products')\n",
    "    .assign(products=lambda x: x.products.fillna(-1).astype(np.int64))\n",
    ")\n",
    "print(_actions.shape)\n",
    "\n",
    "_catalog = (\n",
    "    catalog\n",
    "    .copy()\n",
    "    .assign(product_id=lambda x: x.product_id.astype(np.int64))\n",
    ")"
   ],
   "id": "3e0c476cbb5adeb0",
   "outputs": [
    {
     "name": "stdout",
     "output_type": "stream",
     "text": [
      "(6859002, 6)\n"
     ]
    }
   ],
   "execution_count": 8
  },
  {
   "metadata": {},
   "cell_type": "markdown",
   "source": "#### Разворачиваем данные по айдишникам продуктов",
   "id": "8ab92b6327317d65"
  },
  {
   "metadata": {
    "ExecuteTime": {
     "end_time": "2024-10-12T21:30:55.452444Z",
     "start_time": "2024-10-12T21:30:53.275684Z"
    }
   },
   "cell_type": "code",
   "source": [
    "_actions['action_datetime'] = pd.to_datetime(_actions['date'])\n",
    "\n",
    "_actions.action = _actions.action + 10\n",
    "_actions.action = _actions.action.replace({14: 0, 13: 4, 18: 2, 19: 3, 10: 5, 17: 1, 11: 6, 12: 7, 16: 8, 15: 9})\n",
    "_actions = _actions.sort_values(by=['action', 'date'])\n",
    "print(_actions.shape)"
   ],
   "id": "33bc13582ac56739",
   "outputs": [
    {
     "name": "stdout",
     "output_type": "stream",
     "text": [
      "(6859002, 7)\n"
     ]
    }
   ],
   "execution_count": 9
  },
  {
   "metadata": {},
   "cell_type": "markdown",
   "source": [
    "#### Новая шкала action в train_actions.pq в порядке возрастания важности\n",
    "    0 - clearB (удаление всех товаров из корзины)\n",
    "    1 - visit (посещение страницы с товаром)\n",
    "    2 - visitCategory (посещение страницы с группой товаров)\n",
    "    3 - search (поиск товара)           \n",
    "    4 - delB (удаление товара из корзины)\n",
    "    5 - view (просмотр товара)\n",
    "    6 - like (лайк товара)\n",
    "    7 - addB (добавление товара в корзину)\n",
    "    8 - listB (посещение страницы корзины и вывод списка товаров в корзине)\n",
    "    9 - order (оформление заказа)\n",
    "    "
   ],
   "id": "61bff49bb1302804"
  },
  {
   "metadata": {},
   "cell_type": "markdown",
   "source": [
    "#### Переименовываем поля и обьеденияем датасеты каталога и дейсвтвий пользователя    \n",
    "'products' теперь 'item_id', 'action'  превратился в 'weight' (мы перевели код действия в шкалу по возрастанию ранее)"
   ],
   "id": "edbf3590e0fdcf21"
  },
  {
   "metadata": {
    "ExecuteTime": {
     "end_time": "2024-10-12T21:30:56.259213Z",
     "start_time": "2024-10-12T21:30:55.505273Z"
    }
   },
   "cell_type": "code",
   "source": "interactions = _actions.rename(columns={'products': 'item_id', 'action' : 'weight', 'action_datetime': 'datetime'})",
   "id": "9cf4c400c2eb31f2",
   "outputs": [],
   "execution_count": 10
  },
  {
   "metadata": {
    "ExecuteTime": {
     "end_time": "2024-10-12T21:30:56.273184Z",
     "start_time": "2024-10-12T21:30:56.264305Z"
    }
   },
   "cell_type": "code",
   "source": "items = _catalog.rename(columns={'product_id': 'item_id'})",
   "id": "44b6d7a792587132",
   "outputs": [],
   "execution_count": 11
  },
  {
   "metadata": {
    "ExecuteTime": {
     "end_time": "2024-10-12T21:30:57.508104Z",
     "start_time": "2024-10-12T21:30:56.328245Z"
    }
   },
   "cell_type": "code",
   "source": [
    "interactions_merge = interactions.merge(items, on='item_id', how='left')\n",
    "interactions_merge.shape"
   ],
   "id": "29511698b4b25a81",
   "outputs": [
    {
     "data": {
      "text/plain": [
       "(6859002, 13)"
      ]
     },
     "execution_count": 12,
     "metadata": {},
     "output_type": "execute_result"
    }
   ],
   "execution_count": 12
  },
  {
   "metadata": {
    "ExecuteTime": {
     "end_time": "2024-10-12T21:30:58.401034Z",
     "start_time": "2024-10-12T21:30:57.606041Z"
    }
   },
   "cell_type": "code",
   "source": [
    "interactions_merge['day'] = interactions_merge['datetime'].dt.day\n",
    "interactions_merge['day_of_week'] = interactions_merge['datetime'].dt.dayofweek  # Monday=0, Sunday=6\n",
    "\n",
    "interactions_merge['hour'] = interactions_merge['datetime'].dt.hour\n",
    "interactions_merge['minute'] = interactions_merge['datetime'].dt.minute"
   ],
   "id": "59042b7e4bce6aa9",
   "outputs": [],
   "execution_count": 13
  },
  {
   "metadata": {
    "ExecuteTime": {
     "end_time": "2024-10-12T21:31:00.449325Z",
     "start_time": "2024-10-12T21:30:58.438606Z"
    }
   },
   "cell_type": "code",
   "source": [
    "interactions_merge['price_diff'] = interactions_merge['price'] - interactions_merge['old_price']\n",
    "\n",
    "interactions_merge['category_id'] = interactions_merge['category_id'].fillna(0)\n",
    "interactions_merge['price_diff'] = interactions_merge['price_diff'].fillna(0)\n",
    "\n",
    "interactions_merge['category_id'] = interactions_merge['category_id'].astype(np.int32)"
   ],
   "id": "e1baf5098e5fb6a5",
   "outputs": [],
   "execution_count": 14
  },
  {
   "metadata": {
    "ExecuteTime": {
     "end_time": "2024-10-12T21:31:05.121882Z",
     "start_time": "2024-10-12T21:31:00.609647Z"
    }
   },
   "cell_type": "code",
   "source": [
    "inters = interactions_merge.merge(\n",
    "    interactions_merge.groupby('user_id')['loc_user_id'].count().reset_index(name='loc_user_count'),\n",
    "    on='user_id',\n",
    "    how='left'\n",
    ")\n",
    "print(inters.shape)"
   ],
   "id": "dbeec347bf647835",
   "outputs": [
    {
     "name": "stdout",
     "output_type": "stream",
     "text": [
      "(6859002, 19)\n"
     ]
    }
   ],
   "execution_count": 15
  },
  {
   "metadata": {
    "ExecuteTime": {
     "end_time": "2024-10-12T21:31:08.485277Z",
     "start_time": "2024-10-12T21:31:05.186744Z"
    }
   },
   "cell_type": "code",
   "source": [
    "inters = inters.merge(\n",
    "    interactions_merge.groupby('user_id')['category_id'].count().reset_index(name='category_id_count'),\n",
    "    on='user_id',\n",
    "    how='left'\n",
    ")\n",
    "print(inters.shape)"
   ],
   "id": "134633534bc44644",
   "outputs": [
    {
     "name": "stdout",
     "output_type": "stream",
     "text": [
      "(6859002, 20)\n"
     ]
    }
   ],
   "execution_count": 16
  },
  {
   "metadata": {
    "ExecuteTime": {
     "end_time": "2024-10-12T21:31:08.520999Z",
     "start_time": "2024-10-12T21:31:08.518908Z"
    }
   },
   "cell_type": "code",
   "source": "",
   "id": "57fdee436f311726",
   "outputs": [],
   "execution_count": null
  },
  {
   "metadata": {
    "ExecuteTime": {
     "end_time": "2024-10-12T21:31:22.834582Z",
     "start_time": "2024-10-12T21:31:08.590102Z"
    }
   },
   "cell_type": "code",
   "source": [
    "for action in sorted(interactions_merge.weight.unique()):\n",
    "    inters = inters.merge(\n",
    "        interactions_merge[interactions_merge.weight  == action].groupby('user_id')['weight'].count().reset_index(name=f'action_{action}_count'),\n",
    "        on='user_id',\n",
    "        how='left'\n",
    "    )\n",
    "    inters[f'action_{action}_count'] = inters[f'action_{action}_count'].fillna(0)\n",
    "print(inters.shape)"
   ],
   "id": "e1bacf3c6ee6e617",
   "outputs": [
    {
     "name": "stdout",
     "output_type": "stream",
     "text": [
      "(6859002, 30)\n"
     ]
    }
   ],
   "execution_count": 17
  },
  {
   "metadata": {
    "ExecuteTime": {
     "end_time": "2024-10-12T21:31:23.895690Z",
     "start_time": "2024-10-12T21:31:23.894270Z"
    }
   },
   "cell_type": "code",
   "source": "",
   "id": "b046b5b46ce107b1",
   "outputs": [],
   "execution_count": null
  },
  {
   "metadata": {
    "ExecuteTime": {
     "end_time": "2024-10-12T21:31:28.203869Z",
     "start_time": "2024-10-12T21:31:24.869313Z"
    }
   },
   "cell_type": "code",
   "source": [
    "inters['delta_sec'] = inters.sort_values(by=['datetime']).groupby('user_id')['datetime'].diff()\n",
    "inters['delta_sec'] = inters['delta_sec'].dt.total_seconds()\n",
    "inters['delta_sec'] = inters['delta_sec'].fillna(0)"
   ],
   "id": "e5529ba8b7fa03a3",
   "outputs": [],
   "execution_count": 18
  },
  {
   "metadata": {
    "ExecuteTime": {
     "end_time": "2024-10-12T21:31:36.227765Z",
     "start_time": "2024-10-12T21:31:29.217590Z"
    }
   },
   "cell_type": "code",
   "source": [
    "inters['delta_day'] = inters.sort_values(by=['datetime']).groupby('user_id')['day'].diff()\n",
    "inters['delta_day'] = inters['delta_day'].fillna(0)\n",
    "\n",
    "inters['delta_hour'] = inters.sort_values(by=['datetime']).groupby('user_id')['hour'].diff()\n",
    "inters['delta_hour'] = inters['delta_hour'].fillna(0)\n",
    "\n",
    "inters['delta_min'] = inters.sort_values(by=['datetime']).groupby('user_id')['minute'].diff()\n",
    "inters['delta_min'] = inters['delta_min'].fillna(0)"
   ],
   "id": "366408200ad38780",
   "outputs": [],
   "execution_count": 19
  },
  {
   "metadata": {
    "ExecuteTime": {
     "end_time": "2024-10-12T21:31:37.722445Z",
     "start_time": "2024-10-12T21:31:37.223109Z"
    }
   },
   "cell_type": "code",
   "source": "inters = inters.drop(columns=['day', 'hour', 'minute'])",
   "id": "b4d3d265efe6438c",
   "outputs": [],
   "execution_count": 20
  },
  {
   "metadata": {
    "ExecuteTime": {
     "end_time": "2024-10-12T21:31:38.986236Z",
     "start_time": "2024-10-12T21:31:38.583805Z"
    }
   },
   "cell_type": "code",
   "source": "inters = inters.drop(columns=['price', 'old_price', 'date', 'add_date', 'loc_user_id', 'shop_id'])",
   "id": "5a08b82472678503",
   "outputs": [],
   "execution_count": 21
  },
  {
   "metadata": {
    "ExecuteTime": {
     "end_time": "2024-10-12T21:31:41.324670Z",
     "start_time": "2024-10-12T21:31:39.768645Z"
    }
   },
   "cell_type": "code",
   "source": [
    "inters = inters[inters['item_id'] != '/*']\n",
    "inters = inters[inters['user_id'] != '/*']"
   ],
   "id": "4fb8cb777c7bd7ba",
   "outputs": [],
   "execution_count": 22
  },
  {
   "metadata": {
    "ExecuteTime": {
     "end_time": "2024-10-12T21:31:42.264971Z",
     "start_time": "2024-10-12T21:31:41.976464Z"
    }
   },
   "cell_type": "code",
   "source": "inters[inters.user_id == 'e4362420-f6ca-11ec-86e0-002590c0647c'].head(500)",
   "id": "84c3076767e80047",
   "outputs": [
    {
     "data": {
      "text/plain": [
       "                                      user_id  weight  item_id      pageId  \\\n",
       "379      e4362420-f6ca-11ec-86e0-002590c0647c       1       -1  4263215769   \n",
       "383      e4362420-f6ca-11ec-86e0-002590c0647c       1       -1  4263215769   \n",
       "387      e4362420-f6ca-11ec-86e0-002590c0647c       1       -1  4263215769   \n",
       "388      e4362420-f6ca-11ec-86e0-002590c0647c       1       -1  4263215769   \n",
       "404      e4362420-f6ca-11ec-86e0-002590c0647c       1       -1  3450082821   \n",
       "...                                       ...     ...      ...         ...   \n",
       "6295889  e4362420-f6ca-11ec-86e0-002590c0647c       5  6770769   252042197   \n",
       "6295906  e4362420-f6ca-11ec-86e0-002590c0647c       5  6990711   252042197   \n",
       "6295912  e4362420-f6ca-11ec-86e0-002590c0647c       5  6770769   252042197   \n",
       "6847200  e4362420-f6ca-11ec-86e0-002590c0647c       9  5422963  4263215769   \n",
       "6847201  e4362420-f6ca-11ec-86e0-002590c0647c       9  4899652  4263215769   \n",
       "\n",
       "                   datetime  category_id  \\\n",
       "379     2024-09-07 00:00:26            0   \n",
       "383     2024-09-07 00:00:41            0   \n",
       "387     2024-09-07 00:00:51            0   \n",
       "388     2024-09-07 00:00:52            0   \n",
       "404     2024-09-07 00:01:37            0   \n",
       "...                     ...          ...   \n",
       "6295889 2024-09-27 06:14:04        50448   \n",
       "6295906 2024-09-27 06:14:21        50448   \n",
       "6295912 2024-09-27 06:14:25        50448   \n",
       "6847200 2024-09-07 00:01:12         2247   \n",
       "6847201 2024-09-07 00:01:12          389   \n",
       "\n",
       "                                             title  day_of_week  price_diff  \\\n",
       "379                                            NaN            5         0.0   \n",
       "383                                            NaN            5         0.0   \n",
       "387                                            NaN            5         0.0   \n",
       "388                                            NaN            5         0.0   \n",
       "404                                            NaN            5         0.0   \n",
       "...                                            ...          ...         ...   \n",
       "6295889                                18203 15838            4         0.0   \n",
       "6295906                                18203 15838            4         0.0   \n",
       "6295912                                18203 15838            4         0.0   \n",
       "6847200  30744 37270 46732 29313 52878 60036 63016            5     -5700.0   \n",
       "6847201  30035 28258 58315 46732 29313 52878 32899            5     -4500.0   \n",
       "\n",
       "         loc_user_count  ...  action_4_count  action_5_count  action_6_count  \\\n",
       "379                 384  ...             0.0            57.0             0.0   \n",
       "383                 384  ...             0.0            57.0             0.0   \n",
       "387                 384  ...             0.0            57.0             0.0   \n",
       "388                 384  ...             0.0            57.0             0.0   \n",
       "404                 384  ...             0.0            57.0             0.0   \n",
       "...                 ...  ...             ...             ...             ...   \n",
       "6295889             384  ...             0.0            57.0             0.0   \n",
       "6295906             384  ...             0.0            57.0             0.0   \n",
       "6295912             384  ...             0.0            57.0             0.0   \n",
       "6847200             384  ...             0.0            57.0             0.0   \n",
       "6847201             384  ...             0.0            57.0             0.0   \n",
       "\n",
       "         action_7_count  action_8_count  action_9_count  delta_sec  delta_day  \\\n",
       "379                 0.0             0.0             2.0        0.0        0.0   \n",
       "383                 0.0             0.0             2.0       15.0        0.0   \n",
       "387                 0.0             0.0             2.0       10.0        0.0   \n",
       "388                 0.0             0.0             2.0        1.0        0.0   \n",
       "404                 0.0             0.0             2.0       25.0        0.0   \n",
       "...                 ...             ...             ...        ...        ...   \n",
       "6295889             0.0             0.0             2.0        1.0        0.0   \n",
       "6295906             0.0             0.0             2.0        1.0        0.0   \n",
       "6295912             0.0             0.0             2.0        1.0        0.0   \n",
       "6847200             0.0             0.0             2.0        0.0        0.0   \n",
       "6847201             0.0             0.0             2.0       20.0        0.0   \n",
       "\n",
       "         delta_hour  delta_min  \n",
       "379             0.0        0.0  \n",
       "383             0.0        0.0  \n",
       "387             0.0        0.0  \n",
       "388             0.0        0.0  \n",
       "404             0.0        0.0  \n",
       "...             ...        ...  \n",
       "6295889         0.0        0.0  \n",
       "6295906         0.0        0.0  \n",
       "6295912         0.0        0.0  \n",
       "6847200         0.0        0.0  \n",
       "6847201         0.0        1.0  \n",
       "\n",
       "[384 rows x 25 columns]"
      ],
      "text/html": [
       "<div>\n",
       "<style scoped>\n",
       "    .dataframe tbody tr th:only-of-type {\n",
       "        vertical-align: middle;\n",
       "    }\n",
       "\n",
       "    .dataframe tbody tr th {\n",
       "        vertical-align: top;\n",
       "    }\n",
       "\n",
       "    .dataframe thead th {\n",
       "        text-align: right;\n",
       "    }\n",
       "</style>\n",
       "<table border=\"1\" class=\"dataframe\">\n",
       "  <thead>\n",
       "    <tr style=\"text-align: right;\">\n",
       "      <th></th>\n",
       "      <th>user_id</th>\n",
       "      <th>weight</th>\n",
       "      <th>item_id</th>\n",
       "      <th>pageId</th>\n",
       "      <th>datetime</th>\n",
       "      <th>category_id</th>\n",
       "      <th>title</th>\n",
       "      <th>day_of_week</th>\n",
       "      <th>price_diff</th>\n",
       "      <th>loc_user_count</th>\n",
       "      <th>...</th>\n",
       "      <th>action_4_count</th>\n",
       "      <th>action_5_count</th>\n",
       "      <th>action_6_count</th>\n",
       "      <th>action_7_count</th>\n",
       "      <th>action_8_count</th>\n",
       "      <th>action_9_count</th>\n",
       "      <th>delta_sec</th>\n",
       "      <th>delta_day</th>\n",
       "      <th>delta_hour</th>\n",
       "      <th>delta_min</th>\n",
       "    </tr>\n",
       "  </thead>\n",
       "  <tbody>\n",
       "    <tr>\n",
       "      <th>379</th>\n",
       "      <td>e4362420-f6ca-11ec-86e0-002590c0647c</td>\n",
       "      <td>1</td>\n",
       "      <td>-1</td>\n",
       "      <td>4263215769</td>\n",
       "      <td>2024-09-07 00:00:26</td>\n",
       "      <td>0</td>\n",
       "      <td>NaN</td>\n",
       "      <td>5</td>\n",
       "      <td>0.0</td>\n",
       "      <td>384</td>\n",
       "      <td>...</td>\n",
       "      <td>0.0</td>\n",
       "      <td>57.0</td>\n",
       "      <td>0.0</td>\n",
       "      <td>0.0</td>\n",
       "      <td>0.0</td>\n",
       "      <td>2.0</td>\n",
       "      <td>0.0</td>\n",
       "      <td>0.0</td>\n",
       "      <td>0.0</td>\n",
       "      <td>0.0</td>\n",
       "    </tr>\n",
       "    <tr>\n",
       "      <th>383</th>\n",
       "      <td>e4362420-f6ca-11ec-86e0-002590c0647c</td>\n",
       "      <td>1</td>\n",
       "      <td>-1</td>\n",
       "      <td>4263215769</td>\n",
       "      <td>2024-09-07 00:00:41</td>\n",
       "      <td>0</td>\n",
       "      <td>NaN</td>\n",
       "      <td>5</td>\n",
       "      <td>0.0</td>\n",
       "      <td>384</td>\n",
       "      <td>...</td>\n",
       "      <td>0.0</td>\n",
       "      <td>57.0</td>\n",
       "      <td>0.0</td>\n",
       "      <td>0.0</td>\n",
       "      <td>0.0</td>\n",
       "      <td>2.0</td>\n",
       "      <td>15.0</td>\n",
       "      <td>0.0</td>\n",
       "      <td>0.0</td>\n",
       "      <td>0.0</td>\n",
       "    </tr>\n",
       "    <tr>\n",
       "      <th>387</th>\n",
       "      <td>e4362420-f6ca-11ec-86e0-002590c0647c</td>\n",
       "      <td>1</td>\n",
       "      <td>-1</td>\n",
       "      <td>4263215769</td>\n",
       "      <td>2024-09-07 00:00:51</td>\n",
       "      <td>0</td>\n",
       "      <td>NaN</td>\n",
       "      <td>5</td>\n",
       "      <td>0.0</td>\n",
       "      <td>384</td>\n",
       "      <td>...</td>\n",
       "      <td>0.0</td>\n",
       "      <td>57.0</td>\n",
       "      <td>0.0</td>\n",
       "      <td>0.0</td>\n",
       "      <td>0.0</td>\n",
       "      <td>2.0</td>\n",
       "      <td>10.0</td>\n",
       "      <td>0.0</td>\n",
       "      <td>0.0</td>\n",
       "      <td>0.0</td>\n",
       "    </tr>\n",
       "    <tr>\n",
       "      <th>388</th>\n",
       "      <td>e4362420-f6ca-11ec-86e0-002590c0647c</td>\n",
       "      <td>1</td>\n",
       "      <td>-1</td>\n",
       "      <td>4263215769</td>\n",
       "      <td>2024-09-07 00:00:52</td>\n",
       "      <td>0</td>\n",
       "      <td>NaN</td>\n",
       "      <td>5</td>\n",
       "      <td>0.0</td>\n",
       "      <td>384</td>\n",
       "      <td>...</td>\n",
       "      <td>0.0</td>\n",
       "      <td>57.0</td>\n",
       "      <td>0.0</td>\n",
       "      <td>0.0</td>\n",
       "      <td>0.0</td>\n",
       "      <td>2.0</td>\n",
       "      <td>1.0</td>\n",
       "      <td>0.0</td>\n",
       "      <td>0.0</td>\n",
       "      <td>0.0</td>\n",
       "    </tr>\n",
       "    <tr>\n",
       "      <th>404</th>\n",
       "      <td>e4362420-f6ca-11ec-86e0-002590c0647c</td>\n",
       "      <td>1</td>\n",
       "      <td>-1</td>\n",
       "      <td>3450082821</td>\n",
       "      <td>2024-09-07 00:01:37</td>\n",
       "      <td>0</td>\n",
       "      <td>NaN</td>\n",
       "      <td>5</td>\n",
       "      <td>0.0</td>\n",
       "      <td>384</td>\n",
       "      <td>...</td>\n",
       "      <td>0.0</td>\n",
       "      <td>57.0</td>\n",
       "      <td>0.0</td>\n",
       "      <td>0.0</td>\n",
       "      <td>0.0</td>\n",
       "      <td>2.0</td>\n",
       "      <td>25.0</td>\n",
       "      <td>0.0</td>\n",
       "      <td>0.0</td>\n",
       "      <td>0.0</td>\n",
       "    </tr>\n",
       "    <tr>\n",
       "      <th>...</th>\n",
       "      <td>...</td>\n",
       "      <td>...</td>\n",
       "      <td>...</td>\n",
       "      <td>...</td>\n",
       "      <td>...</td>\n",
       "      <td>...</td>\n",
       "      <td>...</td>\n",
       "      <td>...</td>\n",
       "      <td>...</td>\n",
       "      <td>...</td>\n",
       "      <td>...</td>\n",
       "      <td>...</td>\n",
       "      <td>...</td>\n",
       "      <td>...</td>\n",
       "      <td>...</td>\n",
       "      <td>...</td>\n",
       "      <td>...</td>\n",
       "      <td>...</td>\n",
       "      <td>...</td>\n",
       "      <td>...</td>\n",
       "      <td>...</td>\n",
       "    </tr>\n",
       "    <tr>\n",
       "      <th>6295889</th>\n",
       "      <td>e4362420-f6ca-11ec-86e0-002590c0647c</td>\n",
       "      <td>5</td>\n",
       "      <td>6770769</td>\n",
       "      <td>252042197</td>\n",
       "      <td>2024-09-27 06:14:04</td>\n",
       "      <td>50448</td>\n",
       "      <td>18203 15838</td>\n",
       "      <td>4</td>\n",
       "      <td>0.0</td>\n",
       "      <td>384</td>\n",
       "      <td>...</td>\n",
       "      <td>0.0</td>\n",
       "      <td>57.0</td>\n",
       "      <td>0.0</td>\n",
       "      <td>0.0</td>\n",
       "      <td>0.0</td>\n",
       "      <td>2.0</td>\n",
       "      <td>1.0</td>\n",
       "      <td>0.0</td>\n",
       "      <td>0.0</td>\n",
       "      <td>0.0</td>\n",
       "    </tr>\n",
       "    <tr>\n",
       "      <th>6295906</th>\n",
       "      <td>e4362420-f6ca-11ec-86e0-002590c0647c</td>\n",
       "      <td>5</td>\n",
       "      <td>6990711</td>\n",
       "      <td>252042197</td>\n",
       "      <td>2024-09-27 06:14:21</td>\n",
       "      <td>50448</td>\n",
       "      <td>18203 15838</td>\n",
       "      <td>4</td>\n",
       "      <td>0.0</td>\n",
       "      <td>384</td>\n",
       "      <td>...</td>\n",
       "      <td>0.0</td>\n",
       "      <td>57.0</td>\n",
       "      <td>0.0</td>\n",
       "      <td>0.0</td>\n",
       "      <td>0.0</td>\n",
       "      <td>2.0</td>\n",
       "      <td>1.0</td>\n",
       "      <td>0.0</td>\n",
       "      <td>0.0</td>\n",
       "      <td>0.0</td>\n",
       "    </tr>\n",
       "    <tr>\n",
       "      <th>6295912</th>\n",
       "      <td>e4362420-f6ca-11ec-86e0-002590c0647c</td>\n",
       "      <td>5</td>\n",
       "      <td>6770769</td>\n",
       "      <td>252042197</td>\n",
       "      <td>2024-09-27 06:14:25</td>\n",
       "      <td>50448</td>\n",
       "      <td>18203 15838</td>\n",
       "      <td>4</td>\n",
       "      <td>0.0</td>\n",
       "      <td>384</td>\n",
       "      <td>...</td>\n",
       "      <td>0.0</td>\n",
       "      <td>57.0</td>\n",
       "      <td>0.0</td>\n",
       "      <td>0.0</td>\n",
       "      <td>0.0</td>\n",
       "      <td>2.0</td>\n",
       "      <td>1.0</td>\n",
       "      <td>0.0</td>\n",
       "      <td>0.0</td>\n",
       "      <td>0.0</td>\n",
       "    </tr>\n",
       "    <tr>\n",
       "      <th>6847200</th>\n",
       "      <td>e4362420-f6ca-11ec-86e0-002590c0647c</td>\n",
       "      <td>9</td>\n",
       "      <td>5422963</td>\n",
       "      <td>4263215769</td>\n",
       "      <td>2024-09-07 00:01:12</td>\n",
       "      <td>2247</td>\n",
       "      <td>30744 37270 46732 29313 52878 60036 63016</td>\n",
       "      <td>5</td>\n",
       "      <td>-5700.0</td>\n",
       "      <td>384</td>\n",
       "      <td>...</td>\n",
       "      <td>0.0</td>\n",
       "      <td>57.0</td>\n",
       "      <td>0.0</td>\n",
       "      <td>0.0</td>\n",
       "      <td>0.0</td>\n",
       "      <td>2.0</td>\n",
       "      <td>0.0</td>\n",
       "      <td>0.0</td>\n",
       "      <td>0.0</td>\n",
       "      <td>0.0</td>\n",
       "    </tr>\n",
       "    <tr>\n",
       "      <th>6847201</th>\n",
       "      <td>e4362420-f6ca-11ec-86e0-002590c0647c</td>\n",
       "      <td>9</td>\n",
       "      <td>4899652</td>\n",
       "      <td>4263215769</td>\n",
       "      <td>2024-09-07 00:01:12</td>\n",
       "      <td>389</td>\n",
       "      <td>30035 28258 58315 46732 29313 52878 32899</td>\n",
       "      <td>5</td>\n",
       "      <td>-4500.0</td>\n",
       "      <td>384</td>\n",
       "      <td>...</td>\n",
       "      <td>0.0</td>\n",
       "      <td>57.0</td>\n",
       "      <td>0.0</td>\n",
       "      <td>0.0</td>\n",
       "      <td>0.0</td>\n",
       "      <td>2.0</td>\n",
       "      <td>20.0</td>\n",
       "      <td>0.0</td>\n",
       "      <td>0.0</td>\n",
       "      <td>1.0</td>\n",
       "    </tr>\n",
       "  </tbody>\n",
       "</table>\n",
       "<p>384 rows × 25 columns</p>\n",
       "</div>"
      ]
     },
     "execution_count": 23,
     "metadata": {},
     "output_type": "execute_result"
    }
   ],
   "execution_count": 23
  },
  {
   "metadata": {
    "ExecuteTime": {
     "end_time": "2024-10-12T21:31:42.942308Z",
     "start_time": "2024-10-12T21:31:42.932631Z"
    }
   },
   "cell_type": "code",
   "source": "inters.head()",
   "id": "8f5f038c3b20fe14",
   "outputs": [
    {
     "data": {
      "text/plain": [
       "                                user_id  weight  item_id      pageId  \\\n",
       "0  5b08b2fc-0e71-11ee-86e0-002590c0647c       0       -1    89919732   \n",
       "1  1af7e04c-6cd1-11ef-9b7b-002590c82436       0       -1   851020872   \n",
       "2  d41cdad4-3b4c-11ef-86e0-002590c0647c       0       -1  1515288183   \n",
       "3  59b9d89a-1de2-11eb-86e0-002590c0647c       0       -1  1497267364   \n",
       "4  9c087566-8065-11ed-86e0-002590c0647c       0       -1  3039170152   \n",
       "\n",
       "             datetime  category_id title  day_of_week  price_diff  \\\n",
       "0 2024-09-07 05:11:00            0   NaN            5         0.0   \n",
       "1 2024-09-07 05:50:01            0   NaN            5         0.0   \n",
       "2 2024-09-07 07:37:02            0   NaN            5         0.0   \n",
       "3 2024-09-07 11:52:12            0   NaN            5         0.0   \n",
       "4 2024-09-07 12:14:30            0   NaN            5         0.0   \n",
       "\n",
       "   loc_user_count  ...  action_4_count  action_5_count  action_6_count  \\\n",
       "0             141  ...             0.0            27.0             2.0   \n",
       "1              91  ...             0.0            25.0             0.0   \n",
       "2              85  ...             0.0            14.0             0.0   \n",
       "3            8270  ...            44.0           694.0             1.0   \n",
       "4             182  ...             1.0            26.0             0.0   \n",
       "\n",
       "   action_7_count  action_8_count  action_9_count  delta_sec  delta_day  \\\n",
       "0             1.0             1.0             0.0       24.0        0.0   \n",
       "1             2.0             5.0             1.0        6.0        0.0   \n",
       "2             2.0             6.0             0.0        8.0        0.0   \n",
       "3           125.0          1729.0           112.0        3.0        0.0   \n",
       "4             3.0             8.0             0.0        9.0        0.0   \n",
       "\n",
       "   delta_hour  delta_min  \n",
       "0         0.0        1.0  \n",
       "1         0.0        1.0  \n",
       "2         0.0        1.0  \n",
       "3         0.0        0.0  \n",
       "4         0.0        0.0  \n",
       "\n",
       "[5 rows x 25 columns]"
      ],
      "text/html": [
       "<div>\n",
       "<style scoped>\n",
       "    .dataframe tbody tr th:only-of-type {\n",
       "        vertical-align: middle;\n",
       "    }\n",
       "\n",
       "    .dataframe tbody tr th {\n",
       "        vertical-align: top;\n",
       "    }\n",
       "\n",
       "    .dataframe thead th {\n",
       "        text-align: right;\n",
       "    }\n",
       "</style>\n",
       "<table border=\"1\" class=\"dataframe\">\n",
       "  <thead>\n",
       "    <tr style=\"text-align: right;\">\n",
       "      <th></th>\n",
       "      <th>user_id</th>\n",
       "      <th>weight</th>\n",
       "      <th>item_id</th>\n",
       "      <th>pageId</th>\n",
       "      <th>datetime</th>\n",
       "      <th>category_id</th>\n",
       "      <th>title</th>\n",
       "      <th>day_of_week</th>\n",
       "      <th>price_diff</th>\n",
       "      <th>loc_user_count</th>\n",
       "      <th>...</th>\n",
       "      <th>action_4_count</th>\n",
       "      <th>action_5_count</th>\n",
       "      <th>action_6_count</th>\n",
       "      <th>action_7_count</th>\n",
       "      <th>action_8_count</th>\n",
       "      <th>action_9_count</th>\n",
       "      <th>delta_sec</th>\n",
       "      <th>delta_day</th>\n",
       "      <th>delta_hour</th>\n",
       "      <th>delta_min</th>\n",
       "    </tr>\n",
       "  </thead>\n",
       "  <tbody>\n",
       "    <tr>\n",
       "      <th>0</th>\n",
       "      <td>5b08b2fc-0e71-11ee-86e0-002590c0647c</td>\n",
       "      <td>0</td>\n",
       "      <td>-1</td>\n",
       "      <td>89919732</td>\n",
       "      <td>2024-09-07 05:11:00</td>\n",
       "      <td>0</td>\n",
       "      <td>NaN</td>\n",
       "      <td>5</td>\n",
       "      <td>0.0</td>\n",
       "      <td>141</td>\n",
       "      <td>...</td>\n",
       "      <td>0.0</td>\n",
       "      <td>27.0</td>\n",
       "      <td>2.0</td>\n",
       "      <td>1.0</td>\n",
       "      <td>1.0</td>\n",
       "      <td>0.0</td>\n",
       "      <td>24.0</td>\n",
       "      <td>0.0</td>\n",
       "      <td>0.0</td>\n",
       "      <td>1.0</td>\n",
       "    </tr>\n",
       "    <tr>\n",
       "      <th>1</th>\n",
       "      <td>1af7e04c-6cd1-11ef-9b7b-002590c82436</td>\n",
       "      <td>0</td>\n",
       "      <td>-1</td>\n",
       "      <td>851020872</td>\n",
       "      <td>2024-09-07 05:50:01</td>\n",
       "      <td>0</td>\n",
       "      <td>NaN</td>\n",
       "      <td>5</td>\n",
       "      <td>0.0</td>\n",
       "      <td>91</td>\n",
       "      <td>...</td>\n",
       "      <td>0.0</td>\n",
       "      <td>25.0</td>\n",
       "      <td>0.0</td>\n",
       "      <td>2.0</td>\n",
       "      <td>5.0</td>\n",
       "      <td>1.0</td>\n",
       "      <td>6.0</td>\n",
       "      <td>0.0</td>\n",
       "      <td>0.0</td>\n",
       "      <td>1.0</td>\n",
       "    </tr>\n",
       "    <tr>\n",
       "      <th>2</th>\n",
       "      <td>d41cdad4-3b4c-11ef-86e0-002590c0647c</td>\n",
       "      <td>0</td>\n",
       "      <td>-1</td>\n",
       "      <td>1515288183</td>\n",
       "      <td>2024-09-07 07:37:02</td>\n",
       "      <td>0</td>\n",
       "      <td>NaN</td>\n",
       "      <td>5</td>\n",
       "      <td>0.0</td>\n",
       "      <td>85</td>\n",
       "      <td>...</td>\n",
       "      <td>0.0</td>\n",
       "      <td>14.0</td>\n",
       "      <td>0.0</td>\n",
       "      <td>2.0</td>\n",
       "      <td>6.0</td>\n",
       "      <td>0.0</td>\n",
       "      <td>8.0</td>\n",
       "      <td>0.0</td>\n",
       "      <td>0.0</td>\n",
       "      <td>1.0</td>\n",
       "    </tr>\n",
       "    <tr>\n",
       "      <th>3</th>\n",
       "      <td>59b9d89a-1de2-11eb-86e0-002590c0647c</td>\n",
       "      <td>0</td>\n",
       "      <td>-1</td>\n",
       "      <td>1497267364</td>\n",
       "      <td>2024-09-07 11:52:12</td>\n",
       "      <td>0</td>\n",
       "      <td>NaN</td>\n",
       "      <td>5</td>\n",
       "      <td>0.0</td>\n",
       "      <td>8270</td>\n",
       "      <td>...</td>\n",
       "      <td>44.0</td>\n",
       "      <td>694.0</td>\n",
       "      <td>1.0</td>\n",
       "      <td>125.0</td>\n",
       "      <td>1729.0</td>\n",
       "      <td>112.0</td>\n",
       "      <td>3.0</td>\n",
       "      <td>0.0</td>\n",
       "      <td>0.0</td>\n",
       "      <td>0.0</td>\n",
       "    </tr>\n",
       "    <tr>\n",
       "      <th>4</th>\n",
       "      <td>9c087566-8065-11ed-86e0-002590c0647c</td>\n",
       "      <td>0</td>\n",
       "      <td>-1</td>\n",
       "      <td>3039170152</td>\n",
       "      <td>2024-09-07 12:14:30</td>\n",
       "      <td>0</td>\n",
       "      <td>NaN</td>\n",
       "      <td>5</td>\n",
       "      <td>0.0</td>\n",
       "      <td>182</td>\n",
       "      <td>...</td>\n",
       "      <td>1.0</td>\n",
       "      <td>26.0</td>\n",
       "      <td>0.0</td>\n",
       "      <td>3.0</td>\n",
       "      <td>8.0</td>\n",
       "      <td>0.0</td>\n",
       "      <td>9.0</td>\n",
       "      <td>0.0</td>\n",
       "      <td>0.0</td>\n",
       "      <td>0.0</td>\n",
       "    </tr>\n",
       "  </tbody>\n",
       "</table>\n",
       "<p>5 rows × 25 columns</p>\n",
       "</div>"
      ]
     },
     "execution_count": 24,
     "metadata": {},
     "output_type": "execute_result"
    }
   ],
   "execution_count": 24
  },
  {
   "metadata": {
    "ExecuteTime": {
     "end_time": "2024-10-12T21:31:43.040367Z",
     "start_time": "2024-10-12T21:31:43.038533Z"
    }
   },
   "cell_type": "code",
   "source": "",
   "id": "c31fe5ba397faa76",
   "outputs": [],
   "execution_count": null
  },
  {
   "metadata": {},
   "cell_type": "markdown",
   "source": "#### Тренировка модели для распознования ключевого события",
   "id": "71b58e8af56b9ae3"
  },
  {
   "metadata": {
    "ExecuteTime": {
     "end_time": "2024-10-12T21:31:43.729240Z",
     "start_time": "2024-10-12T21:31:43.300260Z"
    }
   },
   "cell_type": "code",
   "source": "inters[((inters.weight == 1) | (inters.weight == 4)) & (inters.user_id == '0038911e-79a3-11ef-9b7b-002590c82436')].sort_values(by=['user_id', 'pageId', 'item_id'])",
   "id": "6705e17e173899f1",
   "outputs": [
    {
     "data": {
      "text/plain": [
       "                                      user_id  weight  item_id      pageId  \\\n",
       "3522281  0038911e-79a3-11ef-9b7b-002590c82436       1       -1  1015778690   \n",
       "3337690  0038911e-79a3-11ef-9b7b-002590c82436       1       -1   125129932   \n",
       "3138513  0038911e-79a3-11ef-9b7b-002590c82436       1       -1  1281889168   \n",
       "3338009  0038911e-79a3-11ef-9b7b-002590c82436       1       -1  1326997590   \n",
       "3338048  0038911e-79a3-11ef-9b7b-002590c82436       1       -1  1326997590   \n",
       "...                                       ...     ...      ...         ...   \n",
       "3539012  0038911e-79a3-11ef-9b7b-002590c82436       1       -1   996145740   \n",
       "3539032  0038911e-79a3-11ef-9b7b-002590c82436       1       -1   996145740   \n",
       "3539048  0038911e-79a3-11ef-9b7b-002590c82436       1       -1   996145740   \n",
       "3539063  0038911e-79a3-11ef-9b7b-002590c82436       1       -1   996145740   \n",
       "3539083  0038911e-79a3-11ef-9b7b-002590c82436       1       -1   996145740   \n",
       "\n",
       "                   datetime  category_id title  day_of_week  price_diff  \\\n",
       "3522281 2024-09-25 18:09:12            0   NaN            2         0.0   \n",
       "3337690 2024-09-24 18:18:04            0   NaN            1         0.0   \n",
       "3138513 2024-09-23 18:17:15            0   NaN            0         0.0   \n",
       "3338009 2024-09-24 18:20:22            0   NaN            1         0.0   \n",
       "3338048 2024-09-24 18:20:40            0   NaN            1         0.0   \n",
       "...                     ...          ...   ...          ...         ...   \n",
       "3539012 2024-09-25 19:43:20            0   NaN            2         0.0   \n",
       "3539032 2024-09-25 19:43:25            0   NaN            2         0.0   \n",
       "3539048 2024-09-25 19:43:31            0   NaN            2         0.0   \n",
       "3539063 2024-09-25 19:43:34            0   NaN            2         0.0   \n",
       "3539083 2024-09-25 19:43:39            0   NaN            2         0.0   \n",
       "\n",
       "         loc_user_count  ...  action_4_count  action_5_count  action_6_count  \\\n",
       "3522281             155  ...             3.0            22.0             0.0   \n",
       "3337690             155  ...             3.0            22.0             0.0   \n",
       "3138513             155  ...             3.0            22.0             0.0   \n",
       "3338009             155  ...             3.0            22.0             0.0   \n",
       "3338048             155  ...             3.0            22.0             0.0   \n",
       "...                 ...  ...             ...             ...             ...   \n",
       "3539012             155  ...             3.0            22.0             0.0   \n",
       "3539032             155  ...             3.0            22.0             0.0   \n",
       "3539048             155  ...             3.0            22.0             0.0   \n",
       "3539063             155  ...             3.0            22.0             0.0   \n",
       "3539083             155  ...             3.0            22.0             0.0   \n",
       "\n",
       "         action_7_count  action_8_count  action_9_count  delta_sec  delta_day  \\\n",
       "3522281             2.0            10.0             1.0    23166.0        0.0   \n",
       "3337690             2.0            10.0             1.0        2.0        0.0   \n",
       "3138513             2.0            10.0             1.0      149.0        0.0   \n",
       "3338009             2.0            10.0             1.0        0.0        0.0   \n",
       "3338048             2.0            10.0             1.0       18.0        0.0   \n",
       "...                 ...             ...             ...        ...        ...   \n",
       "3539012             2.0            10.0             1.0        1.0        0.0   \n",
       "3539032             2.0            10.0             1.0        4.0        0.0   \n",
       "3539048             2.0            10.0             1.0        6.0        0.0   \n",
       "3539063             2.0            10.0             1.0        3.0        0.0   \n",
       "3539083             2.0            10.0             1.0        4.0        0.0   \n",
       "\n",
       "         delta_hour  delta_min  \n",
       "3522281         7.0      -34.0  \n",
       "3337690         0.0        0.0  \n",
       "3138513         0.0        3.0  \n",
       "3338009         0.0        0.0  \n",
       "3338048         0.0        0.0  \n",
       "...             ...        ...  \n",
       "3539012         0.0        0.0  \n",
       "3539032         0.0        0.0  \n",
       "3539048         0.0        0.0  \n",
       "3539063         0.0        0.0  \n",
       "3539083         0.0        0.0  \n",
       "\n",
       "[94 rows x 25 columns]"
      ],
      "text/html": [
       "<div>\n",
       "<style scoped>\n",
       "    .dataframe tbody tr th:only-of-type {\n",
       "        vertical-align: middle;\n",
       "    }\n",
       "\n",
       "    .dataframe tbody tr th {\n",
       "        vertical-align: top;\n",
       "    }\n",
       "\n",
       "    .dataframe thead th {\n",
       "        text-align: right;\n",
       "    }\n",
       "</style>\n",
       "<table border=\"1\" class=\"dataframe\">\n",
       "  <thead>\n",
       "    <tr style=\"text-align: right;\">\n",
       "      <th></th>\n",
       "      <th>user_id</th>\n",
       "      <th>weight</th>\n",
       "      <th>item_id</th>\n",
       "      <th>pageId</th>\n",
       "      <th>datetime</th>\n",
       "      <th>category_id</th>\n",
       "      <th>title</th>\n",
       "      <th>day_of_week</th>\n",
       "      <th>price_diff</th>\n",
       "      <th>loc_user_count</th>\n",
       "      <th>...</th>\n",
       "      <th>action_4_count</th>\n",
       "      <th>action_5_count</th>\n",
       "      <th>action_6_count</th>\n",
       "      <th>action_7_count</th>\n",
       "      <th>action_8_count</th>\n",
       "      <th>action_9_count</th>\n",
       "      <th>delta_sec</th>\n",
       "      <th>delta_day</th>\n",
       "      <th>delta_hour</th>\n",
       "      <th>delta_min</th>\n",
       "    </tr>\n",
       "  </thead>\n",
       "  <tbody>\n",
       "    <tr>\n",
       "      <th>3522281</th>\n",
       "      <td>0038911e-79a3-11ef-9b7b-002590c82436</td>\n",
       "      <td>1</td>\n",
       "      <td>-1</td>\n",
       "      <td>1015778690</td>\n",
       "      <td>2024-09-25 18:09:12</td>\n",
       "      <td>0</td>\n",
       "      <td>NaN</td>\n",
       "      <td>2</td>\n",
       "      <td>0.0</td>\n",
       "      <td>155</td>\n",
       "      <td>...</td>\n",
       "      <td>3.0</td>\n",
       "      <td>22.0</td>\n",
       "      <td>0.0</td>\n",
       "      <td>2.0</td>\n",
       "      <td>10.0</td>\n",
       "      <td>1.0</td>\n",
       "      <td>23166.0</td>\n",
       "      <td>0.0</td>\n",
       "      <td>7.0</td>\n",
       "      <td>-34.0</td>\n",
       "    </tr>\n",
       "    <tr>\n",
       "      <th>3337690</th>\n",
       "      <td>0038911e-79a3-11ef-9b7b-002590c82436</td>\n",
       "      <td>1</td>\n",
       "      <td>-1</td>\n",
       "      <td>125129932</td>\n",
       "      <td>2024-09-24 18:18:04</td>\n",
       "      <td>0</td>\n",
       "      <td>NaN</td>\n",
       "      <td>1</td>\n",
       "      <td>0.0</td>\n",
       "      <td>155</td>\n",
       "      <td>...</td>\n",
       "      <td>3.0</td>\n",
       "      <td>22.0</td>\n",
       "      <td>0.0</td>\n",
       "      <td>2.0</td>\n",
       "      <td>10.0</td>\n",
       "      <td>1.0</td>\n",
       "      <td>2.0</td>\n",
       "      <td>0.0</td>\n",
       "      <td>0.0</td>\n",
       "      <td>0.0</td>\n",
       "    </tr>\n",
       "    <tr>\n",
       "      <th>3138513</th>\n",
       "      <td>0038911e-79a3-11ef-9b7b-002590c82436</td>\n",
       "      <td>1</td>\n",
       "      <td>-1</td>\n",
       "      <td>1281889168</td>\n",
       "      <td>2024-09-23 18:17:15</td>\n",
       "      <td>0</td>\n",
       "      <td>NaN</td>\n",
       "      <td>0</td>\n",
       "      <td>0.0</td>\n",
       "      <td>155</td>\n",
       "      <td>...</td>\n",
       "      <td>3.0</td>\n",
       "      <td>22.0</td>\n",
       "      <td>0.0</td>\n",
       "      <td>2.0</td>\n",
       "      <td>10.0</td>\n",
       "      <td>1.0</td>\n",
       "      <td>149.0</td>\n",
       "      <td>0.0</td>\n",
       "      <td>0.0</td>\n",
       "      <td>3.0</td>\n",
       "    </tr>\n",
       "    <tr>\n",
       "      <th>3338009</th>\n",
       "      <td>0038911e-79a3-11ef-9b7b-002590c82436</td>\n",
       "      <td>1</td>\n",
       "      <td>-1</td>\n",
       "      <td>1326997590</td>\n",
       "      <td>2024-09-24 18:20:22</td>\n",
       "      <td>0</td>\n",
       "      <td>NaN</td>\n",
       "      <td>1</td>\n",
       "      <td>0.0</td>\n",
       "      <td>155</td>\n",
       "      <td>...</td>\n",
       "      <td>3.0</td>\n",
       "      <td>22.0</td>\n",
       "      <td>0.0</td>\n",
       "      <td>2.0</td>\n",
       "      <td>10.0</td>\n",
       "      <td>1.0</td>\n",
       "      <td>0.0</td>\n",
       "      <td>0.0</td>\n",
       "      <td>0.0</td>\n",
       "      <td>0.0</td>\n",
       "    </tr>\n",
       "    <tr>\n",
       "      <th>3338048</th>\n",
       "      <td>0038911e-79a3-11ef-9b7b-002590c82436</td>\n",
       "      <td>1</td>\n",
       "      <td>-1</td>\n",
       "      <td>1326997590</td>\n",
       "      <td>2024-09-24 18:20:40</td>\n",
       "      <td>0</td>\n",
       "      <td>NaN</td>\n",
       "      <td>1</td>\n",
       "      <td>0.0</td>\n",
       "      <td>155</td>\n",
       "      <td>...</td>\n",
       "      <td>3.0</td>\n",
       "      <td>22.0</td>\n",
       "      <td>0.0</td>\n",
       "      <td>2.0</td>\n",
       "      <td>10.0</td>\n",
       "      <td>1.0</td>\n",
       "      <td>18.0</td>\n",
       "      <td>0.0</td>\n",
       "      <td>0.0</td>\n",
       "      <td>0.0</td>\n",
       "    </tr>\n",
       "    <tr>\n",
       "      <th>...</th>\n",
       "      <td>...</td>\n",
       "      <td>...</td>\n",
       "      <td>...</td>\n",
       "      <td>...</td>\n",
       "      <td>...</td>\n",
       "      <td>...</td>\n",
       "      <td>...</td>\n",
       "      <td>...</td>\n",
       "      <td>...</td>\n",
       "      <td>...</td>\n",
       "      <td>...</td>\n",
       "      <td>...</td>\n",
       "      <td>...</td>\n",
       "      <td>...</td>\n",
       "      <td>...</td>\n",
       "      <td>...</td>\n",
       "      <td>...</td>\n",
       "      <td>...</td>\n",
       "      <td>...</td>\n",
       "      <td>...</td>\n",
       "      <td>...</td>\n",
       "    </tr>\n",
       "    <tr>\n",
       "      <th>3539012</th>\n",
       "      <td>0038911e-79a3-11ef-9b7b-002590c82436</td>\n",
       "      <td>1</td>\n",
       "      <td>-1</td>\n",
       "      <td>996145740</td>\n",
       "      <td>2024-09-25 19:43:20</td>\n",
       "      <td>0</td>\n",
       "      <td>NaN</td>\n",
       "      <td>2</td>\n",
       "      <td>0.0</td>\n",
       "      <td>155</td>\n",
       "      <td>...</td>\n",
       "      <td>3.0</td>\n",
       "      <td>22.0</td>\n",
       "      <td>0.0</td>\n",
       "      <td>2.0</td>\n",
       "      <td>10.0</td>\n",
       "      <td>1.0</td>\n",
       "      <td>1.0</td>\n",
       "      <td>0.0</td>\n",
       "      <td>0.0</td>\n",
       "      <td>0.0</td>\n",
       "    </tr>\n",
       "    <tr>\n",
       "      <th>3539032</th>\n",
       "      <td>0038911e-79a3-11ef-9b7b-002590c82436</td>\n",
       "      <td>1</td>\n",
       "      <td>-1</td>\n",
       "      <td>996145740</td>\n",
       "      <td>2024-09-25 19:43:25</td>\n",
       "      <td>0</td>\n",
       "      <td>NaN</td>\n",
       "      <td>2</td>\n",
       "      <td>0.0</td>\n",
       "      <td>155</td>\n",
       "      <td>...</td>\n",
       "      <td>3.0</td>\n",
       "      <td>22.0</td>\n",
       "      <td>0.0</td>\n",
       "      <td>2.0</td>\n",
       "      <td>10.0</td>\n",
       "      <td>1.0</td>\n",
       "      <td>4.0</td>\n",
       "      <td>0.0</td>\n",
       "      <td>0.0</td>\n",
       "      <td>0.0</td>\n",
       "    </tr>\n",
       "    <tr>\n",
       "      <th>3539048</th>\n",
       "      <td>0038911e-79a3-11ef-9b7b-002590c82436</td>\n",
       "      <td>1</td>\n",
       "      <td>-1</td>\n",
       "      <td>996145740</td>\n",
       "      <td>2024-09-25 19:43:31</td>\n",
       "      <td>0</td>\n",
       "      <td>NaN</td>\n",
       "      <td>2</td>\n",
       "      <td>0.0</td>\n",
       "      <td>155</td>\n",
       "      <td>...</td>\n",
       "      <td>3.0</td>\n",
       "      <td>22.0</td>\n",
       "      <td>0.0</td>\n",
       "      <td>2.0</td>\n",
       "      <td>10.0</td>\n",
       "      <td>1.0</td>\n",
       "      <td>6.0</td>\n",
       "      <td>0.0</td>\n",
       "      <td>0.0</td>\n",
       "      <td>0.0</td>\n",
       "    </tr>\n",
       "    <tr>\n",
       "      <th>3539063</th>\n",
       "      <td>0038911e-79a3-11ef-9b7b-002590c82436</td>\n",
       "      <td>1</td>\n",
       "      <td>-1</td>\n",
       "      <td>996145740</td>\n",
       "      <td>2024-09-25 19:43:34</td>\n",
       "      <td>0</td>\n",
       "      <td>NaN</td>\n",
       "      <td>2</td>\n",
       "      <td>0.0</td>\n",
       "      <td>155</td>\n",
       "      <td>...</td>\n",
       "      <td>3.0</td>\n",
       "      <td>22.0</td>\n",
       "      <td>0.0</td>\n",
       "      <td>2.0</td>\n",
       "      <td>10.0</td>\n",
       "      <td>1.0</td>\n",
       "      <td>3.0</td>\n",
       "      <td>0.0</td>\n",
       "      <td>0.0</td>\n",
       "      <td>0.0</td>\n",
       "    </tr>\n",
       "    <tr>\n",
       "      <th>3539083</th>\n",
       "      <td>0038911e-79a3-11ef-9b7b-002590c82436</td>\n",
       "      <td>1</td>\n",
       "      <td>-1</td>\n",
       "      <td>996145740</td>\n",
       "      <td>2024-09-25 19:43:39</td>\n",
       "      <td>0</td>\n",
       "      <td>NaN</td>\n",
       "      <td>2</td>\n",
       "      <td>0.0</td>\n",
       "      <td>155</td>\n",
       "      <td>...</td>\n",
       "      <td>3.0</td>\n",
       "      <td>22.0</td>\n",
       "      <td>0.0</td>\n",
       "      <td>2.0</td>\n",
       "      <td>10.0</td>\n",
       "      <td>1.0</td>\n",
       "      <td>4.0</td>\n",
       "      <td>0.0</td>\n",
       "      <td>0.0</td>\n",
       "      <td>0.0</td>\n",
       "    </tr>\n",
       "  </tbody>\n",
       "</table>\n",
       "<p>94 rows × 25 columns</p>\n",
       "</div>"
      ]
     },
     "execution_count": 25,
     "metadata": {},
     "output_type": "execute_result"
    }
   ],
   "execution_count": 25
  },
  {
   "metadata": {
    "ExecuteTime": {
     "end_time": "2024-10-12T21:31:45.751366Z",
     "start_time": "2024-10-12T21:31:43.762967Z"
    }
   },
   "cell_type": "code",
   "source": [
    "max_date = inters['datetime'].max()\n",
    "train_raw = inters[inters['datetime'] >= max_date - pd.Timedelta(days=22)].copy()\n",
    "train_raw = train_raw[train_raw['datetime'] <= max_date - pd.Timedelta(days=0)]\n",
    "test_raw = inters[inters['datetime'] > max_date - pd.Timedelta(days=3)].copy()"
   ],
   "id": "6133f4fbad1eeab6",
   "outputs": [],
   "execution_count": 26
  },
  {
   "metadata": {
    "ExecuteTime": {
     "end_time": "2024-10-12T21:31:45.795604Z",
     "start_time": "2024-10-12T21:31:45.794032Z"
    }
   },
   "cell_type": "code",
   "source": "",
   "id": "d7459139756b00da",
   "outputs": [],
   "execution_count": null
  },
  {
   "metadata": {
    "ExecuteTime": {
     "end_time": "2024-10-12T21:31:46.227326Z",
     "start_time": "2024-10-12T21:31:45.851777Z"
    }
   },
   "cell_type": "code",
   "source": [
    "train = train_raw.drop(columns=['datetime', 'item_id', 'pageId'])\n",
    "test = test_raw.drop(columns=['datetime', 'item_id', 'pageId'])"
   ],
   "id": "e8dcaf82a3c57b1b",
   "outputs": [],
   "execution_count": 27
  },
  {
   "metadata": {
    "ExecuteTime": {
     "end_time": "2024-10-12T21:31:46.290464Z",
     "start_time": "2024-10-12T21:31:46.256515Z"
    }
   },
   "cell_type": "code",
   "source": "test.sample()",
   "id": "f10f0ad22d9d7654",
   "outputs": [
    {
     "data": {
      "text/plain": [
       "                                      user_id  weight  category_id title  \\\n",
       "6338038  c35f7204-0864-11ee-a1c4-002590c82437       5            0   NaN   \n",
       "\n",
       "         day_of_week  price_diff  loc_user_count  category_id_count  \\\n",
       "6338038            4         0.0             115                115   \n",
       "\n",
       "         action_0_count  action_1_count  ...  action_4_count  action_5_count  \\\n",
       "6338038             0.0            77.0  ...             0.0            17.0   \n",
       "\n",
       "         action_6_count  action_7_count  action_8_count  action_9_count  \\\n",
       "6338038             2.0             0.0             2.0             0.0   \n",
       "\n",
       "         delta_sec  delta_day  delta_hour  delta_min  \n",
       "6338038        3.0        0.0         0.0        0.0  \n",
       "\n",
       "[1 rows x 22 columns]"
      ],
      "text/html": [
       "<div>\n",
       "<style scoped>\n",
       "    .dataframe tbody tr th:only-of-type {\n",
       "        vertical-align: middle;\n",
       "    }\n",
       "\n",
       "    .dataframe tbody tr th {\n",
       "        vertical-align: top;\n",
       "    }\n",
       "\n",
       "    .dataframe thead th {\n",
       "        text-align: right;\n",
       "    }\n",
       "</style>\n",
       "<table border=\"1\" class=\"dataframe\">\n",
       "  <thead>\n",
       "    <tr style=\"text-align: right;\">\n",
       "      <th></th>\n",
       "      <th>user_id</th>\n",
       "      <th>weight</th>\n",
       "      <th>category_id</th>\n",
       "      <th>title</th>\n",
       "      <th>day_of_week</th>\n",
       "      <th>price_diff</th>\n",
       "      <th>loc_user_count</th>\n",
       "      <th>category_id_count</th>\n",
       "      <th>action_0_count</th>\n",
       "      <th>action_1_count</th>\n",
       "      <th>...</th>\n",
       "      <th>action_4_count</th>\n",
       "      <th>action_5_count</th>\n",
       "      <th>action_6_count</th>\n",
       "      <th>action_7_count</th>\n",
       "      <th>action_8_count</th>\n",
       "      <th>action_9_count</th>\n",
       "      <th>delta_sec</th>\n",
       "      <th>delta_day</th>\n",
       "      <th>delta_hour</th>\n",
       "      <th>delta_min</th>\n",
       "    </tr>\n",
       "  </thead>\n",
       "  <tbody>\n",
       "    <tr>\n",
       "      <th>6338038</th>\n",
       "      <td>c35f7204-0864-11ee-a1c4-002590c82437</td>\n",
       "      <td>5</td>\n",
       "      <td>0</td>\n",
       "      <td>NaN</td>\n",
       "      <td>4</td>\n",
       "      <td>0.0</td>\n",
       "      <td>115</td>\n",
       "      <td>115</td>\n",
       "      <td>0.0</td>\n",
       "      <td>77.0</td>\n",
       "      <td>...</td>\n",
       "      <td>0.0</td>\n",
       "      <td>17.0</td>\n",
       "      <td>2.0</td>\n",
       "      <td>0.0</td>\n",
       "      <td>2.0</td>\n",
       "      <td>0.0</td>\n",
       "      <td>3.0</td>\n",
       "      <td>0.0</td>\n",
       "      <td>0.0</td>\n",
       "      <td>0.0</td>\n",
       "    </tr>\n",
       "  </tbody>\n",
       "</table>\n",
       "<p>1 rows × 22 columns</p>\n",
       "</div>"
      ]
     },
     "execution_count": 28,
     "metadata": {},
     "output_type": "execute_result"
    }
   ],
   "execution_count": 28
  },
  {
   "metadata": {
    "ExecuteTime": {
     "end_time": "2024-10-12T21:31:46.335582Z",
     "start_time": "2024-10-12T21:31:46.332589Z"
    }
   },
   "cell_type": "code",
   "source": "train.shape, test.shape",
   "id": "722b5abb87e64ce5",
   "outputs": [
    {
     "data": {
      "text/plain": [
       "((6858963, 22), (1062417, 22))"
      ]
     },
     "execution_count": 29,
     "metadata": {},
     "output_type": "execute_result"
    }
   ],
   "execution_count": 29
  },
  {
   "metadata": {},
   "cell_type": "markdown",
   "source": "### Классы не сбалансированы",
   "id": "88f18be740972951"
  },
  {
   "metadata": {
    "ExecuteTime": {
     "end_time": "2024-10-12T21:31:46.533381Z",
     "start_time": "2024-10-12T21:31:46.507858Z"
    }
   },
   "cell_type": "code",
   "source": "train.weight.value_counts()",
   "id": "d13fdeea693ba952",
   "outputs": [
    {
     "data": {
      "text/plain": [
       "weight\n",
       "1    4214660\n",
       "2    1041842\n",
       "5    1040483\n",
       "8     356922\n",
       "3      81142\n",
       "7      50120\n",
       "6      34672\n",
       "4      26951\n",
       "9      11802\n",
       "0        369\n",
       "Name: count, dtype: int64"
      ]
     },
     "execution_count": 30,
     "metadata": {},
     "output_type": "execute_result"
    }
   ],
   "execution_count": 30
  },
  {
   "metadata": {
    "ExecuteTime": {
     "end_time": "2024-10-12T21:31:46.626844Z",
     "start_time": "2024-10-12T21:31:46.624563Z"
    }
   },
   "cell_type": "code",
   "source": "",
   "id": "c8169b110162b331",
   "outputs": [],
   "execution_count": null
  },
  {
   "metadata": {},
   "cell_type": "markdown",
   "source": "### Кооректируем баланс классов",
   "id": "bde8dde057ea75de"
  },
  {
   "metadata": {
    "ExecuteTime": {
     "end_time": "2024-10-12T21:32:05.786093Z",
     "start_time": "2024-10-12T21:32:05.623469Z"
    }
   },
   "cell_type": "code",
   "source": [
    "train = train[train.weight.isin([0, 4, 3, 6, 7, 9])].drop_duplicates()\n",
    "train.shape"
   ],
   "id": "82dc937792de5",
   "outputs": [
    {
     "data": {
      "text/plain": [
       "(154138, 22)"
      ]
     },
     "execution_count": 31,
     "metadata": {},
     "output_type": "execute_result"
    }
   ],
   "execution_count": 31
  },
  {
   "metadata": {
    "ExecuteTime": {
     "end_time": "2024-10-12T21:32:12.866528Z",
     "start_time": "2024-10-12T21:32:12.656291Z"
    }
   },
   "cell_type": "code",
   "source": [
    "train_portion = pd.concat(\n",
    "    [\n",
    "        train[train.weight.isin([0, 1, 3, 6, 7, 9])],\n",
    "        train_raw.sample(154138)],\n",
    "    axis='rows'\n",
    ")"
   ],
   "id": "2d10066311257c1c",
   "outputs": [],
   "execution_count": 32
  },
  {
   "metadata": {
    "ExecuteTime": {
     "end_time": "2024-10-12T21:32:15.006334Z",
     "start_time": "2024-10-12T21:32:15.002515Z"
    }
   },
   "cell_type": "code",
   "source": "train_portion.weight.unique()",
   "id": "ad2e701c4dbea219",
   "outputs": [
    {
     "data": {
      "text/plain": [
       "array([0, 3, 6, 7, 9, 5, 1, 2, 8, 4])"
      ]
     },
     "execution_count": 33,
     "metadata": {},
     "output_type": "execute_result"
    }
   ],
   "execution_count": 33
  },
  {
   "metadata": {
    "ExecuteTime": {
     "end_time": "2024-10-12T21:32:18.935583Z",
     "start_time": "2024-10-12T21:32:18.933190Z"
    }
   },
   "cell_type": "code",
   "source": "",
   "id": "107e032de0d208b5",
   "outputs": [],
   "execution_count": null
  },
  {
   "metadata": {
    "ExecuteTime": {
     "end_time": "2024-10-12T21:32:24.985614Z",
     "start_time": "2024-10-12T21:32:20.977412Z"
    }
   },
   "cell_type": "code",
   "source": [
    "h2o.init(verbose=False)\n",
    "print(f'{h2o.cluster().show_status()}')\n",
    "h2o.no_progress()"
   ],
   "id": "8bfde335c2f8ef6f",
   "outputs": [
    {
     "data": {
      "text/plain": [
       "--------------------------  -----------------------------\n",
       "H2O_cluster_uptime:         01 secs\n",
       "H2O_cluster_timezone:       Europe/Moscow\n",
       "H2O_data_parsing_timezone:  UTC\n",
       "H2O_cluster_version:        3.46.0.5\n",
       "H2O_cluster_version_age:    1 month and 13 days\n",
       "H2O_cluster_name:           H2O_from_python_varsey_9q0qpv\n",
       "H2O_cluster_total_nodes:    1\n",
       "H2O_cluster_free_memory:    7.758 Gb\n",
       "H2O_cluster_total_cores:    20\n",
       "H2O_cluster_allowed_cores:  20\n",
       "H2O_cluster_status:         locked, healthy\n",
       "H2O_connection_url:         http://127.0.0.1:54321\n",
       "H2O_connection_proxy:       {\"http\": null, \"https\": null}\n",
       "H2O_internal_security:      False\n",
       "Python_version:             3.11.10 final\n",
       "--------------------------  -----------------------------"
      ],
      "text/html": [
       "\n",
       "<style>\n",
       "\n",
       "#h2o-table-1.h2o-container {\n",
       "  overflow-x: auto;\n",
       "}\n",
       "#h2o-table-1 .h2o-table {\n",
       "  /* width: 100%; */\n",
       "  margin-top: 1em;\n",
       "  margin-bottom: 1em;\n",
       "}\n",
       "#h2o-table-1 .h2o-table caption {\n",
       "  white-space: nowrap;\n",
       "  caption-side: top;\n",
       "  text-align: left;\n",
       "  /* margin-left: 1em; */\n",
       "  margin: 0;\n",
       "  font-size: larger;\n",
       "}\n",
       "#h2o-table-1 .h2o-table thead {\n",
       "  white-space: nowrap; \n",
       "  position: sticky;\n",
       "  top: 0;\n",
       "  box-shadow: 0 -1px inset;\n",
       "}\n",
       "#h2o-table-1 .h2o-table tbody {\n",
       "  overflow: auto;\n",
       "}\n",
       "#h2o-table-1 .h2o-table th,\n",
       "#h2o-table-1 .h2o-table td {\n",
       "  text-align: right;\n",
       "  /* border: 1px solid; */\n",
       "}\n",
       "#h2o-table-1 .h2o-table tr:nth-child(even) {\n",
       "  /* background: #F5F5F5 */\n",
       "}\n",
       "\n",
       "</style>      \n",
       "<div id=\"h2o-table-1\" class=\"h2o-container\">\n",
       "  <table class=\"h2o-table\">\n",
       "    <caption></caption>\n",
       "    <thead></thead>\n",
       "    <tbody><tr><td>H2O_cluster_uptime:</td>\n",
       "<td>01 secs</td></tr>\n",
       "<tr><td>H2O_cluster_timezone:</td>\n",
       "<td>Europe/Moscow</td></tr>\n",
       "<tr><td>H2O_data_parsing_timezone:</td>\n",
       "<td>UTC</td></tr>\n",
       "<tr><td>H2O_cluster_version:</td>\n",
       "<td>3.46.0.5</td></tr>\n",
       "<tr><td>H2O_cluster_version_age:</td>\n",
       "<td>1 month and 13 days</td></tr>\n",
       "<tr><td>H2O_cluster_name:</td>\n",
       "<td>H2O_from_python_varsey_9q0qpv</td></tr>\n",
       "<tr><td>H2O_cluster_total_nodes:</td>\n",
       "<td>1</td></tr>\n",
       "<tr><td>H2O_cluster_free_memory:</td>\n",
       "<td>7.758 Gb</td></tr>\n",
       "<tr><td>H2O_cluster_total_cores:</td>\n",
       "<td>20</td></tr>\n",
       "<tr><td>H2O_cluster_allowed_cores:</td>\n",
       "<td>20</td></tr>\n",
       "<tr><td>H2O_cluster_status:</td>\n",
       "<td>locked, healthy</td></tr>\n",
       "<tr><td>H2O_connection_url:</td>\n",
       "<td>http://127.0.0.1:54321</td></tr>\n",
       "<tr><td>H2O_connection_proxy:</td>\n",
       "<td>{\"http\": null, \"https\": null}</td></tr>\n",
       "<tr><td>H2O_internal_security:</td>\n",
       "<td>False</td></tr>\n",
       "<tr><td>Python_version:</td>\n",
       "<td>3.11.10 final</td></tr></tbody>\n",
       "  </table>\n",
       "</div>\n"
      ]
     },
     "metadata": {},
     "output_type": "display_data"
    },
    {
     "name": "stdout",
     "output_type": "stream",
     "text": [
      "None\n"
     ]
    }
   ],
   "execution_count": 34
  },
  {
   "metadata": {
    "ExecuteTime": {
     "end_time": "2024-10-12T21:32:30.175465Z",
     "start_time": "2024-10-12T21:32:30.171803Z"
    }
   },
   "cell_type": "code",
   "source": "test.shape",
   "id": "aa662d63daf2097d",
   "outputs": [
    {
     "data": {
      "text/plain": [
       "(1062417, 22)"
      ]
     },
     "execution_count": 35,
     "metadata": {},
     "output_type": "execute_result"
    }
   ],
   "execution_count": 35
  },
  {
   "metadata": {
    "ExecuteTime": {
     "end_time": "2024-10-12T21:32:45.314500Z",
     "start_time": "2024-10-12T21:32:36.761870Z"
    }
   },
   "cell_type": "code",
   "source": [
    "train_h2o = h2o.H2OFrame(train_portion)\n",
    "test_h2o = h2o.H2OFrame(test.sample(40_000))"
   ],
   "id": "40e3b6f6a7f48db9",
   "outputs": [],
   "execution_count": 36
  },
  {
   "metadata": {
    "ExecuteTime": {
     "end_time": "2024-10-12T21:32:45.342479Z",
     "start_time": "2024-10-12T21:32:45.339631Z"
    }
   },
   "cell_type": "code",
   "source": [
    "y = \"weight\"\n",
    "x = set(train_h2o.names) - set([y, 'user_id', 'shop_id', 'day', 'hour', 'pageId', 'datetime', 'item_id', 'is_useful', 'title'])\n",
    "x"
   ],
   "id": "c73df6245888fc01",
   "outputs": [
    {
     "data": {
      "text/plain": [
       "{'action_0_count',\n",
       " 'action_1_count',\n",
       " 'action_2_count',\n",
       " 'action_3_count',\n",
       " 'action_4_count',\n",
       " 'action_5_count',\n",
       " 'action_6_count',\n",
       " 'action_7_count',\n",
       " 'action_8_count',\n",
       " 'action_9_count',\n",
       " 'category_id',\n",
       " 'category_id_count',\n",
       " 'day_of_week',\n",
       " 'delta_day',\n",
       " 'delta_hour',\n",
       " 'delta_min',\n",
       " 'delta_sec',\n",
       " 'loc_user_count',\n",
       " 'price_diff'}"
      ]
     },
     "execution_count": 37,
     "metadata": {},
     "output_type": "execute_result"
    }
   ],
   "execution_count": 37
  },
  {
   "metadata": {
    "ExecuteTime": {
     "end_time": "2024-10-12T21:32:47.772253Z",
     "start_time": "2024-10-12T21:32:47.768334Z"
    }
   },
   "cell_type": "code",
   "source": [
    "train_h2o[y] = train_h2o[y].asfactor()\n",
    "test_h2o[y] = test_h2o[y].asfactor()"
   ],
   "id": "7fa7d7231c5b1a55",
   "outputs": [],
   "execution_count": 38
  },
  {
   "metadata": {
    "ExecuteTime": {
     "end_time": "2024-10-12T21:32:50.811462Z",
     "start_time": "2024-10-12T21:32:50.809081Z"
    }
   },
   "cell_type": "code",
   "source": [
    "train_h2o['category_id'] = train_h2o['category_id'].asfactor()\n",
    "test_h2o['category_id'] = test_h2o['category_id'].asfactor()"
   ],
   "id": "632976a09523b6a5",
   "outputs": [],
   "execution_count": 39
  },
  {
   "metadata": {},
   "cell_type": "markdown",
   "source": "### для снижения уровня рутины и фокусировки на цели - качесвтенных предсказаниях - используем automl",
   "id": "9339c35bb05f3d21"
  },
  {
   "metadata": {
    "ExecuteTime": {
     "end_time": "2024-10-12T21:33:16.361692Z",
     "start_time": "2024-10-12T21:32:50.873462Z"
    }
   },
   "cell_type": "code",
   "source": [
    "gbm_model = H2OGradientBoostingEstimator(seed=1234)\n",
    "gbm_model.train(x=list(x), y=y, training_frame = train_h2o,  validation_frame = test_h2o, max_runtime_secs=120)"
   ],
   "id": "3be5fd2b53fb9838",
   "outputs": [
    {
     "data": {
      "text/plain": [
       "Model Details\n",
       "=============\n",
       "H2OGradientBoostingEstimator : Gradient Boosting Machine\n",
       "Model Key: GBM_model_python_1728768742217_1\n",
       "\n",
       "\n",
       "Model Summary: \n",
       "    number_of_trees    number_of_internal_trees    model_size_in_bytes    min_depth    max_depth    mean_depth    min_leaves    max_leaves    mean_leaves\n",
       "--  -----------------  --------------------------  ---------------------  -----------  -----------  ------------  ------------  ------------  -------------\n",
       "    50                 500                         247495                 5            5            5             10            32            31.064\n",
       "\n",
       "ModelMetricsMultinomial: gbm\n",
       "** Reported on train data. **\n",
       "\n",
       "MSE: 0.241483570596226\n",
       "RMSE: 0.4914097786941424\n",
       "LogLoss: 0.7169530771075012\n",
       "Mean Per-Class Error: 0.5188193754347333\n",
       "AUC table was not computed: it is either disabled (model parameter 'auc_type' was set to AUTO or NONE) or the domain size exceeds the limit (maximum is 50 domains).\n",
       "AUCPR table was not computed: it is either disabled (model parameter 'auc_type' was set to AUTO or NONE) or the domain size exceeds the limit (maximum is 50 domains).\n",
       "\n",
       "Confusion Matrix: Row labels: Actual class; Column labels: Predicted class\n",
       "0    1       2    3      4    5      6      7      8     9     Error     Rate\n",
       "---  ------  ---  -----  ---  -----  -----  -----  ----  ----  --------  ----------------\n",
       "117  207     0    41     0    0      3      1      0     0     0.682927  252 / 369\n",
       "39   85078   304  8578   0    0      689    24     0     0     0.101719  9,634 / 94,712\n",
       "3    19260   403  3805   0    0      58     3      0     0     0.982874  23,129 / 23,532\n",
       "3    5284    0    30966  0    0      44     2      0     0     0.146919  5,333 / 36,299\n",
       "0    40      0    3      30   18     70     387    41    20    0.950739  579 / 609\n",
       "0    1765    0    274    0    14511  1540   4459   172   436   0.373364  8,646 / 23,157\n",
       "0    3124    0    282    0    286    27041  3583   148   120   0.218107  7,543 / 34,584\n",
       "2    2542    0    255    1    361    5411   38958  438   2210  0.223604  11,220 / 50,178\n",
       "0    481     0    80     1    270    570    4931   1360  375   0.831433  6,708 / 8,068\n",
       "0    471     0    88     0    78     860    5830   74    3539  0.676508  7,401 / 10,940\n",
       "164  118252  707  44372  32   15524  36286  58178  2233  6700  0.284813  80,445 / 282,448\n",
       "\n",
       "Top-10 Hit Ratios: \n",
       "k    hit_ratio\n",
       "---  -----------\n",
       "1    0.715187\n",
       "2    0.913892\n",
       "3    0.970912\n",
       "4    0.989803\n",
       "5    0.996707\n",
       "6    0.998867\n",
       "7    0.999689\n",
       "8    0.999968\n",
       "9    1\n",
       "10   1\n",
       "\n",
       "ModelMetricsMultinomial: gbm\n",
       "** Reported on validation data. **\n",
       "\n",
       "MSE: 0.25710342092079164\n",
       "RMSE: 0.5070536667067813\n",
       "LogLoss: 0.7735766374687079\n",
       "Mean Per-Class Error: 0.4635425726423022\n",
       "AUC table was not computed: it is either disabled (model parameter 'auc_type' was set to AUTO or NONE) or the domain size exceeds the limit (maximum is 50 domains).\n",
       "AUCPR table was not computed: it is either disabled (model parameter 'auc_type' was set to AUTO or NONE) or the domain size exceeds the limit (maximum is 50 domains).\n",
       "\n",
       "Confusion Matrix: Row labels: Actual class; Column labels: Predicted class\n",
       "0    1      2    3     4    5     6     7     8    9    Error     Rate\n",
       "---  -----  ---  ----  ---  ----  ----  ----  ---  ---  --------  ---------------\n",
       "1    0      0    0     0    0     0     0     0    0    0         0 / 1\n",
       "9    22380  88   1923  0    0     558   2     0    0    0.103365  2,580 / 24,960\n",
       "0    5102   108  909   0    0     62    3     0    0    0.982536  6,076 / 6,184\n",
       "0    54     0    361   0    0     0     0     0    0    0.13012   54 / 415\n",
       "0    1      0    1     0    3     9     72    11   0    1         97 / 97\n",
       "0    717    0    87    0    3780  517   892   38   81   0.381545  2,332 / 6,112\n",
       "0    83     0    3     0    1     226   19    0    1    0.321321  107 / 333\n",
       "0    5      0    0     0    2     35    187   2    6    0.21097   50 / 237\n",
       "0    70     0    18    2    51    150   1016  249  43   0.844278  1,350 / 1,599\n",
       "0    2      0    0     0    2     8     29    0    21   0.66129   41 / 62\n",
       "10   28414  196  3302  2    3839  1565  2220  300  152  0.317175  12,687 / 40,000\n",
       "\n",
       "Top-10 Hit Ratios: \n",
       "k    hit_ratio\n",
       "---  -----------\n",
       "1    0.682825\n",
       "2    0.8997\n",
       "3    0.9675\n",
       "4    0.988575\n",
       "5    0.995775\n",
       "6    0.998425\n",
       "7    0.999625\n",
       "8    0.999975\n",
       "9    1\n",
       "10   1\n",
       "\n",
       "Scoring History: \n",
       "    timestamp            duration    number_of_trees    training_rmse    training_logloss    training_classification_error    training_auc    training_pr_auc    validation_rmse    validation_logloss    validation_classification_error    validation_auc    validation_pr_auc\n",
       "--  -------------------  ----------  -----------------  ---------------  ------------------  -------------------------------  --------------  -----------------  -----------------  --------------------  ---------------------------------  ----------------  -------------------\n",
       "    2024-10-13 00:32:51  0.260 sec   0                  0.9              2.30259             0.81239                          nan             nan                0.9                2.30259               0.754525                           nan               nan\n",
       "    2024-10-13 00:32:54  2.933 sec   1                  0.842629         1.87817             0.316479                         nan             nan                0.840921           1.87269               0.348725                           nan               nan\n",
       "    2024-10-13 00:32:55  3.827 sec   2                  0.797763         1.65327             0.315109                         nan             nan                0.795581           1.65294               0.3462                             nan               nan\n",
       "    2024-10-13 00:32:55  4.297 sec   3                  0.758984         1.49604             0.314777                         nan             nan                0.756773           1.50093               0.34515                            nan               nan\n",
       "    2024-10-13 00:32:59  8.477 sec   13                 0.569615         0.933365            0.30618                          nan             nan                0.575459           0.970698              0.332175                           nan               nan\n",
       "    2024-10-13 00:33:04  13.084 sec  24                 0.518336         0.792587            0.298342                         nan             nan                0.529269           0.838482              0.328475                           nan               nan\n",
       "    2024-10-13 00:33:09  18.201 sec  36                 0.501201         0.743287            0.292666                         nan             nan                0.514314           0.793223              0.321675                           nan               nan\n",
       "    2024-10-13 00:33:14  23.693 sec  49                 0.491757         0.717868            0.285005                         nan             nan                0.507262           0.774037              0.317625                           nan               nan\n",
       "    2024-10-13 00:33:15  24.654 sec  50                 0.49141          0.716953            0.284813                         nan             nan                0.507054           0.773577              0.317175                           nan               nan\n",
       "\n",
       "Variable Importances: \n",
       "variable           relative_importance    scaled_importance    percentage\n",
       "-----------------  ---------------------  -------------------  ------------\n",
       "category_id        211528                 1                    0.433437\n",
       "action_6_count     77646.3                0.367074             0.159103\n",
       "action_3_count     55861.6                0.264086             0.114465\n",
       "action_7_count     50677.5                0.239578             0.103842\n",
       "action_1_count     22496.2                0.106351             0.0460963\n",
       "delta_min          19445.1                0.0919271            0.0398446\n",
       "delta_sec          11367.8                0.0537414            0.0232935\n",
       "action_8_count     9555.73                0.0451748            0.0195804\n",
       "action_9_count     9454                   0.0446939            0.019372\n",
       "loc_user_count     8091.76                0.0382539            0.0165806\n",
       "action_2_count     5351.82                0.0253008            0.0109663\n",
       "action_5_count     2974.92                0.014064             0.00609583\n",
       "price_diff         1210.14                0.00572095           0.00247967\n",
       "action_4_count     1014.15                0.0047944            0.00207807\n",
       "day_of_week        932.791                0.00440978           0.00191136\n",
       "action_0_count     193.764                0.00091602           0.000397037\n",
       "category_id_count  133.506                0.000631149          0.000273563\n",
       "delta_hour         79.0464                0.000373693          0.000161972\n",
       "delta_day          10.8007                5.10604e-05          2.21314e-05\n",
       "\n",
       "[tips]\n",
       "Use `model.explain()` to inspect the model.\n",
       "--\n",
       "Use `h2o.display.toggle_user_tips()` to switch on/off this section."
      ],
      "text/html": [
       "<pre style='margin: 1em 0 1em 0;'>Model Details\n",
       "=============\n",
       "H2OGradientBoostingEstimator : Gradient Boosting Machine\n",
       "Model Key: GBM_model_python_1728768742217_1\n",
       "</pre>\n",
       "<div style='margin: 1em 0 1em 0;'>\n",
       "<style>\n",
       "\n",
       "#h2o-table-2.h2o-container {\n",
       "  overflow-x: auto;\n",
       "}\n",
       "#h2o-table-2 .h2o-table {\n",
       "  /* width: 100%; */\n",
       "  margin-top: 1em;\n",
       "  margin-bottom: 1em;\n",
       "}\n",
       "#h2o-table-2 .h2o-table caption {\n",
       "  white-space: nowrap;\n",
       "  caption-side: top;\n",
       "  text-align: left;\n",
       "  /* margin-left: 1em; */\n",
       "  margin: 0;\n",
       "  font-size: larger;\n",
       "}\n",
       "#h2o-table-2 .h2o-table thead {\n",
       "  white-space: nowrap; \n",
       "  position: sticky;\n",
       "  top: 0;\n",
       "  box-shadow: 0 -1px inset;\n",
       "}\n",
       "#h2o-table-2 .h2o-table tbody {\n",
       "  overflow: auto;\n",
       "}\n",
       "#h2o-table-2 .h2o-table th,\n",
       "#h2o-table-2 .h2o-table td {\n",
       "  text-align: right;\n",
       "  /* border: 1px solid; */\n",
       "}\n",
       "#h2o-table-2 .h2o-table tr:nth-child(even) {\n",
       "  /* background: #F5F5F5 */\n",
       "}\n",
       "\n",
       "</style>      \n",
       "<div id=\"h2o-table-2\" class=\"h2o-container\">\n",
       "  <table class=\"h2o-table\">\n",
       "    <caption>Model Summary: </caption>\n",
       "    <thead><tr><th></th>\n",
       "<th>number_of_trees</th>\n",
       "<th>number_of_internal_trees</th>\n",
       "<th>model_size_in_bytes</th>\n",
       "<th>min_depth</th>\n",
       "<th>max_depth</th>\n",
       "<th>mean_depth</th>\n",
       "<th>min_leaves</th>\n",
       "<th>max_leaves</th>\n",
       "<th>mean_leaves</th></tr></thead>\n",
       "    <tbody><tr><td></td>\n",
       "<td>50.0</td>\n",
       "<td>500.0</td>\n",
       "<td>247495.0</td>\n",
       "<td>5.0</td>\n",
       "<td>5.0</td>\n",
       "<td>5.0</td>\n",
       "<td>10.0</td>\n",
       "<td>32.0</td>\n",
       "<td>31.064</td></tr></tbody>\n",
       "  </table>\n",
       "</div>\n",
       "</div>\n",
       "<div style='margin: 1em 0 1em 0;'><pre style='margin: 1em 0 1em 0;'>ModelMetricsMultinomial: gbm\n",
       "** Reported on train data. **\n",
       "\n",
       "MSE: 0.241483570596226\n",
       "RMSE: 0.4914097786941424\n",
       "LogLoss: 0.7169530771075012\n",
       "Mean Per-Class Error: 0.5188193754347333\n",
       "AUC table was not computed: it is either disabled (model parameter 'auc_type' was set to AUTO or NONE) or the domain size exceeds the limit (maximum is 50 domains).\n",
       "AUCPR table was not computed: it is either disabled (model parameter 'auc_type' was set to AUTO or NONE) or the domain size exceeds the limit (maximum is 50 domains).</pre>\n",
       "<div style='margin: 1em 0 1em 0;'>\n",
       "<style>\n",
       "\n",
       "#h2o-table-3.h2o-container {\n",
       "  overflow-x: auto;\n",
       "}\n",
       "#h2o-table-3 .h2o-table {\n",
       "  /* width: 100%; */\n",
       "  margin-top: 1em;\n",
       "  margin-bottom: 1em;\n",
       "}\n",
       "#h2o-table-3 .h2o-table caption {\n",
       "  white-space: nowrap;\n",
       "  caption-side: top;\n",
       "  text-align: left;\n",
       "  /* margin-left: 1em; */\n",
       "  margin: 0;\n",
       "  font-size: larger;\n",
       "}\n",
       "#h2o-table-3 .h2o-table thead {\n",
       "  white-space: nowrap; \n",
       "  position: sticky;\n",
       "  top: 0;\n",
       "  box-shadow: 0 -1px inset;\n",
       "}\n",
       "#h2o-table-3 .h2o-table tbody {\n",
       "  overflow: auto;\n",
       "}\n",
       "#h2o-table-3 .h2o-table th,\n",
       "#h2o-table-3 .h2o-table td {\n",
       "  text-align: right;\n",
       "  /* border: 1px solid; */\n",
       "}\n",
       "#h2o-table-3 .h2o-table tr:nth-child(even) {\n",
       "  /* background: #F5F5F5 */\n",
       "}\n",
       "\n",
       "</style>      \n",
       "<div id=\"h2o-table-3\" class=\"h2o-container\">\n",
       "  <table class=\"h2o-table\">\n",
       "    <caption>Confusion Matrix: Row labels: Actual class; Column labels: Predicted class</caption>\n",
       "    <thead><tr><th>0</th>\n",
       "<th>1</th>\n",
       "<th>2</th>\n",
       "<th>3</th>\n",
       "<th>4</th>\n",
       "<th>5</th>\n",
       "<th>6</th>\n",
       "<th>7</th>\n",
       "<th>8</th>\n",
       "<th>9</th>\n",
       "<th>Error</th>\n",
       "<th>Rate</th></tr></thead>\n",
       "    <tbody><tr><td>117.0</td>\n",
       "<td>207.0</td>\n",
       "<td>0.0</td>\n",
       "<td>41.0</td>\n",
       "<td>0.0</td>\n",
       "<td>0.0</td>\n",
       "<td>3.0</td>\n",
       "<td>1.0</td>\n",
       "<td>0.0</td>\n",
       "<td>0.0</td>\n",
       "<td>0.6829268</td>\n",
       "<td>252 / 369</td></tr>\n",
       "<tr><td>39.0</td>\n",
       "<td>85078.0</td>\n",
       "<td>304.0</td>\n",
       "<td>8578.0</td>\n",
       "<td>0.0</td>\n",
       "<td>0.0</td>\n",
       "<td>689.0</td>\n",
       "<td>24.0</td>\n",
       "<td>0.0</td>\n",
       "<td>0.0</td>\n",
       "<td>0.1017189</td>\n",
       "<td>9,634 / 94,712</td></tr>\n",
       "<tr><td>3.0</td>\n",
       "<td>19260.0</td>\n",
       "<td>403.0</td>\n",
       "<td>3805.0</td>\n",
       "<td>0.0</td>\n",
       "<td>0.0</td>\n",
       "<td>58.0</td>\n",
       "<td>3.0</td>\n",
       "<td>0.0</td>\n",
       "<td>0.0</td>\n",
       "<td>0.9828744</td>\n",
       "<td>23,129 / 23,532</td></tr>\n",
       "<tr><td>3.0</td>\n",
       "<td>5284.0</td>\n",
       "<td>0.0</td>\n",
       "<td>30966.0</td>\n",
       "<td>0.0</td>\n",
       "<td>0.0</td>\n",
       "<td>44.0</td>\n",
       "<td>2.0</td>\n",
       "<td>0.0</td>\n",
       "<td>0.0</td>\n",
       "<td>0.1469186</td>\n",
       "<td>5,333 / 36,299</td></tr>\n",
       "<tr><td>0.0</td>\n",
       "<td>40.0</td>\n",
       "<td>0.0</td>\n",
       "<td>3.0</td>\n",
       "<td>30.0</td>\n",
       "<td>18.0</td>\n",
       "<td>70.0</td>\n",
       "<td>387.0</td>\n",
       "<td>41.0</td>\n",
       "<td>20.0</td>\n",
       "<td>0.9507389</td>\n",
       "<td>579 / 609</td></tr>\n",
       "<tr><td>0.0</td>\n",
       "<td>1765.0</td>\n",
       "<td>0.0</td>\n",
       "<td>274.0</td>\n",
       "<td>0.0</td>\n",
       "<td>14511.0</td>\n",
       "<td>1540.0</td>\n",
       "<td>4459.0</td>\n",
       "<td>172.0</td>\n",
       "<td>436.0</td>\n",
       "<td>0.3733644</td>\n",
       "<td>8,646 / 23,157</td></tr>\n",
       "<tr><td>0.0</td>\n",
       "<td>3124.0</td>\n",
       "<td>0.0</td>\n",
       "<td>282.0</td>\n",
       "<td>0.0</td>\n",
       "<td>286.0</td>\n",
       "<td>27041.0</td>\n",
       "<td>3583.0</td>\n",
       "<td>148.0</td>\n",
       "<td>120.0</td>\n",
       "<td>0.2181066</td>\n",
       "<td>7,543 / 34,584</td></tr>\n",
       "<tr><td>2.0</td>\n",
       "<td>2542.0</td>\n",
       "<td>0.0</td>\n",
       "<td>255.0</td>\n",
       "<td>1.0</td>\n",
       "<td>361.0</td>\n",
       "<td>5411.0</td>\n",
       "<td>38958.0</td>\n",
       "<td>438.0</td>\n",
       "<td>2210.0</td>\n",
       "<td>0.2236040</td>\n",
       "<td>11,220 / 50,178</td></tr>\n",
       "<tr><td>0.0</td>\n",
       "<td>481.0</td>\n",
       "<td>0.0</td>\n",
       "<td>80.0</td>\n",
       "<td>1.0</td>\n",
       "<td>270.0</td>\n",
       "<td>570.0</td>\n",
       "<td>4931.0</td>\n",
       "<td>1360.0</td>\n",
       "<td>375.0</td>\n",
       "<td>0.8314328</td>\n",
       "<td>6,708 / 8,068</td></tr>\n",
       "<tr><td>0.0</td>\n",
       "<td>471.0</td>\n",
       "<td>0.0</td>\n",
       "<td>88.0</td>\n",
       "<td>0.0</td>\n",
       "<td>78.0</td>\n",
       "<td>860.0</td>\n",
       "<td>5830.0</td>\n",
       "<td>74.0</td>\n",
       "<td>3539.0</td>\n",
       "<td>0.6765082</td>\n",
       "<td>7,401 / 10,940</td></tr>\n",
       "<tr><td>164.0</td>\n",
       "<td>118252.0</td>\n",
       "<td>707.0</td>\n",
       "<td>44372.0</td>\n",
       "<td>32.0</td>\n",
       "<td>15524.0</td>\n",
       "<td>36286.0</td>\n",
       "<td>58178.0</td>\n",
       "<td>2233.0</td>\n",
       "<td>6700.0</td>\n",
       "<td>0.2848135</td>\n",
       "<td>80,445 / 282,448</td></tr></tbody>\n",
       "  </table>\n",
       "</div>\n",
       "</div>\n",
       "<div style='margin: 1em 0 1em 0;'>\n",
       "<style>\n",
       "\n",
       "#h2o-table-4.h2o-container {\n",
       "  overflow-x: auto;\n",
       "}\n",
       "#h2o-table-4 .h2o-table {\n",
       "  /* width: 100%; */\n",
       "  margin-top: 1em;\n",
       "  margin-bottom: 1em;\n",
       "}\n",
       "#h2o-table-4 .h2o-table caption {\n",
       "  white-space: nowrap;\n",
       "  caption-side: top;\n",
       "  text-align: left;\n",
       "  /* margin-left: 1em; */\n",
       "  margin: 0;\n",
       "  font-size: larger;\n",
       "}\n",
       "#h2o-table-4 .h2o-table thead {\n",
       "  white-space: nowrap; \n",
       "  position: sticky;\n",
       "  top: 0;\n",
       "  box-shadow: 0 -1px inset;\n",
       "}\n",
       "#h2o-table-4 .h2o-table tbody {\n",
       "  overflow: auto;\n",
       "}\n",
       "#h2o-table-4 .h2o-table th,\n",
       "#h2o-table-4 .h2o-table td {\n",
       "  text-align: right;\n",
       "  /* border: 1px solid; */\n",
       "}\n",
       "#h2o-table-4 .h2o-table tr:nth-child(even) {\n",
       "  /* background: #F5F5F5 */\n",
       "}\n",
       "\n",
       "</style>      \n",
       "<div id=\"h2o-table-4\" class=\"h2o-container\">\n",
       "  <table class=\"h2o-table\">\n",
       "    <caption>Top-10 Hit Ratios: </caption>\n",
       "    <thead><tr><th>k</th>\n",
       "<th>hit_ratio</th></tr></thead>\n",
       "    <tbody><tr><td>1</td>\n",
       "<td>0.7151865</td></tr>\n",
       "<tr><td>2</td>\n",
       "<td>0.9138922</td></tr>\n",
       "<tr><td>3</td>\n",
       "<td>0.9709115</td></tr>\n",
       "<tr><td>4</td>\n",
       "<td>0.9898035</td></tr>\n",
       "<tr><td>5</td>\n",
       "<td>0.9967074</td></tr>\n",
       "<tr><td>6</td>\n",
       "<td>0.9988672</td></tr>\n",
       "<tr><td>7</td>\n",
       "<td>0.9996886</td></tr>\n",
       "<tr><td>8</td>\n",
       "<td>0.9999683</td></tr>\n",
       "<tr><td>9</td>\n",
       "<td>1.0000001</td></tr>\n",
       "<tr><td>10</td>\n",
       "<td>1.0000001</td></tr></tbody>\n",
       "  </table>\n",
       "</div>\n",
       "</div></div>\n",
       "<div style='margin: 1em 0 1em 0;'><pre style='margin: 1em 0 1em 0;'>ModelMetricsMultinomial: gbm\n",
       "** Reported on validation data. **\n",
       "\n",
       "MSE: 0.25710342092079164\n",
       "RMSE: 0.5070536667067813\n",
       "LogLoss: 0.7735766374687079\n",
       "Mean Per-Class Error: 0.4635425726423022\n",
       "AUC table was not computed: it is either disabled (model parameter 'auc_type' was set to AUTO or NONE) or the domain size exceeds the limit (maximum is 50 domains).\n",
       "AUCPR table was not computed: it is either disabled (model parameter 'auc_type' was set to AUTO or NONE) or the domain size exceeds the limit (maximum is 50 domains).</pre>\n",
       "<div style='margin: 1em 0 1em 0;'>\n",
       "<style>\n",
       "\n",
       "#h2o-table-5.h2o-container {\n",
       "  overflow-x: auto;\n",
       "}\n",
       "#h2o-table-5 .h2o-table {\n",
       "  /* width: 100%; */\n",
       "  margin-top: 1em;\n",
       "  margin-bottom: 1em;\n",
       "}\n",
       "#h2o-table-5 .h2o-table caption {\n",
       "  white-space: nowrap;\n",
       "  caption-side: top;\n",
       "  text-align: left;\n",
       "  /* margin-left: 1em; */\n",
       "  margin: 0;\n",
       "  font-size: larger;\n",
       "}\n",
       "#h2o-table-5 .h2o-table thead {\n",
       "  white-space: nowrap; \n",
       "  position: sticky;\n",
       "  top: 0;\n",
       "  box-shadow: 0 -1px inset;\n",
       "}\n",
       "#h2o-table-5 .h2o-table tbody {\n",
       "  overflow: auto;\n",
       "}\n",
       "#h2o-table-5 .h2o-table th,\n",
       "#h2o-table-5 .h2o-table td {\n",
       "  text-align: right;\n",
       "  /* border: 1px solid; */\n",
       "}\n",
       "#h2o-table-5 .h2o-table tr:nth-child(even) {\n",
       "  /* background: #F5F5F5 */\n",
       "}\n",
       "\n",
       "</style>      \n",
       "<div id=\"h2o-table-5\" class=\"h2o-container\">\n",
       "  <table class=\"h2o-table\">\n",
       "    <caption>Confusion Matrix: Row labels: Actual class; Column labels: Predicted class</caption>\n",
       "    <thead><tr><th>0</th>\n",
       "<th>1</th>\n",
       "<th>2</th>\n",
       "<th>3</th>\n",
       "<th>4</th>\n",
       "<th>5</th>\n",
       "<th>6</th>\n",
       "<th>7</th>\n",
       "<th>8</th>\n",
       "<th>9</th>\n",
       "<th>Error</th>\n",
       "<th>Rate</th></tr></thead>\n",
       "    <tbody><tr><td>1.0</td>\n",
       "<td>0.0</td>\n",
       "<td>0.0</td>\n",
       "<td>0.0</td>\n",
       "<td>0.0</td>\n",
       "<td>0.0</td>\n",
       "<td>0.0</td>\n",
       "<td>0.0</td>\n",
       "<td>0.0</td>\n",
       "<td>0.0</td>\n",
       "<td>0.0</td>\n",
       "<td>0 / 1</td></tr>\n",
       "<tr><td>9.0</td>\n",
       "<td>22380.0</td>\n",
       "<td>88.0</td>\n",
       "<td>1923.0</td>\n",
       "<td>0.0</td>\n",
       "<td>0.0</td>\n",
       "<td>558.0</td>\n",
       "<td>2.0</td>\n",
       "<td>0.0</td>\n",
       "<td>0.0</td>\n",
       "<td>0.1033654</td>\n",
       "<td>2,580 / 24,960</td></tr>\n",
       "<tr><td>0.0</td>\n",
       "<td>5102.0</td>\n",
       "<td>108.0</td>\n",
       "<td>909.0</td>\n",
       "<td>0.0</td>\n",
       "<td>0.0</td>\n",
       "<td>62.0</td>\n",
       "<td>3.0</td>\n",
       "<td>0.0</td>\n",
       "<td>0.0</td>\n",
       "<td>0.9825356</td>\n",
       "<td>6,076 / 6,184</td></tr>\n",
       "<tr><td>0.0</td>\n",
       "<td>54.0</td>\n",
       "<td>0.0</td>\n",
       "<td>361.0</td>\n",
       "<td>0.0</td>\n",
       "<td>0.0</td>\n",
       "<td>0.0</td>\n",
       "<td>0.0</td>\n",
       "<td>0.0</td>\n",
       "<td>0.0</td>\n",
       "<td>0.1301205</td>\n",
       "<td>54 / 415</td></tr>\n",
       "<tr><td>0.0</td>\n",
       "<td>1.0</td>\n",
       "<td>0.0</td>\n",
       "<td>1.0</td>\n",
       "<td>0.0</td>\n",
       "<td>3.0</td>\n",
       "<td>9.0</td>\n",
       "<td>72.0</td>\n",
       "<td>11.0</td>\n",
       "<td>0.0</td>\n",
       "<td>1.0</td>\n",
       "<td>97 / 97</td></tr>\n",
       "<tr><td>0.0</td>\n",
       "<td>717.0</td>\n",
       "<td>0.0</td>\n",
       "<td>87.0</td>\n",
       "<td>0.0</td>\n",
       "<td>3780.0</td>\n",
       "<td>517.0</td>\n",
       "<td>892.0</td>\n",
       "<td>38.0</td>\n",
       "<td>81.0</td>\n",
       "<td>0.3815445</td>\n",
       "<td>2,332 / 6,112</td></tr>\n",
       "<tr><td>0.0</td>\n",
       "<td>83.0</td>\n",
       "<td>0.0</td>\n",
       "<td>3.0</td>\n",
       "<td>0.0</td>\n",
       "<td>1.0</td>\n",
       "<td>226.0</td>\n",
       "<td>19.0</td>\n",
       "<td>0.0</td>\n",
       "<td>1.0</td>\n",
       "<td>0.3213213</td>\n",
       "<td>107 / 333</td></tr>\n",
       "<tr><td>0.0</td>\n",
       "<td>5.0</td>\n",
       "<td>0.0</td>\n",
       "<td>0.0</td>\n",
       "<td>0.0</td>\n",
       "<td>2.0</td>\n",
       "<td>35.0</td>\n",
       "<td>187.0</td>\n",
       "<td>2.0</td>\n",
       "<td>6.0</td>\n",
       "<td>0.2109705</td>\n",
       "<td>50 / 237</td></tr>\n",
       "<tr><td>0.0</td>\n",
       "<td>70.0</td>\n",
       "<td>0.0</td>\n",
       "<td>18.0</td>\n",
       "<td>2.0</td>\n",
       "<td>51.0</td>\n",
       "<td>150.0</td>\n",
       "<td>1016.0</td>\n",
       "<td>249.0</td>\n",
       "<td>43.0</td>\n",
       "<td>0.8442777</td>\n",
       "<td>1,350 / 1,599</td></tr>\n",
       "<tr><td>0.0</td>\n",
       "<td>2.0</td>\n",
       "<td>0.0</td>\n",
       "<td>0.0</td>\n",
       "<td>0.0</td>\n",
       "<td>2.0</td>\n",
       "<td>8.0</td>\n",
       "<td>29.0</td>\n",
       "<td>0.0</td>\n",
       "<td>21.0</td>\n",
       "<td>0.6612903</td>\n",
       "<td>41 / 62</td></tr>\n",
       "<tr><td>10.0</td>\n",
       "<td>28414.0</td>\n",
       "<td>196.0</td>\n",
       "<td>3302.0</td>\n",
       "<td>2.0</td>\n",
       "<td>3839.0</td>\n",
       "<td>1565.0</td>\n",
       "<td>2220.0</td>\n",
       "<td>300.0</td>\n",
       "<td>152.0</td>\n",
       "<td>0.317175</td>\n",
       "<td>12,687 / 40,000</td></tr></tbody>\n",
       "  </table>\n",
       "</div>\n",
       "</div>\n",
       "<div style='margin: 1em 0 1em 0;'>\n",
       "<style>\n",
       "\n",
       "#h2o-table-6.h2o-container {\n",
       "  overflow-x: auto;\n",
       "}\n",
       "#h2o-table-6 .h2o-table {\n",
       "  /* width: 100%; */\n",
       "  margin-top: 1em;\n",
       "  margin-bottom: 1em;\n",
       "}\n",
       "#h2o-table-6 .h2o-table caption {\n",
       "  white-space: nowrap;\n",
       "  caption-side: top;\n",
       "  text-align: left;\n",
       "  /* margin-left: 1em; */\n",
       "  margin: 0;\n",
       "  font-size: larger;\n",
       "}\n",
       "#h2o-table-6 .h2o-table thead {\n",
       "  white-space: nowrap; \n",
       "  position: sticky;\n",
       "  top: 0;\n",
       "  box-shadow: 0 -1px inset;\n",
       "}\n",
       "#h2o-table-6 .h2o-table tbody {\n",
       "  overflow: auto;\n",
       "}\n",
       "#h2o-table-6 .h2o-table th,\n",
       "#h2o-table-6 .h2o-table td {\n",
       "  text-align: right;\n",
       "  /* border: 1px solid; */\n",
       "}\n",
       "#h2o-table-6 .h2o-table tr:nth-child(even) {\n",
       "  /* background: #F5F5F5 */\n",
       "}\n",
       "\n",
       "</style>      \n",
       "<div id=\"h2o-table-6\" class=\"h2o-container\">\n",
       "  <table class=\"h2o-table\">\n",
       "    <caption>Top-10 Hit Ratios: </caption>\n",
       "    <thead><tr><th>k</th>\n",
       "<th>hit_ratio</th></tr></thead>\n",
       "    <tbody><tr><td>1</td>\n",
       "<td>0.682825</td></tr>\n",
       "<tr><td>2</td>\n",
       "<td>0.8997000</td></tr>\n",
       "<tr><td>3</td>\n",
       "<td>0.9675000</td></tr>\n",
       "<tr><td>4</td>\n",
       "<td>0.9885750</td></tr>\n",
       "<tr><td>5</td>\n",
       "<td>0.9957750</td></tr>\n",
       "<tr><td>6</td>\n",
       "<td>0.9984251</td></tr>\n",
       "<tr><td>7</td>\n",
       "<td>0.9996251</td></tr>\n",
       "<tr><td>8</td>\n",
       "<td>0.9999751</td></tr>\n",
       "<tr><td>9</td>\n",
       "<td>1.0000001</td></tr>\n",
       "<tr><td>10</td>\n",
       "<td>1.0000001</td></tr></tbody>\n",
       "  </table>\n",
       "</div>\n",
       "</div></div>\n",
       "<div style='margin: 1em 0 1em 0;'>\n",
       "<style>\n",
       "\n",
       "#h2o-table-7.h2o-container {\n",
       "  overflow-x: auto;\n",
       "}\n",
       "#h2o-table-7 .h2o-table {\n",
       "  /* width: 100%; */\n",
       "  margin-top: 1em;\n",
       "  margin-bottom: 1em;\n",
       "}\n",
       "#h2o-table-7 .h2o-table caption {\n",
       "  white-space: nowrap;\n",
       "  caption-side: top;\n",
       "  text-align: left;\n",
       "  /* margin-left: 1em; */\n",
       "  margin: 0;\n",
       "  font-size: larger;\n",
       "}\n",
       "#h2o-table-7 .h2o-table thead {\n",
       "  white-space: nowrap; \n",
       "  position: sticky;\n",
       "  top: 0;\n",
       "  box-shadow: 0 -1px inset;\n",
       "}\n",
       "#h2o-table-7 .h2o-table tbody {\n",
       "  overflow: auto;\n",
       "}\n",
       "#h2o-table-7 .h2o-table th,\n",
       "#h2o-table-7 .h2o-table td {\n",
       "  text-align: right;\n",
       "  /* border: 1px solid; */\n",
       "}\n",
       "#h2o-table-7 .h2o-table tr:nth-child(even) {\n",
       "  /* background: #F5F5F5 */\n",
       "}\n",
       "\n",
       "</style>      \n",
       "<div id=\"h2o-table-7\" class=\"h2o-container\">\n",
       "  <table class=\"h2o-table\">\n",
       "    <caption>Scoring History: </caption>\n",
       "    <thead><tr><th></th>\n",
       "<th>timestamp</th>\n",
       "<th>duration</th>\n",
       "<th>number_of_trees</th>\n",
       "<th>training_rmse</th>\n",
       "<th>training_logloss</th>\n",
       "<th>training_classification_error</th>\n",
       "<th>training_auc</th>\n",
       "<th>training_pr_auc</th>\n",
       "<th>validation_rmse</th>\n",
       "<th>validation_logloss</th>\n",
       "<th>validation_classification_error</th>\n",
       "<th>validation_auc</th>\n",
       "<th>validation_pr_auc</th></tr></thead>\n",
       "    <tbody><tr><td></td>\n",
       "<td>2024-10-13 00:32:51</td>\n",
       "<td> 0.260 sec</td>\n",
       "<td>0.0</td>\n",
       "<td>0.9000000</td>\n",
       "<td>2.3025851</td>\n",
       "<td>0.8123902</td>\n",
       "<td>nan</td>\n",
       "<td>nan</td>\n",
       "<td>0.9000000</td>\n",
       "<td>2.3025851</td>\n",
       "<td>0.754525</td>\n",
       "<td>nan</td>\n",
       "<td>nan</td></tr>\n",
       "<tr><td></td>\n",
       "<td>2024-10-13 00:32:54</td>\n",
       "<td> 2.933 sec</td>\n",
       "<td>1.0</td>\n",
       "<td>0.8426293</td>\n",
       "<td>1.8781714</td>\n",
       "<td>0.3164795</td>\n",
       "<td>nan</td>\n",
       "<td>nan</td>\n",
       "<td>0.8409215</td>\n",
       "<td>1.8726936</td>\n",
       "<td>0.348725</td>\n",
       "<td>nan</td>\n",
       "<td>nan</td></tr>\n",
       "<tr><td></td>\n",
       "<td>2024-10-13 00:32:55</td>\n",
       "<td> 3.827 sec</td>\n",
       "<td>2.0</td>\n",
       "<td>0.7977634</td>\n",
       "<td>1.6532750</td>\n",
       "<td>0.3151093</td>\n",
       "<td>nan</td>\n",
       "<td>nan</td>\n",
       "<td>0.7955815</td>\n",
       "<td>1.6529437</td>\n",
       "<td>0.3462</td>\n",
       "<td>nan</td>\n",
       "<td>nan</td></tr>\n",
       "<tr><td></td>\n",
       "<td>2024-10-13 00:32:55</td>\n",
       "<td> 4.297 sec</td>\n",
       "<td>3.0</td>\n",
       "<td>0.7589843</td>\n",
       "<td>1.4960444</td>\n",
       "<td>0.3147765</td>\n",
       "<td>nan</td>\n",
       "<td>nan</td>\n",
       "<td>0.7567727</td>\n",
       "<td>1.5009332</td>\n",
       "<td>0.34515</td>\n",
       "<td>nan</td>\n",
       "<td>nan</td></tr>\n",
       "<tr><td></td>\n",
       "<td>2024-10-13 00:32:59</td>\n",
       "<td> 8.477 sec</td>\n",
       "<td>13.0</td>\n",
       "<td>0.5696154</td>\n",
       "<td>0.9333646</td>\n",
       "<td>0.3061803</td>\n",
       "<td>nan</td>\n",
       "<td>nan</td>\n",
       "<td>0.5754589</td>\n",
       "<td>0.9706975</td>\n",
       "<td>0.332175</td>\n",
       "<td>nan</td>\n",
       "<td>nan</td></tr>\n",
       "<tr><td></td>\n",
       "<td>2024-10-13 00:33:04</td>\n",
       "<td>13.084 sec</td>\n",
       "<td>24.0</td>\n",
       "<td>0.5183363</td>\n",
       "<td>0.7925869</td>\n",
       "<td>0.2983416</td>\n",
       "<td>nan</td>\n",
       "<td>nan</td>\n",
       "<td>0.5292690</td>\n",
       "<td>0.8384825</td>\n",
       "<td>0.328475</td>\n",
       "<td>nan</td>\n",
       "<td>nan</td></tr>\n",
       "<tr><td></td>\n",
       "<td>2024-10-13 00:33:09</td>\n",
       "<td>18.201 sec</td>\n",
       "<td>36.0</td>\n",
       "<td>0.5012005</td>\n",
       "<td>0.7432872</td>\n",
       "<td>0.2926663</td>\n",
       "<td>nan</td>\n",
       "<td>nan</td>\n",
       "<td>0.5143144</td>\n",
       "<td>0.7932226</td>\n",
       "<td>0.321675</td>\n",
       "<td>nan</td>\n",
       "<td>nan</td></tr>\n",
       "<tr><td></td>\n",
       "<td>2024-10-13 00:33:14</td>\n",
       "<td>23.693 sec</td>\n",
       "<td>49.0</td>\n",
       "<td>0.4917572</td>\n",
       "<td>0.7178684</td>\n",
       "<td>0.2850047</td>\n",
       "<td>nan</td>\n",
       "<td>nan</td>\n",
       "<td>0.5072622</td>\n",
       "<td>0.7740365</td>\n",
       "<td>0.317625</td>\n",
       "<td>nan</td>\n",
       "<td>nan</td></tr>\n",
       "<tr><td></td>\n",
       "<td>2024-10-13 00:33:15</td>\n",
       "<td>24.654 sec</td>\n",
       "<td>50.0</td>\n",
       "<td>0.4914098</td>\n",
       "<td>0.7169531</td>\n",
       "<td>0.2848135</td>\n",
       "<td>nan</td>\n",
       "<td>nan</td>\n",
       "<td>0.5070537</td>\n",
       "<td>0.7735766</td>\n",
       "<td>0.317175</td>\n",
       "<td>nan</td>\n",
       "<td>nan</td></tr></tbody>\n",
       "  </table>\n",
       "</div>\n",
       "</div>\n",
       "<div style='margin: 1em 0 1em 0;'>\n",
       "<style>\n",
       "\n",
       "#h2o-table-8.h2o-container {\n",
       "  overflow-x: auto;\n",
       "}\n",
       "#h2o-table-8 .h2o-table {\n",
       "  /* width: 100%; */\n",
       "  margin-top: 1em;\n",
       "  margin-bottom: 1em;\n",
       "}\n",
       "#h2o-table-8 .h2o-table caption {\n",
       "  white-space: nowrap;\n",
       "  caption-side: top;\n",
       "  text-align: left;\n",
       "  /* margin-left: 1em; */\n",
       "  margin: 0;\n",
       "  font-size: larger;\n",
       "}\n",
       "#h2o-table-8 .h2o-table thead {\n",
       "  white-space: nowrap; \n",
       "  position: sticky;\n",
       "  top: 0;\n",
       "  box-shadow: 0 -1px inset;\n",
       "}\n",
       "#h2o-table-8 .h2o-table tbody {\n",
       "  overflow: auto;\n",
       "}\n",
       "#h2o-table-8 .h2o-table th,\n",
       "#h2o-table-8 .h2o-table td {\n",
       "  text-align: right;\n",
       "  /* border: 1px solid; */\n",
       "}\n",
       "#h2o-table-8 .h2o-table tr:nth-child(even) {\n",
       "  /* background: #F5F5F5 */\n",
       "}\n",
       "\n",
       "</style>      \n",
       "<div id=\"h2o-table-8\" class=\"h2o-container\">\n",
       "  <table class=\"h2o-table\">\n",
       "    <caption>Variable Importances: </caption>\n",
       "    <thead><tr><th>variable</th>\n",
       "<th>relative_importance</th>\n",
       "<th>scaled_importance</th>\n",
       "<th>percentage</th></tr></thead>\n",
       "    <tbody><tr><td>category_id</td>\n",
       "<td>211527.7656250</td>\n",
       "<td>1.0</td>\n",
       "<td>0.4334366</td></tr>\n",
       "<tr><td>action_6_count</td>\n",
       "<td>77646.3281250</td>\n",
       "<td>0.3670739</td>\n",
       "<td>0.1591033</td></tr>\n",
       "<tr><td>action_3_count</td>\n",
       "<td>55861.6054688</td>\n",
       "<td>0.2640864</td>\n",
       "<td>0.1144647</td></tr>\n",
       "<tr><td>action_7_count</td>\n",
       "<td>50677.4921875</td>\n",
       "<td>0.2395784</td>\n",
       "<td>0.1038421</td></tr>\n",
       "<tr><td>action_1_count</td>\n",
       "<td>22496.1562500</td>\n",
       "<td>0.1063508</td>\n",
       "<td>0.0460963</td></tr>\n",
       "<tr><td>delta_min</td>\n",
       "<td>19445.125</td>\n",
       "<td>0.0919271</td>\n",
       "<td>0.0398446</td></tr>\n",
       "<tr><td>delta_sec</td>\n",
       "<td>11367.8076172</td>\n",
       "<td>0.0537414</td>\n",
       "<td>0.0232935</td></tr>\n",
       "<tr><td>action_8_count</td>\n",
       "<td>9555.7275391</td>\n",
       "<td>0.0451748</td>\n",
       "<td>0.0195804</td></tr>\n",
       "<tr><td>action_9_count</td>\n",
       "<td>9454.0019531</td>\n",
       "<td>0.0446939</td>\n",
       "<td>0.0193720</td></tr>\n",
       "<tr><td>loc_user_count</td>\n",
       "<td>8091.7602539</td>\n",
       "<td>0.0382539</td>\n",
       "<td>0.0165806</td></tr>\n",
       "<tr><td>action_2_count</td>\n",
       "<td>5351.8237305</td>\n",
       "<td>0.0253008</td>\n",
       "<td>0.0109663</td></tr>\n",
       "<tr><td>action_5_count</td>\n",
       "<td>2974.9169922</td>\n",
       "<td>0.0140640</td>\n",
       "<td>0.0060958</td></tr>\n",
       "<tr><td>price_diff</td>\n",
       "<td>1210.1391602</td>\n",
       "<td>0.0057209</td>\n",
       "<td>0.0024797</td></tr>\n",
       "<tr><td>action_4_count</td>\n",
       "<td>1014.1485596</td>\n",
       "<td>0.0047944</td>\n",
       "<td>0.0020781</td></tr>\n",
       "<tr><td>day_of_week</td>\n",
       "<td>932.7905884</td>\n",
       "<td>0.0044098</td>\n",
       "<td>0.0019114</td></tr>\n",
       "<tr><td>action_0_count</td>\n",
       "<td>193.7636719</td>\n",
       "<td>0.0009160</td>\n",
       "<td>0.0003970</td></tr>\n",
       "<tr><td>category_id_count</td>\n",
       "<td>133.5056000</td>\n",
       "<td>0.0006311</td>\n",
       "<td>0.0002736</td></tr>\n",
       "<tr><td>delta_hour</td>\n",
       "<td>79.0463562</td>\n",
       "<td>0.0003737</td>\n",
       "<td>0.0001620</td></tr>\n",
       "<tr><td>delta_day</td>\n",
       "<td>10.8006926</td>\n",
       "<td>0.0000511</td>\n",
       "<td>0.0000221</td></tr></tbody>\n",
       "  </table>\n",
       "</div>\n",
       "</div><pre style=\"font-size: smaller; margin: 1em 0 0 0;\">\n",
       "\n",
       "[tips]\n",
       "Use `model.explain()` to inspect the model.\n",
       "--\n",
       "Use `h2o.display.toggle_user_tips()` to switch on/off this section.</pre>"
      ]
     },
     "execution_count": 40,
     "metadata": {},
     "output_type": "execute_result"
    }
   ],
   "execution_count": 40
  },
  {
   "metadata": {
    "ExecuteTime": {
     "end_time": "2024-10-12T21:33:18.198552Z",
     "start_time": "2024-10-12T21:33:18.197095Z"
    }
   },
   "cell_type": "code",
   "source": "",
   "id": "25b2e7ebc47bafe4",
   "outputs": [],
   "execution_count": null
  },
  {
   "metadata": {
    "ExecuteTime": {
     "end_time": "2024-10-12T21:33:19.697206Z",
     "start_time": "2024-10-12T21:33:19.695090Z"
    }
   },
   "cell_type": "code",
   "source": "# gbm_model.model_performance(test_h2o)",
   "id": "df542bafe3b785fb",
   "outputs": [],
   "execution_count": 41
  },
  {
   "metadata": {
    "ExecuteTime": {
     "end_time": "2024-10-12T21:33:21.326535Z",
     "start_time": "2024-10-12T21:33:21.319112Z"
    }
   },
   "cell_type": "code",
   "source": "gbm_model.varimp(use_pandas=True)",
   "id": "eabbc1198fbe0869",
   "outputs": [
    {
     "data": {
      "text/plain": [
       "             variable  relative_importance  scaled_importance  percentage\n",
       "0         category_id        211527.765625           1.000000    0.433437\n",
       "1      action_6_count         77646.328125           0.367074    0.159103\n",
       "2      action_3_count         55861.605469           0.264086    0.114465\n",
       "3      action_7_count         50677.492188           0.239578    0.103842\n",
       "4      action_1_count         22496.156250           0.106351    0.046096\n",
       "5           delta_min         19445.125000           0.091927    0.039845\n",
       "6           delta_sec         11367.807617           0.053741    0.023294\n",
       "7      action_8_count          9555.727539           0.045175    0.019580\n",
       "8      action_9_count          9454.001953           0.044694    0.019372\n",
       "9      loc_user_count          8091.760254           0.038254    0.016581\n",
       "10     action_2_count          5351.823730           0.025301    0.010966\n",
       "11     action_5_count          2974.916992           0.014064    0.006096\n",
       "12         price_diff          1210.139160           0.005721    0.002480\n",
       "13     action_4_count          1014.148560           0.004794    0.002078\n",
       "14        day_of_week           932.790588           0.004410    0.001911\n",
       "15     action_0_count           193.763672           0.000916    0.000397\n",
       "16  category_id_count           133.505600           0.000631    0.000274\n",
       "17         delta_hour            79.046356           0.000374    0.000162\n",
       "18          delta_day            10.800693           0.000051    0.000022"
      ],
      "text/html": [
       "<div>\n",
       "<style scoped>\n",
       "    .dataframe tbody tr th:only-of-type {\n",
       "        vertical-align: middle;\n",
       "    }\n",
       "\n",
       "    .dataframe tbody tr th {\n",
       "        vertical-align: top;\n",
       "    }\n",
       "\n",
       "    .dataframe thead th {\n",
       "        text-align: right;\n",
       "    }\n",
       "</style>\n",
       "<table border=\"1\" class=\"dataframe\">\n",
       "  <thead>\n",
       "    <tr style=\"text-align: right;\">\n",
       "      <th></th>\n",
       "      <th>variable</th>\n",
       "      <th>relative_importance</th>\n",
       "      <th>scaled_importance</th>\n",
       "      <th>percentage</th>\n",
       "    </tr>\n",
       "  </thead>\n",
       "  <tbody>\n",
       "    <tr>\n",
       "      <th>0</th>\n",
       "      <td>category_id</td>\n",
       "      <td>211527.765625</td>\n",
       "      <td>1.000000</td>\n",
       "      <td>0.433437</td>\n",
       "    </tr>\n",
       "    <tr>\n",
       "      <th>1</th>\n",
       "      <td>action_6_count</td>\n",
       "      <td>77646.328125</td>\n",
       "      <td>0.367074</td>\n",
       "      <td>0.159103</td>\n",
       "    </tr>\n",
       "    <tr>\n",
       "      <th>2</th>\n",
       "      <td>action_3_count</td>\n",
       "      <td>55861.605469</td>\n",
       "      <td>0.264086</td>\n",
       "      <td>0.114465</td>\n",
       "    </tr>\n",
       "    <tr>\n",
       "      <th>3</th>\n",
       "      <td>action_7_count</td>\n",
       "      <td>50677.492188</td>\n",
       "      <td>0.239578</td>\n",
       "      <td>0.103842</td>\n",
       "    </tr>\n",
       "    <tr>\n",
       "      <th>4</th>\n",
       "      <td>action_1_count</td>\n",
       "      <td>22496.156250</td>\n",
       "      <td>0.106351</td>\n",
       "      <td>0.046096</td>\n",
       "    </tr>\n",
       "    <tr>\n",
       "      <th>5</th>\n",
       "      <td>delta_min</td>\n",
       "      <td>19445.125000</td>\n",
       "      <td>0.091927</td>\n",
       "      <td>0.039845</td>\n",
       "    </tr>\n",
       "    <tr>\n",
       "      <th>6</th>\n",
       "      <td>delta_sec</td>\n",
       "      <td>11367.807617</td>\n",
       "      <td>0.053741</td>\n",
       "      <td>0.023294</td>\n",
       "    </tr>\n",
       "    <tr>\n",
       "      <th>7</th>\n",
       "      <td>action_8_count</td>\n",
       "      <td>9555.727539</td>\n",
       "      <td>0.045175</td>\n",
       "      <td>0.019580</td>\n",
       "    </tr>\n",
       "    <tr>\n",
       "      <th>8</th>\n",
       "      <td>action_9_count</td>\n",
       "      <td>9454.001953</td>\n",
       "      <td>0.044694</td>\n",
       "      <td>0.019372</td>\n",
       "    </tr>\n",
       "    <tr>\n",
       "      <th>9</th>\n",
       "      <td>loc_user_count</td>\n",
       "      <td>8091.760254</td>\n",
       "      <td>0.038254</td>\n",
       "      <td>0.016581</td>\n",
       "    </tr>\n",
       "    <tr>\n",
       "      <th>10</th>\n",
       "      <td>action_2_count</td>\n",
       "      <td>5351.823730</td>\n",
       "      <td>0.025301</td>\n",
       "      <td>0.010966</td>\n",
       "    </tr>\n",
       "    <tr>\n",
       "      <th>11</th>\n",
       "      <td>action_5_count</td>\n",
       "      <td>2974.916992</td>\n",
       "      <td>0.014064</td>\n",
       "      <td>0.006096</td>\n",
       "    </tr>\n",
       "    <tr>\n",
       "      <th>12</th>\n",
       "      <td>price_diff</td>\n",
       "      <td>1210.139160</td>\n",
       "      <td>0.005721</td>\n",
       "      <td>0.002480</td>\n",
       "    </tr>\n",
       "    <tr>\n",
       "      <th>13</th>\n",
       "      <td>action_4_count</td>\n",
       "      <td>1014.148560</td>\n",
       "      <td>0.004794</td>\n",
       "      <td>0.002078</td>\n",
       "    </tr>\n",
       "    <tr>\n",
       "      <th>14</th>\n",
       "      <td>day_of_week</td>\n",
       "      <td>932.790588</td>\n",
       "      <td>0.004410</td>\n",
       "      <td>0.001911</td>\n",
       "    </tr>\n",
       "    <tr>\n",
       "      <th>15</th>\n",
       "      <td>action_0_count</td>\n",
       "      <td>193.763672</td>\n",
       "      <td>0.000916</td>\n",
       "      <td>0.000397</td>\n",
       "    </tr>\n",
       "    <tr>\n",
       "      <th>16</th>\n",
       "      <td>category_id_count</td>\n",
       "      <td>133.505600</td>\n",
       "      <td>0.000631</td>\n",
       "      <td>0.000274</td>\n",
       "    </tr>\n",
       "    <tr>\n",
       "      <th>17</th>\n",
       "      <td>delta_hour</td>\n",
       "      <td>79.046356</td>\n",
       "      <td>0.000374</td>\n",
       "      <td>0.000162</td>\n",
       "    </tr>\n",
       "    <tr>\n",
       "      <th>18</th>\n",
       "      <td>delta_day</td>\n",
       "      <td>10.800693</td>\n",
       "      <td>0.000051</td>\n",
       "      <td>0.000022</td>\n",
       "    </tr>\n",
       "  </tbody>\n",
       "</table>\n",
       "</div>"
      ]
     },
     "execution_count": 42,
     "metadata": {},
     "output_type": "execute_result"
    }
   ],
   "execution_count": 42
  },
  {
   "metadata": {},
   "cell_type": "markdown",
   "source": "#### Расчитываем recall для локальных тестов",
   "id": "3bdeed0fc9e5677a"
  },
  {
   "metadata": {},
   "cell_type": "markdown",
   "source": "",
   "id": "f352074171c4f945"
  },
  {
   "metadata": {},
   "cell_type": "markdown",
   "source": "#### Тестовые данные - три дня и ключевое событие - 9 (заказ)",
   "id": "ff1086bd6fdb731a"
  },
  {
   "metadata": {
    "ExecuteTime": {
     "end_time": "2024-10-12T21:33:31.201228Z",
     "start_time": "2024-10-12T21:33:30.250759Z"
    }
   },
   "cell_type": "code",
   "source": [
    "last_3_days = inters['datetime'].max() - pd.Timedelta(3, unit='D')\n",
    "last_13_days = inters['datetime'].max() - pd.Timedelta(0, unit='D')\n",
    "test_purchasers = inters.sort_values(by=['datetime', 'weight'], ascending=True)\n",
    "test_purchasers = test_purchasers[\n",
    "    (test_purchasers['weight'] == 9) \n",
    "    & (test_purchasers['datetime'] > last_3_days)\n",
    "    & (test_purchasers['datetime'] < last_13_days)\n",
    "]\n",
    "print(test_purchasers['datetime'].max(), test_purchasers['datetime'].min(),)\n",
    "test_purchasers = test_purchasers.groupby(['user_id'])['item_id'].apply(processing)\n",
    "test_purchasers = test_purchasers.reset_index()\n",
    "test_purchasers.shape"
   ],
   "id": "3be5212427a6c914",
   "outputs": [
    {
     "name": "stdout",
     "output_type": "stream",
     "text": [
      "2024-09-28 23:46:12 2024-09-26 00:38:57\n"
     ]
    },
    {
     "data": {
      "text/plain": [
       "(496, 2)"
      ]
     },
     "execution_count": 43,
     "metadata": {},
     "output_type": "execute_result"
    }
   ],
   "execution_count": 43
  },
  {
   "metadata": {
    "ExecuteTime": {
     "end_time": "2024-10-12T22:25:48.216186Z",
     "start_time": "2024-10-12T22:25:46.756498Z"
    }
   },
   "cell_type": "code",
   "source": [
    "# Предсказания фильтрацией\n",
    "last_3_days = inters['datetime'].max() - pd.Timedelta(0, unit='D')\n",
    "last_8_days = inters['datetime'].max() - pd.Timedelta(3*24, unit='hours')\n",
    "pred_purchasers = inters.sort_values(by=['datetime', 'weight'], ascending=True)\n",
    "pred_purchasers = pred_purchasers[\n",
    "    (pred_purchasers['weight'].isin([8, 1, 0, 4]))\n",
    "    & (pred_purchasers['datetime'] > last_8_days)\n",
    "    & (pred_purchasers['datetime'] < last_3_days)\n",
    "    & (\n",
    "            (pred_purchasers.action_7_count > 50) \n",
    "            | (pred_purchasers.action_8_count > 20) \n",
    "            | (pred_purchasers.action_9_count > 1) \n",
    "            # & (pred_purchasers.action_6_count > 0) \n",
    "            # & (pred_purchasers.action_3_count > 0)\n",
    "    )\n",
    "]\n",
    "pred_purchasers = pred_purchasers.groupby(['user_id'])['item_id'].apply(processing)\n",
    "pred_purchasers = pred_purchasers.reset_index()\n",
    "pred_purchasers.shape"
   ],
   "id": "398943f556385638",
   "outputs": [
    {
     "data": {
      "text/plain": [
       "(1883, 2)"
      ]
     },
     "execution_count": 379,
     "metadata": {},
     "output_type": "execute_result"
    }
   ],
   "execution_count": 379
  },
  {
   "metadata": {
    "ExecuteTime": {
     "end_time": "2024-10-12T22:25:51.936075Z",
     "start_time": "2024-10-12T22:25:51.932728Z"
    }
   },
   "cell_type": "code",
   "source": [
    "# Проверяем сколько пользователей из теста удалось \"зацепить\" фильтрацией\n",
    "pred_purchasers[pred_purchasers.user_id.isin(test_purchasers.user_id.unique())].shape"
   ],
   "id": "29e94d0446632ec2",
   "outputs": [
    {
     "data": {
      "text/plain": [
       "(341, 2)"
      ]
     },
     "execution_count": 380,
     "metadata": {},
     "output_type": "execute_result"
    }
   ],
   "execution_count": 380
  },
  {
   "metadata": {
    "ExecuteTime": {
     "end_time": "2024-10-12T22:25:52.037130Z",
     "start_time": "2024-10-12T22:25:52.031403Z"
    }
   },
   "cell_type": "code",
   "source": [
    "check_merge = test_purchasers.merge(pred_purchasers[-3000:], on='user_id', how='left')\n",
    "check_merge.item_id_y.loc[check_merge.item_id_y.isnull()] = check_merge.item_id_y.loc[check_merge.item_id_y.isnull()].apply(lambda x: [])\n",
    "check_merge.shape"
   ],
   "id": "a33904fee2d14bfb",
   "outputs": [
    {
     "data": {
      "text/plain": [
       "(496, 3)"
      ]
     },
     "execution_count": 381,
     "metadata": {},
     "output_type": "execute_result"
    }
   ],
   "execution_count": 381
  },
  {
   "metadata": {
    "ExecuteTime": {
     "end_time": "2024-10-12T22:25:55.161438Z",
     "start_time": "2024-10-12T22:25:55.157114Z"
    }
   },
   "cell_type": "code",
   "source": "check_merge.sample(3)",
   "id": "b7da4fd1f665a549",
   "outputs": [
    {
     "data": {
      "text/plain": [
       "                                  user_id           item_id_x  \\\n",
       "382  c0c46e2a-4225-11ec-86e0-002590c0647c           [4923178]   \n",
       "62   1956c7b0-7c37-11ef-9b7b-002590c82436           [1027036]   \n",
       "52   152d12bc-4c9d-11ea-86e0-002590c0647c  [5154484, 6688812]   \n",
       "\n",
       "                                             item_id_y  \n",
       "382                                                 []  \n",
       "62                                                  []  \n",
       "52   [6688812, 5474224, 6821835, 5154484, 4986538, ...  "
      ],
      "text/html": [
       "<div>\n",
       "<style scoped>\n",
       "    .dataframe tbody tr th:only-of-type {\n",
       "        vertical-align: middle;\n",
       "    }\n",
       "\n",
       "    .dataframe tbody tr th {\n",
       "        vertical-align: top;\n",
       "    }\n",
       "\n",
       "    .dataframe thead th {\n",
       "        text-align: right;\n",
       "    }\n",
       "</style>\n",
       "<table border=\"1\" class=\"dataframe\">\n",
       "  <thead>\n",
       "    <tr style=\"text-align: right;\">\n",
       "      <th></th>\n",
       "      <th>user_id</th>\n",
       "      <th>item_id_x</th>\n",
       "      <th>item_id_y</th>\n",
       "    </tr>\n",
       "  </thead>\n",
       "  <tbody>\n",
       "    <tr>\n",
       "      <th>382</th>\n",
       "      <td>c0c46e2a-4225-11ec-86e0-002590c0647c</td>\n",
       "      <td>[4923178]</td>\n",
       "      <td>[]</td>\n",
       "    </tr>\n",
       "    <tr>\n",
       "      <th>62</th>\n",
       "      <td>1956c7b0-7c37-11ef-9b7b-002590c82436</td>\n",
       "      <td>[1027036]</td>\n",
       "      <td>[]</td>\n",
       "    </tr>\n",
       "    <tr>\n",
       "      <th>52</th>\n",
       "      <td>152d12bc-4c9d-11ea-86e0-002590c0647c</td>\n",
       "      <td>[5154484, 6688812]</td>\n",
       "      <td>[6688812, 5474224, 6821835, 5154484, 4986538, ...</td>\n",
       "    </tr>\n",
       "  </tbody>\n",
       "</table>\n",
       "</div>"
      ]
     },
     "execution_count": 382,
     "metadata": {},
     "output_type": "execute_result"
    }
   ],
   "execution_count": 382
  },
  {
   "metadata": {
    "ExecuteTime": {
     "end_time": "2024-10-12T22:25:58.264833Z",
     "start_time": "2024-10-12T22:25:58.263327Z"
    }
   },
   "cell_type": "code",
   "source": "#### Проверяем полноту фильтрации",
   "id": "de086f09a15b86de",
   "outputs": [],
   "execution_count": 383
  },
  {
   "metadata": {
    "ExecuteTime": {
     "end_time": "2024-10-12T22:25:58.319785Z",
     "start_time": "2024-10-12T22:25:58.309061Z"
    }
   },
   "cell_type": "code",
   "source": [
    "check_merge['recall'] = check_merge.apply(calculate_recall, axis=1)\n",
    "check_merge['recall'].mean().round(4)"
   ],
   "id": "e8b2727593788803",
   "outputs": [
    {
     "data": {
      "text/plain": [
       "0.3428"
      ]
     },
     "execution_count": 384,
     "metadata": {},
     "output_type": "execute_result"
    }
   ],
   "execution_count": 384
  },
  {
   "metadata": {
    "ExecuteTime": {
     "end_time": "2024-10-12T22:26:02.730864Z",
     "start_time": "2024-10-12T22:26:02.729135Z"
    }
   },
   "cell_type": "code",
   "source": "",
   "id": "e708eef45177dc97",
   "outputs": [],
   "execution_count": null
  },
  {
   "metadata": {
    "ExecuteTime": {
     "end_time": "2024-10-12T22:26:02.738329Z",
     "start_time": "2024-10-12T22:26:02.736648Z"
    }
   },
   "cell_type": "code",
   "source": "",
   "id": "8d71105583e8b08a",
   "outputs": [],
   "execution_count": null
  },
  {
   "metadata": {},
   "cell_type": "markdown",
   "source": "#### Используем классификатор чтобы предсказать пользователей с целевыми действиями",
   "id": "18cdcc9d7364760"
  },
  {
   "metadata": {
    "ExecuteTime": {
     "end_time": "2024-10-12T21:34:52.209949Z",
     "start_time": "2024-10-12T21:34:52.184514Z"
    }
   },
   "cell_type": "code",
   "source": "inters['datetime'].min(), inters['datetime'].max()",
   "id": "9ad035ca9ea4811a",
   "outputs": [
    {
     "data": {
      "text/plain": [
       "(Timestamp('2024-09-07 00:00:04'), Timestamp('2024-09-28 23:59:59'))"
      ]
     },
     "execution_count": 52,
     "metadata": {},
     "output_type": "execute_result"
    }
   ],
   "execution_count": 52
  },
  {
   "metadata": {
    "ExecuteTime": {
     "end_time": "2024-10-12T21:34:55.971087Z",
     "start_time": "2024-10-12T21:34:55.452977Z"
    }
   },
   "cell_type": "code",
   "source": [
    "last_3_days = inters['datetime'].max() - pd.Timedelta(0, unit='D')\n",
    "last_8_days = inters['datetime'].max() - pd.Timedelta(27, unit='D')\n",
    "pred_data = inters[(inters['datetime'] > last_8_days) & (inters['datetime'] < last_3_days)]"
   ],
   "id": "2a096716de8d5078",
   "outputs": [],
   "execution_count": 53
  },
  {
   "metadata": {
    "ExecuteTime": {
     "end_time": "2024-10-12T21:35:35.802153Z",
     "start_time": "2024-10-12T21:34:59.151733Z"
    }
   },
   "cell_type": "code",
   "source": "t = h2o.H2OFrame(pred_data[list(x)])",
   "id": "80716113f5edb9d6",
   "outputs": [],
   "execution_count": 54
  },
  {
   "metadata": {
    "ExecuteTime": {
     "end_time": "2024-10-12T21:35:35.808665Z",
     "start_time": "2024-10-12T21:35:35.806386Z"
    }
   },
   "cell_type": "code",
   "source": "t['category_id'] = t['category_id'].asfactor()",
   "id": "7008c5c0f7e486cd",
   "outputs": [],
   "execution_count": 55
  },
  {
   "metadata": {
    "ExecuteTime": {
     "end_time": "2024-10-12T21:37:16.071285Z",
     "start_time": "2024-10-12T21:35:38.177470Z"
    }
   },
   "cell_type": "code",
   "source": "preds = gbm_model.predict(t)",
   "id": "509ee3ee83313321",
   "outputs": [],
   "execution_count": 56
  },
  {
   "metadata": {},
   "cell_type": "markdown",
   "source": "#### Обьединяем предсказания с исходными данными, чтобы фильтровать дальше",
   "id": "dc571a3718d20cae"
  },
  {
   "metadata": {
    "ExecuteTime": {
     "end_time": "2024-10-12T21:54:07.954667Z",
     "start_time": "2024-10-12T21:53:40.243901Z"
    }
   },
   "cell_type": "code",
   "source": [
    "res = pd.concat(\n",
    "    [\n",
    "        pred_data[list(x) + ['weight', 'user_id', 'item_id', 'datetime']].reset_index(drop=True),\n",
    "        preds.as_data_frame().reset_index(drop=True)\n",
    "    ],\n",
    "    axis='columns',\n",
    ")"
   ],
   "id": "4c607291f16cf37f",
   "outputs": [],
   "execution_count": 118
  },
  {
   "metadata": {
    "ExecuteTime": {
     "end_time": "2024-10-12T21:54:08.773152Z",
     "start_time": "2024-10-12T21:54:07.964451Z"
    }
   },
   "cell_type": "code",
   "source": [
    "# Максимальный скор с которым предсказали целевое действие\n",
    "res['score'] = res[res.columns[-10:]].max(axis=1)"
   ],
   "id": "7c40113dbfd5ee58",
   "outputs": [],
   "execution_count": 119
  },
  {
   "metadata": {
    "ExecuteTime": {
     "end_time": "2024-10-12T21:54:13.581460Z",
     "start_time": "2024-10-12T21:54:13.579318Z"
    }
   },
   "cell_type": "code",
   "source": [
    "# Смотрим корреляцию по данным чтобы понять по чему фильтровать\n",
    "# res[list(set(res.columns) - set(['user_id']))].sample(1000).corr()"
   ],
   "id": "9afc6abd0a9bd5a3",
   "outputs": [],
   "execution_count": 120
  },
  {
   "metadata": {
    "ExecuteTime": {
     "end_time": "2024-10-12T22:26:09.354521Z",
     "start_time": "2024-10-12T22:26:09.291638Z"
    }
   },
   "cell_type": "code",
   "source": [
    "mask = (\n",
    "    (res.predict.isin([9, 0, 4]) & (res.score > 0.0))\n",
    "    # |\n",
    "    # (res.predict.isin([8]) & (res.score > 0.75))\n",
    ")"
   ],
   "id": "f2b8d3dcd807d5d0",
   "outputs": [],
   "execution_count": 385
  },
  {
   "metadata": {
    "ExecuteTime": {
     "end_time": "2024-10-12T22:26:09.430638Z",
     "start_time": "2024-10-12T22:26:09.380044Z"
    }
   },
   "cell_type": "code",
   "source": [
    "# Оцениваем размер таблицы после фильрации\n",
    "res[\n",
    "    mask\n",
    "].groupby('user_id')['item_id'].agg(lambda x: list(map(str, x))[:25]).reset_index().shape"
   ],
   "id": "d54d045a464a8a4c",
   "outputs": [
    {
     "data": {
      "text/plain": [
       "(1957, 2)"
      ]
     },
     "execution_count": 386,
     "metadata": {},
     "output_type": "execute_result"
    }
   ],
   "execution_count": 386
  },
  {
   "metadata": {
    "ExecuteTime": {
     "end_time": "2024-10-12T22:26:14.071375Z",
     "start_time": "2024-10-12T22:26:13.886195Z"
    }
   },
   "cell_type": "code",
   "source": [
    "# Оцениваем количество пользователей, которое удалось \"зацепить\" фильтрацией из теста\n",
    "res[\n",
    "    mask\n",
    "    & (res.user_id.isin(test_purchasers.user_id.unique()))\n",
    "].groupby('user_id')['item_id'].agg(lambda x: list(set(map(str, x)))[:25]).reset_index().shape"
   ],
   "id": "936c3aae07a92e79",
   "outputs": [
    {
     "data": {
      "text/plain": [
       "(261, 2)"
      ]
     },
     "execution_count": 387,
     "metadata": {},
     "output_type": "execute_result"
    }
   ],
   "execution_count": 387
  },
  {
   "metadata": {
    "ExecuteTime": {
     "end_time": "2024-10-12T22:26:17.341400Z",
     "start_time": "2024-10-12T22:26:17.170481Z"
    }
   },
   "cell_type": "code",
   "source": [
    "ml_users = res[\n",
    "    mask\n",
    "    & (res.user_id.isin(test_purchasers.user_id.unique()))\n",
    "].groupby('user_id')['item_id'].agg(lambda x: list(set(map(str, x)))[:25]).reset_index().user_id.to_list()"
   ],
   "id": "cac4660dfa1e65d5",
   "outputs": [],
   "execution_count": 388
  },
  {
   "metadata": {
    "ExecuteTime": {
     "end_time": "2024-10-12T22:26:20.461523Z",
     "start_time": "2024-10-12T22:26:20.458704Z"
    }
   },
   "cell_type": "code",
   "source": [
    "print(len(pred_purchasers.user_id.unique()))\n",
    "print(len(ml_users))\n",
    "print(len(set(ml_users).intersection(set(pred_purchasers.user_id.unique()))))"
   ],
   "id": "77a775ce8ff3632c",
   "outputs": [
    {
     "name": "stdout",
     "output_type": "stream",
     "text": [
      "1883\n",
      "261\n",
      "150\n"
     ]
    }
   ],
   "execution_count": 389
  },
  {
   "metadata": {
    "ExecuteTime": {
     "end_time": "2024-10-12T22:26:23.657567Z",
     "start_time": "2024-10-12T22:26:23.655687Z"
    }
   },
   "cell_type": "code",
   "source": "",
   "id": "97668af004d32ac1",
   "outputs": [],
   "execution_count": null
  },
  {
   "metadata": {
    "ExecuteTime": {
     "end_time": "2024-10-12T22:26:26.798244Z",
     "start_time": "2024-10-12T22:26:26.756973Z"
    }
   },
   "cell_type": "code",
   "source": [
    "# Генерим таблицу с кандидатами по результатам мл - предсказания\n",
    "ml_pred = res[\n",
    "    mask\n",
    "].sort_values(by=['weight'], ascending=False).groupby('user_id')['item_id'].agg(\n",
    "    lambda x: [y for y in (set(map(str, x))) if y != '-1'][:25]\n",
    ").reset_index()\n",
    "ml_pred.shape"
   ],
   "id": "4fecc641289068c",
   "outputs": [
    {
     "data": {
      "text/plain": [
       "(1957, 2)"
      ]
     },
     "execution_count": 390,
     "metadata": {},
     "output_type": "execute_result"
    }
   ],
   "execution_count": 390
  },
  {
   "metadata": {
    "ExecuteTime": {
     "end_time": "2024-10-12T22:26:32.980846Z",
     "start_time": "2024-10-12T22:26:32.978567Z"
    }
   },
   "cell_type": "code",
   "source": [
    "# Напоминание о размере таблицы с кандидатами после обычной фильтрации - оставшееся от 3000 строк место мы заполнили результатами мл\n",
    "pred_purchasers.shape"
   ],
   "id": "e0591e5a8ff67720",
   "outputs": [
    {
     "data": {
      "text/plain": [
       "(1883, 2)"
      ]
     },
     "execution_count": 391,
     "metadata": {},
     "output_type": "execute_result"
    }
   ],
   "execution_count": 391
  },
  {
   "metadata": {
    "ExecuteTime": {
     "end_time": "2024-10-12T22:26:33.085741Z",
     "start_time": "2024-10-12T22:26:33.079908Z"
    }
   },
   "cell_type": "code",
   "source": [
    "data_to_check = pd.concat(\n",
    "    [\n",
    "        ml_pred.reset_index(drop=True),\n",
    "        pred_purchasers.reset_index(drop=True),\n",
    "    ],\n",
    "    axis='rows'\n",
    ")\n",
    "print(data_to_check.shape)\n",
    "data_to_check = data_to_check.drop_duplicates(subset='user_id', keep='last') # .reset_index(drop=True)\n",
    "print(data_to_check[data_to_check.user_id.isin(test_purchasers.user_id.unique())].shape)\n",
    "data_to_check.shape"
   ],
   "id": "bf424e0840c3fdca",
   "outputs": [
    {
     "name": "stdout",
     "output_type": "stream",
     "text": [
      "(3840, 2)\n",
      "(452, 2)\n"
     ]
    },
    {
     "data": {
      "text/plain": [
       "(3410, 2)"
      ]
     },
     "execution_count": 392,
     "metadata": {},
     "output_type": "execute_result"
    }
   ],
   "execution_count": 392
  },
  {
   "metadata": {
    "ExecuteTime": {
     "end_time": "2024-10-12T22:26:40.231689Z",
     "start_time": "2024-10-12T22:26:40.228862Z"
    }
   },
   "cell_type": "code",
   "source": [
    "# Ограничим резульат 3000 строк (как по условию). Так как данные обычной фильтрации эффективнее и они в конце обьединенных данных - ограничим с конца\n",
    "data_to_check[-3000:].shape"
   ],
   "id": "7e97f625035edf8a",
   "outputs": [
    {
     "data": {
      "text/plain": [
       "(3000, 2)"
      ]
     },
     "execution_count": 393,
     "metadata": {},
     "output_type": "execute_result"
    }
   ],
   "execution_count": 393
  },
  {
   "metadata": {},
   "cell_type": "markdown",
   "source": "#### Проверяем результат локально на данных фильтрация + мл",
   "id": "cf4f7af1874236d7"
  },
  {
   "metadata": {
    "ExecuteTime": {
     "end_time": "2024-10-12T22:26:40.336006Z",
     "start_time": "2024-10-12T22:26:40.325036Z"
    }
   },
   "cell_type": "code",
   "source": [
    "# check_merge_ml = test_purchasers.merge(data_to_check.sample(3000, random_state=42), on='user_id', how='left')\n",
    "check_merge_ml = test_purchasers.merge(data_to_check[-3000:], on='user_id', how='left')\n",
    "check_merge_ml.item_id_y.loc[check_merge_ml.item_id_y.isnull()] = check_merge_ml.item_id_y.loc[check_merge_ml.item_id_y.isnull()].apply(lambda x: [])\n",
    "print(check_merge_ml.shape)\n",
    "check_merge_ml['recall'] = check_merge_ml.apply(calculate_recall, axis=1)\n",
    "check_merge_ml['recall'].mean().round(4)"
   ],
   "id": "38a2437811180840",
   "outputs": [
    {
     "name": "stdout",
     "output_type": "stream",
     "text": [
      "(496, 3)\n"
     ]
    },
    {
     "data": {
      "text/plain": [
       "0.4144"
      ]
     },
     "execution_count": 394,
     "metadata": {},
     "output_type": "execute_result"
    }
   ],
   "execution_count": 394
  },
  {
   "metadata": {
    "ExecuteTime": {
     "end_time": "2024-10-12T22:26:47.467686Z",
     "start_time": "2024-10-12T22:26:47.466103Z"
    }
   },
   "cell_type": "code",
   "source": "",
   "id": "5fc85e854d30f27c",
   "outputs": [],
   "execution_count": null
  },
  {
   "metadata": {},
   "cell_type": "markdown",
   "source": [
    "### Построение рекомендаций \n",
    "дополним данные после фильрации товарами на основе \"оценок\" пользователей (ценность действия интерпретируем как оценку)"
   ],
   "id": "b7ed9351358d87e3"
  },
  {
   "metadata": {},
   "cell_type": "markdown",
   "source": "#### Построение модели",
   "id": "756b9be360307a10"
  },
  {
   "metadata": {
    "ExecuteTime": {
     "end_time": "2024-10-12T21:38:26.578398Z",
     "start_time": "2024-10-12T21:38:26.576002Z"
    }
   },
   "cell_type": "code",
   "source": [
    "K_RECOS = 25\n",
    "NUM_THREADS = 24\n",
    "RANDOM_STATE = 32\n",
    "ITERATIONS = 25"
   ],
   "id": "2a979d8d60da505d",
   "outputs": [],
   "execution_count": 71
  },
  {
   "metadata": {
    "ExecuteTime": {
     "end_time": "2024-10-12T21:38:33.975860Z",
     "start_time": "2024-10-12T21:38:33.973754Z"
    }
   },
   "cell_type": "code",
   "source": [
    "def make_base_model(factors: int, regularization: float, alpha: float, fit_features_together: bool=False):\n",
    "    return ImplicitALSWrapperModel(\n",
    "        AlternatingLeastSquares(\n",
    "            factors=factors,\n",
    "            regularization=regularization,\n",
    "            alpha=alpha,\n",
    "            random_state=RANDOM_STATE,\n",
    "            use_gpu=False,\n",
    "            num_threads = NUM_THREADS,\n",
    "            iterations=ITERATIONS),\n",
    "        fit_features_together = fit_features_together,\n",
    "        )"
   ],
   "id": "c76217e904af56de",
   "outputs": [],
   "execution_count": 72
  },
  {
   "metadata": {
    "ExecuteTime": {
     "end_time": "2024-10-12T21:38:34.028117Z",
     "start_time": "2024-10-12T21:38:34.024604Z"
    }
   },
   "cell_type": "code",
   "source": "",
   "id": "b431ae38edd475c5",
   "outputs": [],
   "execution_count": null
  },
  {
   "metadata": {
    "ExecuteTime": {
     "end_time": "2024-10-12T21:38:38.071601Z",
     "start_time": "2024-10-12T21:38:37.321672Z"
    }
   },
   "cell_type": "code",
   "source": [
    "last_3_days = inters['datetime'].max() - pd.Timedelta(0, unit='D')\n",
    "last_8_days = inters['datetime'].max() - pd.Timedelta(27, unit='D')\n",
    "recos_data = inters[\n",
    "    (inters['datetime'] > last_8_days)\n",
    "    & (inters['datetime'] < last_3_days) \n",
    "    # & ((inters['weight'] > 3))   # дейсвтия ниже 5 не привязаны к товару, чтобы не рекомендовать -1 и сэкономить на размере входных данных - фильтруем\n",
    "]"
   ],
   "id": "24ff12b544a9ff36",
   "outputs": [],
   "execution_count": 73
  },
  {
   "metadata": {
    "ExecuteTime": {
     "end_time": "2024-10-12T21:38:42.504739Z",
     "start_time": "2024-10-12T21:38:42.444730Z"
    }
   },
   "cell_type": "code",
   "source": [
    "items = _catalog.rename(columns={'product_id': 'item_id'})\n",
    "\n",
    "items = items.loc[items['item_id'].isin(recos_data['item_id'])].copy()\n",
    "\n",
    "item_feature = items[[\"item_id\", \"category_id\"]].explode(\"category_id\")\n",
    "item_feature.columns = [\"id\", \"value\"]\n",
    "item_feature[\"feature\"] = \"category_id\"\n",
    "item_features = pd.concat((item_feature,))"
   ],
   "id": "c9049f3dd5d6aae2",
   "outputs": [],
   "execution_count": 74
  },
  {
   "metadata": {
    "ExecuteTime": {
     "end_time": "2024-10-12T21:38:45.884671Z",
     "start_time": "2024-10-12T21:38:45.879140Z"
    }
   },
   "cell_type": "code",
   "source": "item_features.sample(3)",
   "id": "afb2cc1ae4d8cb5d",
   "outputs": [
    {
     "data": {
      "text/plain": [
       "            id value      feature\n",
       "35392  4959463  7081  category_id\n",
       "78610  6627159  1702  category_id\n",
       "81579  6742515  8945  category_id"
      ],
      "text/html": [
       "<div>\n",
       "<style scoped>\n",
       "    .dataframe tbody tr th:only-of-type {\n",
       "        vertical-align: middle;\n",
       "    }\n",
       "\n",
       "    .dataframe tbody tr th {\n",
       "        vertical-align: top;\n",
       "    }\n",
       "\n",
       "    .dataframe thead th {\n",
       "        text-align: right;\n",
       "    }\n",
       "</style>\n",
       "<table border=\"1\" class=\"dataframe\">\n",
       "  <thead>\n",
       "    <tr style=\"text-align: right;\">\n",
       "      <th></th>\n",
       "      <th>id</th>\n",
       "      <th>value</th>\n",
       "      <th>feature</th>\n",
       "    </tr>\n",
       "  </thead>\n",
       "  <tbody>\n",
       "    <tr>\n",
       "      <th>35392</th>\n",
       "      <td>4959463</td>\n",
       "      <td>7081</td>\n",
       "      <td>category_id</td>\n",
       "    </tr>\n",
       "    <tr>\n",
       "      <th>78610</th>\n",
       "      <td>6627159</td>\n",
       "      <td>1702</td>\n",
       "      <td>category_id</td>\n",
       "    </tr>\n",
       "    <tr>\n",
       "      <th>81579</th>\n",
       "      <td>6742515</td>\n",
       "      <td>8945</td>\n",
       "      <td>category_id</td>\n",
       "    </tr>\n",
       "  </tbody>\n",
       "</table>\n",
       "</div>"
      ]
     },
     "execution_count": 75,
     "metadata": {},
     "output_type": "execute_result"
    }
   ],
   "execution_count": 75
  },
  {
   "metadata": {
    "ExecuteTime": {
     "end_time": "2024-10-12T21:38:50.331376Z",
     "start_time": "2024-10-12T21:38:50.302418Z"
    }
   },
   "cell_type": "code",
   "source": "recos_data.weight.unique()",
   "id": "feaaf4f26e413175",
   "outputs": [
    {
     "data": {
      "text/plain": [
       "array([0, 1, 2, 3, 4, 5, 6, 7, 8, 9])"
      ]
     },
     "execution_count": 76,
     "metadata": {},
     "output_type": "execute_result"
    }
   ],
   "execution_count": 76
  },
  {
   "metadata": {
    "ExecuteTime": {
     "end_time": "2024-10-12T22:31:00.470620Z",
     "start_time": "2024-10-12T22:26:52.552123Z"
    }
   },
   "cell_type": "code",
   "source": [
    "recs_dataset = Dataset.construct(\n",
    "    interactions_df=recos_data[['user_id', 'item_id', 'weight', 'datetime']],\n",
    "    item_features_df=item_features,\n",
    "    cat_item_features=[\"category_id\"],\n",
    ")\n",
    "\n",
    "model = make_base_model(factors=256, regularization=0.2, alpha=100)\n",
    "model.fit(recs_dataset)"
   ],
   "id": "6d652d721b1a922c",
   "outputs": [
    {
     "name": "stderr",
     "output_type": "stream",
     "text": [
      "100%|██████████| 1/1 [01:38<00:00, 98.35s/it]\n"
     ]
    },
    {
     "data": {
      "text/plain": [
       "<rectools.models.implicit_als.ImplicitALSWrapperModel at 0x7d8ce8367610>"
      ]
     },
     "execution_count": 395,
     "metadata": {},
     "output_type": "execute_result"
    }
   ],
   "execution_count": 395
  },
  {
   "metadata": {
    "ExecuteTime": {
     "end_time": "2024-10-12T22:31:08.264398Z",
     "start_time": "2024-10-12T22:31:00.543701Z"
    }
   },
   "cell_type": "code",
   "source": [
    "recos = model.recommend(\n",
    "    users=data_to_check[-3000:].user_id,\n",
    "    dataset=recs_dataset,\n",
    "    k=22,\n",
    "    filter_viewed=False,\n",
    ")"
   ],
   "id": "e4dab274d782581a",
   "outputs": [],
   "execution_count": 396
  },
  {
   "metadata": {
    "ExecuteTime": {
     "end_time": "2024-10-12T22:31:11.405323Z",
     "start_time": "2024-10-12T22:31:11.401440Z"
    }
   },
   "cell_type": "code",
   "source": "recos = recos[recos.item_id > -1]",
   "id": "15653f013cc89695",
   "outputs": [],
   "execution_count": 397
  },
  {
   "metadata": {
    "ExecuteTime": {
     "end_time": "2024-10-12T22:31:14.644556Z",
     "start_time": "2024-10-12T22:31:14.642762Z"
    }
   },
   "cell_type": "code",
   "source": "",
   "id": "237914981f8f6682",
   "outputs": [],
   "execution_count": null
  },
  {
   "metadata": {},
   "cell_type": "markdown",
   "source": "#### Дополняем данные с предыдущих предсказаний (фильтрация + ml) ",
   "id": "dbf96e9618c2aa55"
  },
  {
   "metadata": {
    "ExecuteTime": {
     "end_time": "2024-10-12T22:31:17.866284Z",
     "start_time": "2024-10-12T22:31:17.829305Z"
    }
   },
   "cell_type": "code",
   "source": "recos_agg = recos.groupby('user_id')['item_id'].agg(lambda x: list(map(str, x))).reset_index()",
   "id": "ace9ca55b8ca263",
   "outputs": [],
   "execution_count": 398
  },
  {
   "metadata": {
    "ExecuteTime": {
     "end_time": "2024-10-12T22:31:21.019247Z",
     "start_time": "2024-10-12T22:31:21.012675Z"
    }
   },
   "cell_type": "code",
   "source": [
    "recos_agg_selected_uid = recos_agg[\n",
    "    recos_agg.user_id.isin(\n",
    "        data_to_check[-3000:].user_id\n",
    "    )\n",
    "]"
   ],
   "id": "f21bb1e0291b115e",
   "outputs": [],
   "execution_count": 399
  },
  {
   "metadata": {
    "ExecuteTime": {
     "end_time": "2024-10-12T22:31:24.155654Z",
     "start_time": "2024-10-12T22:31:24.153295Z"
    }
   },
   "cell_type": "code",
   "source": "recos_agg_selected_uid.shape",
   "id": "19423cc75ee0229",
   "outputs": [
    {
     "data": {
      "text/plain": [
       "(3000, 2)"
      ]
     },
     "execution_count": 400,
     "metadata": {},
     "output_type": "execute_result"
    }
   ],
   "execution_count": 400
  },
  {
   "metadata": {
    "ExecuteTime": {
     "end_time": "2024-10-12T22:31:27.295915Z",
     "start_time": "2024-10-12T22:31:27.291116Z"
    }
   },
   "cell_type": "code",
   "source": [
    "# Объединяем рекомендации с предсказанями фильтрацией и мл\n",
    "enriched_data_to_check = data_to_check[-3000:].merge(recos_agg_selected_uid, on='user_id', how='left')"
   ],
   "id": "a91bbd7f6b42311a",
   "outputs": [],
   "execution_count": 401
  },
  {
   "metadata": {
    "ExecuteTime": {
     "end_time": "2024-10-12T22:31:30.421234Z",
     "start_time": "2024-10-12T22:31:30.418538Z"
    }
   },
   "cell_type": "code",
   "source": "enriched_data_to_check.columns",
   "id": "12e644962bd8eea2",
   "outputs": [
    {
     "data": {
      "text/plain": [
       "Index(['user_id', 'item_id_x', 'item_id_y'], dtype='object')"
      ]
     },
     "execution_count": 402,
     "metadata": {},
     "output_type": "execute_result"
    }
   ],
   "execution_count": 402
  },
  {
   "metadata": {
    "ExecuteTime": {
     "end_time": "2024-10-12T22:31:33.534626Z",
     "start_time": "2024-10-12T22:31:33.532063Z"
    }
   },
   "cell_type": "code",
   "source": [
    "# Заполняем nan пустыми списками для корректного расчета метрики\n",
    "enriched_data_to_check.item_id_y.loc[enriched_data_to_check.item_id_y.isnull()] = enriched_data_to_check.item_id_y.loc[enriched_data_to_check.item_id_y.isnull()].apply(lambda x: [])"
   ],
   "id": "81053f9e282beee7",
   "outputs": [],
   "execution_count": 403
  },
  {
   "metadata": {
    "ExecuteTime": {
     "end_time": "2024-10-12T22:31:36.699905Z",
     "start_time": "2024-10-12T22:31:36.644546Z"
    }
   },
   "cell_type": "code",
   "source": [
    "# Обьединяем исходное предсказание рекомендациями по rectools - сначала исходные айди, потом рекоммендации (порядок важен, тк далее оставляем только 25 элементов списка)\n",
    "enriched_data_to_check['item_id'] = enriched_data_to_check['item_id_x'] + enriched_data_to_check['item_id_y']"
   ],
   "id": "d535010dd8203776",
   "outputs": [],
   "execution_count": 404
  },
  {
   "metadata": {
    "ExecuteTime": {
     "end_time": "2024-10-12T22:31:39.814123Z",
     "start_time": "2024-10-12T22:31:39.809978Z"
    }
   },
   "cell_type": "code",
   "source": [
    "enriched_data_to_check['products_count'] = enriched_data_to_check['item_id'].apply(len)\n",
    "enriched_data_to_check['products_count'].mean()"
   ],
   "id": "dad87f86e3396456",
   "outputs": [
    {
     "data": {
      "text/plain": [
       "26.130666666666666"
      ]
     },
     "execution_count": 405,
     "metadata": {},
     "output_type": "execute_result"
    }
   ],
   "execution_count": 405
  },
  {
   "metadata": {
    "ExecuteTime": {
     "end_time": "2024-10-12T22:31:42.963127Z",
     "start_time": "2024-10-12T22:31:42.954417Z"
    }
   },
   "cell_type": "code",
   "source": [
    "# Убеждаемся что добавлением новых товаров мы не вышли \n",
    "enriched_data_to_check['item_id'] = enriched_data_to_check['item_id'].apply(lambda x: list(set(x[:25])))"
   ],
   "id": "676c823cbb3a2c82",
   "outputs": [],
   "execution_count": 406
  },
  {
   "metadata": {
    "ExecuteTime": {
     "end_time": "2024-10-12T22:31:46.193363Z",
     "start_time": "2024-10-12T22:31:46.190132Z"
    }
   },
   "cell_type": "code",
   "source": [
    "enriched_data_to_check['products_count'] = enriched_data_to_check['item_id'].apply(len)\n",
    "enriched_data_to_check['products_count'].mean()"
   ],
   "id": "4c3dc27bda2589c7",
   "outputs": [
    {
     "data": {
      "text/plain": [
       "21.409"
      ]
     },
     "execution_count": 407,
     "metadata": {},
     "output_type": "execute_result"
    }
   ],
   "execution_count": 407
  },
  {
   "metadata": {
    "ExecuteTime": {
     "end_time": "2024-10-12T22:31:49.302753Z",
     "start_time": "2024-10-12T22:31:49.300309Z"
    }
   },
   "cell_type": "code",
   "source": "enriched_data_to_check = enriched_data_to_check[['user_id', 'item_id']]",
   "id": "787e6e120926c0f8",
   "outputs": [],
   "execution_count": 408
  },
  {
   "metadata": {
    "ExecuteTime": {
     "end_time": "2024-10-12T22:31:52.430577Z",
     "start_time": "2024-10-12T22:31:52.427185Z"
    }
   },
   "cell_type": "code",
   "source": "enriched_data_to_check.drop_duplicates(subset=['user_id']).shape",
   "id": "2a699c3f67dc091e",
   "outputs": [
    {
     "data": {
      "text/plain": [
       "(3000, 2)"
      ]
     },
     "execution_count": 409,
     "metadata": {},
     "output_type": "execute_result"
    }
   ],
   "execution_count": 409
  },
  {
   "metadata": {
    "ExecuteTime": {
     "end_time": "2024-10-12T22:31:55.537326Z",
     "start_time": "2024-10-12T22:31:55.528968Z"
    }
   },
   "cell_type": "code",
   "source": [
    "check_merge_ml = test_purchasers.merge(enriched_data_to_check[-3000:], on='user_id', how='left')\n",
    "check_merge_ml.item_id_y.loc[check_merge_ml.item_id_y.isnull()] = check_merge_ml.item_id_y.loc[check_merge_ml.item_id_y.isnull()].apply(lambda x: [])\n",
    "print(check_merge_ml.shape)\n",
    "check_merge_ml['recall'] = check_merge_ml.apply(calculate_recall, axis=1)\n",
    "check_merge_ml['recall'].mean().round(4)"
   ],
   "id": "2f78de4bca3db947",
   "outputs": [
    {
     "name": "stdout",
     "output_type": "stream",
     "text": [
      "(496, 3)\n"
     ]
    },
    {
     "data": {
      "text/plain": [
       "0.4174"
      ]
     },
     "execution_count": 410,
     "metadata": {},
     "output_type": "execute_result"
    }
   ],
   "execution_count": 410
  },
  {
   "metadata": {
    "ExecuteTime": {
     "end_time": "2024-10-12T22:12:40.648008Z",
     "start_time": "2024-10-12T22:12:40.646475Z"
    }
   },
   "cell_type": "code",
   "source": "",
   "id": "6995bf5b371144ee",
   "outputs": [],
   "execution_count": null
  },
  {
   "metadata": {
    "ExecuteTime": {
     "end_time": "2024-10-12T22:01:00.390149Z",
     "start_time": "2024-10-12T22:01:00.388659Z"
    }
   },
   "cell_type": "code",
   "source": "",
   "id": "40df2af073215d1e",
   "outputs": [],
   "execution_count": null
  },
  {
   "metadata": {},
   "cell_type": "markdown",
   "source": "### Сохраняем результаты",
   "id": "c2f3bbb02c579c0e"
  },
  {
   "metadata": {
    "ExecuteTime": {
     "end_time": "2024-10-12T22:32:14.951935Z",
     "start_time": "2024-10-12T22:32:14.933673Z"
    }
   },
   "cell_type": "code",
   "source": "enriched_data_to_check.rename(columns={'item_id': 'products'}).reset_index(drop=True).to_csv(\"r_final.csv\", index=False)",
   "id": "6533fd075d463a8b",
   "outputs": [],
   "execution_count": 411
  },
  {
   "metadata": {
    "ExecuteTime": {
     "end_time": "2024-10-12T22:32:18.948877Z",
     "start_time": "2024-10-12T22:32:18.941434Z"
    }
   },
   "cell_type": "code",
   "source": "pd.read_csv('r_final.csv').shape",
   "id": "c0ecc478bd15bf87",
   "outputs": [
    {
     "data": {
      "text/plain": [
       "(3000, 2)"
      ]
     },
     "execution_count": 412,
     "metadata": {},
     "output_type": "execute_result"
    }
   ],
   "execution_count": 412
  },
  {
   "metadata": {
    "ExecuteTime": {
     "end_time": "2024-10-11T18:43:37.274224Z",
     "start_time": "2024-10-11T18:43:37.271920Z"
    }
   },
   "cell_type": "code",
   "outputs": [],
   "source": "",
   "id": "d863abf0bb1e67d8",
   "execution_count": null
  },
  {
   "metadata": {
    "ExecuteTime": {
     "end_time": "2024-10-12T19:55:48.181475Z",
     "start_time": "2024-10-12T19:55:48.170983Z"
    }
   },
   "cell_type": "code",
   "source": "",
   "id": "2739db0f3171a8d3",
   "outputs": [],
   "execution_count": null
  },
  {
   "metadata": {
    "ExecuteTime": {
     "end_time": "2024-10-12T19:55:48.415464Z",
     "start_time": "2024-10-12T19:55:48.412451Z"
    }
   },
   "cell_type": "code",
   "source": "",
   "id": "ae92da6258d84fed",
   "outputs": [],
   "execution_count": 524
  },
  {
   "metadata": {
    "ExecuteTime": {
     "end_time": "2024-10-12T20:46:38.732230Z",
     "start_time": "2024-10-12T20:46:38.609391Z"
    }
   },
   "cell_type": "code",
   "source": [
    "catalog = pd.read_parquet(f'{Path.cwd().parent}/data/stokman_catalog_preprocessed.pq', engine='pyarrow')\n",
    "catalog.head()\n",
    "\n",
    "catalog['desc'] = catalog['category_id'].astype(str) + ' ' + catalog['title']\n",
    "catalog = catalog.drop_duplicates(subset='product_id').reset_index(drop=True)\n",
    "catalog = catalog.dropna(subset=['desc'])\n",
    "catalog.shape"
   ],
   "id": "196b1c34e558f18d",
   "outputs": [
    {
     "data": {
      "text/plain": [
       "(89483, 8)"
      ]
     },
     "execution_count": 775,
     "metadata": {},
     "output_type": "execute_result"
    }
   ],
   "execution_count": 775
  },
  {
   "metadata": {
    "ExecuteTime": {
     "end_time": "2024-10-12T20:46:42.700794Z",
     "start_time": "2024-10-12T20:46:39.007897Z"
    }
   },
   "cell_type": "code",
   "source": [
    "documents = catalog.desc.dropna().to_list()\n",
    "print(len(documents))\n",
    "vectorizer = TfidfVectorizer(lowercase=False)\n",
    "tfidf_matrix = vectorizer.fit_transform(documents).toarray().astype('float32')"
   ],
   "id": "429802d2498f1017",
   "outputs": [
    {
     "name": "stdout",
     "output_type": "stream",
     "text": [
      "89483\n"
     ]
    }
   ],
   "execution_count": 776
  },
  {
   "metadata": {
    "ExecuteTime": {
     "end_time": "2024-10-12T19:58:28.047041Z",
     "start_time": "2024-10-12T19:55:55.529708Z"
    }
   },
   "cell_type": "code",
   "source": "index = create_index_hnsw(tfidf_matrix)",
   "id": "9b0b372ac4581d6f",
   "outputs": [],
   "execution_count": 527
  },
  {
   "metadata": {
    "ExecuteTime": {
     "end_time": "2024-10-12T19:58:28.157428Z",
     "start_time": "2024-10-12T19:58:28.155569Z"
    }
   },
   "cell_type": "code",
   "source": "# dict(zip(vectorizer.vocabulary_, vectorizer.idf_)) ",
   "id": "35e3099035168af9",
   "outputs": [],
   "execution_count": 529
  },
  {
   "metadata": {
    "ExecuteTime": {
     "end_time": "2024-10-12T20:47:14.597073Z",
     "start_time": "2024-10-12T20:47:14.592244Z"
    }
   },
   "cell_type": "code",
   "source": [
    "query_vector = vectorizer.transform(['230 38721 36072 46732 26240 32815',])\n",
    "\n",
    "N = 1\n",
    "_, indices = index.search(query_vector.toarray().reshape(1, -1), 4) \n",
    "for indx in range(N):\n",
    "    match = catalog.iloc[indices[0][indx]].to_dict()\n",
    "    print(match['product_id'], ' ', match['desc'])\n",
    "    "
   ],
   "id": "f3655a49691d9410",
   "outputs": [
    {
     "name": "stdout",
     "output_type": "stream",
     "text": [
      "5920453   230 38721 36072 46732 26240 32815\n"
     ]
    }
   ],
   "execution_count": 780
  },
  {
   "metadata": {
    "ExecuteTime": {
     "end_time": "2024-10-12T20:48:28.580914Z",
     "start_time": "2024-10-12T20:48:28.576807Z"
    }
   },
   "cell_type": "code",
   "source": [
    "def get_similar(x):\n",
    "    res = []\n",
    "    for y in x[:4]:\n",
    "        cand = catalog[catalog.product_id == y]\n",
    "        if cand.shape[0] > 0:\n",
    "            to_match = cand.desc.values[0]\n",
    "            query_vector = vectorizer.transform([to_match, ])\n",
    "            _, indices = index.search(query_vector.toarray().reshape(1, -1), 2)\n",
    "            match1 = catalog.iloc[indices[0][0]].to_dict()\n",
    "            match2 = catalog.iloc[indices[0][1]].to_dict()\n",
    "            res.append(match1['product_id'])\n",
    "            res.append(match2['product_id'])\n",
    "    return res"
   ],
   "id": "fabbe4620f5c4ce3",
   "outputs": [],
   "execution_count": 786
  },
  {
   "metadata": {
    "ExecuteTime": {
     "end_time": "2024-10-12T20:48:30.469362Z",
     "start_time": "2024-10-12T20:48:30.466737Z"
    }
   },
   "cell_type": "code",
   "source": "enriched_data_to_check_w_similar = enriched_data_to_check.copy()",
   "id": "637a59eae9bf8f02",
   "outputs": [],
   "execution_count": 787
  },
  {
   "metadata": {
    "ExecuteTime": {
     "end_time": "2024-10-12T20:49:28.543048Z",
     "start_time": "2024-10-12T20:48:30.738141Z"
    }
   },
   "cell_type": "code",
   "source": "enriched_data_to_check_w_similar['items_sim']  = enriched_data_to_check_w_similar['item_id'].apply(lambda x: get_similar(x))",
   "id": "9773f2bfae7e6e25",
   "outputs": [],
   "execution_count": 788
  },
  {
   "metadata": {
    "ExecuteTime": {
     "end_time": "2024-10-12T20:49:42.040599Z",
     "start_time": "2024-10-12T20:49:42.033501Z"
    }
   },
   "cell_type": "code",
   "source": [
    "# Убеждаемся что добавлением новых товаров мы не вышли \n",
    "enriched_data_to_check_w_similar['item_id'] = enriched_data_to_check_w_similar['item_id'] + enriched_data_to_check_w_similar['items_sim'].apply(lambda x: list(set(x)))"
   ],
   "id": "c3c88ee891ccd8f6",
   "outputs": [],
   "execution_count": 789
  },
  {
   "metadata": {
    "ExecuteTime": {
     "end_time": "2024-10-12T20:49:43.997480Z",
     "start_time": "2024-10-12T20:49:43.977274Z"
    }
   },
   "cell_type": "code",
   "source": "enriched_data_to_check_w_similar['item_id'] = enriched_data_to_check_w_similar['item_id'].apply(lambda x: sorted(list(set(x[:25])), reverse=True))",
   "id": "24420341df21eac3",
   "outputs": [],
   "execution_count": 790
  },
  {
   "metadata": {
    "ExecuteTime": {
     "end_time": "2024-10-12T20:49:44.646287Z",
     "start_time": "2024-10-12T20:49:44.642132Z"
    }
   },
   "cell_type": "code",
   "source": [
    "enriched_data_to_check_w_similar['products_count'] = enriched_data_to_check_w_similar['item_id'].apply(len)\n",
    "enriched_data_to_check_w_similar['products_count'].mean()"
   ],
   "id": "a89a926a41991209",
   "outputs": [
    {
     "data": {
      "text/plain": [
       "23.474"
      ]
     },
     "execution_count": 791,
     "metadata": {},
     "output_type": "execute_result"
    }
   ],
   "execution_count": 791
  },
  {
   "metadata": {
    "ExecuteTime": {
     "end_time": "2024-10-12T20:49:45.243835Z",
     "start_time": "2024-10-12T20:49:45.234765Z"
    }
   },
   "cell_type": "code",
   "source": "enriched_data_to_check_w_similar.sample(5)",
   "id": "d0e1dd45a2e291fb",
   "outputs": [
    {
     "data": {
      "text/plain": [
       "                                   user_id  \\\n",
       "1207  6ce9e6ac-4383-11ee-86e0-002590c0647c   \n",
       "166   15492920-4c9f-11ed-8644-002590c82437   \n",
       "1978  a95cc5ca-025f-11ed-bf62-002590c82437   \n",
       "2459  d162bc0e-31b3-11e8-a0d7-002590e45c38   \n",
       "2157  b8ae1e90-5b84-11ef-86e0-002590c0647c   \n",
       "\n",
       "                                                item_id  \\\n",
       "1207  [787768, 734339, 6606440, 6438154, 6438151, 64...   \n",
       "166   [718659, 718652, 6886686, 6588035, 6422179, 64...   \n",
       "1978  [5880976, 5880442, 5418100, 5313529, 5313490, ...   \n",
       "2459  [6655476, 6627677, 6627675, 6481510, 6481492, ...   \n",
       "2157  [6534112, 6534088, 6534079, 6534028, 6534001, ...   \n",
       "\n",
       "                                              items_sim  products_count  \n",
       "1207  [787768, 4964878, 1334129, 1335152, 6652005, 6...              25  \n",
       "166   [718652, 718659, 6886686, 1041541, 6588035, 59...              24  \n",
       "1978  [5880976, 5880442, 5418100, 5399602, 5313490, ...              23  \n",
       "2459  [6655476, 6110206, 6627675, 6627677, 6481492, ...              24  \n",
       "2157  [6533962, 6534088, 6533962, 6534088, 6533944, ...              21  "
      ],
      "text/html": [
       "<div>\n",
       "<style scoped>\n",
       "    .dataframe tbody tr th:only-of-type {\n",
       "        vertical-align: middle;\n",
       "    }\n",
       "\n",
       "    .dataframe tbody tr th {\n",
       "        vertical-align: top;\n",
       "    }\n",
       "\n",
       "    .dataframe thead th {\n",
       "        text-align: right;\n",
       "    }\n",
       "</style>\n",
       "<table border=\"1\" class=\"dataframe\">\n",
       "  <thead>\n",
       "    <tr style=\"text-align: right;\">\n",
       "      <th></th>\n",
       "      <th>user_id</th>\n",
       "      <th>item_id</th>\n",
       "      <th>items_sim</th>\n",
       "      <th>products_count</th>\n",
       "    </tr>\n",
       "  </thead>\n",
       "  <tbody>\n",
       "    <tr>\n",
       "      <th>1207</th>\n",
       "      <td>6ce9e6ac-4383-11ee-86e0-002590c0647c</td>\n",
       "      <td>[787768, 734339, 6606440, 6438154, 6438151, 64...</td>\n",
       "      <td>[787768, 4964878, 1334129, 1335152, 6652005, 6...</td>\n",
       "      <td>25</td>\n",
       "    </tr>\n",
       "    <tr>\n",
       "      <th>166</th>\n",
       "      <td>15492920-4c9f-11ed-8644-002590c82437</td>\n",
       "      <td>[718659, 718652, 6886686, 6588035, 6422179, 64...</td>\n",
       "      <td>[718652, 718659, 6886686, 1041541, 6588035, 59...</td>\n",
       "      <td>24</td>\n",
       "    </tr>\n",
       "    <tr>\n",
       "      <th>1978</th>\n",
       "      <td>a95cc5ca-025f-11ed-bf62-002590c82437</td>\n",
       "      <td>[5880976, 5880442, 5418100, 5313529, 5313490, ...</td>\n",
       "      <td>[5880976, 5880442, 5418100, 5399602, 5313490, ...</td>\n",
       "      <td>23</td>\n",
       "    </tr>\n",
       "    <tr>\n",
       "      <th>2459</th>\n",
       "      <td>d162bc0e-31b3-11e8-a0d7-002590e45c38</td>\n",
       "      <td>[6655476, 6627677, 6627675, 6481510, 6481492, ...</td>\n",
       "      <td>[6655476, 6110206, 6627675, 6627677, 6481492, ...</td>\n",
       "      <td>24</td>\n",
       "    </tr>\n",
       "    <tr>\n",
       "      <th>2157</th>\n",
       "      <td>b8ae1e90-5b84-11ef-86e0-002590c0647c</td>\n",
       "      <td>[6534112, 6534088, 6534079, 6534028, 6534001, ...</td>\n",
       "      <td>[6533962, 6534088, 6533962, 6534088, 6533944, ...</td>\n",
       "      <td>21</td>\n",
       "    </tr>\n",
       "  </tbody>\n",
       "</table>\n",
       "</div>"
      ]
     },
     "execution_count": 792,
     "metadata": {},
     "output_type": "execute_result"
    }
   ],
   "execution_count": 792
  },
  {
   "metadata": {
    "ExecuteTime": {
     "end_time": "2024-10-12T20:49:46.171705Z",
     "start_time": "2024-10-12T20:49:46.160852Z"
    }
   },
   "cell_type": "code",
   "source": [
    "check_merge_ml = test_purchasers.merge(enriched_data_to_check_w_similar[-3000:], on='user_id', how='left')\n",
    "check_merge_ml.item_id_y.loc[check_merge_ml.item_id_y.isnull()] = check_merge_ml.item_id_y.loc[check_merge_ml.item_id_y.isnull()].apply(lambda x: [])\n",
    "print(check_merge_ml.shape)\n",
    "check_merge_ml['recall'] = check_merge_ml.apply(calculate_recall, axis=1)\n",
    "check_merge_ml['recall'].mean().round(4)"
   ],
   "id": "ef545c52ed19d730",
   "outputs": [
    {
     "name": "stdout",
     "output_type": "stream",
     "text": [
      "(496, 5)\n"
     ]
    },
    {
     "data": {
      "text/plain": [
       "0.0857"
      ]
     },
     "execution_count": 793,
     "metadata": {},
     "output_type": "execute_result"
    }
   ],
   "execution_count": 793
  },
  {
   "metadata": {},
   "cell_type": "code",
   "outputs": [],
   "execution_count": null,
   "source": "",
   "id": "4c6911b9fd715390"
  },
  {
   "metadata": {},
   "cell_type": "code",
   "outputs": [],
   "execution_count": null,
   "source": "",
   "id": "69e00c9e4decd673"
  },
  {
   "metadata": {
    "ExecuteTime": {
     "end_time": "2024-10-10T11:43:02.271963Z",
     "start_time": "2024-10-10T11:43:02.237844Z"
    }
   },
   "cell_type": "code",
   "outputs": [],
   "execution_count": 176,
   "source": [
    "# Не забываем выключить кластер h2o на локальной машине\n",
    "h2o.cluster().shutdown()"
   ],
   "id": "86e0213bf4b74754"
  },
  {
   "metadata": {},
   "cell_type": "code",
   "outputs": [],
   "source": "",
   "id": "9fe39f68ddcdd212",
   "execution_count": null
  }
 ],
 "metadata": {
  "kernelspec": {
   "display_name": "Python 3",
   "language": "python",
   "name": "python3"
  },
  "language_info": {
   "codemirror_mode": {
    "name": "ipython",
    "version": 2
   },
   "file_extension": ".py",
   "mimetype": "text/x-python",
   "name": "python",
   "nbconvert_exporter": "python",
   "pygments_lexer": "ipython2",
   "version": "2.7.6"
  }
 },
 "nbformat": 4,
 "nbformat_minor": 5
}
