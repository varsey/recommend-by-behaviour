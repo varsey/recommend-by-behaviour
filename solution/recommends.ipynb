{
 "cells": [
  {
   "metadata": {
    "collapsed": true,
    "ExecuteTime": {
     "end_time": "2024-10-11T21:30:34.777650Z",
     "start_time": "2024-10-11T21:30:34.774076Z"
    }
   },
   "cell_type": "code",
   "source": [
    "from pathlib import Path\n",
    "\n",
    "import numpy as np\n",
    "import pandas as pd\n"
   ],
   "id": "initial_id",
   "outputs": [],
   "execution_count": 44
  },
  {
   "metadata": {
    "ExecuteTime": {
     "end_time": "2024-10-11T21:30:36.333627Z",
     "start_time": "2024-10-11T21:30:36.330388Z"
    }
   },
   "cell_type": "code",
   "source": [
    "import h2o\n",
    "from h2o.estimators.gbm import H2OGradientBoostingEstimator\n"
   ],
   "id": "5802908c400af4a0",
   "outputs": [],
   "execution_count": 45
  },
  {
   "metadata": {
    "ExecuteTime": {
     "end_time": "2024-10-11T21:30:37.990742Z",
     "start_time": "2024-10-11T21:30:37.983623Z"
    }
   },
   "cell_type": "code",
   "source": [
    "import os\n",
    "import threadpoolctl\n",
    "import warnings\n",
    "\n",
    "from rectools.models import ImplicitALSWrapperModel\n",
    "from rectools.dataset import Dataset\n",
    "from implicit.als import AlternatingLeastSquares\n",
    "\n",
    "warnings.filterwarnings('ignore')\n",
    "\n",
    "# For implicit ALS\n",
    "os.environ[\"OPENBLAS_NUM_THREADS\"] = \"1\"\n",
    "threadpoolctl.threadpool_limits(1, \"blas\")"
   ],
   "id": "8a30bde391d9e196",
   "outputs": [
    {
     "data": {
      "text/plain": [
       "<threadpoolctl.threadpool_limits at 0x7c9e94cb8c90>"
      ]
     },
     "execution_count": 46,
     "metadata": {},
     "output_type": "execute_result"
    }
   ],
   "execution_count": 46
  },
  {
   "metadata": {
    "ExecuteTime": {
     "end_time": "2024-10-11T21:30:38.100391Z",
     "start_time": "2024-10-11T21:30:38.096861Z"
    }
   },
   "cell_type": "code",
   "source": "from src.utils import processing, calculate_recall",
   "id": "8713cf7a9fc9dc59",
   "outputs": [],
   "execution_count": 47
  },
  {
   "metadata": {
    "ExecuteTime": {
     "end_time": "2024-10-11T21:30:39.637136Z",
     "start_time": "2024-10-11T21:30:39.599154Z"
    }
   },
   "cell_type": "code",
   "source": [
    "catalog = pd.read_parquet(f'{Path.cwd().parent}/data/stokman_catalog_preprocessed.pq', engine='pyarrow')\n",
    "catalog.head()"
   ],
   "id": "ed039728e851bc93",
   "outputs": [
    {
     "data": {
      "text/plain": [
       "             add_date shop_id product_id category_id  price  \\\n",
       "0 2024-09-30 03:07:09     350    1025536        8922   6990   \n",
       "1 2024-09-19 03:07:08     350    1025614       10600    330   \n",
       "2 2024-09-30 03:07:09     350    1025656         231  13240   \n",
       "3 2024-09-30 03:07:09     350    1025659       14546   7550   \n",
       "4 2024-09-30 03:07:09     350    1025668        1949   1290   \n",
       "\n",
       "                                       title  old_price  \n",
       "0               6048 48557 44342 53515 17614       6990  \n",
       "1          42548 40244 23485 10853 6545 2343        330  \n",
       "2  14034 42002 48557 56089 46836 55620 50785      26490  \n",
       "3        32640 50164 48557 25314 23255 42146      12590  \n",
       "4                    51789 48557 56089 20149       1290  "
      ],
      "text/html": [
       "<div>\n",
       "<style scoped>\n",
       "    .dataframe tbody tr th:only-of-type {\n",
       "        vertical-align: middle;\n",
       "    }\n",
       "\n",
       "    .dataframe tbody tr th {\n",
       "        vertical-align: top;\n",
       "    }\n",
       "\n",
       "    .dataframe thead th {\n",
       "        text-align: right;\n",
       "    }\n",
       "</style>\n",
       "<table border=\"1\" class=\"dataframe\">\n",
       "  <thead>\n",
       "    <tr style=\"text-align: right;\">\n",
       "      <th></th>\n",
       "      <th>add_date</th>\n",
       "      <th>shop_id</th>\n",
       "      <th>product_id</th>\n",
       "      <th>category_id</th>\n",
       "      <th>price</th>\n",
       "      <th>title</th>\n",
       "      <th>old_price</th>\n",
       "    </tr>\n",
       "  </thead>\n",
       "  <tbody>\n",
       "    <tr>\n",
       "      <th>0</th>\n",
       "      <td>2024-09-30 03:07:09</td>\n",
       "      <td>350</td>\n",
       "      <td>1025536</td>\n",
       "      <td>8922</td>\n",
       "      <td>6990</td>\n",
       "      <td>6048 48557 44342 53515 17614</td>\n",
       "      <td>6990</td>\n",
       "    </tr>\n",
       "    <tr>\n",
       "      <th>1</th>\n",
       "      <td>2024-09-19 03:07:08</td>\n",
       "      <td>350</td>\n",
       "      <td>1025614</td>\n",
       "      <td>10600</td>\n",
       "      <td>330</td>\n",
       "      <td>42548 40244 23485 10853 6545 2343</td>\n",
       "      <td>330</td>\n",
       "    </tr>\n",
       "    <tr>\n",
       "      <th>2</th>\n",
       "      <td>2024-09-30 03:07:09</td>\n",
       "      <td>350</td>\n",
       "      <td>1025656</td>\n",
       "      <td>231</td>\n",
       "      <td>13240</td>\n",
       "      <td>14034 42002 48557 56089 46836 55620 50785</td>\n",
       "      <td>26490</td>\n",
       "    </tr>\n",
       "    <tr>\n",
       "      <th>3</th>\n",
       "      <td>2024-09-30 03:07:09</td>\n",
       "      <td>350</td>\n",
       "      <td>1025659</td>\n",
       "      <td>14546</td>\n",
       "      <td>7550</td>\n",
       "      <td>32640 50164 48557 25314 23255 42146</td>\n",
       "      <td>12590</td>\n",
       "    </tr>\n",
       "    <tr>\n",
       "      <th>4</th>\n",
       "      <td>2024-09-30 03:07:09</td>\n",
       "      <td>350</td>\n",
       "      <td>1025668</td>\n",
       "      <td>1949</td>\n",
       "      <td>1290</td>\n",
       "      <td>51789 48557 56089 20149</td>\n",
       "      <td>1290</td>\n",
       "    </tr>\n",
       "  </tbody>\n",
       "</table>\n",
       "</div>"
      ]
     },
     "execution_count": 48,
     "metadata": {},
     "output_type": "execute_result"
    }
   ],
   "execution_count": 48
  },
  {
   "metadata": {
    "ExecuteTime": {
     "end_time": "2024-10-11T21:30:44.736957Z",
     "start_time": "2024-10-11T21:30:41.382283Z"
    }
   },
   "cell_type": "code",
   "source": [
    "actions = pd.read_parquet(f'{Path.cwd().parent}/data/train_actions.pq', engine='pyarrow')\n",
    "actions.head()"
   ],
   "id": "981e162b35596c1",
   "outputs": [
    {
     "data": {
      "text/plain": [
       "                                user_id                           loc_user_id  \\\n",
       "0  6fd49b56-8cc6-11ed-86e0-002590c0647c  c6e357dc-121d-449d-a744-e9a0b56c2380   \n",
       "1  6fd49b56-8cc6-11ed-86e0-002590c0647c  c6e357dc-121d-449d-a744-e9a0b56c2380   \n",
       "2  f9c498ec-5d3b-11ef-86e0-002590c0647c  120c9064-1131-4dc3-8048-44184531b42e   \n",
       "3  59386b5c-e64f-11ec-8086-002590c82437  f0745572-893f-4e50-bc52-5af47badff5a   \n",
       "4  badbd396-6cab-11ef-86e0-002590c0647c  73423d85-d47c-4332-8155-5200615302b5   \n",
       "\n",
       "   action                date products      pageId  \n",
       "0       7 2024-09-07 00:00:04       []  2571824865  \n",
       "1       7 2024-09-07 00:00:08       []  3834364438  \n",
       "2       7 2024-09-07 00:00:08       []  2448628415  \n",
       "3       7 2024-09-07 00:00:11       []  3875013967  \n",
       "4       7 2024-09-07 00:00:11       []  3025531174  "
      ],
      "text/html": [
       "<div>\n",
       "<style scoped>\n",
       "    .dataframe tbody tr th:only-of-type {\n",
       "        vertical-align: middle;\n",
       "    }\n",
       "\n",
       "    .dataframe tbody tr th {\n",
       "        vertical-align: top;\n",
       "    }\n",
       "\n",
       "    .dataframe thead th {\n",
       "        text-align: right;\n",
       "    }\n",
       "</style>\n",
       "<table border=\"1\" class=\"dataframe\">\n",
       "  <thead>\n",
       "    <tr style=\"text-align: right;\">\n",
       "      <th></th>\n",
       "      <th>user_id</th>\n",
       "      <th>loc_user_id</th>\n",
       "      <th>action</th>\n",
       "      <th>date</th>\n",
       "      <th>products</th>\n",
       "      <th>pageId</th>\n",
       "    </tr>\n",
       "  </thead>\n",
       "  <tbody>\n",
       "    <tr>\n",
       "      <th>0</th>\n",
       "      <td>6fd49b56-8cc6-11ed-86e0-002590c0647c</td>\n",
       "      <td>c6e357dc-121d-449d-a744-e9a0b56c2380</td>\n",
       "      <td>7</td>\n",
       "      <td>2024-09-07 00:00:04</td>\n",
       "      <td>[]</td>\n",
       "      <td>2571824865</td>\n",
       "    </tr>\n",
       "    <tr>\n",
       "      <th>1</th>\n",
       "      <td>6fd49b56-8cc6-11ed-86e0-002590c0647c</td>\n",
       "      <td>c6e357dc-121d-449d-a744-e9a0b56c2380</td>\n",
       "      <td>7</td>\n",
       "      <td>2024-09-07 00:00:08</td>\n",
       "      <td>[]</td>\n",
       "      <td>3834364438</td>\n",
       "    </tr>\n",
       "    <tr>\n",
       "      <th>2</th>\n",
       "      <td>f9c498ec-5d3b-11ef-86e0-002590c0647c</td>\n",
       "      <td>120c9064-1131-4dc3-8048-44184531b42e</td>\n",
       "      <td>7</td>\n",
       "      <td>2024-09-07 00:00:08</td>\n",
       "      <td>[]</td>\n",
       "      <td>2448628415</td>\n",
       "    </tr>\n",
       "    <tr>\n",
       "      <th>3</th>\n",
       "      <td>59386b5c-e64f-11ec-8086-002590c82437</td>\n",
       "      <td>f0745572-893f-4e50-bc52-5af47badff5a</td>\n",
       "      <td>7</td>\n",
       "      <td>2024-09-07 00:00:11</td>\n",
       "      <td>[]</td>\n",
       "      <td>3875013967</td>\n",
       "    </tr>\n",
       "    <tr>\n",
       "      <th>4</th>\n",
       "      <td>badbd396-6cab-11ef-86e0-002590c0647c</td>\n",
       "      <td>73423d85-d47c-4332-8155-5200615302b5</td>\n",
       "      <td>7</td>\n",
       "      <td>2024-09-07 00:00:11</td>\n",
       "      <td>[]</td>\n",
       "      <td>3025531174</td>\n",
       "    </tr>\n",
       "  </tbody>\n",
       "</table>\n",
       "</div>"
      ]
     },
     "execution_count": 49,
     "metadata": {},
     "output_type": "execute_result"
    }
   ],
   "execution_count": 49
  },
  {
   "metadata": {},
   "cell_type": "markdown",
   "source": "#### Разворачиваем данные по айдишникам продуктов",
   "id": "56e5db1a6058946c"
  },
  {
   "metadata": {
    "ExecuteTime": {
     "end_time": "2024-10-11T21:30:49.769777Z",
     "start_time": "2024-10-11T21:30:44.822960Z"
    }
   },
   "cell_type": "code",
   "source": [
    "_actions = (\n",
    "    actions\n",
    "    .copy()\n",
    "    .explode('products')\n",
    "    .assign(products=lambda x: x.products.fillna(-1).astype(np.int64))\n",
    ")\n",
    "print(_actions.shape)\n",
    "\n",
    "_catalog = (\n",
    "    catalog\n",
    "    .copy()\n",
    "    .assign(product_id=lambda x: x.product_id.astype(np.int64))\n",
    ")"
   ],
   "id": "3e0c476cbb5adeb0",
   "outputs": [
    {
     "name": "stdout",
     "output_type": "stream",
     "text": [
      "(6859002, 6)\n"
     ]
    }
   ],
   "execution_count": 50
  },
  {
   "metadata": {},
   "cell_type": "markdown",
   "source": "#### Разворачиваем данные по айдишникам продуктов",
   "id": "8ab92b6327317d65"
  },
  {
   "metadata": {
    "ExecuteTime": {
     "end_time": "2024-10-11T21:30:51.735456Z",
     "start_time": "2024-10-11T21:30:49.828444Z"
    }
   },
   "cell_type": "code",
   "source": [
    "_actions['action_datetime'] = pd.to_datetime(_actions['date'])\n",
    "\n",
    "_actions.action = _actions.action + 10\n",
    "_actions.action = _actions.action.replace({14: 0, 13: 1, 18: 2, 19: 3, 10: 5, 17: 4, 11: 6, 12: 7, 16: 8, 15: 9})\n",
    "_actions = _actions.sort_values(by=['action', 'date'])\n",
    "print(_actions.shape)"
   ],
   "id": "33bc13582ac56739",
   "outputs": [
    {
     "name": "stdout",
     "output_type": "stream",
     "text": [
      "(6859002, 7)\n"
     ]
    }
   ],
   "execution_count": 51
  },
  {
   "metadata": {},
   "cell_type": "markdown",
   "source": [
    "#### Новая шкала action в train_actions.pq в порядке возрастания важности\n",
    "    0 - clearB (удаление всех товаров из корзины)\n",
    "    1 - delB (удаление товара из корзины)\n",
    "    2 - visitCategory (посещение страницы с группой товаров)\n",
    "    3 - search (поиск товара)           \n",
    "    4 - visit (посещение страницы с товаром)\n",
    "    5 - view (просмотр товара)\n",
    "    6 - like (лайк товара)\n",
    "    7 - addB (добавление товара в корзину)\n",
    "    8 - listB (посещение страницы корзины и вывод списка товаров в корзине)\n",
    "    9 - order (оформление заказа)\n",
    "    "
   ],
   "id": "61bff49bb1302804"
  },
  {
   "metadata": {},
   "cell_type": "markdown",
   "source": [
    "#### Переименовываем поля и обьеденияем датасеты каталога и дейсвтвий пользователя    \n",
    "'products' теперь 'item_id', 'action'  превратился в 'weight' (мы перевели код действия в шкалу по возрастанию ранее)"
   ],
   "id": "edbf3590e0fdcf21"
  },
  {
   "metadata": {
    "ExecuteTime": {
     "end_time": "2024-10-11T21:30:54.999548Z",
     "start_time": "2024-10-11T21:30:53.804302Z"
    }
   },
   "cell_type": "code",
   "source": [
    "interactions = _actions.rename(columns={'products': 'item_id', 'action' : 'weight', 'action_datetime': 'datetime'})\n",
    "interactions = interactions[interactions['item_id'] != '/*']"
   ],
   "id": "9cf4c400c2eb31f2",
   "outputs": [],
   "execution_count": 52
  },
  {
   "metadata": {
    "ExecuteTime": {
     "end_time": "2024-10-11T21:30:56.611537Z",
     "start_time": "2024-10-11T21:30:56.605626Z"
    }
   },
   "cell_type": "code",
   "source": "items = _catalog.rename(columns={'product_id': 'item_id'})",
   "id": "44b6d7a792587132",
   "outputs": [],
   "execution_count": 53
  },
  {
   "metadata": {
    "ExecuteTime": {
     "end_time": "2024-10-11T21:30:59.007788Z",
     "start_time": "2024-10-11T21:30:58.092183Z"
    }
   },
   "cell_type": "code",
   "source": [
    "interactions_merge = interactions.merge(items, on='item_id', how='left')\n",
    "interactions_merge.shape"
   ],
   "id": "29511698b4b25a81",
   "outputs": [
    {
     "data": {
      "text/plain": [
       "(6859002, 13)"
      ]
     },
     "execution_count": 54,
     "metadata": {},
     "output_type": "execute_result"
    }
   ],
   "execution_count": 54
  },
  {
   "metadata": {
    "ExecuteTime": {
     "end_time": "2024-10-11T21:31:02.921525Z",
     "start_time": "2024-10-11T21:31:02.490723Z"
    }
   },
   "cell_type": "code",
   "source": [
    "interactions_merge['day'] = interactions_merge['datetime'].dt.day\n",
    "interactions_merge['day_of_week'] = interactions_merge['datetime'].dt.dayofweek  # Monday=0, Sunday=6\n",
    "\n",
    "interactions_merge['hour'] = interactions_merge['datetime'].dt.hour\n",
    "interactions_merge['minute'] = interactions_merge['datetime'].dt.minute"
   ],
   "id": "59042b7e4bce6aa9",
   "outputs": [],
   "execution_count": 55
  },
  {
   "metadata": {
    "ExecuteTime": {
     "end_time": "2024-10-11T21:31:03.512439Z",
     "start_time": "2024-10-11T21:31:02.926160Z"
    }
   },
   "cell_type": "code",
   "source": [
    "interactions_merge['price_diff'] = interactions_merge['price'] - interactions_merge['old_price']\n",
    "\n",
    "interactions_merge['category_id'] = interactions_merge['category_id'].fillna(0)\n",
    "interactions_merge['price_diff'] = interactions_merge['price_diff'].fillna(0)\n",
    "\n",
    "interactions_merge['category_id'] = interactions_merge['category_id'].astype(np.int32)"
   ],
   "id": "e1baf5098e5fb6a5",
   "outputs": [],
   "execution_count": 56
  },
  {
   "metadata": {
    "ExecuteTime": {
     "end_time": "2024-10-11T21:31:09.109436Z",
     "start_time": "2024-10-11T21:31:06.046272Z"
    }
   },
   "cell_type": "code",
   "source": [
    "inters = interactions_merge.merge(\n",
    "    interactions_merge.groupby('user_id')['loc_user_id'].count().reset_index(name='loc_user_count'),\n",
    "    on='user_id',\n",
    "    how='left'\n",
    ")\n",
    "print(inters.shape)"
   ],
   "id": "dbeec347bf647835",
   "outputs": [
    {
     "name": "stdout",
     "output_type": "stream",
     "text": [
      "(6859002, 19)\n"
     ]
    }
   ],
   "execution_count": 57
  },
  {
   "metadata": {
    "ExecuteTime": {
     "end_time": "2024-10-11T21:31:12.520357Z",
     "start_time": "2024-10-11T21:31:09.847967Z"
    }
   },
   "cell_type": "code",
   "source": [
    "inters = inters.merge(\n",
    "    interactions_merge.groupby('user_id')['category_id'].count().reset_index(name='category_id_count'),\n",
    "    on='user_id',\n",
    "    how='left'\n",
    ")\n",
    "print(inters.shape)"
   ],
   "id": "134633534bc44644",
   "outputs": [
    {
     "name": "stdout",
     "output_type": "stream",
     "text": [
      "(6859002, 20)\n"
     ]
    }
   ],
   "execution_count": 58
  },
  {
   "metadata": {
    "ExecuteTime": {
     "end_time": "2024-10-11T21:31:13.409286Z",
     "start_time": "2024-10-11T21:31:13.407661Z"
    }
   },
   "cell_type": "code",
   "source": "",
   "id": "57fdee436f311726",
   "outputs": [],
   "execution_count": null
  },
  {
   "metadata": {
    "ExecuteTime": {
     "end_time": "2024-10-11T21:31:28.145550Z",
     "start_time": "2024-10-11T21:31:14.609579Z"
    }
   },
   "cell_type": "code",
   "source": [
    "for action in sorted(interactions_merge.weight.unique()):\n",
    "    inters = inters.merge(\n",
    "        interactions_merge[interactions_merge.weight  == action].groupby('user_id')['weight'].count().reset_index(name=f'action_{action}_count'),\n",
    "        on='user_id',\n",
    "        how='left'\n",
    "    )\n",
    "    inters[f'action_{action}_count'] = inters[f'action_{action}_count'].fillna(0)\n",
    "print(inters.shape)"
   ],
   "id": "e1bacf3c6ee6e617",
   "outputs": [
    {
     "name": "stdout",
     "output_type": "stream",
     "text": [
      "(6859002, 30)\n"
     ]
    }
   ],
   "execution_count": 59
  },
  {
   "metadata": {
    "ExecuteTime": {
     "end_time": "2024-10-11T21:31:29.695351Z",
     "start_time": "2024-10-11T21:31:29.693731Z"
    }
   },
   "cell_type": "code",
   "source": "",
   "id": "b046b5b46ce107b1",
   "outputs": [],
   "execution_count": null
  },
  {
   "metadata": {
    "ExecuteTime": {
     "end_time": "2024-10-11T21:31:33.506487Z",
     "start_time": "2024-10-11T21:31:31.249695Z"
    }
   },
   "cell_type": "code",
   "source": [
    "inters['delta_sec'] = inters.sort_values(by=['datetime']).groupby('user_id')['datetime'].diff()\n",
    "inters['delta_sec'] = inters['delta_sec'].dt.total_seconds()\n",
    "inters['delta_sec'] = inters['delta_sec'].fillna(0)"
   ],
   "id": "e5529ba8b7fa03a3",
   "outputs": [],
   "execution_count": 60
  },
  {
   "metadata": {
    "ExecuteTime": {
     "end_time": "2024-10-11T21:31:42.494219Z",
     "start_time": "2024-10-11T21:31:35.069657Z"
    }
   },
   "cell_type": "code",
   "source": [
    "inters['delta_day'] = inters.sort_values(by=['datetime']).groupby('user_id')['day'].diff()\n",
    "inters['delta_day'] = inters['delta_day'].fillna(0)\n",
    "\n",
    "inters['delta_hour'] = inters.sort_values(by=['datetime']).groupby('user_id')['hour'].diff()\n",
    "inters['delta_hour'] = inters['delta_hour'].fillna(0)\n",
    "\n",
    "inters['delta_min'] = inters.sort_values(by=['datetime']).groupby('user_id')['minute'].diff()\n",
    "inters['delta_min'] = inters['delta_min'].fillna(0)"
   ],
   "id": "366408200ad38780",
   "outputs": [],
   "execution_count": 61
  },
  {
   "metadata": {
    "ExecuteTime": {
     "end_time": "2024-10-11T21:31:44.623295Z",
     "start_time": "2024-10-11T21:31:44.104619Z"
    }
   },
   "cell_type": "code",
   "source": "inters = inters.drop(columns=['day', 'hour', 'minute'])",
   "id": "b4d3d265efe6438c",
   "outputs": [],
   "execution_count": 62
  },
  {
   "metadata": {
    "ExecuteTime": {
     "end_time": "2024-10-11T21:31:47.697996Z",
     "start_time": "2024-10-11T21:31:47.225693Z"
    }
   },
   "cell_type": "code",
   "source": "inters = inters.drop(columns=['price', 'title', 'old_price', 'date', 'add_date', 'loc_user_id', 'shop_id'])",
   "id": "5a08b82472678503",
   "outputs": [],
   "execution_count": 63
  },
  {
   "metadata": {
    "ExecuteTime": {
     "end_time": "2024-10-11T21:31:50.760851Z",
     "start_time": "2024-10-11T21:31:50.751662Z"
    }
   },
   "cell_type": "code",
   "source": "",
   "id": "4fb8cb777c7bd7ba",
   "outputs": [],
   "execution_count": null
  },
  {
   "metadata": {
    "ExecuteTime": {
     "end_time": "2024-10-11T21:31:55.493571Z",
     "start_time": "2024-10-11T21:31:55.084960Z"
    }
   },
   "cell_type": "code",
   "source": "inters[inters.user_id == 'e4362420-f6ca-11ec-86e0-002590c0647c'].head(500)",
   "id": "84c3076767e80047",
   "outputs": [
    {
     "data": {
      "text/plain": [
       "                                      user_id  weight  item_id      pageId  \\\n",
       "27332    e4362420-f6ca-11ec-86e0-002590c0647c       2       -1  1731967912   \n",
       "27334    e4362420-f6ca-11ec-86e0-002590c0647c       2       -1  1731967912   \n",
       "27337    e4362420-f6ca-11ec-86e0-002590c0647c       2       -1  1731967912   \n",
       "27347    e4362420-f6ca-11ec-86e0-002590c0647c       2       -1  1731967912   \n",
       "27359    e4362420-f6ca-11ec-86e0-002590c0647c       2       -1  1731967912   \n",
       "...                                       ...     ...      ...         ...   \n",
       "6295889  e4362420-f6ca-11ec-86e0-002590c0647c       5  6770769   252042197   \n",
       "6295906  e4362420-f6ca-11ec-86e0-002590c0647c       5  6990711   252042197   \n",
       "6295912  e4362420-f6ca-11ec-86e0-002590c0647c       5  6770769   252042197   \n",
       "6847200  e4362420-f6ca-11ec-86e0-002590c0647c       9  5422963  4263215769   \n",
       "6847201  e4362420-f6ca-11ec-86e0-002590c0647c       9  4899652  4263215769   \n",
       "\n",
       "                   datetime  category_id  day_of_week  price_diff  \\\n",
       "27332   2024-09-07 00:02:02            0            5         0.0   \n",
       "27334   2024-09-07 00:02:05            0            5         0.0   \n",
       "27337   2024-09-07 00:02:08            0            5         0.0   \n",
       "27347   2024-09-07 00:03:03            0            5         0.0   \n",
       "27359   2024-09-07 00:03:32            0            5         0.0   \n",
       "...                     ...          ...          ...         ...   \n",
       "6295889 2024-09-27 06:14:04        50448            4         0.0   \n",
       "6295906 2024-09-27 06:14:21        50448            4         0.0   \n",
       "6295912 2024-09-27 06:14:25        50448            4         0.0   \n",
       "6847200 2024-09-07 00:01:12         2247            5     -5700.0   \n",
       "6847201 2024-09-07 00:01:12          389            5     -4500.0   \n",
       "\n",
       "         loc_user_count  category_id_count  ...  action_4_count  \\\n",
       "27332               384                384  ...           263.0   \n",
       "27334               384                384  ...           263.0   \n",
       "27337               384                384  ...           263.0   \n",
       "27347               384                384  ...           263.0   \n",
       "27359               384                384  ...           263.0   \n",
       "...                 ...                ...  ...             ...   \n",
       "6295889             384                384  ...           263.0   \n",
       "6295906             384                384  ...           263.0   \n",
       "6295912             384                384  ...           263.0   \n",
       "6847200             384                384  ...           263.0   \n",
       "6847201             384                384  ...           263.0   \n",
       "\n",
       "         action_5_count  action_6_count  action_7_count  action_8_count  \\\n",
       "27332              57.0             0.0             0.0             0.0   \n",
       "27334              57.0             0.0             0.0             0.0   \n",
       "27337              57.0             0.0             0.0             0.0   \n",
       "27347              57.0             0.0             0.0             0.0   \n",
       "27359              57.0             0.0             0.0             0.0   \n",
       "...                 ...             ...             ...             ...   \n",
       "6295889            57.0             0.0             0.0             0.0   \n",
       "6295906            57.0             0.0             0.0             0.0   \n",
       "6295912            57.0             0.0             0.0             0.0   \n",
       "6847200            57.0             0.0             0.0             0.0   \n",
       "6847201            57.0             0.0             0.0             0.0   \n",
       "\n",
       "         action_9_count  delta_sec  delta_day  delta_hour  delta_min  \n",
       "27332               2.0        1.0        0.0         0.0        0.0  \n",
       "27334               2.0        1.0        0.0         0.0        0.0  \n",
       "27337               2.0        1.0        0.0         0.0        0.0  \n",
       "27347               2.0        1.0        0.0         0.0        0.0  \n",
       "27359               2.0        2.0        0.0         0.0        0.0  \n",
       "...                 ...        ...        ...         ...        ...  \n",
       "6295889             2.0        1.0        0.0         0.0        0.0  \n",
       "6295906             2.0        1.0        0.0         0.0        0.0  \n",
       "6295912             2.0        1.0        0.0         0.0        0.0  \n",
       "6847200             2.0       20.0        0.0         0.0        1.0  \n",
       "6847201             2.0        0.0        0.0         0.0        0.0  \n",
       "\n",
       "[384 rows x 24 columns]"
      ],
      "text/html": [
       "<div>\n",
       "<style scoped>\n",
       "    .dataframe tbody tr th:only-of-type {\n",
       "        vertical-align: middle;\n",
       "    }\n",
       "\n",
       "    .dataframe tbody tr th {\n",
       "        vertical-align: top;\n",
       "    }\n",
       "\n",
       "    .dataframe thead th {\n",
       "        text-align: right;\n",
       "    }\n",
       "</style>\n",
       "<table border=\"1\" class=\"dataframe\">\n",
       "  <thead>\n",
       "    <tr style=\"text-align: right;\">\n",
       "      <th></th>\n",
       "      <th>user_id</th>\n",
       "      <th>weight</th>\n",
       "      <th>item_id</th>\n",
       "      <th>pageId</th>\n",
       "      <th>datetime</th>\n",
       "      <th>category_id</th>\n",
       "      <th>day_of_week</th>\n",
       "      <th>price_diff</th>\n",
       "      <th>loc_user_count</th>\n",
       "      <th>category_id_count</th>\n",
       "      <th>...</th>\n",
       "      <th>action_4_count</th>\n",
       "      <th>action_5_count</th>\n",
       "      <th>action_6_count</th>\n",
       "      <th>action_7_count</th>\n",
       "      <th>action_8_count</th>\n",
       "      <th>action_9_count</th>\n",
       "      <th>delta_sec</th>\n",
       "      <th>delta_day</th>\n",
       "      <th>delta_hour</th>\n",
       "      <th>delta_min</th>\n",
       "    </tr>\n",
       "  </thead>\n",
       "  <tbody>\n",
       "    <tr>\n",
       "      <th>27332</th>\n",
       "      <td>e4362420-f6ca-11ec-86e0-002590c0647c</td>\n",
       "      <td>2</td>\n",
       "      <td>-1</td>\n",
       "      <td>1731967912</td>\n",
       "      <td>2024-09-07 00:02:02</td>\n",
       "      <td>0</td>\n",
       "      <td>5</td>\n",
       "      <td>0.0</td>\n",
       "      <td>384</td>\n",
       "      <td>384</td>\n",
       "      <td>...</td>\n",
       "      <td>263.0</td>\n",
       "      <td>57.0</td>\n",
       "      <td>0.0</td>\n",
       "      <td>0.0</td>\n",
       "      <td>0.0</td>\n",
       "      <td>2.0</td>\n",
       "      <td>1.0</td>\n",
       "      <td>0.0</td>\n",
       "      <td>0.0</td>\n",
       "      <td>0.0</td>\n",
       "    </tr>\n",
       "    <tr>\n",
       "      <th>27334</th>\n",
       "      <td>e4362420-f6ca-11ec-86e0-002590c0647c</td>\n",
       "      <td>2</td>\n",
       "      <td>-1</td>\n",
       "      <td>1731967912</td>\n",
       "      <td>2024-09-07 00:02:05</td>\n",
       "      <td>0</td>\n",
       "      <td>5</td>\n",
       "      <td>0.0</td>\n",
       "      <td>384</td>\n",
       "      <td>384</td>\n",
       "      <td>...</td>\n",
       "      <td>263.0</td>\n",
       "      <td>57.0</td>\n",
       "      <td>0.0</td>\n",
       "      <td>0.0</td>\n",
       "      <td>0.0</td>\n",
       "      <td>2.0</td>\n",
       "      <td>1.0</td>\n",
       "      <td>0.0</td>\n",
       "      <td>0.0</td>\n",
       "      <td>0.0</td>\n",
       "    </tr>\n",
       "    <tr>\n",
       "      <th>27337</th>\n",
       "      <td>e4362420-f6ca-11ec-86e0-002590c0647c</td>\n",
       "      <td>2</td>\n",
       "      <td>-1</td>\n",
       "      <td>1731967912</td>\n",
       "      <td>2024-09-07 00:02:08</td>\n",
       "      <td>0</td>\n",
       "      <td>5</td>\n",
       "      <td>0.0</td>\n",
       "      <td>384</td>\n",
       "      <td>384</td>\n",
       "      <td>...</td>\n",
       "      <td>263.0</td>\n",
       "      <td>57.0</td>\n",
       "      <td>0.0</td>\n",
       "      <td>0.0</td>\n",
       "      <td>0.0</td>\n",
       "      <td>2.0</td>\n",
       "      <td>1.0</td>\n",
       "      <td>0.0</td>\n",
       "      <td>0.0</td>\n",
       "      <td>0.0</td>\n",
       "    </tr>\n",
       "    <tr>\n",
       "      <th>27347</th>\n",
       "      <td>e4362420-f6ca-11ec-86e0-002590c0647c</td>\n",
       "      <td>2</td>\n",
       "      <td>-1</td>\n",
       "      <td>1731967912</td>\n",
       "      <td>2024-09-07 00:03:03</td>\n",
       "      <td>0</td>\n",
       "      <td>5</td>\n",
       "      <td>0.0</td>\n",
       "      <td>384</td>\n",
       "      <td>384</td>\n",
       "      <td>...</td>\n",
       "      <td>263.0</td>\n",
       "      <td>57.0</td>\n",
       "      <td>0.0</td>\n",
       "      <td>0.0</td>\n",
       "      <td>0.0</td>\n",
       "      <td>2.0</td>\n",
       "      <td>1.0</td>\n",
       "      <td>0.0</td>\n",
       "      <td>0.0</td>\n",
       "      <td>0.0</td>\n",
       "    </tr>\n",
       "    <tr>\n",
       "      <th>27359</th>\n",
       "      <td>e4362420-f6ca-11ec-86e0-002590c0647c</td>\n",
       "      <td>2</td>\n",
       "      <td>-1</td>\n",
       "      <td>1731967912</td>\n",
       "      <td>2024-09-07 00:03:32</td>\n",
       "      <td>0</td>\n",
       "      <td>5</td>\n",
       "      <td>0.0</td>\n",
       "      <td>384</td>\n",
       "      <td>384</td>\n",
       "      <td>...</td>\n",
       "      <td>263.0</td>\n",
       "      <td>57.0</td>\n",
       "      <td>0.0</td>\n",
       "      <td>0.0</td>\n",
       "      <td>0.0</td>\n",
       "      <td>2.0</td>\n",
       "      <td>2.0</td>\n",
       "      <td>0.0</td>\n",
       "      <td>0.0</td>\n",
       "      <td>0.0</td>\n",
       "    </tr>\n",
       "    <tr>\n",
       "      <th>...</th>\n",
       "      <td>...</td>\n",
       "      <td>...</td>\n",
       "      <td>...</td>\n",
       "      <td>...</td>\n",
       "      <td>...</td>\n",
       "      <td>...</td>\n",
       "      <td>...</td>\n",
       "      <td>...</td>\n",
       "      <td>...</td>\n",
       "      <td>...</td>\n",
       "      <td>...</td>\n",
       "      <td>...</td>\n",
       "      <td>...</td>\n",
       "      <td>...</td>\n",
       "      <td>...</td>\n",
       "      <td>...</td>\n",
       "      <td>...</td>\n",
       "      <td>...</td>\n",
       "      <td>...</td>\n",
       "      <td>...</td>\n",
       "      <td>...</td>\n",
       "    </tr>\n",
       "    <tr>\n",
       "      <th>6295889</th>\n",
       "      <td>e4362420-f6ca-11ec-86e0-002590c0647c</td>\n",
       "      <td>5</td>\n",
       "      <td>6770769</td>\n",
       "      <td>252042197</td>\n",
       "      <td>2024-09-27 06:14:04</td>\n",
       "      <td>50448</td>\n",
       "      <td>4</td>\n",
       "      <td>0.0</td>\n",
       "      <td>384</td>\n",
       "      <td>384</td>\n",
       "      <td>...</td>\n",
       "      <td>263.0</td>\n",
       "      <td>57.0</td>\n",
       "      <td>0.0</td>\n",
       "      <td>0.0</td>\n",
       "      <td>0.0</td>\n",
       "      <td>2.0</td>\n",
       "      <td>1.0</td>\n",
       "      <td>0.0</td>\n",
       "      <td>0.0</td>\n",
       "      <td>0.0</td>\n",
       "    </tr>\n",
       "    <tr>\n",
       "      <th>6295906</th>\n",
       "      <td>e4362420-f6ca-11ec-86e0-002590c0647c</td>\n",
       "      <td>5</td>\n",
       "      <td>6990711</td>\n",
       "      <td>252042197</td>\n",
       "      <td>2024-09-27 06:14:21</td>\n",
       "      <td>50448</td>\n",
       "      <td>4</td>\n",
       "      <td>0.0</td>\n",
       "      <td>384</td>\n",
       "      <td>384</td>\n",
       "      <td>...</td>\n",
       "      <td>263.0</td>\n",
       "      <td>57.0</td>\n",
       "      <td>0.0</td>\n",
       "      <td>0.0</td>\n",
       "      <td>0.0</td>\n",
       "      <td>2.0</td>\n",
       "      <td>1.0</td>\n",
       "      <td>0.0</td>\n",
       "      <td>0.0</td>\n",
       "      <td>0.0</td>\n",
       "    </tr>\n",
       "    <tr>\n",
       "      <th>6295912</th>\n",
       "      <td>e4362420-f6ca-11ec-86e0-002590c0647c</td>\n",
       "      <td>5</td>\n",
       "      <td>6770769</td>\n",
       "      <td>252042197</td>\n",
       "      <td>2024-09-27 06:14:25</td>\n",
       "      <td>50448</td>\n",
       "      <td>4</td>\n",
       "      <td>0.0</td>\n",
       "      <td>384</td>\n",
       "      <td>384</td>\n",
       "      <td>...</td>\n",
       "      <td>263.0</td>\n",
       "      <td>57.0</td>\n",
       "      <td>0.0</td>\n",
       "      <td>0.0</td>\n",
       "      <td>0.0</td>\n",
       "      <td>2.0</td>\n",
       "      <td>1.0</td>\n",
       "      <td>0.0</td>\n",
       "      <td>0.0</td>\n",
       "      <td>0.0</td>\n",
       "    </tr>\n",
       "    <tr>\n",
       "      <th>6847200</th>\n",
       "      <td>e4362420-f6ca-11ec-86e0-002590c0647c</td>\n",
       "      <td>9</td>\n",
       "      <td>5422963</td>\n",
       "      <td>4263215769</td>\n",
       "      <td>2024-09-07 00:01:12</td>\n",
       "      <td>2247</td>\n",
       "      <td>5</td>\n",
       "      <td>-5700.0</td>\n",
       "      <td>384</td>\n",
       "      <td>384</td>\n",
       "      <td>...</td>\n",
       "      <td>263.0</td>\n",
       "      <td>57.0</td>\n",
       "      <td>0.0</td>\n",
       "      <td>0.0</td>\n",
       "      <td>0.0</td>\n",
       "      <td>2.0</td>\n",
       "      <td>20.0</td>\n",
       "      <td>0.0</td>\n",
       "      <td>0.0</td>\n",
       "      <td>1.0</td>\n",
       "    </tr>\n",
       "    <tr>\n",
       "      <th>6847201</th>\n",
       "      <td>e4362420-f6ca-11ec-86e0-002590c0647c</td>\n",
       "      <td>9</td>\n",
       "      <td>4899652</td>\n",
       "      <td>4263215769</td>\n",
       "      <td>2024-09-07 00:01:12</td>\n",
       "      <td>389</td>\n",
       "      <td>5</td>\n",
       "      <td>-4500.0</td>\n",
       "      <td>384</td>\n",
       "      <td>384</td>\n",
       "      <td>...</td>\n",
       "      <td>263.0</td>\n",
       "      <td>57.0</td>\n",
       "      <td>0.0</td>\n",
       "      <td>0.0</td>\n",
       "      <td>0.0</td>\n",
       "      <td>2.0</td>\n",
       "      <td>0.0</td>\n",
       "      <td>0.0</td>\n",
       "      <td>0.0</td>\n",
       "      <td>0.0</td>\n",
       "    </tr>\n",
       "  </tbody>\n",
       "</table>\n",
       "<p>384 rows × 24 columns</p>\n",
       "</div>"
      ]
     },
     "execution_count": 64,
     "metadata": {},
     "output_type": "execute_result"
    }
   ],
   "execution_count": 64
  },
  {
   "metadata": {
    "ExecuteTime": {
     "end_time": "2024-10-11T21:31:55.578980Z",
     "start_time": "2024-10-11T21:31:55.562470Z"
    }
   },
   "cell_type": "code",
   "source": "inters.head()",
   "id": "8f5f038c3b20fe14",
   "outputs": [
    {
     "data": {
      "text/plain": [
       "                                user_id  weight  item_id      pageId  \\\n",
       "0  5b08b2fc-0e71-11ee-86e0-002590c0647c       0       -1    89919732   \n",
       "1  1af7e04c-6cd1-11ef-9b7b-002590c82436       0       -1   851020872   \n",
       "2  d41cdad4-3b4c-11ef-86e0-002590c0647c       0       -1  1515288183   \n",
       "3  59b9d89a-1de2-11eb-86e0-002590c0647c       0       -1  1497267364   \n",
       "4  9c087566-8065-11ed-86e0-002590c0647c       0       -1  3039170152   \n",
       "\n",
       "             datetime  category_id  day_of_week  price_diff  loc_user_count  \\\n",
       "0 2024-09-07 05:11:00            0            5         0.0             141   \n",
       "1 2024-09-07 05:50:01            0            5         0.0              91   \n",
       "2 2024-09-07 07:37:02            0            5         0.0              85   \n",
       "3 2024-09-07 11:52:12            0            5         0.0            8270   \n",
       "4 2024-09-07 12:14:30            0            5         0.0             182   \n",
       "\n",
       "   category_id_count  ...  action_4_count  action_5_count  action_6_count  \\\n",
       "0                141  ...           101.0            27.0             2.0   \n",
       "1                 91  ...            47.0            25.0             0.0   \n",
       "2                 85  ...            48.0            14.0             0.0   \n",
       "3               8270  ...          5244.0           694.0             1.0   \n",
       "4                182  ...           118.0            26.0             0.0   \n",
       "\n",
       "   action_7_count  action_8_count  action_9_count  delta_sec  delta_day  \\\n",
       "0             1.0             1.0             0.0       24.0        0.0   \n",
       "1             2.0             5.0             1.0        6.0        0.0   \n",
       "2             2.0             6.0             0.0        8.0        0.0   \n",
       "3           125.0          1729.0           112.0        3.0        0.0   \n",
       "4             3.0             8.0             0.0        9.0        0.0   \n",
       "\n",
       "   delta_hour  delta_min  \n",
       "0         0.0        1.0  \n",
       "1         0.0        1.0  \n",
       "2         0.0        1.0  \n",
       "3         0.0        0.0  \n",
       "4         0.0        0.0  \n",
       "\n",
       "[5 rows x 24 columns]"
      ],
      "text/html": [
       "<div>\n",
       "<style scoped>\n",
       "    .dataframe tbody tr th:only-of-type {\n",
       "        vertical-align: middle;\n",
       "    }\n",
       "\n",
       "    .dataframe tbody tr th {\n",
       "        vertical-align: top;\n",
       "    }\n",
       "\n",
       "    .dataframe thead th {\n",
       "        text-align: right;\n",
       "    }\n",
       "</style>\n",
       "<table border=\"1\" class=\"dataframe\">\n",
       "  <thead>\n",
       "    <tr style=\"text-align: right;\">\n",
       "      <th></th>\n",
       "      <th>user_id</th>\n",
       "      <th>weight</th>\n",
       "      <th>item_id</th>\n",
       "      <th>pageId</th>\n",
       "      <th>datetime</th>\n",
       "      <th>category_id</th>\n",
       "      <th>day_of_week</th>\n",
       "      <th>price_diff</th>\n",
       "      <th>loc_user_count</th>\n",
       "      <th>category_id_count</th>\n",
       "      <th>...</th>\n",
       "      <th>action_4_count</th>\n",
       "      <th>action_5_count</th>\n",
       "      <th>action_6_count</th>\n",
       "      <th>action_7_count</th>\n",
       "      <th>action_8_count</th>\n",
       "      <th>action_9_count</th>\n",
       "      <th>delta_sec</th>\n",
       "      <th>delta_day</th>\n",
       "      <th>delta_hour</th>\n",
       "      <th>delta_min</th>\n",
       "    </tr>\n",
       "  </thead>\n",
       "  <tbody>\n",
       "    <tr>\n",
       "      <th>0</th>\n",
       "      <td>5b08b2fc-0e71-11ee-86e0-002590c0647c</td>\n",
       "      <td>0</td>\n",
       "      <td>-1</td>\n",
       "      <td>89919732</td>\n",
       "      <td>2024-09-07 05:11:00</td>\n",
       "      <td>0</td>\n",
       "      <td>5</td>\n",
       "      <td>0.0</td>\n",
       "      <td>141</td>\n",
       "      <td>141</td>\n",
       "      <td>...</td>\n",
       "      <td>101.0</td>\n",
       "      <td>27.0</td>\n",
       "      <td>2.0</td>\n",
       "      <td>1.0</td>\n",
       "      <td>1.0</td>\n",
       "      <td>0.0</td>\n",
       "      <td>24.0</td>\n",
       "      <td>0.0</td>\n",
       "      <td>0.0</td>\n",
       "      <td>1.0</td>\n",
       "    </tr>\n",
       "    <tr>\n",
       "      <th>1</th>\n",
       "      <td>1af7e04c-6cd1-11ef-9b7b-002590c82436</td>\n",
       "      <td>0</td>\n",
       "      <td>-1</td>\n",
       "      <td>851020872</td>\n",
       "      <td>2024-09-07 05:50:01</td>\n",
       "      <td>0</td>\n",
       "      <td>5</td>\n",
       "      <td>0.0</td>\n",
       "      <td>91</td>\n",
       "      <td>91</td>\n",
       "      <td>...</td>\n",
       "      <td>47.0</td>\n",
       "      <td>25.0</td>\n",
       "      <td>0.0</td>\n",
       "      <td>2.0</td>\n",
       "      <td>5.0</td>\n",
       "      <td>1.0</td>\n",
       "      <td>6.0</td>\n",
       "      <td>0.0</td>\n",
       "      <td>0.0</td>\n",
       "      <td>1.0</td>\n",
       "    </tr>\n",
       "    <tr>\n",
       "      <th>2</th>\n",
       "      <td>d41cdad4-3b4c-11ef-86e0-002590c0647c</td>\n",
       "      <td>0</td>\n",
       "      <td>-1</td>\n",
       "      <td>1515288183</td>\n",
       "      <td>2024-09-07 07:37:02</td>\n",
       "      <td>0</td>\n",
       "      <td>5</td>\n",
       "      <td>0.0</td>\n",
       "      <td>85</td>\n",
       "      <td>85</td>\n",
       "      <td>...</td>\n",
       "      <td>48.0</td>\n",
       "      <td>14.0</td>\n",
       "      <td>0.0</td>\n",
       "      <td>2.0</td>\n",
       "      <td>6.0</td>\n",
       "      <td>0.0</td>\n",
       "      <td>8.0</td>\n",
       "      <td>0.0</td>\n",
       "      <td>0.0</td>\n",
       "      <td>1.0</td>\n",
       "    </tr>\n",
       "    <tr>\n",
       "      <th>3</th>\n",
       "      <td>59b9d89a-1de2-11eb-86e0-002590c0647c</td>\n",
       "      <td>0</td>\n",
       "      <td>-1</td>\n",
       "      <td>1497267364</td>\n",
       "      <td>2024-09-07 11:52:12</td>\n",
       "      <td>0</td>\n",
       "      <td>5</td>\n",
       "      <td>0.0</td>\n",
       "      <td>8270</td>\n",
       "      <td>8270</td>\n",
       "      <td>...</td>\n",
       "      <td>5244.0</td>\n",
       "      <td>694.0</td>\n",
       "      <td>1.0</td>\n",
       "      <td>125.0</td>\n",
       "      <td>1729.0</td>\n",
       "      <td>112.0</td>\n",
       "      <td>3.0</td>\n",
       "      <td>0.0</td>\n",
       "      <td>0.0</td>\n",
       "      <td>0.0</td>\n",
       "    </tr>\n",
       "    <tr>\n",
       "      <th>4</th>\n",
       "      <td>9c087566-8065-11ed-86e0-002590c0647c</td>\n",
       "      <td>0</td>\n",
       "      <td>-1</td>\n",
       "      <td>3039170152</td>\n",
       "      <td>2024-09-07 12:14:30</td>\n",
       "      <td>0</td>\n",
       "      <td>5</td>\n",
       "      <td>0.0</td>\n",
       "      <td>182</td>\n",
       "      <td>182</td>\n",
       "      <td>...</td>\n",
       "      <td>118.0</td>\n",
       "      <td>26.0</td>\n",
       "      <td>0.0</td>\n",
       "      <td>3.0</td>\n",
       "      <td>8.0</td>\n",
       "      <td>0.0</td>\n",
       "      <td>9.0</td>\n",
       "      <td>0.0</td>\n",
       "      <td>0.0</td>\n",
       "      <td>0.0</td>\n",
       "    </tr>\n",
       "  </tbody>\n",
       "</table>\n",
       "<p>5 rows × 24 columns</p>\n",
       "</div>"
      ]
     },
     "execution_count": 65,
     "metadata": {},
     "output_type": "execute_result"
    }
   ],
   "execution_count": 65
  },
  {
   "metadata": {},
   "cell_type": "markdown",
   "source": [
    "#### baseline filter v4.2 parameters:\n",
    " pd.Timedelta(5, unit='D') & (purchasers['weight'] > 7) & purchasers.iloc[purchasers.shape[0] - 3000:, :].item_id"
   ],
   "id": "46b4f802f31a73b1"
  },
  {
   "metadata": {
    "ExecuteTime": {
     "end_time": "2024-10-11T21:31:57.679863Z",
     "start_time": "2024-10-11T21:31:55.661238Z"
    }
   },
   "cell_type": "code",
   "source": [
    "last_5_days = inters['datetime'].max() - pd.Timedelta(5, unit='D')\n",
    "purchasers = inters.sort_values(by=['datetime', 'weight'], ascending=True)\n",
    "purchasers = purchasers[(purchasers['weight'] > 7) & (purchasers['datetime'] > last_5_days)]\n",
    "purchasers = purchasers.groupby(['user_id'])['item_id'].apply(processing)\n",
    "purchasers = purchasers.reset_index()\n",
    "purchasers.shape"
   ],
   "id": "66f65e864bf90672",
   "outputs": [
    {
     "data": {
      "text/plain": [
       "(3793, 2)"
      ]
     },
     "execution_count": 66,
     "metadata": {},
     "output_type": "execute_result"
    }
   ],
   "execution_count": 66
  },
  {
   "metadata": {
    "ExecuteTime": {
     "end_time": "2024-10-11T21:31:57.730312Z",
     "start_time": "2024-10-11T21:31:57.726268Z"
    }
   },
   "cell_type": "code",
   "source": "len(purchasers.user_id.unique())",
   "id": "1707a17272a1064",
   "outputs": [
    {
     "data": {
      "text/plain": [
       "3793"
      ]
     },
     "execution_count": 67,
     "metadata": {},
     "output_type": "execute_result"
    }
   ],
   "execution_count": 67
  },
  {
   "metadata": {
    "ExecuteTime": {
     "end_time": "2024-10-11T21:31:59.383349Z",
     "start_time": "2024-10-11T21:31:59.380517Z"
    }
   },
   "cell_type": "code",
   "source": "proved_ids = purchasers.iloc[purchasers.shape[0] - 3000:, :].item_id",
   "id": "d33974c45d4b98c7",
   "outputs": [],
   "execution_count": 68
  },
  {
   "metadata": {
    "ExecuteTime": {
     "end_time": "2024-10-11T21:32:00.949292Z",
     "start_time": "2024-10-11T21:32:00.826305Z"
    }
   },
   "cell_type": "code",
   "source": [
    "purchasers = purchasers[purchasers.item_id.isin(proved_ids)]\n",
    "print(purchasers.shape)\n",
    "p = purchasers.iloc[purchasers.shape[0] - 3000:, :].reset_index(drop=True).rename(columns={'item_id': 'products'})\n",
    "print(p.shape)\n",
    "p.to_csv(\"predictions.csv\", index=False)"
   ],
   "id": "366355d6b642bc51",
   "outputs": [
    {
     "name": "stdout",
     "output_type": "stream",
     "text": [
      "(3052, 2)\n",
      "(3000, 2)\n"
     ]
    }
   ],
   "execution_count": 69
  },
  {
   "metadata": {
    "ExecuteTime": {
     "end_time": "2024-10-11T21:32:02.377946Z",
     "start_time": "2024-10-11T21:32:02.366461Z"
    }
   },
   "cell_type": "code",
   "source": [
    "print(pd.read_csv('predictions.csv').shape)\n",
    "pd.read_csv('predictions.csv').sample(200)"
   ],
   "id": "f3f46f9ed34f9f5",
   "outputs": [
    {
     "name": "stdout",
     "output_type": "stream",
     "text": [
      "(3000, 2)\n"
     ]
    },
    {
     "data": {
      "text/plain": [
       "                                   user_id  \\\n",
       "907   721769b6-80d6-11ee-86e0-002590c0647c   \n",
       "295   4b4a627e-0c94-11ec-8a53-0cc47a6d2fef   \n",
       "1112  80659550-8cda-11ee-bbb1-002590c82437   \n",
       "1879  b28267a4-a303-11ee-bbb1-002590c82436   \n",
       "1055  7cb99dc2-b82b-11ed-86e0-002590c0647c   \n",
       "...                                    ...   \n",
       "2478  d9feed0e-52fb-11ef-9b7b-002590c82436   \n",
       "1486  973fd48a-3c1b-11ee-b1da-002590c82437   \n",
       "82    3c1f19fc-f34e-11eb-a6e9-002590c82437   \n",
       "1107  8011f5f2-db19-11ee-ad8e-002590c82436   \n",
       "2155  c5820f12-f664-11ee-9b7b-002590c82436   \n",
       "\n",
       "                                               products  \n",
       "907                                         ['6143023']  \n",
       "295        ['3633364', '6230464', '5280298', '6209083']  \n",
       "1112  ['1499234', '1470440', '6398419', '853819', '8...  \n",
       "1879                                        ['5386858']  \n",
       "1055                                        ['4867651']  \n",
       "...                                                 ...  \n",
       "2478                                        ['5884027']  \n",
       "1486                  ['5883052', '4989073', '4888021']  \n",
       "82                                          ['1411487']  \n",
       "1107  ['3998541', '3845872', '698755', '698770', '87...  \n",
       "2155                                        ['2752321']  \n",
       "\n",
       "[200 rows x 2 columns]"
      ],
      "text/html": [
       "<div>\n",
       "<style scoped>\n",
       "    .dataframe tbody tr th:only-of-type {\n",
       "        vertical-align: middle;\n",
       "    }\n",
       "\n",
       "    .dataframe tbody tr th {\n",
       "        vertical-align: top;\n",
       "    }\n",
       "\n",
       "    .dataframe thead th {\n",
       "        text-align: right;\n",
       "    }\n",
       "</style>\n",
       "<table border=\"1\" class=\"dataframe\">\n",
       "  <thead>\n",
       "    <tr style=\"text-align: right;\">\n",
       "      <th></th>\n",
       "      <th>user_id</th>\n",
       "      <th>products</th>\n",
       "    </tr>\n",
       "  </thead>\n",
       "  <tbody>\n",
       "    <tr>\n",
       "      <th>907</th>\n",
       "      <td>721769b6-80d6-11ee-86e0-002590c0647c</td>\n",
       "      <td>['6143023']</td>\n",
       "    </tr>\n",
       "    <tr>\n",
       "      <th>295</th>\n",
       "      <td>4b4a627e-0c94-11ec-8a53-0cc47a6d2fef</td>\n",
       "      <td>['3633364', '6230464', '5280298', '6209083']</td>\n",
       "    </tr>\n",
       "    <tr>\n",
       "      <th>1112</th>\n",
       "      <td>80659550-8cda-11ee-bbb1-002590c82437</td>\n",
       "      <td>['1499234', '1470440', '6398419', '853819', '8...</td>\n",
       "    </tr>\n",
       "    <tr>\n",
       "      <th>1879</th>\n",
       "      <td>b28267a4-a303-11ee-bbb1-002590c82436</td>\n",
       "      <td>['5386858']</td>\n",
       "    </tr>\n",
       "    <tr>\n",
       "      <th>1055</th>\n",
       "      <td>7cb99dc2-b82b-11ed-86e0-002590c0647c</td>\n",
       "      <td>['4867651']</td>\n",
       "    </tr>\n",
       "    <tr>\n",
       "      <th>...</th>\n",
       "      <td>...</td>\n",
       "      <td>...</td>\n",
       "    </tr>\n",
       "    <tr>\n",
       "      <th>2478</th>\n",
       "      <td>d9feed0e-52fb-11ef-9b7b-002590c82436</td>\n",
       "      <td>['5884027']</td>\n",
       "    </tr>\n",
       "    <tr>\n",
       "      <th>1486</th>\n",
       "      <td>973fd48a-3c1b-11ee-b1da-002590c82437</td>\n",
       "      <td>['5883052', '4989073', '4888021']</td>\n",
       "    </tr>\n",
       "    <tr>\n",
       "      <th>82</th>\n",
       "      <td>3c1f19fc-f34e-11eb-a6e9-002590c82437</td>\n",
       "      <td>['1411487']</td>\n",
       "    </tr>\n",
       "    <tr>\n",
       "      <th>1107</th>\n",
       "      <td>8011f5f2-db19-11ee-ad8e-002590c82436</td>\n",
       "      <td>['3998541', '3845872', '698755', '698770', '87...</td>\n",
       "    </tr>\n",
       "    <tr>\n",
       "      <th>2155</th>\n",
       "      <td>c5820f12-f664-11ee-9b7b-002590c82436</td>\n",
       "      <td>['2752321']</td>\n",
       "    </tr>\n",
       "  </tbody>\n",
       "</table>\n",
       "<p>200 rows × 2 columns</p>\n",
       "</div>"
      ]
     },
     "execution_count": 70,
     "metadata": {},
     "output_type": "execute_result"
    }
   ],
   "execution_count": 70
  },
  {
   "metadata": {
    "ExecuteTime": {
     "end_time": "2024-10-11T21:32:03.826561Z",
     "start_time": "2024-10-11T21:32:03.824535Z"
    }
   },
   "cell_type": "code",
   "source": "",
   "id": "c31fe5ba397faa76",
   "outputs": [],
   "execution_count": null
  },
  {
   "metadata": {},
   "cell_type": "markdown",
   "source": "#### Тренировка модели для распознования ключевого события",
   "id": "71b58e8af56b9ae3"
  },
  {
   "metadata": {
    "ExecuteTime": {
     "end_time": "2024-10-11T21:32:03.890746Z",
     "start_time": "2024-10-11T21:32:03.866772Z"
    }
   },
   "cell_type": "code",
   "source": "inters[inters.weight == 1]",
   "id": "6705e17e173899f1",
   "outputs": [
    {
     "data": {
      "text/plain": [
       "                                    user_id  weight  item_id      pageId  \\\n",
       "369    59386b5c-e64f-11ec-8086-002590c82437       1  5930062   298100564   \n",
       "370    59386b5c-e64f-11ec-8086-002590c82437       1  5930059   298100564   \n",
       "371    59386b5c-e64f-11ec-8086-002590c82437       1  5930065   298100564   \n",
       "372    59386b5c-e64f-11ec-8086-002590c82437       1  1330052   298100564   \n",
       "373    59386b5c-e64f-11ec-8086-002590c82437       1  2061391   298100564   \n",
       "...                                     ...     ...      ...         ...   \n",
       "27315  0fce28d6-0a6e-11ef-86e0-002590c0647c       1  6338047   531372315   \n",
       "27316  9dbc652c-fd53-11ee-9b7b-002590c82436       1  5015896  2298361325   \n",
       "27317  9dbc652c-fd53-11ee-9b7b-002590c82436       1  5015908  2298361325   \n",
       "27318  0fce28d6-0a6e-11ef-86e0-002590c0647c       1  4942615  2198278090   \n",
       "27319  0fce28d6-0a6e-11ef-86e0-002590c0647c       1  5135608  3313870710   \n",
       "\n",
       "                 datetime  category_id  day_of_week  price_diff  \\\n",
       "369   2024-09-07 00:24:19          185            5     -2100.0   \n",
       "370   2024-09-07 00:24:24          185            5     -2100.0   \n",
       "371   2024-09-07 00:24:28          185            5     -2100.0   \n",
       "372   2024-09-07 00:24:43         1139            5     -5300.0   \n",
       "373   2024-09-07 00:25:02         1134            5     -2800.0   \n",
       "...                   ...          ...          ...         ...   \n",
       "27315 2024-09-28 23:22:56          984            5     -1290.0   \n",
       "27316 2024-09-28 23:36:13         6567            5         0.0   \n",
       "27317 2024-09-28 23:36:21         6567            5         0.0   \n",
       "27318 2024-09-28 23:40:02        40321            5         0.0   \n",
       "27319 2024-09-28 23:40:16        40321            5         0.0   \n",
       "\n",
       "       loc_user_count  category_id_count  ...  action_4_count  action_5_count  \\\n",
       "369              6273               6273  ...          2174.0           863.0   \n",
       "370              6273               6273  ...          2174.0           863.0   \n",
       "371              6273               6273  ...          2174.0           863.0   \n",
       "372              6273               6273  ...          2174.0           863.0   \n",
       "373              6273               6273  ...          2174.0           863.0   \n",
       "...               ...                ...  ...             ...             ...   \n",
       "27315            1491               1491  ...           624.0           158.0   \n",
       "27316            3802               3802  ...          1259.0           431.0   \n",
       "27317            3802               3802  ...          1259.0           431.0   \n",
       "27318            1491               1491  ...           624.0           158.0   \n",
       "27319            1491               1491  ...           624.0           158.0   \n",
       "\n",
       "       action_6_count  action_7_count  action_8_count  action_9_count  \\\n",
       "369              89.0           141.0          2301.0            29.0   \n",
       "370              89.0           141.0          2301.0            29.0   \n",
       "371              89.0           141.0          2301.0            29.0   \n",
       "372              89.0           141.0          2301.0            29.0   \n",
       "373              89.0           141.0          2301.0            29.0   \n",
       "...               ...             ...             ...             ...   \n",
       "27315             0.0            34.0           455.0             7.0   \n",
       "27316             8.0           248.0          1627.0            12.0   \n",
       "27317             8.0           248.0          1627.0            12.0   \n",
       "27318             0.0            34.0           455.0             7.0   \n",
       "27319             0.0            34.0           455.0             7.0   \n",
       "\n",
       "       delta_sec  delta_day  delta_hour  delta_min  \n",
       "369         28.0        0.0         0.0        1.0  \n",
       "370          4.0        0.0         0.0        0.0  \n",
       "371          4.0        0.0         0.0        0.0  \n",
       "372         14.0        0.0         0.0        0.0  \n",
       "373         18.0        0.0         0.0        1.0  \n",
       "...          ...        ...         ...        ...  \n",
       "27315        7.0        0.0         0.0        0.0  \n",
       "27316        5.0        0.0         0.0        0.0  \n",
       "27317        3.0        0.0         0.0        0.0  \n",
       "27318        0.0        0.0         0.0        0.0  \n",
       "27319        0.0        0.0         0.0        0.0  \n",
       "\n",
       "[26951 rows x 24 columns]"
      ],
      "text/html": [
       "<div>\n",
       "<style scoped>\n",
       "    .dataframe tbody tr th:only-of-type {\n",
       "        vertical-align: middle;\n",
       "    }\n",
       "\n",
       "    .dataframe tbody tr th {\n",
       "        vertical-align: top;\n",
       "    }\n",
       "\n",
       "    .dataframe thead th {\n",
       "        text-align: right;\n",
       "    }\n",
       "</style>\n",
       "<table border=\"1\" class=\"dataframe\">\n",
       "  <thead>\n",
       "    <tr style=\"text-align: right;\">\n",
       "      <th></th>\n",
       "      <th>user_id</th>\n",
       "      <th>weight</th>\n",
       "      <th>item_id</th>\n",
       "      <th>pageId</th>\n",
       "      <th>datetime</th>\n",
       "      <th>category_id</th>\n",
       "      <th>day_of_week</th>\n",
       "      <th>price_diff</th>\n",
       "      <th>loc_user_count</th>\n",
       "      <th>category_id_count</th>\n",
       "      <th>...</th>\n",
       "      <th>action_4_count</th>\n",
       "      <th>action_5_count</th>\n",
       "      <th>action_6_count</th>\n",
       "      <th>action_7_count</th>\n",
       "      <th>action_8_count</th>\n",
       "      <th>action_9_count</th>\n",
       "      <th>delta_sec</th>\n",
       "      <th>delta_day</th>\n",
       "      <th>delta_hour</th>\n",
       "      <th>delta_min</th>\n",
       "    </tr>\n",
       "  </thead>\n",
       "  <tbody>\n",
       "    <tr>\n",
       "      <th>369</th>\n",
       "      <td>59386b5c-e64f-11ec-8086-002590c82437</td>\n",
       "      <td>1</td>\n",
       "      <td>5930062</td>\n",
       "      <td>298100564</td>\n",
       "      <td>2024-09-07 00:24:19</td>\n",
       "      <td>185</td>\n",
       "      <td>5</td>\n",
       "      <td>-2100.0</td>\n",
       "      <td>6273</td>\n",
       "      <td>6273</td>\n",
       "      <td>...</td>\n",
       "      <td>2174.0</td>\n",
       "      <td>863.0</td>\n",
       "      <td>89.0</td>\n",
       "      <td>141.0</td>\n",
       "      <td>2301.0</td>\n",
       "      <td>29.0</td>\n",
       "      <td>28.0</td>\n",
       "      <td>0.0</td>\n",
       "      <td>0.0</td>\n",
       "      <td>1.0</td>\n",
       "    </tr>\n",
       "    <tr>\n",
       "      <th>370</th>\n",
       "      <td>59386b5c-e64f-11ec-8086-002590c82437</td>\n",
       "      <td>1</td>\n",
       "      <td>5930059</td>\n",
       "      <td>298100564</td>\n",
       "      <td>2024-09-07 00:24:24</td>\n",
       "      <td>185</td>\n",
       "      <td>5</td>\n",
       "      <td>-2100.0</td>\n",
       "      <td>6273</td>\n",
       "      <td>6273</td>\n",
       "      <td>...</td>\n",
       "      <td>2174.0</td>\n",
       "      <td>863.0</td>\n",
       "      <td>89.0</td>\n",
       "      <td>141.0</td>\n",
       "      <td>2301.0</td>\n",
       "      <td>29.0</td>\n",
       "      <td>4.0</td>\n",
       "      <td>0.0</td>\n",
       "      <td>0.0</td>\n",
       "      <td>0.0</td>\n",
       "    </tr>\n",
       "    <tr>\n",
       "      <th>371</th>\n",
       "      <td>59386b5c-e64f-11ec-8086-002590c82437</td>\n",
       "      <td>1</td>\n",
       "      <td>5930065</td>\n",
       "      <td>298100564</td>\n",
       "      <td>2024-09-07 00:24:28</td>\n",
       "      <td>185</td>\n",
       "      <td>5</td>\n",
       "      <td>-2100.0</td>\n",
       "      <td>6273</td>\n",
       "      <td>6273</td>\n",
       "      <td>...</td>\n",
       "      <td>2174.0</td>\n",
       "      <td>863.0</td>\n",
       "      <td>89.0</td>\n",
       "      <td>141.0</td>\n",
       "      <td>2301.0</td>\n",
       "      <td>29.0</td>\n",
       "      <td>4.0</td>\n",
       "      <td>0.0</td>\n",
       "      <td>0.0</td>\n",
       "      <td>0.0</td>\n",
       "    </tr>\n",
       "    <tr>\n",
       "      <th>372</th>\n",
       "      <td>59386b5c-e64f-11ec-8086-002590c82437</td>\n",
       "      <td>1</td>\n",
       "      <td>1330052</td>\n",
       "      <td>298100564</td>\n",
       "      <td>2024-09-07 00:24:43</td>\n",
       "      <td>1139</td>\n",
       "      <td>5</td>\n",
       "      <td>-5300.0</td>\n",
       "      <td>6273</td>\n",
       "      <td>6273</td>\n",
       "      <td>...</td>\n",
       "      <td>2174.0</td>\n",
       "      <td>863.0</td>\n",
       "      <td>89.0</td>\n",
       "      <td>141.0</td>\n",
       "      <td>2301.0</td>\n",
       "      <td>29.0</td>\n",
       "      <td>14.0</td>\n",
       "      <td>0.0</td>\n",
       "      <td>0.0</td>\n",
       "      <td>0.0</td>\n",
       "    </tr>\n",
       "    <tr>\n",
       "      <th>373</th>\n",
       "      <td>59386b5c-e64f-11ec-8086-002590c82437</td>\n",
       "      <td>1</td>\n",
       "      <td>2061391</td>\n",
       "      <td>298100564</td>\n",
       "      <td>2024-09-07 00:25:02</td>\n",
       "      <td>1134</td>\n",
       "      <td>5</td>\n",
       "      <td>-2800.0</td>\n",
       "      <td>6273</td>\n",
       "      <td>6273</td>\n",
       "      <td>...</td>\n",
       "      <td>2174.0</td>\n",
       "      <td>863.0</td>\n",
       "      <td>89.0</td>\n",
       "      <td>141.0</td>\n",
       "      <td>2301.0</td>\n",
       "      <td>29.0</td>\n",
       "      <td>18.0</td>\n",
       "      <td>0.0</td>\n",
       "      <td>0.0</td>\n",
       "      <td>1.0</td>\n",
       "    </tr>\n",
       "    <tr>\n",
       "      <th>...</th>\n",
       "      <td>...</td>\n",
       "      <td>...</td>\n",
       "      <td>...</td>\n",
       "      <td>...</td>\n",
       "      <td>...</td>\n",
       "      <td>...</td>\n",
       "      <td>...</td>\n",
       "      <td>...</td>\n",
       "      <td>...</td>\n",
       "      <td>...</td>\n",
       "      <td>...</td>\n",
       "      <td>...</td>\n",
       "      <td>...</td>\n",
       "      <td>...</td>\n",
       "      <td>...</td>\n",
       "      <td>...</td>\n",
       "      <td>...</td>\n",
       "      <td>...</td>\n",
       "      <td>...</td>\n",
       "      <td>...</td>\n",
       "      <td>...</td>\n",
       "    </tr>\n",
       "    <tr>\n",
       "      <th>27315</th>\n",
       "      <td>0fce28d6-0a6e-11ef-86e0-002590c0647c</td>\n",
       "      <td>1</td>\n",
       "      <td>6338047</td>\n",
       "      <td>531372315</td>\n",
       "      <td>2024-09-28 23:22:56</td>\n",
       "      <td>984</td>\n",
       "      <td>5</td>\n",
       "      <td>-1290.0</td>\n",
       "      <td>1491</td>\n",
       "      <td>1491</td>\n",
       "      <td>...</td>\n",
       "      <td>624.0</td>\n",
       "      <td>158.0</td>\n",
       "      <td>0.0</td>\n",
       "      <td>34.0</td>\n",
       "      <td>455.0</td>\n",
       "      <td>7.0</td>\n",
       "      <td>7.0</td>\n",
       "      <td>0.0</td>\n",
       "      <td>0.0</td>\n",
       "      <td>0.0</td>\n",
       "    </tr>\n",
       "    <tr>\n",
       "      <th>27316</th>\n",
       "      <td>9dbc652c-fd53-11ee-9b7b-002590c82436</td>\n",
       "      <td>1</td>\n",
       "      <td>5015896</td>\n",
       "      <td>2298361325</td>\n",
       "      <td>2024-09-28 23:36:13</td>\n",
       "      <td>6567</td>\n",
       "      <td>5</td>\n",
       "      <td>0.0</td>\n",
       "      <td>3802</td>\n",
       "      <td>3802</td>\n",
       "      <td>...</td>\n",
       "      <td>1259.0</td>\n",
       "      <td>431.0</td>\n",
       "      <td>8.0</td>\n",
       "      <td>248.0</td>\n",
       "      <td>1627.0</td>\n",
       "      <td>12.0</td>\n",
       "      <td>5.0</td>\n",
       "      <td>0.0</td>\n",
       "      <td>0.0</td>\n",
       "      <td>0.0</td>\n",
       "    </tr>\n",
       "    <tr>\n",
       "      <th>27317</th>\n",
       "      <td>9dbc652c-fd53-11ee-9b7b-002590c82436</td>\n",
       "      <td>1</td>\n",
       "      <td>5015908</td>\n",
       "      <td>2298361325</td>\n",
       "      <td>2024-09-28 23:36:21</td>\n",
       "      <td>6567</td>\n",
       "      <td>5</td>\n",
       "      <td>0.0</td>\n",
       "      <td>3802</td>\n",
       "      <td>3802</td>\n",
       "      <td>...</td>\n",
       "      <td>1259.0</td>\n",
       "      <td>431.0</td>\n",
       "      <td>8.0</td>\n",
       "      <td>248.0</td>\n",
       "      <td>1627.0</td>\n",
       "      <td>12.0</td>\n",
       "      <td>3.0</td>\n",
       "      <td>0.0</td>\n",
       "      <td>0.0</td>\n",
       "      <td>0.0</td>\n",
       "    </tr>\n",
       "    <tr>\n",
       "      <th>27318</th>\n",
       "      <td>0fce28d6-0a6e-11ef-86e0-002590c0647c</td>\n",
       "      <td>1</td>\n",
       "      <td>4942615</td>\n",
       "      <td>2198278090</td>\n",
       "      <td>2024-09-28 23:40:02</td>\n",
       "      <td>40321</td>\n",
       "      <td>5</td>\n",
       "      <td>0.0</td>\n",
       "      <td>1491</td>\n",
       "      <td>1491</td>\n",
       "      <td>...</td>\n",
       "      <td>624.0</td>\n",
       "      <td>158.0</td>\n",
       "      <td>0.0</td>\n",
       "      <td>34.0</td>\n",
       "      <td>455.0</td>\n",
       "      <td>7.0</td>\n",
       "      <td>0.0</td>\n",
       "      <td>0.0</td>\n",
       "      <td>0.0</td>\n",
       "      <td>0.0</td>\n",
       "    </tr>\n",
       "    <tr>\n",
       "      <th>27319</th>\n",
       "      <td>0fce28d6-0a6e-11ef-86e0-002590c0647c</td>\n",
       "      <td>1</td>\n",
       "      <td>5135608</td>\n",
       "      <td>3313870710</td>\n",
       "      <td>2024-09-28 23:40:16</td>\n",
       "      <td>40321</td>\n",
       "      <td>5</td>\n",
       "      <td>0.0</td>\n",
       "      <td>1491</td>\n",
       "      <td>1491</td>\n",
       "      <td>...</td>\n",
       "      <td>624.0</td>\n",
       "      <td>158.0</td>\n",
       "      <td>0.0</td>\n",
       "      <td>34.0</td>\n",
       "      <td>455.0</td>\n",
       "      <td>7.0</td>\n",
       "      <td>0.0</td>\n",
       "      <td>0.0</td>\n",
       "      <td>0.0</td>\n",
       "      <td>0.0</td>\n",
       "    </tr>\n",
       "  </tbody>\n",
       "</table>\n",
       "<p>26951 rows × 24 columns</p>\n",
       "</div>"
      ]
     },
     "execution_count": 71,
     "metadata": {},
     "output_type": "execute_result"
    }
   ],
   "execution_count": 71
  },
  {
   "metadata": {
    "ExecuteTime": {
     "end_time": "2024-10-11T21:32:05.961793Z",
     "start_time": "2024-10-11T21:32:03.946608Z"
    }
   },
   "cell_type": "code",
   "source": [
    "max_date = inters['datetime'].max()\n",
    "train_raw = inters[inters['datetime'] >= max_date - pd.Timedelta(days=22)].copy()\n",
    "train_raw = train_raw[train_raw['datetime'] <= max_date - pd.Timedelta(days=3)]\n",
    "test_raw = inters[inters['datetime'] > max_date - pd.Timedelta(days=3)].copy()"
   ],
   "id": "6133f4fbad1eeab6",
   "outputs": [],
   "execution_count": 72
  },
  {
   "metadata": {
    "ExecuteTime": {
     "end_time": "2024-10-11T21:32:05.992169Z",
     "start_time": "2024-10-11T21:32:05.990613Z"
    }
   },
   "cell_type": "code",
   "source": "",
   "id": "d7459139756b00da",
   "outputs": [],
   "execution_count": null
  },
  {
   "metadata": {
    "ExecuteTime": {
     "end_time": "2024-10-11T21:32:06.309130Z",
     "start_time": "2024-10-11T21:32:06.012128Z"
    }
   },
   "cell_type": "code",
   "source": [
    "train = train_raw.drop(columns=['datetime', 'item_id', 'pageId'])\n",
    "test = test_raw.drop(columns=['datetime', 'item_id', 'pageId'])"
   ],
   "id": "e8dcaf82a3c57b1b",
   "outputs": [],
   "execution_count": 73
  },
  {
   "metadata": {
    "ExecuteTime": {
     "end_time": "2024-10-11T21:32:06.346228Z",
     "start_time": "2024-10-11T21:32:06.314154Z"
    }
   },
   "cell_type": "code",
   "source": "test.sample()",
   "id": "f10f0ad22d9d7654",
   "outputs": [
    {
     "data": {
      "text/plain": [
       "                                      user_id  weight  category_id  \\\n",
       "4877676  14e36526-e785-11ea-8a53-0cc47a6d2fef       4            0   \n",
       "\n",
       "         day_of_week  price_diff  loc_user_count  category_id_count  \\\n",
       "4877676            3         0.0            1945               1945   \n",
       "\n",
       "         action_0_count  action_1_count  action_2_count  ...  action_4_count  \\\n",
       "4877676             0.0            28.0           113.0  ...           815.0   \n",
       "\n",
       "         action_5_count  action_6_count  action_7_count  action_8_count  \\\n",
       "4877676           249.0            64.0            60.0           572.0   \n",
       "\n",
       "         action_9_count  delta_sec  delta_day  delta_hour  delta_min  \n",
       "4877676            35.0    88483.0        1.0         1.0      -26.0  \n",
       "\n",
       "[1 rows x 21 columns]"
      ],
      "text/html": [
       "<div>\n",
       "<style scoped>\n",
       "    .dataframe tbody tr th:only-of-type {\n",
       "        vertical-align: middle;\n",
       "    }\n",
       "\n",
       "    .dataframe tbody tr th {\n",
       "        vertical-align: top;\n",
       "    }\n",
       "\n",
       "    .dataframe thead th {\n",
       "        text-align: right;\n",
       "    }\n",
       "</style>\n",
       "<table border=\"1\" class=\"dataframe\">\n",
       "  <thead>\n",
       "    <tr style=\"text-align: right;\">\n",
       "      <th></th>\n",
       "      <th>user_id</th>\n",
       "      <th>weight</th>\n",
       "      <th>category_id</th>\n",
       "      <th>day_of_week</th>\n",
       "      <th>price_diff</th>\n",
       "      <th>loc_user_count</th>\n",
       "      <th>category_id_count</th>\n",
       "      <th>action_0_count</th>\n",
       "      <th>action_1_count</th>\n",
       "      <th>action_2_count</th>\n",
       "      <th>...</th>\n",
       "      <th>action_4_count</th>\n",
       "      <th>action_5_count</th>\n",
       "      <th>action_6_count</th>\n",
       "      <th>action_7_count</th>\n",
       "      <th>action_8_count</th>\n",
       "      <th>action_9_count</th>\n",
       "      <th>delta_sec</th>\n",
       "      <th>delta_day</th>\n",
       "      <th>delta_hour</th>\n",
       "      <th>delta_min</th>\n",
       "    </tr>\n",
       "  </thead>\n",
       "  <tbody>\n",
       "    <tr>\n",
       "      <th>4877676</th>\n",
       "      <td>14e36526-e785-11ea-8a53-0cc47a6d2fef</td>\n",
       "      <td>4</td>\n",
       "      <td>0</td>\n",
       "      <td>3</td>\n",
       "      <td>0.0</td>\n",
       "      <td>1945</td>\n",
       "      <td>1945</td>\n",
       "      <td>0.0</td>\n",
       "      <td>28.0</td>\n",
       "      <td>113.0</td>\n",
       "      <td>...</td>\n",
       "      <td>815.0</td>\n",
       "      <td>249.0</td>\n",
       "      <td>64.0</td>\n",
       "      <td>60.0</td>\n",
       "      <td>572.0</td>\n",
       "      <td>35.0</td>\n",
       "      <td>88483.0</td>\n",
       "      <td>1.0</td>\n",
       "      <td>1.0</td>\n",
       "      <td>-26.0</td>\n",
       "    </tr>\n",
       "  </tbody>\n",
       "</table>\n",
       "<p>1 rows × 21 columns</p>\n",
       "</div>"
      ]
     },
     "execution_count": 74,
     "metadata": {},
     "output_type": "execute_result"
    }
   ],
   "execution_count": 74
  },
  {
   "metadata": {
    "ExecuteTime": {
     "end_time": "2024-10-11T21:32:08.968456Z",
     "start_time": "2024-10-11T21:32:08.965924Z"
    }
   },
   "cell_type": "code",
   "source": "train.shape, test.shape",
   "id": "722b5abb87e64ce5",
   "outputs": [
    {
     "data": {
      "text/plain": [
       "((5796585, 21), (1062417, 21))"
      ]
     },
     "execution_count": 75,
     "metadata": {},
     "output_type": "execute_result"
    }
   ],
   "execution_count": 75
  },
  {
   "metadata": {},
   "cell_type": "markdown",
   "source": "### Классы не сбалансированы",
   "id": "88f18be740972951"
  },
  {
   "metadata": {
    "ExecuteTime": {
     "end_time": "2024-10-11T21:32:09.036493Z",
     "start_time": "2024-10-11T21:32:09.015642Z"
    }
   },
   "cell_type": "code",
   "source": "train.weight.value_counts()",
   "id": "d13fdeea693ba952",
   "outputs": [
    {
     "data": {
      "text/plain": [
       "weight\n",
       "4    3555015\n",
       "2     876037\n",
       "5     875685\n",
       "8     314938\n",
       "3      69354\n",
       "7      44249\n",
       "6      26346\n",
       "1      24150\n",
       "9      10478\n",
       "0        333\n",
       "Name: count, dtype: int64"
      ]
     },
     "execution_count": 76,
     "metadata": {},
     "output_type": "execute_result"
    }
   ],
   "execution_count": 76
  },
  {
   "metadata": {
    "ExecuteTime": {
     "end_time": "2024-10-11T21:32:09.107849Z",
     "start_time": "2024-10-11T21:32:09.106019Z"
    }
   },
   "cell_type": "code",
   "source": "",
   "id": "c8169b110162b331",
   "outputs": [],
   "execution_count": null
  },
  {
   "metadata": {},
   "cell_type": "markdown",
   "source": "### Кооректируем баланс классов",
   "id": "bde8dde057ea75de"
  },
  {
   "metadata": {
    "ExecuteTime": {
     "end_time": "2024-10-11T21:32:09.349305Z",
     "start_time": "2024-10-11T21:32:09.230688Z"
    }
   },
   "cell_type": "code",
   "source": [
    "train = train[train.weight.isin([0, 1, 3, 6, 7, 9])].drop_duplicates()\n",
    "train.shape"
   ],
   "id": "82dc937792de5",
   "outputs": [
    {
     "data": {
      "text/plain": [
       "(130257, 21)"
      ]
     },
     "execution_count": 77,
     "metadata": {},
     "output_type": "execute_result"
    }
   ],
   "execution_count": 77
  },
  {
   "metadata": {
    "ExecuteTime": {
     "end_time": "2024-10-11T21:32:09.568173Z",
     "start_time": "2024-10-11T21:32:09.382533Z"
    }
   },
   "cell_type": "code",
   "source": [
    "train_portion = pd.concat(\n",
    "    [\n",
    "        train[train.weight.isin([0, 1, 3, 6, 7, 9])],\n",
    "        train_raw.sample(130_000)],\n",
    "    axis='rows'\n",
    ")"
   ],
   "id": "2d10066311257c1c",
   "outputs": [],
   "execution_count": 78
  },
  {
   "metadata": {
    "ExecuteTime": {
     "end_time": "2024-10-11T21:32:11.533562Z",
     "start_time": "2024-10-11T21:32:11.530598Z"
    }
   },
   "cell_type": "code",
   "source": "train_portion.weight.unique()",
   "id": "ad2e701c4dbea219",
   "outputs": [
    {
     "data": {
      "text/plain": [
       "array([0, 1, 3, 6, 7, 9, 4, 5, 2, 8])"
      ]
     },
     "execution_count": 79,
     "metadata": {},
     "output_type": "execute_result"
    }
   ],
   "execution_count": 79
  },
  {
   "metadata": {
    "ExecuteTime": {
     "end_time": "2024-10-11T21:32:13.200586Z",
     "start_time": "2024-10-11T21:32:13.199323Z"
    }
   },
   "cell_type": "code",
   "source": "",
   "id": "107e032de0d208b5",
   "outputs": [],
   "execution_count": null
  },
  {
   "metadata": {
    "ExecuteTime": {
     "end_time": "2024-10-11T21:32:14.789320Z",
     "start_time": "2024-10-11T21:32:14.764502Z"
    }
   },
   "cell_type": "code",
   "source": [
    "h2o.init(verbose=False)\n",
    "print(f'{h2o.cluster().show_status()}')\n",
    "h2o.no_progress()"
   ],
   "id": "8bfde335c2f8ef6f",
   "outputs": [
    {
     "data": {
      "text/plain": [
       "--------------------------  -----------------------------\n",
       "H2O_cluster_uptime:         4 mins 40 secs\n",
       "H2O_cluster_timezone:       Europe/Moscow\n",
       "H2O_data_parsing_timezone:  UTC\n",
       "H2O_cluster_version:        3.46.0.5\n",
       "H2O_cluster_version_age:    1 month and 12 days\n",
       "H2O_cluster_name:           H2O_from_python_varsey_7edqlw\n",
       "H2O_cluster_total_nodes:    1\n",
       "H2O_cluster_free_memory:    7.612 Gb\n",
       "H2O_cluster_total_cores:    20\n",
       "H2O_cluster_allowed_cores:  20\n",
       "H2O_cluster_status:         locked, healthy\n",
       "H2O_connection_url:         http://localhost:54321\n",
       "H2O_connection_proxy:       {\"http\": null, \"https\": null}\n",
       "H2O_internal_security:      False\n",
       "Python_version:             3.11.10 final\n",
       "--------------------------  -----------------------------"
      ],
      "text/html": [
       "\n",
       "<style>\n",
       "\n",
       "#h2o-table-2.h2o-container {\n",
       "  overflow-x: auto;\n",
       "}\n",
       "#h2o-table-2 .h2o-table {\n",
       "  /* width: 100%; */\n",
       "  margin-top: 1em;\n",
       "  margin-bottom: 1em;\n",
       "}\n",
       "#h2o-table-2 .h2o-table caption {\n",
       "  white-space: nowrap;\n",
       "  caption-side: top;\n",
       "  text-align: left;\n",
       "  /* margin-left: 1em; */\n",
       "  margin: 0;\n",
       "  font-size: larger;\n",
       "}\n",
       "#h2o-table-2 .h2o-table thead {\n",
       "  white-space: nowrap; \n",
       "  position: sticky;\n",
       "  top: 0;\n",
       "  box-shadow: 0 -1px inset;\n",
       "}\n",
       "#h2o-table-2 .h2o-table tbody {\n",
       "  overflow: auto;\n",
       "}\n",
       "#h2o-table-2 .h2o-table th,\n",
       "#h2o-table-2 .h2o-table td {\n",
       "  text-align: right;\n",
       "  /* border: 1px solid; */\n",
       "}\n",
       "#h2o-table-2 .h2o-table tr:nth-child(even) {\n",
       "  /* background: #F5F5F5 */\n",
       "}\n",
       "\n",
       "</style>      \n",
       "<div id=\"h2o-table-2\" class=\"h2o-container\">\n",
       "  <table class=\"h2o-table\">\n",
       "    <caption></caption>\n",
       "    <thead></thead>\n",
       "    <tbody><tr><td>H2O_cluster_uptime:</td>\n",
       "<td>4 mins 40 secs</td></tr>\n",
       "<tr><td>H2O_cluster_timezone:</td>\n",
       "<td>Europe/Moscow</td></tr>\n",
       "<tr><td>H2O_data_parsing_timezone:</td>\n",
       "<td>UTC</td></tr>\n",
       "<tr><td>H2O_cluster_version:</td>\n",
       "<td>3.46.0.5</td></tr>\n",
       "<tr><td>H2O_cluster_version_age:</td>\n",
       "<td>1 month and 12 days</td></tr>\n",
       "<tr><td>H2O_cluster_name:</td>\n",
       "<td>H2O_from_python_varsey_7edqlw</td></tr>\n",
       "<tr><td>H2O_cluster_total_nodes:</td>\n",
       "<td>1</td></tr>\n",
       "<tr><td>H2O_cluster_free_memory:</td>\n",
       "<td>7.612 Gb</td></tr>\n",
       "<tr><td>H2O_cluster_total_cores:</td>\n",
       "<td>20</td></tr>\n",
       "<tr><td>H2O_cluster_allowed_cores:</td>\n",
       "<td>20</td></tr>\n",
       "<tr><td>H2O_cluster_status:</td>\n",
       "<td>locked, healthy</td></tr>\n",
       "<tr><td>H2O_connection_url:</td>\n",
       "<td>http://localhost:54321</td></tr>\n",
       "<tr><td>H2O_connection_proxy:</td>\n",
       "<td>{\"http\": null, \"https\": null}</td></tr>\n",
       "<tr><td>H2O_internal_security:</td>\n",
       "<td>False</td></tr>\n",
       "<tr><td>Python_version:</td>\n",
       "<td>3.11.10 final</td></tr></tbody>\n",
       "  </table>\n",
       "</div>\n"
      ]
     },
     "metadata": {},
     "output_type": "display_data"
    },
    {
     "name": "stdout",
     "output_type": "stream",
     "text": [
      "None\n"
     ]
    }
   ],
   "execution_count": 80
  },
  {
   "metadata": {
    "ExecuteTime": {
     "end_time": "2024-10-11T21:32:16.358792Z",
     "start_time": "2024-10-11T21:32:16.343846Z"
    }
   },
   "cell_type": "code",
   "source": "train_portion[train_portion.weight == 0]",
   "id": "6900d3c1a291c034",
   "outputs": [
    {
     "data": {
      "text/plain": [
       "                                  user_id  weight  category_id  day_of_week  \\\n",
       "0    5b08b2fc-0e71-11ee-86e0-002590c0647c       0            0            5   \n",
       "1    1af7e04c-6cd1-11ef-9b7b-002590c82436       0            0            5   \n",
       "2    d41cdad4-3b4c-11ef-86e0-002590c0647c       0            0            5   \n",
       "3    59b9d89a-1de2-11eb-86e0-002590c0647c       0            0            5   \n",
       "4    9c087566-8065-11ed-86e0-002590c0647c       0            0            5   \n",
       "..                                    ...     ...          ...          ...   \n",
       "168  2e8fd470-c1bf-11ed-a1c4-002590c82437       0            0            0   \n",
       "317  5ff81ef6-774d-11ef-9b7b-002590c82436       0            0            2   \n",
       "326  3f164334-8f3b-11ee-86e0-002590c0647c       0            0            2   \n",
       "315  803a1848-57e3-11ee-86e0-002590c0647c       0            0            1   \n",
       "23   f36c080e-9118-11ed-86e0-002590c0647c       0            0            0   \n",
       "\n",
       "     price_diff  loc_user_count  category_id_count  action_0_count  \\\n",
       "0           0.0             141                141             1.0   \n",
       "1           0.0              91                 91             1.0   \n",
       "2           0.0              85                 85             2.0   \n",
       "3           0.0            8270               8270             2.0   \n",
       "4           0.0             182                182             1.0   \n",
       "..          ...             ...                ...             ...   \n",
       "168         0.0            1144               1144             2.0   \n",
       "317         0.0             275                275             1.0   \n",
       "326         0.0            1735               1735             1.0   \n",
       "315         0.0             797                797             1.0   \n",
       "23          0.0             235                235             1.0   \n",
       "\n",
       "     action_1_count  action_2_count  ...  action_7_count  action_8_count  \\\n",
       "0               0.0             8.0  ...             1.0             1.0   \n",
       "1               0.0             9.0  ...             2.0             5.0   \n",
       "2               0.0            13.0  ...             2.0             6.0   \n",
       "3              44.0           250.0  ...           125.0          1729.0   \n",
       "4               1.0            25.0  ...             3.0             8.0   \n",
       "..              ...             ...  ...             ...             ...   \n",
       "168             2.0           242.0  ...             8.0            15.0   \n",
       "317             0.0            38.0  ...             3.0             8.0   \n",
       "326             0.0           290.0  ...             6.0            15.0   \n",
       "315             5.0           107.0  ...            10.0           155.0   \n",
       "23              1.0             5.0  ...             1.0             5.0   \n",
       "\n",
       "     action_9_count  delta_sec  delta_day  delta_hour  delta_min  item_id  \\\n",
       "0               0.0       24.0        0.0         0.0        1.0      NaN   \n",
       "1               1.0        6.0        0.0         0.0        1.0      NaN   \n",
       "2               0.0        8.0        0.0         0.0        1.0      NaN   \n",
       "3             112.0        3.0        0.0         0.0        0.0      NaN   \n",
       "4               0.0        9.0        0.0         0.0        0.0      NaN   \n",
       "..              ...        ...        ...         ...        ...      ...   \n",
       "168             1.0        4.0        0.0         0.0        0.0     -1.0   \n",
       "317             0.0       26.0        0.0         0.0        0.0     -1.0   \n",
       "326             5.0        3.0        0.0         0.0        0.0     -1.0   \n",
       "315             0.0        4.0        0.0         0.0        0.0     -1.0   \n",
       "23              0.0       19.0        0.0         0.0        1.0     -1.0   \n",
       "\n",
       "         pageId            datetime  \n",
       "0           NaN                 NaT  \n",
       "1           NaN                 NaT  \n",
       "2           NaN                 NaT  \n",
       "3           NaN                 NaT  \n",
       "4           NaN                 NaT  \n",
       "..          ...                 ...  \n",
       "168  3457196049 2024-09-16 17:29:44  \n",
       "317  2906563291 2024-09-25 05:15:29  \n",
       "326  3220809990 2024-09-25 13:39:40  \n",
       "315   336201369 2024-09-24 23:32:37  \n",
       "23    358330127 2024-09-09 06:56:01  \n",
       "\n",
       "[334 rows x 24 columns]"
      ],
      "text/html": [
       "<div>\n",
       "<style scoped>\n",
       "    .dataframe tbody tr th:only-of-type {\n",
       "        vertical-align: middle;\n",
       "    }\n",
       "\n",
       "    .dataframe tbody tr th {\n",
       "        vertical-align: top;\n",
       "    }\n",
       "\n",
       "    .dataframe thead th {\n",
       "        text-align: right;\n",
       "    }\n",
       "</style>\n",
       "<table border=\"1\" class=\"dataframe\">\n",
       "  <thead>\n",
       "    <tr style=\"text-align: right;\">\n",
       "      <th></th>\n",
       "      <th>user_id</th>\n",
       "      <th>weight</th>\n",
       "      <th>category_id</th>\n",
       "      <th>day_of_week</th>\n",
       "      <th>price_diff</th>\n",
       "      <th>loc_user_count</th>\n",
       "      <th>category_id_count</th>\n",
       "      <th>action_0_count</th>\n",
       "      <th>action_1_count</th>\n",
       "      <th>action_2_count</th>\n",
       "      <th>...</th>\n",
       "      <th>action_7_count</th>\n",
       "      <th>action_8_count</th>\n",
       "      <th>action_9_count</th>\n",
       "      <th>delta_sec</th>\n",
       "      <th>delta_day</th>\n",
       "      <th>delta_hour</th>\n",
       "      <th>delta_min</th>\n",
       "      <th>item_id</th>\n",
       "      <th>pageId</th>\n",
       "      <th>datetime</th>\n",
       "    </tr>\n",
       "  </thead>\n",
       "  <tbody>\n",
       "    <tr>\n",
       "      <th>0</th>\n",
       "      <td>5b08b2fc-0e71-11ee-86e0-002590c0647c</td>\n",
       "      <td>0</td>\n",
       "      <td>0</td>\n",
       "      <td>5</td>\n",
       "      <td>0.0</td>\n",
       "      <td>141</td>\n",
       "      <td>141</td>\n",
       "      <td>1.0</td>\n",
       "      <td>0.0</td>\n",
       "      <td>8.0</td>\n",
       "      <td>...</td>\n",
       "      <td>1.0</td>\n",
       "      <td>1.0</td>\n",
       "      <td>0.0</td>\n",
       "      <td>24.0</td>\n",
       "      <td>0.0</td>\n",
       "      <td>0.0</td>\n",
       "      <td>1.0</td>\n",
       "      <td>NaN</td>\n",
       "      <td>NaN</td>\n",
       "      <td>NaT</td>\n",
       "    </tr>\n",
       "    <tr>\n",
       "      <th>1</th>\n",
       "      <td>1af7e04c-6cd1-11ef-9b7b-002590c82436</td>\n",
       "      <td>0</td>\n",
       "      <td>0</td>\n",
       "      <td>5</td>\n",
       "      <td>0.0</td>\n",
       "      <td>91</td>\n",
       "      <td>91</td>\n",
       "      <td>1.0</td>\n",
       "      <td>0.0</td>\n",
       "      <td>9.0</td>\n",
       "      <td>...</td>\n",
       "      <td>2.0</td>\n",
       "      <td>5.0</td>\n",
       "      <td>1.0</td>\n",
       "      <td>6.0</td>\n",
       "      <td>0.0</td>\n",
       "      <td>0.0</td>\n",
       "      <td>1.0</td>\n",
       "      <td>NaN</td>\n",
       "      <td>NaN</td>\n",
       "      <td>NaT</td>\n",
       "    </tr>\n",
       "    <tr>\n",
       "      <th>2</th>\n",
       "      <td>d41cdad4-3b4c-11ef-86e0-002590c0647c</td>\n",
       "      <td>0</td>\n",
       "      <td>0</td>\n",
       "      <td>5</td>\n",
       "      <td>0.0</td>\n",
       "      <td>85</td>\n",
       "      <td>85</td>\n",
       "      <td>2.0</td>\n",
       "      <td>0.0</td>\n",
       "      <td>13.0</td>\n",
       "      <td>...</td>\n",
       "      <td>2.0</td>\n",
       "      <td>6.0</td>\n",
       "      <td>0.0</td>\n",
       "      <td>8.0</td>\n",
       "      <td>0.0</td>\n",
       "      <td>0.0</td>\n",
       "      <td>1.0</td>\n",
       "      <td>NaN</td>\n",
       "      <td>NaN</td>\n",
       "      <td>NaT</td>\n",
       "    </tr>\n",
       "    <tr>\n",
       "      <th>3</th>\n",
       "      <td>59b9d89a-1de2-11eb-86e0-002590c0647c</td>\n",
       "      <td>0</td>\n",
       "      <td>0</td>\n",
       "      <td>5</td>\n",
       "      <td>0.0</td>\n",
       "      <td>8270</td>\n",
       "      <td>8270</td>\n",
       "      <td>2.0</td>\n",
       "      <td>44.0</td>\n",
       "      <td>250.0</td>\n",
       "      <td>...</td>\n",
       "      <td>125.0</td>\n",
       "      <td>1729.0</td>\n",
       "      <td>112.0</td>\n",
       "      <td>3.0</td>\n",
       "      <td>0.0</td>\n",
       "      <td>0.0</td>\n",
       "      <td>0.0</td>\n",
       "      <td>NaN</td>\n",
       "      <td>NaN</td>\n",
       "      <td>NaT</td>\n",
       "    </tr>\n",
       "    <tr>\n",
       "      <th>4</th>\n",
       "      <td>9c087566-8065-11ed-86e0-002590c0647c</td>\n",
       "      <td>0</td>\n",
       "      <td>0</td>\n",
       "      <td>5</td>\n",
       "      <td>0.0</td>\n",
       "      <td>182</td>\n",
       "      <td>182</td>\n",
       "      <td>1.0</td>\n",
       "      <td>1.0</td>\n",
       "      <td>25.0</td>\n",
       "      <td>...</td>\n",
       "      <td>3.0</td>\n",
       "      <td>8.0</td>\n",
       "      <td>0.0</td>\n",
       "      <td>9.0</td>\n",
       "      <td>0.0</td>\n",
       "      <td>0.0</td>\n",
       "      <td>0.0</td>\n",
       "      <td>NaN</td>\n",
       "      <td>NaN</td>\n",
       "      <td>NaT</td>\n",
       "    </tr>\n",
       "    <tr>\n",
       "      <th>...</th>\n",
       "      <td>...</td>\n",
       "      <td>...</td>\n",
       "      <td>...</td>\n",
       "      <td>...</td>\n",
       "      <td>...</td>\n",
       "      <td>...</td>\n",
       "      <td>...</td>\n",
       "      <td>...</td>\n",
       "      <td>...</td>\n",
       "      <td>...</td>\n",
       "      <td>...</td>\n",
       "      <td>...</td>\n",
       "      <td>...</td>\n",
       "      <td>...</td>\n",
       "      <td>...</td>\n",
       "      <td>...</td>\n",
       "      <td>...</td>\n",
       "      <td>...</td>\n",
       "      <td>...</td>\n",
       "      <td>...</td>\n",
       "      <td>...</td>\n",
       "    </tr>\n",
       "    <tr>\n",
       "      <th>168</th>\n",
       "      <td>2e8fd470-c1bf-11ed-a1c4-002590c82437</td>\n",
       "      <td>0</td>\n",
       "      <td>0</td>\n",
       "      <td>0</td>\n",
       "      <td>0.0</td>\n",
       "      <td>1144</td>\n",
       "      <td>1144</td>\n",
       "      <td>2.0</td>\n",
       "      <td>2.0</td>\n",
       "      <td>242.0</td>\n",
       "      <td>...</td>\n",
       "      <td>8.0</td>\n",
       "      <td>15.0</td>\n",
       "      <td>1.0</td>\n",
       "      <td>4.0</td>\n",
       "      <td>0.0</td>\n",
       "      <td>0.0</td>\n",
       "      <td>0.0</td>\n",
       "      <td>-1.0</td>\n",
       "      <td>3457196049</td>\n",
       "      <td>2024-09-16 17:29:44</td>\n",
       "    </tr>\n",
       "    <tr>\n",
       "      <th>317</th>\n",
       "      <td>5ff81ef6-774d-11ef-9b7b-002590c82436</td>\n",
       "      <td>0</td>\n",
       "      <td>0</td>\n",
       "      <td>2</td>\n",
       "      <td>0.0</td>\n",
       "      <td>275</td>\n",
       "      <td>275</td>\n",
       "      <td>1.0</td>\n",
       "      <td>0.0</td>\n",
       "      <td>38.0</td>\n",
       "      <td>...</td>\n",
       "      <td>3.0</td>\n",
       "      <td>8.0</td>\n",
       "      <td>0.0</td>\n",
       "      <td>26.0</td>\n",
       "      <td>0.0</td>\n",
       "      <td>0.0</td>\n",
       "      <td>0.0</td>\n",
       "      <td>-1.0</td>\n",
       "      <td>2906563291</td>\n",
       "      <td>2024-09-25 05:15:29</td>\n",
       "    </tr>\n",
       "    <tr>\n",
       "      <th>326</th>\n",
       "      <td>3f164334-8f3b-11ee-86e0-002590c0647c</td>\n",
       "      <td>0</td>\n",
       "      <td>0</td>\n",
       "      <td>2</td>\n",
       "      <td>0.0</td>\n",
       "      <td>1735</td>\n",
       "      <td>1735</td>\n",
       "      <td>1.0</td>\n",
       "      <td>0.0</td>\n",
       "      <td>290.0</td>\n",
       "      <td>...</td>\n",
       "      <td>6.0</td>\n",
       "      <td>15.0</td>\n",
       "      <td>5.0</td>\n",
       "      <td>3.0</td>\n",
       "      <td>0.0</td>\n",
       "      <td>0.0</td>\n",
       "      <td>0.0</td>\n",
       "      <td>-1.0</td>\n",
       "      <td>3220809990</td>\n",
       "      <td>2024-09-25 13:39:40</td>\n",
       "    </tr>\n",
       "    <tr>\n",
       "      <th>315</th>\n",
       "      <td>803a1848-57e3-11ee-86e0-002590c0647c</td>\n",
       "      <td>0</td>\n",
       "      <td>0</td>\n",
       "      <td>1</td>\n",
       "      <td>0.0</td>\n",
       "      <td>797</td>\n",
       "      <td>797</td>\n",
       "      <td>1.0</td>\n",
       "      <td>5.0</td>\n",
       "      <td>107.0</td>\n",
       "      <td>...</td>\n",
       "      <td>10.0</td>\n",
       "      <td>155.0</td>\n",
       "      <td>0.0</td>\n",
       "      <td>4.0</td>\n",
       "      <td>0.0</td>\n",
       "      <td>0.0</td>\n",
       "      <td>0.0</td>\n",
       "      <td>-1.0</td>\n",
       "      <td>336201369</td>\n",
       "      <td>2024-09-24 23:32:37</td>\n",
       "    </tr>\n",
       "    <tr>\n",
       "      <th>23</th>\n",
       "      <td>f36c080e-9118-11ed-86e0-002590c0647c</td>\n",
       "      <td>0</td>\n",
       "      <td>0</td>\n",
       "      <td>0</td>\n",
       "      <td>0.0</td>\n",
       "      <td>235</td>\n",
       "      <td>235</td>\n",
       "      <td>1.0</td>\n",
       "      <td>1.0</td>\n",
       "      <td>5.0</td>\n",
       "      <td>...</td>\n",
       "      <td>1.0</td>\n",
       "      <td>5.0</td>\n",
       "      <td>0.0</td>\n",
       "      <td>19.0</td>\n",
       "      <td>0.0</td>\n",
       "      <td>0.0</td>\n",
       "      <td>1.0</td>\n",
       "      <td>-1.0</td>\n",
       "      <td>358330127</td>\n",
       "      <td>2024-09-09 06:56:01</td>\n",
       "    </tr>\n",
       "  </tbody>\n",
       "</table>\n",
       "<p>334 rows × 24 columns</p>\n",
       "</div>"
      ]
     },
     "execution_count": 81,
     "metadata": {},
     "output_type": "execute_result"
    }
   ],
   "execution_count": 81
  },
  {
   "metadata": {
    "ExecuteTime": {
     "end_time": "2024-10-11T21:32:23.669576Z",
     "start_time": "2024-10-11T21:32:18.542225Z"
    }
   },
   "cell_type": "code",
   "source": [
    "train_h2o = h2o.H2OFrame(train_portion)\n",
    "test_h2o = h2o.H2OFrame(test.sample(40_000))"
   ],
   "id": "40e3b6f6a7f48db9",
   "outputs": [],
   "execution_count": 82
  },
  {
   "metadata": {
    "ExecuteTime": {
     "end_time": "2024-10-11T21:32:23.696602Z",
     "start_time": "2024-10-11T21:32:23.694242Z"
    }
   },
   "cell_type": "code",
   "source": [
    "y = \"weight\"\n",
    "x = set(train_h2o.names) - set([y, 'user_id', 'shop_id', 'day', 'hour', 'pageId', 'datetime', 'item_id', 'is_useful'])\n",
    "x"
   ],
   "id": "c73df6245888fc01",
   "outputs": [
    {
     "data": {
      "text/plain": [
       "{'action_0_count',\n",
       " 'action_1_count',\n",
       " 'action_2_count',\n",
       " 'action_3_count',\n",
       " 'action_4_count',\n",
       " 'action_5_count',\n",
       " 'action_6_count',\n",
       " 'action_7_count',\n",
       " 'action_8_count',\n",
       " 'action_9_count',\n",
       " 'category_id',\n",
       " 'category_id_count',\n",
       " 'day_of_week',\n",
       " 'delta_day',\n",
       " 'delta_hour',\n",
       " 'delta_min',\n",
       " 'delta_sec',\n",
       " 'loc_user_count',\n",
       " 'price_diff'}"
      ]
     },
     "execution_count": 83,
     "metadata": {},
     "output_type": "execute_result"
    }
   ],
   "execution_count": 83
  },
  {
   "metadata": {
    "ExecuteTime": {
     "end_time": "2024-10-11T21:32:23.829757Z",
     "start_time": "2024-10-11T21:32:23.825939Z"
    }
   },
   "cell_type": "code",
   "source": [
    "train_h2o[y] = train_h2o[y].asfactor()\n",
    "test_h2o[y] = test_h2o[y].asfactor()"
   ],
   "id": "7fa7d7231c5b1a55",
   "outputs": [],
   "execution_count": 84
  },
  {
   "metadata": {
    "ExecuteTime": {
     "end_time": "2024-10-11T21:32:23.881440Z",
     "start_time": "2024-10-11T21:32:23.878266Z"
    }
   },
   "cell_type": "code",
   "source": [
    "train_h2o['category_id'] = train_h2o['category_id'].asfactor()\n",
    "test_h2o['category_id'] = test_h2o['category_id'].asfactor()"
   ],
   "id": "632976a09523b6a5",
   "outputs": [],
   "execution_count": 85
  },
  {
   "metadata": {},
   "cell_type": "markdown",
   "source": "### для снижения уровня рутины и фокусировки на цели - качесвтенных предсказаниях - используем automl",
   "id": "9339c35bb05f3d21"
  },
  {
   "metadata": {
    "ExecuteTime": {
     "end_time": "2024-10-11T21:32:51.987699Z",
     "start_time": "2024-10-11T21:32:25.344289Z"
    }
   },
   "cell_type": "code",
   "source": [
    "gbm_model = H2OGradientBoostingEstimator(seed=1234)\n",
    "gbm_model.train(x=list(x), y=y, training_frame = train_h2o,  validation_frame = test_h2o, max_runtime_secs=120)"
   ],
   "id": "3be5fd2b53fb9838",
   "outputs": [
    {
     "data": {
      "text/plain": [
       "Model Details\n",
       "=============\n",
       "H2OGradientBoostingEstimator : Gradient Boosting Machine\n",
       "Model Key: GBM_model_python_1728682052778_1\n",
       "\n",
       "\n",
       "Model Summary: \n",
       "    number_of_trees    number_of_internal_trees    model_size_in_bytes    min_depth    max_depth    mean_depth    min_leaves    max_leaves    mean_leaves\n",
       "--  -----------------  --------------------------  ---------------------  -----------  -----------  ------------  ------------  ------------  -------------\n",
       "    50                 500                         247229                 5            5            5             10            32            31.136\n",
       "\n",
       "ModelMetricsMultinomial: gbm\n",
       "** Reported on train data. **\n",
       "\n",
       "MSE: 0.2867341540717459\n",
       "RMSE: 0.5354756334995514\n",
       "LogLoss: 0.829765397764338\n",
       "Mean Per-Class Error: 0.5117016881173684\n",
       "AUC table was not computed: it is either disabled (model parameter 'auc_type' was set to AUTO or NONE) or the domain size exceeds the limit (maximum is 50 domains).\n",
       "AUCPR table was not computed: it is either disabled (model parameter 'auc_type' was set to AUTO or NONE) or the domain size exceeds the limit (maximum is 50 domains).\n",
       "\n",
       "Confusion Matrix: Row labels: Actual class; Column labels: Predicted class\n",
       "0    1      2    3      4       5      6      7      8    9     Error     Rate\n",
       "---  -----  ---  -----  ------  -----  -----  -----  ---  ----  --------  ----------------\n",
       "98   0      0    40     194     0      1      1      0    0     0.706587  236 / 334\n",
       "1    9967   0    194    1230    106    2021   9246   133  330   0.570906  13,261 / 23,228\n",
       "4    1      383  3080   16017   0      27     0      1    0     0.980372  19,130 / 19,513\n",
       "2    0      0    26262  4895    0      44     0      0    0     0.15835   4,941 / 31,203\n",
       "39   4      203  7948   71561   0      190    8      2    0     0.104984  8,394 / 79,955\n",
       "0    1129   0    197    1389    11750  1318   3446   64   326   0.401091  7,869 / 19,619\n",
       "1    975    0    229    1772    162    20236  2661   35   139   0.227928  5,974 / 26,210\n",
       "3    4857   0    284    2290    284    4074   30264  102  1694  0.30986   13,588 / 43,852\n",
       "0    2149   0    57     412     110    529    3010   463  218   0.933362  6,485 / 6,948\n",
       "0    765    0    76     454     50     819    4630   4    2597  0.723576  6,798 / 9,395\n",
       "148  19847  586  38367  100214  12462  29259  53266  804  5304  0.33304   86,676 / 260,257\n",
       "\n",
       "Top-10 Hit Ratios: \n",
       "k    hit_ratio\n",
       "---  -----------\n",
       "1    0.66696\n",
       "2    0.876856\n",
       "3    0.951709\n",
       "4    0.980788\n",
       "5    0.992995\n",
       "6    0.997798\n",
       "7    0.999143\n",
       "8    0.999823\n",
       "9    0.999988\n",
       "10   1\n",
       "\n",
       "ModelMetricsMultinomial: gbm\n",
       "** Reported on validation data. **\n",
       "\n",
       "MSE: 0.26657422499090866\n",
       "RMSE: 0.5163082654683233\n",
       "LogLoss: 0.8089158164434042\n",
       "Mean Per-Class Error: 0.4636855891295541\n",
       "AUC table was not computed: it is either disabled (model parameter 'auc_type' was set to AUTO or NONE) or the domain size exceeds the limit (maximum is 50 domains).\n",
       "AUCPR table was not computed: it is either disabled (model parameter 'auc_type' was set to AUTO or NONE) or the domain size exceeds the limit (maximum is 50 domains).\n",
       "\n",
       "Confusion Matrix: Row labels: Actual class; Column labels: Predicted class\n",
       "0    1    2    3     4      5     6     7     8    9    Error      Rate\n",
       "---  ---  ---  ----  -----  ----  ----  ----  ---  ---  ---------  ---------------\n",
       "0    0    0    0     0      0     0     0     0    0    nan        0 / 0\n",
       "0    36   0    2     12     1     10    51    0    2    0.684211   78 / 114\n",
       "1    0    132  872   5186   0     14    0     0    0    0.978727   6,073 / 6,205\n",
       "0    0    0    363   64     0     0     0     0    0    0.149883   64 / 427\n",
       "8    2    72   2248  22370  0     94    0     0    0    0.0977656  2,424 / 24,794\n",
       "0    227  0    107   756    3628  508   900   15   91   0.417843   2,604 / 6,232\n",
       "0    5    0    11    86     2     209   24    0    1    0.381657   129 / 338\n",
       "0    12   0    2     13     0     28    147   0    8    0.3        63 / 210\n",
       "0    349  0    22    72     26    160   846   102  45   0.937115   1,520 / 1,622\n",
       "0    3    0    2     4      1     3     27    0    18   0.689655   40 / 58\n",
       "9    634  204  3629  28563  3658  1026  1995  117  165  0.324875   12,995 / 40,000\n",
       "\n",
       "Top-10 Hit Ratios: \n",
       "k    hit_ratio\n",
       "---  -----------\n",
       "1    0.675125\n",
       "2    0.88305\n",
       "3    0.951725\n",
       "4    0.977325\n",
       "5    0.990625\n",
       "6    0.9959\n",
       "7    0.998025\n",
       "8    0.999475\n",
       "9    0.999975\n",
       "10   1\n",
       "\n",
       "Scoring History: \n",
       "    timestamp            duration    number_of_trees    training_rmse    training_logloss    training_classification_error    training_auc    training_pr_auc    validation_rmse    validation_logloss    validation_classification_error    validation_auc    validation_pr_auc\n",
       "--  -------------------  ----------  -----------------  ---------------  ------------------  -------------------------------  --------------  -----------------  -----------------  --------------------  ---------------------------------  ----------------  -------------------\n",
       "    2024-10-12 00:32:26  0.462 sec   0                  0.9              2.30259             0.832016                         nan             nan                0.9                2.30259               0.788925                           nan               nan\n",
       "    2024-10-12 00:32:28  3.343 sec   1                  0.84963          1.92409             0.36726                          nan             nan                0.84142            1.87668               0.353775                           nan               nan\n",
       "    2024-10-12 00:32:29  4.115 sec   2                  0.810072         1.71769             0.366818                         nan             nan                0.796529           1.65965               0.35505                            nan               nan\n",
       "    2024-10-12 00:32:34  8.376 sec   13                 0.606997         1.03736             0.352874                         nan             nan                0.580093           0.993372              0.338825                           nan               nan\n",
       "    2024-10-12 00:32:39  14.209 sec  25                 0.557359         0.894338            0.342815                         nan             nan                0.53443            0.86082               0.334125                           nan               nan\n",
       "    2024-10-12 00:32:46  20.615 sec  39                 0.541328         0.84691             0.337351                         nan             nan                0.520325           0.81945               0.328725                           nan               nan\n",
       "    2024-10-12 00:32:50  25.300 sec  50                 0.535476         0.829765            0.33304                          nan             nan                0.516308           0.808916              0.324875                           nan               nan\n",
       "\n",
       "Variable Importances: \n",
       "variable           relative_importance    scaled_importance    percentage\n",
       "-----------------  ---------------------  -------------------  ------------\n",
       "category_id        190725                 1                    0.447355\n",
       "action_6_count     50466.5                0.264603             0.118372\n",
       "action_3_count     46139                  0.241914             0.108221\n",
       "action_7_count     31992.7                0.167742             0.0750404\n",
       "action_1_count     23118.3                0.121213             0.0542251\n",
       "action_4_count     20491.8                0.107442             0.0480646\n",
       "delta_min          18280.4                0.0958466            0.0428774\n",
       "action_8_count     17567.1                0.0921067            0.0412044\n",
       "loc_user_count     7759.92                0.0406864            0.0182013\n",
       "action_9_count     6051.4                 0.0317284            0.0141938\n",
       "delta_sec          5183.98                0.0271803            0.0121593\n",
       "action_2_count     4553.07                0.0238724            0.0106794\n",
       "action_5_count     2019.63                0.0105892            0.00473713\n",
       "price_diff         957.696                0.00502134           0.00224632\n",
       "day_of_week        469.172                0.00245994           0.00110047\n",
       "category_id_count  258.545                0.00135559           0.000606429\n",
       "action_0_count     192.934                0.00101158           0.000452535\n",
       "delta_hour         89.9361                0.000471548          0.000210949\n",
       "delta_day          22.4069                0.000117482          5.25563e-05\n",
       "\n",
       "[tips]\n",
       "Use `model.explain()` to inspect the model.\n",
       "--\n",
       "Use `h2o.display.toggle_user_tips()` to switch on/off this section."
      ],
      "text/html": [
       "<pre style='margin: 1em 0 1em 0;'>Model Details\n",
       "=============\n",
       "H2OGradientBoostingEstimator : Gradient Boosting Machine\n",
       "Model Key: GBM_model_python_1728682052778_1\n",
       "</pre>\n",
       "<div style='margin: 1em 0 1em 0;'>\n",
       "<style>\n",
       "\n",
       "#h2o-table-3.h2o-container {\n",
       "  overflow-x: auto;\n",
       "}\n",
       "#h2o-table-3 .h2o-table {\n",
       "  /* width: 100%; */\n",
       "  margin-top: 1em;\n",
       "  margin-bottom: 1em;\n",
       "}\n",
       "#h2o-table-3 .h2o-table caption {\n",
       "  white-space: nowrap;\n",
       "  caption-side: top;\n",
       "  text-align: left;\n",
       "  /* margin-left: 1em; */\n",
       "  margin: 0;\n",
       "  font-size: larger;\n",
       "}\n",
       "#h2o-table-3 .h2o-table thead {\n",
       "  white-space: nowrap; \n",
       "  position: sticky;\n",
       "  top: 0;\n",
       "  box-shadow: 0 -1px inset;\n",
       "}\n",
       "#h2o-table-3 .h2o-table tbody {\n",
       "  overflow: auto;\n",
       "}\n",
       "#h2o-table-3 .h2o-table th,\n",
       "#h2o-table-3 .h2o-table td {\n",
       "  text-align: right;\n",
       "  /* border: 1px solid; */\n",
       "}\n",
       "#h2o-table-3 .h2o-table tr:nth-child(even) {\n",
       "  /* background: #F5F5F5 */\n",
       "}\n",
       "\n",
       "</style>      \n",
       "<div id=\"h2o-table-3\" class=\"h2o-container\">\n",
       "  <table class=\"h2o-table\">\n",
       "    <caption>Model Summary: </caption>\n",
       "    <thead><tr><th></th>\n",
       "<th>number_of_trees</th>\n",
       "<th>number_of_internal_trees</th>\n",
       "<th>model_size_in_bytes</th>\n",
       "<th>min_depth</th>\n",
       "<th>max_depth</th>\n",
       "<th>mean_depth</th>\n",
       "<th>min_leaves</th>\n",
       "<th>max_leaves</th>\n",
       "<th>mean_leaves</th></tr></thead>\n",
       "    <tbody><tr><td></td>\n",
       "<td>50.0</td>\n",
       "<td>500.0</td>\n",
       "<td>247229.0</td>\n",
       "<td>5.0</td>\n",
       "<td>5.0</td>\n",
       "<td>5.0</td>\n",
       "<td>10.0</td>\n",
       "<td>32.0</td>\n",
       "<td>31.136</td></tr></tbody>\n",
       "  </table>\n",
       "</div>\n",
       "</div>\n",
       "<div style='margin: 1em 0 1em 0;'><pre style='margin: 1em 0 1em 0;'>ModelMetricsMultinomial: gbm\n",
       "** Reported on train data. **\n",
       "\n",
       "MSE: 0.2867341540717459\n",
       "RMSE: 0.5354756334995514\n",
       "LogLoss: 0.829765397764338\n",
       "Mean Per-Class Error: 0.5117016881173684\n",
       "AUC table was not computed: it is either disabled (model parameter 'auc_type' was set to AUTO or NONE) or the domain size exceeds the limit (maximum is 50 domains).\n",
       "AUCPR table was not computed: it is either disabled (model parameter 'auc_type' was set to AUTO or NONE) or the domain size exceeds the limit (maximum is 50 domains).</pre>\n",
       "<div style='margin: 1em 0 1em 0;'>\n",
       "<style>\n",
       "\n",
       "#h2o-table-4.h2o-container {\n",
       "  overflow-x: auto;\n",
       "}\n",
       "#h2o-table-4 .h2o-table {\n",
       "  /* width: 100%; */\n",
       "  margin-top: 1em;\n",
       "  margin-bottom: 1em;\n",
       "}\n",
       "#h2o-table-4 .h2o-table caption {\n",
       "  white-space: nowrap;\n",
       "  caption-side: top;\n",
       "  text-align: left;\n",
       "  /* margin-left: 1em; */\n",
       "  margin: 0;\n",
       "  font-size: larger;\n",
       "}\n",
       "#h2o-table-4 .h2o-table thead {\n",
       "  white-space: nowrap; \n",
       "  position: sticky;\n",
       "  top: 0;\n",
       "  box-shadow: 0 -1px inset;\n",
       "}\n",
       "#h2o-table-4 .h2o-table tbody {\n",
       "  overflow: auto;\n",
       "}\n",
       "#h2o-table-4 .h2o-table th,\n",
       "#h2o-table-4 .h2o-table td {\n",
       "  text-align: right;\n",
       "  /* border: 1px solid; */\n",
       "}\n",
       "#h2o-table-4 .h2o-table tr:nth-child(even) {\n",
       "  /* background: #F5F5F5 */\n",
       "}\n",
       "\n",
       "</style>      \n",
       "<div id=\"h2o-table-4\" class=\"h2o-container\">\n",
       "  <table class=\"h2o-table\">\n",
       "    <caption>Confusion Matrix: Row labels: Actual class; Column labels: Predicted class</caption>\n",
       "    <thead><tr><th>0</th>\n",
       "<th>1</th>\n",
       "<th>2</th>\n",
       "<th>3</th>\n",
       "<th>4</th>\n",
       "<th>5</th>\n",
       "<th>6</th>\n",
       "<th>7</th>\n",
       "<th>8</th>\n",
       "<th>9</th>\n",
       "<th>Error</th>\n",
       "<th>Rate</th></tr></thead>\n",
       "    <tbody><tr><td>98.0</td>\n",
       "<td>0.0</td>\n",
       "<td>0.0</td>\n",
       "<td>40.0</td>\n",
       "<td>194.0</td>\n",
       "<td>0.0</td>\n",
       "<td>1.0</td>\n",
       "<td>1.0</td>\n",
       "<td>0.0</td>\n",
       "<td>0.0</td>\n",
       "<td>0.7065868</td>\n",
       "<td>236 / 334</td></tr>\n",
       "<tr><td>1.0</td>\n",
       "<td>9967.0</td>\n",
       "<td>0.0</td>\n",
       "<td>194.0</td>\n",
       "<td>1230.0</td>\n",
       "<td>106.0</td>\n",
       "<td>2021.0</td>\n",
       "<td>9246.0</td>\n",
       "<td>133.0</td>\n",
       "<td>330.0</td>\n",
       "<td>0.5709058</td>\n",
       "<td>13,261 / 23,228</td></tr>\n",
       "<tr><td>4.0</td>\n",
       "<td>1.0</td>\n",
       "<td>383.0</td>\n",
       "<td>3080.0</td>\n",
       "<td>16017.0</td>\n",
       "<td>0.0</td>\n",
       "<td>27.0</td>\n",
       "<td>0.0</td>\n",
       "<td>1.0</td>\n",
       "<td>0.0</td>\n",
       "<td>0.9803721</td>\n",
       "<td>19,130 / 19,513</td></tr>\n",
       "<tr><td>2.0</td>\n",
       "<td>0.0</td>\n",
       "<td>0.0</td>\n",
       "<td>26262.0</td>\n",
       "<td>4895.0</td>\n",
       "<td>0.0</td>\n",
       "<td>44.0</td>\n",
       "<td>0.0</td>\n",
       "<td>0.0</td>\n",
       "<td>0.0</td>\n",
       "<td>0.1583502</td>\n",
       "<td>4,941 / 31,203</td></tr>\n",
       "<tr><td>39.0</td>\n",
       "<td>4.0</td>\n",
       "<td>203.0</td>\n",
       "<td>7948.0</td>\n",
       "<td>71561.0</td>\n",
       "<td>0.0</td>\n",
       "<td>190.0</td>\n",
       "<td>8.0</td>\n",
       "<td>2.0</td>\n",
       "<td>0.0</td>\n",
       "<td>0.1049841</td>\n",
       "<td>8,394 / 79,955</td></tr>\n",
       "<tr><td>0.0</td>\n",
       "<td>1129.0</td>\n",
       "<td>0.0</td>\n",
       "<td>197.0</td>\n",
       "<td>1389.0</td>\n",
       "<td>11750.0</td>\n",
       "<td>1318.0</td>\n",
       "<td>3446.0</td>\n",
       "<td>64.0</td>\n",
       "<td>326.0</td>\n",
       "<td>0.4010908</td>\n",
       "<td>7,869 / 19,619</td></tr>\n",
       "<tr><td>1.0</td>\n",
       "<td>975.0</td>\n",
       "<td>0.0</td>\n",
       "<td>229.0</td>\n",
       "<td>1772.0</td>\n",
       "<td>162.0</td>\n",
       "<td>20236.0</td>\n",
       "<td>2661.0</td>\n",
       "<td>35.0</td>\n",
       "<td>139.0</td>\n",
       "<td>0.2279283</td>\n",
       "<td>5,974 / 26,210</td></tr>\n",
       "<tr><td>3.0</td>\n",
       "<td>4857.0</td>\n",
       "<td>0.0</td>\n",
       "<td>284.0</td>\n",
       "<td>2290.0</td>\n",
       "<td>284.0</td>\n",
       "<td>4074.0</td>\n",
       "<td>30264.0</td>\n",
       "<td>102.0</td>\n",
       "<td>1694.0</td>\n",
       "<td>0.3098604</td>\n",
       "<td>13,588 / 43,852</td></tr>\n",
       "<tr><td>0.0</td>\n",
       "<td>2149.0</td>\n",
       "<td>0.0</td>\n",
       "<td>57.0</td>\n",
       "<td>412.0</td>\n",
       "<td>110.0</td>\n",
       "<td>529.0</td>\n",
       "<td>3010.0</td>\n",
       "<td>463.0</td>\n",
       "<td>218.0</td>\n",
       "<td>0.9333621</td>\n",
       "<td>6,485 / 6,948</td></tr>\n",
       "<tr><td>0.0</td>\n",
       "<td>765.0</td>\n",
       "<td>0.0</td>\n",
       "<td>76.0</td>\n",
       "<td>454.0</td>\n",
       "<td>50.0</td>\n",
       "<td>819.0</td>\n",
       "<td>4630.0</td>\n",
       "<td>4.0</td>\n",
       "<td>2597.0</td>\n",
       "<td>0.7235764</td>\n",
       "<td>6,798 / 9,395</td></tr>\n",
       "<tr><td>148.0</td>\n",
       "<td>19847.0</td>\n",
       "<td>586.0</td>\n",
       "<td>38367.0</td>\n",
       "<td>100214.0</td>\n",
       "<td>12462.0</td>\n",
       "<td>29259.0</td>\n",
       "<td>53266.0</td>\n",
       "<td>804.0</td>\n",
       "<td>5304.0</td>\n",
       "<td>0.3330400</td>\n",
       "<td>86,676 / 260,257</td></tr></tbody>\n",
       "  </table>\n",
       "</div>\n",
       "</div>\n",
       "<div style='margin: 1em 0 1em 0;'>\n",
       "<style>\n",
       "\n",
       "#h2o-table-5.h2o-container {\n",
       "  overflow-x: auto;\n",
       "}\n",
       "#h2o-table-5 .h2o-table {\n",
       "  /* width: 100%; */\n",
       "  margin-top: 1em;\n",
       "  margin-bottom: 1em;\n",
       "}\n",
       "#h2o-table-5 .h2o-table caption {\n",
       "  white-space: nowrap;\n",
       "  caption-side: top;\n",
       "  text-align: left;\n",
       "  /* margin-left: 1em; */\n",
       "  margin: 0;\n",
       "  font-size: larger;\n",
       "}\n",
       "#h2o-table-5 .h2o-table thead {\n",
       "  white-space: nowrap; \n",
       "  position: sticky;\n",
       "  top: 0;\n",
       "  box-shadow: 0 -1px inset;\n",
       "}\n",
       "#h2o-table-5 .h2o-table tbody {\n",
       "  overflow: auto;\n",
       "}\n",
       "#h2o-table-5 .h2o-table th,\n",
       "#h2o-table-5 .h2o-table td {\n",
       "  text-align: right;\n",
       "  /* border: 1px solid; */\n",
       "}\n",
       "#h2o-table-5 .h2o-table tr:nth-child(even) {\n",
       "  /* background: #F5F5F5 */\n",
       "}\n",
       "\n",
       "</style>      \n",
       "<div id=\"h2o-table-5\" class=\"h2o-container\">\n",
       "  <table class=\"h2o-table\">\n",
       "    <caption>Top-10 Hit Ratios: </caption>\n",
       "    <thead><tr><th>k</th>\n",
       "<th>hit_ratio</th></tr></thead>\n",
       "    <tbody><tr><td>1</td>\n",
       "<td>0.6669599</td></tr>\n",
       "<tr><td>2</td>\n",
       "<td>0.8768563</td></tr>\n",
       "<tr><td>3</td>\n",
       "<td>0.9517093</td></tr>\n",
       "<tr><td>4</td>\n",
       "<td>0.9807882</td></tr>\n",
       "<tr><td>5</td>\n",
       "<td>0.9929954</td></tr>\n",
       "<tr><td>6</td>\n",
       "<td>0.9977983</td></tr>\n",
       "<tr><td>7</td>\n",
       "<td>0.9991431</td></tr>\n",
       "<tr><td>8</td>\n",
       "<td>0.9998232</td></tr>\n",
       "<tr><td>9</td>\n",
       "<td>0.9999884</td></tr>\n",
       "<tr><td>10</td>\n",
       "<td>0.9999999</td></tr></tbody>\n",
       "  </table>\n",
       "</div>\n",
       "</div></div>\n",
       "<div style='margin: 1em 0 1em 0;'><pre style='margin: 1em 0 1em 0;'>ModelMetricsMultinomial: gbm\n",
       "** Reported on validation data. **\n",
       "\n",
       "MSE: 0.26657422499090866\n",
       "RMSE: 0.5163082654683233\n",
       "LogLoss: 0.8089158164434042\n",
       "Mean Per-Class Error: 0.4636855891295541\n",
       "AUC table was not computed: it is either disabled (model parameter 'auc_type' was set to AUTO or NONE) or the domain size exceeds the limit (maximum is 50 domains).\n",
       "AUCPR table was not computed: it is either disabled (model parameter 'auc_type' was set to AUTO or NONE) or the domain size exceeds the limit (maximum is 50 domains).</pre>\n",
       "<div style='margin: 1em 0 1em 0;'>\n",
       "<style>\n",
       "\n",
       "#h2o-table-6.h2o-container {\n",
       "  overflow-x: auto;\n",
       "}\n",
       "#h2o-table-6 .h2o-table {\n",
       "  /* width: 100%; */\n",
       "  margin-top: 1em;\n",
       "  margin-bottom: 1em;\n",
       "}\n",
       "#h2o-table-6 .h2o-table caption {\n",
       "  white-space: nowrap;\n",
       "  caption-side: top;\n",
       "  text-align: left;\n",
       "  /* margin-left: 1em; */\n",
       "  margin: 0;\n",
       "  font-size: larger;\n",
       "}\n",
       "#h2o-table-6 .h2o-table thead {\n",
       "  white-space: nowrap; \n",
       "  position: sticky;\n",
       "  top: 0;\n",
       "  box-shadow: 0 -1px inset;\n",
       "}\n",
       "#h2o-table-6 .h2o-table tbody {\n",
       "  overflow: auto;\n",
       "}\n",
       "#h2o-table-6 .h2o-table th,\n",
       "#h2o-table-6 .h2o-table td {\n",
       "  text-align: right;\n",
       "  /* border: 1px solid; */\n",
       "}\n",
       "#h2o-table-6 .h2o-table tr:nth-child(even) {\n",
       "  /* background: #F5F5F5 */\n",
       "}\n",
       "\n",
       "</style>      \n",
       "<div id=\"h2o-table-6\" class=\"h2o-container\">\n",
       "  <table class=\"h2o-table\">\n",
       "    <caption>Confusion Matrix: Row labels: Actual class; Column labels: Predicted class</caption>\n",
       "    <thead><tr><th>0</th>\n",
       "<th>1</th>\n",
       "<th>2</th>\n",
       "<th>3</th>\n",
       "<th>4</th>\n",
       "<th>5</th>\n",
       "<th>6</th>\n",
       "<th>7</th>\n",
       "<th>8</th>\n",
       "<th>9</th>\n",
       "<th>Error</th>\n",
       "<th>Rate</th></tr></thead>\n",
       "    <tbody><tr><td>0.0</td>\n",
       "<td>0.0</td>\n",
       "<td>0.0</td>\n",
       "<td>0.0</td>\n",
       "<td>0.0</td>\n",
       "<td>0.0</td>\n",
       "<td>0.0</td>\n",
       "<td>0.0</td>\n",
       "<td>0.0</td>\n",
       "<td>0.0</td>\n",
       "<td>nan</td>\n",
       "<td>0 / 0</td></tr>\n",
       "<tr><td>0.0</td>\n",
       "<td>36.0</td>\n",
       "<td>0.0</td>\n",
       "<td>2.0</td>\n",
       "<td>12.0</td>\n",
       "<td>1.0</td>\n",
       "<td>10.0</td>\n",
       "<td>51.0</td>\n",
       "<td>0.0</td>\n",
       "<td>2.0</td>\n",
       "<td>0.6842105</td>\n",
       "<td>78 / 114</td></tr>\n",
       "<tr><td>1.0</td>\n",
       "<td>0.0</td>\n",
       "<td>132.0</td>\n",
       "<td>872.0</td>\n",
       "<td>5186.0</td>\n",
       "<td>0.0</td>\n",
       "<td>14.0</td>\n",
       "<td>0.0</td>\n",
       "<td>0.0</td>\n",
       "<td>0.0</td>\n",
       "<td>0.9787268</td>\n",
       "<td>6,073 / 6,205</td></tr>\n",
       "<tr><td>0.0</td>\n",
       "<td>0.0</td>\n",
       "<td>0.0</td>\n",
       "<td>363.0</td>\n",
       "<td>64.0</td>\n",
       "<td>0.0</td>\n",
       "<td>0.0</td>\n",
       "<td>0.0</td>\n",
       "<td>0.0</td>\n",
       "<td>0.0</td>\n",
       "<td>0.1498829</td>\n",
       "<td>64 / 427</td></tr>\n",
       "<tr><td>8.0</td>\n",
       "<td>2.0</td>\n",
       "<td>72.0</td>\n",
       "<td>2248.0</td>\n",
       "<td>22370.0</td>\n",
       "<td>0.0</td>\n",
       "<td>94.0</td>\n",
       "<td>0.0</td>\n",
       "<td>0.0</td>\n",
       "<td>0.0</td>\n",
       "<td>0.0977656</td>\n",
       "<td>2,424 / 24,794</td></tr>\n",
       "<tr><td>0.0</td>\n",
       "<td>227.0</td>\n",
       "<td>0.0</td>\n",
       "<td>107.0</td>\n",
       "<td>756.0</td>\n",
       "<td>3628.0</td>\n",
       "<td>508.0</td>\n",
       "<td>900.0</td>\n",
       "<td>15.0</td>\n",
       "<td>91.0</td>\n",
       "<td>0.4178434</td>\n",
       "<td>2,604 / 6,232</td></tr>\n",
       "<tr><td>0.0</td>\n",
       "<td>5.0</td>\n",
       "<td>0.0</td>\n",
       "<td>11.0</td>\n",
       "<td>86.0</td>\n",
       "<td>2.0</td>\n",
       "<td>209.0</td>\n",
       "<td>24.0</td>\n",
       "<td>0.0</td>\n",
       "<td>1.0</td>\n",
       "<td>0.3816568</td>\n",
       "<td>129 / 338</td></tr>\n",
       "<tr><td>0.0</td>\n",
       "<td>12.0</td>\n",
       "<td>0.0</td>\n",
       "<td>2.0</td>\n",
       "<td>13.0</td>\n",
       "<td>0.0</td>\n",
       "<td>28.0</td>\n",
       "<td>147.0</td>\n",
       "<td>0.0</td>\n",
       "<td>8.0</td>\n",
       "<td>0.3</td>\n",
       "<td>63 / 210</td></tr>\n",
       "<tr><td>0.0</td>\n",
       "<td>349.0</td>\n",
       "<td>0.0</td>\n",
       "<td>22.0</td>\n",
       "<td>72.0</td>\n",
       "<td>26.0</td>\n",
       "<td>160.0</td>\n",
       "<td>846.0</td>\n",
       "<td>102.0</td>\n",
       "<td>45.0</td>\n",
       "<td>0.9371147</td>\n",
       "<td>1,520 / 1,622</td></tr>\n",
       "<tr><td>0.0</td>\n",
       "<td>3.0</td>\n",
       "<td>0.0</td>\n",
       "<td>2.0</td>\n",
       "<td>4.0</td>\n",
       "<td>1.0</td>\n",
       "<td>3.0</td>\n",
       "<td>27.0</td>\n",
       "<td>0.0</td>\n",
       "<td>18.0</td>\n",
       "<td>0.6896552</td>\n",
       "<td>40 / 58</td></tr>\n",
       "<tr><td>9.0</td>\n",
       "<td>634.0</td>\n",
       "<td>204.0</td>\n",
       "<td>3629.0</td>\n",
       "<td>28563.0</td>\n",
       "<td>3658.0</td>\n",
       "<td>1026.0</td>\n",
       "<td>1995.0</td>\n",
       "<td>117.0</td>\n",
       "<td>165.0</td>\n",
       "<td>0.324875</td>\n",
       "<td>12,995 / 40,000</td></tr></tbody>\n",
       "  </table>\n",
       "</div>\n",
       "</div>\n",
       "<div style='margin: 1em 0 1em 0;'>\n",
       "<style>\n",
       "\n",
       "#h2o-table-7.h2o-container {\n",
       "  overflow-x: auto;\n",
       "}\n",
       "#h2o-table-7 .h2o-table {\n",
       "  /* width: 100%; */\n",
       "  margin-top: 1em;\n",
       "  margin-bottom: 1em;\n",
       "}\n",
       "#h2o-table-7 .h2o-table caption {\n",
       "  white-space: nowrap;\n",
       "  caption-side: top;\n",
       "  text-align: left;\n",
       "  /* margin-left: 1em; */\n",
       "  margin: 0;\n",
       "  font-size: larger;\n",
       "}\n",
       "#h2o-table-7 .h2o-table thead {\n",
       "  white-space: nowrap; \n",
       "  position: sticky;\n",
       "  top: 0;\n",
       "  box-shadow: 0 -1px inset;\n",
       "}\n",
       "#h2o-table-7 .h2o-table tbody {\n",
       "  overflow: auto;\n",
       "}\n",
       "#h2o-table-7 .h2o-table th,\n",
       "#h2o-table-7 .h2o-table td {\n",
       "  text-align: right;\n",
       "  /* border: 1px solid; */\n",
       "}\n",
       "#h2o-table-7 .h2o-table tr:nth-child(even) {\n",
       "  /* background: #F5F5F5 */\n",
       "}\n",
       "\n",
       "</style>      \n",
       "<div id=\"h2o-table-7\" class=\"h2o-container\">\n",
       "  <table class=\"h2o-table\">\n",
       "    <caption>Top-10 Hit Ratios: </caption>\n",
       "    <thead><tr><th>k</th>\n",
       "<th>hit_ratio</th></tr></thead>\n",
       "    <tbody><tr><td>1</td>\n",
       "<td>0.675125</td></tr>\n",
       "<tr><td>2</td>\n",
       "<td>0.88305</td></tr>\n",
       "<tr><td>3</td>\n",
       "<td>0.951725</td></tr>\n",
       "<tr><td>4</td>\n",
       "<td>0.977325</td></tr>\n",
       "<tr><td>5</td>\n",
       "<td>0.990625</td></tr>\n",
       "<tr><td>6</td>\n",
       "<td>0.9959000</td></tr>\n",
       "<tr><td>7</td>\n",
       "<td>0.9980251</td></tr>\n",
       "<tr><td>8</td>\n",
       "<td>0.9994751</td></tr>\n",
       "<tr><td>9</td>\n",
       "<td>0.9999751</td></tr>\n",
       "<tr><td>10</td>\n",
       "<td>1.0000001</td></tr></tbody>\n",
       "  </table>\n",
       "</div>\n",
       "</div></div>\n",
       "<div style='margin: 1em 0 1em 0;'>\n",
       "<style>\n",
       "\n",
       "#h2o-table-8.h2o-container {\n",
       "  overflow-x: auto;\n",
       "}\n",
       "#h2o-table-8 .h2o-table {\n",
       "  /* width: 100%; */\n",
       "  margin-top: 1em;\n",
       "  margin-bottom: 1em;\n",
       "}\n",
       "#h2o-table-8 .h2o-table caption {\n",
       "  white-space: nowrap;\n",
       "  caption-side: top;\n",
       "  text-align: left;\n",
       "  /* margin-left: 1em; */\n",
       "  margin: 0;\n",
       "  font-size: larger;\n",
       "}\n",
       "#h2o-table-8 .h2o-table thead {\n",
       "  white-space: nowrap; \n",
       "  position: sticky;\n",
       "  top: 0;\n",
       "  box-shadow: 0 -1px inset;\n",
       "}\n",
       "#h2o-table-8 .h2o-table tbody {\n",
       "  overflow: auto;\n",
       "}\n",
       "#h2o-table-8 .h2o-table th,\n",
       "#h2o-table-8 .h2o-table td {\n",
       "  text-align: right;\n",
       "  /* border: 1px solid; */\n",
       "}\n",
       "#h2o-table-8 .h2o-table tr:nth-child(even) {\n",
       "  /* background: #F5F5F5 */\n",
       "}\n",
       "\n",
       "</style>      \n",
       "<div id=\"h2o-table-8\" class=\"h2o-container\">\n",
       "  <table class=\"h2o-table\">\n",
       "    <caption>Scoring History: </caption>\n",
       "    <thead><tr><th></th>\n",
       "<th>timestamp</th>\n",
       "<th>duration</th>\n",
       "<th>number_of_trees</th>\n",
       "<th>training_rmse</th>\n",
       "<th>training_logloss</th>\n",
       "<th>training_classification_error</th>\n",
       "<th>training_auc</th>\n",
       "<th>training_pr_auc</th>\n",
       "<th>validation_rmse</th>\n",
       "<th>validation_logloss</th>\n",
       "<th>validation_classification_error</th>\n",
       "<th>validation_auc</th>\n",
       "<th>validation_pr_auc</th></tr></thead>\n",
       "    <tbody><tr><td></td>\n",
       "<td>2024-10-12 00:32:26</td>\n",
       "<td> 0.462 sec</td>\n",
       "<td>0.0</td>\n",
       "<td>0.9000000</td>\n",
       "<td>2.3025851</td>\n",
       "<td>0.8320160</td>\n",
       "<td>nan</td>\n",
       "<td>nan</td>\n",
       "<td>0.9000000</td>\n",
       "<td>2.3025851</td>\n",
       "<td>0.788925</td>\n",
       "<td>nan</td>\n",
       "<td>nan</td></tr>\n",
       "<tr><td></td>\n",
       "<td>2024-10-12 00:32:28</td>\n",
       "<td> 3.343 sec</td>\n",
       "<td>1.0</td>\n",
       "<td>0.8496297</td>\n",
       "<td>1.9240886</td>\n",
       "<td>0.3672601</td>\n",
       "<td>nan</td>\n",
       "<td>nan</td>\n",
       "<td>0.8414200</td>\n",
       "<td>1.8766826</td>\n",
       "<td>0.353775</td>\n",
       "<td>nan</td>\n",
       "<td>nan</td></tr>\n",
       "<tr><td></td>\n",
       "<td>2024-10-12 00:32:29</td>\n",
       "<td> 4.115 sec</td>\n",
       "<td>2.0</td>\n",
       "<td>0.8100725</td>\n",
       "<td>1.7176879</td>\n",
       "<td>0.3668182</td>\n",
       "<td>nan</td>\n",
       "<td>nan</td>\n",
       "<td>0.7965289</td>\n",
       "<td>1.6596486</td>\n",
       "<td>0.35505</td>\n",
       "<td>nan</td>\n",
       "<td>nan</td></tr>\n",
       "<tr><td></td>\n",
       "<td>2024-10-12 00:32:34</td>\n",
       "<td> 8.376 sec</td>\n",
       "<td>13.0</td>\n",
       "<td>0.6069969</td>\n",
       "<td>1.0373620</td>\n",
       "<td>0.3528743</td>\n",
       "<td>nan</td>\n",
       "<td>nan</td>\n",
       "<td>0.5800926</td>\n",
       "<td>0.9933720</td>\n",
       "<td>0.338825</td>\n",
       "<td>nan</td>\n",
       "<td>nan</td></tr>\n",
       "<tr><td></td>\n",
       "<td>2024-10-12 00:32:39</td>\n",
       "<td>14.209 sec</td>\n",
       "<td>25.0</td>\n",
       "<td>0.5573587</td>\n",
       "<td>0.8943375</td>\n",
       "<td>0.3428150</td>\n",
       "<td>nan</td>\n",
       "<td>nan</td>\n",
       "<td>0.5344300</td>\n",
       "<td>0.8608198</td>\n",
       "<td>0.334125</td>\n",
       "<td>nan</td>\n",
       "<td>nan</td></tr>\n",
       "<tr><td></td>\n",
       "<td>2024-10-12 00:32:46</td>\n",
       "<td>20.615 sec</td>\n",
       "<td>39.0</td>\n",
       "<td>0.5413278</td>\n",
       "<td>0.8469104</td>\n",
       "<td>0.3373512</td>\n",
       "<td>nan</td>\n",
       "<td>nan</td>\n",
       "<td>0.5203245</td>\n",
       "<td>0.8194496</td>\n",
       "<td>0.328725</td>\n",
       "<td>nan</td>\n",
       "<td>nan</td></tr>\n",
       "<tr><td></td>\n",
       "<td>2024-10-12 00:32:50</td>\n",
       "<td>25.300 sec</td>\n",
       "<td>50.0</td>\n",
       "<td>0.5354756</td>\n",
       "<td>0.8297654</td>\n",
       "<td>0.3330400</td>\n",
       "<td>nan</td>\n",
       "<td>nan</td>\n",
       "<td>0.5163083</td>\n",
       "<td>0.8089158</td>\n",
       "<td>0.324875</td>\n",
       "<td>nan</td>\n",
       "<td>nan</td></tr></tbody>\n",
       "  </table>\n",
       "</div>\n",
       "</div>\n",
       "<div style='margin: 1em 0 1em 0;'>\n",
       "<style>\n",
       "\n",
       "#h2o-table-9.h2o-container {\n",
       "  overflow-x: auto;\n",
       "}\n",
       "#h2o-table-9 .h2o-table {\n",
       "  /* width: 100%; */\n",
       "  margin-top: 1em;\n",
       "  margin-bottom: 1em;\n",
       "}\n",
       "#h2o-table-9 .h2o-table caption {\n",
       "  white-space: nowrap;\n",
       "  caption-side: top;\n",
       "  text-align: left;\n",
       "  /* margin-left: 1em; */\n",
       "  margin: 0;\n",
       "  font-size: larger;\n",
       "}\n",
       "#h2o-table-9 .h2o-table thead {\n",
       "  white-space: nowrap; \n",
       "  position: sticky;\n",
       "  top: 0;\n",
       "  box-shadow: 0 -1px inset;\n",
       "}\n",
       "#h2o-table-9 .h2o-table tbody {\n",
       "  overflow: auto;\n",
       "}\n",
       "#h2o-table-9 .h2o-table th,\n",
       "#h2o-table-9 .h2o-table td {\n",
       "  text-align: right;\n",
       "  /* border: 1px solid; */\n",
       "}\n",
       "#h2o-table-9 .h2o-table tr:nth-child(even) {\n",
       "  /* background: #F5F5F5 */\n",
       "}\n",
       "\n",
       "</style>      \n",
       "<div id=\"h2o-table-9\" class=\"h2o-container\">\n",
       "  <table class=\"h2o-table\">\n",
       "    <caption>Variable Importances: </caption>\n",
       "    <thead><tr><th>variable</th>\n",
       "<th>relative_importance</th>\n",
       "<th>scaled_importance</th>\n",
       "<th>percentage</th></tr></thead>\n",
       "    <tbody><tr><td>category_id</td>\n",
       "<td>190725.2031250</td>\n",
       "<td>1.0</td>\n",
       "<td>0.4473550</td></tr>\n",
       "<tr><td>action_6_count</td>\n",
       "<td>50466.5273438</td>\n",
       "<td>0.2646033</td>\n",
       "<td>0.1183716</td></tr>\n",
       "<tr><td>action_3_count</td>\n",
       "<td>46139.0195312</td>\n",
       "<td>0.2419136</td>\n",
       "<td>0.1082213</td></tr>\n",
       "<tr><td>action_7_count</td>\n",
       "<td>31992.6914062</td>\n",
       "<td>0.1677423</td>\n",
       "<td>0.0750404</td></tr>\n",
       "<tr><td>action_1_count</td>\n",
       "<td>23118.2968750</td>\n",
       "<td>0.1212126</td>\n",
       "<td>0.0542251</td></tr>\n",
       "<tr><td>action_4_count</td>\n",
       "<td>20491.8496094</td>\n",
       "<td>0.1074418</td>\n",
       "<td>0.0480646</td></tr>\n",
       "<tr><td>delta_min</td>\n",
       "<td>18280.3535156</td>\n",
       "<td>0.0958466</td>\n",
       "<td>0.0428774</td></tr>\n",
       "<tr><td>action_8_count</td>\n",
       "<td>17567.0781250</td>\n",
       "<td>0.0921067</td>\n",
       "<td>0.0412044</td></tr>\n",
       "<tr><td>loc_user_count</td>\n",
       "<td>7759.9228516</td>\n",
       "<td>0.0406864</td>\n",
       "<td>0.0182013</td></tr>\n",
       "<tr><td>action_9_count</td>\n",
       "<td>6051.3999023</td>\n",
       "<td>0.0317284</td>\n",
       "<td>0.0141938</td></tr>\n",
       "<tr><td>delta_sec</td>\n",
       "<td>5183.9775391</td>\n",
       "<td>0.0271803</td>\n",
       "<td>0.0121593</td></tr>\n",
       "<tr><td>action_2_count</td>\n",
       "<td>4553.0688477</td>\n",
       "<td>0.0238724</td>\n",
       "<td>0.0106794</td></tr>\n",
       "<tr><td>action_5_count</td>\n",
       "<td>2019.6265869</td>\n",
       "<td>0.0105892</td>\n",
       "<td>0.0047371</td></tr>\n",
       "<tr><td>price_diff</td>\n",
       "<td>957.6964111</td>\n",
       "<td>0.0050213</td>\n",
       "<td>0.0022463</td></tr>\n",
       "<tr><td>day_of_week</td>\n",
       "<td>469.1724548</td>\n",
       "<td>0.0024599</td>\n",
       "<td>0.0011005</td></tr>\n",
       "<tr><td>category_id_count</td>\n",
       "<td>258.5448914</td>\n",
       "<td>0.0013556</td>\n",
       "<td>0.0006064</td></tr>\n",
       "<tr><td>action_0_count</td>\n",
       "<td>192.9338074</td>\n",
       "<td>0.0010116</td>\n",
       "<td>0.0004525</td></tr>\n",
       "<tr><td>delta_hour</td>\n",
       "<td>89.9360886</td>\n",
       "<td>0.0004715</td>\n",
       "<td>0.0002109</td></tr>\n",
       "<tr><td>delta_day</td>\n",
       "<td>22.4068546</td>\n",
       "<td>0.0001175</td>\n",
       "<td>0.0000526</td></tr></tbody>\n",
       "  </table>\n",
       "</div>\n",
       "</div><pre style=\"font-size: smaller; margin: 1em 0 0 0;\">\n",
       "\n",
       "[tips]\n",
       "Use `model.explain()` to inspect the model.\n",
       "--\n",
       "Use `h2o.display.toggle_user_tips()` to switch on/off this section.</pre>"
      ]
     },
     "execution_count": 86,
     "metadata": {},
     "output_type": "execute_result"
    }
   ],
   "execution_count": 86
  },
  {
   "metadata": {
    "ExecuteTime": {
     "end_time": "2024-10-11T21:32:53.423980Z",
     "start_time": "2024-10-11T21:32:53.419298Z"
    }
   },
   "cell_type": "code",
   "source": "gbm_model.varimp(use_pandas=True)",
   "id": "25b2e7ebc47bafe4",
   "outputs": [
    {
     "data": {
      "text/plain": [
       "             variable  relative_importance  scaled_importance  percentage\n",
       "0         category_id        190725.203125           1.000000    0.447355\n",
       "1      action_6_count         50466.527344           0.264603    0.118372\n",
       "2      action_3_count         46139.019531           0.241914    0.108221\n",
       "3      action_7_count         31992.691406           0.167742    0.075040\n",
       "4      action_1_count         23118.296875           0.121213    0.054225\n",
       "5      action_4_count         20491.849609           0.107442    0.048065\n",
       "6           delta_min         18280.353516           0.095847    0.042877\n",
       "7      action_8_count         17567.078125           0.092107    0.041204\n",
       "8      loc_user_count          7759.922852           0.040686    0.018201\n",
       "9      action_9_count          6051.399902           0.031728    0.014194\n",
       "10          delta_sec          5183.977539           0.027180    0.012159\n",
       "11     action_2_count          4553.068848           0.023872    0.010679\n",
       "12     action_5_count          2019.626587           0.010589    0.004737\n",
       "13         price_diff           957.696411           0.005021    0.002246\n",
       "14        day_of_week           469.172455           0.002460    0.001100\n",
       "15  category_id_count           258.544891           0.001356    0.000606\n",
       "16     action_0_count           192.933807           0.001012    0.000453\n",
       "17         delta_hour            89.936089           0.000472    0.000211\n",
       "18          delta_day            22.406855           0.000117    0.000053"
      ],
      "text/html": [
       "<div>\n",
       "<style scoped>\n",
       "    .dataframe tbody tr th:only-of-type {\n",
       "        vertical-align: middle;\n",
       "    }\n",
       "\n",
       "    .dataframe tbody tr th {\n",
       "        vertical-align: top;\n",
       "    }\n",
       "\n",
       "    .dataframe thead th {\n",
       "        text-align: right;\n",
       "    }\n",
       "</style>\n",
       "<table border=\"1\" class=\"dataframe\">\n",
       "  <thead>\n",
       "    <tr style=\"text-align: right;\">\n",
       "      <th></th>\n",
       "      <th>variable</th>\n",
       "      <th>relative_importance</th>\n",
       "      <th>scaled_importance</th>\n",
       "      <th>percentage</th>\n",
       "    </tr>\n",
       "  </thead>\n",
       "  <tbody>\n",
       "    <tr>\n",
       "      <th>0</th>\n",
       "      <td>category_id</td>\n",
       "      <td>190725.203125</td>\n",
       "      <td>1.000000</td>\n",
       "      <td>0.447355</td>\n",
       "    </tr>\n",
       "    <tr>\n",
       "      <th>1</th>\n",
       "      <td>action_6_count</td>\n",
       "      <td>50466.527344</td>\n",
       "      <td>0.264603</td>\n",
       "      <td>0.118372</td>\n",
       "    </tr>\n",
       "    <tr>\n",
       "      <th>2</th>\n",
       "      <td>action_3_count</td>\n",
       "      <td>46139.019531</td>\n",
       "      <td>0.241914</td>\n",
       "      <td>0.108221</td>\n",
       "    </tr>\n",
       "    <tr>\n",
       "      <th>3</th>\n",
       "      <td>action_7_count</td>\n",
       "      <td>31992.691406</td>\n",
       "      <td>0.167742</td>\n",
       "      <td>0.075040</td>\n",
       "    </tr>\n",
       "    <tr>\n",
       "      <th>4</th>\n",
       "      <td>action_1_count</td>\n",
       "      <td>23118.296875</td>\n",
       "      <td>0.121213</td>\n",
       "      <td>0.054225</td>\n",
       "    </tr>\n",
       "    <tr>\n",
       "      <th>5</th>\n",
       "      <td>action_4_count</td>\n",
       "      <td>20491.849609</td>\n",
       "      <td>0.107442</td>\n",
       "      <td>0.048065</td>\n",
       "    </tr>\n",
       "    <tr>\n",
       "      <th>6</th>\n",
       "      <td>delta_min</td>\n",
       "      <td>18280.353516</td>\n",
       "      <td>0.095847</td>\n",
       "      <td>0.042877</td>\n",
       "    </tr>\n",
       "    <tr>\n",
       "      <th>7</th>\n",
       "      <td>action_8_count</td>\n",
       "      <td>17567.078125</td>\n",
       "      <td>0.092107</td>\n",
       "      <td>0.041204</td>\n",
       "    </tr>\n",
       "    <tr>\n",
       "      <th>8</th>\n",
       "      <td>loc_user_count</td>\n",
       "      <td>7759.922852</td>\n",
       "      <td>0.040686</td>\n",
       "      <td>0.018201</td>\n",
       "    </tr>\n",
       "    <tr>\n",
       "      <th>9</th>\n",
       "      <td>action_9_count</td>\n",
       "      <td>6051.399902</td>\n",
       "      <td>0.031728</td>\n",
       "      <td>0.014194</td>\n",
       "    </tr>\n",
       "    <tr>\n",
       "      <th>10</th>\n",
       "      <td>delta_sec</td>\n",
       "      <td>5183.977539</td>\n",
       "      <td>0.027180</td>\n",
       "      <td>0.012159</td>\n",
       "    </tr>\n",
       "    <tr>\n",
       "      <th>11</th>\n",
       "      <td>action_2_count</td>\n",
       "      <td>4553.068848</td>\n",
       "      <td>0.023872</td>\n",
       "      <td>0.010679</td>\n",
       "    </tr>\n",
       "    <tr>\n",
       "      <th>12</th>\n",
       "      <td>action_5_count</td>\n",
       "      <td>2019.626587</td>\n",
       "      <td>0.010589</td>\n",
       "      <td>0.004737</td>\n",
       "    </tr>\n",
       "    <tr>\n",
       "      <th>13</th>\n",
       "      <td>price_diff</td>\n",
       "      <td>957.696411</td>\n",
       "      <td>0.005021</td>\n",
       "      <td>0.002246</td>\n",
       "    </tr>\n",
       "    <tr>\n",
       "      <th>14</th>\n",
       "      <td>day_of_week</td>\n",
       "      <td>469.172455</td>\n",
       "      <td>0.002460</td>\n",
       "      <td>0.001100</td>\n",
       "    </tr>\n",
       "    <tr>\n",
       "      <th>15</th>\n",
       "      <td>category_id_count</td>\n",
       "      <td>258.544891</td>\n",
       "      <td>0.001356</td>\n",
       "      <td>0.000606</td>\n",
       "    </tr>\n",
       "    <tr>\n",
       "      <th>16</th>\n",
       "      <td>action_0_count</td>\n",
       "      <td>192.933807</td>\n",
       "      <td>0.001012</td>\n",
       "      <td>0.000453</td>\n",
       "    </tr>\n",
       "    <tr>\n",
       "      <th>17</th>\n",
       "      <td>delta_hour</td>\n",
       "      <td>89.936089</td>\n",
       "      <td>0.000472</td>\n",
       "      <td>0.000211</td>\n",
       "    </tr>\n",
       "    <tr>\n",
       "      <th>18</th>\n",
       "      <td>delta_day</td>\n",
       "      <td>22.406855</td>\n",
       "      <td>0.000117</td>\n",
       "      <td>0.000053</td>\n",
       "    </tr>\n",
       "  </tbody>\n",
       "</table>\n",
       "</div>"
      ]
     },
     "execution_count": 87,
     "metadata": {},
     "output_type": "execute_result"
    }
   ],
   "execution_count": 87
  },
  {
   "metadata": {
    "ExecuteTime": {
     "end_time": "2024-10-11T21:32:57.405456Z",
     "start_time": "2024-10-11T21:32:54.830900Z"
    }
   },
   "cell_type": "code",
   "source": "gbm_model.model_performance(test_h2o)",
   "id": "df542bafe3b785fb",
   "outputs": [
    {
     "data": {
      "text/plain": [
       "ModelMetricsMultinomial: gbm\n",
       "** Reported on test data. **\n",
       "\n",
       "MSE: 0.26657422499090866\n",
       "RMSE: 0.5163082654683233\n",
       "LogLoss: 0.8089158164434042\n",
       "Mean Per-Class Error: 0.4636855891295541\n",
       "AUC table was not computed: it is either disabled (model parameter 'auc_type' was set to AUTO or NONE) or the domain size exceeds the limit (maximum is 50 domains).\n",
       "AUCPR table was not computed: it is either disabled (model parameter 'auc_type' was set to AUTO or NONE) or the domain size exceeds the limit (maximum is 50 domains).\n",
       "\n",
       "Confusion Matrix: Row labels: Actual class; Column labels: Predicted class\n",
       "0    1    2    3     4      5     6     7     8    9    Error      Rate\n",
       "---  ---  ---  ----  -----  ----  ----  ----  ---  ---  ---------  ---------------\n",
       "0    0    0    0     0      0     0     0     0    0    nan        0 / 0\n",
       "0    36   0    2     12     1     10    51    0    2    0.684211   78 / 114\n",
       "1    0    132  872   5186   0     14    0     0    0    0.978727   6,073 / 6,205\n",
       "0    0    0    363   64     0     0     0     0    0    0.149883   64 / 427\n",
       "8    2    72   2248  22370  0     94    0     0    0    0.0977656  2,424 / 24,794\n",
       "0    227  0    107   756    3628  508   900   15   91   0.417843   2,604 / 6,232\n",
       "0    5    0    11    86     2     209   24    0    1    0.381657   129 / 338\n",
       "0    12   0    2     13     0     28    147   0    8    0.3        63 / 210\n",
       "0    349  0    22    72     26    160   846   102  45   0.937115   1,520 / 1,622\n",
       "0    3    0    2     4      1     3     27    0    18   0.689655   40 / 58\n",
       "9    634  204  3629  28563  3658  1026  1995  117  165  0.324875   12,995 / 40,000\n",
       "\n",
       "Top-10 Hit Ratios: \n",
       "k    hit_ratio\n",
       "---  -----------\n",
       "1    0.675125\n",
       "2    0.88305\n",
       "3    0.951725\n",
       "4    0.977325\n",
       "5    0.990625\n",
       "6    0.9959\n",
       "7    0.998025\n",
       "8    0.999475\n",
       "9    0.999975\n",
       "10   1"
      ],
      "text/html": [
       "<pre style='margin: 1em 0 1em 0;'>ModelMetricsMultinomial: gbm\n",
       "** Reported on test data. **\n",
       "\n",
       "MSE: 0.26657422499090866\n",
       "RMSE: 0.5163082654683233\n",
       "LogLoss: 0.8089158164434042\n",
       "Mean Per-Class Error: 0.4636855891295541\n",
       "AUC table was not computed: it is either disabled (model parameter 'auc_type' was set to AUTO or NONE) or the domain size exceeds the limit (maximum is 50 domains).\n",
       "AUCPR table was not computed: it is either disabled (model parameter 'auc_type' was set to AUTO or NONE) or the domain size exceeds the limit (maximum is 50 domains).</pre>\n",
       "<div style='margin: 1em 0 1em 0;'>\n",
       "<style>\n",
       "\n",
       "#h2o-table-10.h2o-container {\n",
       "  overflow-x: auto;\n",
       "}\n",
       "#h2o-table-10 .h2o-table {\n",
       "  /* width: 100%; */\n",
       "  margin-top: 1em;\n",
       "  margin-bottom: 1em;\n",
       "}\n",
       "#h2o-table-10 .h2o-table caption {\n",
       "  white-space: nowrap;\n",
       "  caption-side: top;\n",
       "  text-align: left;\n",
       "  /* margin-left: 1em; */\n",
       "  margin: 0;\n",
       "  font-size: larger;\n",
       "}\n",
       "#h2o-table-10 .h2o-table thead {\n",
       "  white-space: nowrap; \n",
       "  position: sticky;\n",
       "  top: 0;\n",
       "  box-shadow: 0 -1px inset;\n",
       "}\n",
       "#h2o-table-10 .h2o-table tbody {\n",
       "  overflow: auto;\n",
       "}\n",
       "#h2o-table-10 .h2o-table th,\n",
       "#h2o-table-10 .h2o-table td {\n",
       "  text-align: right;\n",
       "  /* border: 1px solid; */\n",
       "}\n",
       "#h2o-table-10 .h2o-table tr:nth-child(even) {\n",
       "  /* background: #F5F5F5 */\n",
       "}\n",
       "\n",
       "</style>      \n",
       "<div id=\"h2o-table-10\" class=\"h2o-container\">\n",
       "  <table class=\"h2o-table\">\n",
       "    <caption>Confusion Matrix: Row labels: Actual class; Column labels: Predicted class</caption>\n",
       "    <thead><tr><th>0</th>\n",
       "<th>1</th>\n",
       "<th>2</th>\n",
       "<th>3</th>\n",
       "<th>4</th>\n",
       "<th>5</th>\n",
       "<th>6</th>\n",
       "<th>7</th>\n",
       "<th>8</th>\n",
       "<th>9</th>\n",
       "<th>Error</th>\n",
       "<th>Rate</th></tr></thead>\n",
       "    <tbody><tr><td>0.0</td>\n",
       "<td>0.0</td>\n",
       "<td>0.0</td>\n",
       "<td>0.0</td>\n",
       "<td>0.0</td>\n",
       "<td>0.0</td>\n",
       "<td>0.0</td>\n",
       "<td>0.0</td>\n",
       "<td>0.0</td>\n",
       "<td>0.0</td>\n",
       "<td>nan</td>\n",
       "<td>0 / 0</td></tr>\n",
       "<tr><td>0.0</td>\n",
       "<td>36.0</td>\n",
       "<td>0.0</td>\n",
       "<td>2.0</td>\n",
       "<td>12.0</td>\n",
       "<td>1.0</td>\n",
       "<td>10.0</td>\n",
       "<td>51.0</td>\n",
       "<td>0.0</td>\n",
       "<td>2.0</td>\n",
       "<td>0.6842105</td>\n",
       "<td>78 / 114</td></tr>\n",
       "<tr><td>1.0</td>\n",
       "<td>0.0</td>\n",
       "<td>132.0</td>\n",
       "<td>872.0</td>\n",
       "<td>5186.0</td>\n",
       "<td>0.0</td>\n",
       "<td>14.0</td>\n",
       "<td>0.0</td>\n",
       "<td>0.0</td>\n",
       "<td>0.0</td>\n",
       "<td>0.9787268</td>\n",
       "<td>6,073 / 6,205</td></tr>\n",
       "<tr><td>0.0</td>\n",
       "<td>0.0</td>\n",
       "<td>0.0</td>\n",
       "<td>363.0</td>\n",
       "<td>64.0</td>\n",
       "<td>0.0</td>\n",
       "<td>0.0</td>\n",
       "<td>0.0</td>\n",
       "<td>0.0</td>\n",
       "<td>0.0</td>\n",
       "<td>0.1498829</td>\n",
       "<td>64 / 427</td></tr>\n",
       "<tr><td>8.0</td>\n",
       "<td>2.0</td>\n",
       "<td>72.0</td>\n",
       "<td>2248.0</td>\n",
       "<td>22370.0</td>\n",
       "<td>0.0</td>\n",
       "<td>94.0</td>\n",
       "<td>0.0</td>\n",
       "<td>0.0</td>\n",
       "<td>0.0</td>\n",
       "<td>0.0977656</td>\n",
       "<td>2,424 / 24,794</td></tr>\n",
       "<tr><td>0.0</td>\n",
       "<td>227.0</td>\n",
       "<td>0.0</td>\n",
       "<td>107.0</td>\n",
       "<td>756.0</td>\n",
       "<td>3628.0</td>\n",
       "<td>508.0</td>\n",
       "<td>900.0</td>\n",
       "<td>15.0</td>\n",
       "<td>91.0</td>\n",
       "<td>0.4178434</td>\n",
       "<td>2,604 / 6,232</td></tr>\n",
       "<tr><td>0.0</td>\n",
       "<td>5.0</td>\n",
       "<td>0.0</td>\n",
       "<td>11.0</td>\n",
       "<td>86.0</td>\n",
       "<td>2.0</td>\n",
       "<td>209.0</td>\n",
       "<td>24.0</td>\n",
       "<td>0.0</td>\n",
       "<td>1.0</td>\n",
       "<td>0.3816568</td>\n",
       "<td>129 / 338</td></tr>\n",
       "<tr><td>0.0</td>\n",
       "<td>12.0</td>\n",
       "<td>0.0</td>\n",
       "<td>2.0</td>\n",
       "<td>13.0</td>\n",
       "<td>0.0</td>\n",
       "<td>28.0</td>\n",
       "<td>147.0</td>\n",
       "<td>0.0</td>\n",
       "<td>8.0</td>\n",
       "<td>0.3</td>\n",
       "<td>63 / 210</td></tr>\n",
       "<tr><td>0.0</td>\n",
       "<td>349.0</td>\n",
       "<td>0.0</td>\n",
       "<td>22.0</td>\n",
       "<td>72.0</td>\n",
       "<td>26.0</td>\n",
       "<td>160.0</td>\n",
       "<td>846.0</td>\n",
       "<td>102.0</td>\n",
       "<td>45.0</td>\n",
       "<td>0.9371147</td>\n",
       "<td>1,520 / 1,622</td></tr>\n",
       "<tr><td>0.0</td>\n",
       "<td>3.0</td>\n",
       "<td>0.0</td>\n",
       "<td>2.0</td>\n",
       "<td>4.0</td>\n",
       "<td>1.0</td>\n",
       "<td>3.0</td>\n",
       "<td>27.0</td>\n",
       "<td>0.0</td>\n",
       "<td>18.0</td>\n",
       "<td>0.6896552</td>\n",
       "<td>40 / 58</td></tr>\n",
       "<tr><td>9.0</td>\n",
       "<td>634.0</td>\n",
       "<td>204.0</td>\n",
       "<td>3629.0</td>\n",
       "<td>28563.0</td>\n",
       "<td>3658.0</td>\n",
       "<td>1026.0</td>\n",
       "<td>1995.0</td>\n",
       "<td>117.0</td>\n",
       "<td>165.0</td>\n",
       "<td>0.324875</td>\n",
       "<td>12,995 / 40,000</td></tr></tbody>\n",
       "  </table>\n",
       "</div>\n",
       "</div>\n",
       "<div style='margin: 1em 0 1em 0;'>\n",
       "<style>\n",
       "\n",
       "#h2o-table-11.h2o-container {\n",
       "  overflow-x: auto;\n",
       "}\n",
       "#h2o-table-11 .h2o-table {\n",
       "  /* width: 100%; */\n",
       "  margin-top: 1em;\n",
       "  margin-bottom: 1em;\n",
       "}\n",
       "#h2o-table-11 .h2o-table caption {\n",
       "  white-space: nowrap;\n",
       "  caption-side: top;\n",
       "  text-align: left;\n",
       "  /* margin-left: 1em; */\n",
       "  margin: 0;\n",
       "  font-size: larger;\n",
       "}\n",
       "#h2o-table-11 .h2o-table thead {\n",
       "  white-space: nowrap; \n",
       "  position: sticky;\n",
       "  top: 0;\n",
       "  box-shadow: 0 -1px inset;\n",
       "}\n",
       "#h2o-table-11 .h2o-table tbody {\n",
       "  overflow: auto;\n",
       "}\n",
       "#h2o-table-11 .h2o-table th,\n",
       "#h2o-table-11 .h2o-table td {\n",
       "  text-align: right;\n",
       "  /* border: 1px solid; */\n",
       "}\n",
       "#h2o-table-11 .h2o-table tr:nth-child(even) {\n",
       "  /* background: #F5F5F5 */\n",
       "}\n",
       "\n",
       "</style>      \n",
       "<div id=\"h2o-table-11\" class=\"h2o-container\">\n",
       "  <table class=\"h2o-table\">\n",
       "    <caption>Top-10 Hit Ratios: </caption>\n",
       "    <thead><tr><th>k</th>\n",
       "<th>hit_ratio</th></tr></thead>\n",
       "    <tbody><tr><td>1</td>\n",
       "<td>0.675125</td></tr>\n",
       "<tr><td>2</td>\n",
       "<td>0.88305</td></tr>\n",
       "<tr><td>3</td>\n",
       "<td>0.951725</td></tr>\n",
       "<tr><td>4</td>\n",
       "<td>0.977325</td></tr>\n",
       "<tr><td>5</td>\n",
       "<td>0.990625</td></tr>\n",
       "<tr><td>6</td>\n",
       "<td>0.9959000</td></tr>\n",
       "<tr><td>7</td>\n",
       "<td>0.9980251</td></tr>\n",
       "<tr><td>8</td>\n",
       "<td>0.9994751</td></tr>\n",
       "<tr><td>9</td>\n",
       "<td>0.9999751</td></tr>\n",
       "<tr><td>10</td>\n",
       "<td>1.0000001</td></tr></tbody>\n",
       "  </table>\n",
       "</div>\n",
       "</div>"
      ]
     },
     "execution_count": 88,
     "metadata": {},
     "output_type": "execute_result"
    }
   ],
   "execution_count": 88
  },
  {
   "metadata": {
    "ExecuteTime": {
     "end_time": "2024-10-11T21:32:57.455773Z",
     "start_time": "2024-10-11T21:32:57.453482Z"
    }
   },
   "cell_type": "code",
   "source": "",
   "id": "eabbc1198fbe0869",
   "outputs": [],
   "execution_count": null
  },
  {
   "metadata": {},
   "cell_type": "markdown",
   "source": "#### Выбираем только категории с количеством товаров > N (для использования в качестве фильтра в дальнейшем)",
   "id": "cb50141fa1d156c1"
  },
  {
   "metadata": {
    "ExecuteTime": {
     "end_time": "2024-10-11T21:37:12.976853Z",
     "start_time": "2024-10-11T21:37:12.954577Z"
    }
   },
   "cell_type": "code",
   "source": [
    "cats = inters.category_id.value_counts()\n",
    "cats = cats.reset_index()\n",
    "# cats.category_id = cats.category_id.astype(int)\n",
    "print(cats.columns)\n",
    "selected_cat = cats[(cats['count'] > 50) & (cats['count'] != 0)].category_id.to_list()\n",
    "len(selected_cat)"
   ],
   "id": "5a8228409042622",
   "outputs": [
    {
     "name": "stdout",
     "output_type": "stream",
     "text": [
      "Index(['category_id', 'count'], dtype='object')\n"
     ]
    },
    {
     "data": {
      "text/plain": [
       "889"
      ]
     },
     "execution_count": 119,
     "metadata": {},
     "output_type": "execute_result"
    }
   ],
   "execution_count": 119
  },
  {
   "metadata": {
    "ExecuteTime": {
     "end_time": "2024-10-11T21:37:14.963167Z",
     "start_time": "2024-10-11T21:37:14.904522Z"
    }
   },
   "cell_type": "code",
   "source": [
    "# Смотрим распределение частоты категории \n",
    "cats[(cats['count'] > 100) & (cats['count'] != 0)]['category_id'].hist(bins=10)"
   ],
   "id": "c318afdd334a5416",
   "outputs": [
    {
     "data": {
      "text/plain": [
       "<Axes: >"
      ]
     },
     "execution_count": 120,
     "metadata": {},
     "output_type": "execute_result"
    },
    {
     "data": {
      "text/plain": [
       "<Figure size 640x480 with 1 Axes>"
      ],
      "image/png": "[encoded data removed]"
     },
     "metadata": {},
     "output_type": "display_data"
    }
   ],
   "execution_count": 120
  },
  {
   "metadata": {},
   "cell_type": "markdown",
   "source": "#### Расчитываем recall для локальных тестов",
   "id": "3bdeed0fc9e5677a"
  },
  {
   "metadata": {},
   "cell_type": "markdown",
   "source": "#### Тестовые данные - три дня и ключевое событие - 9 (заказ)",
   "id": "ff1086bd6fdb731a"
  },
  {
   "metadata": {
    "ExecuteTime": {
     "end_time": "2024-10-11T21:37:18.078622Z",
     "start_time": "2024-10-11T21:37:16.839057Z"
    }
   },
   "cell_type": "code",
   "source": [
    "last_3_days = inters['datetime'].max() - pd.Timedelta(3, unit='D')\n",
    "test_purchasers = inters.sort_values(by=['datetime', 'weight'], ascending=True)\n",
    "test_purchasers = test_purchasers[(test_purchasers['weight'] == 9) & (test_purchasers['datetime'] > last_3_days)]\n",
    "test_purchasers = test_purchasers.groupby(['user_id'])['item_id'].apply(processing)\n",
    "test_purchasers = test_purchasers.reset_index()\n",
    "test_purchasers.shape"
   ],
   "id": "3be5212427a6c914",
   "outputs": [
    {
     "data": {
      "text/plain": [
       "(496, 2)"
      ]
     },
     "execution_count": 121,
     "metadata": {},
     "output_type": "execute_result"
    }
   ],
   "execution_count": 121
  },
  {
   "metadata": {},
   "cell_type": "markdown",
   "source": "#### Предсказания фильтрацией",
   "id": "62c487e4b075845b"
  },
  {
   "metadata": {
    "ExecuteTime": {
     "end_time": "2024-10-11T21:38:26.788597Z",
     "start_time": "2024-10-11T21:38:25.646024Z"
    }
   },
   "cell_type": "code",
   "source": [
    "last_3_days = inters['datetime'].max() - pd.Timedelta(3, unit='D')\n",
    "last_8_days = inters['datetime'].max() - pd.Timedelta(8*24, unit='hours')\n",
    "pred_purchasers = inters.sort_values(by=['datetime', 'weight'], ascending=True)\n",
    "pred_purchasers = pred_purchasers[\n",
    "    (pred_purchasers['weight'] > 7)\n",
    "    & (pred_purchasers['datetime'] > last_8_days)\n",
    "    & (pred_purchasers['datetime'] < last_3_days)\n",
    "    & ((pred_purchasers.action_7_count > 20) | (pred_purchasers.action_8_count > 50) | (pred_purchasers.action_9_count > 0))\n",
    "]\n",
    "pred_purchasers = pred_purchasers.groupby(['user_id'])['item_id'].apply(processing)\n",
    "pred_purchasers = pred_purchasers.reset_index()\n",
    "pred_purchasers.shape"
   ],
   "id": "d679098ef6b23f8a",
   "outputs": [
    {
     "data": {
      "text/plain": [
       "(1561, 2)"
      ]
     },
     "execution_count": 137,
     "metadata": {},
     "output_type": "execute_result"
    }
   ],
   "execution_count": 137
  },
  {
   "metadata": {},
   "cell_type": "markdown",
   "source": "#### Проверяем сколько пользователей из теста удалось \"зацепить\" фильтрацией",
   "id": "33e59bd06e570d54"
  },
  {
   "metadata": {
    "ExecuteTime": {
     "end_time": "2024-10-11T21:38:26.899392Z",
     "start_time": "2024-10-11T21:38:26.894975Z"
    }
   },
   "cell_type": "code",
   "source": "pred_purchasers[pred_purchasers.user_id.isin(test_purchasers.user_id.unique())].shape",
   "id": "29e94d0446632ec2",
   "outputs": [
    {
     "data": {
      "text/plain": [
       "(163, 2)"
      ]
     },
     "execution_count": 138,
     "metadata": {},
     "output_type": "execute_result"
    }
   ],
   "execution_count": 138
  },
  {
   "metadata": {
    "ExecuteTime": {
     "end_time": "2024-10-11T21:38:30.916514Z",
     "start_time": "2024-10-11T21:38:30.910021Z"
    }
   },
   "cell_type": "code",
   "source": [
    "check_merge = test_purchasers.merge(pred_purchasers[-3000:], on='user_id', how='left')\n",
    "check_merge.item_id_y.loc[check_merge.item_id_y.isnull()] = check_merge.item_id_y.loc[check_merge.item_id_y.isnull()].apply(lambda x: [])\n",
    "check_merge.shape"
   ],
   "id": "a33904fee2d14bfb",
   "outputs": [
    {
     "data": {
      "text/plain": [
       "(496, 3)"
      ]
     },
     "execution_count": 139,
     "metadata": {},
     "output_type": "execute_result"
    }
   ],
   "execution_count": 139
  },
  {
   "metadata": {
    "ExecuteTime": {
     "end_time": "2024-10-11T21:38:32.586081Z",
     "start_time": "2024-10-11T21:38:32.582311Z"
    }
   },
   "cell_type": "code",
   "source": "check_merge.sample(1)",
   "id": "b7da4fd1f665a549",
   "outputs": [
    {
     "data": {
      "text/plain": [
       "                                  user_id           item_id_x  item_id_y\n",
       "264  7e23458c-68e2-11ef-9b7b-002590c82436  [1049443, 6272473]  [1049443]"
      ],
      "text/html": [
       "<div>\n",
       "<style scoped>\n",
       "    .dataframe tbody tr th:only-of-type {\n",
       "        vertical-align: middle;\n",
       "    }\n",
       "\n",
       "    .dataframe tbody tr th {\n",
       "        vertical-align: top;\n",
       "    }\n",
       "\n",
       "    .dataframe thead th {\n",
       "        text-align: right;\n",
       "    }\n",
       "</style>\n",
       "<table border=\"1\" class=\"dataframe\">\n",
       "  <thead>\n",
       "    <tr style=\"text-align: right;\">\n",
       "      <th></th>\n",
       "      <th>user_id</th>\n",
       "      <th>item_id_x</th>\n",
       "      <th>item_id_y</th>\n",
       "    </tr>\n",
       "  </thead>\n",
       "  <tbody>\n",
       "    <tr>\n",
       "      <th>264</th>\n",
       "      <td>7e23458c-68e2-11ef-9b7b-002590c82436</td>\n",
       "      <td>[1049443, 6272473]</td>\n",
       "      <td>[1049443]</td>\n",
       "    </tr>\n",
       "  </tbody>\n",
       "</table>\n",
       "</div>"
      ]
     },
     "execution_count": 140,
     "metadata": {},
     "output_type": "execute_result"
    }
   ],
   "execution_count": 140
  },
  {
   "metadata": {
    "ExecuteTime": {
     "end_time": "2024-10-11T21:38:35.458553Z",
     "start_time": "2024-10-11T21:38:35.456514Z"
    }
   },
   "cell_type": "code",
   "source": "#### Проверяем полноту фильтрации",
   "id": "de086f09a15b86de",
   "outputs": [],
   "execution_count": 141
  },
  {
   "metadata": {
    "ExecuteTime": {
     "end_time": "2024-10-11T21:38:35.483778Z",
     "start_time": "2024-10-11T21:38:35.476591Z"
    }
   },
   "cell_type": "code",
   "source": [
    "check_merge['recall'] = check_merge.apply(calculate_recall, axis=1)\n",
    "check_merge['recall'].mean()"
   ],
   "id": "e8b2727593788803",
   "outputs": [
    {
     "data": {
      "text/plain": [
       "0.05989834538221635"
      ]
     },
     "execution_count": 142,
     "metadata": {},
     "output_type": "execute_result"
    }
   ],
   "execution_count": 142
  },
  {
   "metadata": {
    "ExecuteTime": {
     "end_time": "2024-10-11T21:38:37.405754Z",
     "start_time": "2024-10-11T21:38:37.402901Z"
    }
   },
   "cell_type": "code",
   "source": "",
   "id": "e708eef45177dc97",
   "outputs": [],
   "execution_count": null
  },
  {
   "metadata": {
    "ExecuteTime": {
     "end_time": "2024-10-11T21:38:41.639525Z",
     "start_time": "2024-10-11T21:38:41.632056Z"
    }
   },
   "cell_type": "code",
   "source": [
    "print(pred_purchasers.shape)\n",
    "p = pred_purchasers.iloc[pred_purchasers.shape[0] - 3000:, :].reset_index(drop=True).rename(columns={'item_id': 'products'})\n",
    "print(p.shape)\n",
    "p.to_csv(\"predictions.csv\", index=False)"
   ],
   "id": "17e54eb9798f2340",
   "outputs": [
    {
     "name": "stdout",
     "output_type": "stream",
     "text": [
      "(1561, 2)\n",
      "(1439, 2)\n"
     ]
    }
   ],
   "execution_count": 143
  },
  {
   "metadata": {
    "ExecuteTime": {
     "end_time": "2024-10-11T21:38:41.661188Z",
     "start_time": "2024-10-11T21:38:41.659247Z"
    }
   },
   "cell_type": "code",
   "source": "",
   "id": "8d71105583e8b08a",
   "outputs": [],
   "execution_count": null
  },
  {
   "metadata": {},
   "cell_type": "markdown",
   "source": "#### Используем классификатор чтобы предсказать пользователей с целевыми дейсвтиями",
   "id": "18cdcc9d7364760"
  },
  {
   "metadata": {
    "ExecuteTime": {
     "end_time": "2024-10-11T21:38:43.225875Z",
     "start_time": "2024-10-11T21:38:43.207088Z"
    }
   },
   "cell_type": "code",
   "source": "inters['datetime'].min(), inters['datetime'].max()",
   "id": "9ad035ca9ea4811a",
   "outputs": [
    {
     "data": {
      "text/plain": [
       "(Timestamp('2024-09-07 00:00:04'), Timestamp('2024-09-28 23:59:59'))"
      ]
     },
     "execution_count": 144,
     "metadata": {},
     "output_type": "execute_result"
    }
   ],
   "execution_count": 144
  },
  {
   "metadata": {
    "ExecuteTime": {
     "end_time": "2024-10-11T21:39:21.579529Z",
     "start_time": "2024-10-11T21:39:21.388900Z"
    }
   },
   "cell_type": "code",
   "source": [
    "last_3_days = inters['datetime'].max() - pd.Timedelta(3, unit='D')\n",
    "last_8_days = inters['datetime'].max() - pd.Timedelta(10, unit='D')\n",
    "pred_data = inters[(inters['datetime'] > last_8_days) & (inters['datetime'] < last_3_days)]"
   ],
   "id": "2a096716de8d5078",
   "outputs": [],
   "execution_count": 146
  },
  {
   "metadata": {
    "ExecuteTime": {
     "end_time": "2024-10-11T21:39:33.975819Z",
     "start_time": "2024-10-11T21:39:23.651932Z"
    }
   },
   "cell_type": "code",
   "source": "t = h2o.H2OFrame(pred_data[list(x)])",
   "id": "80716113f5edb9d6",
   "outputs": [],
   "execution_count": 147
  },
  {
   "metadata": {
    "ExecuteTime": {
     "end_time": "2024-10-11T21:40:09.242440Z",
     "start_time": "2024-10-11T21:39:36.641825Z"
    }
   },
   "cell_type": "code",
   "source": "preds = gbm_model.predict(t)",
   "id": "509ee3ee83313321",
   "outputs": [],
   "execution_count": 148
  },
  {
   "metadata": {},
   "cell_type": "markdown",
   "source": "#### Обьедтняем предсказания с исходными данными чтобы фильровать дальше",
   "id": "dc571a3718d20cae"
  },
  {
   "metadata": {
    "ExecuteTime": {
     "end_time": "2024-10-11T21:40:43.912203Z",
     "start_time": "2024-10-11T21:40:38.658233Z"
    }
   },
   "cell_type": "code",
   "source": [
    "res = pd.concat(\n",
    "    [\n",
    "        pred_data[list(x) + ['weight', 'user_id', 'item_id']].reset_index(drop=True),\n",
    "        preds.as_data_frame().reset_index(drop=True)\n",
    "    ],\n",
    "    axis='columns',\n",
    ")"
   ],
   "id": "4c607291f16cf37f",
   "outputs": [],
   "execution_count": 149
  },
  {
   "metadata": {
    "ExecuteTime": {
     "end_time": "2024-10-11T21:40:48.191415Z",
     "start_time": "2024-10-11T21:40:48.030656Z"
    }
   },
   "cell_type": "code",
   "source": [
    "# Максимальный скор с которым предсказали целевое действие\n",
    "res['score'] = res[res.columns[-10:]].max(axis=1)\n",
    "        "
   ],
   "id": "7c40113dbfd5ee58",
   "outputs": [],
   "execution_count": 150
  },
  {
   "metadata": {
    "ExecuteTime": {
     "end_time": "2024-10-11T21:40:50.260566Z",
     "start_time": "2024-10-11T21:40:50.257875Z"
    }
   },
   "cell_type": "code",
   "source": [
    "# Смотрим корреляцию по данным чтобы понять по чему фильтровать\n",
    "# res[list(set(res.columns) - set(['user_id']))].sample(1000).corr()"
   ],
   "id": "9afc6abd0a9bd5a3",
   "outputs": [],
   "execution_count": 151
  },
  {
   "metadata": {
    "ExecuteTime": {
     "end_time": "2024-10-11T21:41:24.908439Z",
     "start_time": "2024-10-11T21:41:24.794580Z"
    }
   },
   "cell_type": "code",
   "source": [
    "# Оцениваем размер таблицы после фильрации\n",
    "res[\n",
    "    (res.predict > 5) & (res.category_id.isin(selected_cat)) \n",
    "].groupby('user_id')['item_id'].agg(lambda x: list(map(str, x))[:25]).reset_index().shape"
   ],
   "id": "d54d045a464a8a4c",
   "outputs": [
    {
     "data": {
      "text/plain": [
       "(8192, 2)"
      ]
     },
     "execution_count": 153,
     "metadata": {},
     "output_type": "execute_result"
    }
   ],
   "execution_count": 153
  },
  {
   "metadata": {
    "ExecuteTime": {
     "end_time": "2024-10-11T21:41:27.283938Z",
     "start_time": "2024-10-11T21:41:27.207403Z"
    }
   },
   "cell_type": "code",
   "source": [
    "# Оцениваем количество пользователей, которое удалось \"зацепить\" фильтрацией из теста\n",
    "res[\n",
    "    (res.predict > 6)\n",
    "    & (res.predict <= 7)\n",
    "    & (res.category_id.isin(selected_cat))\n",
    "    & (res.user_id.isin(test_purchasers.user_id.unique()))\n",
    "    # & ((res.action_7_count > 1) | (res.action_8_count > 1) | (res.action_9_count > 1))\n",
    "].groupby('user_id')['item_id'].agg(lambda x: list(set(map(str, x)))[:25]).reset_index().shape"
   ],
   "id": "936c3aae07a92e79",
   "outputs": [
    {
     "data": {
      "text/plain": [
       "(220, 2)"
      ]
     },
     "execution_count": 154,
     "metadata": {},
     "output_type": "execute_result"
    }
   ],
   "execution_count": 154
  },
  {
   "metadata": {
    "ExecuteTime": {
     "end_time": "2024-10-11T21:41:27.491666Z",
     "start_time": "2024-10-11T21:41:27.389591Z"
    }
   },
   "cell_type": "code",
   "source": [
    "# Генерим таблицу с кандидатами по результатам мл - предсказания\n",
    "ml_pred = res[\n",
    "    (res.predict > 6)\n",
    "    & (res.predict <= 7)\n",
    "    & (res.category_id.isin(selected_cat))\n",
    "    # & ((res.action_7_count > 1) | (res.action_8_count > 1) | (res.action_9_count > 1))\n",
    "].groupby('user_id')['item_id'].agg(lambda x: list(set(map(str, x)))[:25]).reset_index()\n",
    "ml_pred.shape"
   ],
   "id": "4fecc641289068c",
   "outputs": [
    {
     "data": {
      "text/plain": [
       "(6374, 2)"
      ]
     },
     "execution_count": 155,
     "metadata": {},
     "output_type": "execute_result"
    }
   ],
   "execution_count": 155
  },
  {
   "metadata": {
    "ExecuteTime": {
     "end_time": "2024-10-11T21:41:31.169510Z",
     "start_time": "2024-10-11T21:41:31.167644Z"
    }
   },
   "cell_type": "code",
   "source": "",
   "id": "474cac2eed0ded39",
   "outputs": [],
   "execution_count": null
  },
  {
   "metadata": {
    "ExecuteTime": {
     "end_time": "2024-10-11T21:41:33.721113Z",
     "start_time": "2024-10-11T21:41:33.716003Z"
    }
   },
   "cell_type": "code",
   "source": [
    "# Напоминание о размере таблицы с кандидатами после обычной фильтрации - оставшееся от 3000 строк место мы заполнили результатами мл\n",
    "pred_purchasers.shape"
   ],
   "id": "e0591e5a8ff67720",
   "outputs": [
    {
     "data": {
      "text/plain": [
       "(1561, 2)"
      ]
     },
     "execution_count": 156,
     "metadata": {},
     "output_type": "execute_result"
    }
   ],
   "execution_count": 156
  },
  {
   "metadata": {
    "ExecuteTime": {
     "end_time": "2024-10-11T21:41:33.889362Z",
     "start_time": "2024-10-11T21:41:33.874555Z"
    }
   },
   "cell_type": "code",
   "source": [
    "\n",
    "data_to_check = pd.concat(\n",
    "    [\n",
    "        ml_pred.reset_index(drop=True),\n",
    "        pred_purchasers.reset_index(drop=True),\n",
    "    ],\n",
    "    axis='rows'\n",
    ")\n",
    "print(data_to_check.shape)\n",
    "data_to_check = data_to_check.drop_duplicates(subset='user_id', keep='last') # .reset_index(drop=True)\n",
    "print(data_to_check[data_to_check.user_id.isin(test_purchasers.user_id.unique())].shape)\n",
    "data_to_check.shape"
   ],
   "id": "bf424e0840c3fdca",
   "outputs": [
    {
     "name": "stdout",
     "output_type": "stream",
     "text": [
      "(7935, 2)\n",
      "(252, 2)\n"
     ]
    },
    {
     "data": {
      "text/plain": [
       "(6709, 2)"
      ]
     },
     "execution_count": 157,
     "metadata": {},
     "output_type": "execute_result"
    }
   ],
   "execution_count": 157
  },
  {
   "metadata": {
    "ExecuteTime": {
     "end_time": "2024-10-11T21:41:36.044683Z",
     "start_time": "2024-10-11T21:41:36.041444Z"
    }
   },
   "cell_type": "code",
   "source": [
    "# Ограничим резульат 3000 строк (как по условию). Так как данные обычной фильтрации эффективнее и они в конце обьединенных данных - ограничим с конца\n",
    "data_to_check[-3000:].shape"
   ],
   "id": "7e97f625035edf8a",
   "outputs": [
    {
     "data": {
      "text/plain": [
       "(3000, 2)"
      ]
     },
     "execution_count": 158,
     "metadata": {},
     "output_type": "execute_result"
    }
   ],
   "execution_count": 158
  },
  {
   "metadata": {},
   "cell_type": "markdown",
   "source": "#### Проверяем результат локально на данных фильтрация + мл",
   "id": "cf4f7af1874236d7"
  },
  {
   "metadata": {
    "ExecuteTime": {
     "end_time": "2024-10-11T21:41:40.227482Z",
     "start_time": "2024-10-11T21:41:40.218436Z"
    }
   },
   "cell_type": "code",
   "source": [
    "# check_merge_ml = test_purchasers.merge(data_to_check.sample(3000, random_state=42), on='user_id', how='left')\n",
    "check_merge_ml = test_purchasers.merge(data_to_check[-3000:], on='user_id', how='left')\n",
    "check_merge_ml.item_id_y.loc[check_merge_ml.item_id_y.isnull()] = check_merge_ml.item_id_y.loc[check_merge_ml.item_id_y.isnull()].apply(lambda x: [])\n",
    "print(check_merge_ml.shape)\n",
    "check_merge_ml['recall'] = check_merge_ml.apply(calculate_recall, axis=1)\n",
    "check_merge_ml['recall'].mean()"
   ],
   "id": "38a2437811180840",
   "outputs": [
    {
     "name": "stdout",
     "output_type": "stream",
     "text": [
      "(496, 3)\n"
     ]
    },
    {
     "data": {
      "text/plain": [
       "0.06679306356725713"
      ]
     },
     "execution_count": 159,
     "metadata": {},
     "output_type": "execute_result"
    }
   ],
   "execution_count": 159
  },
  {
   "metadata": {
    "ExecuteTime": {
     "end_time": "2024-10-11T21:41:47.683274Z",
     "start_time": "2024-10-11T21:41:47.679440Z"
    }
   },
   "cell_type": "code",
   "source": "",
   "id": "f486ae5f13d9ea08",
   "outputs": [],
   "execution_count": null
  },
  {
   "metadata": {
    "ExecuteTime": {
     "end_time": "2024-10-11T21:41:49.649998Z",
     "start_time": "2024-10-11T21:41:49.641749Z"
    }
   },
   "cell_type": "code",
   "source": [
    "print(data_to_check.shape)\n",
    "p = data_to_check.iloc[:3000, :].reset_index(drop=True).rename(columns={'item_id': 'products'})\n",
    "print(p.shape)\n",
    "p.to_csv(\"predictions.csv\", index=False)"
   ],
   "id": "f80eccf52c612cb3",
   "outputs": [
    {
     "name": "stdout",
     "output_type": "stream",
     "text": [
      "(6709, 2)\n",
      "(3000, 2)\n"
     ]
    }
   ],
   "execution_count": 160
  },
  {
   "metadata": {
    "ExecuteTime": {
     "end_time": "2024-10-11T21:41:49.732923Z",
     "start_time": "2024-10-11T21:41:49.730690Z"
    }
   },
   "cell_type": "code",
   "source": "",
   "id": "e91702e418d7c66e",
   "outputs": [],
   "execution_count": null
  },
  {
   "metadata": {
    "ExecuteTime": {
     "end_time": "2024-10-11T21:41:53.615472Z",
     "start_time": "2024-10-11T21:41:53.614111Z"
    }
   },
   "cell_type": "code",
   "source": "",
   "id": "5fc85e854d30f27c",
   "outputs": [],
   "execution_count": null
  },
  {
   "metadata": {},
   "cell_type": "markdown",
   "source": [
    "### Построение рекомендаций \n",
    "дополним данные после фильрации товарами на основе \"оценок\" пользователей (ценность действия интерпретируем как оценку)"
   ],
   "id": "b7ed9351358d87e3"
  },
  {
   "metadata": {},
   "cell_type": "markdown",
   "source": "#### Построение модели",
   "id": "756b9be360307a10"
  },
  {
   "metadata": {
    "ExecuteTime": {
     "end_time": "2024-10-11T21:41:57.348420Z",
     "start_time": "2024-10-11T21:41:57.345531Z"
    }
   },
   "cell_type": "code",
   "source": [
    "K_RECOS = 25\n",
    "NUM_THREADS = 24\n",
    "RANDOM_STATE = 32\n",
    "ITERATIONS = 10"
   ],
   "id": "2a979d8d60da505d",
   "outputs": [],
   "execution_count": 161
  },
  {
   "metadata": {
    "ExecuteTime": {
     "end_time": "2024-10-11T21:41:57.393528Z",
     "start_time": "2024-10-11T21:41:57.388713Z"
    }
   },
   "cell_type": "code",
   "source": [
    "def make_base_model(factors: int, regularization: float, alpha: float, fit_features_together: bool=False):\n",
    "    return ImplicitALSWrapperModel(\n",
    "        AlternatingLeastSquares(\n",
    "            factors=factors,\n",
    "            regularization=regularization,\n",
    "            alpha=alpha,\n",
    "            random_state=RANDOM_STATE,\n",
    "            use_gpu=False,\n",
    "            num_threads = NUM_THREADS,\n",
    "            iterations=ITERATIONS),\n",
    "        fit_features_together = fit_features_together,\n",
    "        )"
   ],
   "id": "c76217e904af56de",
   "outputs": [],
   "execution_count": 162
  },
  {
   "metadata": {
    "ExecuteTime": {
     "end_time": "2024-10-11T21:41:59.889714Z",
     "start_time": "2024-10-11T21:41:59.888313Z"
    }
   },
   "cell_type": "code",
   "source": "",
   "id": "b431ae38edd475c5",
   "outputs": [],
   "execution_count": null
  },
  {
   "metadata": {
    "ExecuteTime": {
     "end_time": "2024-10-12T06:28:32.682955Z",
     "start_time": "2024-10-12T06:28:32.503007Z"
    }
   },
   "cell_type": "code",
   "source": [
    "last_3_days = inters['datetime'].max() - pd.Timedelta(3, unit='D')\n",
    "last_8_days = inters['datetime'].max() - pd.Timedelta(22, unit='D')\n",
    "recos_data = inters[\n",
    "    (inters['datetime'] > last_8_days)\n",
    "    & (inters['datetime'] < last_3_days) \n",
    "    & ((inters['weight'] > 4) | (inters['weight'] == 1))   # дейсвтия ниже 5 не привязаны к товару, чтобы не рекомендовать -1 и сэкономить на размере входных данных - фильтруем\n",
    "]"
   ],
   "id": "24ff12b544a9ff36",
   "outputs": [],
   "execution_count": 182
  },
  {
   "metadata": {
    "ExecuteTime": {
     "end_time": "2024-10-12T06:28:38.847692Z",
     "start_time": "2024-10-12T06:28:38.826923Z"
    }
   },
   "cell_type": "code",
   "source": "recos_data.weight.unique()",
   "id": "feaaf4f26e413175",
   "outputs": [
    {
     "data": {
      "text/plain": [
       "array([1, 5, 6, 7, 8, 9])"
      ]
     },
     "execution_count": 183,
     "metadata": {},
     "output_type": "execute_result"
    }
   ],
   "execution_count": 183
  },
  {
   "metadata": {
    "ExecuteTime": {
     "end_time": "2024-10-12T06:29:05.932196Z",
     "start_time": "2024-10-12T06:28:38.879919Z"
    }
   },
   "cell_type": "code",
   "source": [
    "recs_dataset = Dataset.construct(\n",
    "    interactions_df=recos_data[['user_id', 'item_id', 'weight', 'datetime']],\n",
    ")\n",
    "\n",
    "model = make_base_model(factors=256, regularization=0.2, alpha=100)\n",
    "model.fit(recs_dataset)"
   ],
   "id": "6d652d721b1a922c",
   "outputs": [
    {
     "data": {
      "text/plain": [
       "<rectools.models.implicit_als.ImplicitALSWrapperModel at 0x7c9cd3f65d90>"
      ]
     },
     "execution_count": 184,
     "metadata": {},
     "output_type": "execute_result"
    }
   ],
   "execution_count": 184
  },
  {
   "metadata": {
    "ExecuteTime": {
     "end_time": "2024-10-12T06:32:22.123427Z",
     "start_time": "2024-10-12T06:32:21.381049Z"
    }
   },
   "cell_type": "code",
   "source": [
    "recos = model.recommend(\n",
    "    users=data_to_check[-3000:].user_id,\n",
    "    dataset=recs_dataset,\n",
    "    k=10,\n",
    "    filter_viewed=False,\n",
    ")"
   ],
   "id": "e4dab274d782581a",
   "outputs": [],
   "execution_count": 258
  },
  {
   "metadata": {
    "ExecuteTime": {
     "end_time": "2024-10-12T06:32:22.154Z",
     "start_time": "2024-10-12T06:32:22.148646Z"
    }
   },
   "cell_type": "code",
   "source": "recos[recos.item_id == -1]",
   "id": "15653f013cc89695",
   "outputs": [
    {
     "data": {
      "text/plain": [
       "Empty DataFrame\n",
       "Columns: [user_id, item_id, score, rank]\n",
       "Index: []"
      ],
      "text/html": [
       "<div>\n",
       "<style scoped>\n",
       "    .dataframe tbody tr th:only-of-type {\n",
       "        vertical-align: middle;\n",
       "    }\n",
       "\n",
       "    .dataframe tbody tr th {\n",
       "        vertical-align: top;\n",
       "    }\n",
       "\n",
       "    .dataframe thead th {\n",
       "        text-align: right;\n",
       "    }\n",
       "</style>\n",
       "<table border=\"1\" class=\"dataframe\">\n",
       "  <thead>\n",
       "    <tr style=\"text-align: right;\">\n",
       "      <th></th>\n",
       "      <th>user_id</th>\n",
       "      <th>item_id</th>\n",
       "      <th>score</th>\n",
       "      <th>rank</th>\n",
       "    </tr>\n",
       "  </thead>\n",
       "  <tbody>\n",
       "  </tbody>\n",
       "</table>\n",
       "</div>"
      ]
     },
     "execution_count": 259,
     "metadata": {},
     "output_type": "execute_result"
    }
   ],
   "execution_count": 259
  },
  {
   "metadata": {
    "ExecuteTime": {
     "end_time": "2024-10-12T06:32:24.139979Z",
     "start_time": "2024-10-12T06:32:24.138129Z"
    }
   },
   "cell_type": "code",
   "source": "",
   "id": "237914981f8f6682",
   "outputs": [],
   "execution_count": null
  },
  {
   "metadata": {},
   "cell_type": "markdown",
   "source": "#### Дополняем данные с предыдущих предсказаний (фильтрация + ml) ",
   "id": "dbf96e9618c2aa55"
  },
  {
   "metadata": {
    "ExecuteTime": {
     "end_time": "2024-10-12T06:32:24.181851Z",
     "start_time": "2024-10-12T06:32:24.150038Z"
    }
   },
   "cell_type": "code",
   "source": "recos_agg = recos.groupby('user_id')['item_id'].agg(lambda x: list(map(str, x))).reset_index()",
   "id": "ace9ca55b8ca263",
   "outputs": [],
   "execution_count": 260
  },
  {
   "metadata": {
    "ExecuteTime": {
     "end_time": "2024-10-12T06:32:26.336683Z",
     "start_time": "2024-10-12T06:32:26.331671Z"
    }
   },
   "cell_type": "code",
   "source": "recos_agg.head()",
   "id": "54b619de2d0e36a3",
   "outputs": [
    {
     "data": {
      "text/plain": [
       "                                user_id  \\\n",
       "0  0038911e-79a3-11ef-9b7b-002590c82436   \n",
       "1  0080a4d2-61cc-11ec-86e0-002590c0647c   \n",
       "2  00a8fe40-024d-11ef-9b7b-002590c82436   \n",
       "3  00d6623e-7086-11ef-86e0-002590c0647c   \n",
       "4  00efb9f8-0d3c-11ef-9b7b-002590c82436   \n",
       "\n",
       "                                             item_id  \n",
       "0  [1758351, 1628891, 1624568, 928663, 2691970, 8...  \n",
       "1  [6645690, 1027066, 6598520, 5868226, 5894047, ...  \n",
       "2  [2746507, 6340336, 6277015, 649502, 5182831, 5...  \n",
       "3  [3709801, 6645690, 5278573, 1651307, 3907086, ...  \n",
       "4  [5479060, 5478679, 4005144, 5478691, 6531127, ...  "
      ],
      "text/html": [
       "<div>\n",
       "<style scoped>\n",
       "    .dataframe tbody tr th:only-of-type {\n",
       "        vertical-align: middle;\n",
       "    }\n",
       "\n",
       "    .dataframe tbody tr th {\n",
       "        vertical-align: top;\n",
       "    }\n",
       "\n",
       "    .dataframe thead th {\n",
       "        text-align: right;\n",
       "    }\n",
       "</style>\n",
       "<table border=\"1\" class=\"dataframe\">\n",
       "  <thead>\n",
       "    <tr style=\"text-align: right;\">\n",
       "      <th></th>\n",
       "      <th>user_id</th>\n",
       "      <th>item_id</th>\n",
       "    </tr>\n",
       "  </thead>\n",
       "  <tbody>\n",
       "    <tr>\n",
       "      <th>0</th>\n",
       "      <td>0038911e-79a3-11ef-9b7b-002590c82436</td>\n",
       "      <td>[1758351, 1628891, 1624568, 928663, 2691970, 8...</td>\n",
       "    </tr>\n",
       "    <tr>\n",
       "      <th>1</th>\n",
       "      <td>0080a4d2-61cc-11ec-86e0-002590c0647c</td>\n",
       "      <td>[6645690, 1027066, 6598520, 5868226, 5894047, ...</td>\n",
       "    </tr>\n",
       "    <tr>\n",
       "      <th>2</th>\n",
       "      <td>00a8fe40-024d-11ef-9b7b-002590c82436</td>\n",
       "      <td>[2746507, 6340336, 6277015, 649502, 5182831, 5...</td>\n",
       "    </tr>\n",
       "    <tr>\n",
       "      <th>3</th>\n",
       "      <td>00d6623e-7086-11ef-86e0-002590c0647c</td>\n",
       "      <td>[3709801, 6645690, 5278573, 1651307, 3907086, ...</td>\n",
       "    </tr>\n",
       "    <tr>\n",
       "      <th>4</th>\n",
       "      <td>00efb9f8-0d3c-11ef-9b7b-002590c82436</td>\n",
       "      <td>[5479060, 5478679, 4005144, 5478691, 6531127, ...</td>\n",
       "    </tr>\n",
       "  </tbody>\n",
       "</table>\n",
       "</div>"
      ]
     },
     "execution_count": 261,
     "metadata": {},
     "output_type": "execute_result"
    }
   ],
   "execution_count": 261
  },
  {
   "metadata": {
    "ExecuteTime": {
     "end_time": "2024-10-12T06:32:28.487721Z",
     "start_time": "2024-10-12T06:32:28.484646Z"
    }
   },
   "cell_type": "code",
   "source": [
    "recos_agg_selected_uid = recos_agg[\n",
    "    recos_agg.user_id.isin(\n",
    "        data_to_check[-3000:].user_id\n",
    "    )\n",
    "]"
   ],
   "id": "f21bb1e0291b115e",
   "outputs": [],
   "execution_count": 262
  },
  {
   "metadata": {
    "ExecuteTime": {
     "end_time": "2024-10-12T06:32:28.524402Z",
     "start_time": "2024-10-12T06:32:28.522369Z"
    }
   },
   "cell_type": "code",
   "source": "recos_agg_selected_uid.shape",
   "id": "19423cc75ee0229",
   "outputs": [
    {
     "data": {
      "text/plain": [
       "(3000, 2)"
      ]
     },
     "execution_count": 263,
     "metadata": {},
     "output_type": "execute_result"
    }
   ],
   "execution_count": 263
  },
  {
   "metadata": {
    "ExecuteTime": {
     "end_time": "2024-10-12T06:32:28.676600Z",
     "start_time": "2024-10-12T06:32:28.671239Z"
    }
   },
   "cell_type": "code",
   "source": [
    "# Объединяем рекомендации с предсказанями фильтрацией и мл\n",
    "enriched_data_to_check = data_to_check[-3000:].merge(recos_agg_selected_uid, on='user_id', how='left')"
   ],
   "id": "a91bbd7f6b42311a",
   "outputs": [],
   "execution_count": 264
  },
  {
   "metadata": {
    "ExecuteTime": {
     "end_time": "2024-10-12T06:32:31.358264Z",
     "start_time": "2024-10-12T06:32:31.354428Z"
    }
   },
   "cell_type": "code",
   "source": "enriched_data_to_check.columns",
   "id": "12e644962bd8eea2",
   "outputs": [
    {
     "data": {
      "text/plain": [
       "Index(['user_id', 'item_id_x', 'item_id_y'], dtype='object')"
      ]
     },
     "execution_count": 265,
     "metadata": {},
     "output_type": "execute_result"
    }
   ],
   "execution_count": 265
  },
  {
   "metadata": {
    "ExecuteTime": {
     "end_time": "2024-10-12T06:32:33.338068Z",
     "start_time": "2024-10-12T06:32:33.334629Z"
    }
   },
   "cell_type": "code",
   "source": [
    "# Заполняем nan пустыми списками для корректного расчета метрики\n",
    "enriched_data_to_check.item_id_y.loc[enriched_data_to_check.item_id_y.isnull()] = enriched_data_to_check.item_id_y.loc[enriched_data_to_check.item_id_y.isnull()].apply(lambda x: [])"
   ],
   "id": "81053f9e282beee7",
   "outputs": [],
   "execution_count": 266
  },
  {
   "metadata": {
    "ExecuteTime": {
     "end_time": "2024-10-12T06:32:35.288848Z",
     "start_time": "2024-10-12T06:32:35.285316Z"
    }
   },
   "cell_type": "code",
   "source": [
    "# Обьединяем исходное предсказание рекомендациями по rectools  - сначала исходные айди, потом рекоммендации (порядок важен, тк далее оставляем только 25 элементов списка)\n",
    "enriched_data_to_check['item_id'] = enriched_data_to_check['item_id_x'] + enriched_data_to_check['item_id_y']"
   ],
   "id": "d535010dd8203776",
   "outputs": [],
   "execution_count": 267
  },
  {
   "metadata": {
    "ExecuteTime": {
     "end_time": "2024-10-12T06:32:37.268958Z",
     "start_time": "2024-10-12T06:32:37.263096Z"
    }
   },
   "cell_type": "code",
   "source": "enriched_data_to_check.sample(5)",
   "id": "2f121971bc9b4cee",
   "outputs": [
    {
     "data": {
      "text/plain": [
       "                                   user_id  \\\n",
       "1959  571af31e-c00d-11e9-8a53-0cc47a6d2fef   \n",
       "262   c5dac5a0-6356-11ed-86e0-002590c0647c   \n",
       "324   c8d919de-3058-11ef-86e0-002590c0647c   \n",
       "79    bc6268da-f324-11ed-a1c4-002590c82437   \n",
       "1388  fdc367c4-c3c4-11ec-86e0-002590c0647c   \n",
       "\n",
       "                                              item_id_x  \\\n",
       "1959      [6372319, 6372325, 5073736, 6134644, 5904430]   \n",
       "262                                           [5275210]   \n",
       "324                                   [5217811, 727065]   \n",
       "79    [5029690, 6098284, 5173243, 6300322, 3999396, ...   \n",
       "1388                                          [6290470]   \n",
       "\n",
       "                                              item_id_y  \\\n",
       "1959  [6467089, 5489893, 6467059, 5248741, 6276409, ...   \n",
       "262   [5165119, 5275210, 6598592, 5165164, 4792001, ...   \n",
       "324   [1885585, 5077453, 6593015, 5038270, 650256, 5...   \n",
       "79    [6717618, 6214150, 6450178, 3195583, 6682194, ...   \n",
       "1388  [6290470, 4945594, 411539, 963886, 249627, 489...   \n",
       "\n",
       "                                                item_id  \n",
       "1959  [6467089, 5489893, 6467059, 5248741, 6276409, ...  \n",
       "262   [5165119, 5275210, 6598592, 5165164, 4792001, ...  \n",
       "324   [1885585, 5077453, 6593015, 5038270, 650256, 5...  \n",
       "79    [6717618, 6214150, 6450178, 3195583, 6682194, ...  \n",
       "1388  [6290470, 4945594, 411539, 963886, 249627, 489...  "
      ],
      "text/html": [
       "<div>\n",
       "<style scoped>\n",
       "    .dataframe tbody tr th:only-of-type {\n",
       "        vertical-align: middle;\n",
       "    }\n",
       "\n",
       "    .dataframe tbody tr th {\n",
       "        vertical-align: top;\n",
       "    }\n",
       "\n",
       "    .dataframe thead th {\n",
       "        text-align: right;\n",
       "    }\n",
       "</style>\n",
       "<table border=\"1\" class=\"dataframe\">\n",
       "  <thead>\n",
       "    <tr style=\"text-align: right;\">\n",
       "      <th></th>\n",
       "      <th>user_id</th>\n",
       "      <th>item_id_x</th>\n",
       "      <th>item_id_y</th>\n",
       "      <th>item_id</th>\n",
       "    </tr>\n",
       "  </thead>\n",
       "  <tbody>\n",
       "    <tr>\n",
       "      <th>1959</th>\n",
       "      <td>571af31e-c00d-11e9-8a53-0cc47a6d2fef</td>\n",
       "      <td>[6372319, 6372325, 5073736, 6134644, 5904430]</td>\n",
       "      <td>[6467089, 5489893, 6467059, 5248741, 6276409, ...</td>\n",
       "      <td>[6467089, 5489893, 6467059, 5248741, 6276409, ...</td>\n",
       "    </tr>\n",
       "    <tr>\n",
       "      <th>262</th>\n",
       "      <td>c5dac5a0-6356-11ed-86e0-002590c0647c</td>\n",
       "      <td>[5275210]</td>\n",
       "      <td>[5165119, 5275210, 6598592, 5165164, 4792001, ...</td>\n",
       "      <td>[5165119, 5275210, 6598592, 5165164, 4792001, ...</td>\n",
       "    </tr>\n",
       "    <tr>\n",
       "      <th>324</th>\n",
       "      <td>c8d919de-3058-11ef-86e0-002590c0647c</td>\n",
       "      <td>[5217811, 727065]</td>\n",
       "      <td>[1885585, 5077453, 6593015, 5038270, 650256, 5...</td>\n",
       "      <td>[1885585, 5077453, 6593015, 5038270, 650256, 5...</td>\n",
       "    </tr>\n",
       "    <tr>\n",
       "      <th>79</th>\n",
       "      <td>bc6268da-f324-11ed-a1c4-002590c82437</td>\n",
       "      <td>[5029690, 6098284, 5173243, 6300322, 3999396, ...</td>\n",
       "      <td>[6717618, 6214150, 6450178, 3195583, 6682194, ...</td>\n",
       "      <td>[6717618, 6214150, 6450178, 3195583, 6682194, ...</td>\n",
       "    </tr>\n",
       "    <tr>\n",
       "      <th>1388</th>\n",
       "      <td>fdc367c4-c3c4-11ec-86e0-002590c0647c</td>\n",
       "      <td>[6290470]</td>\n",
       "      <td>[6290470, 4945594, 411539, 963886, 249627, 489...</td>\n",
       "      <td>[6290470, 4945594, 411539, 963886, 249627, 489...</td>\n",
       "    </tr>\n",
       "  </tbody>\n",
       "</table>\n",
       "</div>"
      ]
     },
     "execution_count": 268,
     "metadata": {},
     "output_type": "execute_result"
    }
   ],
   "execution_count": 268
  },
  {
   "metadata": {
    "ExecuteTime": {
     "end_time": "2024-10-12T06:32:39.241794Z",
     "start_time": "2024-10-12T06:32:39.235036Z"
    }
   },
   "cell_type": "code",
   "source": [
    "# Убеждаемся что добавлением новых товаров мы не вышли \n",
    "enriched_data_to_check['item_id'] = enriched_data_to_check['item_id'].apply(lambda x: list(set(x[:25])))"
   ],
   "id": "676c823cbb3a2c82",
   "outputs": [],
   "execution_count": 269
  },
  {
   "metadata": {
    "ExecuteTime": {
     "end_time": "2024-10-12T06:32:39.265620Z",
     "start_time": "2024-10-12T06:32:39.260723Z"
    }
   },
   "cell_type": "code",
   "source": "enriched_data_to_check = enriched_data_to_check[['user_id', 'item_id']]",
   "id": "787e6e120926c0f8",
   "outputs": [],
   "execution_count": 270
  },
  {
   "metadata": {
    "ExecuteTime": {
     "end_time": "2024-10-12T06:32:39.307923Z",
     "start_time": "2024-10-12T06:32:39.303712Z"
    }
   },
   "cell_type": "code",
   "source": "enriched_data_to_check.drop_duplicates(subset=['user_id']).shape",
   "id": "2a699c3f67dc091e",
   "outputs": [
    {
     "data": {
      "text/plain": [
       "(3000, 2)"
      ]
     },
     "execution_count": 271,
     "metadata": {},
     "output_type": "execute_result"
    }
   ],
   "execution_count": 271
  },
  {
   "metadata": {
    "ExecuteTime": {
     "end_time": "2024-10-12T06:32:39.452961Z",
     "start_time": "2024-10-12T06:32:39.442014Z"
    }
   },
   "cell_type": "code",
   "source": [
    "check_merge_ml = test_purchasers.merge(enriched_data_to_check[-3000:], on='user_id', how='left')\n",
    "check_merge_ml.item_id_y.loc[check_merge_ml.item_id_y.isnull()] = check_merge_ml.item_id_y.loc[check_merge_ml.item_id_y.isnull()].apply(lambda x: [])\n",
    "print(check_merge_ml.shape)\n",
    "check_merge_ml['recall'] = check_merge_ml.apply(calculate_recall, axis=1)\n",
    "check_merge_ml['recall'].mean()"
   ],
   "id": "2f78de4bca3db947",
   "outputs": [
    {
     "name": "stdout",
     "output_type": "stream",
     "text": [
      "(496, 3)\n"
     ]
    },
    {
     "data": {
      "text/plain": [
       "0.08161199799304637"
      ]
     },
     "execution_count": 272,
     "metadata": {},
     "output_type": "execute_result"
    }
   ],
   "execution_count": 272
  },
  {
   "metadata": {
    "ExecuteTime": {
     "end_time": "2024-10-12T06:31:10.113945Z",
     "start_time": "2024-10-12T06:31:10.112199Z"
    }
   },
   "cell_type": "code",
   "source": "",
   "id": "d41abcc08b6eb5c9",
   "outputs": [],
   "execution_count": null
  },
  {
   "metadata": {},
   "cell_type": "markdown",
   "source": "### Сохраняем результаты",
   "id": "c2f3bbb02c579c0e"
  },
  {
   "metadata": {
    "ExecuteTime": {
     "end_time": "2024-10-11T18:45:33.045617Z",
     "start_time": "2024-10-11T18:45:33.023156Z"
    }
   },
   "cell_type": "code",
   "outputs": [],
   "execution_count": 1992,
   "source": "enriched_data_to_check.rename(columns={'item_id': 'products'}).reset_index().to_csv(\"r_final.csv\", index=False)",
   "id": "6533fd075d463a8b"
  },
  {
   "metadata": {
    "ExecuteTime": {
     "end_time": "2024-10-11T18:44:27.059908Z",
     "start_time": "2024-10-11T18:44:27.049311Z"
    }
   },
   "cell_type": "code",
   "outputs": [
    {
     "data": {
      "text/plain": [
       "(3000, 3)"
      ]
     },
     "execution_count": 1991,
     "metadata": {},
     "output_type": "execute_result"
    }
   ],
   "execution_count": 1991,
   "source": "pd.read_csv('r_final.csv').shape",
   "id": "c0ecc478bd15bf87"
  },
  {
   "metadata": {
    "ExecuteTime": {
     "end_time": "2024-10-11T18:43:37.274224Z",
     "start_time": "2024-10-11T18:43:37.271920Z"
    }
   },
   "cell_type": "code",
   "outputs": [],
   "source": "",
   "id": "d863abf0bb1e67d8",
   "execution_count": null
  },
  {
   "metadata": {},
   "cell_type": "code",
   "outputs": [],
   "source": "",
   "id": "24420341df21eac3",
   "execution_count": null
  },
  {
   "metadata": {
    "ExecuteTime": {
     "end_time": "2024-10-10T11:43:02.271963Z",
     "start_time": "2024-10-10T11:43:02.237844Z"
    }
   },
   "cell_type": "code",
   "outputs": [],
   "execution_count": 176,
   "source": [
    "# Не забываем выключить кластер h2o на локальной машине\n",
    "h2o.cluster().shutdown()"
   ],
   "id": "86e0213bf4b74754"
  },
  {
   "metadata": {},
   "cell_type": "code",
   "outputs": [],
   "source": "",
   "id": "9fe39f68ddcdd212",
   "execution_count": null
  }
 ],
 "metadata": {
  "kernelspec": {
   "display_name": "Python 3",
   "language": "python",
   "name": "python3"
  },
  "language_info": {
   "codemirror_mode": {
    "name": "ipython",
    "version": 2
   },
   "file_extension": ".py",
   "mimetype": "text/x-python",
   "name": "python",
   "nbconvert_exporter": "python",
   "pygments_lexer": "ipython2",
   "version": "2.7.6"
  }
 },
 "nbformat": 4,
 "nbformat_minor": 5
}
