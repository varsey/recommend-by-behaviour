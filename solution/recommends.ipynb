{
 "cells": [
  {
   "metadata": {
    "collapsed": true,
    "ExecuteTime": {
     "end_time": "2024-10-12T06:51:47.829730Z",
     "start_time": "2024-10-12T06:51:47.827989Z"
    }
   },
   "cell_type": "code",
   "source": [
    "from pathlib import Path\n",
    "\n",
    "import numpy as np\n",
    "import pandas as pd"
   ],
   "id": "initial_id",
   "outputs": [],
   "execution_count": 1
  },
  {
   "metadata": {
    "ExecuteTime": {
     "end_time": "2024-10-12T06:51:48.099075Z",
     "start_time": "2024-10-12T06:51:47.869779Z"
    }
   },
   "cell_type": "code",
   "source": [
    "import h2o\n",
    "from h2o.estimators.gbm import H2OGradientBoostingEstimator"
   ],
   "id": "5802908c400af4a0",
   "outputs": [],
   "execution_count": 2
  },
  {
   "metadata": {
    "ExecuteTime": {
     "end_time": "2024-10-12T06:51:50.483858Z",
     "start_time": "2024-10-12T06:51:48.193626Z"
    }
   },
   "cell_type": "code",
   "source": [
    "import os\n",
    "import threadpoolctl\n",
    "import warnings\n",
    "\n",
    "from rectools.models import ImplicitALSWrapperModel\n",
    "from rectools.dataset import Dataset\n",
    "from implicit.als import AlternatingLeastSquares\n",
    "\n",
    "warnings.filterwarnings('ignore')\n",
    "\n",
    "# For implicit ALS\n",
    "os.environ[\"OPENBLAS_NUM_THREADS\"] = \"1\"\n",
    "threadpoolctl.threadpool_limits(1, \"blas\")"
   ],
   "id": "8a30bde391d9e196",
   "outputs": [
    {
     "data": {
      "text/plain": [
       "<threadpoolctl.threadpool_limits at 0x780acb85a510>"
      ]
     },
     "execution_count": 3,
     "metadata": {},
     "output_type": "execute_result"
    }
   ],
   "execution_count": 3
  },
  {
   "metadata": {
    "ExecuteTime": {
     "end_time": "2024-10-12T06:51:50.605646Z",
     "start_time": "2024-10-12T06:51:50.602101Z"
    }
   },
   "cell_type": "code",
   "source": "from src.utils import processing, calculate_recall",
   "id": "8713cf7a9fc9dc59",
   "outputs": [],
   "execution_count": 4
  },
  {
   "metadata": {
    "ExecuteTime": {
     "end_time": "2024-10-12T06:51:50.734484Z",
     "start_time": "2024-10-12T06:51:50.661982Z"
    }
   },
   "cell_type": "code",
   "source": [
    "catalog = pd.read_parquet(f'{Path.cwd().parent}/data/stokman_catalog_preprocessed.pq', engine='pyarrow')\n",
    "catalog.head()"
   ],
   "id": "ed039728e851bc93",
   "outputs": [
    {
     "data": {
      "text/plain": [
       "             add_date shop_id product_id category_id  price  \\\n",
       "0 2024-09-30 03:07:09     350    1025536        8922   6990   \n",
       "1 2024-09-19 03:07:08     350    1025614       10600    330   \n",
       "2 2024-09-30 03:07:09     350    1025656         231  13240   \n",
       "3 2024-09-30 03:07:09     350    1025659       14546   7550   \n",
       "4 2024-09-30 03:07:09     350    1025668        1949   1290   \n",
       "\n",
       "                                       title  old_price  \n",
       "0               6048 48557 44342 53515 17614       6990  \n",
       "1          42548 40244 23485 10853 6545 2343        330  \n",
       "2  14034 42002 48557 56089 46836 55620 50785      26490  \n",
       "3        32640 50164 48557 25314 23255 42146      12590  \n",
       "4                    51789 48557 56089 20149       1290  "
      ],
      "text/html": [
       "<div>\n",
       "<style scoped>\n",
       "    .dataframe tbody tr th:only-of-type {\n",
       "        vertical-align: middle;\n",
       "    }\n",
       "\n",
       "    .dataframe tbody tr th {\n",
       "        vertical-align: top;\n",
       "    }\n",
       "\n",
       "    .dataframe thead th {\n",
       "        text-align: right;\n",
       "    }\n",
       "</style>\n",
       "<table border=\"1\" class=\"dataframe\">\n",
       "  <thead>\n",
       "    <tr style=\"text-align: right;\">\n",
       "      <th></th>\n",
       "      <th>add_date</th>\n",
       "      <th>shop_id</th>\n",
       "      <th>product_id</th>\n",
       "      <th>category_id</th>\n",
       "      <th>price</th>\n",
       "      <th>title</th>\n",
       "      <th>old_price</th>\n",
       "    </tr>\n",
       "  </thead>\n",
       "  <tbody>\n",
       "    <tr>\n",
       "      <th>0</th>\n",
       "      <td>2024-09-30 03:07:09</td>\n",
       "      <td>350</td>\n",
       "      <td>1025536</td>\n",
       "      <td>8922</td>\n",
       "      <td>6990</td>\n",
       "      <td>6048 48557 44342 53515 17614</td>\n",
       "      <td>6990</td>\n",
       "    </tr>\n",
       "    <tr>\n",
       "      <th>1</th>\n",
       "      <td>2024-09-19 03:07:08</td>\n",
       "      <td>350</td>\n",
       "      <td>1025614</td>\n",
       "      <td>10600</td>\n",
       "      <td>330</td>\n",
       "      <td>42548 40244 23485 10853 6545 2343</td>\n",
       "      <td>330</td>\n",
       "    </tr>\n",
       "    <tr>\n",
       "      <th>2</th>\n",
       "      <td>2024-09-30 03:07:09</td>\n",
       "      <td>350</td>\n",
       "      <td>1025656</td>\n",
       "      <td>231</td>\n",
       "      <td>13240</td>\n",
       "      <td>14034 42002 48557 56089 46836 55620 50785</td>\n",
       "      <td>26490</td>\n",
       "    </tr>\n",
       "    <tr>\n",
       "      <th>3</th>\n",
       "      <td>2024-09-30 03:07:09</td>\n",
       "      <td>350</td>\n",
       "      <td>1025659</td>\n",
       "      <td>14546</td>\n",
       "      <td>7550</td>\n",
       "      <td>32640 50164 48557 25314 23255 42146</td>\n",
       "      <td>12590</td>\n",
       "    </tr>\n",
       "    <tr>\n",
       "      <th>4</th>\n",
       "      <td>2024-09-30 03:07:09</td>\n",
       "      <td>350</td>\n",
       "      <td>1025668</td>\n",
       "      <td>1949</td>\n",
       "      <td>1290</td>\n",
       "      <td>51789 48557 56089 20149</td>\n",
       "      <td>1290</td>\n",
       "    </tr>\n",
       "  </tbody>\n",
       "</table>\n",
       "</div>"
      ]
     },
     "execution_count": 5,
     "metadata": {},
     "output_type": "execute_result"
    }
   ],
   "execution_count": 5
  },
  {
   "metadata": {
    "ExecuteTime": {
     "end_time": "2024-10-12T06:51:53.560794Z",
     "start_time": "2024-10-12T06:51:50.983887Z"
    }
   },
   "cell_type": "code",
   "source": [
    "actions = pd.read_parquet(f'{Path.cwd().parent}/data/train_actions.pq', engine='pyarrow')\n",
    "actions.head()"
   ],
   "id": "981e162b35596c1",
   "outputs": [
    {
     "data": {
      "text/plain": [
       "                                user_id                           loc_user_id  \\\n",
       "0  6fd49b56-8cc6-11ed-86e0-002590c0647c  c6e357dc-121d-449d-a744-e9a0b56c2380   \n",
       "1  6fd49b56-8cc6-11ed-86e0-002590c0647c  c6e357dc-121d-449d-a744-e9a0b56c2380   \n",
       "2  f9c498ec-5d3b-11ef-86e0-002590c0647c  120c9064-1131-4dc3-8048-44184531b42e   \n",
       "3  59386b5c-e64f-11ec-8086-002590c82437  f0745572-893f-4e50-bc52-5af47badff5a   \n",
       "4  badbd396-6cab-11ef-86e0-002590c0647c  73423d85-d47c-4332-8155-5200615302b5   \n",
       "\n",
       "   action                date products      pageId  \n",
       "0       7 2024-09-07 00:00:04       []  2571824865  \n",
       "1       7 2024-09-07 00:00:08       []  3834364438  \n",
       "2       7 2024-09-07 00:00:08       []  2448628415  \n",
       "3       7 2024-09-07 00:00:11       []  3875013967  \n",
       "4       7 2024-09-07 00:00:11       []  3025531174  "
      ],
      "text/html": [
       "<div>\n",
       "<style scoped>\n",
       "    .dataframe tbody tr th:only-of-type {\n",
       "        vertical-align: middle;\n",
       "    }\n",
       "\n",
       "    .dataframe tbody tr th {\n",
       "        vertical-align: top;\n",
       "    }\n",
       "\n",
       "    .dataframe thead th {\n",
       "        text-align: right;\n",
       "    }\n",
       "</style>\n",
       "<table border=\"1\" class=\"dataframe\">\n",
       "  <thead>\n",
       "    <tr style=\"text-align: right;\">\n",
       "      <th></th>\n",
       "      <th>user_id</th>\n",
       "      <th>loc_user_id</th>\n",
       "      <th>action</th>\n",
       "      <th>date</th>\n",
       "      <th>products</th>\n",
       "      <th>pageId</th>\n",
       "    </tr>\n",
       "  </thead>\n",
       "  <tbody>\n",
       "    <tr>\n",
       "      <th>0</th>\n",
       "      <td>6fd49b56-8cc6-11ed-86e0-002590c0647c</td>\n",
       "      <td>c6e357dc-121d-449d-a744-e9a0b56c2380</td>\n",
       "      <td>7</td>\n",
       "      <td>2024-09-07 00:00:04</td>\n",
       "      <td>[]</td>\n",
       "      <td>2571824865</td>\n",
       "    </tr>\n",
       "    <tr>\n",
       "      <th>1</th>\n",
       "      <td>6fd49b56-8cc6-11ed-86e0-002590c0647c</td>\n",
       "      <td>c6e357dc-121d-449d-a744-e9a0b56c2380</td>\n",
       "      <td>7</td>\n",
       "      <td>2024-09-07 00:00:08</td>\n",
       "      <td>[]</td>\n",
       "      <td>3834364438</td>\n",
       "    </tr>\n",
       "    <tr>\n",
       "      <th>2</th>\n",
       "      <td>f9c498ec-5d3b-11ef-86e0-002590c0647c</td>\n",
       "      <td>120c9064-1131-4dc3-8048-44184531b42e</td>\n",
       "      <td>7</td>\n",
       "      <td>2024-09-07 00:00:08</td>\n",
       "      <td>[]</td>\n",
       "      <td>2448628415</td>\n",
       "    </tr>\n",
       "    <tr>\n",
       "      <th>3</th>\n",
       "      <td>59386b5c-e64f-11ec-8086-002590c82437</td>\n",
       "      <td>f0745572-893f-4e50-bc52-5af47badff5a</td>\n",
       "      <td>7</td>\n",
       "      <td>2024-09-07 00:00:11</td>\n",
       "      <td>[]</td>\n",
       "      <td>3875013967</td>\n",
       "    </tr>\n",
       "    <tr>\n",
       "      <th>4</th>\n",
       "      <td>badbd396-6cab-11ef-86e0-002590c0647c</td>\n",
       "      <td>73423d85-d47c-4332-8155-5200615302b5</td>\n",
       "      <td>7</td>\n",
       "      <td>2024-09-07 00:00:11</td>\n",
       "      <td>[]</td>\n",
       "      <td>3025531174</td>\n",
       "    </tr>\n",
       "  </tbody>\n",
       "</table>\n",
       "</div>"
      ]
     },
     "execution_count": 6,
     "metadata": {},
     "output_type": "execute_result"
    }
   ],
   "execution_count": 6
  },
  {
   "metadata": {},
   "cell_type": "markdown",
   "source": "#### Разворачиваем данные по айдишникам продуктов",
   "id": "56e5db1a6058946c"
  },
  {
   "metadata": {
    "ExecuteTime": {
     "end_time": "2024-10-12T06:52:58.617042Z",
     "start_time": "2024-10-12T06:52:54.795010Z"
    }
   },
   "cell_type": "code",
   "source": [
    "_actions = (\n",
    "    actions\n",
    "    .copy()\n",
    "    .explode('products')\n",
    "    .assign(products=lambda x: x.products.fillna(-1).astype(np.int64))\n",
    ")\n",
    "print(_actions.shape)\n",
    "\n",
    "_catalog = (\n",
    "    catalog\n",
    "    .copy()\n",
    "    .assign(product_id=lambda x: x.product_id.astype(np.int64))\n",
    ")"
   ],
   "id": "3e0c476cbb5adeb0",
   "outputs": [
    {
     "name": "stdout",
     "output_type": "stream",
     "text": [
      "(6859002, 6)\n"
     ]
    }
   ],
   "execution_count": 9
  },
  {
   "metadata": {},
   "cell_type": "markdown",
   "source": "#### Разворачиваем данные по айдишникам продуктов",
   "id": "8ab92b6327317d65"
  },
  {
   "metadata": {
    "ExecuteTime": {
     "end_time": "2024-10-12T06:53:00.402393Z",
     "start_time": "2024-10-12T06:52:58.781291Z"
    }
   },
   "cell_type": "code",
   "source": [
    "_actions['action_datetime'] = pd.to_datetime(_actions['date'])\n",
    "\n",
    "_actions.action = _actions.action + 10\n",
    "_actions.action = _actions.action.replace({14: 0, 13: 4, 18: 2, 19: 3, 10: 5, 17: 1, 11: 6, 12: 7, 16: 8, 15: 9})\n",
    "_actions = _actions.sort_values(by=['action', 'date'])\n",
    "print(_actions.shape)"
   ],
   "id": "33bc13582ac56739",
   "outputs": [
    {
     "name": "stdout",
     "output_type": "stream",
     "text": [
      "(6859002, 7)\n"
     ]
    }
   ],
   "execution_count": 10
  },
  {
   "metadata": {},
   "cell_type": "markdown",
   "source": [
    "#### Новая шкала action в train_actions.pq в порядке возрастания важности\n",
    "    0 - clearB (удаление всех товаров из корзины)\n",
    "    1 - visit (посещение страницы с товаром)\n",
    "    2 - visitCategory (посещение страницы с группой товаров)\n",
    "    3 - search (поиск товара)           \n",
    "    4 - delB (удаление товара из корзины)\n",
    "    5 - view (просмотр товара)\n",
    "    6 - like (лайк товара)\n",
    "    7 - addB (добавление товара в корзину)\n",
    "    8 - listB (посещение страницы корзины и вывод списка товаров в корзине)\n",
    "    9 - order (оформление заказа)\n",
    "    "
   ],
   "id": "61bff49bb1302804"
  },
  {
   "metadata": {},
   "cell_type": "markdown",
   "source": [
    "#### Переименовываем поля и обьеденияем датасеты каталога и дейсвтвий пользователя    \n",
    "'products' теперь 'item_id', 'action'  превратился в 'weight' (мы перевели код действия в шкалу по возрастанию ранее)"
   ],
   "id": "edbf3590e0fdcf21"
  },
  {
   "metadata": {
    "ExecuteTime": {
     "end_time": "2024-10-12T06:53:02.867082Z",
     "start_time": "2024-10-12T06:53:02.039959Z"
    }
   },
   "cell_type": "code",
   "source": "interactions = _actions.rename(columns={'products': 'item_id', 'action' : 'weight', 'action_datetime': 'datetime'})",
   "id": "9cf4c400c2eb31f2",
   "outputs": [],
   "execution_count": 11
  },
  {
   "metadata": {
    "ExecuteTime": {
     "end_time": "2024-10-12T06:53:02.878085Z",
     "start_time": "2024-10-12T06:53:02.872848Z"
    }
   },
   "cell_type": "code",
   "source": "items = _catalog.rename(columns={'product_id': 'item_id'})",
   "id": "44b6d7a792587132",
   "outputs": [],
   "execution_count": 12
  },
  {
   "metadata": {
    "ExecuteTime": {
     "end_time": "2024-10-12T06:53:04.344974Z",
     "start_time": "2024-10-12T06:53:03.545502Z"
    }
   },
   "cell_type": "code",
   "source": [
    "interactions_merge = interactions.merge(items, on='item_id', how='left')\n",
    "interactions_merge.shape"
   ],
   "id": "29511698b4b25a81",
   "outputs": [
    {
     "data": {
      "text/plain": [
       "(6859002, 13)"
      ]
     },
     "execution_count": 13,
     "metadata": {},
     "output_type": "execute_result"
    }
   ],
   "execution_count": 13
  },
  {
   "metadata": {
    "ExecuteTime": {
     "end_time": "2024-10-12T06:53:05.073946Z",
     "start_time": "2024-10-12T06:53:04.750363Z"
    }
   },
   "cell_type": "code",
   "source": [
    "interactions_merge['day'] = interactions_merge['datetime'].dt.day\n",
    "interactions_merge['day_of_week'] = interactions_merge['datetime'].dt.dayofweek  # Monday=0, Sunday=6\n",
    "\n",
    "interactions_merge['hour'] = interactions_merge['datetime'].dt.hour\n",
    "interactions_merge['minute'] = interactions_merge['datetime'].dt.minute"
   ],
   "id": "59042b7e4bce6aa9",
   "outputs": [],
   "execution_count": 14
  },
  {
   "metadata": {
    "ExecuteTime": {
     "end_time": "2024-10-12T06:53:07.603443Z",
     "start_time": "2024-10-12T06:53:06.536527Z"
    }
   },
   "cell_type": "code",
   "source": [
    "interactions_merge['price_diff'] = interactions_merge['price'] - interactions_merge['old_price']\n",
    "\n",
    "interactions_merge['category_id'] = interactions_merge['category_id'].fillna(0)\n",
    "interactions_merge['price_diff'] = interactions_merge['price_diff'].fillna(0)\n",
    "\n",
    "interactions_merge['category_id'] = interactions_merge['category_id'].astype(np.int32)"
   ],
   "id": "e1baf5098e5fb6a5",
   "outputs": [],
   "execution_count": 15
  },
  {
   "metadata": {
    "ExecuteTime": {
     "end_time": "2024-10-12T06:53:13.776212Z",
     "start_time": "2024-10-12T06:53:10.726390Z"
    }
   },
   "cell_type": "code",
   "source": [
    "inters = interactions_merge.merge(\n",
    "    interactions_merge.groupby('user_id')['loc_user_id'].count().reset_index(name='loc_user_count'),\n",
    "    on='user_id',\n",
    "    how='left'\n",
    ")\n",
    "print(inters.shape)"
   ],
   "id": "dbeec347bf647835",
   "outputs": [
    {
     "name": "stdout",
     "output_type": "stream",
     "text": [
      "(6859002, 19)\n"
     ]
    }
   ],
   "execution_count": 16
  },
  {
   "metadata": {
    "ExecuteTime": {
     "end_time": "2024-10-12T06:53:16.020785Z",
     "start_time": "2024-10-12T06:53:13.893387Z"
    }
   },
   "cell_type": "code",
   "source": [
    "inters = inters.merge(\n",
    "    interactions_merge.groupby('user_id')['category_id'].count().reset_index(name='category_id_count'),\n",
    "    on='user_id',\n",
    "    how='left'\n",
    ")\n",
    "print(inters.shape)"
   ],
   "id": "134633534bc44644",
   "outputs": [
    {
     "name": "stdout",
     "output_type": "stream",
     "text": [
      "(6859002, 20)\n"
     ]
    }
   ],
   "execution_count": 17
  },
  {
   "metadata": {
    "ExecuteTime": {
     "end_time": "2024-10-12T06:53:16.142659Z",
     "start_time": "2024-10-12T06:53:16.140825Z"
    }
   },
   "cell_type": "code",
   "source": "",
   "id": "57fdee436f311726",
   "outputs": [],
   "execution_count": null
  },
  {
   "metadata": {
    "ExecuteTime": {
     "end_time": "2024-10-12T06:53:28.806194Z",
     "start_time": "2024-10-12T06:53:16.242119Z"
    }
   },
   "cell_type": "code",
   "source": [
    "for action in sorted(interactions_merge.weight.unique()):\n",
    "    inters = inters.merge(\n",
    "        interactions_merge[interactions_merge.weight  == action].groupby('user_id')['weight'].count().reset_index(name=f'action_{action}_count'),\n",
    "        on='user_id',\n",
    "        how='left'\n",
    "    )\n",
    "    inters[f'action_{action}_count'] = inters[f'action_{action}_count'].fillna(0)\n",
    "print(inters.shape)"
   ],
   "id": "e1bacf3c6ee6e617",
   "outputs": [
    {
     "name": "stdout",
     "output_type": "stream",
     "text": [
      "(6859002, 30)\n"
     ]
    }
   ],
   "execution_count": 18
  },
  {
   "metadata": {
    "ExecuteTime": {
     "end_time": "2024-10-11T21:31:29.695351Z",
     "start_time": "2024-10-11T21:31:29.693731Z"
    }
   },
   "cell_type": "code",
   "source": "",
   "id": "b046b5b46ce107b1",
   "outputs": [],
   "execution_count": null
  },
  {
   "metadata": {
    "ExecuteTime": {
     "end_time": "2024-10-12T06:53:38.064970Z",
     "start_time": "2024-10-12T06:53:35.229443Z"
    }
   },
   "cell_type": "code",
   "source": [
    "inters['delta_sec'] = inters.sort_values(by=['datetime']).groupby('user_id')['datetime'].diff()\n",
    "inters['delta_sec'] = inters['delta_sec'].dt.total_seconds()\n",
    "inters['delta_sec'] = inters['delta_sec'].fillna(0)"
   ],
   "id": "e5529ba8b7fa03a3",
   "outputs": [],
   "execution_count": 19
  },
  {
   "metadata": {
    "ExecuteTime": {
     "end_time": "2024-10-12T06:53:45.510242Z",
     "start_time": "2024-10-12T06:53:38.068385Z"
    }
   },
   "cell_type": "code",
   "source": [
    "inters['delta_day'] = inters.sort_values(by=['datetime']).groupby('user_id')['day'].diff()\n",
    "inters['delta_day'] = inters['delta_day'].fillna(0)\n",
    "\n",
    "inters['delta_hour'] = inters.sort_values(by=['datetime']).groupby('user_id')['hour'].diff()\n",
    "inters['delta_hour'] = inters['delta_hour'].fillna(0)\n",
    "\n",
    "inters['delta_min'] = inters.sort_values(by=['datetime']).groupby('user_id')['minute'].diff()\n",
    "inters['delta_min'] = inters['delta_min'].fillna(0)"
   ],
   "id": "366408200ad38780",
   "outputs": [],
   "execution_count": 20
  },
  {
   "metadata": {
    "ExecuteTime": {
     "end_time": "2024-10-12T06:53:47.051862Z",
     "start_time": "2024-10-12T06:53:46.382858Z"
    }
   },
   "cell_type": "code",
   "source": "inters = inters.drop(columns=['day', 'hour', 'minute'])",
   "id": "b4d3d265efe6438c",
   "outputs": [],
   "execution_count": 21
  },
  {
   "metadata": {
    "ExecuteTime": {
     "end_time": "2024-10-12T06:53:48.387598Z",
     "start_time": "2024-10-12T06:53:48.019316Z"
    }
   },
   "cell_type": "code",
   "source": "inters = inters.drop(columns=['price', 'title', 'old_price', 'date', 'add_date', 'loc_user_id', 'shop_id'])",
   "id": "5a08b82472678503",
   "outputs": [],
   "execution_count": 22
  },
  {
   "metadata": {
    "ExecuteTime": {
     "end_time": "2024-10-12T07:03:06.492669Z",
     "start_time": "2024-10-12T07:03:05.268110Z"
    }
   },
   "cell_type": "code",
   "source": [
    "inters = inters[inters['item_id'] != '/*']\n",
    "inters = inters[inters['user_id'] != '/*']"
   ],
   "id": "4fb8cb777c7bd7ba",
   "outputs": [],
   "execution_count": 55
  },
  {
   "metadata": {
    "ExecuteTime": {
     "end_time": "2024-10-12T07:03:07.341243Z",
     "start_time": "2024-10-12T07:03:07.082250Z"
    }
   },
   "cell_type": "code",
   "source": "inters[inters.user_id == 'e4362420-f6ca-11ec-86e0-002590c0647c'].head(500)",
   "id": "84c3076767e80047",
   "outputs": [
    {
     "data": {
      "text/plain": [
       "                                      user_id  weight  item_id      pageId  \\\n",
       "379      e4362420-f6ca-11ec-86e0-002590c0647c       1       -1  4263215769   \n",
       "383      e4362420-f6ca-11ec-86e0-002590c0647c       1       -1  4263215769   \n",
       "387      e4362420-f6ca-11ec-86e0-002590c0647c       1       -1  4263215769   \n",
       "388      e4362420-f6ca-11ec-86e0-002590c0647c       1       -1  4263215769   \n",
       "404      e4362420-f6ca-11ec-86e0-002590c0647c       1       -1  3450082821   \n",
       "...                                       ...     ...      ...         ...   \n",
       "6295889  e4362420-f6ca-11ec-86e0-002590c0647c       5  6770769   252042197   \n",
       "6295906  e4362420-f6ca-11ec-86e0-002590c0647c       5  6990711   252042197   \n",
       "6295912  e4362420-f6ca-11ec-86e0-002590c0647c       5  6770769   252042197   \n",
       "6847200  e4362420-f6ca-11ec-86e0-002590c0647c       9  5422963  4263215769   \n",
       "6847201  e4362420-f6ca-11ec-86e0-002590c0647c       9  4899652  4263215769   \n",
       "\n",
       "                   datetime  category_id  day_of_week  price_diff  \\\n",
       "379     2024-09-07 00:00:26            0            5         0.0   \n",
       "383     2024-09-07 00:00:41            0            5         0.0   \n",
       "387     2024-09-07 00:00:51            0            5         0.0   \n",
       "388     2024-09-07 00:00:52            0            5         0.0   \n",
       "404     2024-09-07 00:01:37            0            5         0.0   \n",
       "...                     ...          ...          ...         ...   \n",
       "6295889 2024-09-27 06:14:04        50448            4         0.0   \n",
       "6295906 2024-09-27 06:14:21        50448            4         0.0   \n",
       "6295912 2024-09-27 06:14:25        50448            4         0.0   \n",
       "6847200 2024-09-07 00:01:12         2247            5     -5700.0   \n",
       "6847201 2024-09-07 00:01:12          389            5     -4500.0   \n",
       "\n",
       "         loc_user_count  category_id_count  ...  action_4_count  \\\n",
       "379                 384                384  ...             0.0   \n",
       "383                 384                384  ...             0.0   \n",
       "387                 384                384  ...             0.0   \n",
       "388                 384                384  ...             0.0   \n",
       "404                 384                384  ...             0.0   \n",
       "...                 ...                ...  ...             ...   \n",
       "6295889             384                384  ...             0.0   \n",
       "6295906             384                384  ...             0.0   \n",
       "6295912             384                384  ...             0.0   \n",
       "6847200             384                384  ...             0.0   \n",
       "6847201             384                384  ...             0.0   \n",
       "\n",
       "         action_5_count  action_6_count  action_7_count  action_8_count  \\\n",
       "379                57.0             0.0             0.0             0.0   \n",
       "383                57.0             0.0             0.0             0.0   \n",
       "387                57.0             0.0             0.0             0.0   \n",
       "388                57.0             0.0             0.0             0.0   \n",
       "404                57.0             0.0             0.0             0.0   \n",
       "...                 ...             ...             ...             ...   \n",
       "6295889            57.0             0.0             0.0             0.0   \n",
       "6295906            57.0             0.0             0.0             0.0   \n",
       "6295912            57.0             0.0             0.0             0.0   \n",
       "6847200            57.0             0.0             0.0             0.0   \n",
       "6847201            57.0             0.0             0.0             0.0   \n",
       "\n",
       "         action_9_count  delta_sec  delta_day  delta_hour  delta_min  \n",
       "379                 2.0        0.0        0.0         0.0        0.0  \n",
       "383                 2.0       15.0        0.0         0.0        0.0  \n",
       "387                 2.0       10.0        0.0         0.0        0.0  \n",
       "388                 2.0        1.0        0.0         0.0        0.0  \n",
       "404                 2.0       25.0        0.0         0.0        0.0  \n",
       "...                 ...        ...        ...         ...        ...  \n",
       "6295889             2.0        1.0        0.0         0.0        0.0  \n",
       "6295906             2.0        1.0        0.0         0.0        0.0  \n",
       "6295912             2.0        1.0        0.0         0.0        0.0  \n",
       "6847200             2.0        0.0        0.0         0.0        0.0  \n",
       "6847201             2.0       20.0        0.0         0.0        1.0  \n",
       "\n",
       "[384 rows x 24 columns]"
      ],
      "text/html": [
       "<div>\n",
       "<style scoped>\n",
       "    .dataframe tbody tr th:only-of-type {\n",
       "        vertical-align: middle;\n",
       "    }\n",
       "\n",
       "    .dataframe tbody tr th {\n",
       "        vertical-align: top;\n",
       "    }\n",
       "\n",
       "    .dataframe thead th {\n",
       "        text-align: right;\n",
       "    }\n",
       "</style>\n",
       "<table border=\"1\" class=\"dataframe\">\n",
       "  <thead>\n",
       "    <tr style=\"text-align: right;\">\n",
       "      <th></th>\n",
       "      <th>user_id</th>\n",
       "      <th>weight</th>\n",
       "      <th>item_id</th>\n",
       "      <th>pageId</th>\n",
       "      <th>datetime</th>\n",
       "      <th>category_id</th>\n",
       "      <th>day_of_week</th>\n",
       "      <th>price_diff</th>\n",
       "      <th>loc_user_count</th>\n",
       "      <th>category_id_count</th>\n",
       "      <th>...</th>\n",
       "      <th>action_4_count</th>\n",
       "      <th>action_5_count</th>\n",
       "      <th>action_6_count</th>\n",
       "      <th>action_7_count</th>\n",
       "      <th>action_8_count</th>\n",
       "      <th>action_9_count</th>\n",
       "      <th>delta_sec</th>\n",
       "      <th>delta_day</th>\n",
       "      <th>delta_hour</th>\n",
       "      <th>delta_min</th>\n",
       "    </tr>\n",
       "  </thead>\n",
       "  <tbody>\n",
       "    <tr>\n",
       "      <th>379</th>\n",
       "      <td>e4362420-f6ca-11ec-86e0-002590c0647c</td>\n",
       "      <td>1</td>\n",
       "      <td>-1</td>\n",
       "      <td>4263215769</td>\n",
       "      <td>2024-09-07 00:00:26</td>\n",
       "      <td>0</td>\n",
       "      <td>5</td>\n",
       "      <td>0.0</td>\n",
       "      <td>384</td>\n",
       "      <td>384</td>\n",
       "      <td>...</td>\n",
       "      <td>0.0</td>\n",
       "      <td>57.0</td>\n",
       "      <td>0.0</td>\n",
       "      <td>0.0</td>\n",
       "      <td>0.0</td>\n",
       "      <td>2.0</td>\n",
       "      <td>0.0</td>\n",
       "      <td>0.0</td>\n",
       "      <td>0.0</td>\n",
       "      <td>0.0</td>\n",
       "    </tr>\n",
       "    <tr>\n",
       "      <th>383</th>\n",
       "      <td>e4362420-f6ca-11ec-86e0-002590c0647c</td>\n",
       "      <td>1</td>\n",
       "      <td>-1</td>\n",
       "      <td>4263215769</td>\n",
       "      <td>2024-09-07 00:00:41</td>\n",
       "      <td>0</td>\n",
       "      <td>5</td>\n",
       "      <td>0.0</td>\n",
       "      <td>384</td>\n",
       "      <td>384</td>\n",
       "      <td>...</td>\n",
       "      <td>0.0</td>\n",
       "      <td>57.0</td>\n",
       "      <td>0.0</td>\n",
       "      <td>0.0</td>\n",
       "      <td>0.0</td>\n",
       "      <td>2.0</td>\n",
       "      <td>15.0</td>\n",
       "      <td>0.0</td>\n",
       "      <td>0.0</td>\n",
       "      <td>0.0</td>\n",
       "    </tr>\n",
       "    <tr>\n",
       "      <th>387</th>\n",
       "      <td>e4362420-f6ca-11ec-86e0-002590c0647c</td>\n",
       "      <td>1</td>\n",
       "      <td>-1</td>\n",
       "      <td>4263215769</td>\n",
       "      <td>2024-09-07 00:00:51</td>\n",
       "      <td>0</td>\n",
       "      <td>5</td>\n",
       "      <td>0.0</td>\n",
       "      <td>384</td>\n",
       "      <td>384</td>\n",
       "      <td>...</td>\n",
       "      <td>0.0</td>\n",
       "      <td>57.0</td>\n",
       "      <td>0.0</td>\n",
       "      <td>0.0</td>\n",
       "      <td>0.0</td>\n",
       "      <td>2.0</td>\n",
       "      <td>10.0</td>\n",
       "      <td>0.0</td>\n",
       "      <td>0.0</td>\n",
       "      <td>0.0</td>\n",
       "    </tr>\n",
       "    <tr>\n",
       "      <th>388</th>\n",
       "      <td>e4362420-f6ca-11ec-86e0-002590c0647c</td>\n",
       "      <td>1</td>\n",
       "      <td>-1</td>\n",
       "      <td>4263215769</td>\n",
       "      <td>2024-09-07 00:00:52</td>\n",
       "      <td>0</td>\n",
       "      <td>5</td>\n",
       "      <td>0.0</td>\n",
       "      <td>384</td>\n",
       "      <td>384</td>\n",
       "      <td>...</td>\n",
       "      <td>0.0</td>\n",
       "      <td>57.0</td>\n",
       "      <td>0.0</td>\n",
       "      <td>0.0</td>\n",
       "      <td>0.0</td>\n",
       "      <td>2.0</td>\n",
       "      <td>1.0</td>\n",
       "      <td>0.0</td>\n",
       "      <td>0.0</td>\n",
       "      <td>0.0</td>\n",
       "    </tr>\n",
       "    <tr>\n",
       "      <th>404</th>\n",
       "      <td>e4362420-f6ca-11ec-86e0-002590c0647c</td>\n",
       "      <td>1</td>\n",
       "      <td>-1</td>\n",
       "      <td>3450082821</td>\n",
       "      <td>2024-09-07 00:01:37</td>\n",
       "      <td>0</td>\n",
       "      <td>5</td>\n",
       "      <td>0.0</td>\n",
       "      <td>384</td>\n",
       "      <td>384</td>\n",
       "      <td>...</td>\n",
       "      <td>0.0</td>\n",
       "      <td>57.0</td>\n",
       "      <td>0.0</td>\n",
       "      <td>0.0</td>\n",
       "      <td>0.0</td>\n",
       "      <td>2.0</td>\n",
       "      <td>25.0</td>\n",
       "      <td>0.0</td>\n",
       "      <td>0.0</td>\n",
       "      <td>0.0</td>\n",
       "    </tr>\n",
       "    <tr>\n",
       "      <th>...</th>\n",
       "      <td>...</td>\n",
       "      <td>...</td>\n",
       "      <td>...</td>\n",
       "      <td>...</td>\n",
       "      <td>...</td>\n",
       "      <td>...</td>\n",
       "      <td>...</td>\n",
       "      <td>...</td>\n",
       "      <td>...</td>\n",
       "      <td>...</td>\n",
       "      <td>...</td>\n",
       "      <td>...</td>\n",
       "      <td>...</td>\n",
       "      <td>...</td>\n",
       "      <td>...</td>\n",
       "      <td>...</td>\n",
       "      <td>...</td>\n",
       "      <td>...</td>\n",
       "      <td>...</td>\n",
       "      <td>...</td>\n",
       "      <td>...</td>\n",
       "    </tr>\n",
       "    <tr>\n",
       "      <th>6295889</th>\n",
       "      <td>e4362420-f6ca-11ec-86e0-002590c0647c</td>\n",
       "      <td>5</td>\n",
       "      <td>6770769</td>\n",
       "      <td>252042197</td>\n",
       "      <td>2024-09-27 06:14:04</td>\n",
       "      <td>50448</td>\n",
       "      <td>4</td>\n",
       "      <td>0.0</td>\n",
       "      <td>384</td>\n",
       "      <td>384</td>\n",
       "      <td>...</td>\n",
       "      <td>0.0</td>\n",
       "      <td>57.0</td>\n",
       "      <td>0.0</td>\n",
       "      <td>0.0</td>\n",
       "      <td>0.0</td>\n",
       "      <td>2.0</td>\n",
       "      <td>1.0</td>\n",
       "      <td>0.0</td>\n",
       "      <td>0.0</td>\n",
       "      <td>0.0</td>\n",
       "    </tr>\n",
       "    <tr>\n",
       "      <th>6295906</th>\n",
       "      <td>e4362420-f6ca-11ec-86e0-002590c0647c</td>\n",
       "      <td>5</td>\n",
       "      <td>6990711</td>\n",
       "      <td>252042197</td>\n",
       "      <td>2024-09-27 06:14:21</td>\n",
       "      <td>50448</td>\n",
       "      <td>4</td>\n",
       "      <td>0.0</td>\n",
       "      <td>384</td>\n",
       "      <td>384</td>\n",
       "      <td>...</td>\n",
       "      <td>0.0</td>\n",
       "      <td>57.0</td>\n",
       "      <td>0.0</td>\n",
       "      <td>0.0</td>\n",
       "      <td>0.0</td>\n",
       "      <td>2.0</td>\n",
       "      <td>1.0</td>\n",
       "      <td>0.0</td>\n",
       "      <td>0.0</td>\n",
       "      <td>0.0</td>\n",
       "    </tr>\n",
       "    <tr>\n",
       "      <th>6295912</th>\n",
       "      <td>e4362420-f6ca-11ec-86e0-002590c0647c</td>\n",
       "      <td>5</td>\n",
       "      <td>6770769</td>\n",
       "      <td>252042197</td>\n",
       "      <td>2024-09-27 06:14:25</td>\n",
       "      <td>50448</td>\n",
       "      <td>4</td>\n",
       "      <td>0.0</td>\n",
       "      <td>384</td>\n",
       "      <td>384</td>\n",
       "      <td>...</td>\n",
       "      <td>0.0</td>\n",
       "      <td>57.0</td>\n",
       "      <td>0.0</td>\n",
       "      <td>0.0</td>\n",
       "      <td>0.0</td>\n",
       "      <td>2.0</td>\n",
       "      <td>1.0</td>\n",
       "      <td>0.0</td>\n",
       "      <td>0.0</td>\n",
       "      <td>0.0</td>\n",
       "    </tr>\n",
       "    <tr>\n",
       "      <th>6847200</th>\n",
       "      <td>e4362420-f6ca-11ec-86e0-002590c0647c</td>\n",
       "      <td>9</td>\n",
       "      <td>5422963</td>\n",
       "      <td>4263215769</td>\n",
       "      <td>2024-09-07 00:01:12</td>\n",
       "      <td>2247</td>\n",
       "      <td>5</td>\n",
       "      <td>-5700.0</td>\n",
       "      <td>384</td>\n",
       "      <td>384</td>\n",
       "      <td>...</td>\n",
       "      <td>0.0</td>\n",
       "      <td>57.0</td>\n",
       "      <td>0.0</td>\n",
       "      <td>0.0</td>\n",
       "      <td>0.0</td>\n",
       "      <td>2.0</td>\n",
       "      <td>0.0</td>\n",
       "      <td>0.0</td>\n",
       "      <td>0.0</td>\n",
       "      <td>0.0</td>\n",
       "    </tr>\n",
       "    <tr>\n",
       "      <th>6847201</th>\n",
       "      <td>e4362420-f6ca-11ec-86e0-002590c0647c</td>\n",
       "      <td>9</td>\n",
       "      <td>4899652</td>\n",
       "      <td>4263215769</td>\n",
       "      <td>2024-09-07 00:01:12</td>\n",
       "      <td>389</td>\n",
       "      <td>5</td>\n",
       "      <td>-4500.0</td>\n",
       "      <td>384</td>\n",
       "      <td>384</td>\n",
       "      <td>...</td>\n",
       "      <td>0.0</td>\n",
       "      <td>57.0</td>\n",
       "      <td>0.0</td>\n",
       "      <td>0.0</td>\n",
       "      <td>0.0</td>\n",
       "      <td>2.0</td>\n",
       "      <td>20.0</td>\n",
       "      <td>0.0</td>\n",
       "      <td>0.0</td>\n",
       "      <td>1.0</td>\n",
       "    </tr>\n",
       "  </tbody>\n",
       "</table>\n",
       "<p>384 rows × 24 columns</p>\n",
       "</div>"
      ]
     },
     "execution_count": 56,
     "metadata": {},
     "output_type": "execute_result"
    }
   ],
   "execution_count": 56
  },
  {
   "metadata": {
    "ExecuteTime": {
     "end_time": "2024-10-12T07:03:07.449325Z",
     "start_time": "2024-10-12T07:03:07.439251Z"
    }
   },
   "cell_type": "code",
   "source": "inters.head()",
   "id": "8f5f038c3b20fe14",
   "outputs": [
    {
     "data": {
      "text/plain": [
       "                                user_id  weight  item_id      pageId  \\\n",
       "0  5b08b2fc-0e71-11ee-86e0-002590c0647c       0       -1    89919732   \n",
       "1  1af7e04c-6cd1-11ef-9b7b-002590c82436       0       -1   851020872   \n",
       "2  d41cdad4-3b4c-11ef-86e0-002590c0647c       0       -1  1515288183   \n",
       "3  59b9d89a-1de2-11eb-86e0-002590c0647c       0       -1  1497267364   \n",
       "4  9c087566-8065-11ed-86e0-002590c0647c       0       -1  3039170152   \n",
       "\n",
       "             datetime  category_id  day_of_week  price_diff  loc_user_count  \\\n",
       "0 2024-09-07 05:11:00            0            5         0.0             141   \n",
       "1 2024-09-07 05:50:01            0            5         0.0              91   \n",
       "2 2024-09-07 07:37:02            0            5         0.0              85   \n",
       "3 2024-09-07 11:52:12            0            5         0.0            8270   \n",
       "4 2024-09-07 12:14:30            0            5         0.0             182   \n",
       "\n",
       "   category_id_count  ...  action_4_count  action_5_count  action_6_count  \\\n",
       "0                141  ...             0.0            27.0             2.0   \n",
       "1                 91  ...             0.0            25.0             0.0   \n",
       "2                 85  ...             0.0            14.0             0.0   \n",
       "3               8270  ...            44.0           694.0             1.0   \n",
       "4                182  ...             1.0            26.0             0.0   \n",
       "\n",
       "   action_7_count  action_8_count  action_9_count  delta_sec  delta_day  \\\n",
       "0             1.0             1.0             0.0       24.0        0.0   \n",
       "1             2.0             5.0             1.0        6.0        0.0   \n",
       "2             2.0             6.0             0.0        8.0        0.0   \n",
       "3           125.0          1729.0           112.0        3.0        0.0   \n",
       "4             3.0             8.0             0.0        9.0        0.0   \n",
       "\n",
       "   delta_hour  delta_min  \n",
       "0         0.0        1.0  \n",
       "1         0.0        1.0  \n",
       "2         0.0        1.0  \n",
       "3         0.0        0.0  \n",
       "4         0.0        0.0  \n",
       "\n",
       "[5 rows x 24 columns]"
      ],
      "text/html": [
       "<div>\n",
       "<style scoped>\n",
       "    .dataframe tbody tr th:only-of-type {\n",
       "        vertical-align: middle;\n",
       "    }\n",
       "\n",
       "    .dataframe tbody tr th {\n",
       "        vertical-align: top;\n",
       "    }\n",
       "\n",
       "    .dataframe thead th {\n",
       "        text-align: right;\n",
       "    }\n",
       "</style>\n",
       "<table border=\"1\" class=\"dataframe\">\n",
       "  <thead>\n",
       "    <tr style=\"text-align: right;\">\n",
       "      <th></th>\n",
       "      <th>user_id</th>\n",
       "      <th>weight</th>\n",
       "      <th>item_id</th>\n",
       "      <th>pageId</th>\n",
       "      <th>datetime</th>\n",
       "      <th>category_id</th>\n",
       "      <th>day_of_week</th>\n",
       "      <th>price_diff</th>\n",
       "      <th>loc_user_count</th>\n",
       "      <th>category_id_count</th>\n",
       "      <th>...</th>\n",
       "      <th>action_4_count</th>\n",
       "      <th>action_5_count</th>\n",
       "      <th>action_6_count</th>\n",
       "      <th>action_7_count</th>\n",
       "      <th>action_8_count</th>\n",
       "      <th>action_9_count</th>\n",
       "      <th>delta_sec</th>\n",
       "      <th>delta_day</th>\n",
       "      <th>delta_hour</th>\n",
       "      <th>delta_min</th>\n",
       "    </tr>\n",
       "  </thead>\n",
       "  <tbody>\n",
       "    <tr>\n",
       "      <th>0</th>\n",
       "      <td>5b08b2fc-0e71-11ee-86e0-002590c0647c</td>\n",
       "      <td>0</td>\n",
       "      <td>-1</td>\n",
       "      <td>89919732</td>\n",
       "      <td>2024-09-07 05:11:00</td>\n",
       "      <td>0</td>\n",
       "      <td>5</td>\n",
       "      <td>0.0</td>\n",
       "      <td>141</td>\n",
       "      <td>141</td>\n",
       "      <td>...</td>\n",
       "      <td>0.0</td>\n",
       "      <td>27.0</td>\n",
       "      <td>2.0</td>\n",
       "      <td>1.0</td>\n",
       "      <td>1.0</td>\n",
       "      <td>0.0</td>\n",
       "      <td>24.0</td>\n",
       "      <td>0.0</td>\n",
       "      <td>0.0</td>\n",
       "      <td>1.0</td>\n",
       "    </tr>\n",
       "    <tr>\n",
       "      <th>1</th>\n",
       "      <td>1af7e04c-6cd1-11ef-9b7b-002590c82436</td>\n",
       "      <td>0</td>\n",
       "      <td>-1</td>\n",
       "      <td>851020872</td>\n",
       "      <td>2024-09-07 05:50:01</td>\n",
       "      <td>0</td>\n",
       "      <td>5</td>\n",
       "      <td>0.0</td>\n",
       "      <td>91</td>\n",
       "      <td>91</td>\n",
       "      <td>...</td>\n",
       "      <td>0.0</td>\n",
       "      <td>25.0</td>\n",
       "      <td>0.0</td>\n",
       "      <td>2.0</td>\n",
       "      <td>5.0</td>\n",
       "      <td>1.0</td>\n",
       "      <td>6.0</td>\n",
       "      <td>0.0</td>\n",
       "      <td>0.0</td>\n",
       "      <td>1.0</td>\n",
       "    </tr>\n",
       "    <tr>\n",
       "      <th>2</th>\n",
       "      <td>d41cdad4-3b4c-11ef-86e0-002590c0647c</td>\n",
       "      <td>0</td>\n",
       "      <td>-1</td>\n",
       "      <td>1515288183</td>\n",
       "      <td>2024-09-07 07:37:02</td>\n",
       "      <td>0</td>\n",
       "      <td>5</td>\n",
       "      <td>0.0</td>\n",
       "      <td>85</td>\n",
       "      <td>85</td>\n",
       "      <td>...</td>\n",
       "      <td>0.0</td>\n",
       "      <td>14.0</td>\n",
       "      <td>0.0</td>\n",
       "      <td>2.0</td>\n",
       "      <td>6.0</td>\n",
       "      <td>0.0</td>\n",
       "      <td>8.0</td>\n",
       "      <td>0.0</td>\n",
       "      <td>0.0</td>\n",
       "      <td>1.0</td>\n",
       "    </tr>\n",
       "    <tr>\n",
       "      <th>3</th>\n",
       "      <td>59b9d89a-1de2-11eb-86e0-002590c0647c</td>\n",
       "      <td>0</td>\n",
       "      <td>-1</td>\n",
       "      <td>1497267364</td>\n",
       "      <td>2024-09-07 11:52:12</td>\n",
       "      <td>0</td>\n",
       "      <td>5</td>\n",
       "      <td>0.0</td>\n",
       "      <td>8270</td>\n",
       "      <td>8270</td>\n",
       "      <td>...</td>\n",
       "      <td>44.0</td>\n",
       "      <td>694.0</td>\n",
       "      <td>1.0</td>\n",
       "      <td>125.0</td>\n",
       "      <td>1729.0</td>\n",
       "      <td>112.0</td>\n",
       "      <td>3.0</td>\n",
       "      <td>0.0</td>\n",
       "      <td>0.0</td>\n",
       "      <td>0.0</td>\n",
       "    </tr>\n",
       "    <tr>\n",
       "      <th>4</th>\n",
       "      <td>9c087566-8065-11ed-86e0-002590c0647c</td>\n",
       "      <td>0</td>\n",
       "      <td>-1</td>\n",
       "      <td>3039170152</td>\n",
       "      <td>2024-09-07 12:14:30</td>\n",
       "      <td>0</td>\n",
       "      <td>5</td>\n",
       "      <td>0.0</td>\n",
       "      <td>182</td>\n",
       "      <td>182</td>\n",
       "      <td>...</td>\n",
       "      <td>1.0</td>\n",
       "      <td>26.0</td>\n",
       "      <td>0.0</td>\n",
       "      <td>3.0</td>\n",
       "      <td>8.0</td>\n",
       "      <td>0.0</td>\n",
       "      <td>9.0</td>\n",
       "      <td>0.0</td>\n",
       "      <td>0.0</td>\n",
       "      <td>0.0</td>\n",
       "    </tr>\n",
       "  </tbody>\n",
       "</table>\n",
       "<p>5 rows × 24 columns</p>\n",
       "</div>"
      ]
     },
     "execution_count": 57,
     "metadata": {},
     "output_type": "execute_result"
    }
   ],
   "execution_count": 57
  },
  {
   "metadata": {
    "ExecuteTime": {
     "end_time": "2024-10-12T07:03:07.608075Z",
     "start_time": "2024-10-12T07:03:07.605692Z"
    }
   },
   "cell_type": "code",
   "source": "",
   "id": "c31fe5ba397faa76",
   "outputs": [],
   "execution_count": null
  },
  {
   "metadata": {},
   "cell_type": "markdown",
   "source": "#### Тренировка модели для распознования ключевого события",
   "id": "71b58e8af56b9ae3"
  },
  {
   "metadata": {
    "ExecuteTime": {
     "end_time": "2024-10-12T07:07:43.755443Z",
     "start_time": "2024-10-12T07:07:43.474457Z"
    }
   },
   "cell_type": "code",
   "source": "inters[((inters.weight == 1) | (inters.weight == 4)) & (inters.user_id == '0038911e-79a3-11ef-9b7b-002590c82436')].sort_values(by=['user_id', 'pageId', 'item_id'])",
   "id": "6705e17e173899f1",
   "outputs": [
    {
     "data": {
      "text/plain": [
       "                                      user_id  weight  item_id      pageId  \\\n",
       "3522281  0038911e-79a3-11ef-9b7b-002590c82436       1       -1  1015778690   \n",
       "3337690  0038911e-79a3-11ef-9b7b-002590c82436       1       -1   125129932   \n",
       "3138513  0038911e-79a3-11ef-9b7b-002590c82436       1       -1  1281889168   \n",
       "3338009  0038911e-79a3-11ef-9b7b-002590c82436       1       -1  1326997590   \n",
       "3338048  0038911e-79a3-11ef-9b7b-002590c82436       1       -1  1326997590   \n",
       "...                                       ...     ...      ...         ...   \n",
       "3539012  0038911e-79a3-11ef-9b7b-002590c82436       1       -1   996145740   \n",
       "3539032  0038911e-79a3-11ef-9b7b-002590c82436       1       -1   996145740   \n",
       "3539048  0038911e-79a3-11ef-9b7b-002590c82436       1       -1   996145740   \n",
       "3539063  0038911e-79a3-11ef-9b7b-002590c82436       1       -1   996145740   \n",
       "3539083  0038911e-79a3-11ef-9b7b-002590c82436       1       -1   996145740   \n",
       "\n",
       "                   datetime  category_id  day_of_week  price_diff  \\\n",
       "3522281 2024-09-25 18:09:12            0            2         0.0   \n",
       "3337690 2024-09-24 18:18:04            0            1         0.0   \n",
       "3138513 2024-09-23 18:17:15            0            0         0.0   \n",
       "3338009 2024-09-24 18:20:22            0            1         0.0   \n",
       "3338048 2024-09-24 18:20:40            0            1         0.0   \n",
       "...                     ...          ...          ...         ...   \n",
       "3539012 2024-09-25 19:43:20            0            2         0.0   \n",
       "3539032 2024-09-25 19:43:25            0            2         0.0   \n",
       "3539048 2024-09-25 19:43:31            0            2         0.0   \n",
       "3539063 2024-09-25 19:43:34            0            2         0.0   \n",
       "3539083 2024-09-25 19:43:39            0            2         0.0   \n",
       "\n",
       "         loc_user_count  category_id_count  ...  action_4_count  \\\n",
       "3522281             155                155  ...             3.0   \n",
       "3337690             155                155  ...             3.0   \n",
       "3138513             155                155  ...             3.0   \n",
       "3338009             155                155  ...             3.0   \n",
       "3338048             155                155  ...             3.0   \n",
       "...                 ...                ...  ...             ...   \n",
       "3539012             155                155  ...             3.0   \n",
       "3539032             155                155  ...             3.0   \n",
       "3539048             155                155  ...             3.0   \n",
       "3539063             155                155  ...             3.0   \n",
       "3539083             155                155  ...             3.0   \n",
       "\n",
       "         action_5_count  action_6_count  action_7_count  action_8_count  \\\n",
       "3522281            22.0             0.0             2.0            10.0   \n",
       "3337690            22.0             0.0             2.0            10.0   \n",
       "3138513            22.0             0.0             2.0            10.0   \n",
       "3338009            22.0             0.0             2.0            10.0   \n",
       "3338048            22.0             0.0             2.0            10.0   \n",
       "...                 ...             ...             ...             ...   \n",
       "3539012            22.0             0.0             2.0            10.0   \n",
       "3539032            22.0             0.0             2.0            10.0   \n",
       "3539048            22.0             0.0             2.0            10.0   \n",
       "3539063            22.0             0.0             2.0            10.0   \n",
       "3539083            22.0             0.0             2.0            10.0   \n",
       "\n",
       "         action_9_count  delta_sec  delta_day  delta_hour  delta_min  \n",
       "3522281             1.0    23166.0        0.0         7.0      -34.0  \n",
       "3337690             1.0        2.0        0.0         0.0        0.0  \n",
       "3138513             1.0      149.0        0.0         0.0        3.0  \n",
       "3338009             1.0        0.0        0.0         0.0        0.0  \n",
       "3338048             1.0       18.0        0.0         0.0        0.0  \n",
       "...                 ...        ...        ...         ...        ...  \n",
       "3539012             1.0        1.0        0.0         0.0        0.0  \n",
       "3539032             1.0        4.0        0.0         0.0        0.0  \n",
       "3539048             1.0        6.0        0.0         0.0        0.0  \n",
       "3539063             1.0        3.0        0.0         0.0        0.0  \n",
       "3539083             1.0        4.0        0.0         0.0        0.0  \n",
       "\n",
       "[94 rows x 24 columns]"
      ],
      "text/html": [
       "<div>\n",
       "<style scoped>\n",
       "    .dataframe tbody tr th:only-of-type {\n",
       "        vertical-align: middle;\n",
       "    }\n",
       "\n",
       "    .dataframe tbody tr th {\n",
       "        vertical-align: top;\n",
       "    }\n",
       "\n",
       "    .dataframe thead th {\n",
       "        text-align: right;\n",
       "    }\n",
       "</style>\n",
       "<table border=\"1\" class=\"dataframe\">\n",
       "  <thead>\n",
       "    <tr style=\"text-align: right;\">\n",
       "      <th></th>\n",
       "      <th>user_id</th>\n",
       "      <th>weight</th>\n",
       "      <th>item_id</th>\n",
       "      <th>pageId</th>\n",
       "      <th>datetime</th>\n",
       "      <th>category_id</th>\n",
       "      <th>day_of_week</th>\n",
       "      <th>price_diff</th>\n",
       "      <th>loc_user_count</th>\n",
       "      <th>category_id_count</th>\n",
       "      <th>...</th>\n",
       "      <th>action_4_count</th>\n",
       "      <th>action_5_count</th>\n",
       "      <th>action_6_count</th>\n",
       "      <th>action_7_count</th>\n",
       "      <th>action_8_count</th>\n",
       "      <th>action_9_count</th>\n",
       "      <th>delta_sec</th>\n",
       "      <th>delta_day</th>\n",
       "      <th>delta_hour</th>\n",
       "      <th>delta_min</th>\n",
       "    </tr>\n",
       "  </thead>\n",
       "  <tbody>\n",
       "    <tr>\n",
       "      <th>3522281</th>\n",
       "      <td>0038911e-79a3-11ef-9b7b-002590c82436</td>\n",
       "      <td>1</td>\n",
       "      <td>-1</td>\n",
       "      <td>1015778690</td>\n",
       "      <td>2024-09-25 18:09:12</td>\n",
       "      <td>0</td>\n",
       "      <td>2</td>\n",
       "      <td>0.0</td>\n",
       "      <td>155</td>\n",
       "      <td>155</td>\n",
       "      <td>...</td>\n",
       "      <td>3.0</td>\n",
       "      <td>22.0</td>\n",
       "      <td>0.0</td>\n",
       "      <td>2.0</td>\n",
       "      <td>10.0</td>\n",
       "      <td>1.0</td>\n",
       "      <td>23166.0</td>\n",
       "      <td>0.0</td>\n",
       "      <td>7.0</td>\n",
       "      <td>-34.0</td>\n",
       "    </tr>\n",
       "    <tr>\n",
       "      <th>3337690</th>\n",
       "      <td>0038911e-79a3-11ef-9b7b-002590c82436</td>\n",
       "      <td>1</td>\n",
       "      <td>-1</td>\n",
       "      <td>125129932</td>\n",
       "      <td>2024-09-24 18:18:04</td>\n",
       "      <td>0</td>\n",
       "      <td>1</td>\n",
       "      <td>0.0</td>\n",
       "      <td>155</td>\n",
       "      <td>155</td>\n",
       "      <td>...</td>\n",
       "      <td>3.0</td>\n",
       "      <td>22.0</td>\n",
       "      <td>0.0</td>\n",
       "      <td>2.0</td>\n",
       "      <td>10.0</td>\n",
       "      <td>1.0</td>\n",
       "      <td>2.0</td>\n",
       "      <td>0.0</td>\n",
       "      <td>0.0</td>\n",
       "      <td>0.0</td>\n",
       "    </tr>\n",
       "    <tr>\n",
       "      <th>3138513</th>\n",
       "      <td>0038911e-79a3-11ef-9b7b-002590c82436</td>\n",
       "      <td>1</td>\n",
       "      <td>-1</td>\n",
       "      <td>1281889168</td>\n",
       "      <td>2024-09-23 18:17:15</td>\n",
       "      <td>0</td>\n",
       "      <td>0</td>\n",
       "      <td>0.0</td>\n",
       "      <td>155</td>\n",
       "      <td>155</td>\n",
       "      <td>...</td>\n",
       "      <td>3.0</td>\n",
       "      <td>22.0</td>\n",
       "      <td>0.0</td>\n",
       "      <td>2.0</td>\n",
       "      <td>10.0</td>\n",
       "      <td>1.0</td>\n",
       "      <td>149.0</td>\n",
       "      <td>0.0</td>\n",
       "      <td>0.0</td>\n",
       "      <td>3.0</td>\n",
       "    </tr>\n",
       "    <tr>\n",
       "      <th>3338009</th>\n",
       "      <td>0038911e-79a3-11ef-9b7b-002590c82436</td>\n",
       "      <td>1</td>\n",
       "      <td>-1</td>\n",
       "      <td>1326997590</td>\n",
       "      <td>2024-09-24 18:20:22</td>\n",
       "      <td>0</td>\n",
       "      <td>1</td>\n",
       "      <td>0.0</td>\n",
       "      <td>155</td>\n",
       "      <td>155</td>\n",
       "      <td>...</td>\n",
       "      <td>3.0</td>\n",
       "      <td>22.0</td>\n",
       "      <td>0.0</td>\n",
       "      <td>2.0</td>\n",
       "      <td>10.0</td>\n",
       "      <td>1.0</td>\n",
       "      <td>0.0</td>\n",
       "      <td>0.0</td>\n",
       "      <td>0.0</td>\n",
       "      <td>0.0</td>\n",
       "    </tr>\n",
       "    <tr>\n",
       "      <th>3338048</th>\n",
       "      <td>0038911e-79a3-11ef-9b7b-002590c82436</td>\n",
       "      <td>1</td>\n",
       "      <td>-1</td>\n",
       "      <td>1326997590</td>\n",
       "      <td>2024-09-24 18:20:40</td>\n",
       "      <td>0</td>\n",
       "      <td>1</td>\n",
       "      <td>0.0</td>\n",
       "      <td>155</td>\n",
       "      <td>155</td>\n",
       "      <td>...</td>\n",
       "      <td>3.0</td>\n",
       "      <td>22.0</td>\n",
       "      <td>0.0</td>\n",
       "      <td>2.0</td>\n",
       "      <td>10.0</td>\n",
       "      <td>1.0</td>\n",
       "      <td>18.0</td>\n",
       "      <td>0.0</td>\n",
       "      <td>0.0</td>\n",
       "      <td>0.0</td>\n",
       "    </tr>\n",
       "    <tr>\n",
       "      <th>...</th>\n",
       "      <td>...</td>\n",
       "      <td>...</td>\n",
       "      <td>...</td>\n",
       "      <td>...</td>\n",
       "      <td>...</td>\n",
       "      <td>...</td>\n",
       "      <td>...</td>\n",
       "      <td>...</td>\n",
       "      <td>...</td>\n",
       "      <td>...</td>\n",
       "      <td>...</td>\n",
       "      <td>...</td>\n",
       "      <td>...</td>\n",
       "      <td>...</td>\n",
       "      <td>...</td>\n",
       "      <td>...</td>\n",
       "      <td>...</td>\n",
       "      <td>...</td>\n",
       "      <td>...</td>\n",
       "      <td>...</td>\n",
       "      <td>...</td>\n",
       "    </tr>\n",
       "    <tr>\n",
       "      <th>3539012</th>\n",
       "      <td>0038911e-79a3-11ef-9b7b-002590c82436</td>\n",
       "      <td>1</td>\n",
       "      <td>-1</td>\n",
       "      <td>996145740</td>\n",
       "      <td>2024-09-25 19:43:20</td>\n",
       "      <td>0</td>\n",
       "      <td>2</td>\n",
       "      <td>0.0</td>\n",
       "      <td>155</td>\n",
       "      <td>155</td>\n",
       "      <td>...</td>\n",
       "      <td>3.0</td>\n",
       "      <td>22.0</td>\n",
       "      <td>0.0</td>\n",
       "      <td>2.0</td>\n",
       "      <td>10.0</td>\n",
       "      <td>1.0</td>\n",
       "      <td>1.0</td>\n",
       "      <td>0.0</td>\n",
       "      <td>0.0</td>\n",
       "      <td>0.0</td>\n",
       "    </tr>\n",
       "    <tr>\n",
       "      <th>3539032</th>\n",
       "      <td>0038911e-79a3-11ef-9b7b-002590c82436</td>\n",
       "      <td>1</td>\n",
       "      <td>-1</td>\n",
       "      <td>996145740</td>\n",
       "      <td>2024-09-25 19:43:25</td>\n",
       "      <td>0</td>\n",
       "      <td>2</td>\n",
       "      <td>0.0</td>\n",
       "      <td>155</td>\n",
       "      <td>155</td>\n",
       "      <td>...</td>\n",
       "      <td>3.0</td>\n",
       "      <td>22.0</td>\n",
       "      <td>0.0</td>\n",
       "      <td>2.0</td>\n",
       "      <td>10.0</td>\n",
       "      <td>1.0</td>\n",
       "      <td>4.0</td>\n",
       "      <td>0.0</td>\n",
       "      <td>0.0</td>\n",
       "      <td>0.0</td>\n",
       "    </tr>\n",
       "    <tr>\n",
       "      <th>3539048</th>\n",
       "      <td>0038911e-79a3-11ef-9b7b-002590c82436</td>\n",
       "      <td>1</td>\n",
       "      <td>-1</td>\n",
       "      <td>996145740</td>\n",
       "      <td>2024-09-25 19:43:31</td>\n",
       "      <td>0</td>\n",
       "      <td>2</td>\n",
       "      <td>0.0</td>\n",
       "      <td>155</td>\n",
       "      <td>155</td>\n",
       "      <td>...</td>\n",
       "      <td>3.0</td>\n",
       "      <td>22.0</td>\n",
       "      <td>0.0</td>\n",
       "      <td>2.0</td>\n",
       "      <td>10.0</td>\n",
       "      <td>1.0</td>\n",
       "      <td>6.0</td>\n",
       "      <td>0.0</td>\n",
       "      <td>0.0</td>\n",
       "      <td>0.0</td>\n",
       "    </tr>\n",
       "    <tr>\n",
       "      <th>3539063</th>\n",
       "      <td>0038911e-79a3-11ef-9b7b-002590c82436</td>\n",
       "      <td>1</td>\n",
       "      <td>-1</td>\n",
       "      <td>996145740</td>\n",
       "      <td>2024-09-25 19:43:34</td>\n",
       "      <td>0</td>\n",
       "      <td>2</td>\n",
       "      <td>0.0</td>\n",
       "      <td>155</td>\n",
       "      <td>155</td>\n",
       "      <td>...</td>\n",
       "      <td>3.0</td>\n",
       "      <td>22.0</td>\n",
       "      <td>0.0</td>\n",
       "      <td>2.0</td>\n",
       "      <td>10.0</td>\n",
       "      <td>1.0</td>\n",
       "      <td>3.0</td>\n",
       "      <td>0.0</td>\n",
       "      <td>0.0</td>\n",
       "      <td>0.0</td>\n",
       "    </tr>\n",
       "    <tr>\n",
       "      <th>3539083</th>\n",
       "      <td>0038911e-79a3-11ef-9b7b-002590c82436</td>\n",
       "      <td>1</td>\n",
       "      <td>-1</td>\n",
       "      <td>996145740</td>\n",
       "      <td>2024-09-25 19:43:39</td>\n",
       "      <td>0</td>\n",
       "      <td>2</td>\n",
       "      <td>0.0</td>\n",
       "      <td>155</td>\n",
       "      <td>155</td>\n",
       "      <td>...</td>\n",
       "      <td>3.0</td>\n",
       "      <td>22.0</td>\n",
       "      <td>0.0</td>\n",
       "      <td>2.0</td>\n",
       "      <td>10.0</td>\n",
       "      <td>1.0</td>\n",
       "      <td>4.0</td>\n",
       "      <td>0.0</td>\n",
       "      <td>0.0</td>\n",
       "      <td>0.0</td>\n",
       "    </tr>\n",
       "  </tbody>\n",
       "</table>\n",
       "<p>94 rows × 24 columns</p>\n",
       "</div>"
      ]
     },
     "execution_count": 62,
     "metadata": {},
     "output_type": "execute_result"
    }
   ],
   "execution_count": 62
  },
  {
   "metadata": {
    "ExecuteTime": {
     "end_time": "2024-10-12T07:08:27.504410Z",
     "start_time": "2024-10-12T07:08:26.488964Z"
    }
   },
   "cell_type": "code",
   "source": [
    "max_date = inters['datetime'].max()\n",
    "train_raw = inters[inters['datetime'] >= max_date - pd.Timedelta(days=22)].copy()\n",
    "train_raw = train_raw[train_raw['datetime'] <= max_date - pd.Timedelta(days=3)]\n",
    "test_raw = inters[inters['datetime'] > max_date - pd.Timedelta(days=3)].copy()"
   ],
   "id": "6133f4fbad1eeab6",
   "outputs": [],
   "execution_count": 63
  },
  {
   "metadata": {
    "ExecuteTime": {
     "end_time": "2024-10-12T07:08:28.609476Z",
     "start_time": "2024-10-12T07:08:28.607190Z"
    }
   },
   "cell_type": "code",
   "source": "",
   "id": "d7459139756b00da",
   "outputs": [],
   "execution_count": null
  },
  {
   "metadata": {
    "ExecuteTime": {
     "end_time": "2024-10-12T07:08:28.857481Z",
     "start_time": "2024-10-12T07:08:28.616458Z"
    }
   },
   "cell_type": "code",
   "source": [
    "train = train_raw.drop(columns=['datetime', 'item_id', 'pageId'])\n",
    "test = test_raw.drop(columns=['datetime', 'item_id', 'pageId'])"
   ],
   "id": "e8dcaf82a3c57b1b",
   "outputs": [],
   "execution_count": 64
  },
  {
   "metadata": {
    "ExecuteTime": {
     "end_time": "2024-10-12T07:08:32.476962Z",
     "start_time": "2024-10-12T07:08:32.437033Z"
    }
   },
   "cell_type": "code",
   "source": "test.sample()",
   "id": "f10f0ad22d9d7654",
   "outputs": [
    {
     "data": {
      "text/plain": [
       "                                      user_id  weight  category_id  \\\n",
       "3818553  b570ea84-1433-11ef-9b7b-002590c82436       1            0   \n",
       "\n",
       "         day_of_week  price_diff  loc_user_count  category_id_count  \\\n",
       "3818553            4         0.0             132                132   \n",
       "\n",
       "         action_0_count  action_1_count  action_2_count  ...  action_4_count  \\\n",
       "3818553             0.0            80.0            39.0  ...             0.0   \n",
       "\n",
       "         action_5_count  action_6_count  action_7_count  action_8_count  \\\n",
       "3818553            13.0             0.0             0.0             0.0   \n",
       "\n",
       "         action_9_count  delta_sec  delta_day  delta_hour  delta_min  \n",
       "3818553             0.0       40.0        0.0         0.0        1.0  \n",
       "\n",
       "[1 rows x 21 columns]"
      ],
      "text/html": [
       "<div>\n",
       "<style scoped>\n",
       "    .dataframe tbody tr th:only-of-type {\n",
       "        vertical-align: middle;\n",
       "    }\n",
       "\n",
       "    .dataframe tbody tr th {\n",
       "        vertical-align: top;\n",
       "    }\n",
       "\n",
       "    .dataframe thead th {\n",
       "        text-align: right;\n",
       "    }\n",
       "</style>\n",
       "<table border=\"1\" class=\"dataframe\">\n",
       "  <thead>\n",
       "    <tr style=\"text-align: right;\">\n",
       "      <th></th>\n",
       "      <th>user_id</th>\n",
       "      <th>weight</th>\n",
       "      <th>category_id</th>\n",
       "      <th>day_of_week</th>\n",
       "      <th>price_diff</th>\n",
       "      <th>loc_user_count</th>\n",
       "      <th>category_id_count</th>\n",
       "      <th>action_0_count</th>\n",
       "      <th>action_1_count</th>\n",
       "      <th>action_2_count</th>\n",
       "      <th>...</th>\n",
       "      <th>action_4_count</th>\n",
       "      <th>action_5_count</th>\n",
       "      <th>action_6_count</th>\n",
       "      <th>action_7_count</th>\n",
       "      <th>action_8_count</th>\n",
       "      <th>action_9_count</th>\n",
       "      <th>delta_sec</th>\n",
       "      <th>delta_day</th>\n",
       "      <th>delta_hour</th>\n",
       "      <th>delta_min</th>\n",
       "    </tr>\n",
       "  </thead>\n",
       "  <tbody>\n",
       "    <tr>\n",
       "      <th>3818553</th>\n",
       "      <td>b570ea84-1433-11ef-9b7b-002590c82436</td>\n",
       "      <td>1</td>\n",
       "      <td>0</td>\n",
       "      <td>4</td>\n",
       "      <td>0.0</td>\n",
       "      <td>132</td>\n",
       "      <td>132</td>\n",
       "      <td>0.0</td>\n",
       "      <td>80.0</td>\n",
       "      <td>39.0</td>\n",
       "      <td>...</td>\n",
       "      <td>0.0</td>\n",
       "      <td>13.0</td>\n",
       "      <td>0.0</td>\n",
       "      <td>0.0</td>\n",
       "      <td>0.0</td>\n",
       "      <td>0.0</td>\n",
       "      <td>40.0</td>\n",
       "      <td>0.0</td>\n",
       "      <td>0.0</td>\n",
       "      <td>1.0</td>\n",
       "    </tr>\n",
       "  </tbody>\n",
       "</table>\n",
       "<p>1 rows × 21 columns</p>\n",
       "</div>"
      ]
     },
     "execution_count": 65,
     "metadata": {},
     "output_type": "execute_result"
    }
   ],
   "execution_count": 65
  },
  {
   "metadata": {
    "ExecuteTime": {
     "end_time": "2024-10-12T07:08:32.516588Z",
     "start_time": "2024-10-12T07:08:32.513883Z"
    }
   },
   "cell_type": "code",
   "source": "train.shape, test.shape",
   "id": "722b5abb87e64ce5",
   "outputs": [
    {
     "data": {
      "text/plain": [
       "((5796546, 21), (1062417, 21))"
      ]
     },
     "execution_count": 66,
     "metadata": {},
     "output_type": "execute_result"
    }
   ],
   "execution_count": 66
  },
  {
   "metadata": {},
   "cell_type": "markdown",
   "source": "### Классы не сбалансированы",
   "id": "88f18be740972951"
  },
  {
   "metadata": {
    "ExecuteTime": {
     "end_time": "2024-10-12T07:08:32.698989Z",
     "start_time": "2024-10-12T07:08:32.678409Z"
    }
   },
   "cell_type": "code",
   "source": "train.weight.value_counts()",
   "id": "d13fdeea693ba952",
   "outputs": [
    {
     "data": {
      "text/plain": [
       "weight\n",
       "1    3554985\n",
       "2     876035\n",
       "5     875680\n",
       "8     314936\n",
       "3      69354\n",
       "7      44249\n",
       "6      26346\n",
       "4      24150\n",
       "9      10478\n",
       "0        333\n",
       "Name: count, dtype: int64"
      ]
     },
     "execution_count": 67,
     "metadata": {},
     "output_type": "execute_result"
    }
   ],
   "execution_count": 67
  },
  {
   "metadata": {
    "ExecuteTime": {
     "end_time": "2024-10-12T07:08:32.866307Z",
     "start_time": "2024-10-12T07:08:32.864252Z"
    }
   },
   "cell_type": "code",
   "source": "",
   "id": "c8169b110162b331",
   "outputs": [],
   "execution_count": null
  },
  {
   "metadata": {},
   "cell_type": "markdown",
   "source": "### Кооректируем баланс классов",
   "id": "bde8dde057ea75de"
  },
  {
   "metadata": {
    "ExecuteTime": {
     "end_time": "2024-10-12T07:08:53.956472Z",
     "start_time": "2024-10-12T07:08:52.466796Z"
    }
   },
   "cell_type": "code",
   "source": [
    "train = train[train.weight.isin([0, 1, 3, 6, 7, 9])].drop_duplicates()\n",
    "train.shape"
   ],
   "id": "82dc937792de5",
   "outputs": [
    {
     "data": {
      "text/plain": [
       "(2539422, 21)"
      ]
     },
     "execution_count": 68,
     "metadata": {},
     "output_type": "execute_result"
    }
   ],
   "execution_count": 68
  },
  {
   "metadata": {
    "ExecuteTime": {
     "end_time": "2024-10-12T07:08:54.442231Z",
     "start_time": "2024-10-12T07:08:54.063979Z"
    }
   },
   "cell_type": "code",
   "source": [
    "train_portion = pd.concat(\n",
    "    [\n",
    "        train[train.weight.isin([0, 1, 3, 6, 7, 9])],\n",
    "        train_raw.sample(130_000)],\n",
    "    axis='rows'\n",
    ")"
   ],
   "id": "2d10066311257c1c",
   "outputs": [],
   "execution_count": 69
  },
  {
   "metadata": {
    "ExecuteTime": {
     "end_time": "2024-10-12T07:08:58.201981Z",
     "start_time": "2024-10-12T07:08:58.192924Z"
    }
   },
   "cell_type": "code",
   "source": "train_portion.weight.unique()",
   "id": "ad2e701c4dbea219",
   "outputs": [
    {
     "data": {
      "text/plain": [
       "array([0, 1, 3, 6, 7, 9, 2, 5, 8, 4])"
      ]
     },
     "execution_count": 70,
     "metadata": {},
     "output_type": "execute_result"
    }
   ],
   "execution_count": 70
  },
  {
   "metadata": {
    "ExecuteTime": {
     "end_time": "2024-10-12T07:08:58.271141Z",
     "start_time": "2024-10-12T07:08:58.269125Z"
    }
   },
   "cell_type": "code",
   "source": "",
   "id": "107e032de0d208b5",
   "outputs": [],
   "execution_count": null
  },
  {
   "metadata": {
    "ExecuteTime": {
     "end_time": "2024-10-12T07:09:04.355567Z",
     "start_time": "2024-10-12T07:08:59.868975Z"
    }
   },
   "cell_type": "code",
   "source": [
    "h2o.init(verbose=False)\n",
    "print(f'{h2o.cluster().show_status()}')\n",
    "h2o.no_progress()"
   ],
   "id": "8bfde335c2f8ef6f",
   "outputs": [
    {
     "data": {
      "text/plain": [
       "--------------------------  -----------------------------\n",
       "H2O_cluster_uptime:         01 secs\n",
       "H2O_cluster_timezone:       Europe/Moscow\n",
       "H2O_data_parsing_timezone:  UTC\n",
       "H2O_cluster_version:        3.46.0.5\n",
       "H2O_cluster_version_age:    1 month and 12 days\n",
       "H2O_cluster_name:           H2O_from_python_varsey_hn8wp8\n",
       "H2O_cluster_total_nodes:    1\n",
       "H2O_cluster_free_memory:    15.62 Gb\n",
       "H2O_cluster_total_cores:    12\n",
       "H2O_cluster_allowed_cores:  12\n",
       "H2O_cluster_status:         locked, healthy\n",
       "H2O_connection_url:         http://127.0.0.1:54321\n",
       "H2O_connection_proxy:       {\"http\": null, \"https\": null}\n",
       "H2O_internal_security:      False\n",
       "Python_version:             3.11.6 final\n",
       "--------------------------  -----------------------------"
      ],
      "text/html": [
       "\n",
       "<style>\n",
       "\n",
       "#h2o-table-1.h2o-container {\n",
       "  overflow-x: auto;\n",
       "}\n",
       "#h2o-table-1 .h2o-table {\n",
       "  /* width: 100%; */\n",
       "  margin-top: 1em;\n",
       "  margin-bottom: 1em;\n",
       "}\n",
       "#h2o-table-1 .h2o-table caption {\n",
       "  white-space: nowrap;\n",
       "  caption-side: top;\n",
       "  text-align: left;\n",
       "  /* margin-left: 1em; */\n",
       "  margin: 0;\n",
       "  font-size: larger;\n",
       "}\n",
       "#h2o-table-1 .h2o-table thead {\n",
       "  white-space: nowrap; \n",
       "  position: sticky;\n",
       "  top: 0;\n",
       "  box-shadow: 0 -1px inset;\n",
       "}\n",
       "#h2o-table-1 .h2o-table tbody {\n",
       "  overflow: auto;\n",
       "}\n",
       "#h2o-table-1 .h2o-table th,\n",
       "#h2o-table-1 .h2o-table td {\n",
       "  text-align: right;\n",
       "  /* border: 1px solid; */\n",
       "}\n",
       "#h2o-table-1 .h2o-table tr:nth-child(even) {\n",
       "  /* background: #F5F5F5 */\n",
       "}\n",
       "\n",
       "</style>      \n",
       "<div id=\"h2o-table-1\" class=\"h2o-container\">\n",
       "  <table class=\"h2o-table\">\n",
       "    <caption></caption>\n",
       "    <thead></thead>\n",
       "    <tbody><tr><td>H2O_cluster_uptime:</td>\n",
       "<td>01 secs</td></tr>\n",
       "<tr><td>H2O_cluster_timezone:</td>\n",
       "<td>Europe/Moscow</td></tr>\n",
       "<tr><td>H2O_data_parsing_timezone:</td>\n",
       "<td>UTC</td></tr>\n",
       "<tr><td>H2O_cluster_version:</td>\n",
       "<td>3.46.0.5</td></tr>\n",
       "<tr><td>H2O_cluster_version_age:</td>\n",
       "<td>1 month and 12 days</td></tr>\n",
       "<tr><td>H2O_cluster_name:</td>\n",
       "<td>H2O_from_python_varsey_hn8wp8</td></tr>\n",
       "<tr><td>H2O_cluster_total_nodes:</td>\n",
       "<td>1</td></tr>\n",
       "<tr><td>H2O_cluster_free_memory:</td>\n",
       "<td>15.62 Gb</td></tr>\n",
       "<tr><td>H2O_cluster_total_cores:</td>\n",
       "<td>12</td></tr>\n",
       "<tr><td>H2O_cluster_allowed_cores:</td>\n",
       "<td>12</td></tr>\n",
       "<tr><td>H2O_cluster_status:</td>\n",
       "<td>locked, healthy</td></tr>\n",
       "<tr><td>H2O_connection_url:</td>\n",
       "<td>http://127.0.0.1:54321</td></tr>\n",
       "<tr><td>H2O_connection_proxy:</td>\n",
       "<td>{\"http\": null, \"https\": null}</td></tr>\n",
       "<tr><td>H2O_internal_security:</td>\n",
       "<td>False</td></tr>\n",
       "<tr><td>Python_version:</td>\n",
       "<td>3.11.6 final</td></tr></tbody>\n",
       "  </table>\n",
       "</div>\n"
      ]
     },
     "metadata": {},
     "output_type": "display_data"
    },
    {
     "name": "stdout",
     "output_type": "stream",
     "text": [
      "None\n"
     ]
    }
   ],
   "execution_count": 71
  },
  {
   "metadata": {
    "ExecuteTime": {
     "end_time": "2024-10-12T07:09:06.009800Z",
     "start_time": "2024-10-12T07:09:05.993370Z"
    }
   },
   "cell_type": "code",
   "source": "train_portion[train_portion.weight == 0]",
   "id": "6900d3c1a291c034",
   "outputs": [
    {
     "data": {
      "text/plain": [
       "                                  user_id  weight  category_id  day_of_week  \\\n",
       "0    5b08b2fc-0e71-11ee-86e0-002590c0647c       0            0            5   \n",
       "1    1af7e04c-6cd1-11ef-9b7b-002590c82436       0            0            5   \n",
       "2    d41cdad4-3b4c-11ef-86e0-002590c0647c       0            0            5   \n",
       "3    59b9d89a-1de2-11eb-86e0-002590c0647c       0            0            5   \n",
       "4    9c087566-8065-11ed-86e0-002590c0647c       0            0            5   \n",
       "..                                    ...     ...          ...          ...   \n",
       "65   4b43b8cc-6c03-11ee-b1da-002590c82437       0            0            2   \n",
       "99   e0ad5878-7143-11ef-9b7b-002590c82436       0            0            3   \n",
       "285  bc95ac9c-1423-11ef-86e0-002590c0647c       0            0            0   \n",
       "266  fc8415f0-dc89-11ed-86e0-002590c0647c       0            0            6   \n",
       "88   ca53f740-dd14-11ed-a1c4-002590c82437       0            0            3   \n",
       "\n",
       "     price_diff  loc_user_count  category_id_count  action_0_count  \\\n",
       "0           0.0             141                141             1.0   \n",
       "1           0.0              91                 91             1.0   \n",
       "2           0.0              85                 85             2.0   \n",
       "3           0.0            8270               8270             2.0   \n",
       "4           0.0             182                182             1.0   \n",
       "..          ...             ...                ...             ...   \n",
       "65          0.0             132                132             1.0   \n",
       "99          0.0              68                 68             1.0   \n",
       "285         0.0            6001               6001             6.0   \n",
       "266         0.0              37                 37             1.0   \n",
       "88          0.0              24                 24             1.0   \n",
       "\n",
       "     action_1_count  action_2_count  ...  action_7_count  action_8_count  \\\n",
       "0             101.0             8.0  ...             1.0             1.0   \n",
       "1              47.0             9.0  ...             2.0             5.0   \n",
       "2              48.0            13.0  ...             2.0             6.0   \n",
       "3            5244.0           250.0  ...           125.0          1729.0   \n",
       "4             118.0            25.0  ...             3.0             8.0   \n",
       "..              ...             ...  ...             ...             ...   \n",
       "65             97.0            19.0  ...             2.0             8.0   \n",
       "99             41.0             7.0  ...             1.0             2.0   \n",
       "285          3545.0           152.0  ...           114.0          1524.0   \n",
       "266            18.0             2.0  ...             0.0             6.0   \n",
       "88             12.0             3.0  ...             0.0             3.0   \n",
       "\n",
       "     action_9_count  delta_sec  delta_day  delta_hour  delta_min  item_id  \\\n",
       "0               0.0       24.0        0.0         0.0        1.0      NaN   \n",
       "1               1.0        6.0        0.0         0.0        1.0      NaN   \n",
       "2               0.0        8.0        0.0         0.0        1.0      NaN   \n",
       "3             112.0        3.0        0.0         0.0        0.0      NaN   \n",
       "4               0.0        9.0        0.0         0.0        0.0      NaN   \n",
       "..              ...        ...        ...         ...        ...      ...   \n",
       "65              0.0        7.0        0.0         0.0        0.0     -1.0   \n",
       "99              0.0        7.0        0.0         0.0        0.0     -1.0   \n",
       "285            89.0        2.0        0.0         0.0        0.0     -1.0   \n",
       "266             0.0       13.0        0.0         0.0        0.0     -1.0   \n",
       "88              0.0       11.0        0.0         0.0        0.0     -1.0   \n",
       "\n",
       "         pageId            datetime  \n",
       "0           NaN                 NaT  \n",
       "1           NaN                 NaT  \n",
       "2           NaN                 NaT  \n",
       "3           NaN                 NaT  \n",
       "4           NaN                 NaT  \n",
       "..          ...                 ...  \n",
       "65   1688766018 2024-09-11 10:48:08  \n",
       "99   1035106084 2024-09-12 20:25:27  \n",
       "285   232532357 2024-09-23 07:50:13  \n",
       "266   125463581 2024-09-22 10:37:17  \n",
       "88   2356418985 2024-09-12 11:49:27  \n",
       "\n",
       "[335 rows x 24 columns]"
      ],
      "text/html": [
       "<div>\n",
       "<style scoped>\n",
       "    .dataframe tbody tr th:only-of-type {\n",
       "        vertical-align: middle;\n",
       "    }\n",
       "\n",
       "    .dataframe tbody tr th {\n",
       "        vertical-align: top;\n",
       "    }\n",
       "\n",
       "    .dataframe thead th {\n",
       "        text-align: right;\n",
       "    }\n",
       "</style>\n",
       "<table border=\"1\" class=\"dataframe\">\n",
       "  <thead>\n",
       "    <tr style=\"text-align: right;\">\n",
       "      <th></th>\n",
       "      <th>user_id</th>\n",
       "      <th>weight</th>\n",
       "      <th>category_id</th>\n",
       "      <th>day_of_week</th>\n",
       "      <th>price_diff</th>\n",
       "      <th>loc_user_count</th>\n",
       "      <th>category_id_count</th>\n",
       "      <th>action_0_count</th>\n",
       "      <th>action_1_count</th>\n",
       "      <th>action_2_count</th>\n",
       "      <th>...</th>\n",
       "      <th>action_7_count</th>\n",
       "      <th>action_8_count</th>\n",
       "      <th>action_9_count</th>\n",
       "      <th>delta_sec</th>\n",
       "      <th>delta_day</th>\n",
       "      <th>delta_hour</th>\n",
       "      <th>delta_min</th>\n",
       "      <th>item_id</th>\n",
       "      <th>pageId</th>\n",
       "      <th>datetime</th>\n",
       "    </tr>\n",
       "  </thead>\n",
       "  <tbody>\n",
       "    <tr>\n",
       "      <th>0</th>\n",
       "      <td>5b08b2fc-0e71-11ee-86e0-002590c0647c</td>\n",
       "      <td>0</td>\n",
       "      <td>0</td>\n",
       "      <td>5</td>\n",
       "      <td>0.0</td>\n",
       "      <td>141</td>\n",
       "      <td>141</td>\n",
       "      <td>1.0</td>\n",
       "      <td>101.0</td>\n",
       "      <td>8.0</td>\n",
       "      <td>...</td>\n",
       "      <td>1.0</td>\n",
       "      <td>1.0</td>\n",
       "      <td>0.0</td>\n",
       "      <td>24.0</td>\n",
       "      <td>0.0</td>\n",
       "      <td>0.0</td>\n",
       "      <td>1.0</td>\n",
       "      <td>NaN</td>\n",
       "      <td>NaN</td>\n",
       "      <td>NaT</td>\n",
       "    </tr>\n",
       "    <tr>\n",
       "      <th>1</th>\n",
       "      <td>1af7e04c-6cd1-11ef-9b7b-002590c82436</td>\n",
       "      <td>0</td>\n",
       "      <td>0</td>\n",
       "      <td>5</td>\n",
       "      <td>0.0</td>\n",
       "      <td>91</td>\n",
       "      <td>91</td>\n",
       "      <td>1.0</td>\n",
       "      <td>47.0</td>\n",
       "      <td>9.0</td>\n",
       "      <td>...</td>\n",
       "      <td>2.0</td>\n",
       "      <td>5.0</td>\n",
       "      <td>1.0</td>\n",
       "      <td>6.0</td>\n",
       "      <td>0.0</td>\n",
       "      <td>0.0</td>\n",
       "      <td>1.0</td>\n",
       "      <td>NaN</td>\n",
       "      <td>NaN</td>\n",
       "      <td>NaT</td>\n",
       "    </tr>\n",
       "    <tr>\n",
       "      <th>2</th>\n",
       "      <td>d41cdad4-3b4c-11ef-86e0-002590c0647c</td>\n",
       "      <td>0</td>\n",
       "      <td>0</td>\n",
       "      <td>5</td>\n",
       "      <td>0.0</td>\n",
       "      <td>85</td>\n",
       "      <td>85</td>\n",
       "      <td>2.0</td>\n",
       "      <td>48.0</td>\n",
       "      <td>13.0</td>\n",
       "      <td>...</td>\n",
       "      <td>2.0</td>\n",
       "      <td>6.0</td>\n",
       "      <td>0.0</td>\n",
       "      <td>8.0</td>\n",
       "      <td>0.0</td>\n",
       "      <td>0.0</td>\n",
       "      <td>1.0</td>\n",
       "      <td>NaN</td>\n",
       "      <td>NaN</td>\n",
       "      <td>NaT</td>\n",
       "    </tr>\n",
       "    <tr>\n",
       "      <th>3</th>\n",
       "      <td>59b9d89a-1de2-11eb-86e0-002590c0647c</td>\n",
       "      <td>0</td>\n",
       "      <td>0</td>\n",
       "      <td>5</td>\n",
       "      <td>0.0</td>\n",
       "      <td>8270</td>\n",
       "      <td>8270</td>\n",
       "      <td>2.0</td>\n",
       "      <td>5244.0</td>\n",
       "      <td>250.0</td>\n",
       "      <td>...</td>\n",
       "      <td>125.0</td>\n",
       "      <td>1729.0</td>\n",
       "      <td>112.0</td>\n",
       "      <td>3.0</td>\n",
       "      <td>0.0</td>\n",
       "      <td>0.0</td>\n",
       "      <td>0.0</td>\n",
       "      <td>NaN</td>\n",
       "      <td>NaN</td>\n",
       "      <td>NaT</td>\n",
       "    </tr>\n",
       "    <tr>\n",
       "      <th>4</th>\n",
       "      <td>9c087566-8065-11ed-86e0-002590c0647c</td>\n",
       "      <td>0</td>\n",
       "      <td>0</td>\n",
       "      <td>5</td>\n",
       "      <td>0.0</td>\n",
       "      <td>182</td>\n",
       "      <td>182</td>\n",
       "      <td>1.0</td>\n",
       "      <td>118.0</td>\n",
       "      <td>25.0</td>\n",
       "      <td>...</td>\n",
       "      <td>3.0</td>\n",
       "      <td>8.0</td>\n",
       "      <td>0.0</td>\n",
       "      <td>9.0</td>\n",
       "      <td>0.0</td>\n",
       "      <td>0.0</td>\n",
       "      <td>0.0</td>\n",
       "      <td>NaN</td>\n",
       "      <td>NaN</td>\n",
       "      <td>NaT</td>\n",
       "    </tr>\n",
       "    <tr>\n",
       "      <th>...</th>\n",
       "      <td>...</td>\n",
       "      <td>...</td>\n",
       "      <td>...</td>\n",
       "      <td>...</td>\n",
       "      <td>...</td>\n",
       "      <td>...</td>\n",
       "      <td>...</td>\n",
       "      <td>...</td>\n",
       "      <td>...</td>\n",
       "      <td>...</td>\n",
       "      <td>...</td>\n",
       "      <td>...</td>\n",
       "      <td>...</td>\n",
       "      <td>...</td>\n",
       "      <td>...</td>\n",
       "      <td>...</td>\n",
       "      <td>...</td>\n",
       "      <td>...</td>\n",
       "      <td>...</td>\n",
       "      <td>...</td>\n",
       "      <td>...</td>\n",
       "    </tr>\n",
       "    <tr>\n",
       "      <th>65</th>\n",
       "      <td>4b43b8cc-6c03-11ee-b1da-002590c82437</td>\n",
       "      <td>0</td>\n",
       "      <td>0</td>\n",
       "      <td>2</td>\n",
       "      <td>0.0</td>\n",
       "      <td>132</td>\n",
       "      <td>132</td>\n",
       "      <td>1.0</td>\n",
       "      <td>97.0</td>\n",
       "      <td>19.0</td>\n",
       "      <td>...</td>\n",
       "      <td>2.0</td>\n",
       "      <td>8.0</td>\n",
       "      <td>0.0</td>\n",
       "      <td>7.0</td>\n",
       "      <td>0.0</td>\n",
       "      <td>0.0</td>\n",
       "      <td>0.0</td>\n",
       "      <td>-1.0</td>\n",
       "      <td>1688766018</td>\n",
       "      <td>2024-09-11 10:48:08</td>\n",
       "    </tr>\n",
       "    <tr>\n",
       "      <th>99</th>\n",
       "      <td>e0ad5878-7143-11ef-9b7b-002590c82436</td>\n",
       "      <td>0</td>\n",
       "      <td>0</td>\n",
       "      <td>3</td>\n",
       "      <td>0.0</td>\n",
       "      <td>68</td>\n",
       "      <td>68</td>\n",
       "      <td>1.0</td>\n",
       "      <td>41.0</td>\n",
       "      <td>7.0</td>\n",
       "      <td>...</td>\n",
       "      <td>1.0</td>\n",
       "      <td>2.0</td>\n",
       "      <td>0.0</td>\n",
       "      <td>7.0</td>\n",
       "      <td>0.0</td>\n",
       "      <td>0.0</td>\n",
       "      <td>0.0</td>\n",
       "      <td>-1.0</td>\n",
       "      <td>1035106084</td>\n",
       "      <td>2024-09-12 20:25:27</td>\n",
       "    </tr>\n",
       "    <tr>\n",
       "      <th>285</th>\n",
       "      <td>bc95ac9c-1423-11ef-86e0-002590c0647c</td>\n",
       "      <td>0</td>\n",
       "      <td>0</td>\n",
       "      <td>0</td>\n",
       "      <td>0.0</td>\n",
       "      <td>6001</td>\n",
       "      <td>6001</td>\n",
       "      <td>6.0</td>\n",
       "      <td>3545.0</td>\n",
       "      <td>152.0</td>\n",
       "      <td>...</td>\n",
       "      <td>114.0</td>\n",
       "      <td>1524.0</td>\n",
       "      <td>89.0</td>\n",
       "      <td>2.0</td>\n",
       "      <td>0.0</td>\n",
       "      <td>0.0</td>\n",
       "      <td>0.0</td>\n",
       "      <td>-1.0</td>\n",
       "      <td>232532357</td>\n",
       "      <td>2024-09-23 07:50:13</td>\n",
       "    </tr>\n",
       "    <tr>\n",
       "      <th>266</th>\n",
       "      <td>fc8415f0-dc89-11ed-86e0-002590c0647c</td>\n",
       "      <td>0</td>\n",
       "      <td>0</td>\n",
       "      <td>6</td>\n",
       "      <td>0.0</td>\n",
       "      <td>37</td>\n",
       "      <td>37</td>\n",
       "      <td>1.0</td>\n",
       "      <td>18.0</td>\n",
       "      <td>2.0</td>\n",
       "      <td>...</td>\n",
       "      <td>0.0</td>\n",
       "      <td>6.0</td>\n",
       "      <td>0.0</td>\n",
       "      <td>13.0</td>\n",
       "      <td>0.0</td>\n",
       "      <td>0.0</td>\n",
       "      <td>0.0</td>\n",
       "      <td>-1.0</td>\n",
       "      <td>125463581</td>\n",
       "      <td>2024-09-22 10:37:17</td>\n",
       "    </tr>\n",
       "    <tr>\n",
       "      <th>88</th>\n",
       "      <td>ca53f740-dd14-11ed-a1c4-002590c82437</td>\n",
       "      <td>0</td>\n",
       "      <td>0</td>\n",
       "      <td>3</td>\n",
       "      <td>0.0</td>\n",
       "      <td>24</td>\n",
       "      <td>24</td>\n",
       "      <td>1.0</td>\n",
       "      <td>12.0</td>\n",
       "      <td>3.0</td>\n",
       "      <td>...</td>\n",
       "      <td>0.0</td>\n",
       "      <td>3.0</td>\n",
       "      <td>0.0</td>\n",
       "      <td>11.0</td>\n",
       "      <td>0.0</td>\n",
       "      <td>0.0</td>\n",
       "      <td>0.0</td>\n",
       "      <td>-1.0</td>\n",
       "      <td>2356418985</td>\n",
       "      <td>2024-09-12 11:49:27</td>\n",
       "    </tr>\n",
       "  </tbody>\n",
       "</table>\n",
       "<p>335 rows × 24 columns</p>\n",
       "</div>"
      ]
     },
     "execution_count": 72,
     "metadata": {},
     "output_type": "execute_result"
    }
   ],
   "execution_count": 72
  },
  {
   "metadata": {
    "ExecuteTime": {
     "end_time": "2024-10-12T07:09:26.530938Z",
     "start_time": "2024-10-12T07:09:07.837779Z"
    }
   },
   "cell_type": "code",
   "source": [
    "train_h2o = h2o.H2OFrame(train_portion)\n",
    "test_h2o = h2o.H2OFrame(test.sample(40_000))"
   ],
   "id": "40e3b6f6a7f48db9",
   "outputs": [],
   "execution_count": 73
  },
  {
   "metadata": {
    "ExecuteTime": {
     "end_time": "2024-10-12T07:09:26.559653Z",
     "start_time": "2024-10-12T07:09:26.557150Z"
    }
   },
   "cell_type": "code",
   "source": [
    "y = \"weight\"\n",
    "x = set(train_h2o.names) - set([y, 'user_id', 'shop_id', 'day', 'hour', 'pageId', 'datetime', 'item_id', 'is_useful'])\n",
    "x"
   ],
   "id": "c73df6245888fc01",
   "outputs": [
    {
     "data": {
      "text/plain": [
       "{'action_0_count',\n",
       " 'action_1_count',\n",
       " 'action_2_count',\n",
       " 'action_3_count',\n",
       " 'action_4_count',\n",
       " 'action_5_count',\n",
       " 'action_6_count',\n",
       " 'action_7_count',\n",
       " 'action_8_count',\n",
       " 'action_9_count',\n",
       " 'category_id',\n",
       " 'category_id_count',\n",
       " 'day_of_week',\n",
       " 'delta_day',\n",
       " 'delta_hour',\n",
       " 'delta_min',\n",
       " 'delta_sec',\n",
       " 'loc_user_count',\n",
       " 'price_diff'}"
      ]
     },
     "execution_count": 74,
     "metadata": {},
     "output_type": "execute_result"
    }
   ],
   "execution_count": 74
  },
  {
   "metadata": {
    "ExecuteTime": {
     "end_time": "2024-10-12T07:09:26.627382Z",
     "start_time": "2024-10-12T07:09:26.623952Z"
    }
   },
   "cell_type": "code",
   "source": [
    "train_h2o[y] = train_h2o[y].asfactor()\n",
    "test_h2o[y] = test_h2o[y].asfactor()"
   ],
   "id": "7fa7d7231c5b1a55",
   "outputs": [],
   "execution_count": 75
  },
  {
   "metadata": {
    "ExecuteTime": {
     "end_time": "2024-10-12T07:09:26.714319Z",
     "start_time": "2024-10-12T07:09:26.711843Z"
    }
   },
   "cell_type": "code",
   "source": [
    "train_h2o['category_id'] = train_h2o['category_id'].asfactor()\n",
    "test_h2o['category_id'] = test_h2o['category_id'].asfactor()"
   ],
   "id": "632976a09523b6a5",
   "outputs": [],
   "execution_count": 76
  },
  {
   "metadata": {},
   "cell_type": "markdown",
   "source": "### для снижения уровня рутины и фокусировки на цели - качесвтенных предсказаниях - используем automl",
   "id": "9339c35bb05f3d21"
  },
  {
   "metadata": {
    "ExecuteTime": {
     "end_time": "2024-10-12T07:11:30.897794Z",
     "start_time": "2024-10-12T07:09:28.244811Z"
    }
   },
   "cell_type": "code",
   "source": [
    "gbm_model = H2OGradientBoostingEstimator(seed=1234)\n",
    "gbm_model.train(x=list(x), y=y, training_frame = train_h2o,  validation_frame = test_h2o, max_runtime_secs=120)"
   ],
   "id": "3be5fd2b53fb9838",
   "outputs": [
    {
     "data": {
      "text/plain": [
       "Model Details\n",
       "=============\n",
       "H2OGradientBoostingEstimator : Gradient Boosting Machine\n",
       "Model Key: GBM_model_python_1728716941453_1\n",
       "\n",
       "\n",
       "Model Summary: \n",
       "    number_of_trees    number_of_internal_trees    model_size_in_bytes    min_depth    max_depth    mean_depth    min_leaves    max_leaves    mean_leaves\n",
       "--  -----------------  --------------------------  ---------------------  -----------  -----------  ------------  ------------  ------------  -------------\n",
       "    48                 480                         252775                 5            5            5             10            32            31.2812\n",
       "\n",
       "ModelMetricsMultinomial: gbm\n",
       "** Reported on train data. **\n",
       "\n",
       "MSE: 0.029543659407818845\n",
       "RMSE: 0.17188269083249438\n",
       "LogLoss: 0.12175061744661662\n",
       "Mean Per-Class Error: 0.6290542947023585\n",
       "AUC table was not computed: it is either disabled (model parameter 'auc_type' was set to AUTO or NONE) or the domain size exceeds the limit (maximum is 50 domains).\n",
       "AUCPR table was not computed: it is either disabled (model parameter 'auc_type' was set to AUTO or NONE) or the domain size exceeds the limit (maximum is 50 domains).\n",
       "\n",
       "Confusion Matrix: Row labels: Actual class; Column labels: Predicted class\n",
       "0    1            2    3    4    5      6      7      8     9     Error        Rate\n",
       "---  -----------  ---  ---  ---  -----  -----  -----  ----  ----  -----------  ------------------\n",
       "0    335          0    0    0    0      0      0      0     0     1            335 / 335\n",
       "0    2.51171e+06  9    0    0    0      0      0      0     0     3.58321e-06  9 / 2,511,717\n",
       "0    19579        1    0    0    0      0      0      0     0     0.999949     19,579 / 19,580\n",
       "0    31268        0    0    0    0      0      0      0     0     1            31,268 / 31,268\n",
       "0    46           0    0    14   13     64     365    45    10    0.974865     543 / 557\n",
       "0    1634         0    1    0    13318  1171   2949   106   216   0.313328     6,077 / 19,395\n",
       "0    2472         0    0    1    471    19906  3138   129   105   0.240866     6,316 / 26,222\n",
       "0    2600         0    2    2    426    4041   34601  336   1773  0.20968      9,180 / 43,781\n",
       "0    510          0    0    0    242    744    4259   1106  284   0.845206     6,039 / 7,145\n",
       "0    518          0    0    0    41     994    5045   60    2764  0.706644     6,658 / 9,422\n",
       "0    2.57067e+06  10   3    17   14511  26920  50357  1782  5152  0.0322182    86,004 / 2,669,422\n",
       "\n",
       "Top-10 Hit Ratios: \n",
       "k    hit_ratio\n",
       "---  -----------\n",
       "1    0.967782\n",
       "2    0.992282\n",
       "3    0.997405\n",
       "4    0.999041\n",
       "5    0.999669\n",
       "6    0.999886\n",
       "7    0.999965\n",
       "8    0.999992\n",
       "9    1\n",
       "10   1\n",
       "\n",
       "ModelMetricsMultinomial: gbm\n",
       "** Reported on validation data. **\n",
       "\n",
       "MSE: 0.24480418199374612\n",
       "RMSE: 0.49477690123301643\n",
       "LogLoss: 1.0587212203441272\n",
       "Mean Per-Class Error: 0.6690918348544056\n",
       "AUC table was not computed: it is either disabled (model parameter 'auc_type' was set to AUTO or NONE) or the domain size exceeds the limit (maximum is 50 domains).\n",
       "AUCPR table was not computed: it is either disabled (model parameter 'auc_type' was set to AUTO or NONE) or the domain size exceeds the limit (maximum is 50 domains).\n",
       "\n",
       "Confusion Matrix: Row labels: Actual class; Column labels: Predicted class\n",
       "0    1      2    3    4    5     6    7     8    9    Error        Rate\n",
       "---  -----  ---  ---  ---  ----  ---  ----  ---  ---  -----------  ---------------\n",
       "0    1      0    0    0    0     0    0     0    0    1            1 / 1\n",
       "0    24655  0    0    0    0     1    0     0    0    4.05581e-05  1 / 24,656\n",
       "0    6263   0    0    0    0     0    0     0    0    1            6,263 / 6,263\n",
       "0    482    0    0    0    0     0    0     0    0    1            482 / 482\n",
       "0    6      0    0    0    2     22   61    9    1    1            101 / 101\n",
       "0    893    0    0    1    4091  456  787   23   55   0.351253     2,215 / 6,306\n",
       "0    95     0    0    0    1     179  21    0    2    0.399329     119 / 298\n",
       "0    12     0    0    0    3     42   195   1    7    0.25         65 / 260\n",
       "0    72     0    0    0    68    275  937   181  54   0.885948     1,406 / 1,587\n",
       "0    4      0    0    0    0     5    28    0    9    0.804348     37 / 46\n",
       "0    32483  0    0    1    4165  980  2029  214  128  0.26725      10,690 / 40,000\n",
       "\n",
       "Top-10 Hit Ratios: \n",
       "k    hit_ratio\n",
       "---  -----------\n",
       "1    0.73275\n",
       "2    0.899725\n",
       "3    0.96705\n",
       "4    0.987375\n",
       "5    0.994925\n",
       "6    0.99785\n",
       "7    0.9994\n",
       "8    0.99995\n",
       "9    1\n",
       "10   1\n",
       "\n",
       "Scoring History: \n",
       "     timestamp            duration          number_of_trees    training_rmse        training_logloss     training_classification_error    training_auc    training_pr_auc    validation_rmse      validation_logloss    validation_classification_error    validation_auc    validation_pr_auc\n",
       "---  -------------------  ----------------  -----------------  -------------------  -------------------  -------------------------------  --------------  -----------------  -------------------  --------------------  ---------------------------------  ----------------  -------------------\n",
       "     2024-10-12 10:09:28  0.055 sec         0.0                0.9000000000002056   2.3025850929937466   0.11463193155671902              nan             nan                0.9000000000002254   2.302585092994214     0.425925                           nan               nan\n",
       "     2024-10-12 10:09:33  4.100 sec         1.0                0.7782773339033333   1.515037115395808    0.034394337051241806             nan             nan                0.8155188844273028   1.7522177761814535    0.2917                             nan               nan\n",
       "     2024-10-12 10:09:39  10.690 sec        3.0                0.6093403412101005   0.9582738474334248   0.03424861262100934              nan             nan                0.7062928495535262   1.3831565343369423    0.29195                            nan               nan\n",
       "     2024-10-12 10:09:44  15.861 sec        5.0                0.47778309659790014  0.6706354074368427   0.03402347024936484              nan             nan                0.6312687430759981   1.2146701238358624    0.290575                           nan               nan\n",
       "     2024-10-12 10:09:50  21.454 sec        7.0                0.377997246733839    0.49328950175498654  0.033957912986406796             nan             nan                0.5820973486898723   1.1257000581535594    0.290425                           nan               nan\n",
       "     2024-10-12 10:09:55  26.313 sec        9.0                0.30610697520330316  0.3773530316395997   0.03393805850105379              nan             nan                0.551671119449403    1.0796151968522458    0.2901                             nan               nan\n",
       "     2024-10-12 10:10:00  31.267 sec        11.0               0.25732407203087204  0.30003913508837593  0.03388411423896259              nan             nan                0.5346229120517383   1.0649880745111864    0.289475                           nan               nan\n",
       "     2024-10-12 10:10:05  36.227 sec        13.0               0.22586010757684663  0.24748920281388467  0.03383653839670161              nan             nan                0.5247217707798626   1.0633208636878826    0.289225                           nan               nan\n",
       "     2024-10-12 10:10:10  41.167 sec        15.0               0.2065492476485636   0.21167497543895042  0.03379121023202776              nan             nan                0.5193614301224319   1.0715535944283756    0.288375                           nan               nan\n",
       "     2024-10-12 10:10:14  46.037 sec        17.0               0.19490686725651138  0.18694807703036478  0.03369943006388649              nan             nan                0.5162294368560636   1.0820637509014515    0.287475                           nan               nan\n",
       "---  ---                  ---               ---                ---                  ---                  ---                              ---             ---                ---                  ---                   ---                                ---               ---\n",
       "     2024-10-12 10:10:49  1 min 20.463 sec  31.0               0.17513239874193348  0.13094088175548632  0.032846811032500665             nan             nan                0.5011589052165918   1.0902407797643938    0.275                              nan               nan\n",
       "     2024-10-12 10:10:54  1 min 25.327 sec  33.0               0.17456618517487485  0.12895582231683123  0.03275877699367129              nan             nan                0.5005027676465948   1.0883769171632427    0.2742                             nan               nan\n",
       "     2024-10-12 10:10:59  1 min 30.160 sec  35.0               0.17392405148080534  0.12723384257734816  0.03261979559620023              nan             nan                0.4992512851387065   1.082367003531566     0.27225                            nan               nan\n",
       "     2024-10-12 10:11:03  1 min 35.028 sec  37.0               0.17359662554101796  0.12589799258883339  0.032578588173769456             nan             nan                0.4986673832604601   1.0778110947044899    0.27165                            nan               nan\n",
       "     2024-10-12 10:11:08  1 min 39.858 sec  39.0               0.17326542734816958  0.1249024431657353   0.032538129977201055             nan             nan                0.4981801451487109   1.0752232170707459    0.27125                            nan               nan\n",
       "     2024-10-12 10:11:13  1 min 44.707 sec  41.0               0.1728141037410955   0.123939653906959    0.032408888515940905             nan             nan                0.496746154233378    1.0700100922410807    0.2689                             nan               nan\n",
       "     2024-10-12 10:11:18  1 min 49.580 sec  43.0               0.1725316837730931   0.12320224399235766  0.03235307118919377              nan             nan                0.49649156492281715  1.0675568464547125    0.26875                            nan               nan\n",
       "     2024-10-12 10:11:23  1 min 54.402 sec  45.0               0.17233836785954096  0.12261718991661522  0.03233771205901502              nan             nan                0.4962000469885474   1.0650554193634592    0.268625                           nan               nan\n",
       "     2024-10-12 10:11:28  1 min 59.099 sec  47.0               0.1719568319337448   0.12198279039377492  0.0322376904063876               nan             nan                0.4949601784943075   1.0600839128926263    0.26735                            nan               nan\n",
       "     2024-10-12 10:11:30  2 min  1.606 sec  48.0               0.17188269083249438  0.12175061744661662  0.03221821053396578              nan             nan                0.49477690123301643  1.0587212203441272    0.26725                            nan               nan\n",
       "[26 rows x 14 columns]\n",
       "\n",
       "\n",
       "Variable Importances: \n",
       "variable           relative_importance    scaled_importance    percentage\n",
       "-----------------  ---------------------  -------------------  ------------\n",
       "category_id        477982                 1                    0.736269\n",
       "action_6_count     52158.5                0.109122             0.0803434\n",
       "action_7_count     41741.1                0.0873278            0.0642967\n",
       "action_3_count     15199.4                0.031799             0.0234126\n",
       "delta_min          14706.2                0.0307672            0.0226529\n",
       "action_1_count     9858.97                0.0206262            0.0151864\n",
       "action_8_count     9232.32                0.0193152            0.0142212\n",
       "delta_sec          8876                   0.0185697            0.0136723\n",
       "action_9_count     8277.31                0.0173172            0.0127501\n",
       "loc_user_count     5855.48                0.0122504            0.00901961\n",
       "price_diff         1487.99                0.00311307           0.00229206\n",
       "action_5_count     1421.43                0.00297381           0.00218952\n",
       "action_2_count     1228.03                0.0025692            0.00189162\n",
       "action_4_count     721.967                0.00151045           0.0011121\n",
       "day_of_week        216.024                0.00045195           0.000332757\n",
       "action_0_count     91.1003                0.000190593          0.000140328\n",
       "category_id_count  63.2077                0.000132239          9.73632e-05\n",
       "delta_hour         57.1537                0.000119573          8.80378e-05\n",
       "delta_day          20.6767                4.32583e-05          3.18497e-05\n",
       "\n",
       "[tips]\n",
       "Use `model.explain()` to inspect the model.\n",
       "--\n",
       "Use `h2o.display.toggle_user_tips()` to switch on/off this section."
      ],
      "text/html": [
       "<pre style='margin: 1em 0 1em 0;'>Model Details\n",
       "=============\n",
       "H2OGradientBoostingEstimator : Gradient Boosting Machine\n",
       "Model Key: GBM_model_python_1728716941453_1\n",
       "</pre>\n",
       "<div style='margin: 1em 0 1em 0;'>\n",
       "<style>\n",
       "\n",
       "#h2o-table-2.h2o-container {\n",
       "  overflow-x: auto;\n",
       "}\n",
       "#h2o-table-2 .h2o-table {\n",
       "  /* width: 100%; */\n",
       "  margin-top: 1em;\n",
       "  margin-bottom: 1em;\n",
       "}\n",
       "#h2o-table-2 .h2o-table caption {\n",
       "  white-space: nowrap;\n",
       "  caption-side: top;\n",
       "  text-align: left;\n",
       "  /* margin-left: 1em; */\n",
       "  margin: 0;\n",
       "  font-size: larger;\n",
       "}\n",
       "#h2o-table-2 .h2o-table thead {\n",
       "  white-space: nowrap; \n",
       "  position: sticky;\n",
       "  top: 0;\n",
       "  box-shadow: 0 -1px inset;\n",
       "}\n",
       "#h2o-table-2 .h2o-table tbody {\n",
       "  overflow: auto;\n",
       "}\n",
       "#h2o-table-2 .h2o-table th,\n",
       "#h2o-table-2 .h2o-table td {\n",
       "  text-align: right;\n",
       "  /* border: 1px solid; */\n",
       "}\n",
       "#h2o-table-2 .h2o-table tr:nth-child(even) {\n",
       "  /* background: #F5F5F5 */\n",
       "}\n",
       "\n",
       "</style>      \n",
       "<div id=\"h2o-table-2\" class=\"h2o-container\">\n",
       "  <table class=\"h2o-table\">\n",
       "    <caption>Model Summary: </caption>\n",
       "    <thead><tr><th></th>\n",
       "<th>number_of_trees</th>\n",
       "<th>number_of_internal_trees</th>\n",
       "<th>model_size_in_bytes</th>\n",
       "<th>min_depth</th>\n",
       "<th>max_depth</th>\n",
       "<th>mean_depth</th>\n",
       "<th>min_leaves</th>\n",
       "<th>max_leaves</th>\n",
       "<th>mean_leaves</th></tr></thead>\n",
       "    <tbody><tr><td></td>\n",
       "<td>48.0</td>\n",
       "<td>480.0</td>\n",
       "<td>252775.0</td>\n",
       "<td>5.0</td>\n",
       "<td>5.0</td>\n",
       "<td>5.0</td>\n",
       "<td>10.0</td>\n",
       "<td>32.0</td>\n",
       "<td>31.28125</td></tr></tbody>\n",
       "  </table>\n",
       "</div>\n",
       "</div>\n",
       "<div style='margin: 1em 0 1em 0;'><pre style='margin: 1em 0 1em 0;'>ModelMetricsMultinomial: gbm\n",
       "** Reported on train data. **\n",
       "\n",
       "MSE: 0.029543659407818845\n",
       "RMSE: 0.17188269083249438\n",
       "LogLoss: 0.12175061744661662\n",
       "Mean Per-Class Error: 0.6290542947023585\n",
       "AUC table was not computed: it is either disabled (model parameter 'auc_type' was set to AUTO or NONE) or the domain size exceeds the limit (maximum is 50 domains).\n",
       "AUCPR table was not computed: it is either disabled (model parameter 'auc_type' was set to AUTO or NONE) or the domain size exceeds the limit (maximum is 50 domains).</pre>\n",
       "<div style='margin: 1em 0 1em 0;'>\n",
       "<style>\n",
       "\n",
       "#h2o-table-3.h2o-container {\n",
       "  overflow-x: auto;\n",
       "}\n",
       "#h2o-table-3 .h2o-table {\n",
       "  /* width: 100%; */\n",
       "  margin-top: 1em;\n",
       "  margin-bottom: 1em;\n",
       "}\n",
       "#h2o-table-3 .h2o-table caption {\n",
       "  white-space: nowrap;\n",
       "  caption-side: top;\n",
       "  text-align: left;\n",
       "  /* margin-left: 1em; */\n",
       "  margin: 0;\n",
       "  font-size: larger;\n",
       "}\n",
       "#h2o-table-3 .h2o-table thead {\n",
       "  white-space: nowrap; \n",
       "  position: sticky;\n",
       "  top: 0;\n",
       "  box-shadow: 0 -1px inset;\n",
       "}\n",
       "#h2o-table-3 .h2o-table tbody {\n",
       "  overflow: auto;\n",
       "}\n",
       "#h2o-table-3 .h2o-table th,\n",
       "#h2o-table-3 .h2o-table td {\n",
       "  text-align: right;\n",
       "  /* border: 1px solid; */\n",
       "}\n",
       "#h2o-table-3 .h2o-table tr:nth-child(even) {\n",
       "  /* background: #F5F5F5 */\n",
       "}\n",
       "\n",
       "</style>      \n",
       "<div id=\"h2o-table-3\" class=\"h2o-container\">\n",
       "  <table class=\"h2o-table\">\n",
       "    <caption>Confusion Matrix: Row labels: Actual class; Column labels: Predicted class</caption>\n",
       "    <thead><tr><th>0</th>\n",
       "<th>1</th>\n",
       "<th>2</th>\n",
       "<th>3</th>\n",
       "<th>4</th>\n",
       "<th>5</th>\n",
       "<th>6</th>\n",
       "<th>7</th>\n",
       "<th>8</th>\n",
       "<th>9</th>\n",
       "<th>Error</th>\n",
       "<th>Rate</th></tr></thead>\n",
       "    <tbody><tr><td>0.0</td>\n",
       "<td>335.0</td>\n",
       "<td>0.0</td>\n",
       "<td>0.0</td>\n",
       "<td>0.0</td>\n",
       "<td>0.0</td>\n",
       "<td>0.0</td>\n",
       "<td>0.0</td>\n",
       "<td>0.0</td>\n",
       "<td>0.0</td>\n",
       "<td>1.0</td>\n",
       "<td>335 / 335</td></tr>\n",
       "<tr><td>0.0</td>\n",
       "<td>2511708.0</td>\n",
       "<td>9.0</td>\n",
       "<td>0.0</td>\n",
       "<td>0.0</td>\n",
       "<td>0.0</td>\n",
       "<td>0.0</td>\n",
       "<td>0.0</td>\n",
       "<td>0.0</td>\n",
       "<td>0.0</td>\n",
       "<td>0.0000036</td>\n",
       "<td>9 / 2,511,717</td></tr>\n",
       "<tr><td>0.0</td>\n",
       "<td>19579.0</td>\n",
       "<td>1.0</td>\n",
       "<td>0.0</td>\n",
       "<td>0.0</td>\n",
       "<td>0.0</td>\n",
       "<td>0.0</td>\n",
       "<td>0.0</td>\n",
       "<td>0.0</td>\n",
       "<td>0.0</td>\n",
       "<td>0.9999489</td>\n",
       "<td>19,579 / 19,580</td></tr>\n",
       "<tr><td>0.0</td>\n",
       "<td>31268.0</td>\n",
       "<td>0.0</td>\n",
       "<td>0.0</td>\n",
       "<td>0.0</td>\n",
       "<td>0.0</td>\n",
       "<td>0.0</td>\n",
       "<td>0.0</td>\n",
       "<td>0.0</td>\n",
       "<td>0.0</td>\n",
       "<td>1.0</td>\n",
       "<td>31,268 / 31,268</td></tr>\n",
       "<tr><td>0.0</td>\n",
       "<td>46.0</td>\n",
       "<td>0.0</td>\n",
       "<td>0.0</td>\n",
       "<td>14.0</td>\n",
       "<td>13.0</td>\n",
       "<td>64.0</td>\n",
       "<td>365.0</td>\n",
       "<td>45.0</td>\n",
       "<td>10.0</td>\n",
       "<td>0.9748654</td>\n",
       "<td>543 / 557</td></tr>\n",
       "<tr><td>0.0</td>\n",
       "<td>1634.0</td>\n",
       "<td>0.0</td>\n",
       "<td>1.0</td>\n",
       "<td>0.0</td>\n",
       "<td>13318.0</td>\n",
       "<td>1171.0</td>\n",
       "<td>2949.0</td>\n",
       "<td>106.0</td>\n",
       "<td>216.0</td>\n",
       "<td>0.3133282</td>\n",
       "<td>6,077 / 19,395</td></tr>\n",
       "<tr><td>0.0</td>\n",
       "<td>2472.0</td>\n",
       "<td>0.0</td>\n",
       "<td>0.0</td>\n",
       "<td>1.0</td>\n",
       "<td>471.0</td>\n",
       "<td>19906.0</td>\n",
       "<td>3138.0</td>\n",
       "<td>129.0</td>\n",
       "<td>105.0</td>\n",
       "<td>0.2408664</td>\n",
       "<td>6,316 / 26,222</td></tr>\n",
       "<tr><td>0.0</td>\n",
       "<td>2600.0</td>\n",
       "<td>0.0</td>\n",
       "<td>2.0</td>\n",
       "<td>2.0</td>\n",
       "<td>426.0</td>\n",
       "<td>4041.0</td>\n",
       "<td>34601.0</td>\n",
       "<td>336.0</td>\n",
       "<td>1773.0</td>\n",
       "<td>0.2096800</td>\n",
       "<td>9,180 / 43,781</td></tr>\n",
       "<tr><td>0.0</td>\n",
       "<td>510.0</td>\n",
       "<td>0.0</td>\n",
       "<td>0.0</td>\n",
       "<td>0.0</td>\n",
       "<td>242.0</td>\n",
       "<td>744.0</td>\n",
       "<td>4259.0</td>\n",
       "<td>1106.0</td>\n",
       "<td>284.0</td>\n",
       "<td>0.8452064</td>\n",
       "<td>6,039 / 7,145</td></tr>\n",
       "<tr><td>0.0</td>\n",
       "<td>518.0</td>\n",
       "<td>0.0</td>\n",
       "<td>0.0</td>\n",
       "<td>0.0</td>\n",
       "<td>41.0</td>\n",
       "<td>994.0</td>\n",
       "<td>5045.0</td>\n",
       "<td>60.0</td>\n",
       "<td>2764.0</td>\n",
       "<td>0.7066440</td>\n",
       "<td>6,658 / 9,422</td></tr>\n",
       "<tr><td>0.0</td>\n",
       "<td>2570670.0</td>\n",
       "<td>10.0</td>\n",
       "<td>3.0</td>\n",
       "<td>17.0</td>\n",
       "<td>14511.0</td>\n",
       "<td>26920.0</td>\n",
       "<td>50357.0</td>\n",
       "<td>1782.0</td>\n",
       "<td>5152.0</td>\n",
       "<td>0.0322182</td>\n",
       "<td>86,004 / 2,669,422</td></tr></tbody>\n",
       "  </table>\n",
       "</div>\n",
       "</div>\n",
       "<div style='margin: 1em 0 1em 0;'>\n",
       "<style>\n",
       "\n",
       "#h2o-table-4.h2o-container {\n",
       "  overflow-x: auto;\n",
       "}\n",
       "#h2o-table-4 .h2o-table {\n",
       "  /* width: 100%; */\n",
       "  margin-top: 1em;\n",
       "  margin-bottom: 1em;\n",
       "}\n",
       "#h2o-table-4 .h2o-table caption {\n",
       "  white-space: nowrap;\n",
       "  caption-side: top;\n",
       "  text-align: left;\n",
       "  /* margin-left: 1em; */\n",
       "  margin: 0;\n",
       "  font-size: larger;\n",
       "}\n",
       "#h2o-table-4 .h2o-table thead {\n",
       "  white-space: nowrap; \n",
       "  position: sticky;\n",
       "  top: 0;\n",
       "  box-shadow: 0 -1px inset;\n",
       "}\n",
       "#h2o-table-4 .h2o-table tbody {\n",
       "  overflow: auto;\n",
       "}\n",
       "#h2o-table-4 .h2o-table th,\n",
       "#h2o-table-4 .h2o-table td {\n",
       "  text-align: right;\n",
       "  /* border: 1px solid; */\n",
       "}\n",
       "#h2o-table-4 .h2o-table tr:nth-child(even) {\n",
       "  /* background: #F5F5F5 */\n",
       "}\n",
       "\n",
       "</style>      \n",
       "<div id=\"h2o-table-4\" class=\"h2o-container\">\n",
       "  <table class=\"h2o-table\">\n",
       "    <caption>Top-10 Hit Ratios: </caption>\n",
       "    <thead><tr><th>k</th>\n",
       "<th>hit_ratio</th></tr></thead>\n",
       "    <tbody><tr><td>1</td>\n",
       "<td>0.9677818</td></tr>\n",
       "<tr><td>2</td>\n",
       "<td>0.9922815</td></tr>\n",
       "<tr><td>3</td>\n",
       "<td>0.9974055</td></tr>\n",
       "<tr><td>4</td>\n",
       "<td>0.9990414</td></tr>\n",
       "<tr><td>5</td>\n",
       "<td>0.9996692</td></tr>\n",
       "<tr><td>6</td>\n",
       "<td>0.9998858</td></tr>\n",
       "<tr><td>7</td>\n",
       "<td>0.9999645</td></tr>\n",
       "<tr><td>8</td>\n",
       "<td>0.9999918</td></tr>\n",
       "<tr><td>9</td>\n",
       "<td>1.0000001</td></tr>\n",
       "<tr><td>10</td>\n",
       "<td>1.0000001</td></tr></tbody>\n",
       "  </table>\n",
       "</div>\n",
       "</div></div>\n",
       "<div style='margin: 1em 0 1em 0;'><pre style='margin: 1em 0 1em 0;'>ModelMetricsMultinomial: gbm\n",
       "** Reported on validation data. **\n",
       "\n",
       "MSE: 0.24480418199374612\n",
       "RMSE: 0.49477690123301643\n",
       "LogLoss: 1.0587212203441272\n",
       "Mean Per-Class Error: 0.6690918348544056\n",
       "AUC table was not computed: it is either disabled (model parameter 'auc_type' was set to AUTO or NONE) or the domain size exceeds the limit (maximum is 50 domains).\n",
       "AUCPR table was not computed: it is either disabled (model parameter 'auc_type' was set to AUTO or NONE) or the domain size exceeds the limit (maximum is 50 domains).</pre>\n",
       "<div style='margin: 1em 0 1em 0;'>\n",
       "<style>\n",
       "\n",
       "#h2o-table-5.h2o-container {\n",
       "  overflow-x: auto;\n",
       "}\n",
       "#h2o-table-5 .h2o-table {\n",
       "  /* width: 100%; */\n",
       "  margin-top: 1em;\n",
       "  margin-bottom: 1em;\n",
       "}\n",
       "#h2o-table-5 .h2o-table caption {\n",
       "  white-space: nowrap;\n",
       "  caption-side: top;\n",
       "  text-align: left;\n",
       "  /* margin-left: 1em; */\n",
       "  margin: 0;\n",
       "  font-size: larger;\n",
       "}\n",
       "#h2o-table-5 .h2o-table thead {\n",
       "  white-space: nowrap; \n",
       "  position: sticky;\n",
       "  top: 0;\n",
       "  box-shadow: 0 -1px inset;\n",
       "}\n",
       "#h2o-table-5 .h2o-table tbody {\n",
       "  overflow: auto;\n",
       "}\n",
       "#h2o-table-5 .h2o-table th,\n",
       "#h2o-table-5 .h2o-table td {\n",
       "  text-align: right;\n",
       "  /* border: 1px solid; */\n",
       "}\n",
       "#h2o-table-5 .h2o-table tr:nth-child(even) {\n",
       "  /* background: #F5F5F5 */\n",
       "}\n",
       "\n",
       "</style>      \n",
       "<div id=\"h2o-table-5\" class=\"h2o-container\">\n",
       "  <table class=\"h2o-table\">\n",
       "    <caption>Confusion Matrix: Row labels: Actual class; Column labels: Predicted class</caption>\n",
       "    <thead><tr><th>0</th>\n",
       "<th>1</th>\n",
       "<th>2</th>\n",
       "<th>3</th>\n",
       "<th>4</th>\n",
       "<th>5</th>\n",
       "<th>6</th>\n",
       "<th>7</th>\n",
       "<th>8</th>\n",
       "<th>9</th>\n",
       "<th>Error</th>\n",
       "<th>Rate</th></tr></thead>\n",
       "    <tbody><tr><td>0.0</td>\n",
       "<td>1.0</td>\n",
       "<td>0.0</td>\n",
       "<td>0.0</td>\n",
       "<td>0.0</td>\n",
       "<td>0.0</td>\n",
       "<td>0.0</td>\n",
       "<td>0.0</td>\n",
       "<td>0.0</td>\n",
       "<td>0.0</td>\n",
       "<td>1.0</td>\n",
       "<td>1 / 1</td></tr>\n",
       "<tr><td>0.0</td>\n",
       "<td>24655.0</td>\n",
       "<td>0.0</td>\n",
       "<td>0.0</td>\n",
       "<td>0.0</td>\n",
       "<td>0.0</td>\n",
       "<td>1.0</td>\n",
       "<td>0.0</td>\n",
       "<td>0.0</td>\n",
       "<td>0.0</td>\n",
       "<td>0.0000406</td>\n",
       "<td>1 / 24,656</td></tr>\n",
       "<tr><td>0.0</td>\n",
       "<td>6263.0</td>\n",
       "<td>0.0</td>\n",
       "<td>0.0</td>\n",
       "<td>0.0</td>\n",
       "<td>0.0</td>\n",
       "<td>0.0</td>\n",
       "<td>0.0</td>\n",
       "<td>0.0</td>\n",
       "<td>0.0</td>\n",
       "<td>1.0</td>\n",
       "<td>6,263 / 6,263</td></tr>\n",
       "<tr><td>0.0</td>\n",
       "<td>482.0</td>\n",
       "<td>0.0</td>\n",
       "<td>0.0</td>\n",
       "<td>0.0</td>\n",
       "<td>0.0</td>\n",
       "<td>0.0</td>\n",
       "<td>0.0</td>\n",
       "<td>0.0</td>\n",
       "<td>0.0</td>\n",
       "<td>1.0</td>\n",
       "<td>482 / 482</td></tr>\n",
       "<tr><td>0.0</td>\n",
       "<td>6.0</td>\n",
       "<td>0.0</td>\n",
       "<td>0.0</td>\n",
       "<td>0.0</td>\n",
       "<td>2.0</td>\n",
       "<td>22.0</td>\n",
       "<td>61.0</td>\n",
       "<td>9.0</td>\n",
       "<td>1.0</td>\n",
       "<td>1.0</td>\n",
       "<td>101 / 101</td></tr>\n",
       "<tr><td>0.0</td>\n",
       "<td>893.0</td>\n",
       "<td>0.0</td>\n",
       "<td>0.0</td>\n",
       "<td>1.0</td>\n",
       "<td>4091.0</td>\n",
       "<td>456.0</td>\n",
       "<td>787.0</td>\n",
       "<td>23.0</td>\n",
       "<td>55.0</td>\n",
       "<td>0.3512528</td>\n",
       "<td>2,215 / 6,306</td></tr>\n",
       "<tr><td>0.0</td>\n",
       "<td>95.0</td>\n",
       "<td>0.0</td>\n",
       "<td>0.0</td>\n",
       "<td>0.0</td>\n",
       "<td>1.0</td>\n",
       "<td>179.0</td>\n",
       "<td>21.0</td>\n",
       "<td>0.0</td>\n",
       "<td>2.0</td>\n",
       "<td>0.3993289</td>\n",
       "<td>119 / 298</td></tr>\n",
       "<tr><td>0.0</td>\n",
       "<td>12.0</td>\n",
       "<td>0.0</td>\n",
       "<td>0.0</td>\n",
       "<td>0.0</td>\n",
       "<td>3.0</td>\n",
       "<td>42.0</td>\n",
       "<td>195.0</td>\n",
       "<td>1.0</td>\n",
       "<td>7.0</td>\n",
       "<td>0.25</td>\n",
       "<td>65 / 260</td></tr>\n",
       "<tr><td>0.0</td>\n",
       "<td>72.0</td>\n",
       "<td>0.0</td>\n",
       "<td>0.0</td>\n",
       "<td>0.0</td>\n",
       "<td>68.0</td>\n",
       "<td>275.0</td>\n",
       "<td>937.0</td>\n",
       "<td>181.0</td>\n",
       "<td>54.0</td>\n",
       "<td>0.8859483</td>\n",
       "<td>1,406 / 1,587</td></tr>\n",
       "<tr><td>0.0</td>\n",
       "<td>4.0</td>\n",
       "<td>0.0</td>\n",
       "<td>0.0</td>\n",
       "<td>0.0</td>\n",
       "<td>0.0</td>\n",
       "<td>5.0</td>\n",
       "<td>28.0</td>\n",
       "<td>0.0</td>\n",
       "<td>9.0</td>\n",
       "<td>0.8043478</td>\n",
       "<td>37 / 46</td></tr>\n",
       "<tr><td>0.0</td>\n",
       "<td>32483.0</td>\n",
       "<td>0.0</td>\n",
       "<td>0.0</td>\n",
       "<td>1.0</td>\n",
       "<td>4165.0</td>\n",
       "<td>980.0</td>\n",
       "<td>2029.0</td>\n",
       "<td>214.0</td>\n",
       "<td>128.0</td>\n",
       "<td>0.26725</td>\n",
       "<td>10,690 / 40,000</td></tr></tbody>\n",
       "  </table>\n",
       "</div>\n",
       "</div>\n",
       "<div style='margin: 1em 0 1em 0;'>\n",
       "<style>\n",
       "\n",
       "#h2o-table-6.h2o-container {\n",
       "  overflow-x: auto;\n",
       "}\n",
       "#h2o-table-6 .h2o-table {\n",
       "  /* width: 100%; */\n",
       "  margin-top: 1em;\n",
       "  margin-bottom: 1em;\n",
       "}\n",
       "#h2o-table-6 .h2o-table caption {\n",
       "  white-space: nowrap;\n",
       "  caption-side: top;\n",
       "  text-align: left;\n",
       "  /* margin-left: 1em; */\n",
       "  margin: 0;\n",
       "  font-size: larger;\n",
       "}\n",
       "#h2o-table-6 .h2o-table thead {\n",
       "  white-space: nowrap; \n",
       "  position: sticky;\n",
       "  top: 0;\n",
       "  box-shadow: 0 -1px inset;\n",
       "}\n",
       "#h2o-table-6 .h2o-table tbody {\n",
       "  overflow: auto;\n",
       "}\n",
       "#h2o-table-6 .h2o-table th,\n",
       "#h2o-table-6 .h2o-table td {\n",
       "  text-align: right;\n",
       "  /* border: 1px solid; */\n",
       "}\n",
       "#h2o-table-6 .h2o-table tr:nth-child(even) {\n",
       "  /* background: #F5F5F5 */\n",
       "}\n",
       "\n",
       "</style>      \n",
       "<div id=\"h2o-table-6\" class=\"h2o-container\">\n",
       "  <table class=\"h2o-table\">\n",
       "    <caption>Top-10 Hit Ratios: </caption>\n",
       "    <thead><tr><th>k</th>\n",
       "<th>hit_ratio</th></tr></thead>\n",
       "    <tbody><tr><td>1</td>\n",
       "<td>0.73275</td></tr>\n",
       "<tr><td>2</td>\n",
       "<td>0.899725</td></tr>\n",
       "<tr><td>3</td>\n",
       "<td>0.96705</td></tr>\n",
       "<tr><td>4</td>\n",
       "<td>0.987375</td></tr>\n",
       "<tr><td>5</td>\n",
       "<td>0.994925</td></tr>\n",
       "<tr><td>6</td>\n",
       "<td>0.99785</td></tr>\n",
       "<tr><td>7</td>\n",
       "<td>0.9994</td></tr>\n",
       "<tr><td>8</td>\n",
       "<td>0.99995</td></tr>\n",
       "<tr><td>9</td>\n",
       "<td>1.0</td></tr>\n",
       "<tr><td>10</td>\n",
       "<td>1.0</td></tr></tbody>\n",
       "  </table>\n",
       "</div>\n",
       "</div></div>\n",
       "<div style='margin: 1em 0 1em 0;'>\n",
       "<style>\n",
       "\n",
       "#h2o-table-7.h2o-container {\n",
       "  overflow-x: auto;\n",
       "}\n",
       "#h2o-table-7 .h2o-table {\n",
       "  /* width: 100%; */\n",
       "  margin-top: 1em;\n",
       "  margin-bottom: 1em;\n",
       "}\n",
       "#h2o-table-7 .h2o-table caption {\n",
       "  white-space: nowrap;\n",
       "  caption-side: top;\n",
       "  text-align: left;\n",
       "  /* margin-left: 1em; */\n",
       "  margin: 0;\n",
       "  font-size: larger;\n",
       "}\n",
       "#h2o-table-7 .h2o-table thead {\n",
       "  white-space: nowrap; \n",
       "  position: sticky;\n",
       "  top: 0;\n",
       "  box-shadow: 0 -1px inset;\n",
       "}\n",
       "#h2o-table-7 .h2o-table tbody {\n",
       "  overflow: auto;\n",
       "}\n",
       "#h2o-table-7 .h2o-table th,\n",
       "#h2o-table-7 .h2o-table td {\n",
       "  text-align: right;\n",
       "  /* border: 1px solid; */\n",
       "}\n",
       "#h2o-table-7 .h2o-table tr:nth-child(even) {\n",
       "  /* background: #F5F5F5 */\n",
       "}\n",
       "\n",
       "</style>      \n",
       "<div id=\"h2o-table-7\" class=\"h2o-container\">\n",
       "  <table class=\"h2o-table\">\n",
       "    <caption>Scoring History: </caption>\n",
       "    <thead><tr><th></th>\n",
       "<th>timestamp</th>\n",
       "<th>duration</th>\n",
       "<th>number_of_trees</th>\n",
       "<th>training_rmse</th>\n",
       "<th>training_logloss</th>\n",
       "<th>training_classification_error</th>\n",
       "<th>training_auc</th>\n",
       "<th>training_pr_auc</th>\n",
       "<th>validation_rmse</th>\n",
       "<th>validation_logloss</th>\n",
       "<th>validation_classification_error</th>\n",
       "<th>validation_auc</th>\n",
       "<th>validation_pr_auc</th></tr></thead>\n",
       "    <tbody><tr><td></td>\n",
       "<td>2024-10-12 10:09:28</td>\n",
       "<td> 0.055 sec</td>\n",
       "<td>0.0</td>\n",
       "<td>0.9000000</td>\n",
       "<td>2.3025851</td>\n",
       "<td>0.1146319</td>\n",
       "<td>nan</td>\n",
       "<td>nan</td>\n",
       "<td>0.9000000</td>\n",
       "<td>2.3025851</td>\n",
       "<td>0.425925</td>\n",
       "<td>nan</td>\n",
       "<td>nan</td></tr>\n",
       "<tr><td></td>\n",
       "<td>2024-10-12 10:09:33</td>\n",
       "<td> 4.100 sec</td>\n",
       "<td>1.0</td>\n",
       "<td>0.7782773</td>\n",
       "<td>1.5150371</td>\n",
       "<td>0.0343943</td>\n",
       "<td>nan</td>\n",
       "<td>nan</td>\n",
       "<td>0.8155189</td>\n",
       "<td>1.7522178</td>\n",
       "<td>0.2917</td>\n",
       "<td>nan</td>\n",
       "<td>nan</td></tr>\n",
       "<tr><td></td>\n",
       "<td>2024-10-12 10:09:39</td>\n",
       "<td>10.690 sec</td>\n",
       "<td>3.0</td>\n",
       "<td>0.6093403</td>\n",
       "<td>0.9582738</td>\n",
       "<td>0.0342486</td>\n",
       "<td>nan</td>\n",
       "<td>nan</td>\n",
       "<td>0.7062928</td>\n",
       "<td>1.3831565</td>\n",
       "<td>0.29195</td>\n",
       "<td>nan</td>\n",
       "<td>nan</td></tr>\n",
       "<tr><td></td>\n",
       "<td>2024-10-12 10:09:44</td>\n",
       "<td>15.861 sec</td>\n",
       "<td>5.0</td>\n",
       "<td>0.4777831</td>\n",
       "<td>0.6706354</td>\n",
       "<td>0.0340235</td>\n",
       "<td>nan</td>\n",
       "<td>nan</td>\n",
       "<td>0.6312687</td>\n",
       "<td>1.2146701</td>\n",
       "<td>0.290575</td>\n",
       "<td>nan</td>\n",
       "<td>nan</td></tr>\n",
       "<tr><td></td>\n",
       "<td>2024-10-12 10:09:50</td>\n",
       "<td>21.454 sec</td>\n",
       "<td>7.0</td>\n",
       "<td>0.3779972</td>\n",
       "<td>0.4932895</td>\n",
       "<td>0.0339579</td>\n",
       "<td>nan</td>\n",
       "<td>nan</td>\n",
       "<td>0.5820973</td>\n",
       "<td>1.1257001</td>\n",
       "<td>0.290425</td>\n",
       "<td>nan</td>\n",
       "<td>nan</td></tr>\n",
       "<tr><td></td>\n",
       "<td>2024-10-12 10:09:55</td>\n",
       "<td>26.313 sec</td>\n",
       "<td>9.0</td>\n",
       "<td>0.3061070</td>\n",
       "<td>0.3773530</td>\n",
       "<td>0.0339381</td>\n",
       "<td>nan</td>\n",
       "<td>nan</td>\n",
       "<td>0.5516711</td>\n",
       "<td>1.0796152</td>\n",
       "<td>0.2901</td>\n",
       "<td>nan</td>\n",
       "<td>nan</td></tr>\n",
       "<tr><td></td>\n",
       "<td>2024-10-12 10:10:00</td>\n",
       "<td>31.267 sec</td>\n",
       "<td>11.0</td>\n",
       "<td>0.2573241</td>\n",
       "<td>0.3000391</td>\n",
       "<td>0.0338841</td>\n",
       "<td>nan</td>\n",
       "<td>nan</td>\n",
       "<td>0.5346229</td>\n",
       "<td>1.0649881</td>\n",
       "<td>0.289475</td>\n",
       "<td>nan</td>\n",
       "<td>nan</td></tr>\n",
       "<tr><td></td>\n",
       "<td>2024-10-12 10:10:05</td>\n",
       "<td>36.227 sec</td>\n",
       "<td>13.0</td>\n",
       "<td>0.2258601</td>\n",
       "<td>0.2474892</td>\n",
       "<td>0.0338365</td>\n",
       "<td>nan</td>\n",
       "<td>nan</td>\n",
       "<td>0.5247218</td>\n",
       "<td>1.0633209</td>\n",
       "<td>0.289225</td>\n",
       "<td>nan</td>\n",
       "<td>nan</td></tr>\n",
       "<tr><td></td>\n",
       "<td>2024-10-12 10:10:10</td>\n",
       "<td>41.167 sec</td>\n",
       "<td>15.0</td>\n",
       "<td>0.2065492</td>\n",
       "<td>0.2116750</td>\n",
       "<td>0.0337912</td>\n",
       "<td>nan</td>\n",
       "<td>nan</td>\n",
       "<td>0.5193614</td>\n",
       "<td>1.0715536</td>\n",
       "<td>0.288375</td>\n",
       "<td>nan</td>\n",
       "<td>nan</td></tr>\n",
       "<tr><td></td>\n",
       "<td>2024-10-12 10:10:14</td>\n",
       "<td>46.037 sec</td>\n",
       "<td>17.0</td>\n",
       "<td>0.1949069</td>\n",
       "<td>0.1869481</td>\n",
       "<td>0.0336994</td>\n",
       "<td>nan</td>\n",
       "<td>nan</td>\n",
       "<td>0.5162294</td>\n",
       "<td>1.0820638</td>\n",
       "<td>0.287475</td>\n",
       "<td>nan</td>\n",
       "<td>nan</td></tr>\n",
       "<tr><td>---</td>\n",
       "<td>---</td>\n",
       "<td>---</td>\n",
       "<td>---</td>\n",
       "<td>---</td>\n",
       "<td>---</td>\n",
       "<td>---</td>\n",
       "<td>---</td>\n",
       "<td>---</td>\n",
       "<td>---</td>\n",
       "<td>---</td>\n",
       "<td>---</td>\n",
       "<td>---</td>\n",
       "<td>---</td></tr>\n",
       "<tr><td></td>\n",
       "<td>2024-10-12 10:10:49</td>\n",
       "<td> 1 min 20.463 sec</td>\n",
       "<td>31.0</td>\n",
       "<td>0.1751324</td>\n",
       "<td>0.1309409</td>\n",
       "<td>0.0328468</td>\n",
       "<td>nan</td>\n",
       "<td>nan</td>\n",
       "<td>0.5011589</td>\n",
       "<td>1.0902408</td>\n",
       "<td>0.275</td>\n",
       "<td>nan</td>\n",
       "<td>nan</td></tr>\n",
       "<tr><td></td>\n",
       "<td>2024-10-12 10:10:54</td>\n",
       "<td> 1 min 25.327 sec</td>\n",
       "<td>33.0</td>\n",
       "<td>0.1745662</td>\n",
       "<td>0.1289558</td>\n",
       "<td>0.0327588</td>\n",
       "<td>nan</td>\n",
       "<td>nan</td>\n",
       "<td>0.5005028</td>\n",
       "<td>1.0883769</td>\n",
       "<td>0.2742</td>\n",
       "<td>nan</td>\n",
       "<td>nan</td></tr>\n",
       "<tr><td></td>\n",
       "<td>2024-10-12 10:10:59</td>\n",
       "<td> 1 min 30.160 sec</td>\n",
       "<td>35.0</td>\n",
       "<td>0.1739241</td>\n",
       "<td>0.1272338</td>\n",
       "<td>0.0326198</td>\n",
       "<td>nan</td>\n",
       "<td>nan</td>\n",
       "<td>0.4992513</td>\n",
       "<td>1.0823670</td>\n",
       "<td>0.27225</td>\n",
       "<td>nan</td>\n",
       "<td>nan</td></tr>\n",
       "<tr><td></td>\n",
       "<td>2024-10-12 10:11:03</td>\n",
       "<td> 1 min 35.028 sec</td>\n",
       "<td>37.0</td>\n",
       "<td>0.1735966</td>\n",
       "<td>0.1258980</td>\n",
       "<td>0.0325786</td>\n",
       "<td>nan</td>\n",
       "<td>nan</td>\n",
       "<td>0.4986674</td>\n",
       "<td>1.0778111</td>\n",
       "<td>0.27165</td>\n",
       "<td>nan</td>\n",
       "<td>nan</td></tr>\n",
       "<tr><td></td>\n",
       "<td>2024-10-12 10:11:08</td>\n",
       "<td> 1 min 39.858 sec</td>\n",
       "<td>39.0</td>\n",
       "<td>0.1732654</td>\n",
       "<td>0.1249024</td>\n",
       "<td>0.0325381</td>\n",
       "<td>nan</td>\n",
       "<td>nan</td>\n",
       "<td>0.4981801</td>\n",
       "<td>1.0752232</td>\n",
       "<td>0.27125</td>\n",
       "<td>nan</td>\n",
       "<td>nan</td></tr>\n",
       "<tr><td></td>\n",
       "<td>2024-10-12 10:11:13</td>\n",
       "<td> 1 min 44.707 sec</td>\n",
       "<td>41.0</td>\n",
       "<td>0.1728141</td>\n",
       "<td>0.1239397</td>\n",
       "<td>0.0324089</td>\n",
       "<td>nan</td>\n",
       "<td>nan</td>\n",
       "<td>0.4967462</td>\n",
       "<td>1.0700101</td>\n",
       "<td>0.2689</td>\n",
       "<td>nan</td>\n",
       "<td>nan</td></tr>\n",
       "<tr><td></td>\n",
       "<td>2024-10-12 10:11:18</td>\n",
       "<td> 1 min 49.580 sec</td>\n",
       "<td>43.0</td>\n",
       "<td>0.1725317</td>\n",
       "<td>0.1232022</td>\n",
       "<td>0.0323531</td>\n",
       "<td>nan</td>\n",
       "<td>nan</td>\n",
       "<td>0.4964916</td>\n",
       "<td>1.0675568</td>\n",
       "<td>0.26875</td>\n",
       "<td>nan</td>\n",
       "<td>nan</td></tr>\n",
       "<tr><td></td>\n",
       "<td>2024-10-12 10:11:23</td>\n",
       "<td> 1 min 54.402 sec</td>\n",
       "<td>45.0</td>\n",
       "<td>0.1723384</td>\n",
       "<td>0.1226172</td>\n",
       "<td>0.0323377</td>\n",
       "<td>nan</td>\n",
       "<td>nan</td>\n",
       "<td>0.4962000</td>\n",
       "<td>1.0650554</td>\n",
       "<td>0.268625</td>\n",
       "<td>nan</td>\n",
       "<td>nan</td></tr>\n",
       "<tr><td></td>\n",
       "<td>2024-10-12 10:11:28</td>\n",
       "<td> 1 min 59.099 sec</td>\n",
       "<td>47.0</td>\n",
       "<td>0.1719568</td>\n",
       "<td>0.1219828</td>\n",
       "<td>0.0322377</td>\n",
       "<td>nan</td>\n",
       "<td>nan</td>\n",
       "<td>0.4949602</td>\n",
       "<td>1.0600839</td>\n",
       "<td>0.26735</td>\n",
       "<td>nan</td>\n",
       "<td>nan</td></tr>\n",
       "<tr><td></td>\n",
       "<td>2024-10-12 10:11:30</td>\n",
       "<td> 2 min  1.606 sec</td>\n",
       "<td>48.0</td>\n",
       "<td>0.1718827</td>\n",
       "<td>0.1217506</td>\n",
       "<td>0.0322182</td>\n",
       "<td>nan</td>\n",
       "<td>nan</td>\n",
       "<td>0.4947769</td>\n",
       "<td>1.0587212</td>\n",
       "<td>0.26725</td>\n",
       "<td>nan</td>\n",
       "<td>nan</td></tr></tbody>\n",
       "  </table>\n",
       "</div>\n",
       "<pre style='font-size: smaller; margin-bottom: 1em;'>[26 rows x 14 columns]</pre></div>\n",
       "<div style='margin: 1em 0 1em 0;'>\n",
       "<style>\n",
       "\n",
       "#h2o-table-8.h2o-container {\n",
       "  overflow-x: auto;\n",
       "}\n",
       "#h2o-table-8 .h2o-table {\n",
       "  /* width: 100%; */\n",
       "  margin-top: 1em;\n",
       "  margin-bottom: 1em;\n",
       "}\n",
       "#h2o-table-8 .h2o-table caption {\n",
       "  white-space: nowrap;\n",
       "  caption-side: top;\n",
       "  text-align: left;\n",
       "  /* margin-left: 1em; */\n",
       "  margin: 0;\n",
       "  font-size: larger;\n",
       "}\n",
       "#h2o-table-8 .h2o-table thead {\n",
       "  white-space: nowrap; \n",
       "  position: sticky;\n",
       "  top: 0;\n",
       "  box-shadow: 0 -1px inset;\n",
       "}\n",
       "#h2o-table-8 .h2o-table tbody {\n",
       "  overflow: auto;\n",
       "}\n",
       "#h2o-table-8 .h2o-table th,\n",
       "#h2o-table-8 .h2o-table td {\n",
       "  text-align: right;\n",
       "  /* border: 1px solid; */\n",
       "}\n",
       "#h2o-table-8 .h2o-table tr:nth-child(even) {\n",
       "  /* background: #F5F5F5 */\n",
       "}\n",
       "\n",
       "</style>      \n",
       "<div id=\"h2o-table-8\" class=\"h2o-container\">\n",
       "  <table class=\"h2o-table\">\n",
       "    <caption>Variable Importances: </caption>\n",
       "    <thead><tr><th>variable</th>\n",
       "<th>relative_importance</th>\n",
       "<th>scaled_importance</th>\n",
       "<th>percentage</th></tr></thead>\n",
       "    <tbody><tr><td>category_id</td>\n",
       "<td>477982.2187500</td>\n",
       "<td>1.0</td>\n",
       "<td>0.7362690</td></tr>\n",
       "<tr><td>action_6_count</td>\n",
       "<td>52158.5429688</td>\n",
       "<td>0.1091224</td>\n",
       "<td>0.0803434</td></tr>\n",
       "<tr><td>action_7_count</td>\n",
       "<td>41741.1132812</td>\n",
       "<td>0.0873278</td>\n",
       "<td>0.0642967</td></tr>\n",
       "<tr><td>action_3_count</td>\n",
       "<td>15199.3730469</td>\n",
       "<td>0.0317990</td>\n",
       "<td>0.0234126</td></tr>\n",
       "<tr><td>delta_min</td>\n",
       "<td>14706.1748047</td>\n",
       "<td>0.0307672</td>\n",
       "<td>0.0226529</td></tr>\n",
       "<tr><td>action_1_count</td>\n",
       "<td>9858.9677734</td>\n",
       "<td>0.0206262</td>\n",
       "<td>0.0151864</td></tr>\n",
       "<tr><td>action_8_count</td>\n",
       "<td>9232.3203125</td>\n",
       "<td>0.0193152</td>\n",
       "<td>0.0142212</td></tr>\n",
       "<tr><td>delta_sec</td>\n",
       "<td>8876.0048828</td>\n",
       "<td>0.0185697</td>\n",
       "<td>0.0136723</td></tr>\n",
       "<tr><td>action_9_count</td>\n",
       "<td>8277.3144531</td>\n",
       "<td>0.0173172</td>\n",
       "<td>0.0127501</td></tr>\n",
       "<tr><td>loc_user_count</td>\n",
       "<td>5855.4848633</td>\n",
       "<td>0.0122504</td>\n",
       "<td>0.0090196</td></tr>\n",
       "<tr><td>price_diff</td>\n",
       "<td>1487.9909668</td>\n",
       "<td>0.0031131</td>\n",
       "<td>0.0022921</td></tr>\n",
       "<tr><td>action_5_count</td>\n",
       "<td>1421.4261475</td>\n",
       "<td>0.0029738</td>\n",
       "<td>0.0021895</td></tr>\n",
       "<tr><td>action_2_count</td>\n",
       "<td>1228.0310059</td>\n",
       "<td>0.0025692</td>\n",
       "<td>0.0018916</td></tr>\n",
       "<tr><td>action_4_count</td>\n",
       "<td>721.9671631</td>\n",
       "<td>0.0015104</td>\n",
       "<td>0.0011121</td></tr>\n",
       "<tr><td>day_of_week</td>\n",
       "<td>216.0238953</td>\n",
       "<td>0.0004519</td>\n",
       "<td>0.0003328</td></tr>\n",
       "<tr><td>action_0_count</td>\n",
       "<td>91.1002808</td>\n",
       "<td>0.0001906</td>\n",
       "<td>0.0001403</td></tr>\n",
       "<tr><td>category_id_count</td>\n",
       "<td>63.2076912</td>\n",
       "<td>0.0001322</td>\n",
       "<td>0.0000974</td></tr>\n",
       "<tr><td>delta_hour</td>\n",
       "<td>57.1537209</td>\n",
       "<td>0.0001196</td>\n",
       "<td>0.0000880</td></tr>\n",
       "<tr><td>delta_day</td>\n",
       "<td>20.6766758</td>\n",
       "<td>0.0000433</td>\n",
       "<td>0.0000318</td></tr></tbody>\n",
       "  </table>\n",
       "</div>\n",
       "</div><pre style=\"font-size: smaller; margin: 1em 0 0 0;\">\n",
       "\n",
       "[tips]\n",
       "Use `model.explain()` to inspect the model.\n",
       "--\n",
       "Use `h2o.display.toggle_user_tips()` to switch on/off this section.</pre>"
      ]
     },
     "execution_count": 77,
     "metadata": {},
     "output_type": "execute_result"
    }
   ],
   "execution_count": 77
  },
  {
   "metadata": {
    "ExecuteTime": {
     "end_time": "2024-10-12T07:18:48.301421Z",
     "start_time": "2024-10-12T07:18:48.299708Z"
    }
   },
   "cell_type": "code",
   "source": "",
   "id": "25b2e7ebc47bafe4",
   "outputs": [],
   "execution_count": null
  },
  {
   "metadata": {
    "ExecuteTime": {
     "end_time": "2024-10-12T07:11:36.207369Z",
     "start_time": "2024-10-12T07:11:33.985080Z"
    }
   },
   "cell_type": "code",
   "source": "gbm_model.model_performance(test_h2o)",
   "id": "df542bafe3b785fb",
   "outputs": [
    {
     "data": {
      "text/plain": [
       "ModelMetricsMultinomial: gbm\n",
       "** Reported on test data. **\n",
       "\n",
       "MSE: 0.24480418199374612\n",
       "RMSE: 0.49477690123301643\n",
       "LogLoss: 1.0587212203441272\n",
       "Mean Per-Class Error: 0.6690918348544056\n",
       "AUC table was not computed: it is either disabled (model parameter 'auc_type' was set to AUTO or NONE) or the domain size exceeds the limit (maximum is 50 domains).\n",
       "AUCPR table was not computed: it is either disabled (model parameter 'auc_type' was set to AUTO or NONE) or the domain size exceeds the limit (maximum is 50 domains).\n",
       "\n",
       "Confusion Matrix: Row labels: Actual class; Column labels: Predicted class\n",
       "0    1      2    3    4    5     6    7     8    9    Error        Rate\n",
       "---  -----  ---  ---  ---  ----  ---  ----  ---  ---  -----------  ---------------\n",
       "0    1      0    0    0    0     0    0     0    0    1            1 / 1\n",
       "0    24655  0    0    0    0     1    0     0    0    4.05581e-05  1 / 24,656\n",
       "0    6263   0    0    0    0     0    0     0    0    1            6,263 / 6,263\n",
       "0    482    0    0    0    0     0    0     0    0    1            482 / 482\n",
       "0    6      0    0    0    2     22   61    9    1    1            101 / 101\n",
       "0    893    0    0    1    4091  456  787   23   55   0.351253     2,215 / 6,306\n",
       "0    95     0    0    0    1     179  21    0    2    0.399329     119 / 298\n",
       "0    12     0    0    0    3     42   195   1    7    0.25         65 / 260\n",
       "0    72     0    0    0    68    275  937   181  54   0.885948     1,406 / 1,587\n",
       "0    4      0    0    0    0     5    28    0    9    0.804348     37 / 46\n",
       "0    32483  0    0    1    4165  980  2029  214  128  0.26725      10,690 / 40,000\n",
       "\n",
       "Top-10 Hit Ratios: \n",
       "k    hit_ratio\n",
       "---  -----------\n",
       "1    0.73275\n",
       "2    0.899725\n",
       "3    0.96705\n",
       "4    0.987375\n",
       "5    0.994925\n",
       "6    0.99785\n",
       "7    0.9994\n",
       "8    0.99995\n",
       "9    1\n",
       "10   1"
      ],
      "text/html": [
       "<pre style='margin: 1em 0 1em 0;'>ModelMetricsMultinomial: gbm\n",
       "** Reported on test data. **\n",
       "\n",
       "MSE: 0.24480418199374612\n",
       "RMSE: 0.49477690123301643\n",
       "LogLoss: 1.0587212203441272\n",
       "Mean Per-Class Error: 0.6690918348544056\n",
       "AUC table was not computed: it is either disabled (model parameter 'auc_type' was set to AUTO or NONE) or the domain size exceeds the limit (maximum is 50 domains).\n",
       "AUCPR table was not computed: it is either disabled (model parameter 'auc_type' was set to AUTO or NONE) or the domain size exceeds the limit (maximum is 50 domains).</pre>\n",
       "<div style='margin: 1em 0 1em 0;'>\n",
       "<style>\n",
       "\n",
       "#h2o-table-9.h2o-container {\n",
       "  overflow-x: auto;\n",
       "}\n",
       "#h2o-table-9 .h2o-table {\n",
       "  /* width: 100%; */\n",
       "  margin-top: 1em;\n",
       "  margin-bottom: 1em;\n",
       "}\n",
       "#h2o-table-9 .h2o-table caption {\n",
       "  white-space: nowrap;\n",
       "  caption-side: top;\n",
       "  text-align: left;\n",
       "  /* margin-left: 1em; */\n",
       "  margin: 0;\n",
       "  font-size: larger;\n",
       "}\n",
       "#h2o-table-9 .h2o-table thead {\n",
       "  white-space: nowrap; \n",
       "  position: sticky;\n",
       "  top: 0;\n",
       "  box-shadow: 0 -1px inset;\n",
       "}\n",
       "#h2o-table-9 .h2o-table tbody {\n",
       "  overflow: auto;\n",
       "}\n",
       "#h2o-table-9 .h2o-table th,\n",
       "#h2o-table-9 .h2o-table td {\n",
       "  text-align: right;\n",
       "  /* border: 1px solid; */\n",
       "}\n",
       "#h2o-table-9 .h2o-table tr:nth-child(even) {\n",
       "  /* background: #F5F5F5 */\n",
       "}\n",
       "\n",
       "</style>      \n",
       "<div id=\"h2o-table-9\" class=\"h2o-container\">\n",
       "  <table class=\"h2o-table\">\n",
       "    <caption>Confusion Matrix: Row labels: Actual class; Column labels: Predicted class</caption>\n",
       "    <thead><tr><th>0</th>\n",
       "<th>1</th>\n",
       "<th>2</th>\n",
       "<th>3</th>\n",
       "<th>4</th>\n",
       "<th>5</th>\n",
       "<th>6</th>\n",
       "<th>7</th>\n",
       "<th>8</th>\n",
       "<th>9</th>\n",
       "<th>Error</th>\n",
       "<th>Rate</th></tr></thead>\n",
       "    <tbody><tr><td>0.0</td>\n",
       "<td>1.0</td>\n",
       "<td>0.0</td>\n",
       "<td>0.0</td>\n",
       "<td>0.0</td>\n",
       "<td>0.0</td>\n",
       "<td>0.0</td>\n",
       "<td>0.0</td>\n",
       "<td>0.0</td>\n",
       "<td>0.0</td>\n",
       "<td>1.0</td>\n",
       "<td>1 / 1</td></tr>\n",
       "<tr><td>0.0</td>\n",
       "<td>24655.0</td>\n",
       "<td>0.0</td>\n",
       "<td>0.0</td>\n",
       "<td>0.0</td>\n",
       "<td>0.0</td>\n",
       "<td>1.0</td>\n",
       "<td>0.0</td>\n",
       "<td>0.0</td>\n",
       "<td>0.0</td>\n",
       "<td>0.0000406</td>\n",
       "<td>1 / 24,656</td></tr>\n",
       "<tr><td>0.0</td>\n",
       "<td>6263.0</td>\n",
       "<td>0.0</td>\n",
       "<td>0.0</td>\n",
       "<td>0.0</td>\n",
       "<td>0.0</td>\n",
       "<td>0.0</td>\n",
       "<td>0.0</td>\n",
       "<td>0.0</td>\n",
       "<td>0.0</td>\n",
       "<td>1.0</td>\n",
       "<td>6,263 / 6,263</td></tr>\n",
       "<tr><td>0.0</td>\n",
       "<td>482.0</td>\n",
       "<td>0.0</td>\n",
       "<td>0.0</td>\n",
       "<td>0.0</td>\n",
       "<td>0.0</td>\n",
       "<td>0.0</td>\n",
       "<td>0.0</td>\n",
       "<td>0.0</td>\n",
       "<td>0.0</td>\n",
       "<td>1.0</td>\n",
       "<td>482 / 482</td></tr>\n",
       "<tr><td>0.0</td>\n",
       "<td>6.0</td>\n",
       "<td>0.0</td>\n",
       "<td>0.0</td>\n",
       "<td>0.0</td>\n",
       "<td>2.0</td>\n",
       "<td>22.0</td>\n",
       "<td>61.0</td>\n",
       "<td>9.0</td>\n",
       "<td>1.0</td>\n",
       "<td>1.0</td>\n",
       "<td>101 / 101</td></tr>\n",
       "<tr><td>0.0</td>\n",
       "<td>893.0</td>\n",
       "<td>0.0</td>\n",
       "<td>0.0</td>\n",
       "<td>1.0</td>\n",
       "<td>4091.0</td>\n",
       "<td>456.0</td>\n",
       "<td>787.0</td>\n",
       "<td>23.0</td>\n",
       "<td>55.0</td>\n",
       "<td>0.3512528</td>\n",
       "<td>2,215 / 6,306</td></tr>\n",
       "<tr><td>0.0</td>\n",
       "<td>95.0</td>\n",
       "<td>0.0</td>\n",
       "<td>0.0</td>\n",
       "<td>0.0</td>\n",
       "<td>1.0</td>\n",
       "<td>179.0</td>\n",
       "<td>21.0</td>\n",
       "<td>0.0</td>\n",
       "<td>2.0</td>\n",
       "<td>0.3993289</td>\n",
       "<td>119 / 298</td></tr>\n",
       "<tr><td>0.0</td>\n",
       "<td>12.0</td>\n",
       "<td>0.0</td>\n",
       "<td>0.0</td>\n",
       "<td>0.0</td>\n",
       "<td>3.0</td>\n",
       "<td>42.0</td>\n",
       "<td>195.0</td>\n",
       "<td>1.0</td>\n",
       "<td>7.0</td>\n",
       "<td>0.25</td>\n",
       "<td>65 / 260</td></tr>\n",
       "<tr><td>0.0</td>\n",
       "<td>72.0</td>\n",
       "<td>0.0</td>\n",
       "<td>0.0</td>\n",
       "<td>0.0</td>\n",
       "<td>68.0</td>\n",
       "<td>275.0</td>\n",
       "<td>937.0</td>\n",
       "<td>181.0</td>\n",
       "<td>54.0</td>\n",
       "<td>0.8859483</td>\n",
       "<td>1,406 / 1,587</td></tr>\n",
       "<tr><td>0.0</td>\n",
       "<td>4.0</td>\n",
       "<td>0.0</td>\n",
       "<td>0.0</td>\n",
       "<td>0.0</td>\n",
       "<td>0.0</td>\n",
       "<td>5.0</td>\n",
       "<td>28.0</td>\n",
       "<td>0.0</td>\n",
       "<td>9.0</td>\n",
       "<td>0.8043478</td>\n",
       "<td>37 / 46</td></tr>\n",
       "<tr><td>0.0</td>\n",
       "<td>32483.0</td>\n",
       "<td>0.0</td>\n",
       "<td>0.0</td>\n",
       "<td>1.0</td>\n",
       "<td>4165.0</td>\n",
       "<td>980.0</td>\n",
       "<td>2029.0</td>\n",
       "<td>214.0</td>\n",
       "<td>128.0</td>\n",
       "<td>0.26725</td>\n",
       "<td>10,690 / 40,000</td></tr></tbody>\n",
       "  </table>\n",
       "</div>\n",
       "</div>\n",
       "<div style='margin: 1em 0 1em 0;'>\n",
       "<style>\n",
       "\n",
       "#h2o-table-10.h2o-container {\n",
       "  overflow-x: auto;\n",
       "}\n",
       "#h2o-table-10 .h2o-table {\n",
       "  /* width: 100%; */\n",
       "  margin-top: 1em;\n",
       "  margin-bottom: 1em;\n",
       "}\n",
       "#h2o-table-10 .h2o-table caption {\n",
       "  white-space: nowrap;\n",
       "  caption-side: top;\n",
       "  text-align: left;\n",
       "  /* margin-left: 1em; */\n",
       "  margin: 0;\n",
       "  font-size: larger;\n",
       "}\n",
       "#h2o-table-10 .h2o-table thead {\n",
       "  white-space: nowrap; \n",
       "  position: sticky;\n",
       "  top: 0;\n",
       "  box-shadow: 0 -1px inset;\n",
       "}\n",
       "#h2o-table-10 .h2o-table tbody {\n",
       "  overflow: auto;\n",
       "}\n",
       "#h2o-table-10 .h2o-table th,\n",
       "#h2o-table-10 .h2o-table td {\n",
       "  text-align: right;\n",
       "  /* border: 1px solid; */\n",
       "}\n",
       "#h2o-table-10 .h2o-table tr:nth-child(even) {\n",
       "  /* background: #F5F5F5 */\n",
       "}\n",
       "\n",
       "</style>      \n",
       "<div id=\"h2o-table-10\" class=\"h2o-container\">\n",
       "  <table class=\"h2o-table\">\n",
       "    <caption>Top-10 Hit Ratios: </caption>\n",
       "    <thead><tr><th>k</th>\n",
       "<th>hit_ratio</th></tr></thead>\n",
       "    <tbody><tr><td>1</td>\n",
       "<td>0.73275</td></tr>\n",
       "<tr><td>2</td>\n",
       "<td>0.899725</td></tr>\n",
       "<tr><td>3</td>\n",
       "<td>0.96705</td></tr>\n",
       "<tr><td>4</td>\n",
       "<td>0.987375</td></tr>\n",
       "<tr><td>5</td>\n",
       "<td>0.994925</td></tr>\n",
       "<tr><td>6</td>\n",
       "<td>0.99785</td></tr>\n",
       "<tr><td>7</td>\n",
       "<td>0.9994</td></tr>\n",
       "<tr><td>8</td>\n",
       "<td>0.99995</td></tr>\n",
       "<tr><td>9</td>\n",
       "<td>1.0</td></tr>\n",
       "<tr><td>10</td>\n",
       "<td>1.0</td></tr></tbody>\n",
       "  </table>\n",
       "</div>\n",
       "</div>"
      ]
     },
     "execution_count": 79,
     "metadata": {},
     "output_type": "execute_result"
    }
   ],
   "execution_count": 79
  },
  {
   "metadata": {
    "ExecuteTime": {
     "end_time": "2024-10-12T07:18:54.281963Z",
     "start_time": "2024-10-12T07:18:54.276453Z"
    }
   },
   "cell_type": "code",
   "source": "gbm_model.varimp(use_pandas=True)",
   "id": "eabbc1198fbe0869",
   "outputs": [
    {
     "data": {
      "text/plain": [
       "             variable  relative_importance  scaled_importance  percentage\n",
       "0         category_id        477982.218750           1.000000    0.736269\n",
       "1      action_6_count         52158.542969           0.109122    0.080343\n",
       "2      action_7_count         41741.113281           0.087328    0.064297\n",
       "3      action_3_count         15199.373047           0.031799    0.023413\n",
       "4           delta_min         14706.174805           0.030767    0.022653\n",
       "5      action_1_count          9858.967773           0.020626    0.015186\n",
       "6      action_8_count          9232.320312           0.019315    0.014221\n",
       "7           delta_sec          8876.004883           0.018570    0.013672\n",
       "8      action_9_count          8277.314453           0.017317    0.012750\n",
       "9      loc_user_count          5855.484863           0.012250    0.009020\n",
       "10         price_diff          1487.990967           0.003113    0.002292\n",
       "11     action_5_count          1421.426147           0.002974    0.002190\n",
       "12     action_2_count          1228.031006           0.002569    0.001892\n",
       "13     action_4_count           721.967163           0.001510    0.001112\n",
       "14        day_of_week           216.023895           0.000452    0.000333\n",
       "15     action_0_count            91.100281           0.000191    0.000140\n",
       "16  category_id_count            63.207691           0.000132    0.000097\n",
       "17         delta_hour            57.153721           0.000120    0.000088\n",
       "18          delta_day            20.676676           0.000043    0.000032"
      ],
      "text/html": [
       "<div>\n",
       "<style scoped>\n",
       "    .dataframe tbody tr th:only-of-type {\n",
       "        vertical-align: middle;\n",
       "    }\n",
       "\n",
       "    .dataframe tbody tr th {\n",
       "        vertical-align: top;\n",
       "    }\n",
       "\n",
       "    .dataframe thead th {\n",
       "        text-align: right;\n",
       "    }\n",
       "</style>\n",
       "<table border=\"1\" class=\"dataframe\">\n",
       "  <thead>\n",
       "    <tr style=\"text-align: right;\">\n",
       "      <th></th>\n",
       "      <th>variable</th>\n",
       "      <th>relative_importance</th>\n",
       "      <th>scaled_importance</th>\n",
       "      <th>percentage</th>\n",
       "    </tr>\n",
       "  </thead>\n",
       "  <tbody>\n",
       "    <tr>\n",
       "      <th>0</th>\n",
       "      <td>category_id</td>\n",
       "      <td>477982.218750</td>\n",
       "      <td>1.000000</td>\n",
       "      <td>0.736269</td>\n",
       "    </tr>\n",
       "    <tr>\n",
       "      <th>1</th>\n",
       "      <td>action_6_count</td>\n",
       "      <td>52158.542969</td>\n",
       "      <td>0.109122</td>\n",
       "      <td>0.080343</td>\n",
       "    </tr>\n",
       "    <tr>\n",
       "      <th>2</th>\n",
       "      <td>action_7_count</td>\n",
       "      <td>41741.113281</td>\n",
       "      <td>0.087328</td>\n",
       "      <td>0.064297</td>\n",
       "    </tr>\n",
       "    <tr>\n",
       "      <th>3</th>\n",
       "      <td>action_3_count</td>\n",
       "      <td>15199.373047</td>\n",
       "      <td>0.031799</td>\n",
       "      <td>0.023413</td>\n",
       "    </tr>\n",
       "    <tr>\n",
       "      <th>4</th>\n",
       "      <td>delta_min</td>\n",
       "      <td>14706.174805</td>\n",
       "      <td>0.030767</td>\n",
       "      <td>0.022653</td>\n",
       "    </tr>\n",
       "    <tr>\n",
       "      <th>5</th>\n",
       "      <td>action_1_count</td>\n",
       "      <td>9858.967773</td>\n",
       "      <td>0.020626</td>\n",
       "      <td>0.015186</td>\n",
       "    </tr>\n",
       "    <tr>\n",
       "      <th>6</th>\n",
       "      <td>action_8_count</td>\n",
       "      <td>9232.320312</td>\n",
       "      <td>0.019315</td>\n",
       "      <td>0.014221</td>\n",
       "    </tr>\n",
       "    <tr>\n",
       "      <th>7</th>\n",
       "      <td>delta_sec</td>\n",
       "      <td>8876.004883</td>\n",
       "      <td>0.018570</td>\n",
       "      <td>0.013672</td>\n",
       "    </tr>\n",
       "    <tr>\n",
       "      <th>8</th>\n",
       "      <td>action_9_count</td>\n",
       "      <td>8277.314453</td>\n",
       "      <td>0.017317</td>\n",
       "      <td>0.012750</td>\n",
       "    </tr>\n",
       "    <tr>\n",
       "      <th>9</th>\n",
       "      <td>loc_user_count</td>\n",
       "      <td>5855.484863</td>\n",
       "      <td>0.012250</td>\n",
       "      <td>0.009020</td>\n",
       "    </tr>\n",
       "    <tr>\n",
       "      <th>10</th>\n",
       "      <td>price_diff</td>\n",
       "      <td>1487.990967</td>\n",
       "      <td>0.003113</td>\n",
       "      <td>0.002292</td>\n",
       "    </tr>\n",
       "    <tr>\n",
       "      <th>11</th>\n",
       "      <td>action_5_count</td>\n",
       "      <td>1421.426147</td>\n",
       "      <td>0.002974</td>\n",
       "      <td>0.002190</td>\n",
       "    </tr>\n",
       "    <tr>\n",
       "      <th>12</th>\n",
       "      <td>action_2_count</td>\n",
       "      <td>1228.031006</td>\n",
       "      <td>0.002569</td>\n",
       "      <td>0.001892</td>\n",
       "    </tr>\n",
       "    <tr>\n",
       "      <th>13</th>\n",
       "      <td>action_4_count</td>\n",
       "      <td>721.967163</td>\n",
       "      <td>0.001510</td>\n",
       "      <td>0.001112</td>\n",
       "    </tr>\n",
       "    <tr>\n",
       "      <th>14</th>\n",
       "      <td>day_of_week</td>\n",
       "      <td>216.023895</td>\n",
       "      <td>0.000452</td>\n",
       "      <td>0.000333</td>\n",
       "    </tr>\n",
       "    <tr>\n",
       "      <th>15</th>\n",
       "      <td>action_0_count</td>\n",
       "      <td>91.100281</td>\n",
       "      <td>0.000191</td>\n",
       "      <td>0.000140</td>\n",
       "    </tr>\n",
       "    <tr>\n",
       "      <th>16</th>\n",
       "      <td>category_id_count</td>\n",
       "      <td>63.207691</td>\n",
       "      <td>0.000132</td>\n",
       "      <td>0.000097</td>\n",
       "    </tr>\n",
       "    <tr>\n",
       "      <th>17</th>\n",
       "      <td>delta_hour</td>\n",
       "      <td>57.153721</td>\n",
       "      <td>0.000120</td>\n",
       "      <td>0.000088</td>\n",
       "    </tr>\n",
       "    <tr>\n",
       "      <th>18</th>\n",
       "      <td>delta_day</td>\n",
       "      <td>20.676676</td>\n",
       "      <td>0.000043</td>\n",
       "      <td>0.000032</td>\n",
       "    </tr>\n",
       "  </tbody>\n",
       "</table>\n",
       "</div>"
      ]
     },
     "execution_count": 96,
     "metadata": {},
     "output_type": "execute_result"
    }
   ],
   "execution_count": 96
  },
  {
   "metadata": {},
   "cell_type": "markdown",
   "source": "#### Расчитываем recall для локальных тестов",
   "id": "3bdeed0fc9e5677a"
  },
  {
   "metadata": {},
   "cell_type": "markdown",
   "source": "#### Тестовые данные - три дня и ключевое событие - 9 (заказ)",
   "id": "ff1086bd6fdb731a"
  },
  {
   "metadata": {
    "ExecuteTime": {
     "end_time": "2024-10-12T07:11:37.327241Z",
     "start_time": "2024-10-12T07:11:36.337986Z"
    }
   },
   "cell_type": "code",
   "source": [
    "last_3_days = inters['datetime'].max() - pd.Timedelta(3, unit='D')\n",
    "test_purchasers = inters.sort_values(by=['datetime', 'weight'], ascending=True)\n",
    "test_purchasers = test_purchasers[(test_purchasers['weight'] == 9) & (test_purchasers['datetime'] > last_3_days)]\n",
    "test_purchasers = test_purchasers.groupby(['user_id'])['item_id'].apply(processing)\n",
    "test_purchasers = test_purchasers.reset_index()\n",
    "test_purchasers.shape"
   ],
   "id": "3be5212427a6c914",
   "outputs": [
    {
     "data": {
      "text/plain": [
       "(496, 2)"
      ]
     },
     "execution_count": 80,
     "metadata": {},
     "output_type": "execute_result"
    }
   ],
   "execution_count": 80
  },
  {
   "metadata": {
    "ExecuteTime": {
     "end_time": "2024-10-12T07:18:11.454667Z",
     "start_time": "2024-10-12T07:18:11.452011Z"
    }
   },
   "cell_type": "code",
   "source": "inters.columns",
   "id": "82cf773492794075",
   "outputs": [
    {
     "data": {
      "text/plain": [
       "Index(['user_id', 'weight', 'item_id', 'pageId', 'datetime', 'category_id',\n",
       "       'day_of_week', 'price_diff', 'loc_user_count', 'category_id_count',\n",
       "       'action_0_count', 'action_1_count', 'action_2_count', 'action_3_count',\n",
       "       'action_4_count', 'action_5_count', 'action_6_count', 'action_7_count',\n",
       "       'action_8_count', 'action_9_count', 'delta_sec', 'delta_day',\n",
       "       'delta_hour', 'delta_min'],\n",
       "      dtype='object')"
      ]
     },
     "execution_count": 94,
     "metadata": {},
     "output_type": "execute_result"
    }
   ],
   "execution_count": 94
  },
  {
   "metadata": {},
   "cell_type": "markdown",
   "source": "#### Предсказания фильтрацией",
   "id": "62c487e4b075845b"
  },
  {
   "metadata": {
    "ExecuteTime": {
     "end_time": "2024-10-12T08:47:29.542507Z",
     "start_time": "2024-10-12T08:47:28.187601Z"
    }
   },
   "cell_type": "code",
   "source": [
    "last_3_days = inters['datetime'].max() - pd.Timedelta(0, unit='D')\n",
    "last_8_days = inters['datetime'].max() - pd.Timedelta(5*24, unit='hours')\n",
    "pred_purchasers = inters.sort_values(by=['datetime', 'weight'], ascending=True)\n",
    "pred_purchasers = pred_purchasers[\n",
    "    (pred_purchasers['weight'] > 7)\n",
    "    & (pred_purchasers['datetime'] > last_8_days)\n",
    "    & (pred_purchasers['datetime'] < last_3_days)\n",
    "    & (\n",
    "            (pred_purchasers.action_7_count > 50) \n",
    "            | (pred_purchasers.action_8_count > 20) \n",
    "            | (pred_purchasers.action_9_count > 0) \n",
    "            # & (pred_purchasers.action_6_count > 500) \n",
    "            # & (pred_purchasers.action_3_count > 500)\n",
    "    )\n",
    "]\n",
    "pred_purchasers = pred_purchasers.groupby(['user_id'])['item_id'].apply(processing)\n",
    "pred_purchasers = pred_purchasers.reset_index()\n",
    "pred_purchasers.shape"
   ],
   "id": "d679098ef6b23f8a",
   "outputs": [
    {
     "data": {
      "text/plain": [
       "(1762, 2)"
      ]
     },
     "execution_count": 813,
     "metadata": {},
     "output_type": "execute_result"
    }
   ],
   "execution_count": 813
  },
  {
   "metadata": {},
   "cell_type": "markdown",
   "source": "#### Проверяем сколько пользователей из теста удалось \"зацепить\" фильтрацией",
   "id": "33e59bd06e570d54"
  },
  {
   "metadata": {
    "ExecuteTime": {
     "end_time": "2024-10-12T08:47:40.412344Z",
     "start_time": "2024-10-12T08:47:40.408121Z"
    }
   },
   "cell_type": "code",
   "source": "pred_purchasers[pred_purchasers.user_id.isin(test_purchasers.user_id.unique())].shape",
   "id": "29e94d0446632ec2",
   "outputs": [
    {
     "data": {
      "text/plain": [
       "(496, 2)"
      ]
     },
     "execution_count": 814,
     "metadata": {},
     "output_type": "execute_result"
    }
   ],
   "execution_count": 814
  },
  {
   "metadata": {
    "ExecuteTime": {
     "end_time": "2024-10-12T08:47:43.504005Z",
     "start_time": "2024-10-12T08:47:43.495430Z"
    }
   },
   "cell_type": "code",
   "source": [
    "check_merge = test_purchasers.merge(pred_purchasers[-3000:], on='user_id', how='left')\n",
    "check_merge.item_id_y.loc[check_merge.item_id_y.isnull()] = check_merge.item_id_y.loc[check_merge.item_id_y.isnull()].apply(lambda x: [])\n",
    "check_merge.shape"
   ],
   "id": "a33904fee2d14bfb",
   "outputs": [
    {
     "data": {
      "text/plain": [
       "(496, 3)"
      ]
     },
     "execution_count": 815,
     "metadata": {},
     "output_type": "execute_result"
    }
   ],
   "execution_count": 815
  },
  {
   "metadata": {
    "ExecuteTime": {
     "end_time": "2024-10-12T08:47:43.627819Z",
     "start_time": "2024-10-12T08:47:43.623558Z"
    }
   },
   "cell_type": "code",
   "source": "check_merge.sample(1)",
   "id": "b7da4fd1f665a549",
   "outputs": [
    {
     "data": {
      "text/plain": [
       "                                  user_id  item_id_x  \\\n",
       "456  e842b176-a0a9-11ed-a1c4-002590c82437  [4030080]   \n",
       "\n",
       "                                item_id_y  \n",
       "456  [6718122, 4030080, 6166801, 6228709]  "
      ],
      "text/html": [
       "<div>\n",
       "<style scoped>\n",
       "    .dataframe tbody tr th:only-of-type {\n",
       "        vertical-align: middle;\n",
       "    }\n",
       "\n",
       "    .dataframe tbody tr th {\n",
       "        vertical-align: top;\n",
       "    }\n",
       "\n",
       "    .dataframe thead th {\n",
       "        text-align: right;\n",
       "    }\n",
       "</style>\n",
       "<table border=\"1\" class=\"dataframe\">\n",
       "  <thead>\n",
       "    <tr style=\"text-align: right;\">\n",
       "      <th></th>\n",
       "      <th>user_id</th>\n",
       "      <th>item_id_x</th>\n",
       "      <th>item_id_y</th>\n",
       "    </tr>\n",
       "  </thead>\n",
       "  <tbody>\n",
       "    <tr>\n",
       "      <th>456</th>\n",
       "      <td>e842b176-a0a9-11ed-a1c4-002590c82437</td>\n",
       "      <td>[4030080]</td>\n",
       "      <td>[6718122, 4030080, 6166801, 6228709]</td>\n",
       "    </tr>\n",
       "  </tbody>\n",
       "</table>\n",
       "</div>"
      ]
     },
     "execution_count": 816,
     "metadata": {},
     "output_type": "execute_result"
    }
   ],
   "execution_count": 816
  },
  {
   "metadata": {
    "ExecuteTime": {
     "end_time": "2024-10-12T08:47:46.430420Z",
     "start_time": "2024-10-12T08:47:46.428803Z"
    }
   },
   "cell_type": "code",
   "source": "#### Проверяем полноту фильтрации",
   "id": "de086f09a15b86de",
   "outputs": [],
   "execution_count": 817
  },
  {
   "metadata": {
    "ExecuteTime": {
     "end_time": "2024-10-12T08:47:46.491980Z",
     "start_time": "2024-10-12T08:47:46.485414Z"
    }
   },
   "cell_type": "code",
   "source": [
    "check_merge['recall'] = check_merge.apply(calculate_recall, axis=1)\n",
    "check_merge['recall'].mean().round(4)"
   ],
   "id": "e8b2727593788803",
   "outputs": [
    {
     "data": {
      "text/plain": [
       "0.4984"
      ]
     },
     "execution_count": 818,
     "metadata": {},
     "output_type": "execute_result"
    }
   ],
   "execution_count": 818
  },
  {
   "metadata": {
    "ExecuteTime": {
     "end_time": "2024-10-12T08:43:45.789166Z",
     "start_time": "2024-10-12T08:43:45.787450Z"
    }
   },
   "cell_type": "code",
   "source": "",
   "id": "e708eef45177dc97",
   "outputs": [],
   "execution_count": null
  },
  {
   "metadata": {
    "ExecuteTime": {
     "end_time": "2024-10-12T08:43:45.793764Z",
     "start_time": "2024-10-12T08:43:45.792306Z"
    }
   },
   "cell_type": "code",
   "source": "",
   "id": "8d71105583e8b08a",
   "outputs": [],
   "execution_count": null
  },
  {
   "metadata": {},
   "cell_type": "markdown",
   "source": "#### Используем классификатор чтобы предсказать пользователей с целевыми дейсвтиями",
   "id": "18cdcc9d7364760"
  },
  {
   "metadata": {
    "ExecuteTime": {
     "end_time": "2024-10-12T08:43:48.543730Z",
     "start_time": "2024-10-12T08:43:48.522800Z"
    }
   },
   "cell_type": "code",
   "source": "inters['datetime'].min(), inters['datetime'].max()",
   "id": "9ad035ca9ea4811a",
   "outputs": [
    {
     "data": {
      "text/plain": [
       "(Timestamp('2024-09-07 00:00:04'), Timestamp('2024-09-28 23:59:59'))"
      ]
     },
     "execution_count": 792,
     "metadata": {},
     "output_type": "execute_result"
    }
   ],
   "execution_count": 792
  },
  {
   "metadata": {
    "ExecuteTime": {
     "end_time": "2024-10-12T08:43:57.464741Z",
     "start_time": "2024-10-12T08:43:56.993720Z"
    }
   },
   "cell_type": "code",
   "source": [
    "last_3_days = inters['datetime'].max() - pd.Timedelta(0, unit='D')\n",
    "last_8_days = inters['datetime'].max() - pd.Timedelta(27, unit='D')\n",
    "pred_data = inters[(inters['datetime'] > last_8_days) & (inters['datetime'] < last_3_days)]"
   ],
   "id": "2a096716de8d5078",
   "outputs": [],
   "execution_count": 794
  },
  {
   "metadata": {
    "ExecuteTime": {
     "end_time": "2024-10-12T08:44:27.182451Z",
     "start_time": "2024-10-12T08:43:57.467614Z"
    }
   },
   "cell_type": "code",
   "source": "t = h2o.H2OFrame(pred_data[list(x)])",
   "id": "80716113f5edb9d6",
   "outputs": [],
   "execution_count": 795
  },
  {
   "metadata": {
    "ExecuteTime": {
     "end_time": "2024-10-12T08:45:28.701299Z",
     "start_time": "2024-10-12T08:44:29.725193Z"
    }
   },
   "cell_type": "code",
   "source": "preds = gbm_model.predict(t)",
   "id": "509ee3ee83313321",
   "outputs": [],
   "execution_count": 796
  },
  {
   "metadata": {},
   "cell_type": "markdown",
   "source": "#### Обьедтняем предсказания с исходными данными чтобы фильровать дальше",
   "id": "dc571a3718d20cae"
  },
  {
   "metadata": {
    "ExecuteTime": {
     "end_time": "2024-10-12T08:45:48.463186Z",
     "start_time": "2024-10-12T08:45:31.210555Z"
    }
   },
   "cell_type": "code",
   "source": [
    "res = pd.concat(\n",
    "    [\n",
    "        pred_data[list(x) + ['weight', 'user_id', 'item_id', 'datetime']].reset_index(drop=True),\n",
    "        preds.as_data_frame().reset_index(drop=True)\n",
    "    ],\n",
    "    axis='columns',\n",
    ")"
   ],
   "id": "4c607291f16cf37f",
   "outputs": [],
   "execution_count": 797
  },
  {
   "metadata": {
    "ExecuteTime": {
     "end_time": "2024-10-12T08:45:51.385388Z",
     "start_time": "2024-10-12T08:45:50.870992Z"
    }
   },
   "cell_type": "code",
   "source": [
    "# Максимальный скор с которым предсказали целевое действие\n",
    "res['score'] = res[res.columns[-10:]].max(axis=1)\n",
    "        "
   ],
   "id": "7c40113dbfd5ee58",
   "outputs": [],
   "execution_count": 798
  },
  {
   "metadata": {
    "ExecuteTime": {
     "end_time": "2024-10-12T08:45:53.912127Z",
     "start_time": "2024-10-12T08:45:53.910199Z"
    }
   },
   "cell_type": "code",
   "source": [
    "# Смотрим корреляцию по данным чтобы понять по чему фильтровать\n",
    "# res[list(set(res.columns) - set(['user_id']))].sample(1000).corr()"
   ],
   "id": "9afc6abd0a9bd5a3",
   "outputs": [],
   "execution_count": 799
  },
  {
   "metadata": {
    "ExecuteTime": {
     "end_time": "2024-10-12T08:45:56.448471Z",
     "start_time": "2024-10-12T08:45:56.424605Z"
    }
   },
   "cell_type": "code",
   "source": [
    "mask = (\n",
    "    (res.predict.isin([9]) & (res.score > 0))\n",
    "    # |\n",
    "    # (res.predict.isin([8]) & (res.score > 0.85))\n",
    ")"
   ],
   "id": "f2b8d3dcd807d5d0",
   "outputs": [],
   "execution_count": 800
  },
  {
   "metadata": {
    "ExecuteTime": {
     "end_time": "2024-10-12T08:45:59.008382Z",
     "start_time": "2024-10-12T08:45:58.976186Z"
    }
   },
   "cell_type": "code",
   "source": [
    "# Оцениваем размер таблицы после фильрации\n",
    "res[\n",
    "    mask\n",
    "].groupby('user_id')['item_id'].agg(lambda x: list(map(str, x))[:25]).reset_index().shape"
   ],
   "id": "d54d045a464a8a4c",
   "outputs": [
    {
     "data": {
      "text/plain": [
       "(1814, 2)"
      ]
     },
     "execution_count": 801,
     "metadata": {},
     "output_type": "execute_result"
    }
   ],
   "execution_count": 801
  },
  {
   "metadata": {
    "ExecuteTime": {
     "end_time": "2024-10-12T08:46:01.721478Z",
     "start_time": "2024-10-12T08:46:01.547443Z"
    }
   },
   "cell_type": "code",
   "source": [
    "# Оцениваем количество пользователей, которое удалось \"зацепить\" фильтрацией из теста\n",
    "res[\n",
    "    mask\n",
    "    & (res.user_id.isin(test_purchasers.user_id.unique()))\n",
    "].groupby('user_id')['item_id'].agg(lambda x: list(set(map(str, x)))[:25]).reset_index().shape"
   ],
   "id": "936c3aae07a92e79",
   "outputs": [
    {
     "data": {
      "text/plain": [
       "(263, 2)"
      ]
     },
     "execution_count": 802,
     "metadata": {},
     "output_type": "execute_result"
    }
   ],
   "execution_count": 802
  },
  {
   "metadata": {
    "ExecuteTime": {
     "end_time": "2024-10-12T08:46:04.497956Z",
     "start_time": "2024-10-12T08:46:04.320717Z"
    }
   },
   "cell_type": "code",
   "source": [
    "ml_users = res[\n",
    "    mask\n",
    "    & (res.user_id.isin(test_purchasers.user_id.unique()))\n",
    "].groupby('user_id')['item_id'].agg(lambda x: list(set(map(str, x)))[:25]).reset_index().user_id.to_list()"
   ],
   "id": "cac4660dfa1e65d5",
   "outputs": [],
   "execution_count": 803
  },
  {
   "metadata": {
    "ExecuteTime": {
     "end_time": "2024-10-12T08:46:07.084130Z",
     "start_time": "2024-10-12T08:46:07.080951Z"
    }
   },
   "cell_type": "code",
   "source": [
    "print(len(pred_purchasers.user_id.unique()))\n",
    "print(len(ml_users))\n",
    "print(len(set(ml_users).intersection(set(pred_purchasers.user_id.unique()))))\n"
   ],
   "id": "77a775ce8ff3632c",
   "outputs": [
    {
     "name": "stdout",
     "output_type": "stream",
     "text": [
      "1669\n",
      "263\n",
      "263\n"
     ]
    }
   ],
   "execution_count": 804
  },
  {
   "metadata": {
    "ExecuteTime": {
     "end_time": "2024-10-12T08:46:09.722992Z",
     "start_time": "2024-10-12T08:46:09.721454Z"
    }
   },
   "cell_type": "code",
   "source": "",
   "id": "97668af004d32ac1",
   "outputs": [],
   "execution_count": null
  },
  {
   "metadata": {
    "ExecuteTime": {
     "end_time": "2024-10-12T08:46:12.314370Z",
     "start_time": "2024-10-12T08:46:12.278328Z"
    }
   },
   "cell_type": "code",
   "source": [
    "# Генерим таблицу с кандидатами по результатам мл - предсказания\n",
    "ml_pred = res[\n",
    "    mask\n",
    "].sort_values(by=['weight'], ascending=False).groupby('user_id')['item_id'].agg(lambda x: list(set(map(str, x)))[:25]).reset_index()\n",
    "ml_pred.shape"
   ],
   "id": "4fecc641289068c",
   "outputs": [
    {
     "data": {
      "text/plain": [
       "(1814, 2)"
      ]
     },
     "execution_count": 805,
     "metadata": {},
     "output_type": "execute_result"
    }
   ],
   "execution_count": 805
  },
  {
   "metadata": {
    "ExecuteTime": {
     "end_time": "2024-10-12T08:47:58.629187Z",
     "start_time": "2024-10-12T08:47:58.626582Z"
    }
   },
   "cell_type": "code",
   "source": [
    "# Напоминание о размере таблицы с кандидатами после обычной фильтрации - оставшееся от 3000 строк место мы заполнили результатами мл\n",
    "pred_purchasers.shape"
   ],
   "id": "e0591e5a8ff67720",
   "outputs": [
    {
     "data": {
      "text/plain": [
       "(1762, 2)"
      ]
     },
     "execution_count": 819,
     "metadata": {},
     "output_type": "execute_result"
    }
   ],
   "execution_count": 819
  },
  {
   "metadata": {
    "ExecuteTime": {
     "end_time": "2024-10-12T08:48:01.792891Z",
     "start_time": "2024-10-12T08:48:01.785409Z"
    }
   },
   "cell_type": "code",
   "source": [
    "data_to_check = pd.concat(\n",
    "    [\n",
    "        ml_pred.reset_index(drop=True),\n",
    "        pred_purchasers.reset_index(drop=True),\n",
    "    ],\n",
    "    axis='rows'\n",
    ")\n",
    "print(data_to_check.shape)\n",
    "data_to_check = data_to_check.drop_duplicates(subset='user_id', keep='last') # .reset_index(drop=True)\n",
    "print(data_to_check[data_to_check.user_id.isin(test_purchasers.user_id.unique())].shape)\n",
    "data_to_check.shape"
   ],
   "id": "bf424e0840c3fdca",
   "outputs": [
    {
     "name": "stdout",
     "output_type": "stream",
     "text": [
      "(3576, 2)\n",
      "(496, 2)\n"
     ]
    },
    {
     "data": {
      "text/plain": [
       "(3082, 2)"
      ]
     },
     "execution_count": 820,
     "metadata": {},
     "output_type": "execute_result"
    }
   ],
   "execution_count": 820
  },
  {
   "metadata": {
    "ExecuteTime": {
     "end_time": "2024-10-12T08:48:04.784422Z",
     "start_time": "2024-10-12T08:48:04.781839Z"
    }
   },
   "cell_type": "code",
   "source": [
    "# Ограничим резульат 3000 строк (как по условию). Так как данные обычной фильтрации эффективнее и они в конце обьединенных данных - ограничим с конца\n",
    "data_to_check[-3000:].shape"
   ],
   "id": "7e97f625035edf8a",
   "outputs": [
    {
     "data": {
      "text/plain": [
       "(3000, 2)"
      ]
     },
     "execution_count": 821,
     "metadata": {},
     "output_type": "execute_result"
    }
   ],
   "execution_count": 821
  },
  {
   "metadata": {},
   "cell_type": "markdown",
   "source": "#### Проверяем результат локально на данных фильтрация + мл",
   "id": "cf4f7af1874236d7"
  },
  {
   "metadata": {
    "ExecuteTime": {
     "end_time": "2024-10-12T08:48:07.629941Z",
     "start_time": "2024-10-12T08:48:07.616522Z"
    }
   },
   "cell_type": "code",
   "source": [
    "# check_merge_ml = test_purchasers.merge(data_to_check.sample(3000, random_state=42), on='user_id', how='left')\n",
    "check_merge_ml = test_purchasers.merge(data_to_check[-3000:], on='user_id', how='left')\n",
    "check_merge_ml.item_id_y.loc[check_merge_ml.item_id_y.isnull()] = check_merge_ml.item_id_y.loc[check_merge_ml.item_id_y.isnull()].apply(lambda x: [])\n",
    "print(check_merge_ml.shape)\n",
    "check_merge_ml['recall'] = check_merge_ml.apply(calculate_recall, axis=1)\n",
    "check_merge_ml['recall'].mean().round(4)"
   ],
   "id": "38a2437811180840",
   "outputs": [
    {
     "name": "stdout",
     "output_type": "stream",
     "text": [
      "(496, 3)\n"
     ]
    },
    {
     "data": {
      "text/plain": [
       "0.4984"
      ]
     },
     "execution_count": 822,
     "metadata": {},
     "output_type": "execute_result"
    }
   ],
   "execution_count": 822
  },
  {
   "metadata": {
    "ExecuteTime": {
     "end_time": "2024-10-12T08:48:10.681785Z",
     "start_time": "2024-10-12T08:48:10.674890Z"
    }
   },
   "cell_type": "code",
   "source": "",
   "id": "f486ae5f13d9ea08",
   "outputs": [],
   "execution_count": null
  },
  {
   "metadata": {
    "ExecuteTime": {
     "end_time": "2024-10-12T08:48:10.687268Z",
     "start_time": "2024-10-12T08:48:10.685673Z"
    }
   },
   "cell_type": "code",
   "source": "",
   "id": "5fc85e854d30f27c",
   "outputs": [],
   "execution_count": null
  },
  {
   "metadata": {},
   "cell_type": "markdown",
   "source": [
    "### Построение рекомендаций \n",
    "дополним данные после фильрации товарами на основе \"оценок\" пользователей (ценность действия интерпретируем как оценку)"
   ],
   "id": "b7ed9351358d87e3"
  },
  {
   "metadata": {},
   "cell_type": "markdown",
   "source": "#### Построение модели",
   "id": "756b9be360307a10"
  },
  {
   "metadata": {
    "ExecuteTime": {
     "end_time": "2024-10-12T08:48:16.647517Z",
     "start_time": "2024-10-12T08:48:16.644484Z"
    }
   },
   "cell_type": "code",
   "source": [
    "K_RECOS = 25\n",
    "NUM_THREADS = 24\n",
    "RANDOM_STATE = 32\n",
    "ITERATIONS = 25"
   ],
   "id": "2a979d8d60da505d",
   "outputs": [],
   "execution_count": 823
  },
  {
   "metadata": {
    "ExecuteTime": {
     "end_time": "2024-10-12T08:48:16.656343Z",
     "start_time": "2024-10-12T08:48:16.652844Z"
    }
   },
   "cell_type": "code",
   "source": [
    "def make_base_model(factors: int, regularization: float, alpha: float, fit_features_together: bool=False):\n",
    "    return ImplicitALSWrapperModel(\n",
    "        AlternatingLeastSquares(\n",
    "            factors=factors,\n",
    "            regularization=regularization,\n",
    "            alpha=alpha,\n",
    "            random_state=RANDOM_STATE,\n",
    "            use_gpu=False,\n",
    "            num_threads = NUM_THREADS,\n",
    "            iterations=ITERATIONS),\n",
    "        fit_features_together = fit_features_together,\n",
    "        )"
   ],
   "id": "c76217e904af56de",
   "outputs": [],
   "execution_count": 824
  },
  {
   "metadata": {
    "ExecuteTime": {
     "end_time": "2024-10-12T08:23:00.730210Z",
     "start_time": "2024-10-12T08:23:00.728559Z"
    }
   },
   "cell_type": "code",
   "source": "",
   "id": "b431ae38edd475c5",
   "outputs": [],
   "execution_count": null
  },
  {
   "metadata": {
    "ExecuteTime": {
     "end_time": "2024-10-12T08:48:22.385736Z",
     "start_time": "2024-10-12T08:48:22.259821Z"
    }
   },
   "cell_type": "code",
   "source": [
    "last_3_days = inters['datetime'].max() - pd.Timedelta(0, unit='D')\n",
    "last_8_days = inters['datetime'].max() - pd.Timedelta(27, unit='D')\n",
    "recos_data = inters[\n",
    "    (inters['datetime'] > last_8_days)\n",
    "    & (inters['datetime'] < last_3_days) \n",
    "    & ((inters['weight'] > 3))   # дейсвтия ниже 5 не привязаны к товару, чтобы не рекомендовать -1 и сэкономить на размере входных данных - фильтруем\n",
    "]"
   ],
   "id": "24ff12b544a9ff36",
   "outputs": [],
   "execution_count": 825
  },
  {
   "metadata": {
    "ExecuteTime": {
     "end_time": "2024-10-12T08:48:25.320432Z",
     "start_time": "2024-10-12T08:48:25.313882Z"
    }
   },
   "cell_type": "code",
   "source": "recos_data.weight.unique()",
   "id": "feaaf4f26e413175",
   "outputs": [
    {
     "data": {
      "text/plain": [
       "array([4, 5, 6, 7, 8, 9])"
      ]
     },
     "execution_count": 826,
     "metadata": {},
     "output_type": "execute_result"
    }
   ],
   "execution_count": 826
  },
  {
   "metadata": {
    "ExecuteTime": {
     "end_time": "2024-10-12T08:49:10.355998Z",
     "start_time": "2024-10-12T08:48:28.409693Z"
    }
   },
   "cell_type": "code",
   "source": [
    "recs_dataset = Dataset.construct(\n",
    "    interactions_df=recos_data[['user_id', 'item_id', 'weight', 'datetime']],\n",
    ")\n",
    "\n",
    "model = make_base_model(factors=256, regularization=0.2, alpha=100)\n",
    "model.fit(recs_dataset)"
   ],
   "id": "6d652d721b1a922c",
   "outputs": [
    {
     "data": {
      "text/plain": [
       "<rectools.models.implicit_als.ImplicitALSWrapperModel at 0x78040d436cd0>"
      ]
     },
     "execution_count": 827,
     "metadata": {},
     "output_type": "execute_result"
    }
   ],
   "execution_count": 827
  },
  {
   "metadata": {
    "ExecuteTime": {
     "end_time": "2024-10-12T08:49:14.486315Z",
     "start_time": "2024-10-12T08:49:13.389206Z"
    }
   },
   "cell_type": "code",
   "source": [
    "recos = model.recommend(\n",
    "    users=data_to_check[-3000:].user_id,\n",
    "    dataset=recs_dataset,\n",
    "    k=20,\n",
    "    filter_viewed=False,\n",
    ")"
   ],
   "id": "e4dab274d782581a",
   "outputs": [],
   "execution_count": 828
  },
  {
   "metadata": {
    "ExecuteTime": {
     "end_time": "2024-10-12T08:49:14.505630Z",
     "start_time": "2024-10-12T08:49:14.500808Z"
    }
   },
   "cell_type": "code",
   "source": "recos[recos.item_id == -1]",
   "id": "15653f013cc89695",
   "outputs": [
    {
     "data": {
      "text/plain": [
       "Empty DataFrame\n",
       "Columns: [user_id, item_id, score, rank]\n",
       "Index: []"
      ],
      "text/html": [
       "<div>\n",
       "<style scoped>\n",
       "    .dataframe tbody tr th:only-of-type {\n",
       "        vertical-align: middle;\n",
       "    }\n",
       "\n",
       "    .dataframe tbody tr th {\n",
       "        vertical-align: top;\n",
       "    }\n",
       "\n",
       "    .dataframe thead th {\n",
       "        text-align: right;\n",
       "    }\n",
       "</style>\n",
       "<table border=\"1\" class=\"dataframe\">\n",
       "  <thead>\n",
       "    <tr style=\"text-align: right;\">\n",
       "      <th></th>\n",
       "      <th>user_id</th>\n",
       "      <th>item_id</th>\n",
       "      <th>score</th>\n",
       "      <th>rank</th>\n",
       "    </tr>\n",
       "  </thead>\n",
       "  <tbody>\n",
       "  </tbody>\n",
       "</table>\n",
       "</div>"
      ]
     },
     "execution_count": 829,
     "metadata": {},
     "output_type": "execute_result"
    }
   ],
   "execution_count": 829
  },
  {
   "metadata": {
    "ExecuteTime": {
     "end_time": "2024-10-12T08:49:17.391022Z",
     "start_time": "2024-10-12T08:49:17.389371Z"
    }
   },
   "cell_type": "code",
   "source": "",
   "id": "237914981f8f6682",
   "outputs": [],
   "execution_count": null
  },
  {
   "metadata": {},
   "cell_type": "markdown",
   "source": "#### Дополняем данные с предыдущих предсказаний (фильтрация + ml) ",
   "id": "dbf96e9618c2aa55"
  },
  {
   "metadata": {
    "ExecuteTime": {
     "end_time": "2024-10-12T08:49:17.456988Z",
     "start_time": "2024-10-12T08:49:17.420586Z"
    }
   },
   "cell_type": "code",
   "source": "recos_agg = recos.groupby('user_id')['item_id'].agg(lambda x: list(map(str, x))).reset_index()",
   "id": "ace9ca55b8ca263",
   "outputs": [],
   "execution_count": 830
  },
  {
   "metadata": {
    "ExecuteTime": {
     "end_time": "2024-10-12T08:49:17.529924Z",
     "start_time": "2024-10-12T08:49:17.525235Z"
    }
   },
   "cell_type": "code",
   "source": "recos_agg.head()",
   "id": "54b619de2d0e36a3",
   "outputs": [
    {
     "data": {
      "text/plain": [
       "                                user_id  \\\n",
       "0  0038911e-79a3-11ef-9b7b-002590c82436   \n",
       "1  00a8fe40-024d-11ef-9b7b-002590c82436   \n",
       "2  00d23b34-6e90-11ef-9b7b-002590c82436   \n",
       "3  00d6623e-7086-11ef-86e0-002590c0647c   \n",
       "4  00efb9f8-0d3c-11ef-9b7b-002590c82436   \n",
       "\n",
       "                                             item_id  \n",
       "0  [3914454, 4795967, 1758351, 1788591, 1628891, ...  \n",
       "1  [6873585, 6876534, 6166786, 6549415, 6456766, ...  \n",
       "2  [6415369, 6415366, 5040520, 5379376, 5214061, ...  \n",
       "3  [3845038, 3709801, 5278573, 1551965, 3907086, ...  \n",
       "4  [5479060, 5478679, 5478931, 5478691, 4005144, ...  "
      ],
      "text/html": [
       "<div>\n",
       "<style scoped>\n",
       "    .dataframe tbody tr th:only-of-type {\n",
       "        vertical-align: middle;\n",
       "    }\n",
       "\n",
       "    .dataframe tbody tr th {\n",
       "        vertical-align: top;\n",
       "    }\n",
       "\n",
       "    .dataframe thead th {\n",
       "        text-align: right;\n",
       "    }\n",
       "</style>\n",
       "<table border=\"1\" class=\"dataframe\">\n",
       "  <thead>\n",
       "    <tr style=\"text-align: right;\">\n",
       "      <th></th>\n",
       "      <th>user_id</th>\n",
       "      <th>item_id</th>\n",
       "    </tr>\n",
       "  </thead>\n",
       "  <tbody>\n",
       "    <tr>\n",
       "      <th>0</th>\n",
       "      <td>0038911e-79a3-11ef-9b7b-002590c82436</td>\n",
       "      <td>[3914454, 4795967, 1758351, 1788591, 1628891, ...</td>\n",
       "    </tr>\n",
       "    <tr>\n",
       "      <th>1</th>\n",
       "      <td>00a8fe40-024d-11ef-9b7b-002590c82436</td>\n",
       "      <td>[6873585, 6876534, 6166786, 6549415, 6456766, ...</td>\n",
       "    </tr>\n",
       "    <tr>\n",
       "      <th>2</th>\n",
       "      <td>00d23b34-6e90-11ef-9b7b-002590c82436</td>\n",
       "      <td>[6415369, 6415366, 5040520, 5379376, 5214061, ...</td>\n",
       "    </tr>\n",
       "    <tr>\n",
       "      <th>3</th>\n",
       "      <td>00d6623e-7086-11ef-86e0-002590c0647c</td>\n",
       "      <td>[3845038, 3709801, 5278573, 1551965, 3907086, ...</td>\n",
       "    </tr>\n",
       "    <tr>\n",
       "      <th>4</th>\n",
       "      <td>00efb9f8-0d3c-11ef-9b7b-002590c82436</td>\n",
       "      <td>[5479060, 5478679, 5478931, 5478691, 4005144, ...</td>\n",
       "    </tr>\n",
       "  </tbody>\n",
       "</table>\n",
       "</div>"
      ]
     },
     "execution_count": 831,
     "metadata": {},
     "output_type": "execute_result"
    }
   ],
   "execution_count": 831
  },
  {
   "metadata": {
    "ExecuteTime": {
     "end_time": "2024-10-12T08:49:20.637817Z",
     "start_time": "2024-10-12T08:49:20.634784Z"
    }
   },
   "cell_type": "code",
   "source": [
    "recos_agg_selected_uid = recos_agg[\n",
    "    recos_agg.user_id.isin(\n",
    "        data_to_check[-3000:].user_id\n",
    "    )\n",
    "]"
   ],
   "id": "f21bb1e0291b115e",
   "outputs": [],
   "execution_count": 832
  },
  {
   "metadata": {
    "ExecuteTime": {
     "end_time": "2024-10-12T08:49:20.691266Z",
     "start_time": "2024-10-12T08:49:20.688322Z"
    }
   },
   "cell_type": "code",
   "source": "recos_agg_selected_uid.shape",
   "id": "19423cc75ee0229",
   "outputs": [
    {
     "data": {
      "text/plain": [
       "(3000, 2)"
      ]
     },
     "execution_count": 833,
     "metadata": {},
     "output_type": "execute_result"
    }
   ],
   "execution_count": 833
  },
  {
   "metadata": {
    "ExecuteTime": {
     "end_time": "2024-10-12T08:49:20.822310Z",
     "start_time": "2024-10-12T08:49:20.814476Z"
    }
   },
   "cell_type": "code",
   "source": [
    "# Объединяем рекомендации с предсказанями фильтрацией и мл\n",
    "enriched_data_to_check = data_to_check[-3000:].merge(recos_agg_selected_uid, on='user_id', how='left')"
   ],
   "id": "a91bbd7f6b42311a",
   "outputs": [],
   "execution_count": 834
  },
  {
   "metadata": {
    "ExecuteTime": {
     "end_time": "2024-10-12T08:49:20.862249Z",
     "start_time": "2024-10-12T08:49:20.859605Z"
    }
   },
   "cell_type": "code",
   "source": "enriched_data_to_check.columns",
   "id": "12e644962bd8eea2",
   "outputs": [
    {
     "data": {
      "text/plain": [
       "Index(['user_id', 'item_id_x', 'item_id_y'], dtype='object')"
      ]
     },
     "execution_count": 835,
     "metadata": {},
     "output_type": "execute_result"
    }
   ],
   "execution_count": 835
  },
  {
   "metadata": {
    "ExecuteTime": {
     "end_time": "2024-10-12T08:49:23.760228Z",
     "start_time": "2024-10-12T08:49:23.756997Z"
    }
   },
   "cell_type": "code",
   "source": [
    "# Заполняем nan пустыми списками для корректного расчета метрики\n",
    "enriched_data_to_check.item_id_y.loc[enriched_data_to_check.item_id_y.isnull()] = enriched_data_to_check.item_id_y.loc[enriched_data_to_check.item_id_y.isnull()].apply(lambda x: [])"
   ],
   "id": "81053f9e282beee7",
   "outputs": [],
   "execution_count": 836
  },
  {
   "metadata": {
    "ExecuteTime": {
     "end_time": "2024-10-12T08:49:26.491504Z",
     "start_time": "2024-10-12T08:49:26.487532Z"
    }
   },
   "cell_type": "code",
   "source": [
    "# Обьединяем исходное предсказание рекомендациями по rectools  - сначала исходные айди, потом рекоммендации (порядок важен, тк далее оставляем только 25 элементов списка)\n",
    "enriched_data_to_check['item_id'] = enriched_data_to_check['item_id_x'] + enriched_data_to_check['item_id_y']"
   ],
   "id": "d535010dd8203776",
   "outputs": [],
   "execution_count": 837
  },
  {
   "metadata": {
    "ExecuteTime": {
     "end_time": "2024-10-12T08:49:29.242539Z",
     "start_time": "2024-10-12T08:49:29.235955Z"
    }
   },
   "cell_type": "code",
   "source": "enriched_data_to_check.sample(5)",
   "id": "2f121971bc9b4cee",
   "outputs": [
    {
     "data": {
      "text/plain": [
       "                                   user_id  \\\n",
       "1885  5c359f4a-8b1f-11ec-a6e9-002590c82437   \n",
       "415   5c233acc-accf-11ec-86e0-002590c0647c   \n",
       "2519  b711475a-61b3-11e8-8a53-0cc47a6d2fef   \n",
       "2366  a03e2814-558a-11ef-9b7b-002590c82436   \n",
       "1034  d765e83c-48f1-11ee-86e0-002590c0647c   \n",
       "\n",
       "                                              item_id_x  \\\n",
       "1885  [6136903, 6137164, 4909771, 6336265, 6336391, ...   \n",
       "415   [449427, 2985292, 3862459, 6462064, 2719234, 4...   \n",
       "2519                                 [4999228, 5941346]   \n",
       "2366  [5162599, 5162536, 5162530, 7059768, 359597, 6...   \n",
       "1034  [5036299, 5403910, 5404438, 1899898, 4064091, ...   \n",
       "\n",
       "                                              item_id_y  \\\n",
       "1885  [6385027, 1778379, 635062, 7098138, 6477535, 6...   \n",
       "415   [1779921, 6556312, 5396179, 6676452, 6337345, ...   \n",
       "2519  [4999228, 5941346, 6682428, 5144350, 5045935, ...   \n",
       "2366  [5162599, 5162536, 6841395, 5162530, 7059768, ...   \n",
       "1034  [5404438, 1899898, 1779660, 5403910, 5404444, ...   \n",
       "\n",
       "                                                item_id  \n",
       "1885  [6136903, 6137164, 4909771, 6336265, 6336391, ...  \n",
       "415   [449427, 2985292, 3862459, 6462064, 2719234, 4...  \n",
       "2519  [4999228, 5941346, 4999228, 5941346, 6682428, ...  \n",
       "2366  [5162599, 5162536, 5162530, 7059768, 359597, 6...  \n",
       "1034  [5036299, 5403910, 5404438, 1899898, 4064091, ...  "
      ],
      "text/html": [
       "<div>\n",
       "<style scoped>\n",
       "    .dataframe tbody tr th:only-of-type {\n",
       "        vertical-align: middle;\n",
       "    }\n",
       "\n",
       "    .dataframe tbody tr th {\n",
       "        vertical-align: top;\n",
       "    }\n",
       "\n",
       "    .dataframe thead th {\n",
       "        text-align: right;\n",
       "    }\n",
       "</style>\n",
       "<table border=\"1\" class=\"dataframe\">\n",
       "  <thead>\n",
       "    <tr style=\"text-align: right;\">\n",
       "      <th></th>\n",
       "      <th>user_id</th>\n",
       "      <th>item_id_x</th>\n",
       "      <th>item_id_y</th>\n",
       "      <th>item_id</th>\n",
       "    </tr>\n",
       "  </thead>\n",
       "  <tbody>\n",
       "    <tr>\n",
       "      <th>1885</th>\n",
       "      <td>5c359f4a-8b1f-11ec-a6e9-002590c82437</td>\n",
       "      <td>[6136903, 6137164, 4909771, 6336265, 6336391, ...</td>\n",
       "      <td>[6385027, 1778379, 635062, 7098138, 6477535, 6...</td>\n",
       "      <td>[6136903, 6137164, 4909771, 6336265, 6336391, ...</td>\n",
       "    </tr>\n",
       "    <tr>\n",
       "      <th>415</th>\n",
       "      <td>5c233acc-accf-11ec-86e0-002590c0647c</td>\n",
       "      <td>[449427, 2985292, 3862459, 6462064, 2719234, 4...</td>\n",
       "      <td>[1779921, 6556312, 5396179, 6676452, 6337345, ...</td>\n",
       "      <td>[449427, 2985292, 3862459, 6462064, 2719234, 4...</td>\n",
       "    </tr>\n",
       "    <tr>\n",
       "      <th>2519</th>\n",
       "      <td>b711475a-61b3-11e8-8a53-0cc47a6d2fef</td>\n",
       "      <td>[4999228, 5941346]</td>\n",
       "      <td>[4999228, 5941346, 6682428, 5144350, 5045935, ...</td>\n",
       "      <td>[4999228, 5941346, 4999228, 5941346, 6682428, ...</td>\n",
       "    </tr>\n",
       "    <tr>\n",
       "      <th>2366</th>\n",
       "      <td>a03e2814-558a-11ef-9b7b-002590c82436</td>\n",
       "      <td>[5162599, 5162536, 5162530, 7059768, 359597, 6...</td>\n",
       "      <td>[5162599, 5162536, 6841395, 5162530, 7059768, ...</td>\n",
       "      <td>[5162599, 5162536, 5162530, 7059768, 359597, 6...</td>\n",
       "    </tr>\n",
       "    <tr>\n",
       "      <th>1034</th>\n",
       "      <td>d765e83c-48f1-11ee-86e0-002590c0647c</td>\n",
       "      <td>[5036299, 5403910, 5404438, 1899898, 4064091, ...</td>\n",
       "      <td>[5404438, 1899898, 1779660, 5403910, 5404444, ...</td>\n",
       "      <td>[5036299, 5403910, 5404438, 1899898, 4064091, ...</td>\n",
       "    </tr>\n",
       "  </tbody>\n",
       "</table>\n",
       "</div>"
      ]
     },
     "execution_count": 838,
     "metadata": {},
     "output_type": "execute_result"
    }
   ],
   "execution_count": 838
  },
  {
   "metadata": {
    "ExecuteTime": {
     "end_time": "2024-10-12T08:49:31.936331Z",
     "start_time": "2024-10-12T08:49:31.927569Z"
    }
   },
   "cell_type": "code",
   "source": [
    "# Убеждаемся что добавлением новых товаров мы не вышли \n",
    "enriched_data_to_check['item_id'] = enriched_data_to_check['item_id'].apply(lambda x: list(set(x[:25])))"
   ],
   "id": "676c823cbb3a2c82",
   "outputs": [],
   "execution_count": 839
  },
  {
   "metadata": {
    "ExecuteTime": {
     "end_time": "2024-10-12T08:49:31.956284Z",
     "start_time": "2024-10-12T08:49:31.952832Z"
    }
   },
   "cell_type": "code",
   "source": "enriched_data_to_check = enriched_data_to_check[['user_id', 'item_id']]",
   "id": "787e6e120926c0f8",
   "outputs": [],
   "execution_count": 840
  },
  {
   "metadata": {
    "ExecuteTime": {
     "end_time": "2024-10-12T08:49:32.010596Z",
     "start_time": "2024-10-12T08:49:31.996666Z"
    }
   },
   "cell_type": "code",
   "source": "enriched_data_to_check.drop_duplicates(subset=['user_id']).shape",
   "id": "2a699c3f67dc091e",
   "outputs": [
    {
     "data": {
      "text/plain": [
       "(3000, 2)"
      ]
     },
     "execution_count": 841,
     "metadata": {},
     "output_type": "execute_result"
    }
   ],
   "execution_count": 841
  },
  {
   "metadata": {
    "ExecuteTime": {
     "end_time": "2024-10-12T08:49:32.241555Z",
     "start_time": "2024-10-12T08:49:32.230723Z"
    }
   },
   "cell_type": "code",
   "source": [
    "check_merge_ml = test_purchasers.merge(enriched_data_to_check[-3000:], on='user_id', how='left')\n",
    "check_merge_ml.item_id_y.loc[check_merge_ml.item_id_y.isnull()] = check_merge_ml.item_id_y.loc[check_merge_ml.item_id_y.isnull()].apply(lambda x: [])\n",
    "print(check_merge_ml.shape)\n",
    "check_merge_ml['recall'] = check_merge_ml.apply(calculate_recall, axis=1)\n",
    "check_merge_ml['recall'].mean().round(4)"
   ],
   "id": "2f78de4bca3db947",
   "outputs": [
    {
     "name": "stdout",
     "output_type": "stream",
     "text": [
      "(496, 3)\n"
     ]
    },
    {
     "data": {
      "text/plain": [
       "0.4984"
      ]
     },
     "execution_count": 842,
     "metadata": {},
     "output_type": "execute_result"
    }
   ],
   "execution_count": 842
  },
  {
   "metadata": {
    "ExecuteTime": {
     "end_time": "2024-10-12T08:49:37.885373Z",
     "start_time": "2024-10-12T08:49:37.883605Z"
    }
   },
   "cell_type": "code",
   "source": "",
   "id": "d41abcc08b6eb5c9",
   "outputs": [],
   "execution_count": null
  },
  {
   "metadata": {},
   "cell_type": "markdown",
   "source": "### Сохраняем результаты",
   "id": "c2f3bbb02c579c0e"
  },
  {
   "metadata": {
    "ExecuteTime": {
     "end_time": "2024-10-12T08:49:41.314895Z",
     "start_time": "2024-10-12T08:49:41.296558Z"
    }
   },
   "cell_type": "code",
   "source": "enriched_data_to_check.rename(columns={'item_id': 'products'}).reset_index().to_csv(\"r_final.csv\", index=False)",
   "id": "6533fd075d463a8b",
   "outputs": [],
   "execution_count": 843
  },
  {
   "metadata": {
    "ExecuteTime": {
     "end_time": "2024-10-12T08:49:41.336326Z",
     "start_time": "2024-10-12T08:49:41.327614Z"
    }
   },
   "cell_type": "code",
   "source": "pd.read_csv('r_final.csv').shape",
   "id": "c0ecc478bd15bf87",
   "outputs": [
    {
     "data": {
      "text/plain": [
       "(3000, 3)"
      ]
     },
     "execution_count": 844,
     "metadata": {},
     "output_type": "execute_result"
    }
   ],
   "execution_count": 844
  },
  {
   "metadata": {
    "ExecuteTime": {
     "end_time": "2024-10-11T18:43:37.274224Z",
     "start_time": "2024-10-11T18:43:37.271920Z"
    }
   },
   "cell_type": "code",
   "outputs": [],
   "source": "",
   "id": "d863abf0bb1e67d8",
   "execution_count": null
  },
  {
   "metadata": {},
   "cell_type": "code",
   "outputs": [],
   "source": "",
   "id": "24420341df21eac3",
   "execution_count": null
  },
  {
   "metadata": {
    "ExecuteTime": {
     "end_time": "2024-10-10T11:43:02.271963Z",
     "start_time": "2024-10-10T11:43:02.237844Z"
    }
   },
   "cell_type": "code",
   "outputs": [],
   "execution_count": 176,
   "source": [
    "# Не забываем выключить кластер h2o на локальной машине\n",
    "h2o.cluster().shutdown()"
   ],
   "id": "86e0213bf4b74754"
  },
  {
   "metadata": {},
   "cell_type": "code",
   "outputs": [],
   "source": "",
   "id": "9fe39f68ddcdd212",
   "execution_count": null
  }
 ],
 "metadata": {
  "kernelspec": {
   "display_name": "Python 3",
   "language": "python",
   "name": "python3"
  },
  "language_info": {
   "codemirror_mode": {
    "name": "ipython",
    "version": 2
   },
   "file_extension": ".py",
   "mimetype": "text/x-python",
   "name": "python",
   "nbconvert_exporter": "python",
   "pygments_lexer": "ipython2",
   "version": "2.7.6"
  }
 },
 "nbformat": 4,
 "nbformat_minor": 5
}
