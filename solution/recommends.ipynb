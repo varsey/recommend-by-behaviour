{
 "cells": [
  {
   "metadata": {
    "collapsed": true,
    "ExecuteTime": {
     "end_time": "2024-10-12T06:51:47.829730Z",
     "start_time": "2024-10-12T06:51:47.827989Z"
    }
   },
   "cell_type": "code",
   "source": [
    "from pathlib import Path\n",
    "\n",
    "import numpy as np\n",
    "import pandas as pd"
   ],
   "id": "initial_id",
   "outputs": [],
   "execution_count": 1
  },
  {
   "metadata": {
    "ExecuteTime": {
     "end_time": "2024-10-12T06:51:48.099075Z",
     "start_time": "2024-10-12T06:51:47.869779Z"
    }
   },
   "cell_type": "code",
   "source": [
    "import h2o\n",
    "from h2o.estimators.gbm import H2OGradientBoostingEstimator"
   ],
   "id": "5802908c400af4a0",
   "outputs": [],
   "execution_count": 2
  },
  {
   "metadata": {
    "ExecuteTime": {
     "end_time": "2024-10-12T06:51:50.483858Z",
     "start_time": "2024-10-12T06:51:48.193626Z"
    }
   },
   "cell_type": "code",
   "source": [
    "import os\n",
    "import threadpoolctl\n",
    "import warnings\n",
    "\n",
    "from rectools.models import ImplicitALSWrapperModel\n",
    "from rectools.dataset import Dataset\n",
    "from implicit.als import AlternatingLeastSquares\n",
    "\n",
    "warnings.filterwarnings('ignore')\n",
    "\n",
    "# For implicit ALS\n",
    "os.environ[\"OPENBLAS_NUM_THREADS\"] = \"1\"\n",
    "threadpoolctl.threadpool_limits(1, \"blas\")"
   ],
   "id": "8a30bde391d9e196",
   "outputs": [
    {
     "data": {
      "text/plain": [
       "<threadpoolctl.threadpool_limits at 0x780acb85a510>"
      ]
     },
     "execution_count": 3,
     "metadata": {},
     "output_type": "execute_result"
    }
   ],
   "execution_count": 3
  },
  {
   "metadata": {
    "ExecuteTime": {
     "end_time": "2024-10-12T06:51:50.605646Z",
     "start_time": "2024-10-12T06:51:50.602101Z"
    }
   },
   "cell_type": "code",
   "source": "from src.utils import processing, calculate_recall",
   "id": "8713cf7a9fc9dc59",
   "outputs": [],
   "execution_count": 4
  },
  {
   "metadata": {
    "ExecuteTime": {
     "end_time": "2024-10-12T06:51:50.734484Z",
     "start_time": "2024-10-12T06:51:50.661982Z"
    }
   },
   "cell_type": "code",
   "source": [
    "catalog = pd.read_parquet(f'{Path.cwd().parent}/data/stokman_catalog_preprocessed.pq', engine='pyarrow')\n",
    "catalog.head()"
   ],
   "id": "ed039728e851bc93",
   "outputs": [
    {
     "data": {
      "text/plain": [
       "             add_date shop_id product_id category_id  price  \\\n",
       "0 2024-09-30 03:07:09     350    1025536        8922   6990   \n",
       "1 2024-09-19 03:07:08     350    1025614       10600    330   \n",
       "2 2024-09-30 03:07:09     350    1025656         231  13240   \n",
       "3 2024-09-30 03:07:09     350    1025659       14546   7550   \n",
       "4 2024-09-30 03:07:09     350    1025668        1949   1290   \n",
       "\n",
       "                                       title  old_price  \n",
       "0               6048 48557 44342 53515 17614       6990  \n",
       "1          42548 40244 23485 10853 6545 2343        330  \n",
       "2  14034 42002 48557 56089 46836 55620 50785      26490  \n",
       "3        32640 50164 48557 25314 23255 42146      12590  \n",
       "4                    51789 48557 56089 20149       1290  "
      ],
      "text/html": [
       "<div>\n",
       "<style scoped>\n",
       "    .dataframe tbody tr th:only-of-type {\n",
       "        vertical-align: middle;\n",
       "    }\n",
       "\n",
       "    .dataframe tbody tr th {\n",
       "        vertical-align: top;\n",
       "    }\n",
       "\n",
       "    .dataframe thead th {\n",
       "        text-align: right;\n",
       "    }\n",
       "</style>\n",
       "<table border=\"1\" class=\"dataframe\">\n",
       "  <thead>\n",
       "    <tr style=\"text-align: right;\">\n",
       "      <th></th>\n",
       "      <th>add_date</th>\n",
       "      <th>shop_id</th>\n",
       "      <th>product_id</th>\n",
       "      <th>category_id</th>\n",
       "      <th>price</th>\n",
       "      <th>title</th>\n",
       "      <th>old_price</th>\n",
       "    </tr>\n",
       "  </thead>\n",
       "  <tbody>\n",
       "    <tr>\n",
       "      <th>0</th>\n",
       "      <td>2024-09-30 03:07:09</td>\n",
       "      <td>350</td>\n",
       "      <td>1025536</td>\n",
       "      <td>8922</td>\n",
       "      <td>6990</td>\n",
       "      <td>6048 48557 44342 53515 17614</td>\n",
       "      <td>6990</td>\n",
       "    </tr>\n",
       "    <tr>\n",
       "      <th>1</th>\n",
       "      <td>2024-09-19 03:07:08</td>\n",
       "      <td>350</td>\n",
       "      <td>1025614</td>\n",
       "      <td>10600</td>\n",
       "      <td>330</td>\n",
       "      <td>42548 40244 23485 10853 6545 2343</td>\n",
       "      <td>330</td>\n",
       "    </tr>\n",
       "    <tr>\n",
       "      <th>2</th>\n",
       "      <td>2024-09-30 03:07:09</td>\n",
       "      <td>350</td>\n",
       "      <td>1025656</td>\n",
       "      <td>231</td>\n",
       "      <td>13240</td>\n",
       "      <td>14034 42002 48557 56089 46836 55620 50785</td>\n",
       "      <td>26490</td>\n",
       "    </tr>\n",
       "    <tr>\n",
       "      <th>3</th>\n",
       "      <td>2024-09-30 03:07:09</td>\n",
       "      <td>350</td>\n",
       "      <td>1025659</td>\n",
       "      <td>14546</td>\n",
       "      <td>7550</td>\n",
       "      <td>32640 50164 48557 25314 23255 42146</td>\n",
       "      <td>12590</td>\n",
       "    </tr>\n",
       "    <tr>\n",
       "      <th>4</th>\n",
       "      <td>2024-09-30 03:07:09</td>\n",
       "      <td>350</td>\n",
       "      <td>1025668</td>\n",
       "      <td>1949</td>\n",
       "      <td>1290</td>\n",
       "      <td>51789 48557 56089 20149</td>\n",
       "      <td>1290</td>\n",
       "    </tr>\n",
       "  </tbody>\n",
       "</table>\n",
       "</div>"
      ]
     },
     "execution_count": 5,
     "metadata": {},
     "output_type": "execute_result"
    }
   ],
   "execution_count": 5
  },
  {
   "metadata": {
    "ExecuteTime": {
     "end_time": "2024-10-12T06:51:53.560794Z",
     "start_time": "2024-10-12T06:51:50.983887Z"
    }
   },
   "cell_type": "code",
   "source": [
    "actions = pd.read_parquet(f'{Path.cwd().parent}/data/train_actions.pq', engine='pyarrow')\n",
    "actions.head()"
   ],
   "id": "981e162b35596c1",
   "outputs": [
    {
     "data": {
      "text/plain": [
       "                                user_id                           loc_user_id  \\\n",
       "0  6fd49b56-8cc6-11ed-86e0-002590c0647c  c6e357dc-121d-449d-a744-e9a0b56c2380   \n",
       "1  6fd49b56-8cc6-11ed-86e0-002590c0647c  c6e357dc-121d-449d-a744-e9a0b56c2380   \n",
       "2  f9c498ec-5d3b-11ef-86e0-002590c0647c  120c9064-1131-4dc3-8048-44184531b42e   \n",
       "3  59386b5c-e64f-11ec-8086-002590c82437  f0745572-893f-4e50-bc52-5af47badff5a   \n",
       "4  badbd396-6cab-11ef-86e0-002590c0647c  73423d85-d47c-4332-8155-5200615302b5   \n",
       "\n",
       "   action                date products      pageId  \n",
       "0       7 2024-09-07 00:00:04       []  2571824865  \n",
       "1       7 2024-09-07 00:00:08       []  3834364438  \n",
       "2       7 2024-09-07 00:00:08       []  2448628415  \n",
       "3       7 2024-09-07 00:00:11       []  3875013967  \n",
       "4       7 2024-09-07 00:00:11       []  3025531174  "
      ],
      "text/html": [
       "<div>\n",
       "<style scoped>\n",
       "    .dataframe tbody tr th:only-of-type {\n",
       "        vertical-align: middle;\n",
       "    }\n",
       "\n",
       "    .dataframe tbody tr th {\n",
       "        vertical-align: top;\n",
       "    }\n",
       "\n",
       "    .dataframe thead th {\n",
       "        text-align: right;\n",
       "    }\n",
       "</style>\n",
       "<table border=\"1\" class=\"dataframe\">\n",
       "  <thead>\n",
       "    <tr style=\"text-align: right;\">\n",
       "      <th></th>\n",
       "      <th>user_id</th>\n",
       "      <th>loc_user_id</th>\n",
       "      <th>action</th>\n",
       "      <th>date</th>\n",
       "      <th>products</th>\n",
       "      <th>pageId</th>\n",
       "    </tr>\n",
       "  </thead>\n",
       "  <tbody>\n",
       "    <tr>\n",
       "      <th>0</th>\n",
       "      <td>6fd49b56-8cc6-11ed-86e0-002590c0647c</td>\n",
       "      <td>c6e357dc-121d-449d-a744-e9a0b56c2380</td>\n",
       "      <td>7</td>\n",
       "      <td>2024-09-07 00:00:04</td>\n",
       "      <td>[]</td>\n",
       "      <td>2571824865</td>\n",
       "    </tr>\n",
       "    <tr>\n",
       "      <th>1</th>\n",
       "      <td>6fd49b56-8cc6-11ed-86e0-002590c0647c</td>\n",
       "      <td>c6e357dc-121d-449d-a744-e9a0b56c2380</td>\n",
       "      <td>7</td>\n",
       "      <td>2024-09-07 00:00:08</td>\n",
       "      <td>[]</td>\n",
       "      <td>3834364438</td>\n",
       "    </tr>\n",
       "    <tr>\n",
       "      <th>2</th>\n",
       "      <td>f9c498ec-5d3b-11ef-86e0-002590c0647c</td>\n",
       "      <td>120c9064-1131-4dc3-8048-44184531b42e</td>\n",
       "      <td>7</td>\n",
       "      <td>2024-09-07 00:00:08</td>\n",
       "      <td>[]</td>\n",
       "      <td>2448628415</td>\n",
       "    </tr>\n",
       "    <tr>\n",
       "      <th>3</th>\n",
       "      <td>59386b5c-e64f-11ec-8086-002590c82437</td>\n",
       "      <td>f0745572-893f-4e50-bc52-5af47badff5a</td>\n",
       "      <td>7</td>\n",
       "      <td>2024-09-07 00:00:11</td>\n",
       "      <td>[]</td>\n",
       "      <td>3875013967</td>\n",
       "    </tr>\n",
       "    <tr>\n",
       "      <th>4</th>\n",
       "      <td>badbd396-6cab-11ef-86e0-002590c0647c</td>\n",
       "      <td>73423d85-d47c-4332-8155-5200615302b5</td>\n",
       "      <td>7</td>\n",
       "      <td>2024-09-07 00:00:11</td>\n",
       "      <td>[]</td>\n",
       "      <td>3025531174</td>\n",
       "    </tr>\n",
       "  </tbody>\n",
       "</table>\n",
       "</div>"
      ]
     },
     "execution_count": 6,
     "metadata": {},
     "output_type": "execute_result"
    }
   ],
   "execution_count": 6
  },
  {
   "metadata": {},
   "cell_type": "markdown",
   "source": "#### Разворачиваем данные по айдишникам продуктов",
   "id": "56e5db1a6058946c"
  },
  {
   "metadata": {
    "ExecuteTime": {
     "end_time": "2024-10-12T06:52:58.617042Z",
     "start_time": "2024-10-12T06:52:54.795010Z"
    }
   },
   "cell_type": "code",
   "source": [
    "_actions = (\n",
    "    actions\n",
    "    .copy()\n",
    "    .explode('products')\n",
    "    .assign(products=lambda x: x.products.fillna(-1).astype(np.int64))\n",
    ")\n",
    "print(_actions.shape)\n",
    "\n",
    "_catalog = (\n",
    "    catalog\n",
    "    .copy()\n",
    "    .assign(product_id=lambda x: x.product_id.astype(np.int64))\n",
    ")"
   ],
   "id": "3e0c476cbb5adeb0",
   "outputs": [
    {
     "name": "stdout",
     "output_type": "stream",
     "text": [
      "(6859002, 6)\n"
     ]
    }
   ],
   "execution_count": 9
  },
  {
   "metadata": {},
   "cell_type": "markdown",
   "source": "#### Разворачиваем данные по айдишникам продуктов",
   "id": "8ab92b6327317d65"
  },
  {
   "metadata": {
    "ExecuteTime": {
     "end_time": "2024-10-12T06:53:00.402393Z",
     "start_time": "2024-10-12T06:52:58.781291Z"
    }
   },
   "cell_type": "code",
   "source": [
    "_actions['action_datetime'] = pd.to_datetime(_actions['date'])\n",
    "\n",
    "_actions.action = _actions.action + 10\n",
    "_actions.action = _actions.action.replace({14: 0, 13: 4, 18: 2, 19: 3, 10: 5, 17: 1, 11: 6, 12: 7, 16: 8, 15: 9})\n",
    "_actions = _actions.sort_values(by=['action', 'date'])\n",
    "print(_actions.shape)"
   ],
   "id": "33bc13582ac56739",
   "outputs": [
    {
     "name": "stdout",
     "output_type": "stream",
     "text": [
      "(6859002, 7)\n"
     ]
    }
   ],
   "execution_count": 10
  },
  {
   "metadata": {},
   "cell_type": "markdown",
   "source": [
    "#### Новая шкала action в train_actions.pq в порядке возрастания важности\n",
    "    0 - clearB (удаление всех товаров из корзины)\n",
    "    1 - visit (посещение страницы с товаром)\n",
    "    2 - visitCategory (посещение страницы с группой товаров)\n",
    "    3 - search (поиск товара)           \n",
    "    4 - delB (удаление товара из корзины)\n",
    "    5 - view (просмотр товара)\n",
    "    6 - like (лайк товара)\n",
    "    7 - addB (добавление товара в корзину)\n",
    "    8 - listB (посещение страницы корзины и вывод списка товаров в корзине)\n",
    "    9 - order (оформление заказа)\n",
    "    "
   ],
   "id": "61bff49bb1302804"
  },
  {
   "metadata": {},
   "cell_type": "markdown",
   "source": [
    "#### Переименовываем поля и обьеденияем датасеты каталога и дейсвтвий пользователя    \n",
    "'products' теперь 'item_id', 'action'  превратился в 'weight' (мы перевели код действия в шкалу по возрастанию ранее)"
   ],
   "id": "edbf3590e0fdcf21"
  },
  {
   "metadata": {
    "ExecuteTime": {
     "end_time": "2024-10-12T06:53:02.867082Z",
     "start_time": "2024-10-12T06:53:02.039959Z"
    }
   },
   "cell_type": "code",
   "source": "interactions = _actions.rename(columns={'products': 'item_id', 'action' : 'weight', 'action_datetime': 'datetime'})",
   "id": "9cf4c400c2eb31f2",
   "outputs": [],
   "execution_count": 11
  },
  {
   "metadata": {
    "ExecuteTime": {
     "end_time": "2024-10-12T06:53:02.878085Z",
     "start_time": "2024-10-12T06:53:02.872848Z"
    }
   },
   "cell_type": "code",
   "source": "items = _catalog.rename(columns={'product_id': 'item_id'})",
   "id": "44b6d7a792587132",
   "outputs": [],
   "execution_count": 12
  },
  {
   "metadata": {
    "ExecuteTime": {
     "end_time": "2024-10-12T06:53:04.344974Z",
     "start_time": "2024-10-12T06:53:03.545502Z"
    }
   },
   "cell_type": "code",
   "source": [
    "interactions_merge = interactions.merge(items, on='item_id', how='left')\n",
    "interactions_merge.shape"
   ],
   "id": "29511698b4b25a81",
   "outputs": [
    {
     "data": {
      "text/plain": [
       "(6859002, 13)"
      ]
     },
     "execution_count": 13,
     "metadata": {},
     "output_type": "execute_result"
    }
   ],
   "execution_count": 13
  },
  {
   "metadata": {
    "ExecuteTime": {
     "end_time": "2024-10-12T06:53:05.073946Z",
     "start_time": "2024-10-12T06:53:04.750363Z"
    }
   },
   "cell_type": "code",
   "source": [
    "interactions_merge['day'] = interactions_merge['datetime'].dt.day\n",
    "interactions_merge['day_of_week'] = interactions_merge['datetime'].dt.dayofweek  # Monday=0, Sunday=6\n",
    "\n",
    "interactions_merge['hour'] = interactions_merge['datetime'].dt.hour\n",
    "interactions_merge['minute'] = interactions_merge['datetime'].dt.minute"
   ],
   "id": "59042b7e4bce6aa9",
   "outputs": [],
   "execution_count": 14
  },
  {
   "metadata": {
    "ExecuteTime": {
     "end_time": "2024-10-12T06:53:07.603443Z",
     "start_time": "2024-10-12T06:53:06.536527Z"
    }
   },
   "cell_type": "code",
   "source": [
    "interactions_merge['price_diff'] = interactions_merge['price'] - interactions_merge['old_price']\n",
    "\n",
    "interactions_merge['category_id'] = interactions_merge['category_id'].fillna(0)\n",
    "interactions_merge['price_diff'] = interactions_merge['price_diff'].fillna(0)\n",
    "\n",
    "interactions_merge['category_id'] = interactions_merge['category_id'].astype(np.int32)"
   ],
   "id": "e1baf5098e5fb6a5",
   "outputs": [],
   "execution_count": 15
  },
  {
   "metadata": {
    "ExecuteTime": {
     "end_time": "2024-10-12T06:53:13.776212Z",
     "start_time": "2024-10-12T06:53:10.726390Z"
    }
   },
   "cell_type": "code",
   "source": [
    "inters = interactions_merge.merge(\n",
    "    interactions_merge.groupby('user_id')['loc_user_id'].count().reset_index(name='loc_user_count'),\n",
    "    on='user_id',\n",
    "    how='left'\n",
    ")\n",
    "print(inters.shape)"
   ],
   "id": "dbeec347bf647835",
   "outputs": [
    {
     "name": "stdout",
     "output_type": "stream",
     "text": [
      "(6859002, 19)\n"
     ]
    }
   ],
   "execution_count": 16
  },
  {
   "metadata": {
    "ExecuteTime": {
     "end_time": "2024-10-12T06:53:16.020785Z",
     "start_time": "2024-10-12T06:53:13.893387Z"
    }
   },
   "cell_type": "code",
   "source": [
    "inters = inters.merge(\n",
    "    interactions_merge.groupby('user_id')['category_id'].count().reset_index(name='category_id_count'),\n",
    "    on='user_id',\n",
    "    how='left'\n",
    ")\n",
    "print(inters.shape)"
   ],
   "id": "134633534bc44644",
   "outputs": [
    {
     "name": "stdout",
     "output_type": "stream",
     "text": [
      "(6859002, 20)\n"
     ]
    }
   ],
   "execution_count": 17
  },
  {
   "metadata": {
    "ExecuteTime": {
     "end_time": "2024-10-12T06:53:16.142659Z",
     "start_time": "2024-10-12T06:53:16.140825Z"
    }
   },
   "cell_type": "code",
   "source": "",
   "id": "57fdee436f311726",
   "outputs": [],
   "execution_count": null
  },
  {
   "metadata": {
    "ExecuteTime": {
     "end_time": "2024-10-12T06:53:28.806194Z",
     "start_time": "2024-10-12T06:53:16.242119Z"
    }
   },
   "cell_type": "code",
   "source": [
    "for action in sorted(interactions_merge.weight.unique()):\n",
    "    inters = inters.merge(\n",
    "        interactions_merge[interactions_merge.weight  == action].groupby('user_id')['weight'].count().reset_index(name=f'action_{action}_count'),\n",
    "        on='user_id',\n",
    "        how='left'\n",
    "    )\n",
    "    inters[f'action_{action}_count'] = inters[f'action_{action}_count'].fillna(0)\n",
    "print(inters.shape)"
   ],
   "id": "e1bacf3c6ee6e617",
   "outputs": [
    {
     "name": "stdout",
     "output_type": "stream",
     "text": [
      "(6859002, 30)\n"
     ]
    }
   ],
   "execution_count": 18
  },
  {
   "metadata": {
    "ExecuteTime": {
     "end_time": "2024-10-11T21:31:29.695351Z",
     "start_time": "2024-10-11T21:31:29.693731Z"
    }
   },
   "cell_type": "code",
   "source": "",
   "id": "b046b5b46ce107b1",
   "outputs": [],
   "execution_count": null
  },
  {
   "metadata": {
    "ExecuteTime": {
     "end_time": "2024-10-12T06:53:38.064970Z",
     "start_time": "2024-10-12T06:53:35.229443Z"
    }
   },
   "cell_type": "code",
   "source": [
    "inters['delta_sec'] = inters.sort_values(by=['datetime']).groupby('user_id')['datetime'].diff()\n",
    "inters['delta_sec'] = inters['delta_sec'].dt.total_seconds()\n",
    "inters['delta_sec'] = inters['delta_sec'].fillna(0)"
   ],
   "id": "e5529ba8b7fa03a3",
   "outputs": [],
   "execution_count": 19
  },
  {
   "metadata": {
    "ExecuteTime": {
     "end_time": "2024-10-12T06:53:45.510242Z",
     "start_time": "2024-10-12T06:53:38.068385Z"
    }
   },
   "cell_type": "code",
   "source": [
    "inters['delta_day'] = inters.sort_values(by=['datetime']).groupby('user_id')['day'].diff()\n",
    "inters['delta_day'] = inters['delta_day'].fillna(0)\n",
    "\n",
    "inters['delta_hour'] = inters.sort_values(by=['datetime']).groupby('user_id')['hour'].diff()\n",
    "inters['delta_hour'] = inters['delta_hour'].fillna(0)\n",
    "\n",
    "inters['delta_min'] = inters.sort_values(by=['datetime']).groupby('user_id')['minute'].diff()\n",
    "inters['delta_min'] = inters['delta_min'].fillna(0)"
   ],
   "id": "366408200ad38780",
   "outputs": [],
   "execution_count": 20
  },
  {
   "metadata": {
    "ExecuteTime": {
     "end_time": "2024-10-12T06:53:47.051862Z",
     "start_time": "2024-10-12T06:53:46.382858Z"
    }
   },
   "cell_type": "code",
   "source": "inters = inters.drop(columns=['day', 'hour', 'minute'])",
   "id": "b4d3d265efe6438c",
   "outputs": [],
   "execution_count": 21
  },
  {
   "metadata": {
    "ExecuteTime": {
     "end_time": "2024-10-12T06:53:48.387598Z",
     "start_time": "2024-10-12T06:53:48.019316Z"
    }
   },
   "cell_type": "code",
   "source": "inters = inters.drop(columns=['price', 'title', 'old_price', 'date', 'add_date', 'loc_user_id', 'shop_id'])",
   "id": "5a08b82472678503",
   "outputs": [],
   "execution_count": 22
  },
  {
   "metadata": {
    "ExecuteTime": {
     "end_time": "2024-10-12T07:03:06.492669Z",
     "start_time": "2024-10-12T07:03:05.268110Z"
    }
   },
   "cell_type": "code",
   "source": [
    "inters = inters[inters['item_id'] != '/*']\n",
    "inters = inters[inters['user_id'] != '/*']"
   ],
   "id": "4fb8cb777c7bd7ba",
   "outputs": [],
   "execution_count": 55
  },
  {
   "metadata": {
    "ExecuteTime": {
     "end_time": "2024-10-12T07:03:07.341243Z",
     "start_time": "2024-10-12T07:03:07.082250Z"
    }
   },
   "cell_type": "code",
   "source": "inters[inters.user_id == 'e4362420-f6ca-11ec-86e0-002590c0647c'].head(500)",
   "id": "84c3076767e80047",
   "outputs": [
    {
     "data": {
      "text/plain": [
       "                                      user_id  weight  item_id      pageId  \\\n",
       "379      e4362420-f6ca-11ec-86e0-002590c0647c       1       -1  4263215769   \n",
       "383      e4362420-f6ca-11ec-86e0-002590c0647c       1       -1  4263215769   \n",
       "387      e4362420-f6ca-11ec-86e0-002590c0647c       1       -1  4263215769   \n",
       "388      e4362420-f6ca-11ec-86e0-002590c0647c       1       -1  4263215769   \n",
       "404      e4362420-f6ca-11ec-86e0-002590c0647c       1       -1  3450082821   \n",
       "...                                       ...     ...      ...         ...   \n",
       "6295889  e4362420-f6ca-11ec-86e0-002590c0647c       5  6770769   252042197   \n",
       "6295906  e4362420-f6ca-11ec-86e0-002590c0647c       5  6990711   252042197   \n",
       "6295912  e4362420-f6ca-11ec-86e0-002590c0647c       5  6770769   252042197   \n",
       "6847200  e4362420-f6ca-11ec-86e0-002590c0647c       9  5422963  4263215769   \n",
       "6847201  e4362420-f6ca-11ec-86e0-002590c0647c       9  4899652  4263215769   \n",
       "\n",
       "                   datetime  category_id  day_of_week  price_diff  \\\n",
       "379     2024-09-07 00:00:26            0            5         0.0   \n",
       "383     2024-09-07 00:00:41            0            5         0.0   \n",
       "387     2024-09-07 00:00:51            0            5         0.0   \n",
       "388     2024-09-07 00:00:52            0            5         0.0   \n",
       "404     2024-09-07 00:01:37            0            5         0.0   \n",
       "...                     ...          ...          ...         ...   \n",
       "6295889 2024-09-27 06:14:04        50448            4         0.0   \n",
       "6295906 2024-09-27 06:14:21        50448            4         0.0   \n",
       "6295912 2024-09-27 06:14:25        50448            4         0.0   \n",
       "6847200 2024-09-07 00:01:12         2247            5     -5700.0   \n",
       "6847201 2024-09-07 00:01:12          389            5     -4500.0   \n",
       "\n",
       "         loc_user_count  category_id_count  ...  action_4_count  \\\n",
       "379                 384                384  ...             0.0   \n",
       "383                 384                384  ...             0.0   \n",
       "387                 384                384  ...             0.0   \n",
       "388                 384                384  ...             0.0   \n",
       "404                 384                384  ...             0.0   \n",
       "...                 ...                ...  ...             ...   \n",
       "6295889             384                384  ...             0.0   \n",
       "6295906             384                384  ...             0.0   \n",
       "6295912             384                384  ...             0.0   \n",
       "6847200             384                384  ...             0.0   \n",
       "6847201             384                384  ...             0.0   \n",
       "\n",
       "         action_5_count  action_6_count  action_7_count  action_8_count  \\\n",
       "379                57.0             0.0             0.0             0.0   \n",
       "383                57.0             0.0             0.0             0.0   \n",
       "387                57.0             0.0             0.0             0.0   \n",
       "388                57.0             0.0             0.0             0.0   \n",
       "404                57.0             0.0             0.0             0.0   \n",
       "...                 ...             ...             ...             ...   \n",
       "6295889            57.0             0.0             0.0             0.0   \n",
       "6295906            57.0             0.0             0.0             0.0   \n",
       "6295912            57.0             0.0             0.0             0.0   \n",
       "6847200            57.0             0.0             0.0             0.0   \n",
       "6847201            57.0             0.0             0.0             0.0   \n",
       "\n",
       "         action_9_count  delta_sec  delta_day  delta_hour  delta_min  \n",
       "379                 2.0        0.0        0.0         0.0        0.0  \n",
       "383                 2.0       15.0        0.0         0.0        0.0  \n",
       "387                 2.0       10.0        0.0         0.0        0.0  \n",
       "388                 2.0        1.0        0.0         0.0        0.0  \n",
       "404                 2.0       25.0        0.0         0.0        0.0  \n",
       "...                 ...        ...        ...         ...        ...  \n",
       "6295889             2.0        1.0        0.0         0.0        0.0  \n",
       "6295906             2.0        1.0        0.0         0.0        0.0  \n",
       "6295912             2.0        1.0        0.0         0.0        0.0  \n",
       "6847200             2.0        0.0        0.0         0.0        0.0  \n",
       "6847201             2.0       20.0        0.0         0.0        1.0  \n",
       "\n",
       "[384 rows x 24 columns]"
      ],
      "text/html": [
       "<div>\n",
       "<style scoped>\n",
       "    .dataframe tbody tr th:only-of-type {\n",
       "        vertical-align: middle;\n",
       "    }\n",
       "\n",
       "    .dataframe tbody tr th {\n",
       "        vertical-align: top;\n",
       "    }\n",
       "\n",
       "    .dataframe thead th {\n",
       "        text-align: right;\n",
       "    }\n",
       "</style>\n",
       "<table border=\"1\" class=\"dataframe\">\n",
       "  <thead>\n",
       "    <tr style=\"text-align: right;\">\n",
       "      <th></th>\n",
       "      <th>user_id</th>\n",
       "      <th>weight</th>\n",
       "      <th>item_id</th>\n",
       "      <th>pageId</th>\n",
       "      <th>datetime</th>\n",
       "      <th>category_id</th>\n",
       "      <th>day_of_week</th>\n",
       "      <th>price_diff</th>\n",
       "      <th>loc_user_count</th>\n",
       "      <th>category_id_count</th>\n",
       "      <th>...</th>\n",
       "      <th>action_4_count</th>\n",
       "      <th>action_5_count</th>\n",
       "      <th>action_6_count</th>\n",
       "      <th>action_7_count</th>\n",
       "      <th>action_8_count</th>\n",
       "      <th>action_9_count</th>\n",
       "      <th>delta_sec</th>\n",
       "      <th>delta_day</th>\n",
       "      <th>delta_hour</th>\n",
       "      <th>delta_min</th>\n",
       "    </tr>\n",
       "  </thead>\n",
       "  <tbody>\n",
       "    <tr>\n",
       "      <th>379</th>\n",
       "      <td>e4362420-f6ca-11ec-86e0-002590c0647c</td>\n",
       "      <td>1</td>\n",
       "      <td>-1</td>\n",
       "      <td>4263215769</td>\n",
       "      <td>2024-09-07 00:00:26</td>\n",
       "      <td>0</td>\n",
       "      <td>5</td>\n",
       "      <td>0.0</td>\n",
       "      <td>384</td>\n",
       "      <td>384</td>\n",
       "      <td>...</td>\n",
       "      <td>0.0</td>\n",
       "      <td>57.0</td>\n",
       "      <td>0.0</td>\n",
       "      <td>0.0</td>\n",
       "      <td>0.0</td>\n",
       "      <td>2.0</td>\n",
       "      <td>0.0</td>\n",
       "      <td>0.0</td>\n",
       "      <td>0.0</td>\n",
       "      <td>0.0</td>\n",
       "    </tr>\n",
       "    <tr>\n",
       "      <th>383</th>\n",
       "      <td>e4362420-f6ca-11ec-86e0-002590c0647c</td>\n",
       "      <td>1</td>\n",
       "      <td>-1</td>\n",
       "      <td>4263215769</td>\n",
       "      <td>2024-09-07 00:00:41</td>\n",
       "      <td>0</td>\n",
       "      <td>5</td>\n",
       "      <td>0.0</td>\n",
       "      <td>384</td>\n",
       "      <td>384</td>\n",
       "      <td>...</td>\n",
       "      <td>0.0</td>\n",
       "      <td>57.0</td>\n",
       "      <td>0.0</td>\n",
       "      <td>0.0</td>\n",
       "      <td>0.0</td>\n",
       "      <td>2.0</td>\n",
       "      <td>15.0</td>\n",
       "      <td>0.0</td>\n",
       "      <td>0.0</td>\n",
       "      <td>0.0</td>\n",
       "    </tr>\n",
       "    <tr>\n",
       "      <th>387</th>\n",
       "      <td>e4362420-f6ca-11ec-86e0-002590c0647c</td>\n",
       "      <td>1</td>\n",
       "      <td>-1</td>\n",
       "      <td>4263215769</td>\n",
       "      <td>2024-09-07 00:00:51</td>\n",
       "      <td>0</td>\n",
       "      <td>5</td>\n",
       "      <td>0.0</td>\n",
       "      <td>384</td>\n",
       "      <td>384</td>\n",
       "      <td>...</td>\n",
       "      <td>0.0</td>\n",
       "      <td>57.0</td>\n",
       "      <td>0.0</td>\n",
       "      <td>0.0</td>\n",
       "      <td>0.0</td>\n",
       "      <td>2.0</td>\n",
       "      <td>10.0</td>\n",
       "      <td>0.0</td>\n",
       "      <td>0.0</td>\n",
       "      <td>0.0</td>\n",
       "    </tr>\n",
       "    <tr>\n",
       "      <th>388</th>\n",
       "      <td>e4362420-f6ca-11ec-86e0-002590c0647c</td>\n",
       "      <td>1</td>\n",
       "      <td>-1</td>\n",
       "      <td>4263215769</td>\n",
       "      <td>2024-09-07 00:00:52</td>\n",
       "      <td>0</td>\n",
       "      <td>5</td>\n",
       "      <td>0.0</td>\n",
       "      <td>384</td>\n",
       "      <td>384</td>\n",
       "      <td>...</td>\n",
       "      <td>0.0</td>\n",
       "      <td>57.0</td>\n",
       "      <td>0.0</td>\n",
       "      <td>0.0</td>\n",
       "      <td>0.0</td>\n",
       "      <td>2.0</td>\n",
       "      <td>1.0</td>\n",
       "      <td>0.0</td>\n",
       "      <td>0.0</td>\n",
       "      <td>0.0</td>\n",
       "    </tr>\n",
       "    <tr>\n",
       "      <th>404</th>\n",
       "      <td>e4362420-f6ca-11ec-86e0-002590c0647c</td>\n",
       "      <td>1</td>\n",
       "      <td>-1</td>\n",
       "      <td>3450082821</td>\n",
       "      <td>2024-09-07 00:01:37</td>\n",
       "      <td>0</td>\n",
       "      <td>5</td>\n",
       "      <td>0.0</td>\n",
       "      <td>384</td>\n",
       "      <td>384</td>\n",
       "      <td>...</td>\n",
       "      <td>0.0</td>\n",
       "      <td>57.0</td>\n",
       "      <td>0.0</td>\n",
       "      <td>0.0</td>\n",
       "      <td>0.0</td>\n",
       "      <td>2.0</td>\n",
       "      <td>25.0</td>\n",
       "      <td>0.0</td>\n",
       "      <td>0.0</td>\n",
       "      <td>0.0</td>\n",
       "    </tr>\n",
       "    <tr>\n",
       "      <th>...</th>\n",
       "      <td>...</td>\n",
       "      <td>...</td>\n",
       "      <td>...</td>\n",
       "      <td>...</td>\n",
       "      <td>...</td>\n",
       "      <td>...</td>\n",
       "      <td>...</td>\n",
       "      <td>...</td>\n",
       "      <td>...</td>\n",
       "      <td>...</td>\n",
       "      <td>...</td>\n",
       "      <td>...</td>\n",
       "      <td>...</td>\n",
       "      <td>...</td>\n",
       "      <td>...</td>\n",
       "      <td>...</td>\n",
       "      <td>...</td>\n",
       "      <td>...</td>\n",
       "      <td>...</td>\n",
       "      <td>...</td>\n",
       "      <td>...</td>\n",
       "    </tr>\n",
       "    <tr>\n",
       "      <th>6295889</th>\n",
       "      <td>e4362420-f6ca-11ec-86e0-002590c0647c</td>\n",
       "      <td>5</td>\n",
       "      <td>6770769</td>\n",
       "      <td>252042197</td>\n",
       "      <td>2024-09-27 06:14:04</td>\n",
       "      <td>50448</td>\n",
       "      <td>4</td>\n",
       "      <td>0.0</td>\n",
       "      <td>384</td>\n",
       "      <td>384</td>\n",
       "      <td>...</td>\n",
       "      <td>0.0</td>\n",
       "      <td>57.0</td>\n",
       "      <td>0.0</td>\n",
       "      <td>0.0</td>\n",
       "      <td>0.0</td>\n",
       "      <td>2.0</td>\n",
       "      <td>1.0</td>\n",
       "      <td>0.0</td>\n",
       "      <td>0.0</td>\n",
       "      <td>0.0</td>\n",
       "    </tr>\n",
       "    <tr>\n",
       "      <th>6295906</th>\n",
       "      <td>e4362420-f6ca-11ec-86e0-002590c0647c</td>\n",
       "      <td>5</td>\n",
       "      <td>6990711</td>\n",
       "      <td>252042197</td>\n",
       "      <td>2024-09-27 06:14:21</td>\n",
       "      <td>50448</td>\n",
       "      <td>4</td>\n",
       "      <td>0.0</td>\n",
       "      <td>384</td>\n",
       "      <td>384</td>\n",
       "      <td>...</td>\n",
       "      <td>0.0</td>\n",
       "      <td>57.0</td>\n",
       "      <td>0.0</td>\n",
       "      <td>0.0</td>\n",
       "      <td>0.0</td>\n",
       "      <td>2.0</td>\n",
       "      <td>1.0</td>\n",
       "      <td>0.0</td>\n",
       "      <td>0.0</td>\n",
       "      <td>0.0</td>\n",
       "    </tr>\n",
       "    <tr>\n",
       "      <th>6295912</th>\n",
       "      <td>e4362420-f6ca-11ec-86e0-002590c0647c</td>\n",
       "      <td>5</td>\n",
       "      <td>6770769</td>\n",
       "      <td>252042197</td>\n",
       "      <td>2024-09-27 06:14:25</td>\n",
       "      <td>50448</td>\n",
       "      <td>4</td>\n",
       "      <td>0.0</td>\n",
       "      <td>384</td>\n",
       "      <td>384</td>\n",
       "      <td>...</td>\n",
       "      <td>0.0</td>\n",
       "      <td>57.0</td>\n",
       "      <td>0.0</td>\n",
       "      <td>0.0</td>\n",
       "      <td>0.0</td>\n",
       "      <td>2.0</td>\n",
       "      <td>1.0</td>\n",
       "      <td>0.0</td>\n",
       "      <td>0.0</td>\n",
       "      <td>0.0</td>\n",
       "    </tr>\n",
       "    <tr>\n",
       "      <th>6847200</th>\n",
       "      <td>e4362420-f6ca-11ec-86e0-002590c0647c</td>\n",
       "      <td>9</td>\n",
       "      <td>5422963</td>\n",
       "      <td>4263215769</td>\n",
       "      <td>2024-09-07 00:01:12</td>\n",
       "      <td>2247</td>\n",
       "      <td>5</td>\n",
       "      <td>-5700.0</td>\n",
       "      <td>384</td>\n",
       "      <td>384</td>\n",
       "      <td>...</td>\n",
       "      <td>0.0</td>\n",
       "      <td>57.0</td>\n",
       "      <td>0.0</td>\n",
       "      <td>0.0</td>\n",
       "      <td>0.0</td>\n",
       "      <td>2.0</td>\n",
       "      <td>0.0</td>\n",
       "      <td>0.0</td>\n",
       "      <td>0.0</td>\n",
       "      <td>0.0</td>\n",
       "    </tr>\n",
       "    <tr>\n",
       "      <th>6847201</th>\n",
       "      <td>e4362420-f6ca-11ec-86e0-002590c0647c</td>\n",
       "      <td>9</td>\n",
       "      <td>4899652</td>\n",
       "      <td>4263215769</td>\n",
       "      <td>2024-09-07 00:01:12</td>\n",
       "      <td>389</td>\n",
       "      <td>5</td>\n",
       "      <td>-4500.0</td>\n",
       "      <td>384</td>\n",
       "      <td>384</td>\n",
       "      <td>...</td>\n",
       "      <td>0.0</td>\n",
       "      <td>57.0</td>\n",
       "      <td>0.0</td>\n",
       "      <td>0.0</td>\n",
       "      <td>0.0</td>\n",
       "      <td>2.0</td>\n",
       "      <td>20.0</td>\n",
       "      <td>0.0</td>\n",
       "      <td>0.0</td>\n",
       "      <td>1.0</td>\n",
       "    </tr>\n",
       "  </tbody>\n",
       "</table>\n",
       "<p>384 rows × 24 columns</p>\n",
       "</div>"
      ]
     },
     "execution_count": 56,
     "metadata": {},
     "output_type": "execute_result"
    }
   ],
   "execution_count": 56
  },
  {
   "metadata": {
    "ExecuteTime": {
     "end_time": "2024-10-12T07:03:07.449325Z",
     "start_time": "2024-10-12T07:03:07.439251Z"
    }
   },
   "cell_type": "code",
   "source": "inters.head()",
   "id": "8f5f038c3b20fe14",
   "outputs": [
    {
     "data": {
      "text/plain": [
       "                                user_id  weight  item_id      pageId  \\\n",
       "0  5b08b2fc-0e71-11ee-86e0-002590c0647c       0       -1    89919732   \n",
       "1  1af7e04c-6cd1-11ef-9b7b-002590c82436       0       -1   851020872   \n",
       "2  d41cdad4-3b4c-11ef-86e0-002590c0647c       0       -1  1515288183   \n",
       "3  59b9d89a-1de2-11eb-86e0-002590c0647c       0       -1  1497267364   \n",
       "4  9c087566-8065-11ed-86e0-002590c0647c       0       -1  3039170152   \n",
       "\n",
       "             datetime  category_id  day_of_week  price_diff  loc_user_count  \\\n",
       "0 2024-09-07 05:11:00            0            5         0.0             141   \n",
       "1 2024-09-07 05:50:01            0            5         0.0              91   \n",
       "2 2024-09-07 07:37:02            0            5         0.0              85   \n",
       "3 2024-09-07 11:52:12            0            5         0.0            8270   \n",
       "4 2024-09-07 12:14:30            0            5         0.0             182   \n",
       "\n",
       "   category_id_count  ...  action_4_count  action_5_count  action_6_count  \\\n",
       "0                141  ...             0.0            27.0             2.0   \n",
       "1                 91  ...             0.0            25.0             0.0   \n",
       "2                 85  ...             0.0            14.0             0.0   \n",
       "3               8270  ...            44.0           694.0             1.0   \n",
       "4                182  ...             1.0            26.0             0.0   \n",
       "\n",
       "   action_7_count  action_8_count  action_9_count  delta_sec  delta_day  \\\n",
       "0             1.0             1.0             0.0       24.0        0.0   \n",
       "1             2.0             5.0             1.0        6.0        0.0   \n",
       "2             2.0             6.0             0.0        8.0        0.0   \n",
       "3           125.0          1729.0           112.0        3.0        0.0   \n",
       "4             3.0             8.0             0.0        9.0        0.0   \n",
       "\n",
       "   delta_hour  delta_min  \n",
       "0         0.0        1.0  \n",
       "1         0.0        1.0  \n",
       "2         0.0        1.0  \n",
       "3         0.0        0.0  \n",
       "4         0.0        0.0  \n",
       "\n",
       "[5 rows x 24 columns]"
      ],
      "text/html": [
       "<div>\n",
       "<style scoped>\n",
       "    .dataframe tbody tr th:only-of-type {\n",
       "        vertical-align: middle;\n",
       "    }\n",
       "\n",
       "    .dataframe tbody tr th {\n",
       "        vertical-align: top;\n",
       "    }\n",
       "\n",
       "    .dataframe thead th {\n",
       "        text-align: right;\n",
       "    }\n",
       "</style>\n",
       "<table border=\"1\" class=\"dataframe\">\n",
       "  <thead>\n",
       "    <tr style=\"text-align: right;\">\n",
       "      <th></th>\n",
       "      <th>user_id</th>\n",
       "      <th>weight</th>\n",
       "      <th>item_id</th>\n",
       "      <th>pageId</th>\n",
       "      <th>datetime</th>\n",
       "      <th>category_id</th>\n",
       "      <th>day_of_week</th>\n",
       "      <th>price_diff</th>\n",
       "      <th>loc_user_count</th>\n",
       "      <th>category_id_count</th>\n",
       "      <th>...</th>\n",
       "      <th>action_4_count</th>\n",
       "      <th>action_5_count</th>\n",
       "      <th>action_6_count</th>\n",
       "      <th>action_7_count</th>\n",
       "      <th>action_8_count</th>\n",
       "      <th>action_9_count</th>\n",
       "      <th>delta_sec</th>\n",
       "      <th>delta_day</th>\n",
       "      <th>delta_hour</th>\n",
       "      <th>delta_min</th>\n",
       "    </tr>\n",
       "  </thead>\n",
       "  <tbody>\n",
       "    <tr>\n",
       "      <th>0</th>\n",
       "      <td>5b08b2fc-0e71-11ee-86e0-002590c0647c</td>\n",
       "      <td>0</td>\n",
       "      <td>-1</td>\n",
       "      <td>89919732</td>\n",
       "      <td>2024-09-07 05:11:00</td>\n",
       "      <td>0</td>\n",
       "      <td>5</td>\n",
       "      <td>0.0</td>\n",
       "      <td>141</td>\n",
       "      <td>141</td>\n",
       "      <td>...</td>\n",
       "      <td>0.0</td>\n",
       "      <td>27.0</td>\n",
       "      <td>2.0</td>\n",
       "      <td>1.0</td>\n",
       "      <td>1.0</td>\n",
       "      <td>0.0</td>\n",
       "      <td>24.0</td>\n",
       "      <td>0.0</td>\n",
       "      <td>0.0</td>\n",
       "      <td>1.0</td>\n",
       "    </tr>\n",
       "    <tr>\n",
       "      <th>1</th>\n",
       "      <td>1af7e04c-6cd1-11ef-9b7b-002590c82436</td>\n",
       "      <td>0</td>\n",
       "      <td>-1</td>\n",
       "      <td>851020872</td>\n",
       "      <td>2024-09-07 05:50:01</td>\n",
       "      <td>0</td>\n",
       "      <td>5</td>\n",
       "      <td>0.0</td>\n",
       "      <td>91</td>\n",
       "      <td>91</td>\n",
       "      <td>...</td>\n",
       "      <td>0.0</td>\n",
       "      <td>25.0</td>\n",
       "      <td>0.0</td>\n",
       "      <td>2.0</td>\n",
       "      <td>5.0</td>\n",
       "      <td>1.0</td>\n",
       "      <td>6.0</td>\n",
       "      <td>0.0</td>\n",
       "      <td>0.0</td>\n",
       "      <td>1.0</td>\n",
       "    </tr>\n",
       "    <tr>\n",
       "      <th>2</th>\n",
       "      <td>d41cdad4-3b4c-11ef-86e0-002590c0647c</td>\n",
       "      <td>0</td>\n",
       "      <td>-1</td>\n",
       "      <td>1515288183</td>\n",
       "      <td>2024-09-07 07:37:02</td>\n",
       "      <td>0</td>\n",
       "      <td>5</td>\n",
       "      <td>0.0</td>\n",
       "      <td>85</td>\n",
       "      <td>85</td>\n",
       "      <td>...</td>\n",
       "      <td>0.0</td>\n",
       "      <td>14.0</td>\n",
       "      <td>0.0</td>\n",
       "      <td>2.0</td>\n",
       "      <td>6.0</td>\n",
       "      <td>0.0</td>\n",
       "      <td>8.0</td>\n",
       "      <td>0.0</td>\n",
       "      <td>0.0</td>\n",
       "      <td>1.0</td>\n",
       "    </tr>\n",
       "    <tr>\n",
       "      <th>3</th>\n",
       "      <td>59b9d89a-1de2-11eb-86e0-002590c0647c</td>\n",
       "      <td>0</td>\n",
       "      <td>-1</td>\n",
       "      <td>1497267364</td>\n",
       "      <td>2024-09-07 11:52:12</td>\n",
       "      <td>0</td>\n",
       "      <td>5</td>\n",
       "      <td>0.0</td>\n",
       "      <td>8270</td>\n",
       "      <td>8270</td>\n",
       "      <td>...</td>\n",
       "      <td>44.0</td>\n",
       "      <td>694.0</td>\n",
       "      <td>1.0</td>\n",
       "      <td>125.0</td>\n",
       "      <td>1729.0</td>\n",
       "      <td>112.0</td>\n",
       "      <td>3.0</td>\n",
       "      <td>0.0</td>\n",
       "      <td>0.0</td>\n",
       "      <td>0.0</td>\n",
       "    </tr>\n",
       "    <tr>\n",
       "      <th>4</th>\n",
       "      <td>9c087566-8065-11ed-86e0-002590c0647c</td>\n",
       "      <td>0</td>\n",
       "      <td>-1</td>\n",
       "      <td>3039170152</td>\n",
       "      <td>2024-09-07 12:14:30</td>\n",
       "      <td>0</td>\n",
       "      <td>5</td>\n",
       "      <td>0.0</td>\n",
       "      <td>182</td>\n",
       "      <td>182</td>\n",
       "      <td>...</td>\n",
       "      <td>1.0</td>\n",
       "      <td>26.0</td>\n",
       "      <td>0.0</td>\n",
       "      <td>3.0</td>\n",
       "      <td>8.0</td>\n",
       "      <td>0.0</td>\n",
       "      <td>9.0</td>\n",
       "      <td>0.0</td>\n",
       "      <td>0.0</td>\n",
       "      <td>0.0</td>\n",
       "    </tr>\n",
       "  </tbody>\n",
       "</table>\n",
       "<p>5 rows × 24 columns</p>\n",
       "</div>"
      ]
     },
     "execution_count": 57,
     "metadata": {},
     "output_type": "execute_result"
    }
   ],
   "execution_count": 57
  },
  {
   "metadata": {
    "ExecuteTime": {
     "end_time": "2024-10-12T07:03:07.608075Z",
     "start_time": "2024-10-12T07:03:07.605692Z"
    }
   },
   "cell_type": "code",
   "source": "",
   "id": "c31fe5ba397faa76",
   "outputs": [],
   "execution_count": null
  },
  {
   "metadata": {},
   "cell_type": "markdown",
   "source": "#### Тренировка модели для распознования ключевого события",
   "id": "71b58e8af56b9ae3"
  },
  {
   "metadata": {
    "ExecuteTime": {
     "end_time": "2024-10-12T07:07:43.755443Z",
     "start_time": "2024-10-12T07:07:43.474457Z"
    }
   },
   "cell_type": "code",
   "source": "inters[((inters.weight == 1) | (inters.weight == 4)) & (inters.user_id == '0038911e-79a3-11ef-9b7b-002590c82436')].sort_values(by=['user_id', 'pageId', 'item_id'])",
   "id": "6705e17e173899f1",
   "outputs": [
    {
     "data": {
      "text/plain": [
       "                                      user_id  weight  item_id      pageId  \\\n",
       "3522281  0038911e-79a3-11ef-9b7b-002590c82436       1       -1  1015778690   \n",
       "3337690  0038911e-79a3-11ef-9b7b-002590c82436       1       -1   125129932   \n",
       "3138513  0038911e-79a3-11ef-9b7b-002590c82436       1       -1  1281889168   \n",
       "3338009  0038911e-79a3-11ef-9b7b-002590c82436       1       -1  1326997590   \n",
       "3338048  0038911e-79a3-11ef-9b7b-002590c82436       1       -1  1326997590   \n",
       "...                                       ...     ...      ...         ...   \n",
       "3539012  0038911e-79a3-11ef-9b7b-002590c82436       1       -1   996145740   \n",
       "3539032  0038911e-79a3-11ef-9b7b-002590c82436       1       -1   996145740   \n",
       "3539048  0038911e-79a3-11ef-9b7b-002590c82436       1       -1   996145740   \n",
       "3539063  0038911e-79a3-11ef-9b7b-002590c82436       1       -1   996145740   \n",
       "3539083  0038911e-79a3-11ef-9b7b-002590c82436       1       -1   996145740   \n",
       "\n",
       "                   datetime  category_id  day_of_week  price_diff  \\\n",
       "3522281 2024-09-25 18:09:12            0            2         0.0   \n",
       "3337690 2024-09-24 18:18:04            0            1         0.0   \n",
       "3138513 2024-09-23 18:17:15            0            0         0.0   \n",
       "3338009 2024-09-24 18:20:22            0            1         0.0   \n",
       "3338048 2024-09-24 18:20:40            0            1         0.0   \n",
       "...                     ...          ...          ...         ...   \n",
       "3539012 2024-09-25 19:43:20            0            2         0.0   \n",
       "3539032 2024-09-25 19:43:25            0            2         0.0   \n",
       "3539048 2024-09-25 19:43:31            0            2         0.0   \n",
       "3539063 2024-09-25 19:43:34            0            2         0.0   \n",
       "3539083 2024-09-25 19:43:39            0            2         0.0   \n",
       "\n",
       "         loc_user_count  category_id_count  ...  action_4_count  \\\n",
       "3522281             155                155  ...             3.0   \n",
       "3337690             155                155  ...             3.0   \n",
       "3138513             155                155  ...             3.0   \n",
       "3338009             155                155  ...             3.0   \n",
       "3338048             155                155  ...             3.0   \n",
       "...                 ...                ...  ...             ...   \n",
       "3539012             155                155  ...             3.0   \n",
       "3539032             155                155  ...             3.0   \n",
       "3539048             155                155  ...             3.0   \n",
       "3539063             155                155  ...             3.0   \n",
       "3539083             155                155  ...             3.0   \n",
       "\n",
       "         action_5_count  action_6_count  action_7_count  action_8_count  \\\n",
       "3522281            22.0             0.0             2.0            10.0   \n",
       "3337690            22.0             0.0             2.0            10.0   \n",
       "3138513            22.0             0.0             2.0            10.0   \n",
       "3338009            22.0             0.0             2.0            10.0   \n",
       "3338048            22.0             0.0             2.0            10.0   \n",
       "...                 ...             ...             ...             ...   \n",
       "3539012            22.0             0.0             2.0            10.0   \n",
       "3539032            22.0             0.0             2.0            10.0   \n",
       "3539048            22.0             0.0             2.0            10.0   \n",
       "3539063            22.0             0.0             2.0            10.0   \n",
       "3539083            22.0             0.0             2.0            10.0   \n",
       "\n",
       "         action_9_count  delta_sec  delta_day  delta_hour  delta_min  \n",
       "3522281             1.0    23166.0        0.0         7.0      -34.0  \n",
       "3337690             1.0        2.0        0.0         0.0        0.0  \n",
       "3138513             1.0      149.0        0.0         0.0        3.0  \n",
       "3338009             1.0        0.0        0.0         0.0        0.0  \n",
       "3338048             1.0       18.0        0.0         0.0        0.0  \n",
       "...                 ...        ...        ...         ...        ...  \n",
       "3539012             1.0        1.0        0.0         0.0        0.0  \n",
       "3539032             1.0        4.0        0.0         0.0        0.0  \n",
       "3539048             1.0        6.0        0.0         0.0        0.0  \n",
       "3539063             1.0        3.0        0.0         0.0        0.0  \n",
       "3539083             1.0        4.0        0.0         0.0        0.0  \n",
       "\n",
       "[94 rows x 24 columns]"
      ],
      "text/html": [
       "<div>\n",
       "<style scoped>\n",
       "    .dataframe tbody tr th:only-of-type {\n",
       "        vertical-align: middle;\n",
       "    }\n",
       "\n",
       "    .dataframe tbody tr th {\n",
       "        vertical-align: top;\n",
       "    }\n",
       "\n",
       "    .dataframe thead th {\n",
       "        text-align: right;\n",
       "    }\n",
       "</style>\n",
       "<table border=\"1\" class=\"dataframe\">\n",
       "  <thead>\n",
       "    <tr style=\"text-align: right;\">\n",
       "      <th></th>\n",
       "      <th>user_id</th>\n",
       "      <th>weight</th>\n",
       "      <th>item_id</th>\n",
       "      <th>pageId</th>\n",
       "      <th>datetime</th>\n",
       "      <th>category_id</th>\n",
       "      <th>day_of_week</th>\n",
       "      <th>price_diff</th>\n",
       "      <th>loc_user_count</th>\n",
       "      <th>category_id_count</th>\n",
       "      <th>...</th>\n",
       "      <th>action_4_count</th>\n",
       "      <th>action_5_count</th>\n",
       "      <th>action_6_count</th>\n",
       "      <th>action_7_count</th>\n",
       "      <th>action_8_count</th>\n",
       "      <th>action_9_count</th>\n",
       "      <th>delta_sec</th>\n",
       "      <th>delta_day</th>\n",
       "      <th>delta_hour</th>\n",
       "      <th>delta_min</th>\n",
       "    </tr>\n",
       "  </thead>\n",
       "  <tbody>\n",
       "    <tr>\n",
       "      <th>3522281</th>\n",
       "      <td>0038911e-79a3-11ef-9b7b-002590c82436</td>\n",
       "      <td>1</td>\n",
       "      <td>-1</td>\n",
       "      <td>1015778690</td>\n",
       "      <td>2024-09-25 18:09:12</td>\n",
       "      <td>0</td>\n",
       "      <td>2</td>\n",
       "      <td>0.0</td>\n",
       "      <td>155</td>\n",
       "      <td>155</td>\n",
       "      <td>...</td>\n",
       "      <td>3.0</td>\n",
       "      <td>22.0</td>\n",
       "      <td>0.0</td>\n",
       "      <td>2.0</td>\n",
       "      <td>10.0</td>\n",
       "      <td>1.0</td>\n",
       "      <td>23166.0</td>\n",
       "      <td>0.0</td>\n",
       "      <td>7.0</td>\n",
       "      <td>-34.0</td>\n",
       "    </tr>\n",
       "    <tr>\n",
       "      <th>3337690</th>\n",
       "      <td>0038911e-79a3-11ef-9b7b-002590c82436</td>\n",
       "      <td>1</td>\n",
       "      <td>-1</td>\n",
       "      <td>125129932</td>\n",
       "      <td>2024-09-24 18:18:04</td>\n",
       "      <td>0</td>\n",
       "      <td>1</td>\n",
       "      <td>0.0</td>\n",
       "      <td>155</td>\n",
       "      <td>155</td>\n",
       "      <td>...</td>\n",
       "      <td>3.0</td>\n",
       "      <td>22.0</td>\n",
       "      <td>0.0</td>\n",
       "      <td>2.0</td>\n",
       "      <td>10.0</td>\n",
       "      <td>1.0</td>\n",
       "      <td>2.0</td>\n",
       "      <td>0.0</td>\n",
       "      <td>0.0</td>\n",
       "      <td>0.0</td>\n",
       "    </tr>\n",
       "    <tr>\n",
       "      <th>3138513</th>\n",
       "      <td>0038911e-79a3-11ef-9b7b-002590c82436</td>\n",
       "      <td>1</td>\n",
       "      <td>-1</td>\n",
       "      <td>1281889168</td>\n",
       "      <td>2024-09-23 18:17:15</td>\n",
       "      <td>0</td>\n",
       "      <td>0</td>\n",
       "      <td>0.0</td>\n",
       "      <td>155</td>\n",
       "      <td>155</td>\n",
       "      <td>...</td>\n",
       "      <td>3.0</td>\n",
       "      <td>22.0</td>\n",
       "      <td>0.0</td>\n",
       "      <td>2.0</td>\n",
       "      <td>10.0</td>\n",
       "      <td>1.0</td>\n",
       "      <td>149.0</td>\n",
       "      <td>0.0</td>\n",
       "      <td>0.0</td>\n",
       "      <td>3.0</td>\n",
       "    </tr>\n",
       "    <tr>\n",
       "      <th>3338009</th>\n",
       "      <td>0038911e-79a3-11ef-9b7b-002590c82436</td>\n",
       "      <td>1</td>\n",
       "      <td>-1</td>\n",
       "      <td>1326997590</td>\n",
       "      <td>2024-09-24 18:20:22</td>\n",
       "      <td>0</td>\n",
       "      <td>1</td>\n",
       "      <td>0.0</td>\n",
       "      <td>155</td>\n",
       "      <td>155</td>\n",
       "      <td>...</td>\n",
       "      <td>3.0</td>\n",
       "      <td>22.0</td>\n",
       "      <td>0.0</td>\n",
       "      <td>2.0</td>\n",
       "      <td>10.0</td>\n",
       "      <td>1.0</td>\n",
       "      <td>0.0</td>\n",
       "      <td>0.0</td>\n",
       "      <td>0.0</td>\n",
       "      <td>0.0</td>\n",
       "    </tr>\n",
       "    <tr>\n",
       "      <th>3338048</th>\n",
       "      <td>0038911e-79a3-11ef-9b7b-002590c82436</td>\n",
       "      <td>1</td>\n",
       "      <td>-1</td>\n",
       "      <td>1326997590</td>\n",
       "      <td>2024-09-24 18:20:40</td>\n",
       "      <td>0</td>\n",
       "      <td>1</td>\n",
       "      <td>0.0</td>\n",
       "      <td>155</td>\n",
       "      <td>155</td>\n",
       "      <td>...</td>\n",
       "      <td>3.0</td>\n",
       "      <td>22.0</td>\n",
       "      <td>0.0</td>\n",
       "      <td>2.0</td>\n",
       "      <td>10.0</td>\n",
       "      <td>1.0</td>\n",
       "      <td>18.0</td>\n",
       "      <td>0.0</td>\n",
       "      <td>0.0</td>\n",
       "      <td>0.0</td>\n",
       "    </tr>\n",
       "    <tr>\n",
       "      <th>...</th>\n",
       "      <td>...</td>\n",
       "      <td>...</td>\n",
       "      <td>...</td>\n",
       "      <td>...</td>\n",
       "      <td>...</td>\n",
       "      <td>...</td>\n",
       "      <td>...</td>\n",
       "      <td>...</td>\n",
       "      <td>...</td>\n",
       "      <td>...</td>\n",
       "      <td>...</td>\n",
       "      <td>...</td>\n",
       "      <td>...</td>\n",
       "      <td>...</td>\n",
       "      <td>...</td>\n",
       "      <td>...</td>\n",
       "      <td>...</td>\n",
       "      <td>...</td>\n",
       "      <td>...</td>\n",
       "      <td>...</td>\n",
       "      <td>...</td>\n",
       "    </tr>\n",
       "    <tr>\n",
       "      <th>3539012</th>\n",
       "      <td>0038911e-79a3-11ef-9b7b-002590c82436</td>\n",
       "      <td>1</td>\n",
       "      <td>-1</td>\n",
       "      <td>996145740</td>\n",
       "      <td>2024-09-25 19:43:20</td>\n",
       "      <td>0</td>\n",
       "      <td>2</td>\n",
       "      <td>0.0</td>\n",
       "      <td>155</td>\n",
       "      <td>155</td>\n",
       "      <td>...</td>\n",
       "      <td>3.0</td>\n",
       "      <td>22.0</td>\n",
       "      <td>0.0</td>\n",
       "      <td>2.0</td>\n",
       "      <td>10.0</td>\n",
       "      <td>1.0</td>\n",
       "      <td>1.0</td>\n",
       "      <td>0.0</td>\n",
       "      <td>0.0</td>\n",
       "      <td>0.0</td>\n",
       "    </tr>\n",
       "    <tr>\n",
       "      <th>3539032</th>\n",
       "      <td>0038911e-79a3-11ef-9b7b-002590c82436</td>\n",
       "      <td>1</td>\n",
       "      <td>-1</td>\n",
       "      <td>996145740</td>\n",
       "      <td>2024-09-25 19:43:25</td>\n",
       "      <td>0</td>\n",
       "      <td>2</td>\n",
       "      <td>0.0</td>\n",
       "      <td>155</td>\n",
       "      <td>155</td>\n",
       "      <td>...</td>\n",
       "      <td>3.0</td>\n",
       "      <td>22.0</td>\n",
       "      <td>0.0</td>\n",
       "      <td>2.0</td>\n",
       "      <td>10.0</td>\n",
       "      <td>1.0</td>\n",
       "      <td>4.0</td>\n",
       "      <td>0.0</td>\n",
       "      <td>0.0</td>\n",
       "      <td>0.0</td>\n",
       "    </tr>\n",
       "    <tr>\n",
       "      <th>3539048</th>\n",
       "      <td>0038911e-79a3-11ef-9b7b-002590c82436</td>\n",
       "      <td>1</td>\n",
       "      <td>-1</td>\n",
       "      <td>996145740</td>\n",
       "      <td>2024-09-25 19:43:31</td>\n",
       "      <td>0</td>\n",
       "      <td>2</td>\n",
       "      <td>0.0</td>\n",
       "      <td>155</td>\n",
       "      <td>155</td>\n",
       "      <td>...</td>\n",
       "      <td>3.0</td>\n",
       "      <td>22.0</td>\n",
       "      <td>0.0</td>\n",
       "      <td>2.0</td>\n",
       "      <td>10.0</td>\n",
       "      <td>1.0</td>\n",
       "      <td>6.0</td>\n",
       "      <td>0.0</td>\n",
       "      <td>0.0</td>\n",
       "      <td>0.0</td>\n",
       "    </tr>\n",
       "    <tr>\n",
       "      <th>3539063</th>\n",
       "      <td>0038911e-79a3-11ef-9b7b-002590c82436</td>\n",
       "      <td>1</td>\n",
       "      <td>-1</td>\n",
       "      <td>996145740</td>\n",
       "      <td>2024-09-25 19:43:34</td>\n",
       "      <td>0</td>\n",
       "      <td>2</td>\n",
       "      <td>0.0</td>\n",
       "      <td>155</td>\n",
       "      <td>155</td>\n",
       "      <td>...</td>\n",
       "      <td>3.0</td>\n",
       "      <td>22.0</td>\n",
       "      <td>0.0</td>\n",
       "      <td>2.0</td>\n",
       "      <td>10.0</td>\n",
       "      <td>1.0</td>\n",
       "      <td>3.0</td>\n",
       "      <td>0.0</td>\n",
       "      <td>0.0</td>\n",
       "      <td>0.0</td>\n",
       "    </tr>\n",
       "    <tr>\n",
       "      <th>3539083</th>\n",
       "      <td>0038911e-79a3-11ef-9b7b-002590c82436</td>\n",
       "      <td>1</td>\n",
       "      <td>-1</td>\n",
       "      <td>996145740</td>\n",
       "      <td>2024-09-25 19:43:39</td>\n",
       "      <td>0</td>\n",
       "      <td>2</td>\n",
       "      <td>0.0</td>\n",
       "      <td>155</td>\n",
       "      <td>155</td>\n",
       "      <td>...</td>\n",
       "      <td>3.0</td>\n",
       "      <td>22.0</td>\n",
       "      <td>0.0</td>\n",
       "      <td>2.0</td>\n",
       "      <td>10.0</td>\n",
       "      <td>1.0</td>\n",
       "      <td>4.0</td>\n",
       "      <td>0.0</td>\n",
       "      <td>0.0</td>\n",
       "      <td>0.0</td>\n",
       "    </tr>\n",
       "  </tbody>\n",
       "</table>\n",
       "<p>94 rows × 24 columns</p>\n",
       "</div>"
      ]
     },
     "execution_count": 62,
     "metadata": {},
     "output_type": "execute_result"
    }
   ],
   "execution_count": 62
  },
  {
   "metadata": {
    "ExecuteTime": {
     "end_time": "2024-10-12T16:13:07.461499Z",
     "start_time": "2024-10-12T16:13:06.566343Z"
    }
   },
   "cell_type": "code",
   "source": [
    "max_date = inters['datetime'].max()\n",
    "train_raw = inters[inters['datetime'] >= max_date - pd.Timedelta(days=22)].copy()\n",
    "train_raw = train_raw[train_raw['datetime'] <= max_date - pd.Timedelta(days=0)]\n",
    "test_raw = inters[inters['datetime'] > max_date - pd.Timedelta(days=3)].copy()"
   ],
   "id": "6133f4fbad1eeab6",
   "outputs": [],
   "execution_count": 1380
  },
  {
   "metadata": {
    "ExecuteTime": {
     "end_time": "2024-10-12T16:13:10.213073Z",
     "start_time": "2024-10-12T16:13:10.211511Z"
    }
   },
   "cell_type": "code",
   "source": "",
   "id": "d7459139756b00da",
   "outputs": [],
   "execution_count": null
  },
  {
   "metadata": {
    "ExecuteTime": {
     "end_time": "2024-10-12T16:13:13.077551Z",
     "start_time": "2024-10-12T16:13:12.794616Z"
    }
   },
   "cell_type": "code",
   "source": [
    "train = train_raw.drop(columns=['datetime', 'item_id', 'pageId'])\n",
    "test = test_raw.drop(columns=['datetime', 'item_id', 'pageId'])"
   ],
   "id": "e8dcaf82a3c57b1b",
   "outputs": [],
   "execution_count": 1381
  },
  {
   "metadata": {
    "ExecuteTime": {
     "end_time": "2024-10-12T16:13:15.897636Z",
     "start_time": "2024-10-12T16:13:15.871144Z"
    }
   },
   "cell_type": "code",
   "source": "test.sample()",
   "id": "f10f0ad22d9d7654",
   "outputs": [
    {
     "data": {
      "text/plain": [
       "                                      user_id  weight  category_id  \\\n",
       "3766403  5c9d7eaa-0110-11ed-86e0-002590c0647c       1            0   \n",
       "\n",
       "         day_of_week  price_diff  loc_user_count  category_id_count  \\\n",
       "3766403            4         0.0             296                296   \n",
       "\n",
       "         action_0_count  action_1_count  action_2_count  ...  action_4_count  \\\n",
       "3766403             0.0           193.0            29.0  ...             1.0   \n",
       "\n",
       "         action_5_count  action_6_count  action_7_count  action_8_count  \\\n",
       "3766403            55.0             2.0             3.0            11.0   \n",
       "\n",
       "         action_9_count  delta_sec  delta_day  delta_hour  delta_min  \n",
       "3766403             2.0       12.0        0.0         0.0        0.0  \n",
       "\n",
       "[1 rows x 21 columns]"
      ],
      "text/html": [
       "<div>\n",
       "<style scoped>\n",
       "    .dataframe tbody tr th:only-of-type {\n",
       "        vertical-align: middle;\n",
       "    }\n",
       "\n",
       "    .dataframe tbody tr th {\n",
       "        vertical-align: top;\n",
       "    }\n",
       "\n",
       "    .dataframe thead th {\n",
       "        text-align: right;\n",
       "    }\n",
       "</style>\n",
       "<table border=\"1\" class=\"dataframe\">\n",
       "  <thead>\n",
       "    <tr style=\"text-align: right;\">\n",
       "      <th></th>\n",
       "      <th>user_id</th>\n",
       "      <th>weight</th>\n",
       "      <th>category_id</th>\n",
       "      <th>day_of_week</th>\n",
       "      <th>price_diff</th>\n",
       "      <th>loc_user_count</th>\n",
       "      <th>category_id_count</th>\n",
       "      <th>action_0_count</th>\n",
       "      <th>action_1_count</th>\n",
       "      <th>action_2_count</th>\n",
       "      <th>...</th>\n",
       "      <th>action_4_count</th>\n",
       "      <th>action_5_count</th>\n",
       "      <th>action_6_count</th>\n",
       "      <th>action_7_count</th>\n",
       "      <th>action_8_count</th>\n",
       "      <th>action_9_count</th>\n",
       "      <th>delta_sec</th>\n",
       "      <th>delta_day</th>\n",
       "      <th>delta_hour</th>\n",
       "      <th>delta_min</th>\n",
       "    </tr>\n",
       "  </thead>\n",
       "  <tbody>\n",
       "    <tr>\n",
       "      <th>3766403</th>\n",
       "      <td>5c9d7eaa-0110-11ed-86e0-002590c0647c</td>\n",
       "      <td>1</td>\n",
       "      <td>0</td>\n",
       "      <td>4</td>\n",
       "      <td>0.0</td>\n",
       "      <td>296</td>\n",
       "      <td>296</td>\n",
       "      <td>0.0</td>\n",
       "      <td>193.0</td>\n",
       "      <td>29.0</td>\n",
       "      <td>...</td>\n",
       "      <td>1.0</td>\n",
       "      <td>55.0</td>\n",
       "      <td>2.0</td>\n",
       "      <td>3.0</td>\n",
       "      <td>11.0</td>\n",
       "      <td>2.0</td>\n",
       "      <td>12.0</td>\n",
       "      <td>0.0</td>\n",
       "      <td>0.0</td>\n",
       "      <td>0.0</td>\n",
       "    </tr>\n",
       "  </tbody>\n",
       "</table>\n",
       "<p>1 rows × 21 columns</p>\n",
       "</div>"
      ]
     },
     "execution_count": 1382,
     "metadata": {},
     "output_type": "execute_result"
    }
   ],
   "execution_count": 1382
  },
  {
   "metadata": {
    "ExecuteTime": {
     "end_time": "2024-10-12T16:13:18.848522Z",
     "start_time": "2024-10-12T16:13:18.846330Z"
    }
   },
   "cell_type": "code",
   "source": "train.shape, test.shape",
   "id": "722b5abb87e64ce5",
   "outputs": [
    {
     "data": {
      "text/plain": [
       "((6858963, 21), (1062417, 21))"
      ]
     },
     "execution_count": 1383,
     "metadata": {},
     "output_type": "execute_result"
    }
   ],
   "execution_count": 1383
  },
  {
   "metadata": {},
   "cell_type": "markdown",
   "source": "### Классы не сбалансированы",
   "id": "88f18be740972951"
  },
  {
   "metadata": {
    "ExecuteTime": {
     "end_time": "2024-10-12T16:13:18.920828Z",
     "start_time": "2024-10-12T16:13:18.899982Z"
    }
   },
   "cell_type": "code",
   "source": "train.weight.value_counts()",
   "id": "d13fdeea693ba952",
   "outputs": [
    {
     "data": {
      "text/plain": [
       "weight\n",
       "1    4214660\n",
       "2    1041842\n",
       "5    1040483\n",
       "8     356922\n",
       "3      81142\n",
       "7      50120\n",
       "6      34672\n",
       "4      26951\n",
       "9      11802\n",
       "0        369\n",
       "Name: count, dtype: int64"
      ]
     },
     "execution_count": 1384,
     "metadata": {},
     "output_type": "execute_result"
    }
   ],
   "execution_count": 1384
  },
  {
   "metadata": {
    "ExecuteTime": {
     "end_time": "2024-10-12T16:13:19.136113Z",
     "start_time": "2024-10-12T16:13:19.133415Z"
    }
   },
   "cell_type": "code",
   "source": "",
   "id": "c8169b110162b331",
   "outputs": [],
   "execution_count": null
  },
  {
   "metadata": {},
   "cell_type": "markdown",
   "source": "### Кооректируем баланс классов",
   "id": "bde8dde057ea75de"
  },
  {
   "metadata": {
    "ExecuteTime": {
     "end_time": "2024-10-12T16:13:20.983224Z",
     "start_time": "2024-10-12T16:13:19.231212Z"
    }
   },
   "cell_type": "code",
   "source": [
    "train = train[train.weight.isin([0, 1, 3, 6, 7, 9])].drop_duplicates()\n",
    "train.shape"
   ],
   "id": "82dc937792de5",
   "outputs": [
    {
     "data": {
      "text/plain": [
       "(2987363, 21)"
      ]
     },
     "execution_count": 1385,
     "metadata": {},
     "output_type": "execute_result"
    }
   ],
   "execution_count": 1385
  },
  {
   "metadata": {
    "ExecuteTime": {
     "end_time": "2024-10-12T16:13:21.405079Z",
     "start_time": "2024-10-12T16:13:21.007067Z"
    }
   },
   "cell_type": "code",
   "source": [
    "train_portion = pd.concat(\n",
    "    [\n",
    "        train[train.weight.isin([0, 1, 3, 6, 7, 9])],\n",
    "        train_raw.sample(130_000)],\n",
    "    axis='rows'\n",
    ")"
   ],
   "id": "2d10066311257c1c",
   "outputs": [],
   "execution_count": 1386
  },
  {
   "metadata": {
    "ExecuteTime": {
     "end_time": "2024-10-12T16:13:24.144124Z",
     "start_time": "2024-10-12T16:13:24.133833Z"
    }
   },
   "cell_type": "code",
   "source": "train_portion.weight.unique()",
   "id": "ad2e701c4dbea219",
   "outputs": [
    {
     "data": {
      "text/plain": [
       "array([0, 1, 3, 6, 7, 9, 5, 2, 4, 8])"
      ]
     },
     "execution_count": 1387,
     "metadata": {},
     "output_type": "execute_result"
    }
   ],
   "execution_count": 1387
  },
  {
   "metadata": {
    "ExecuteTime": {
     "end_time": "2024-10-12T16:13:26.801656Z",
     "start_time": "2024-10-12T16:13:26.799802Z"
    }
   },
   "cell_type": "code",
   "source": "",
   "id": "107e032de0d208b5",
   "outputs": [],
   "execution_count": null
  },
  {
   "metadata": {
    "ExecuteTime": {
     "end_time": "2024-10-12T16:13:32.249638Z",
     "start_time": "2024-10-12T16:13:32.230952Z"
    }
   },
   "cell_type": "code",
   "source": [
    "h2o.init(verbose=False)\n",
    "print(f'{h2o.cluster().show_status()}')\n",
    "h2o.no_progress()"
   ],
   "id": "8bfde335c2f8ef6f",
   "outputs": [
    {
     "data": {
      "text/plain": [
       "--------------------------  -----------------------------\n",
       "H2O_cluster_uptime:         9 hours 4 mins\n",
       "H2O_cluster_timezone:       Europe/Moscow\n",
       "H2O_data_parsing_timezone:  UTC\n",
       "H2O_cluster_version:        3.46.0.5\n",
       "H2O_cluster_version_age:    1 month and 13 days\n",
       "H2O_cluster_name:           H2O_from_python_varsey_hn8wp8\n",
       "H2O_cluster_total_nodes:    1\n",
       "H2O_cluster_free_memory:    10.69 Gb\n",
       "H2O_cluster_total_cores:    12\n",
       "H2O_cluster_allowed_cores:  12\n",
       "H2O_cluster_status:         locked, healthy\n",
       "H2O_connection_url:         http://localhost:54321\n",
       "H2O_connection_proxy:       {\"http\": null, \"https\": null}\n",
       "H2O_internal_security:      False\n",
       "Python_version:             3.11.6 final\n",
       "--------------------------  -----------------------------"
      ],
      "text/html": [
       "\n",
       "<style>\n",
       "\n",
       "#h2o-table-21.h2o-container {\n",
       "  overflow-x: auto;\n",
       "}\n",
       "#h2o-table-21 .h2o-table {\n",
       "  /* width: 100%; */\n",
       "  margin-top: 1em;\n",
       "  margin-bottom: 1em;\n",
       "}\n",
       "#h2o-table-21 .h2o-table caption {\n",
       "  white-space: nowrap;\n",
       "  caption-side: top;\n",
       "  text-align: left;\n",
       "  /* margin-left: 1em; */\n",
       "  margin: 0;\n",
       "  font-size: larger;\n",
       "}\n",
       "#h2o-table-21 .h2o-table thead {\n",
       "  white-space: nowrap; \n",
       "  position: sticky;\n",
       "  top: 0;\n",
       "  box-shadow: 0 -1px inset;\n",
       "}\n",
       "#h2o-table-21 .h2o-table tbody {\n",
       "  overflow: auto;\n",
       "}\n",
       "#h2o-table-21 .h2o-table th,\n",
       "#h2o-table-21 .h2o-table td {\n",
       "  text-align: right;\n",
       "  /* border: 1px solid; */\n",
       "}\n",
       "#h2o-table-21 .h2o-table tr:nth-child(even) {\n",
       "  /* background: #F5F5F5 */\n",
       "}\n",
       "\n",
       "</style>      \n",
       "<div id=\"h2o-table-21\" class=\"h2o-container\">\n",
       "  <table class=\"h2o-table\">\n",
       "    <caption></caption>\n",
       "    <thead></thead>\n",
       "    <tbody><tr><td>H2O_cluster_uptime:</td>\n",
       "<td>9 hours 4 mins</td></tr>\n",
       "<tr><td>H2O_cluster_timezone:</td>\n",
       "<td>Europe/Moscow</td></tr>\n",
       "<tr><td>H2O_data_parsing_timezone:</td>\n",
       "<td>UTC</td></tr>\n",
       "<tr><td>H2O_cluster_version:</td>\n",
       "<td>3.46.0.5</td></tr>\n",
       "<tr><td>H2O_cluster_version_age:</td>\n",
       "<td>1 month and 13 days</td></tr>\n",
       "<tr><td>H2O_cluster_name:</td>\n",
       "<td>H2O_from_python_varsey_hn8wp8</td></tr>\n",
       "<tr><td>H2O_cluster_total_nodes:</td>\n",
       "<td>1</td></tr>\n",
       "<tr><td>H2O_cluster_free_memory:</td>\n",
       "<td>10.69 Gb</td></tr>\n",
       "<tr><td>H2O_cluster_total_cores:</td>\n",
       "<td>12</td></tr>\n",
       "<tr><td>H2O_cluster_allowed_cores:</td>\n",
       "<td>12</td></tr>\n",
       "<tr><td>H2O_cluster_status:</td>\n",
       "<td>locked, healthy</td></tr>\n",
       "<tr><td>H2O_connection_url:</td>\n",
       "<td>http://localhost:54321</td></tr>\n",
       "<tr><td>H2O_connection_proxy:</td>\n",
       "<td>{\"http\": null, \"https\": null}</td></tr>\n",
       "<tr><td>H2O_internal_security:</td>\n",
       "<td>False</td></tr>\n",
       "<tr><td>Python_version:</td>\n",
       "<td>3.11.6 final</td></tr></tbody>\n",
       "  </table>\n",
       "</div>\n"
      ]
     },
     "metadata": {},
     "output_type": "display_data"
    },
    {
     "name": "stdout",
     "output_type": "stream",
     "text": [
      "None\n"
     ]
    }
   ],
   "execution_count": 1388
  },
  {
   "metadata": {
    "ExecuteTime": {
     "end_time": "2024-10-12T16:13:32.369732Z",
     "start_time": "2024-10-12T16:13:32.354007Z"
    }
   },
   "cell_type": "code",
   "source": "train_portion[train_portion.weight == 0]",
   "id": "6900d3c1a291c034",
   "outputs": [
    {
     "data": {
      "text/plain": [
       "                                  user_id  weight  category_id  day_of_week  \\\n",
       "0    5b08b2fc-0e71-11ee-86e0-002590c0647c       0            0            5   \n",
       "1    1af7e04c-6cd1-11ef-9b7b-002590c82436       0            0            5   \n",
       "2    d41cdad4-3b4c-11ef-86e0-002590c0647c       0            0            5   \n",
       "3    59b9d89a-1de2-11eb-86e0-002590c0647c       0            0            5   \n",
       "4    9c087566-8065-11ed-86e0-002590c0647c       0            0            5   \n",
       "..                                    ...     ...          ...          ...   \n",
       "135  1ded931a-15d2-11ef-9b7b-002590c82436       0            0            5   \n",
       "175  860596d0-44c3-11ef-9b7b-002590c82436       0            0            0   \n",
       "367  a7c0cfae-43f8-11ef-9b7b-002590c82436       0            0            5   \n",
       "89   f8c9fe8e-3298-11ed-9003-002590c82437       0            0            3   \n",
       "13   7f6497ea-519d-11ef-9b7b-002590c82436       0            0            6   \n",
       "\n",
       "     price_diff  loc_user_count  category_id_count  action_0_count  \\\n",
       "0           0.0             141                141             1.0   \n",
       "1           0.0              91                 91             1.0   \n",
       "2           0.0              85                 85             2.0   \n",
       "3           0.0            8270               8270             2.0   \n",
       "4           0.0             182                182             1.0   \n",
       "..          ...             ...                ...             ...   \n",
       "135         0.0              48                 48             1.0   \n",
       "175         0.0            2882               2882             5.0   \n",
       "367         0.0             112                112             1.0   \n",
       "89          0.0             192                192             1.0   \n",
       "13          0.0            1924               1924            20.0   \n",
       "\n",
       "     action_1_count  action_2_count  ...  action_7_count  action_8_count  \\\n",
       "0             101.0             8.0  ...             1.0             1.0   \n",
       "1              47.0             9.0  ...             2.0             5.0   \n",
       "2              48.0            13.0  ...             2.0             6.0   \n",
       "3            5244.0           250.0  ...           125.0          1729.0   \n",
       "4             118.0            25.0  ...             3.0             8.0   \n",
       "..              ...             ...  ...             ...             ...   \n",
       "135            33.0            11.0  ...             0.0             2.0   \n",
       "175          1101.0           110.0  ...           158.0           804.0   \n",
       "367            64.0             6.0  ...             4.0            12.0   \n",
       "89            122.0            31.0  ...             5.0             9.0   \n",
       "13            700.0           183.0  ...           324.0           415.0   \n",
       "\n",
       "     action_9_count  delta_sec  delta_day  delta_hour  delta_min  item_id  \\\n",
       "0               0.0       24.0        0.0         0.0        1.0      NaN   \n",
       "1               1.0        6.0        0.0         0.0        1.0      NaN   \n",
       "2               0.0        8.0        0.0         0.0        1.0      NaN   \n",
       "3             112.0        3.0        0.0         0.0        0.0      NaN   \n",
       "4               0.0        9.0        0.0         0.0        0.0      NaN   \n",
       "..              ...        ...        ...         ...        ...      ...   \n",
       "135             0.0       10.0        0.0         0.0        0.0     -1.0   \n",
       "175             1.0        5.0        0.0         0.0        0.0     -1.0   \n",
       "367             3.0        9.0        0.0         0.0        0.0     -1.0   \n",
       "89              0.0        8.0        0.0         0.0        0.0     -1.0   \n",
       "13              0.0        9.0        0.0         0.0        1.0     -1.0   \n",
       "\n",
       "         pageId            datetime  \n",
       "0           NaN                 NaT  \n",
       "1           NaN                 NaT  \n",
       "2           NaN                 NaT  \n",
       "3           NaN                 NaT  \n",
       "4           NaN                 NaT  \n",
       "..          ...                 ...  \n",
       "135  3519148408 2024-09-14 12:12:56  \n",
       "175  4207310809 2024-09-16 20:28:39  \n",
       "367  2293099223 2024-09-28 17:51:53  \n",
       "89   1888667810 2024-09-12 12:11:58  \n",
       "13   3667877532 2024-09-08 08:20:04  \n",
       "\n",
       "[373 rows x 24 columns]"
      ],
      "text/html": [
       "<div>\n",
       "<style scoped>\n",
       "    .dataframe tbody tr th:only-of-type {\n",
       "        vertical-align: middle;\n",
       "    }\n",
       "\n",
       "    .dataframe tbody tr th {\n",
       "        vertical-align: top;\n",
       "    }\n",
       "\n",
       "    .dataframe thead th {\n",
       "        text-align: right;\n",
       "    }\n",
       "</style>\n",
       "<table border=\"1\" class=\"dataframe\">\n",
       "  <thead>\n",
       "    <tr style=\"text-align: right;\">\n",
       "      <th></th>\n",
       "      <th>user_id</th>\n",
       "      <th>weight</th>\n",
       "      <th>category_id</th>\n",
       "      <th>day_of_week</th>\n",
       "      <th>price_diff</th>\n",
       "      <th>loc_user_count</th>\n",
       "      <th>category_id_count</th>\n",
       "      <th>action_0_count</th>\n",
       "      <th>action_1_count</th>\n",
       "      <th>action_2_count</th>\n",
       "      <th>...</th>\n",
       "      <th>action_7_count</th>\n",
       "      <th>action_8_count</th>\n",
       "      <th>action_9_count</th>\n",
       "      <th>delta_sec</th>\n",
       "      <th>delta_day</th>\n",
       "      <th>delta_hour</th>\n",
       "      <th>delta_min</th>\n",
       "      <th>item_id</th>\n",
       "      <th>pageId</th>\n",
       "      <th>datetime</th>\n",
       "    </tr>\n",
       "  </thead>\n",
       "  <tbody>\n",
       "    <tr>\n",
       "      <th>0</th>\n",
       "      <td>5b08b2fc-0e71-11ee-86e0-002590c0647c</td>\n",
       "      <td>0</td>\n",
       "      <td>0</td>\n",
       "      <td>5</td>\n",
       "      <td>0.0</td>\n",
       "      <td>141</td>\n",
       "      <td>141</td>\n",
       "      <td>1.0</td>\n",
       "      <td>101.0</td>\n",
       "      <td>8.0</td>\n",
       "      <td>...</td>\n",
       "      <td>1.0</td>\n",
       "      <td>1.0</td>\n",
       "      <td>0.0</td>\n",
       "      <td>24.0</td>\n",
       "      <td>0.0</td>\n",
       "      <td>0.0</td>\n",
       "      <td>1.0</td>\n",
       "      <td>NaN</td>\n",
       "      <td>NaN</td>\n",
       "      <td>NaT</td>\n",
       "    </tr>\n",
       "    <tr>\n",
       "      <th>1</th>\n",
       "      <td>1af7e04c-6cd1-11ef-9b7b-002590c82436</td>\n",
       "      <td>0</td>\n",
       "      <td>0</td>\n",
       "      <td>5</td>\n",
       "      <td>0.0</td>\n",
       "      <td>91</td>\n",
       "      <td>91</td>\n",
       "      <td>1.0</td>\n",
       "      <td>47.0</td>\n",
       "      <td>9.0</td>\n",
       "      <td>...</td>\n",
       "      <td>2.0</td>\n",
       "      <td>5.0</td>\n",
       "      <td>1.0</td>\n",
       "      <td>6.0</td>\n",
       "      <td>0.0</td>\n",
       "      <td>0.0</td>\n",
       "      <td>1.0</td>\n",
       "      <td>NaN</td>\n",
       "      <td>NaN</td>\n",
       "      <td>NaT</td>\n",
       "    </tr>\n",
       "    <tr>\n",
       "      <th>2</th>\n",
       "      <td>d41cdad4-3b4c-11ef-86e0-002590c0647c</td>\n",
       "      <td>0</td>\n",
       "      <td>0</td>\n",
       "      <td>5</td>\n",
       "      <td>0.0</td>\n",
       "      <td>85</td>\n",
       "      <td>85</td>\n",
       "      <td>2.0</td>\n",
       "      <td>48.0</td>\n",
       "      <td>13.0</td>\n",
       "      <td>...</td>\n",
       "      <td>2.0</td>\n",
       "      <td>6.0</td>\n",
       "      <td>0.0</td>\n",
       "      <td>8.0</td>\n",
       "      <td>0.0</td>\n",
       "      <td>0.0</td>\n",
       "      <td>1.0</td>\n",
       "      <td>NaN</td>\n",
       "      <td>NaN</td>\n",
       "      <td>NaT</td>\n",
       "    </tr>\n",
       "    <tr>\n",
       "      <th>3</th>\n",
       "      <td>59b9d89a-1de2-11eb-86e0-002590c0647c</td>\n",
       "      <td>0</td>\n",
       "      <td>0</td>\n",
       "      <td>5</td>\n",
       "      <td>0.0</td>\n",
       "      <td>8270</td>\n",
       "      <td>8270</td>\n",
       "      <td>2.0</td>\n",
       "      <td>5244.0</td>\n",
       "      <td>250.0</td>\n",
       "      <td>...</td>\n",
       "      <td>125.0</td>\n",
       "      <td>1729.0</td>\n",
       "      <td>112.0</td>\n",
       "      <td>3.0</td>\n",
       "      <td>0.0</td>\n",
       "      <td>0.0</td>\n",
       "      <td>0.0</td>\n",
       "      <td>NaN</td>\n",
       "      <td>NaN</td>\n",
       "      <td>NaT</td>\n",
       "    </tr>\n",
       "    <tr>\n",
       "      <th>4</th>\n",
       "      <td>9c087566-8065-11ed-86e0-002590c0647c</td>\n",
       "      <td>0</td>\n",
       "      <td>0</td>\n",
       "      <td>5</td>\n",
       "      <td>0.0</td>\n",
       "      <td>182</td>\n",
       "      <td>182</td>\n",
       "      <td>1.0</td>\n",
       "      <td>118.0</td>\n",
       "      <td>25.0</td>\n",
       "      <td>...</td>\n",
       "      <td>3.0</td>\n",
       "      <td>8.0</td>\n",
       "      <td>0.0</td>\n",
       "      <td>9.0</td>\n",
       "      <td>0.0</td>\n",
       "      <td>0.0</td>\n",
       "      <td>0.0</td>\n",
       "      <td>NaN</td>\n",
       "      <td>NaN</td>\n",
       "      <td>NaT</td>\n",
       "    </tr>\n",
       "    <tr>\n",
       "      <th>...</th>\n",
       "      <td>...</td>\n",
       "      <td>...</td>\n",
       "      <td>...</td>\n",
       "      <td>...</td>\n",
       "      <td>...</td>\n",
       "      <td>...</td>\n",
       "      <td>...</td>\n",
       "      <td>...</td>\n",
       "      <td>...</td>\n",
       "      <td>...</td>\n",
       "      <td>...</td>\n",
       "      <td>...</td>\n",
       "      <td>...</td>\n",
       "      <td>...</td>\n",
       "      <td>...</td>\n",
       "      <td>...</td>\n",
       "      <td>...</td>\n",
       "      <td>...</td>\n",
       "      <td>...</td>\n",
       "      <td>...</td>\n",
       "      <td>...</td>\n",
       "    </tr>\n",
       "    <tr>\n",
       "      <th>135</th>\n",
       "      <td>1ded931a-15d2-11ef-9b7b-002590c82436</td>\n",
       "      <td>0</td>\n",
       "      <td>0</td>\n",
       "      <td>5</td>\n",
       "      <td>0.0</td>\n",
       "      <td>48</td>\n",
       "      <td>48</td>\n",
       "      <td>1.0</td>\n",
       "      <td>33.0</td>\n",
       "      <td>11.0</td>\n",
       "      <td>...</td>\n",
       "      <td>0.0</td>\n",
       "      <td>2.0</td>\n",
       "      <td>0.0</td>\n",
       "      <td>10.0</td>\n",
       "      <td>0.0</td>\n",
       "      <td>0.0</td>\n",
       "      <td>0.0</td>\n",
       "      <td>-1.0</td>\n",
       "      <td>3519148408</td>\n",
       "      <td>2024-09-14 12:12:56</td>\n",
       "    </tr>\n",
       "    <tr>\n",
       "      <th>175</th>\n",
       "      <td>860596d0-44c3-11ef-9b7b-002590c82436</td>\n",
       "      <td>0</td>\n",
       "      <td>0</td>\n",
       "      <td>0</td>\n",
       "      <td>0.0</td>\n",
       "      <td>2882</td>\n",
       "      <td>2882</td>\n",
       "      <td>5.0</td>\n",
       "      <td>1101.0</td>\n",
       "      <td>110.0</td>\n",
       "      <td>...</td>\n",
       "      <td>158.0</td>\n",
       "      <td>804.0</td>\n",
       "      <td>1.0</td>\n",
       "      <td>5.0</td>\n",
       "      <td>0.0</td>\n",
       "      <td>0.0</td>\n",
       "      <td>0.0</td>\n",
       "      <td>-1.0</td>\n",
       "      <td>4207310809</td>\n",
       "      <td>2024-09-16 20:28:39</td>\n",
       "    </tr>\n",
       "    <tr>\n",
       "      <th>367</th>\n",
       "      <td>a7c0cfae-43f8-11ef-9b7b-002590c82436</td>\n",
       "      <td>0</td>\n",
       "      <td>0</td>\n",
       "      <td>5</td>\n",
       "      <td>0.0</td>\n",
       "      <td>112</td>\n",
       "      <td>112</td>\n",
       "      <td>1.0</td>\n",
       "      <td>64.0</td>\n",
       "      <td>6.0</td>\n",
       "      <td>...</td>\n",
       "      <td>4.0</td>\n",
       "      <td>12.0</td>\n",
       "      <td>3.0</td>\n",
       "      <td>9.0</td>\n",
       "      <td>0.0</td>\n",
       "      <td>0.0</td>\n",
       "      <td>0.0</td>\n",
       "      <td>-1.0</td>\n",
       "      <td>2293099223</td>\n",
       "      <td>2024-09-28 17:51:53</td>\n",
       "    </tr>\n",
       "    <tr>\n",
       "      <th>89</th>\n",
       "      <td>f8c9fe8e-3298-11ed-9003-002590c82437</td>\n",
       "      <td>0</td>\n",
       "      <td>0</td>\n",
       "      <td>3</td>\n",
       "      <td>0.0</td>\n",
       "      <td>192</td>\n",
       "      <td>192</td>\n",
       "      <td>1.0</td>\n",
       "      <td>122.0</td>\n",
       "      <td>31.0</td>\n",
       "      <td>...</td>\n",
       "      <td>5.0</td>\n",
       "      <td>9.0</td>\n",
       "      <td>0.0</td>\n",
       "      <td>8.0</td>\n",
       "      <td>0.0</td>\n",
       "      <td>0.0</td>\n",
       "      <td>0.0</td>\n",
       "      <td>-1.0</td>\n",
       "      <td>1888667810</td>\n",
       "      <td>2024-09-12 12:11:58</td>\n",
       "    </tr>\n",
       "    <tr>\n",
       "      <th>13</th>\n",
       "      <td>7f6497ea-519d-11ef-9b7b-002590c82436</td>\n",
       "      <td>0</td>\n",
       "      <td>0</td>\n",
       "      <td>6</td>\n",
       "      <td>0.0</td>\n",
       "      <td>1924</td>\n",
       "      <td>1924</td>\n",
       "      <td>20.0</td>\n",
       "      <td>700.0</td>\n",
       "      <td>183.0</td>\n",
       "      <td>...</td>\n",
       "      <td>324.0</td>\n",
       "      <td>415.0</td>\n",
       "      <td>0.0</td>\n",
       "      <td>9.0</td>\n",
       "      <td>0.0</td>\n",
       "      <td>0.0</td>\n",
       "      <td>1.0</td>\n",
       "      <td>-1.0</td>\n",
       "      <td>3667877532</td>\n",
       "      <td>2024-09-08 08:20:04</td>\n",
       "    </tr>\n",
       "  </tbody>\n",
       "</table>\n",
       "<p>373 rows × 24 columns</p>\n",
       "</div>"
      ]
     },
     "execution_count": 1389,
     "metadata": {},
     "output_type": "execute_result"
    }
   ],
   "execution_count": 1389
  },
  {
   "metadata": {
    "ExecuteTime": {
     "end_time": "2024-10-12T16:13:52.649914Z",
     "start_time": "2024-10-12T16:13:35.178875Z"
    }
   },
   "cell_type": "code",
   "source": [
    "train_h2o = h2o.H2OFrame(train_portion)\n",
    "test_h2o = h2o.H2OFrame(test.sample(40_000))"
   ],
   "id": "40e3b6f6a7f48db9",
   "outputs": [],
   "execution_count": 1390
  },
  {
   "metadata": {
    "ExecuteTime": {
     "end_time": "2024-10-12T16:13:52.680677Z",
     "start_time": "2024-10-12T16:13:52.677991Z"
    }
   },
   "cell_type": "code",
   "source": [
    "y = \"weight\"\n",
    "x = set(train_h2o.names) - set([y, 'user_id', 'shop_id', 'day', 'hour', 'pageId', 'datetime', 'item_id', 'is_useful'])\n",
    "x"
   ],
   "id": "c73df6245888fc01",
   "outputs": [
    {
     "data": {
      "text/plain": [
       "{'action_0_count',\n",
       " 'action_1_count',\n",
       " 'action_2_count',\n",
       " 'action_3_count',\n",
       " 'action_4_count',\n",
       " 'action_5_count',\n",
       " 'action_6_count',\n",
       " 'action_7_count',\n",
       " 'action_8_count',\n",
       " 'action_9_count',\n",
       " 'category_id',\n",
       " 'category_id_count',\n",
       " 'day_of_week',\n",
       " 'delta_day',\n",
       " 'delta_hour',\n",
       " 'delta_min',\n",
       " 'delta_sec',\n",
       " 'loc_user_count',\n",
       " 'price_diff'}"
      ]
     },
     "execution_count": 1391,
     "metadata": {},
     "output_type": "execute_result"
    }
   ],
   "execution_count": 1391
  },
  {
   "metadata": {
    "ExecuteTime": {
     "end_time": "2024-10-12T16:13:52.914526Z",
     "start_time": "2024-10-12T16:13:52.912314Z"
    }
   },
   "cell_type": "code",
   "source": [
    "train_h2o[y] = train_h2o[y].asfactor()\n",
    "test_h2o[y] = test_h2o[y].asfactor()"
   ],
   "id": "7fa7d7231c5b1a55",
   "outputs": [],
   "execution_count": 1392
  },
  {
   "metadata": {
    "ExecuteTime": {
     "end_time": "2024-10-12T16:13:52.965001Z",
     "start_time": "2024-10-12T16:13:52.962551Z"
    }
   },
   "cell_type": "code",
   "source": [
    "train_h2o['category_id'] = train_h2o['category_id'].asfactor()\n",
    "test_h2o['category_id'] = test_h2o['category_id'].asfactor()"
   ],
   "id": "632976a09523b6a5",
   "outputs": [],
   "execution_count": 1393
  },
  {
   "metadata": {},
   "cell_type": "markdown",
   "source": "### для снижения уровня рутины и фокусировки на цели - качесвтенных предсказаниях - используем automl",
   "id": "9339c35bb05f3d21"
  },
  {
   "metadata": {
    "ExecuteTime": {
     "end_time": "2024-10-12T16:15:59.858031Z",
     "start_time": "2024-10-12T16:13:55.675527Z"
    }
   },
   "cell_type": "code",
   "source": [
    "gbm_model = H2OGradientBoostingEstimator(seed=1234)\n",
    "gbm_model.train(x=list(x), y=y, training_frame = train_h2o,  validation_frame = test_h2o, max_runtime_secs=120)"
   ],
   "id": "3be5fd2b53fb9838",
   "outputs": [
    {
     "data": {
      "text/plain": [
       "Model Details\n",
       "=============\n",
       "H2OGradientBoostingEstimator : Gradient Boosting Machine\n",
       "Model Key: GBM_model_python_1728716941453_3\n",
       "\n",
       "\n",
       "Model Summary: \n",
       "    number_of_trees    number_of_internal_trees    model_size_in_bytes    min_depth    max_depth    mean_depth    min_leaves    max_leaves    mean_leaves\n",
       "--  -----------------  --------------------------  ---------------------  -----------  -----------  ------------  ------------  ------------  -------------\n",
       "    42                 420                         208164                 5            5            5             10            32            31.3595\n",
       "\n",
       "ModelMetricsMultinomial: gbm\n",
       "** Reported on train data. **\n",
       "\n",
       "MSE: 0.02822791265455423\n",
       "RMSE: 0.16801164440167304\n",
       "LogLoss: 0.11764714001710955\n",
       "Mean Per-Class Error: 0.6393844688868425\n",
       "AUC table was not computed: it is either disabled (model parameter 'auc_type' was set to AUTO or NONE) or the domain size exceeds the limit (maximum is 50 domains).\n",
       "AUCPR table was not computed: it is either disabled (model parameter 'auc_type' was set to AUTO or NONE) or the domain size exceeds the limit (maximum is 50 domains).\n",
       "\n",
       "Confusion Matrix: Row labels: Actual class; Column labels: Predicted class\n",
       "0    1            2    3    4    5      6      7      8     9     Error      Rate\n",
       "---  -----------  ---  ---  ---  -----  -----  -----  ----  ----  ---------  ------------------\n",
       "0    373          0    0    0    0      0      0      0     0     1          373 / 373\n",
       "0    2.9404e+06   0    0    0    0      0      0      0     0     0          0 / 2,940,396\n",
       "0    19835        0    0    0    0      0      0      0     0     1          19,835 / 19,835\n",
       "0    35958        0    0    0    0      0      0      0     0     1          35,958 / 35,958\n",
       "0    29           0    0    7    15     65     339    19    15    0.985685   482 / 489\n",
       "0    1738         0    0    0    13026  1406   3137   86    232   0.336255   6,599 / 19,625\n",
       "0    4736         0    0    0    439    25185  3518   88    98    0.260656   8,879 / 34,064\n",
       "0    2884         0    2    0    416    5047   38921  276   1875  0.21246    10,500 / 49,421\n",
       "0    477          0    0    0    247    762    4071   845   202   0.872047   5,759 / 6,604\n",
       "0    568          0    0    0    33     1146   5899   56    2896  0.726741   7,702 / 10,598\n",
       "0    3.00699e+06  0    2    7    14176  33611  55885  1370  5318  0.0308232  96,087 / 3,117,363\n",
       "\n",
       "Top-10 Hit Ratios: \n",
       "k    hit_ratio\n",
       "---  -----------\n",
       "1    0.969177\n",
       "2    0.992865\n",
       "3    0.997622\n",
       "4    0.999123\n",
       "5    0.999703\n",
       "6    0.999894\n",
       "7    0.999969\n",
       "8    0.999996\n",
       "9    1\n",
       "10   1\n",
       "\n",
       "ModelMetricsMultinomial: gbm\n",
       "** Reported on validation data. **\n",
       "\n",
       "MSE: 0.24502246785792364\n",
       "RMSE: 0.4949974422741229\n",
       "LogLoss: 1.0745967460453902\n",
       "Mean Per-Class Error: 0.5561192721021111\n",
       "AUC table was not computed: it is either disabled (model parameter 'auc_type' was set to AUTO or NONE) or the domain size exceeds the limit (maximum is 50 domains).\n",
       "AUCPR table was not computed: it is either disabled (model parameter 'auc_type' was set to AUTO or NONE) or the domain size exceeds the limit (maximum is 50 domains).\n",
       "\n",
       "Confusion Matrix: Row labels: Actual class; Column labels: Predicted class\n",
       "0    1      2    3    4    5     6     7     8    9    Error     Rate\n",
       "---  -----  ---  ---  ---  ----  ----  ----  ---  ---  --------  ---------------\n",
       "0    0      0    0    0    0     0     0     0    0    nan       0 / 0\n",
       "0    24859  0    0    0    0     0     0     0    0    0         0 / 24,859\n",
       "0    6225   0    0    0    0     0     0     0    0    1         6,225 / 6,225\n",
       "0    458    0    0    0    0     0     0     0    0    1         458 / 458\n",
       "0    7      0    0    0    6     20    69    12   2    1         116 / 116\n",
       "0    809    0    0    0    3964  557   800   8    54   0.359819  2,228 / 6,192\n",
       "0    90     0    0    0    3     173   22    1    1    0.403448  117 / 290\n",
       "0    18     0    0    0    3     25    158   0    9    0.258216  55 / 213\n",
       "0    74     0    1    1    45    238   1046  156  53   0.903346  1,458 / 1,614\n",
       "0    3      0    0    0    0     6     12    0    12   0.636364  21 / 33\n",
       "0    32543  0    1    1    4021  1019  2107  177  131  0.26695   10,678 / 40,000\n",
       "\n",
       "Top-10 Hit Ratios: \n",
       "k    hit_ratio\n",
       "---  -----------\n",
       "1    0.73305\n",
       "2    0.89545\n",
       "3    0.964075\n",
       "4    0.9861\n",
       "5    0.994325\n",
       "6    0.99775\n",
       "7    0.999575\n",
       "8    0.999975\n",
       "9    1\n",
       "10   1\n",
       "\n",
       "Scoring History: \n",
       "     timestamp            duration          number_of_trees    training_rmse        training_logloss     training_classification_error    training_auc    training_pr_auc    validation_rmse     validation_logloss    validation_classification_error    validation_auc    validation_pr_auc\n",
       "---  -------------------  ----------------  -----------------  -------------------  -------------------  -------------------------------  --------------  -----------------  ------------------  --------------------  ---------------------------------  ----------------  -------------------\n",
       "     2024-10-12 19:13:56  0.022 sec         0.0                0.9000000000002061   2.302585092993751    0.11219354306829202              nan             nan                0.9000000000002253  2.3025850929942133    0.4193                             nan               nan\n",
       "     2024-10-12 19:13:59  3.068 sec         1.0                0.7777930216330341   1.5123891796127096   0.03251273592456188              nan             nan                0.8152745682975998  1.751114451053006     0.28855                            nan               nan\n",
       "     2024-10-12 19:14:05  8.892 sec         3.0                0.6081732454672106   0.9544436105996301   0.0323828184269846               nan             nan                0.7062021157768574  1.3861254450822666    0.289175                           nan               nan\n",
       "     2024-10-12 19:14:10  14.698 sec        5.0                0.47593353547352535  0.6661722575867389   0.032258995824355395             nan             nan                0.6312387135190421  1.2194138633518585    0.2889                             nan               nan\n",
       "     2024-10-12 19:14:16  20.492 sec        7.0                0.3754237061236837   0.48826800897202327  0.0321707802395807               nan             nan                0.5819453914576043  1.1301318933175017    0.288375                           nan               nan\n",
       "     2024-10-12 19:14:22  26.455 sec        9.0                0.3029937557970708   0.3723115290746638   0.032128436758888844             nan             nan                0.5523522399846211  1.089328726932754     0.288075                           nan               nan\n",
       "     2024-10-12 19:14:28  32.345 sec        11.0               0.253564120944579    0.294505587483042    0.03209956620387167              nan             nan                0.5348281376785511  1.0716679167265826    0.287575                           nan               nan\n",
       "     2024-10-12 19:14:34  38.181 sec        13.0               0.22167666991745538  0.24180736704691788  0.032047919988785395             nan             nan                0.5250569734762447  1.0711102567873125    0.28675                            nan               nan\n",
       "     2024-10-12 19:14:40  43.928 sec        15.0               0.20204271205122873  0.20598690864966818  0.03199723612553302              nan             nan                0.5198075397152733  1.0803697501070573    0.286525                           nan               nan\n",
       "     2024-10-12 19:14:46  49.855 sec        17.0               0.19030208214917355  0.18104357900488302  0.03194398599072357              nan             nan                0.5167674909850339  1.0923105977958367    0.285975                           nan               nan\n",
       "---  ---                  ---               ---                ---                  ---                  ---                              ---             ---                ---                 ---                   ---                                ---               ---\n",
       "     2024-10-12 19:15:09  1 min 13.095 sec  25.0               0.1739957995827002   0.13634083395579508  0.031669715718060425             nan             nan                0.5077303153755985  1.1159925775702764    0.282725                           nan               nan\n",
       "     2024-10-12 19:15:15  1 min 18.894 sec  27.0               0.17246385913316398  0.13172457555072264  0.03149103906089858              nan             nan                0.5054785395443278  1.1123551226477935    0.280425                           nan               nan\n",
       "     2024-10-12 19:15:20  1 min 24.692 sec  29.0               0.17158821076617833  0.12828887806340908  0.031449337148096                nan             nan                0.5047161492879373  1.1151232949521186    0.27975                            nan               nan\n",
       "     2024-10-12 19:15:26  1 min 30.466 sec  31.0               0.17096698054992412  0.12561900188016037  0.03140442739584707              nan             nan                0.5040753176651013  1.111455017246788     0.278725                           nan               nan\n",
       "     2024-10-12 19:15:32  1 min 36.698 sec  33.0               0.17032513188860407  0.1235729023296486   0.031304342805120865             nan             nan                0.5028692545978992  1.1067293055184046    0.27675                            nan               nan\n",
       "     2024-10-12 19:15:38  1 min 42.519 sec  35.0               0.16965947827720124  0.12165901751437344  0.03115325356719766              nan             nan                0.500521638630596   1.0976564315814086    0.2735                             nan               nan\n",
       "     2024-10-12 19:15:44  1 min 48.351 sec  37.0               0.16909129647710885  0.1202205998076859   0.031040658402630684             nan             nan                0.4985667671038666  1.0898659685091352    0.2706                             nan               nan\n",
       "     2024-10-12 19:15:50  1 min 54.168 sec  39.0               0.16857010385192564  0.11900631910754277  0.030946027138963283             nan             nan                0.4967623248561378  1.0829662061482401    0.26875                            nan               nan\n",
       "     2024-10-12 19:15:56  1 min 59.975 sec  41.0               0.1682843502178727   0.11815589113443291  0.030869680560140094             nan             nan                0.4962157451937134  1.0789379185763854    0.268575                           nan               nan\n",
       "     2024-10-12 19:15:59  2 min  2.953 sec  42.0               0.16801164440167304  0.11764714001710955  0.03082316688816798              nan             nan                0.4949974422741229  1.0745967460453902    0.26695                            nan               nan\n",
       "[23 rows x 14 columns]\n",
       "\n",
       "\n",
       "Variable Importances: \n",
       "variable           relative_importance    scaled_importance    percentage\n",
       "-----------------  ---------------------  -------------------  ------------\n",
       "category_id        537948                 1                    0.733693\n",
       "action_6_count     65836.4                0.122384             0.0897926\n",
       "action_7_count     46916.3                0.0872134            0.0639879\n",
       "action_3_count     17469.7                0.0324746            0.0238264\n",
       "delta_min          16454.9                0.0305883            0.0224424\n",
       "action_1_count     11743.7                0.0218306            0.0160169\n",
       "action_9_count     9727.08                0.0180818            0.0132665\n",
       "delta_sec          8700.96                0.0161743            0.011867\n",
       "action_8_count     6658.09                0.0123768            0.0090808\n",
       "loc_user_count     5406.57                0.0100504            0.00737388\n",
       "price_diff         2295.9                 0.00426788           0.00313131\n",
       "action_5_count     1515.29                0.00281679           0.00206666\n",
       "action_2_count     1154.6                 0.00214631           0.00157473\n",
       "action_4_count     745.932                0.00138663           0.00101736\n",
       "day_of_week        433.582                0.000805992          0.000591351\n",
       "delta_hour         87.2729                0.000162233          0.000119029\n",
       "action_0_count     81.4322                0.000151376          0.000111063\n",
       "category_id_count  28.0814                5.2201e-05           3.82995e-05\n",
       "delta_day          1.86268                3.46256e-06          2.54046e-06\n",
       "\n",
       "[tips]\n",
       "Use `model.explain()` to inspect the model.\n",
       "--\n",
       "Use `h2o.display.toggle_user_tips()` to switch on/off this section."
      ],
      "text/html": [
       "<pre style='margin: 1em 0 1em 0;'>Model Details\n",
       "=============\n",
       "H2OGradientBoostingEstimator : Gradient Boosting Machine\n",
       "Model Key: GBM_model_python_1728716941453_3\n",
       "</pre>\n",
       "<div style='margin: 1em 0 1em 0;'>\n",
       "<style>\n",
       "\n",
       "#h2o-table-22.h2o-container {\n",
       "  overflow-x: auto;\n",
       "}\n",
       "#h2o-table-22 .h2o-table {\n",
       "  /* width: 100%; */\n",
       "  margin-top: 1em;\n",
       "  margin-bottom: 1em;\n",
       "}\n",
       "#h2o-table-22 .h2o-table caption {\n",
       "  white-space: nowrap;\n",
       "  caption-side: top;\n",
       "  text-align: left;\n",
       "  /* margin-left: 1em; */\n",
       "  margin: 0;\n",
       "  font-size: larger;\n",
       "}\n",
       "#h2o-table-22 .h2o-table thead {\n",
       "  white-space: nowrap; \n",
       "  position: sticky;\n",
       "  top: 0;\n",
       "  box-shadow: 0 -1px inset;\n",
       "}\n",
       "#h2o-table-22 .h2o-table tbody {\n",
       "  overflow: auto;\n",
       "}\n",
       "#h2o-table-22 .h2o-table th,\n",
       "#h2o-table-22 .h2o-table td {\n",
       "  text-align: right;\n",
       "  /* border: 1px solid; */\n",
       "}\n",
       "#h2o-table-22 .h2o-table tr:nth-child(even) {\n",
       "  /* background: #F5F5F5 */\n",
       "}\n",
       "\n",
       "</style>      \n",
       "<div id=\"h2o-table-22\" class=\"h2o-container\">\n",
       "  <table class=\"h2o-table\">\n",
       "    <caption>Model Summary: </caption>\n",
       "    <thead><tr><th></th>\n",
       "<th>number_of_trees</th>\n",
       "<th>number_of_internal_trees</th>\n",
       "<th>model_size_in_bytes</th>\n",
       "<th>min_depth</th>\n",
       "<th>max_depth</th>\n",
       "<th>mean_depth</th>\n",
       "<th>min_leaves</th>\n",
       "<th>max_leaves</th>\n",
       "<th>mean_leaves</th></tr></thead>\n",
       "    <tbody><tr><td></td>\n",
       "<td>42.0</td>\n",
       "<td>420.0</td>\n",
       "<td>208164.0</td>\n",
       "<td>5.0</td>\n",
       "<td>5.0</td>\n",
       "<td>5.0</td>\n",
       "<td>10.0</td>\n",
       "<td>32.0</td>\n",
       "<td>31.359524</td></tr></tbody>\n",
       "  </table>\n",
       "</div>\n",
       "</div>\n",
       "<div style='margin: 1em 0 1em 0;'><pre style='margin: 1em 0 1em 0;'>ModelMetricsMultinomial: gbm\n",
       "** Reported on train data. **\n",
       "\n",
       "MSE: 0.02822791265455423\n",
       "RMSE: 0.16801164440167304\n",
       "LogLoss: 0.11764714001710955\n",
       "Mean Per-Class Error: 0.6393844688868425\n",
       "AUC table was not computed: it is either disabled (model parameter 'auc_type' was set to AUTO or NONE) or the domain size exceeds the limit (maximum is 50 domains).\n",
       "AUCPR table was not computed: it is either disabled (model parameter 'auc_type' was set to AUTO or NONE) or the domain size exceeds the limit (maximum is 50 domains).</pre>\n",
       "<div style='margin: 1em 0 1em 0;'>\n",
       "<style>\n",
       "\n",
       "#h2o-table-23.h2o-container {\n",
       "  overflow-x: auto;\n",
       "}\n",
       "#h2o-table-23 .h2o-table {\n",
       "  /* width: 100%; */\n",
       "  margin-top: 1em;\n",
       "  margin-bottom: 1em;\n",
       "}\n",
       "#h2o-table-23 .h2o-table caption {\n",
       "  white-space: nowrap;\n",
       "  caption-side: top;\n",
       "  text-align: left;\n",
       "  /* margin-left: 1em; */\n",
       "  margin: 0;\n",
       "  font-size: larger;\n",
       "}\n",
       "#h2o-table-23 .h2o-table thead {\n",
       "  white-space: nowrap; \n",
       "  position: sticky;\n",
       "  top: 0;\n",
       "  box-shadow: 0 -1px inset;\n",
       "}\n",
       "#h2o-table-23 .h2o-table tbody {\n",
       "  overflow: auto;\n",
       "}\n",
       "#h2o-table-23 .h2o-table th,\n",
       "#h2o-table-23 .h2o-table td {\n",
       "  text-align: right;\n",
       "  /* border: 1px solid; */\n",
       "}\n",
       "#h2o-table-23 .h2o-table tr:nth-child(even) {\n",
       "  /* background: #F5F5F5 */\n",
       "}\n",
       "\n",
       "</style>      \n",
       "<div id=\"h2o-table-23\" class=\"h2o-container\">\n",
       "  <table class=\"h2o-table\">\n",
       "    <caption>Confusion Matrix: Row labels: Actual class; Column labels: Predicted class</caption>\n",
       "    <thead><tr><th>0</th>\n",
       "<th>1</th>\n",
       "<th>2</th>\n",
       "<th>3</th>\n",
       "<th>4</th>\n",
       "<th>5</th>\n",
       "<th>6</th>\n",
       "<th>7</th>\n",
       "<th>8</th>\n",
       "<th>9</th>\n",
       "<th>Error</th>\n",
       "<th>Rate</th></tr></thead>\n",
       "    <tbody><tr><td>0.0</td>\n",
       "<td>373.0</td>\n",
       "<td>0.0</td>\n",
       "<td>0.0</td>\n",
       "<td>0.0</td>\n",
       "<td>0.0</td>\n",
       "<td>0.0</td>\n",
       "<td>0.0</td>\n",
       "<td>0.0</td>\n",
       "<td>0.0</td>\n",
       "<td>1.0</td>\n",
       "<td>373 / 373</td></tr>\n",
       "<tr><td>0.0</td>\n",
       "<td>2940396.0</td>\n",
       "<td>0.0</td>\n",
       "<td>0.0</td>\n",
       "<td>0.0</td>\n",
       "<td>0.0</td>\n",
       "<td>0.0</td>\n",
       "<td>0.0</td>\n",
       "<td>0.0</td>\n",
       "<td>0.0</td>\n",
       "<td>0.0</td>\n",
       "<td>0 / 2,940,396</td></tr>\n",
       "<tr><td>0.0</td>\n",
       "<td>19835.0</td>\n",
       "<td>0.0</td>\n",
       "<td>0.0</td>\n",
       "<td>0.0</td>\n",
       "<td>0.0</td>\n",
       "<td>0.0</td>\n",
       "<td>0.0</td>\n",
       "<td>0.0</td>\n",
       "<td>0.0</td>\n",
       "<td>1.0</td>\n",
       "<td>19,835 / 19,835</td></tr>\n",
       "<tr><td>0.0</td>\n",
       "<td>35958.0</td>\n",
       "<td>0.0</td>\n",
       "<td>0.0</td>\n",
       "<td>0.0</td>\n",
       "<td>0.0</td>\n",
       "<td>0.0</td>\n",
       "<td>0.0</td>\n",
       "<td>0.0</td>\n",
       "<td>0.0</td>\n",
       "<td>1.0</td>\n",
       "<td>35,958 / 35,958</td></tr>\n",
       "<tr><td>0.0</td>\n",
       "<td>29.0</td>\n",
       "<td>0.0</td>\n",
       "<td>0.0</td>\n",
       "<td>7.0</td>\n",
       "<td>15.0</td>\n",
       "<td>65.0</td>\n",
       "<td>339.0</td>\n",
       "<td>19.0</td>\n",
       "<td>15.0</td>\n",
       "<td>0.9856851</td>\n",
       "<td>482 / 489</td></tr>\n",
       "<tr><td>0.0</td>\n",
       "<td>1738.0</td>\n",
       "<td>0.0</td>\n",
       "<td>0.0</td>\n",
       "<td>0.0</td>\n",
       "<td>13026.0</td>\n",
       "<td>1406.0</td>\n",
       "<td>3137.0</td>\n",
       "<td>86.0</td>\n",
       "<td>232.0</td>\n",
       "<td>0.3362548</td>\n",
       "<td>6,599 / 19,625</td></tr>\n",
       "<tr><td>0.0</td>\n",
       "<td>4736.0</td>\n",
       "<td>0.0</td>\n",
       "<td>0.0</td>\n",
       "<td>0.0</td>\n",
       "<td>439.0</td>\n",
       "<td>25185.0</td>\n",
       "<td>3518.0</td>\n",
       "<td>88.0</td>\n",
       "<td>98.0</td>\n",
       "<td>0.2606564</td>\n",
       "<td>8,879 / 34,064</td></tr>\n",
       "<tr><td>0.0</td>\n",
       "<td>2884.0</td>\n",
       "<td>0.0</td>\n",
       "<td>2.0</td>\n",
       "<td>0.0</td>\n",
       "<td>416.0</td>\n",
       "<td>5047.0</td>\n",
       "<td>38921.0</td>\n",
       "<td>276.0</td>\n",
       "<td>1875.0</td>\n",
       "<td>0.2124603</td>\n",
       "<td>10,500 / 49,421</td></tr>\n",
       "<tr><td>0.0</td>\n",
       "<td>477.0</td>\n",
       "<td>0.0</td>\n",
       "<td>0.0</td>\n",
       "<td>0.0</td>\n",
       "<td>247.0</td>\n",
       "<td>762.0</td>\n",
       "<td>4071.0</td>\n",
       "<td>845.0</td>\n",
       "<td>202.0</td>\n",
       "<td>0.8720472</td>\n",
       "<td>5,759 / 6,604</td></tr>\n",
       "<tr><td>0.0</td>\n",
       "<td>568.0</td>\n",
       "<td>0.0</td>\n",
       "<td>0.0</td>\n",
       "<td>0.0</td>\n",
       "<td>33.0</td>\n",
       "<td>1146.0</td>\n",
       "<td>5899.0</td>\n",
       "<td>56.0</td>\n",
       "<td>2896.0</td>\n",
       "<td>0.7267409</td>\n",
       "<td>7,702 / 10,598</td></tr>\n",
       "<tr><td>0.0</td>\n",
       "<td>3006994.0</td>\n",
       "<td>0.0</td>\n",
       "<td>2.0</td>\n",
       "<td>7.0</td>\n",
       "<td>14176.0</td>\n",
       "<td>33611.0</td>\n",
       "<td>55885.0</td>\n",
       "<td>1370.0</td>\n",
       "<td>5318.0</td>\n",
       "<td>0.0308232</td>\n",
       "<td>96,087 / 3,117,363</td></tr></tbody>\n",
       "  </table>\n",
       "</div>\n",
       "</div>\n",
       "<div style='margin: 1em 0 1em 0;'>\n",
       "<style>\n",
       "\n",
       "#h2o-table-24.h2o-container {\n",
       "  overflow-x: auto;\n",
       "}\n",
       "#h2o-table-24 .h2o-table {\n",
       "  /* width: 100%; */\n",
       "  margin-top: 1em;\n",
       "  margin-bottom: 1em;\n",
       "}\n",
       "#h2o-table-24 .h2o-table caption {\n",
       "  white-space: nowrap;\n",
       "  caption-side: top;\n",
       "  text-align: left;\n",
       "  /* margin-left: 1em; */\n",
       "  margin: 0;\n",
       "  font-size: larger;\n",
       "}\n",
       "#h2o-table-24 .h2o-table thead {\n",
       "  white-space: nowrap; \n",
       "  position: sticky;\n",
       "  top: 0;\n",
       "  box-shadow: 0 -1px inset;\n",
       "}\n",
       "#h2o-table-24 .h2o-table tbody {\n",
       "  overflow: auto;\n",
       "}\n",
       "#h2o-table-24 .h2o-table th,\n",
       "#h2o-table-24 .h2o-table td {\n",
       "  text-align: right;\n",
       "  /* border: 1px solid; */\n",
       "}\n",
       "#h2o-table-24 .h2o-table tr:nth-child(even) {\n",
       "  /* background: #F5F5F5 */\n",
       "}\n",
       "\n",
       "</style>      \n",
       "<div id=\"h2o-table-24\" class=\"h2o-container\">\n",
       "  <table class=\"h2o-table\">\n",
       "    <caption>Top-10 Hit Ratios: </caption>\n",
       "    <thead><tr><th>k</th>\n",
       "<th>hit_ratio</th></tr></thead>\n",
       "    <tbody><tr><td>1</td>\n",
       "<td>0.9691768</td></tr>\n",
       "<tr><td>2</td>\n",
       "<td>0.9928648</td></tr>\n",
       "<tr><td>3</td>\n",
       "<td>0.9976223</td></tr>\n",
       "<tr><td>4</td>\n",
       "<td>0.9991233</td></tr>\n",
       "<tr><td>5</td>\n",
       "<td>0.9997026</td></tr>\n",
       "<tr><td>6</td>\n",
       "<td>0.9998938</td></tr>\n",
       "<tr><td>7</td>\n",
       "<td>0.9999686</td></tr>\n",
       "<tr><td>8</td>\n",
       "<td>0.9999965</td></tr>\n",
       "<tr><td>9</td>\n",
       "<td>0.9999997</td></tr>\n",
       "<tr><td>10</td>\n",
       "<td>1.0</td></tr></tbody>\n",
       "  </table>\n",
       "</div>\n",
       "</div></div>\n",
       "<div style='margin: 1em 0 1em 0;'><pre style='margin: 1em 0 1em 0;'>ModelMetricsMultinomial: gbm\n",
       "** Reported on validation data. **\n",
       "\n",
       "MSE: 0.24502246785792364\n",
       "RMSE: 0.4949974422741229\n",
       "LogLoss: 1.0745967460453902\n",
       "Mean Per-Class Error: 0.5561192721021111\n",
       "AUC table was not computed: it is either disabled (model parameter 'auc_type' was set to AUTO or NONE) or the domain size exceeds the limit (maximum is 50 domains).\n",
       "AUCPR table was not computed: it is either disabled (model parameter 'auc_type' was set to AUTO or NONE) or the domain size exceeds the limit (maximum is 50 domains).</pre>\n",
       "<div style='margin: 1em 0 1em 0;'>\n",
       "<style>\n",
       "\n",
       "#h2o-table-25.h2o-container {\n",
       "  overflow-x: auto;\n",
       "}\n",
       "#h2o-table-25 .h2o-table {\n",
       "  /* width: 100%; */\n",
       "  margin-top: 1em;\n",
       "  margin-bottom: 1em;\n",
       "}\n",
       "#h2o-table-25 .h2o-table caption {\n",
       "  white-space: nowrap;\n",
       "  caption-side: top;\n",
       "  text-align: left;\n",
       "  /* margin-left: 1em; */\n",
       "  margin: 0;\n",
       "  font-size: larger;\n",
       "}\n",
       "#h2o-table-25 .h2o-table thead {\n",
       "  white-space: nowrap; \n",
       "  position: sticky;\n",
       "  top: 0;\n",
       "  box-shadow: 0 -1px inset;\n",
       "}\n",
       "#h2o-table-25 .h2o-table tbody {\n",
       "  overflow: auto;\n",
       "}\n",
       "#h2o-table-25 .h2o-table th,\n",
       "#h2o-table-25 .h2o-table td {\n",
       "  text-align: right;\n",
       "  /* border: 1px solid; */\n",
       "}\n",
       "#h2o-table-25 .h2o-table tr:nth-child(even) {\n",
       "  /* background: #F5F5F5 */\n",
       "}\n",
       "\n",
       "</style>      \n",
       "<div id=\"h2o-table-25\" class=\"h2o-container\">\n",
       "  <table class=\"h2o-table\">\n",
       "    <caption>Confusion Matrix: Row labels: Actual class; Column labels: Predicted class</caption>\n",
       "    <thead><tr><th>0</th>\n",
       "<th>1</th>\n",
       "<th>2</th>\n",
       "<th>3</th>\n",
       "<th>4</th>\n",
       "<th>5</th>\n",
       "<th>6</th>\n",
       "<th>7</th>\n",
       "<th>8</th>\n",
       "<th>9</th>\n",
       "<th>Error</th>\n",
       "<th>Rate</th></tr></thead>\n",
       "    <tbody><tr><td>0.0</td>\n",
       "<td>0.0</td>\n",
       "<td>0.0</td>\n",
       "<td>0.0</td>\n",
       "<td>0.0</td>\n",
       "<td>0.0</td>\n",
       "<td>0.0</td>\n",
       "<td>0.0</td>\n",
       "<td>0.0</td>\n",
       "<td>0.0</td>\n",
       "<td>nan</td>\n",
       "<td>0 / 0</td></tr>\n",
       "<tr><td>0.0</td>\n",
       "<td>24859.0</td>\n",
       "<td>0.0</td>\n",
       "<td>0.0</td>\n",
       "<td>0.0</td>\n",
       "<td>0.0</td>\n",
       "<td>0.0</td>\n",
       "<td>0.0</td>\n",
       "<td>0.0</td>\n",
       "<td>0.0</td>\n",
       "<td>0.0</td>\n",
       "<td>0 / 24,859</td></tr>\n",
       "<tr><td>0.0</td>\n",
       "<td>6225.0</td>\n",
       "<td>0.0</td>\n",
       "<td>0.0</td>\n",
       "<td>0.0</td>\n",
       "<td>0.0</td>\n",
       "<td>0.0</td>\n",
       "<td>0.0</td>\n",
       "<td>0.0</td>\n",
       "<td>0.0</td>\n",
       "<td>1.0</td>\n",
       "<td>6,225 / 6,225</td></tr>\n",
       "<tr><td>0.0</td>\n",
       "<td>458.0</td>\n",
       "<td>0.0</td>\n",
       "<td>0.0</td>\n",
       "<td>0.0</td>\n",
       "<td>0.0</td>\n",
       "<td>0.0</td>\n",
       "<td>0.0</td>\n",
       "<td>0.0</td>\n",
       "<td>0.0</td>\n",
       "<td>1.0</td>\n",
       "<td>458 / 458</td></tr>\n",
       "<tr><td>0.0</td>\n",
       "<td>7.0</td>\n",
       "<td>0.0</td>\n",
       "<td>0.0</td>\n",
       "<td>0.0</td>\n",
       "<td>6.0</td>\n",
       "<td>20.0</td>\n",
       "<td>69.0</td>\n",
       "<td>12.0</td>\n",
       "<td>2.0</td>\n",
       "<td>1.0</td>\n",
       "<td>116 / 116</td></tr>\n",
       "<tr><td>0.0</td>\n",
       "<td>809.0</td>\n",
       "<td>0.0</td>\n",
       "<td>0.0</td>\n",
       "<td>0.0</td>\n",
       "<td>3964.0</td>\n",
       "<td>557.0</td>\n",
       "<td>800.0</td>\n",
       "<td>8.0</td>\n",
       "<td>54.0</td>\n",
       "<td>0.3598191</td>\n",
       "<td>2,228 / 6,192</td></tr>\n",
       "<tr><td>0.0</td>\n",
       "<td>90.0</td>\n",
       "<td>0.0</td>\n",
       "<td>0.0</td>\n",
       "<td>0.0</td>\n",
       "<td>3.0</td>\n",
       "<td>173.0</td>\n",
       "<td>22.0</td>\n",
       "<td>1.0</td>\n",
       "<td>1.0</td>\n",
       "<td>0.4034483</td>\n",
       "<td>117 / 290</td></tr>\n",
       "<tr><td>0.0</td>\n",
       "<td>18.0</td>\n",
       "<td>0.0</td>\n",
       "<td>0.0</td>\n",
       "<td>0.0</td>\n",
       "<td>3.0</td>\n",
       "<td>25.0</td>\n",
       "<td>158.0</td>\n",
       "<td>0.0</td>\n",
       "<td>9.0</td>\n",
       "<td>0.2582160</td>\n",
       "<td>55 / 213</td></tr>\n",
       "<tr><td>0.0</td>\n",
       "<td>74.0</td>\n",
       "<td>0.0</td>\n",
       "<td>1.0</td>\n",
       "<td>1.0</td>\n",
       "<td>45.0</td>\n",
       "<td>238.0</td>\n",
       "<td>1046.0</td>\n",
       "<td>156.0</td>\n",
       "<td>53.0</td>\n",
       "<td>0.9033457</td>\n",
       "<td>1,458 / 1,614</td></tr>\n",
       "<tr><td>0.0</td>\n",
       "<td>3.0</td>\n",
       "<td>0.0</td>\n",
       "<td>0.0</td>\n",
       "<td>0.0</td>\n",
       "<td>0.0</td>\n",
       "<td>6.0</td>\n",
       "<td>12.0</td>\n",
       "<td>0.0</td>\n",
       "<td>12.0</td>\n",
       "<td>0.6363636</td>\n",
       "<td>21 / 33</td></tr>\n",
       "<tr><td>0.0</td>\n",
       "<td>32543.0</td>\n",
       "<td>0.0</td>\n",
       "<td>1.0</td>\n",
       "<td>1.0</td>\n",
       "<td>4021.0</td>\n",
       "<td>1019.0</td>\n",
       "<td>2107.0</td>\n",
       "<td>177.0</td>\n",
       "<td>131.0</td>\n",
       "<td>0.26695</td>\n",
       "<td>10,678 / 40,000</td></tr></tbody>\n",
       "  </table>\n",
       "</div>\n",
       "</div>\n",
       "<div style='margin: 1em 0 1em 0;'>\n",
       "<style>\n",
       "\n",
       "#h2o-table-26.h2o-container {\n",
       "  overflow-x: auto;\n",
       "}\n",
       "#h2o-table-26 .h2o-table {\n",
       "  /* width: 100%; */\n",
       "  margin-top: 1em;\n",
       "  margin-bottom: 1em;\n",
       "}\n",
       "#h2o-table-26 .h2o-table caption {\n",
       "  white-space: nowrap;\n",
       "  caption-side: top;\n",
       "  text-align: left;\n",
       "  /* margin-left: 1em; */\n",
       "  margin: 0;\n",
       "  font-size: larger;\n",
       "}\n",
       "#h2o-table-26 .h2o-table thead {\n",
       "  white-space: nowrap; \n",
       "  position: sticky;\n",
       "  top: 0;\n",
       "  box-shadow: 0 -1px inset;\n",
       "}\n",
       "#h2o-table-26 .h2o-table tbody {\n",
       "  overflow: auto;\n",
       "}\n",
       "#h2o-table-26 .h2o-table th,\n",
       "#h2o-table-26 .h2o-table td {\n",
       "  text-align: right;\n",
       "  /* border: 1px solid; */\n",
       "}\n",
       "#h2o-table-26 .h2o-table tr:nth-child(even) {\n",
       "  /* background: #F5F5F5 */\n",
       "}\n",
       "\n",
       "</style>      \n",
       "<div id=\"h2o-table-26\" class=\"h2o-container\">\n",
       "  <table class=\"h2o-table\">\n",
       "    <caption>Top-10 Hit Ratios: </caption>\n",
       "    <thead><tr><th>k</th>\n",
       "<th>hit_ratio</th></tr></thead>\n",
       "    <tbody><tr><td>1</td>\n",
       "<td>0.73305</td></tr>\n",
       "<tr><td>2</td>\n",
       "<td>0.89545</td></tr>\n",
       "<tr><td>3</td>\n",
       "<td>0.9640750</td></tr>\n",
       "<tr><td>4</td>\n",
       "<td>0.9861000</td></tr>\n",
       "<tr><td>5</td>\n",
       "<td>0.994325</td></tr>\n",
       "<tr><td>6</td>\n",
       "<td>0.99775</td></tr>\n",
       "<tr><td>7</td>\n",
       "<td>0.9995750</td></tr>\n",
       "<tr><td>8</td>\n",
       "<td>0.9999750</td></tr>\n",
       "<tr><td>9</td>\n",
       "<td>0.9999999</td></tr>\n",
       "<tr><td>10</td>\n",
       "<td>0.9999999</td></tr></tbody>\n",
       "  </table>\n",
       "</div>\n",
       "</div></div>\n",
       "<div style='margin: 1em 0 1em 0;'>\n",
       "<style>\n",
       "\n",
       "#h2o-table-27.h2o-container {\n",
       "  overflow-x: auto;\n",
       "}\n",
       "#h2o-table-27 .h2o-table {\n",
       "  /* width: 100%; */\n",
       "  margin-top: 1em;\n",
       "  margin-bottom: 1em;\n",
       "}\n",
       "#h2o-table-27 .h2o-table caption {\n",
       "  white-space: nowrap;\n",
       "  caption-side: top;\n",
       "  text-align: left;\n",
       "  /* margin-left: 1em; */\n",
       "  margin: 0;\n",
       "  font-size: larger;\n",
       "}\n",
       "#h2o-table-27 .h2o-table thead {\n",
       "  white-space: nowrap; \n",
       "  position: sticky;\n",
       "  top: 0;\n",
       "  box-shadow: 0 -1px inset;\n",
       "}\n",
       "#h2o-table-27 .h2o-table tbody {\n",
       "  overflow: auto;\n",
       "}\n",
       "#h2o-table-27 .h2o-table th,\n",
       "#h2o-table-27 .h2o-table td {\n",
       "  text-align: right;\n",
       "  /* border: 1px solid; */\n",
       "}\n",
       "#h2o-table-27 .h2o-table tr:nth-child(even) {\n",
       "  /* background: #F5F5F5 */\n",
       "}\n",
       "\n",
       "</style>      \n",
       "<div id=\"h2o-table-27\" class=\"h2o-container\">\n",
       "  <table class=\"h2o-table\">\n",
       "    <caption>Scoring History: </caption>\n",
       "    <thead><tr><th></th>\n",
       "<th>timestamp</th>\n",
       "<th>duration</th>\n",
       "<th>number_of_trees</th>\n",
       "<th>training_rmse</th>\n",
       "<th>training_logloss</th>\n",
       "<th>training_classification_error</th>\n",
       "<th>training_auc</th>\n",
       "<th>training_pr_auc</th>\n",
       "<th>validation_rmse</th>\n",
       "<th>validation_logloss</th>\n",
       "<th>validation_classification_error</th>\n",
       "<th>validation_auc</th>\n",
       "<th>validation_pr_auc</th></tr></thead>\n",
       "    <tbody><tr><td></td>\n",
       "<td>2024-10-12 19:13:56</td>\n",
       "<td> 0.022 sec</td>\n",
       "<td>0.0</td>\n",
       "<td>0.9000000</td>\n",
       "<td>2.3025851</td>\n",
       "<td>0.1121935</td>\n",
       "<td>nan</td>\n",
       "<td>nan</td>\n",
       "<td>0.9000000</td>\n",
       "<td>2.3025851</td>\n",
       "<td>0.4193</td>\n",
       "<td>nan</td>\n",
       "<td>nan</td></tr>\n",
       "<tr><td></td>\n",
       "<td>2024-10-12 19:13:59</td>\n",
       "<td> 3.068 sec</td>\n",
       "<td>1.0</td>\n",
       "<td>0.7777930</td>\n",
       "<td>1.5123892</td>\n",
       "<td>0.0325127</td>\n",
       "<td>nan</td>\n",
       "<td>nan</td>\n",
       "<td>0.8152746</td>\n",
       "<td>1.7511145</td>\n",
       "<td>0.28855</td>\n",
       "<td>nan</td>\n",
       "<td>nan</td></tr>\n",
       "<tr><td></td>\n",
       "<td>2024-10-12 19:14:05</td>\n",
       "<td> 8.892 sec</td>\n",
       "<td>3.0</td>\n",
       "<td>0.6081732</td>\n",
       "<td>0.9544436</td>\n",
       "<td>0.0323828</td>\n",
       "<td>nan</td>\n",
       "<td>nan</td>\n",
       "<td>0.7062021</td>\n",
       "<td>1.3861254</td>\n",
       "<td>0.289175</td>\n",
       "<td>nan</td>\n",
       "<td>nan</td></tr>\n",
       "<tr><td></td>\n",
       "<td>2024-10-12 19:14:10</td>\n",
       "<td>14.698 sec</td>\n",
       "<td>5.0</td>\n",
       "<td>0.4759335</td>\n",
       "<td>0.6661723</td>\n",
       "<td>0.0322590</td>\n",
       "<td>nan</td>\n",
       "<td>nan</td>\n",
       "<td>0.6312387</td>\n",
       "<td>1.2194139</td>\n",
       "<td>0.2889</td>\n",
       "<td>nan</td>\n",
       "<td>nan</td></tr>\n",
       "<tr><td></td>\n",
       "<td>2024-10-12 19:14:16</td>\n",
       "<td>20.492 sec</td>\n",
       "<td>7.0</td>\n",
       "<td>0.3754237</td>\n",
       "<td>0.4882680</td>\n",
       "<td>0.0321708</td>\n",
       "<td>nan</td>\n",
       "<td>nan</td>\n",
       "<td>0.5819454</td>\n",
       "<td>1.1301319</td>\n",
       "<td>0.288375</td>\n",
       "<td>nan</td>\n",
       "<td>nan</td></tr>\n",
       "<tr><td></td>\n",
       "<td>2024-10-12 19:14:22</td>\n",
       "<td>26.455 sec</td>\n",
       "<td>9.0</td>\n",
       "<td>0.3029938</td>\n",
       "<td>0.3723115</td>\n",
       "<td>0.0321284</td>\n",
       "<td>nan</td>\n",
       "<td>nan</td>\n",
       "<td>0.5523522</td>\n",
       "<td>1.0893287</td>\n",
       "<td>0.288075</td>\n",
       "<td>nan</td>\n",
       "<td>nan</td></tr>\n",
       "<tr><td></td>\n",
       "<td>2024-10-12 19:14:28</td>\n",
       "<td>32.345 sec</td>\n",
       "<td>11.0</td>\n",
       "<td>0.2535641</td>\n",
       "<td>0.2945056</td>\n",
       "<td>0.0320996</td>\n",
       "<td>nan</td>\n",
       "<td>nan</td>\n",
       "<td>0.5348281</td>\n",
       "<td>1.0716679</td>\n",
       "<td>0.287575</td>\n",
       "<td>nan</td>\n",
       "<td>nan</td></tr>\n",
       "<tr><td></td>\n",
       "<td>2024-10-12 19:14:34</td>\n",
       "<td>38.181 sec</td>\n",
       "<td>13.0</td>\n",
       "<td>0.2216767</td>\n",
       "<td>0.2418074</td>\n",
       "<td>0.0320479</td>\n",
       "<td>nan</td>\n",
       "<td>nan</td>\n",
       "<td>0.5250570</td>\n",
       "<td>1.0711103</td>\n",
       "<td>0.28675</td>\n",
       "<td>nan</td>\n",
       "<td>nan</td></tr>\n",
       "<tr><td></td>\n",
       "<td>2024-10-12 19:14:40</td>\n",
       "<td>43.928 sec</td>\n",
       "<td>15.0</td>\n",
       "<td>0.2020427</td>\n",
       "<td>0.2059869</td>\n",
       "<td>0.0319972</td>\n",
       "<td>nan</td>\n",
       "<td>nan</td>\n",
       "<td>0.5198075</td>\n",
       "<td>1.0803698</td>\n",
       "<td>0.286525</td>\n",
       "<td>nan</td>\n",
       "<td>nan</td></tr>\n",
       "<tr><td></td>\n",
       "<td>2024-10-12 19:14:46</td>\n",
       "<td>49.855 sec</td>\n",
       "<td>17.0</td>\n",
       "<td>0.1903021</td>\n",
       "<td>0.1810436</td>\n",
       "<td>0.0319440</td>\n",
       "<td>nan</td>\n",
       "<td>nan</td>\n",
       "<td>0.5167675</td>\n",
       "<td>1.0923106</td>\n",
       "<td>0.285975</td>\n",
       "<td>nan</td>\n",
       "<td>nan</td></tr>\n",
       "<tr><td>---</td>\n",
       "<td>---</td>\n",
       "<td>---</td>\n",
       "<td>---</td>\n",
       "<td>---</td>\n",
       "<td>---</td>\n",
       "<td>---</td>\n",
       "<td>---</td>\n",
       "<td>---</td>\n",
       "<td>---</td>\n",
       "<td>---</td>\n",
       "<td>---</td>\n",
       "<td>---</td>\n",
       "<td>---</td></tr>\n",
       "<tr><td></td>\n",
       "<td>2024-10-12 19:15:09</td>\n",
       "<td> 1 min 13.095 sec</td>\n",
       "<td>25.0</td>\n",
       "<td>0.1739958</td>\n",
       "<td>0.1363408</td>\n",
       "<td>0.0316697</td>\n",
       "<td>nan</td>\n",
       "<td>nan</td>\n",
       "<td>0.5077303</td>\n",
       "<td>1.1159926</td>\n",
       "<td>0.282725</td>\n",
       "<td>nan</td>\n",
       "<td>nan</td></tr>\n",
       "<tr><td></td>\n",
       "<td>2024-10-12 19:15:15</td>\n",
       "<td> 1 min 18.894 sec</td>\n",
       "<td>27.0</td>\n",
       "<td>0.1724639</td>\n",
       "<td>0.1317246</td>\n",
       "<td>0.0314910</td>\n",
       "<td>nan</td>\n",
       "<td>nan</td>\n",
       "<td>0.5054785</td>\n",
       "<td>1.1123551</td>\n",
       "<td>0.280425</td>\n",
       "<td>nan</td>\n",
       "<td>nan</td></tr>\n",
       "<tr><td></td>\n",
       "<td>2024-10-12 19:15:20</td>\n",
       "<td> 1 min 24.692 sec</td>\n",
       "<td>29.0</td>\n",
       "<td>0.1715882</td>\n",
       "<td>0.1282889</td>\n",
       "<td>0.0314493</td>\n",
       "<td>nan</td>\n",
       "<td>nan</td>\n",
       "<td>0.5047161</td>\n",
       "<td>1.1151233</td>\n",
       "<td>0.27975</td>\n",
       "<td>nan</td>\n",
       "<td>nan</td></tr>\n",
       "<tr><td></td>\n",
       "<td>2024-10-12 19:15:26</td>\n",
       "<td> 1 min 30.466 sec</td>\n",
       "<td>31.0</td>\n",
       "<td>0.1709670</td>\n",
       "<td>0.1256190</td>\n",
       "<td>0.0314044</td>\n",
       "<td>nan</td>\n",
       "<td>nan</td>\n",
       "<td>0.5040753</td>\n",
       "<td>1.1114550</td>\n",
       "<td>0.278725</td>\n",
       "<td>nan</td>\n",
       "<td>nan</td></tr>\n",
       "<tr><td></td>\n",
       "<td>2024-10-12 19:15:32</td>\n",
       "<td> 1 min 36.698 sec</td>\n",
       "<td>33.0</td>\n",
       "<td>0.1703251</td>\n",
       "<td>0.1235729</td>\n",
       "<td>0.0313043</td>\n",
       "<td>nan</td>\n",
       "<td>nan</td>\n",
       "<td>0.5028693</td>\n",
       "<td>1.1067293</td>\n",
       "<td>0.27675</td>\n",
       "<td>nan</td>\n",
       "<td>nan</td></tr>\n",
       "<tr><td></td>\n",
       "<td>2024-10-12 19:15:38</td>\n",
       "<td> 1 min 42.519 sec</td>\n",
       "<td>35.0</td>\n",
       "<td>0.1696595</td>\n",
       "<td>0.1216590</td>\n",
       "<td>0.0311533</td>\n",
       "<td>nan</td>\n",
       "<td>nan</td>\n",
       "<td>0.5005216</td>\n",
       "<td>1.0976564</td>\n",
       "<td>0.2735</td>\n",
       "<td>nan</td>\n",
       "<td>nan</td></tr>\n",
       "<tr><td></td>\n",
       "<td>2024-10-12 19:15:44</td>\n",
       "<td> 1 min 48.351 sec</td>\n",
       "<td>37.0</td>\n",
       "<td>0.1690913</td>\n",
       "<td>0.1202206</td>\n",
       "<td>0.0310407</td>\n",
       "<td>nan</td>\n",
       "<td>nan</td>\n",
       "<td>0.4985668</td>\n",
       "<td>1.0898660</td>\n",
       "<td>0.2706</td>\n",
       "<td>nan</td>\n",
       "<td>nan</td></tr>\n",
       "<tr><td></td>\n",
       "<td>2024-10-12 19:15:50</td>\n",
       "<td> 1 min 54.168 sec</td>\n",
       "<td>39.0</td>\n",
       "<td>0.1685701</td>\n",
       "<td>0.1190063</td>\n",
       "<td>0.0309460</td>\n",
       "<td>nan</td>\n",
       "<td>nan</td>\n",
       "<td>0.4967623</td>\n",
       "<td>1.0829662</td>\n",
       "<td>0.26875</td>\n",
       "<td>nan</td>\n",
       "<td>nan</td></tr>\n",
       "<tr><td></td>\n",
       "<td>2024-10-12 19:15:56</td>\n",
       "<td> 1 min 59.975 sec</td>\n",
       "<td>41.0</td>\n",
       "<td>0.1682844</td>\n",
       "<td>0.1181559</td>\n",
       "<td>0.0308697</td>\n",
       "<td>nan</td>\n",
       "<td>nan</td>\n",
       "<td>0.4962157</td>\n",
       "<td>1.0789379</td>\n",
       "<td>0.268575</td>\n",
       "<td>nan</td>\n",
       "<td>nan</td></tr>\n",
       "<tr><td></td>\n",
       "<td>2024-10-12 19:15:59</td>\n",
       "<td> 2 min  2.953 sec</td>\n",
       "<td>42.0</td>\n",
       "<td>0.1680116</td>\n",
       "<td>0.1176471</td>\n",
       "<td>0.0308232</td>\n",
       "<td>nan</td>\n",
       "<td>nan</td>\n",
       "<td>0.4949974</td>\n",
       "<td>1.0745967</td>\n",
       "<td>0.26695</td>\n",
       "<td>nan</td>\n",
       "<td>nan</td></tr></tbody>\n",
       "  </table>\n",
       "</div>\n",
       "<pre style='font-size: smaller; margin-bottom: 1em;'>[23 rows x 14 columns]</pre></div>\n",
       "<div style='margin: 1em 0 1em 0;'>\n",
       "<style>\n",
       "\n",
       "#h2o-table-28.h2o-container {\n",
       "  overflow-x: auto;\n",
       "}\n",
       "#h2o-table-28 .h2o-table {\n",
       "  /* width: 100%; */\n",
       "  margin-top: 1em;\n",
       "  margin-bottom: 1em;\n",
       "}\n",
       "#h2o-table-28 .h2o-table caption {\n",
       "  white-space: nowrap;\n",
       "  caption-side: top;\n",
       "  text-align: left;\n",
       "  /* margin-left: 1em; */\n",
       "  margin: 0;\n",
       "  font-size: larger;\n",
       "}\n",
       "#h2o-table-28 .h2o-table thead {\n",
       "  white-space: nowrap; \n",
       "  position: sticky;\n",
       "  top: 0;\n",
       "  box-shadow: 0 -1px inset;\n",
       "}\n",
       "#h2o-table-28 .h2o-table tbody {\n",
       "  overflow: auto;\n",
       "}\n",
       "#h2o-table-28 .h2o-table th,\n",
       "#h2o-table-28 .h2o-table td {\n",
       "  text-align: right;\n",
       "  /* border: 1px solid; */\n",
       "}\n",
       "#h2o-table-28 .h2o-table tr:nth-child(even) {\n",
       "  /* background: #F5F5F5 */\n",
       "}\n",
       "\n",
       "</style>      \n",
       "<div id=\"h2o-table-28\" class=\"h2o-container\">\n",
       "  <table class=\"h2o-table\">\n",
       "    <caption>Variable Importances: </caption>\n",
       "    <thead><tr><th>variable</th>\n",
       "<th>relative_importance</th>\n",
       "<th>scaled_importance</th>\n",
       "<th>percentage</th></tr></thead>\n",
       "    <tbody><tr><td>category_id</td>\n",
       "<td>537948.0</td>\n",
       "<td>1.0</td>\n",
       "<td>0.7336933</td></tr>\n",
       "<tr><td>action_6_count</td>\n",
       "<td>65836.4218750</td>\n",
       "<td>0.1223844</td>\n",
       "<td>0.0897926</td></tr>\n",
       "<tr><td>action_7_count</td>\n",
       "<td>46916.2695312</td>\n",
       "<td>0.0872134</td>\n",
       "<td>0.0639879</td></tr>\n",
       "<tr><td>action_3_count</td>\n",
       "<td>17469.6582031</td>\n",
       "<td>0.0324746</td>\n",
       "<td>0.0238264</td></tr>\n",
       "<tr><td>delta_min</td>\n",
       "<td>16454.8906250</td>\n",
       "<td>0.0305883</td>\n",
       "<td>0.0224424</td></tr>\n",
       "<tr><td>action_1_count</td>\n",
       "<td>11743.7089844</td>\n",
       "<td>0.0218306</td>\n",
       "<td>0.0160169</td></tr>\n",
       "<tr><td>action_9_count</td>\n",
       "<td>9727.0781250</td>\n",
       "<td>0.0180818</td>\n",
       "<td>0.0132665</td></tr>\n",
       "<tr><td>delta_sec</td>\n",
       "<td>8700.9570312</td>\n",
       "<td>0.0161743</td>\n",
       "<td>0.0118670</td></tr>\n",
       "<tr><td>action_8_count</td>\n",
       "<td>6658.0922852</td>\n",
       "<td>0.0123768</td>\n",
       "<td>0.0090808</td></tr>\n",
       "<tr><td>loc_user_count</td>\n",
       "<td>5406.5703125</td>\n",
       "<td>0.0100504</td>\n",
       "<td>0.0073739</td></tr>\n",
       "<tr><td>price_diff</td>\n",
       "<td>2295.8959961</td>\n",
       "<td>0.0042679</td>\n",
       "<td>0.0031313</td></tr>\n",
       "<tr><td>action_5_count</td>\n",
       "<td>1515.2864990</td>\n",
       "<td>0.0028168</td>\n",
       "<td>0.0020667</td></tr>\n",
       "<tr><td>action_2_count</td>\n",
       "<td>1154.6026611</td>\n",
       "<td>0.0021463</td>\n",
       "<td>0.0015747</td></tr>\n",
       "<tr><td>action_4_count</td>\n",
       "<td>745.9321899</td>\n",
       "<td>0.0013866</td>\n",
       "<td>0.0010174</td></tr>\n",
       "<tr><td>day_of_week</td>\n",
       "<td>433.5818176</td>\n",
       "<td>0.0008060</td>\n",
       "<td>0.0005914</td></tr>\n",
       "<tr><td>delta_hour</td>\n",
       "<td>87.2729111</td>\n",
       "<td>0.0001622</td>\n",
       "<td>0.0001190</td></tr>\n",
       "<tr><td>action_0_count</td>\n",
       "<td>81.4322357</td>\n",
       "<td>0.0001514</td>\n",
       "<td>0.0001111</td></tr>\n",
       "<tr><td>category_id_count</td>\n",
       "<td>28.0814037</td>\n",
       "<td>0.0000522</td>\n",
       "<td>0.0000383</td></tr>\n",
       "<tr><td>delta_day</td>\n",
       "<td>1.8626769</td>\n",
       "<td>0.0000035</td>\n",
       "<td>0.0000025</td></tr></tbody>\n",
       "  </table>\n",
       "</div>\n",
       "</div><pre style=\"font-size: smaller; margin: 1em 0 0 0;\">\n",
       "\n",
       "[tips]\n",
       "Use `model.explain()` to inspect the model.\n",
       "--\n",
       "Use `h2o.display.toggle_user_tips()` to switch on/off this section.</pre>"
      ]
     },
     "execution_count": 1394,
     "metadata": {},
     "output_type": "execute_result"
    }
   ],
   "execution_count": 1394
  },
  {
   "metadata": {
    "ExecuteTime": {
     "end_time": "2024-10-12T14:35:41.809746Z",
     "start_time": "2024-10-12T14:35:41.808063Z"
    }
   },
   "cell_type": "code",
   "source": "",
   "id": "25b2e7ebc47bafe4",
   "outputs": [],
   "execution_count": null
  },
  {
   "metadata": {},
   "cell_type": "code",
   "source": "gbm_model.model_performance(test_h2o)",
   "id": "df542bafe3b785fb",
   "outputs": [],
   "execution_count": null
  },
  {
   "metadata": {
    "ExecuteTime": {
     "end_time": "2024-10-12T16:16:02.599061Z",
     "start_time": "2024-10-12T16:16:02.592049Z"
    }
   },
   "cell_type": "code",
   "source": "gbm_model.varimp(use_pandas=True)",
   "id": "eabbc1198fbe0869",
   "outputs": [
    {
     "data": {
      "text/plain": [
       "             variable  relative_importance  scaled_importance  percentage\n",
       "0         category_id        537948.000000           1.000000    0.733693\n",
       "1      action_6_count         65836.421875           0.122384    0.089793\n",
       "2      action_7_count         46916.269531           0.087213    0.063988\n",
       "3      action_3_count         17469.658203           0.032475    0.023826\n",
       "4           delta_min         16454.890625           0.030588    0.022442\n",
       "5      action_1_count         11743.708984           0.021831    0.016017\n",
       "6      action_9_count          9727.078125           0.018082    0.013267\n",
       "7           delta_sec          8700.957031           0.016174    0.011867\n",
       "8      action_8_count          6658.092285           0.012377    0.009081\n",
       "9      loc_user_count          5406.570312           0.010050    0.007374\n",
       "10         price_diff          2295.895996           0.004268    0.003131\n",
       "11     action_5_count          1515.286499           0.002817    0.002067\n",
       "12     action_2_count          1154.602661           0.002146    0.001575\n",
       "13     action_4_count           745.932190           0.001387    0.001017\n",
       "14        day_of_week           433.581818           0.000806    0.000591\n",
       "15         delta_hour            87.272911           0.000162    0.000119\n",
       "16     action_0_count            81.432236           0.000151    0.000111\n",
       "17  category_id_count            28.081404           0.000052    0.000038\n",
       "18          delta_day             1.862677           0.000003    0.000003"
      ],
      "text/html": [
       "<div>\n",
       "<style scoped>\n",
       "    .dataframe tbody tr th:only-of-type {\n",
       "        vertical-align: middle;\n",
       "    }\n",
       "\n",
       "    .dataframe tbody tr th {\n",
       "        vertical-align: top;\n",
       "    }\n",
       "\n",
       "    .dataframe thead th {\n",
       "        text-align: right;\n",
       "    }\n",
       "</style>\n",
       "<table border=\"1\" class=\"dataframe\">\n",
       "  <thead>\n",
       "    <tr style=\"text-align: right;\">\n",
       "      <th></th>\n",
       "      <th>variable</th>\n",
       "      <th>relative_importance</th>\n",
       "      <th>scaled_importance</th>\n",
       "      <th>percentage</th>\n",
       "    </tr>\n",
       "  </thead>\n",
       "  <tbody>\n",
       "    <tr>\n",
       "      <th>0</th>\n",
       "      <td>category_id</td>\n",
       "      <td>537948.000000</td>\n",
       "      <td>1.000000</td>\n",
       "      <td>0.733693</td>\n",
       "    </tr>\n",
       "    <tr>\n",
       "      <th>1</th>\n",
       "      <td>action_6_count</td>\n",
       "      <td>65836.421875</td>\n",
       "      <td>0.122384</td>\n",
       "      <td>0.089793</td>\n",
       "    </tr>\n",
       "    <tr>\n",
       "      <th>2</th>\n",
       "      <td>action_7_count</td>\n",
       "      <td>46916.269531</td>\n",
       "      <td>0.087213</td>\n",
       "      <td>0.063988</td>\n",
       "    </tr>\n",
       "    <tr>\n",
       "      <th>3</th>\n",
       "      <td>action_3_count</td>\n",
       "      <td>17469.658203</td>\n",
       "      <td>0.032475</td>\n",
       "      <td>0.023826</td>\n",
       "    </tr>\n",
       "    <tr>\n",
       "      <th>4</th>\n",
       "      <td>delta_min</td>\n",
       "      <td>16454.890625</td>\n",
       "      <td>0.030588</td>\n",
       "      <td>0.022442</td>\n",
       "    </tr>\n",
       "    <tr>\n",
       "      <th>5</th>\n",
       "      <td>action_1_count</td>\n",
       "      <td>11743.708984</td>\n",
       "      <td>0.021831</td>\n",
       "      <td>0.016017</td>\n",
       "    </tr>\n",
       "    <tr>\n",
       "      <th>6</th>\n",
       "      <td>action_9_count</td>\n",
       "      <td>9727.078125</td>\n",
       "      <td>0.018082</td>\n",
       "      <td>0.013267</td>\n",
       "    </tr>\n",
       "    <tr>\n",
       "      <th>7</th>\n",
       "      <td>delta_sec</td>\n",
       "      <td>8700.957031</td>\n",
       "      <td>0.016174</td>\n",
       "      <td>0.011867</td>\n",
       "    </tr>\n",
       "    <tr>\n",
       "      <th>8</th>\n",
       "      <td>action_8_count</td>\n",
       "      <td>6658.092285</td>\n",
       "      <td>0.012377</td>\n",
       "      <td>0.009081</td>\n",
       "    </tr>\n",
       "    <tr>\n",
       "      <th>9</th>\n",
       "      <td>loc_user_count</td>\n",
       "      <td>5406.570312</td>\n",
       "      <td>0.010050</td>\n",
       "      <td>0.007374</td>\n",
       "    </tr>\n",
       "    <tr>\n",
       "      <th>10</th>\n",
       "      <td>price_diff</td>\n",
       "      <td>2295.895996</td>\n",
       "      <td>0.004268</td>\n",
       "      <td>0.003131</td>\n",
       "    </tr>\n",
       "    <tr>\n",
       "      <th>11</th>\n",
       "      <td>action_5_count</td>\n",
       "      <td>1515.286499</td>\n",
       "      <td>0.002817</td>\n",
       "      <td>0.002067</td>\n",
       "    </tr>\n",
       "    <tr>\n",
       "      <th>12</th>\n",
       "      <td>action_2_count</td>\n",
       "      <td>1154.602661</td>\n",
       "      <td>0.002146</td>\n",
       "      <td>0.001575</td>\n",
       "    </tr>\n",
       "    <tr>\n",
       "      <th>13</th>\n",
       "      <td>action_4_count</td>\n",
       "      <td>745.932190</td>\n",
       "      <td>0.001387</td>\n",
       "      <td>0.001017</td>\n",
       "    </tr>\n",
       "    <tr>\n",
       "      <th>14</th>\n",
       "      <td>day_of_week</td>\n",
       "      <td>433.581818</td>\n",
       "      <td>0.000806</td>\n",
       "      <td>0.000591</td>\n",
       "    </tr>\n",
       "    <tr>\n",
       "      <th>15</th>\n",
       "      <td>delta_hour</td>\n",
       "      <td>87.272911</td>\n",
       "      <td>0.000162</td>\n",
       "      <td>0.000119</td>\n",
       "    </tr>\n",
       "    <tr>\n",
       "      <th>16</th>\n",
       "      <td>action_0_count</td>\n",
       "      <td>81.432236</td>\n",
       "      <td>0.000151</td>\n",
       "      <td>0.000111</td>\n",
       "    </tr>\n",
       "    <tr>\n",
       "      <th>17</th>\n",
       "      <td>category_id_count</td>\n",
       "      <td>28.081404</td>\n",
       "      <td>0.000052</td>\n",
       "      <td>0.000038</td>\n",
       "    </tr>\n",
       "    <tr>\n",
       "      <th>18</th>\n",
       "      <td>delta_day</td>\n",
       "      <td>1.862677</td>\n",
       "      <td>0.000003</td>\n",
       "      <td>0.000003</td>\n",
       "    </tr>\n",
       "  </tbody>\n",
       "</table>\n",
       "</div>"
      ]
     },
     "execution_count": 1395,
     "metadata": {},
     "output_type": "execute_result"
    }
   ],
   "execution_count": 1395
  },
  {
   "metadata": {},
   "cell_type": "markdown",
   "source": "#### Расчитываем recall для локальных тестов",
   "id": "3bdeed0fc9e5677a"
  },
  {
   "metadata": {},
   "cell_type": "markdown",
   "source": "",
   "id": "f352074171c4f945"
  },
  {
   "metadata": {},
   "cell_type": "markdown",
   "source": "#### Тестовые данные - три дня и ключевое событие - 9 (заказ)",
   "id": "ff1086bd6fdb731a"
  },
  {
   "metadata": {
    "ExecuteTime": {
     "end_time": "2024-10-12T16:16:50.785406Z",
     "start_time": "2024-10-12T16:16:49.548400Z"
    }
   },
   "cell_type": "code",
   "source": [
    "last_3_days = inters['datetime'].max() - pd.Timedelta(3, unit='D')\n",
    "last_13_days = inters['datetime'].max() - pd.Timedelta(0, unit='D')\n",
    "test_purchasers = inters.sort_values(by=['datetime', 'weight'], ascending=True)\n",
    "test_purchasers = test_purchasers[\n",
    "    (test_purchasers['weight'] == 9) \n",
    "    & (test_purchasers['datetime'] > last_3_days)\n",
    "    & (test_purchasers['datetime'] < last_13_days)\n",
    "]\n",
    "print(test_purchasers['datetime'].max(), test_purchasers['datetime'].min(),)\n",
    "test_purchasers = test_purchasers.groupby(['user_id'])['item_id'].apply(processing)\n",
    "test_purchasers = test_purchasers.reset_index()\n",
    "test_purchasers.shape"
   ],
   "id": "3be5212427a6c914",
   "outputs": [
    {
     "name": "stdout",
     "output_type": "stream",
     "text": [
      "2024-09-28 23:46:12 2024-09-26 00:38:57\n"
     ]
    },
    {
     "data": {
      "text/plain": [
       "(496, 2)"
      ]
     },
     "execution_count": 1397,
     "metadata": {},
     "output_type": "execute_result"
    }
   ],
   "execution_count": 1397
  },
  {
   "metadata": {
    "ExecuteTime": {
     "end_time": "2024-10-12T16:16:54.123003Z",
     "start_time": "2024-10-12T16:16:54.110131Z"
    }
   },
   "cell_type": "code",
   "source": "inters['datetime'].max() - pd.Timedelta(7, unit='D')",
   "id": "54d85fb69df5898d",
   "outputs": [
    {
     "data": {
      "text/plain": [
       "Timestamp('2024-09-21 23:59:59')"
      ]
     },
     "execution_count": 1398,
     "metadata": {},
     "output_type": "execute_result"
    }
   ],
   "execution_count": 1398
  },
  {
   "metadata": {
    "ExecuteTime": {
     "end_time": "2024-10-12T16:16:57.122916Z",
     "start_time": "2024-10-12T16:16:57.119915Z"
    }
   },
   "cell_type": "code",
   "source": "inters.columns",
   "id": "82cf773492794075",
   "outputs": [
    {
     "data": {
      "text/plain": [
       "Index(['user_id', 'weight', 'item_id', 'pageId', 'datetime', 'category_id',\n",
       "       'day_of_week', 'price_diff', 'loc_user_count', 'category_id_count',\n",
       "       'action_0_count', 'action_1_count', 'action_2_count', 'action_3_count',\n",
       "       'action_4_count', 'action_5_count', 'action_6_count', 'action_7_count',\n",
       "       'action_8_count', 'action_9_count', 'delta_sec', 'delta_day',\n",
       "       'delta_hour', 'delta_min'],\n",
       "      dtype='object')"
      ]
     },
     "execution_count": 1399,
     "metadata": {},
     "output_type": "execute_result"
    }
   ],
   "execution_count": 1399
  },
  {
   "metadata": {},
   "cell_type": "markdown",
   "source": [
    "#### Предсказания фильтрацией\n",
    "\n",
    "    "
   ],
   "id": "62c487e4b075845b"
  },
  {
   "metadata": {
    "ExecuteTime": {
     "end_time": "2024-10-12T16:17:00.178442Z",
     "start_time": "2024-10-12T16:17:00.175885Z"
    }
   },
   "cell_type": "code",
   "source": [
    "def processing2(purchasers):\n",
    "    purchasers = purchasers.map(lambda x: [f'{y}' for y in x] if isinstance(x, list) else [f'{x}'])\n",
    "    purchasers = list([item for sublist in purchasers for item in sublist if item != '-1'])\n",
    "    return list(set(purchasers))[:25]"
   ],
   "id": "7bcd3fcdd2f40186",
   "outputs": [],
   "execution_count": 1400
  },
  {
   "metadata": {
    "ExecuteTime": {
     "end_time": "2024-10-12T16:17:03.220118Z",
     "start_time": "2024-10-12T16:17:03.217529Z"
    }
   },
   "cell_type": "code",
   "source": "",
   "id": "f82ed7285f3d00b4",
   "outputs": [],
   "execution_count": null
  },
  {
   "metadata": {
    "ExecuteTime": {
     "end_time": "2024-10-12T16:17:06.172046Z",
     "start_time": "2024-10-12T16:17:06.170402Z"
    }
   },
   "cell_type": "code",
   "source": "",
   "id": "15ea6d9074634dad",
   "outputs": [],
   "execution_count": null
  },
  {
   "metadata": {
    "ExecuteTime": {
     "end_time": "2024-10-12T16:17:07.420076Z",
     "start_time": "2024-10-12T16:17:06.204179Z"
    }
   },
   "cell_type": "code",
   "source": [
    "last_3_days = inters['datetime'].max() - pd.Timedelta(0, unit='D')\n",
    "last_8_days = inters['datetime'].max() - pd.Timedelta(5*24, unit='hours')\n",
    "pred_purchasers = inters.sort_values(by=['datetime', 'weight'], ascending=True)\n",
    "pred_purchasers = pred_purchasers[\n",
    "    (pred_purchasers['weight'].isin([8, 1]))\n",
    "    & (pred_purchasers['datetime'] > last_8_days)\n",
    "    & (pred_purchasers['datetime'] < last_3_days)\n",
    "    & (\n",
    "            (pred_purchasers.action_7_count > 50) \n",
    "            | (pred_purchasers.action_8_count > 20) \n",
    "            | (pred_purchasers.action_9_count > 0) \n",
    "            # & (pred_purchasers.action_6_count > 0) \n",
    "            # & (pred_purchasers.action_3_count > 0)\n",
    "    )\n",
    "]\n",
    "pred_purchasers = pred_purchasers.groupby(['user_id'])['item_id'].apply(processing2)\n",
    "pred_purchasers = pred_purchasers.reset_index()\n",
    "pred_purchasers.shape"
   ],
   "id": "5dda51efea46a6bc",
   "outputs": [
    {
     "data": {
      "text/plain": [
       "(3016, 2)"
      ]
     },
     "execution_count": 1401,
     "metadata": {},
     "output_type": "execute_result"
    }
   ],
   "execution_count": 1401
  },
  {
   "metadata": {},
   "cell_type": "markdown",
   "source": "#### Проверяем сколько пользователей из теста удалось \"зацепить\" фильтрацией",
   "id": "33e59bd06e570d54"
  },
  {
   "metadata": {
    "ExecuteTime": {
     "end_time": "2024-10-12T16:17:13.451059Z",
     "start_time": "2024-10-12T16:17:13.447499Z"
    }
   },
   "cell_type": "code",
   "source": "pred_purchasers[pred_purchasers.user_id.isin(test_purchasers.user_id.unique())].shape",
   "id": "29e94d0446632ec2",
   "outputs": [
    {
     "data": {
      "text/plain": [
       "(496, 2)"
      ]
     },
     "execution_count": 1402,
     "metadata": {},
     "output_type": "execute_result"
    }
   ],
   "execution_count": 1402
  },
  {
   "metadata": {
    "ExecuteTime": {
     "end_time": "2024-10-12T16:17:13.583499Z",
     "start_time": "2024-10-12T16:17:13.577272Z"
    }
   },
   "cell_type": "code",
   "source": [
    "check_merge = test_purchasers.merge(pred_purchasers[-3000:], on='user_id', how='left')\n",
    "check_merge.item_id_y.loc[check_merge.item_id_y.isnull()] = check_merge.item_id_y.loc[check_merge.item_id_y.isnull()].apply(lambda x: [])\n",
    "check_merge.shape"
   ],
   "id": "a33904fee2d14bfb",
   "outputs": [
    {
     "data": {
      "text/plain": [
       "(496, 3)"
      ]
     },
     "execution_count": 1403,
     "metadata": {},
     "output_type": "execute_result"
    }
   ],
   "execution_count": 1403
  },
  {
   "metadata": {
    "ExecuteTime": {
     "end_time": "2024-10-12T16:17:21.223728Z",
     "start_time": "2024-10-12T16:17:21.216328Z"
    }
   },
   "cell_type": "code",
   "source": "check_merge.sample(100)",
   "id": "b7da4fd1f665a549",
   "outputs": [
    {
     "data": {
      "text/plain": [
       "                                  user_id  \\\n",
       "367  b77a0f86-f887-11ed-86e0-002590c0647c   \n",
       "485  f7a5ce6e-8275-11ea-8a53-0cc47a6d2fef   \n",
       "469  ed556bf8-e594-11eb-86e0-002590c0647c   \n",
       "209  619d2efc-160b-11ef-86e0-002590c0647c   \n",
       "94   2791b7fe-d4da-11ee-9e62-002590c82436   \n",
       "..                                    ...   \n",
       "49   13c1039e-7b18-11ef-86e0-002590c0647c   \n",
       "107  2fa36e2a-3687-11ee-86e0-002590c0647c   \n",
       "492  fd347a70-6e74-11ef-9b7b-002590c82436   \n",
       "490  fc19fa7c-7d46-11ee-86e0-002590c0647c   \n",
       "424  d4bffa58-5974-11ee-86e0-002590c0647c   \n",
       "\n",
       "                                             item_id_x  \\\n",
       "367                                          [4004316]   \n",
       "485               [4064079, 5173426, 5094481, 5379376]   \n",
       "469                [5450296, 5450620, 5450650, 440399]   \n",
       "209                                          [2786098]   \n",
       "94                                  [1026199, 6164842]   \n",
       "..                                                 ...   \n",
       "49                                           [6457720]   \n",
       "107               [6548842, 5444338, 1864951, 6548866]   \n",
       "492                                          [5182849]   \n",
       "490                                 [2694817, 5135620]   \n",
       "424  [5018554, 5070949, 5154952, 6108280, 6342658, ...   \n",
       "\n",
       "                                             item_id_y  \n",
       "367                                          [4004316]  \n",
       "485  [4064079, 3864580, 5094481, 5114500, 5173483, ...  \n",
       "469  [5450650, 5450296, 4973041, 5064721, 5450620, ...  \n",
       "209                                 [2786098, 5419213]  \n",
       "94   [1026199, 964291, 1854862, 6601346, 5869471, 3...  \n",
       "..                                                 ...  \n",
       "49                                  [6457720, 5011840]  \n",
       "107  [5182840, 5444338, 6548866, 6548842, 6534124, ...  \n",
       "492                                          [5182849]  \n",
       "490  [7059189, 2694817, 5135620, 6926664, 7040796, ...  \n",
       "424  [5018554, 573298, 5070949, 5154952, 6108280, 6...  \n",
       "\n",
       "[100 rows x 3 columns]"
      ],
      "text/html": [
       "<div>\n",
       "<style scoped>\n",
       "    .dataframe tbody tr th:only-of-type {\n",
       "        vertical-align: middle;\n",
       "    }\n",
       "\n",
       "    .dataframe tbody tr th {\n",
       "        vertical-align: top;\n",
       "    }\n",
       "\n",
       "    .dataframe thead th {\n",
       "        text-align: right;\n",
       "    }\n",
       "</style>\n",
       "<table border=\"1\" class=\"dataframe\">\n",
       "  <thead>\n",
       "    <tr style=\"text-align: right;\">\n",
       "      <th></th>\n",
       "      <th>user_id</th>\n",
       "      <th>item_id_x</th>\n",
       "      <th>item_id_y</th>\n",
       "    </tr>\n",
       "  </thead>\n",
       "  <tbody>\n",
       "    <tr>\n",
       "      <th>367</th>\n",
       "      <td>b77a0f86-f887-11ed-86e0-002590c0647c</td>\n",
       "      <td>[4004316]</td>\n",
       "      <td>[4004316]</td>\n",
       "    </tr>\n",
       "    <tr>\n",
       "      <th>485</th>\n",
       "      <td>f7a5ce6e-8275-11ea-8a53-0cc47a6d2fef</td>\n",
       "      <td>[4064079, 5173426, 5094481, 5379376]</td>\n",
       "      <td>[4064079, 3864580, 5094481, 5114500, 5173483, ...</td>\n",
       "    </tr>\n",
       "    <tr>\n",
       "      <th>469</th>\n",
       "      <td>ed556bf8-e594-11eb-86e0-002590c0647c</td>\n",
       "      <td>[5450296, 5450620, 5450650, 440399]</td>\n",
       "      <td>[5450650, 5450296, 4973041, 5064721, 5450620, ...</td>\n",
       "    </tr>\n",
       "    <tr>\n",
       "      <th>209</th>\n",
       "      <td>619d2efc-160b-11ef-86e0-002590c0647c</td>\n",
       "      <td>[2786098]</td>\n",
       "      <td>[2786098, 5419213]</td>\n",
       "    </tr>\n",
       "    <tr>\n",
       "      <th>94</th>\n",
       "      <td>2791b7fe-d4da-11ee-9e62-002590c82436</td>\n",
       "      <td>[1026199, 6164842]</td>\n",
       "      <td>[1026199, 964291, 1854862, 6601346, 5869471, 3...</td>\n",
       "    </tr>\n",
       "    <tr>\n",
       "      <th>...</th>\n",
       "      <td>...</td>\n",
       "      <td>...</td>\n",
       "      <td>...</td>\n",
       "    </tr>\n",
       "    <tr>\n",
       "      <th>49</th>\n",
       "      <td>13c1039e-7b18-11ef-86e0-002590c0647c</td>\n",
       "      <td>[6457720]</td>\n",
       "      <td>[6457720, 5011840]</td>\n",
       "    </tr>\n",
       "    <tr>\n",
       "      <th>107</th>\n",
       "      <td>2fa36e2a-3687-11ee-86e0-002590c0647c</td>\n",
       "      <td>[6548842, 5444338, 1864951, 6548866]</td>\n",
       "      <td>[5182840, 5444338, 6548866, 6548842, 6534124, ...</td>\n",
       "    </tr>\n",
       "    <tr>\n",
       "      <th>492</th>\n",
       "      <td>fd347a70-6e74-11ef-9b7b-002590c82436</td>\n",
       "      <td>[5182849]</td>\n",
       "      <td>[5182849]</td>\n",
       "    </tr>\n",
       "    <tr>\n",
       "      <th>490</th>\n",
       "      <td>fc19fa7c-7d46-11ee-86e0-002590c0647c</td>\n",
       "      <td>[2694817, 5135620]</td>\n",
       "      <td>[7059189, 2694817, 5135620, 6926664, 7040796, ...</td>\n",
       "    </tr>\n",
       "    <tr>\n",
       "      <th>424</th>\n",
       "      <td>d4bffa58-5974-11ee-86e0-002590c0647c</td>\n",
       "      <td>[5018554, 5070949, 5154952, 6108280, 6342658, ...</td>\n",
       "      <td>[5018554, 573298, 5070949, 5154952, 6108280, 6...</td>\n",
       "    </tr>\n",
       "  </tbody>\n",
       "</table>\n",
       "<p>100 rows × 3 columns</p>\n",
       "</div>"
      ]
     },
     "execution_count": 1404,
     "metadata": {},
     "output_type": "execute_result"
    }
   ],
   "execution_count": 1404
  },
  {
   "metadata": {
    "ExecuteTime": {
     "end_time": "2024-10-12T16:17:24.595993Z",
     "start_time": "2024-10-12T16:17:24.594150Z"
    }
   },
   "cell_type": "code",
   "source": "#### Проверяем полноту фильтрации",
   "id": "de086f09a15b86de",
   "outputs": [],
   "execution_count": 1405
  },
  {
   "metadata": {
    "ExecuteTime": {
     "end_time": "2024-10-12T16:17:24.629521Z",
     "start_time": "2024-10-12T16:17:24.622846Z"
    }
   },
   "cell_type": "code",
   "source": [
    "check_merge['recall'] = check_merge.apply(calculate_recall, axis=1)\n",
    "check_merge['recall'].mean().round(4)"
   ],
   "id": "e8b2727593788803",
   "outputs": [
    {
     "data": {
      "text/plain": [
       "0.4964"
      ]
     },
     "execution_count": 1406,
     "metadata": {},
     "output_type": "execute_result"
    }
   ],
   "execution_count": 1406
  },
  {
   "metadata": {
    "ExecuteTime": {
     "end_time": "2024-10-12T16:17:30.312411Z",
     "start_time": "2024-10-12T16:17:30.310357Z"
    }
   },
   "cell_type": "code",
   "source": "",
   "id": "e708eef45177dc97",
   "outputs": [],
   "execution_count": null
  },
  {
   "metadata": {
    "ExecuteTime": {
     "end_time": "2024-10-12T16:17:30.332450Z",
     "start_time": "2024-10-12T16:17:30.329972Z"
    }
   },
   "cell_type": "code",
   "source": "",
   "id": "8d71105583e8b08a",
   "outputs": [],
   "execution_count": null
  },
  {
   "metadata": {},
   "cell_type": "markdown",
   "source": "#### Используем классификатор чтобы предсказать пользователей с целевыми действиями",
   "id": "18cdcc9d7364760"
  },
  {
   "metadata": {
    "ExecuteTime": {
     "end_time": "2024-10-12T16:17:33.297877Z",
     "start_time": "2024-10-12T16:17:33.277709Z"
    }
   },
   "cell_type": "code",
   "source": "inters['datetime'].min(), inters['datetime'].max()",
   "id": "9ad035ca9ea4811a",
   "outputs": [
    {
     "data": {
      "text/plain": [
       "(Timestamp('2024-09-07 00:00:04'), Timestamp('2024-09-28 23:59:59'))"
      ]
     },
     "execution_count": 1407,
     "metadata": {},
     "output_type": "execute_result"
    }
   ],
   "execution_count": 1407
  },
  {
   "metadata": {
    "ExecuteTime": {
     "end_time": "2024-10-12T16:17:36.758568Z",
     "start_time": "2024-10-12T16:17:36.189674Z"
    }
   },
   "cell_type": "code",
   "source": [
    "last_3_days = inters['datetime'].max() - pd.Timedelta(0, unit='D')\n",
    "last_8_days = inters['datetime'].max() - pd.Timedelta(27, unit='D')\n",
    "pred_data = inters[(inters['datetime'] > last_8_days) & (inters['datetime'] < last_3_days)]"
   ],
   "id": "2a096716de8d5078",
   "outputs": [],
   "execution_count": 1408
  },
  {
   "metadata": {
    "ExecuteTime": {
     "end_time": "2024-10-12T16:18:10.369260Z",
     "start_time": "2024-10-12T16:17:39.874569Z"
    }
   },
   "cell_type": "code",
   "source": "t = h2o.H2OFrame(pred_data[list(x)])",
   "id": "80716113f5edb9d6",
   "outputs": [],
   "execution_count": 1409
  },
  {
   "metadata": {
    "ExecuteTime": {
     "end_time": "2024-10-12T16:18:12.929490Z",
     "start_time": "2024-10-12T16:18:12.927177Z"
    }
   },
   "cell_type": "code",
   "source": "t['category_id'] = t['category_id'].asfactor()",
   "id": "7008c5c0f7e486cd",
   "outputs": [],
   "execution_count": 1410
  },
  {
   "metadata": {
    "ExecuteTime": {
     "end_time": "2024-10-12T16:19:08.594280Z",
     "start_time": "2024-10-12T16:18:15.488817Z"
    }
   },
   "cell_type": "code",
   "source": "preds = gbm_model.predict(t)",
   "id": "509ee3ee83313321",
   "outputs": [],
   "execution_count": 1411
  },
  {
   "metadata": {},
   "cell_type": "markdown",
   "source": "#### Обьединяем предсказания с исходными данными, чтобы фильтровать дальше",
   "id": "dc571a3718d20cae"
  },
  {
   "metadata": {
    "ExecuteTime": {
     "end_time": "2024-10-12T16:19:33.777564Z",
     "start_time": "2024-10-12T16:19:11.178395Z"
    }
   },
   "cell_type": "code",
   "source": [
    "res = pd.concat(\n",
    "    [\n",
    "        pred_data[list(x) + ['weight', 'user_id', 'item_id', 'datetime']].reset_index(drop=True),\n",
    "        preds.as_data_frame().reset_index(drop=True)\n",
    "    ],\n",
    "    axis='columns',\n",
    ")"
   ],
   "id": "4c607291f16cf37f",
   "outputs": [],
   "execution_count": 1412
  },
  {
   "metadata": {
    "ExecuteTime": {
     "end_time": "2024-10-12T16:19:37.036770Z",
     "start_time": "2024-10-12T16:19:36.490722Z"
    }
   },
   "cell_type": "code",
   "source": [
    "# Максимальный скор с которым предсказали целевое действие\n",
    "res['score'] = res[res.columns[-10:]].max(axis=1)"
   ],
   "id": "7c40113dbfd5ee58",
   "outputs": [],
   "execution_count": 1413
  },
  {
   "metadata": {
    "ExecuteTime": {
     "end_time": "2024-10-12T16:19:40.116171Z",
     "start_time": "2024-10-12T16:19:40.113830Z"
    }
   },
   "cell_type": "code",
   "source": [
    "# Смотрим корреляцию по данным чтобы понять по чему фильтровать\n",
    "# res[list(set(res.columns) - set(['user_id']))].sample(1000).corr()"
   ],
   "id": "9afc6abd0a9bd5a3",
   "outputs": [],
   "execution_count": 1414
  },
  {
   "metadata": {
    "ExecuteTime": {
     "end_time": "2024-10-12T16:19:43.387346Z",
     "start_time": "2024-10-12T16:19:43.358051Z"
    }
   },
   "cell_type": "code",
   "source": [
    "mask = (\n",
    "    (res.predict.isin([9]) & (res.score > 0))\n",
    "    # |\n",
    "    # (res.predict.isin([8]) & (res.score > 0.75))\n",
    ")"
   ],
   "id": "f2b8d3dcd807d5d0",
   "outputs": [],
   "execution_count": 1415
  },
  {
   "metadata": {
    "ExecuteTime": {
     "end_time": "2024-10-12T16:19:46.454884Z",
     "start_time": "2024-10-12T16:19:46.418690Z"
    }
   },
   "cell_type": "code",
   "source": [
    "# Оцениваем размер таблицы после фильрации\n",
    "res[\n",
    "    mask\n",
    "].groupby('user_id')['item_id'].agg(lambda x: list(map(str, x))[:25]).reset_index().shape"
   ],
   "id": "d54d045a464a8a4c",
   "outputs": [
    {
     "data": {
      "text/plain": [
       "(1654, 2)"
      ]
     },
     "execution_count": 1416,
     "metadata": {},
     "output_type": "execute_result"
    }
   ],
   "execution_count": 1416
  },
  {
   "metadata": {
    "ExecuteTime": {
     "end_time": "2024-10-12T16:19:49.787402Z",
     "start_time": "2024-10-12T16:19:49.610260Z"
    }
   },
   "cell_type": "code",
   "source": [
    "# Оцениваем количество пользователей, которое удалось \"зацепить\" фильтрацией из теста\n",
    "res[\n",
    "    mask\n",
    "    & (res.user_id.isin(test_purchasers.user_id.unique()))\n",
    "].groupby('user_id')['item_id'].agg(lambda x: list(set(map(str, x)))[:25]).reset_index().shape"
   ],
   "id": "936c3aae07a92e79",
   "outputs": [
    {
     "data": {
      "text/plain": [
       "(236, 2)"
      ]
     },
     "execution_count": 1417,
     "metadata": {},
     "output_type": "execute_result"
    }
   ],
   "execution_count": 1417
  },
  {
   "metadata": {
    "ExecuteTime": {
     "end_time": "2024-10-12T16:19:52.990270Z",
     "start_time": "2024-10-12T16:19:52.815085Z"
    }
   },
   "cell_type": "code",
   "source": [
    "ml_users = res[\n",
    "    mask\n",
    "    & (res.user_id.isin(test_purchasers.user_id.unique()))\n",
    "].groupby('user_id')['item_id'].agg(lambda x: list(set(map(str, x)))[:25]).reset_index().user_id.to_list()"
   ],
   "id": "cac4660dfa1e65d5",
   "outputs": [],
   "execution_count": 1418
  },
  {
   "metadata": {
    "ExecuteTime": {
     "end_time": "2024-10-12T16:19:55.957291Z",
     "start_time": "2024-10-12T16:19:55.953912Z"
    }
   },
   "cell_type": "code",
   "source": [
    "print(len(pred_purchasers.user_id.unique()))\n",
    "print(len(ml_users))\n",
    "print(len(set(ml_users).intersection(set(pred_purchasers.user_id.unique()))))"
   ],
   "id": "77a775ce8ff3632c",
   "outputs": [
    {
     "name": "stdout",
     "output_type": "stream",
     "text": [
      "3016\n",
      "236\n",
      "236\n"
     ]
    }
   ],
   "execution_count": 1419
  },
  {
   "metadata": {
    "ExecuteTime": {
     "end_time": "2024-10-12T16:09:35.314600Z",
     "start_time": "2024-10-12T16:09:35.313151Z"
    }
   },
   "cell_type": "code",
   "source": "",
   "id": "97668af004d32ac1",
   "outputs": [],
   "execution_count": null
  },
  {
   "metadata": {
    "ExecuteTime": {
     "end_time": "2024-10-12T16:20:07.065385Z",
     "start_time": "2024-10-12T16:20:07.031097Z"
    }
   },
   "cell_type": "code",
   "source": [
    "# Генерим таблицу с кандидатами по результатам мл - предсказания\n",
    "ml_pred = res[\n",
    "    mask\n",
    "].sort_values(by=['weight'], ascending=False).groupby('user_id')['item_id'].agg(\n",
    "    lambda x: [y for y in (set(map(str, x))) if y != '-1'][:25]\n",
    ").reset_index()\n",
    "ml_pred.shape"
   ],
   "id": "4fecc641289068c",
   "outputs": [
    {
     "data": {
      "text/plain": [
       "(1654, 2)"
      ]
     },
     "execution_count": 1420,
     "metadata": {},
     "output_type": "execute_result"
    }
   ],
   "execution_count": 1420
  },
  {
   "metadata": {
    "ExecuteTime": {
     "end_time": "2024-10-12T16:20:10.933990Z",
     "start_time": "2024-10-12T16:20:10.930800Z"
    }
   },
   "cell_type": "code",
   "source": [
    "# Напоминание о размере таблицы с кандидатами после обычной фильтрации - оставшееся от 3000 строк место мы заполнили результатами мл\n",
    "pred_purchasers.shape"
   ],
   "id": "e0591e5a8ff67720",
   "outputs": [
    {
     "data": {
      "text/plain": [
       "(3016, 2)"
      ]
     },
     "execution_count": 1421,
     "metadata": {},
     "output_type": "execute_result"
    }
   ],
   "execution_count": 1421
  },
  {
   "metadata": {
    "ExecuteTime": {
     "end_time": "2024-10-12T16:20:11.066631Z",
     "start_time": "2024-10-12T16:20:11.060805Z"
    }
   },
   "cell_type": "code",
   "source": [
    "data_to_check = pd.concat(\n",
    "    [\n",
    "        ml_pred.reset_index(drop=True),\n",
    "        pred_purchasers.reset_index(drop=True),\n",
    "    ],\n",
    "    axis='rows'\n",
    ")\n",
    "print(data_to_check.shape)\n",
    "data_to_check = data_to_check.drop_duplicates(subset='user_id', keep='last') # .reset_index(drop=True)\n",
    "print(data_to_check[data_to_check.user_id.isin(test_purchasers.user_id.unique())].shape)\n",
    "data_to_check.shape"
   ],
   "id": "bf424e0840c3fdca",
   "outputs": [
    {
     "name": "stdout",
     "output_type": "stream",
     "text": [
      "(4670, 2)\n",
      "(496, 2)\n"
     ]
    },
    {
     "data": {
      "text/plain": [
       "(3777, 2)"
      ]
     },
     "execution_count": 1422,
     "metadata": {},
     "output_type": "execute_result"
    }
   ],
   "execution_count": 1422
  },
  {
   "metadata": {
    "ExecuteTime": {
     "end_time": "2024-10-12T16:20:17.588709Z",
     "start_time": "2024-10-12T16:20:17.586131Z"
    }
   },
   "cell_type": "code",
   "source": [
    "# Ограничим резульат 3000 строк (как по условию). Так как данные обычной фильтрации эффективнее и они в конце обьединенных данных - ограничим с конца\n",
    "data_to_check[-3000:].shape"
   ],
   "id": "7e97f625035edf8a",
   "outputs": [
    {
     "data": {
      "text/plain": [
       "(3000, 2)"
      ]
     },
     "execution_count": 1423,
     "metadata": {},
     "output_type": "execute_result"
    }
   ],
   "execution_count": 1423
  },
  {
   "metadata": {},
   "cell_type": "markdown",
   "source": "#### Проверяем результат локально на данных фильтрация + мл",
   "id": "cf4f7af1874236d7"
  },
  {
   "metadata": {
    "ExecuteTime": {
     "end_time": "2024-10-12T16:20:17.759874Z",
     "start_time": "2024-10-12T16:20:17.748967Z"
    }
   },
   "cell_type": "code",
   "source": [
    "# check_merge_ml = test_purchasers.merge(data_to_check.sample(3000, random_state=42), on='user_id', how='left')\n",
    "check_merge_ml = test_purchasers.merge(data_to_check[-3000:], on='user_id', how='left')\n",
    "check_merge_ml.item_id_y.loc[check_merge_ml.item_id_y.isnull()] = check_merge_ml.item_id_y.loc[check_merge_ml.item_id_y.isnull()].apply(lambda x: [])\n",
    "print(check_merge_ml.shape)\n",
    "check_merge_ml['recall'] = check_merge_ml.apply(calculate_recall, axis=1)\n",
    "check_merge_ml['recall'].mean().round(4)"
   ],
   "id": "38a2437811180840",
   "outputs": [
    {
     "name": "stdout",
     "output_type": "stream",
     "text": [
      "(496, 3)\n"
     ]
    },
    {
     "data": {
      "text/plain": [
       "0.4964"
      ]
     },
     "execution_count": 1424,
     "metadata": {},
     "output_type": "execute_result"
    }
   ],
   "execution_count": 1424
  },
  {
   "metadata": {
    "ExecuteTime": {
     "end_time": "2024-10-12T16:00:38.561682Z",
     "start_time": "2024-10-12T16:00:38.560119Z"
    }
   },
   "cell_type": "code",
   "source": "",
   "id": "5fc85e854d30f27c",
   "outputs": [],
   "execution_count": null
  },
  {
   "metadata": {},
   "cell_type": "markdown",
   "source": [
    "### Построение рекомендаций \n",
    "дополним данные после фильрации товарами на основе \"оценок\" пользователей (ценность действия интерпретируем как оценку)"
   ],
   "id": "b7ed9351358d87e3"
  },
  {
   "metadata": {},
   "cell_type": "markdown",
   "source": "#### Построение модели",
   "id": "756b9be360307a10"
  },
  {
   "metadata": {
    "ExecuteTime": {
     "end_time": "2024-10-12T16:20:48.779908Z",
     "start_time": "2024-10-12T16:20:48.777741Z"
    }
   },
   "cell_type": "code",
   "source": [
    "K_RECOS = 25\n",
    "NUM_THREADS = 24\n",
    "RANDOM_STATE = 32\n",
    "ITERATIONS = 25"
   ],
   "id": "2a979d8d60da505d",
   "outputs": [],
   "execution_count": 1425
  },
  {
   "metadata": {
    "ExecuteTime": {
     "end_time": "2024-10-12T16:20:52.191959Z",
     "start_time": "2024-10-12T16:20:52.188158Z"
    }
   },
   "cell_type": "code",
   "source": [
    "def make_base_model(factors: int, regularization: float, alpha: float, fit_features_together: bool=False):\n",
    "    return ImplicitALSWrapperModel(\n",
    "        AlternatingLeastSquares(\n",
    "            factors=factors,\n",
    "            regularization=regularization,\n",
    "            alpha=alpha,\n",
    "            random_state=RANDOM_STATE,\n",
    "            use_gpu=False,\n",
    "            num_threads = NUM_THREADS,\n",
    "            iterations=ITERATIONS),\n",
    "        fit_features_together = fit_features_together,\n",
    "        )"
   ],
   "id": "c76217e904af56de",
   "outputs": [],
   "execution_count": 1426
  },
  {
   "metadata": {
    "ExecuteTime": {
     "end_time": "2024-10-12T08:23:00.730210Z",
     "start_time": "2024-10-12T08:23:00.728559Z"
    }
   },
   "cell_type": "code",
   "source": "",
   "id": "b431ae38edd475c5",
   "outputs": [],
   "execution_count": null
  },
  {
   "metadata": {
    "ExecuteTime": {
     "end_time": "2024-10-12T16:20:55.886980Z",
     "start_time": "2024-10-12T16:20:55.429411Z"
    }
   },
   "cell_type": "code",
   "source": [
    "last_3_days = inters['datetime'].max() - pd.Timedelta(0, unit='D')\n",
    "last_8_days = inters['datetime'].max() - pd.Timedelta(27, unit='D')\n",
    "recos_data = inters[\n",
    "    (inters['datetime'] > last_8_days)\n",
    "    & (inters['datetime'] < last_3_days) \n",
    "    # & ((inters['weight'] > 3))   # дейсвтия ниже 5 не привязаны к товару, чтобы не рекомендовать -1 и сэкономить на размере входных данных - фильтруем\n",
    "]"
   ],
   "id": "24ff12b544a9ff36",
   "outputs": [],
   "execution_count": 1427
  },
  {
   "metadata": {
    "ExecuteTime": {
     "end_time": "2024-10-12T16:21:03.845057Z",
     "start_time": "2024-10-12T16:21:03.842858Z"
    }
   },
   "cell_type": "code",
   "source": [
    "# # Process item features to the form of a flatten dataframe\n",
    "# items = items.loc[items['item_id'].isin(train['item_id'])].copy()\n",
    "# \n",
    "# genre_feature = items[[\"item_id\", \"category_id\"]].explode(\"category_id\")\n",
    "# genre_feature.columns = [\"id\", \"value\"]\n",
    "# genre_feature[\"feature\"] = \"category_id\"\n",
    "# item_features = pd.concat((genre_feature,))"
   ],
   "id": "c9049f3dd5d6aae2",
   "outputs": [],
   "execution_count": 1429
  },
  {
   "metadata": {
    "ExecuteTime": {
     "end_time": "2024-10-12T16:21:07.549614Z",
     "start_time": "2024-10-12T16:21:07.530001Z"
    }
   },
   "cell_type": "code",
   "source": "recos_data.weight.unique()",
   "id": "feaaf4f26e413175",
   "outputs": [
    {
     "data": {
      "text/plain": [
       "array([0, 1, 2, 3, 4, 5, 6, 7, 8, 9])"
      ]
     },
     "execution_count": 1430,
     "metadata": {},
     "output_type": "execute_result"
    }
   ],
   "execution_count": 1430
  },
  {
   "metadata": {
    "ExecuteTime": {
     "end_time": "2024-10-12T16:22:34.206607Z",
     "start_time": "2024-10-12T16:21:07.659023Z"
    }
   },
   "cell_type": "code",
   "source": [
    "recs_dataset = Dataset.construct(\n",
    "    interactions_df=recos_data[['user_id', 'item_id', 'weight', 'datetime']],\n",
    ")\n",
    "\n",
    "model = make_base_model(factors=256, regularization=0.2, alpha=100)\n",
    "model.fit(recs_dataset)"
   ],
   "id": "6d652d721b1a922c",
   "outputs": [
    {
     "data": {
      "text/plain": [
       "<rectools.models.implicit_als.ImplicitALSWrapperModel at 0x7807d79c55d0>"
      ]
     },
     "execution_count": 1431,
     "metadata": {},
     "output_type": "execute_result"
    }
   ],
   "execution_count": 1431
  },
  {
   "metadata": {
    "ExecuteTime": {
     "end_time": "2024-10-12T16:22:41.970495Z",
     "start_time": "2024-10-12T16:22:41.003106Z"
    }
   },
   "cell_type": "code",
   "source": [
    "recos = model.recommend(\n",
    "    users=data_to_check[-3000:].user_id,\n",
    "    dataset=recs_dataset,\n",
    "    k=26,\n",
    "    filter_viewed=False,\n",
    ")"
   ],
   "id": "e4dab274d782581a",
   "outputs": [],
   "execution_count": 1432
  },
  {
   "metadata": {
    "ExecuteTime": {
     "end_time": "2024-10-12T16:22:45.374368Z",
     "start_time": "2024-10-12T16:22:45.370113Z"
    }
   },
   "cell_type": "code",
   "source": "recos = recos[recos.item_id > -1]",
   "id": "15653f013cc89695",
   "outputs": [],
   "execution_count": 1433
  },
  {
   "metadata": {
    "ExecuteTime": {
     "end_time": "2024-10-12T16:22:48.974518Z",
     "start_time": "2024-10-12T16:22:48.972424Z"
    }
   },
   "cell_type": "code",
   "source": "",
   "id": "237914981f8f6682",
   "outputs": [],
   "execution_count": null
  },
  {
   "metadata": {},
   "cell_type": "markdown",
   "source": "#### Дополняем данные с предыдущих предсказаний (фильтрация + ml) ",
   "id": "dbf96e9618c2aa55"
  },
  {
   "metadata": {
    "ExecuteTime": {
     "end_time": "2024-10-12T16:22:49.141421Z",
     "start_time": "2024-10-12T16:22:49.057294Z"
    }
   },
   "cell_type": "code",
   "source": "recos_agg = recos.groupby('user_id')['item_id'].agg(lambda x: list(map(str, x))).reset_index()",
   "id": "ace9ca55b8ca263",
   "outputs": [],
   "execution_count": 1434
  },
  {
   "metadata": {
    "ExecuteTime": {
     "end_time": "2024-10-12T16:22:52.725637Z",
     "start_time": "2024-10-12T16:22:52.722389Z"
    }
   },
   "cell_type": "code",
   "source": [
    "recos_agg_selected_uid = recos_agg[\n",
    "    recos_agg.user_id.isin(\n",
    "        data_to_check[-3000:].user_id\n",
    "    )\n",
    "]"
   ],
   "id": "f21bb1e0291b115e",
   "outputs": [],
   "execution_count": 1435
  },
  {
   "metadata": {
    "ExecuteTime": {
     "end_time": "2024-10-12T16:22:55.937621Z",
     "start_time": "2024-10-12T16:22:55.934428Z"
    }
   },
   "cell_type": "code",
   "source": "recos_agg_selected_uid.shape",
   "id": "19423cc75ee0229",
   "outputs": [
    {
     "data": {
      "text/plain": [
       "(3000, 2)"
      ]
     },
     "execution_count": 1436,
     "metadata": {},
     "output_type": "execute_result"
    }
   ],
   "execution_count": 1436
  },
  {
   "metadata": {
    "ExecuteTime": {
     "end_time": "2024-10-12T16:22:59.665847Z",
     "start_time": "2024-10-12T16:22:59.661039Z"
    }
   },
   "cell_type": "code",
   "source": [
    "# Объединяем рекомендации с предсказанями фильтрацией и мл\n",
    "enriched_data_to_check = data_to_check[-3000:].merge(recos_agg_selected_uid, on='user_id', how='left')"
   ],
   "id": "a91bbd7f6b42311a",
   "outputs": [],
   "execution_count": 1437
  },
  {
   "metadata": {
    "ExecuteTime": {
     "end_time": "2024-10-12T16:23:03.206566Z",
     "start_time": "2024-10-12T16:23:03.204144Z"
    }
   },
   "cell_type": "code",
   "source": "enriched_data_to_check.columns",
   "id": "12e644962bd8eea2",
   "outputs": [
    {
     "data": {
      "text/plain": [
       "Index(['user_id', 'item_id_x', 'item_id_y'], dtype='object')"
      ]
     },
     "execution_count": 1438,
     "metadata": {},
     "output_type": "execute_result"
    }
   ],
   "execution_count": 1438
  },
  {
   "metadata": {
    "ExecuteTime": {
     "end_time": "2024-10-12T16:23:06.921231Z",
     "start_time": "2024-10-12T16:23:06.914699Z"
    }
   },
   "cell_type": "code",
   "source": [
    "# Заполняем nan пустыми списками для корректного расчета метрики\n",
    "enriched_data_to_check.item_id_y.loc[enriched_data_to_check.item_id_y.isnull()] = enriched_data_to_check.item_id_y.loc[enriched_data_to_check.item_id_y.isnull()].apply(lambda x: [])"
   ],
   "id": "81053f9e282beee7",
   "outputs": [],
   "execution_count": 1439
  },
  {
   "metadata": {
    "ExecuteTime": {
     "end_time": "2024-10-12T16:23:10.295378Z",
     "start_time": "2024-10-12T16:23:10.291371Z"
    }
   },
   "cell_type": "code",
   "source": [
    "# Обьединяем исходное предсказание рекомендациями по rectools  - сначала исходные айди, потом рекоммендации (порядок важен, тк далее оставляем только 25 элементов списка)\n",
    "enriched_data_to_check['item_id'] = enriched_data_to_check['item_id_x'] + enriched_data_to_check['item_id_y']"
   ],
   "id": "d535010dd8203776",
   "outputs": [],
   "execution_count": 1440
  },
  {
   "metadata": {
    "ExecuteTime": {
     "end_time": "2024-10-12T16:23:13.476962Z",
     "start_time": "2024-10-12T16:23:13.467867Z"
    }
   },
   "cell_type": "code",
   "source": [
    "# Убеждаемся что добавлением новых товаров мы не вышли \n",
    "enriched_data_to_check['item_id'] = enriched_data_to_check['item_id'].apply(lambda x: list(set(x[:25])))"
   ],
   "id": "676c823cbb3a2c82",
   "outputs": [],
   "execution_count": 1441
  },
  {
   "metadata": {
    "ExecuteTime": {
     "end_time": "2024-10-12T16:23:16.677900Z",
     "start_time": "2024-10-12T16:23:16.674623Z"
    }
   },
   "cell_type": "code",
   "source": "enriched_data_to_check = enriched_data_to_check[['user_id', 'item_id']]",
   "id": "787e6e120926c0f8",
   "outputs": [],
   "execution_count": 1442
  },
  {
   "metadata": {
    "ExecuteTime": {
     "end_time": "2024-10-12T16:23:19.865970Z",
     "start_time": "2024-10-12T16:23:19.862196Z"
    }
   },
   "cell_type": "code",
   "source": "enriched_data_to_check.drop_duplicates(subset=['user_id']).shape",
   "id": "2a699c3f67dc091e",
   "outputs": [
    {
     "data": {
      "text/plain": [
       "(3000, 2)"
      ]
     },
     "execution_count": 1443,
     "metadata": {},
     "output_type": "execute_result"
    }
   ],
   "execution_count": 1443
  },
  {
   "metadata": {
    "ExecuteTime": {
     "end_time": "2024-10-12T16:23:23.064371Z",
     "start_time": "2024-10-12T16:23:23.055018Z"
    }
   },
   "cell_type": "code",
   "source": [
    "check_merge_ml = test_purchasers.merge(enriched_data_to_check[-3000:], on='user_id', how='left')\n",
    "check_merge_ml.item_id_y.loc[check_merge_ml.item_id_y.isnull()] = check_merge_ml.item_id_y.loc[check_merge_ml.item_id_y.isnull()].apply(lambda x: [])\n",
    "print(check_merge_ml.shape)\n",
    "check_merge_ml['recall'] = check_merge_ml.apply(calculate_recall, axis=1)\n",
    "check_merge_ml['recall'].mean().round(4)"
   ],
   "id": "2f78de4bca3db947",
   "outputs": [
    {
     "name": "stdout",
     "output_type": "stream",
     "text": [
      "(496, 3)\n"
     ]
    },
    {
     "data": {
      "text/plain": [
       "0.4974"
      ]
     },
     "execution_count": 1444,
     "metadata": {},
     "output_type": "execute_result"
    }
   ],
   "execution_count": 1444
  },
  {
   "metadata": {
    "ExecuteTime": {
     "end_time": "2024-10-12T16:24:08.412215Z",
     "start_time": "2024-10-12T16:24:08.410745Z"
    }
   },
   "cell_type": "code",
   "source": "",
   "id": "6995bf5b371144ee",
   "outputs": [],
   "execution_count": null
  },
  {
   "metadata": {},
   "cell_type": "markdown",
   "source": "### Сохраняем результаты",
   "id": "c2f3bbb02c579c0e"
  },
  {
   "metadata": {
    "ExecuteTime": {
     "end_time": "2024-10-12T16:24:12.134185Z",
     "start_time": "2024-10-12T16:24:12.113813Z"
    }
   },
   "cell_type": "code",
   "source": "enriched_data_to_check.rename(columns={'item_id': 'products'}).reset_index().to_csv(\"r_final.csv\", index=False)",
   "id": "6533fd075d463a8b",
   "outputs": [],
   "execution_count": 1446
  },
  {
   "metadata": {
    "ExecuteTime": {
     "end_time": "2024-10-12T16:24:12.155425Z",
     "start_time": "2024-10-12T16:24:12.146419Z"
    }
   },
   "cell_type": "code",
   "source": "pd.read_csv('r_final.csv').shape",
   "id": "c0ecc478bd15bf87",
   "outputs": [
    {
     "data": {
      "text/plain": [
       "(3000, 3)"
      ]
     },
     "execution_count": 1447,
     "metadata": {},
     "output_type": "execute_result"
    }
   ],
   "execution_count": 1447
  },
  {
   "metadata": {
    "ExecuteTime": {
     "end_time": "2024-10-11T18:43:37.274224Z",
     "start_time": "2024-10-11T18:43:37.271920Z"
    }
   },
   "cell_type": "code",
   "outputs": [],
   "source": "",
   "id": "d863abf0bb1e67d8",
   "execution_count": null
  },
  {
   "metadata": {},
   "cell_type": "code",
   "outputs": [],
   "source": "",
   "id": "24420341df21eac3",
   "execution_count": null
  },
  {
   "metadata": {
    "ExecuteTime": {
     "end_time": "2024-10-10T11:43:02.271963Z",
     "start_time": "2024-10-10T11:43:02.237844Z"
    }
   },
   "cell_type": "code",
   "outputs": [],
   "execution_count": 176,
   "source": [
    "# Не забываем выключить кластер h2o на локальной машине\n",
    "h2o.cluster().shutdown()"
   ],
   "id": "86e0213bf4b74754"
  },
  {
   "metadata": {},
   "cell_type": "code",
   "outputs": [],
   "source": "",
   "id": "9fe39f68ddcdd212",
   "execution_count": null
  }
 ],
 "metadata": {
  "kernelspec": {
   "display_name": "Python 3",
   "language": "python",
   "name": "python3"
  },
  "language_info": {
   "codemirror_mode": {
    "name": "ipython",
    "version": 2
   },
   "file_extension": ".py",
   "mimetype": "text/x-python",
   "name": "python",
   "nbconvert_exporter": "python",
   "pygments_lexer": "ipython2",
   "version": "2.7.6"
  }
 },
 "nbformat": 4,
 "nbformat_minor": 5
}
