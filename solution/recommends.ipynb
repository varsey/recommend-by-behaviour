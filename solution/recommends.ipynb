{
 "cells": [
  {
   "metadata": {
    "collapsed": true,
    "ExecuteTime": {
     "end_time": "2024-10-12T21:30:39.725689Z",
     "start_time": "2024-10-12T21:30:39.051827Z"
    }
   },
   "cell_type": "code",
   "source": [
    "from pathlib import Path\n",
    "\n",
    "import numpy as np\n",
    "import pandas as pd"
   ],
   "id": "initial_id",
   "outputs": [],
   "execution_count": 1
  },
  {
   "metadata": {
    "ExecuteTime": {
     "end_time": "2024-10-12T21:30:40.059746Z",
     "start_time": "2024-10-12T21:30:39.753095Z"
    }
   },
   "cell_type": "code",
   "source": [
    "import h2o\n",
    "from h2o.estimators.gbm import H2OGradientBoostingEstimator"
   ],
   "id": "5802908c400af4a0",
   "outputs": [],
   "execution_count": 2
  },
  {
   "metadata": {
    "ExecuteTime": {
     "end_time": "2024-10-12T21:30:40.500223Z",
     "start_time": "2024-10-12T21:30:40.252337Z"
    }
   },
   "cell_type": "code",
   "source": [
    "import os\n",
    "import threadpoolctl\n",
    "import warnings\n",
    "\n",
    "from rectools.models import ImplicitALSWrapperModel\n",
    "from rectools.dataset import Dataset\n",
    "from implicit.als import AlternatingLeastSquares\n",
    "\n",
    "warnings.filterwarnings('ignore')\n",
    "\n",
    "# For implicit ALS\n",
    "os.environ[\"OPENBLAS_NUM_THREADS\"] = \"1\"\n",
    "threadpoolctl.threadpool_limits(1, \"blas\")"
   ],
   "id": "8a30bde391d9e196",
   "outputs": [
    {
     "name": "stderr",
     "output_type": "stream",
     "text": [
      "/home/varsey/PycharmProjects/zagruzka-resheniya-kokos-002/venv/lib/python3.11/site-packages/tqdm/auto.py:21: TqdmWarning: IProgress not found. Please update jupyter and ipywidgets. See https://ipywidgets.readthedocs.io/en/stable/user_install.html\n",
      "  from .autonotebook import tqdm as notebook_tqdm\n"
     ]
    },
    {
     "data": {
      "text/plain": [
       "<threadpoolctl.threadpool_limits at 0x7d8d4e314a50>"
      ]
     },
     "execution_count": 3,
     "metadata": {},
     "output_type": "execute_result"
    }
   ],
   "execution_count": 3
  },
  {
   "metadata": {
    "ExecuteTime": {
     "end_time": "2024-10-12T21:30:43.633951Z",
     "start_time": "2024-10-12T21:30:43.311780Z"
    }
   },
   "cell_type": "code",
   "source": "from sklearn.feature_extraction.text import TfidfVectorizer",
   "id": "56a98e0f54b9958f",
   "outputs": [],
   "execution_count": 4
  },
  {
   "metadata": {
    "ExecuteTime": {
     "end_time": "2024-10-12T21:30:43.717603Z",
     "start_time": "2024-10-12T21:30:43.646674Z"
    }
   },
   "cell_type": "code",
   "source": "from src.utils import processing, calculate_recall, create_index_hnsw ",
   "id": "8713cf7a9fc9dc59",
   "outputs": [],
   "execution_count": 5
  },
  {
   "metadata": {
    "ExecuteTime": {
     "end_time": "2024-10-12T21:30:44.067484Z",
     "start_time": "2024-10-12T21:30:43.977369Z"
    }
   },
   "cell_type": "code",
   "source": [
    "catalog = pd.read_parquet(f'{Path.cwd().parent}/data/stokman_catalog_preprocessed.pq', engine='pyarrow')\n",
    "catalog.head()"
   ],
   "id": "ed039728e851bc93",
   "outputs": [
    {
     "data": {
      "text/plain": [
       "             add_date shop_id product_id category_id  price  \\\n",
       "0 2024-09-30 03:07:09     350    1025536        8922   6990   \n",
       "1 2024-09-19 03:07:08     350    1025614       10600    330   \n",
       "2 2024-09-30 03:07:09     350    1025656         231  13240   \n",
       "3 2024-09-30 03:07:09     350    1025659       14546   7550   \n",
       "4 2024-09-30 03:07:09     350    1025668        1949   1290   \n",
       "\n",
       "                                       title  old_price  \n",
       "0               6048 48557 44342 53515 17614       6990  \n",
       "1          42548 40244 23485 10853 6545 2343        330  \n",
       "2  14034 42002 48557 56089 46836 55620 50785      26490  \n",
       "3        32640 50164 48557 25314 23255 42146      12590  \n",
       "4                    51789 48557 56089 20149       1290  "
      ],
      "text/html": [
       "<div>\n",
       "<style scoped>\n",
       "    .dataframe tbody tr th:only-of-type {\n",
       "        vertical-align: middle;\n",
       "    }\n",
       "\n",
       "    .dataframe tbody tr th {\n",
       "        vertical-align: top;\n",
       "    }\n",
       "\n",
       "    .dataframe thead th {\n",
       "        text-align: right;\n",
       "    }\n",
       "</style>\n",
       "<table border=\"1\" class=\"dataframe\">\n",
       "  <thead>\n",
       "    <tr style=\"text-align: right;\">\n",
       "      <th></th>\n",
       "      <th>add_date</th>\n",
       "      <th>shop_id</th>\n",
       "      <th>product_id</th>\n",
       "      <th>category_id</th>\n",
       "      <th>price</th>\n",
       "      <th>title</th>\n",
       "      <th>old_price</th>\n",
       "    </tr>\n",
       "  </thead>\n",
       "  <tbody>\n",
       "    <tr>\n",
       "      <th>0</th>\n",
       "      <td>2024-09-30 03:07:09</td>\n",
       "      <td>350</td>\n",
       "      <td>1025536</td>\n",
       "      <td>8922</td>\n",
       "      <td>6990</td>\n",
       "      <td>6048 48557 44342 53515 17614</td>\n",
       "      <td>6990</td>\n",
       "    </tr>\n",
       "    <tr>\n",
       "      <th>1</th>\n",
       "      <td>2024-09-19 03:07:08</td>\n",
       "      <td>350</td>\n",
       "      <td>1025614</td>\n",
       "      <td>10600</td>\n",
       "      <td>330</td>\n",
       "      <td>42548 40244 23485 10853 6545 2343</td>\n",
       "      <td>330</td>\n",
       "    </tr>\n",
       "    <tr>\n",
       "      <th>2</th>\n",
       "      <td>2024-09-30 03:07:09</td>\n",
       "      <td>350</td>\n",
       "      <td>1025656</td>\n",
       "      <td>231</td>\n",
       "      <td>13240</td>\n",
       "      <td>14034 42002 48557 56089 46836 55620 50785</td>\n",
       "      <td>26490</td>\n",
       "    </tr>\n",
       "    <tr>\n",
       "      <th>3</th>\n",
       "      <td>2024-09-30 03:07:09</td>\n",
       "      <td>350</td>\n",
       "      <td>1025659</td>\n",
       "      <td>14546</td>\n",
       "      <td>7550</td>\n",
       "      <td>32640 50164 48557 25314 23255 42146</td>\n",
       "      <td>12590</td>\n",
       "    </tr>\n",
       "    <tr>\n",
       "      <th>4</th>\n",
       "      <td>2024-09-30 03:07:09</td>\n",
       "      <td>350</td>\n",
       "      <td>1025668</td>\n",
       "      <td>1949</td>\n",
       "      <td>1290</td>\n",
       "      <td>51789 48557 56089 20149</td>\n",
       "      <td>1290</td>\n",
       "    </tr>\n",
       "  </tbody>\n",
       "</table>\n",
       "</div>"
      ]
     },
     "execution_count": 6,
     "metadata": {},
     "output_type": "execute_result"
    }
   ],
   "execution_count": 6
  },
  {
   "metadata": {
    "ExecuteTime": {
     "end_time": "2024-10-12T21:30:47.827165Z",
     "start_time": "2024-10-12T21:30:44.253431Z"
    }
   },
   "cell_type": "code",
   "source": [
    "actions = pd.read_parquet(f'{Path.cwd().parent}/data/train_actions.pq', engine='pyarrow')\n",
    "actions.head()"
   ],
   "id": "981e162b35596c1",
   "outputs": [
    {
     "data": {
      "text/plain": [
       "                                user_id                           loc_user_id  \\\n",
       "0  6fd49b56-8cc6-11ed-86e0-002590c0647c  c6e357dc-121d-449d-a744-e9a0b56c2380   \n",
       "1  6fd49b56-8cc6-11ed-86e0-002590c0647c  c6e357dc-121d-449d-a744-e9a0b56c2380   \n",
       "2  f9c498ec-5d3b-11ef-86e0-002590c0647c  120c9064-1131-4dc3-8048-44184531b42e   \n",
       "3  59386b5c-e64f-11ec-8086-002590c82437  f0745572-893f-4e50-bc52-5af47badff5a   \n",
       "4  badbd396-6cab-11ef-86e0-002590c0647c  73423d85-d47c-4332-8155-5200615302b5   \n",
       "\n",
       "   action                date products      pageId  \n",
       "0       7 2024-09-07 00:00:04       []  2571824865  \n",
       "1       7 2024-09-07 00:00:08       []  3834364438  \n",
       "2       7 2024-09-07 00:00:08       []  2448628415  \n",
       "3       7 2024-09-07 00:00:11       []  3875013967  \n",
       "4       7 2024-09-07 00:00:11       []  3025531174  "
      ],
      "text/html": [
       "<div>\n",
       "<style scoped>\n",
       "    .dataframe tbody tr th:only-of-type {\n",
       "        vertical-align: middle;\n",
       "    }\n",
       "\n",
       "    .dataframe tbody tr th {\n",
       "        vertical-align: top;\n",
       "    }\n",
       "\n",
       "    .dataframe thead th {\n",
       "        text-align: right;\n",
       "    }\n",
       "</style>\n",
       "<table border=\"1\" class=\"dataframe\">\n",
       "  <thead>\n",
       "    <tr style=\"text-align: right;\">\n",
       "      <th></th>\n",
       "      <th>user_id</th>\n",
       "      <th>loc_user_id</th>\n",
       "      <th>action</th>\n",
       "      <th>date</th>\n",
       "      <th>products</th>\n",
       "      <th>pageId</th>\n",
       "    </tr>\n",
       "  </thead>\n",
       "  <tbody>\n",
       "    <tr>\n",
       "      <th>0</th>\n",
       "      <td>6fd49b56-8cc6-11ed-86e0-002590c0647c</td>\n",
       "      <td>c6e357dc-121d-449d-a744-e9a0b56c2380</td>\n",
       "      <td>7</td>\n",
       "      <td>2024-09-07 00:00:04</td>\n",
       "      <td>[]</td>\n",
       "      <td>2571824865</td>\n",
       "    </tr>\n",
       "    <tr>\n",
       "      <th>1</th>\n",
       "      <td>6fd49b56-8cc6-11ed-86e0-002590c0647c</td>\n",
       "      <td>c6e357dc-121d-449d-a744-e9a0b56c2380</td>\n",
       "      <td>7</td>\n",
       "      <td>2024-09-07 00:00:08</td>\n",
       "      <td>[]</td>\n",
       "      <td>3834364438</td>\n",
       "    </tr>\n",
       "    <tr>\n",
       "      <th>2</th>\n",
       "      <td>f9c498ec-5d3b-11ef-86e0-002590c0647c</td>\n",
       "      <td>120c9064-1131-4dc3-8048-44184531b42e</td>\n",
       "      <td>7</td>\n",
       "      <td>2024-09-07 00:00:08</td>\n",
       "      <td>[]</td>\n",
       "      <td>2448628415</td>\n",
       "    </tr>\n",
       "    <tr>\n",
       "      <th>3</th>\n",
       "      <td>59386b5c-e64f-11ec-8086-002590c82437</td>\n",
       "      <td>f0745572-893f-4e50-bc52-5af47badff5a</td>\n",
       "      <td>7</td>\n",
       "      <td>2024-09-07 00:00:11</td>\n",
       "      <td>[]</td>\n",
       "      <td>3875013967</td>\n",
       "    </tr>\n",
       "    <tr>\n",
       "      <th>4</th>\n",
       "      <td>badbd396-6cab-11ef-86e0-002590c0647c</td>\n",
       "      <td>73423d85-d47c-4332-8155-5200615302b5</td>\n",
       "      <td>7</td>\n",
       "      <td>2024-09-07 00:00:11</td>\n",
       "      <td>[]</td>\n",
       "      <td>3025531174</td>\n",
       "    </tr>\n",
       "  </tbody>\n",
       "</table>\n",
       "</div>"
      ]
     },
     "execution_count": 7,
     "metadata": {},
     "output_type": "execute_result"
    }
   ],
   "execution_count": 7
  },
  {
   "metadata": {},
   "cell_type": "markdown",
   "source": "#### Разворачиваем данные по айдишникам продуктов",
   "id": "56e5db1a6058946c"
  },
  {
   "metadata": {
    "ExecuteTime": {
     "end_time": "2024-10-12T21:30:53.196708Z",
     "start_time": "2024-10-12T21:30:47.866626Z"
    }
   },
   "cell_type": "code",
   "source": [
    "_actions = (\n",
    "    actions\n",
    "    .copy()\n",
    "    .explode('products')\n",
    "    .assign(products=lambda x: x.products.fillna(-1).astype(np.int64))\n",
    ")\n",
    "print(_actions.shape)\n",
    "\n",
    "_catalog = (\n",
    "    catalog\n",
    "    .copy()\n",
    "    .assign(product_id=lambda x: x.product_id.astype(np.int64))\n",
    ")"
   ],
   "id": "3e0c476cbb5adeb0",
   "outputs": [
    {
     "name": "stdout",
     "output_type": "stream",
     "text": [
      "(6859002, 6)\n"
     ]
    }
   ],
   "execution_count": 8
  },
  {
   "metadata": {},
   "cell_type": "markdown",
   "source": "#### Разворачиваем данные по айдишникам продуктов",
   "id": "8ab92b6327317d65"
  },
  {
   "metadata": {
    "ExecuteTime": {
     "end_time": "2024-10-12T21:30:55.452444Z",
     "start_time": "2024-10-12T21:30:53.275684Z"
    }
   },
   "cell_type": "code",
   "source": [
    "_actions['action_datetime'] = pd.to_datetime(_actions['date'])\n",
    "\n",
    "_actions.action = _actions.action + 10\n",
    "_actions.action = _actions.action.replace({14: 0, 13: 4, 18: 2, 19: 3, 10: 5, 17: 1, 11: 6, 12: 7, 16: 8, 15: 9})\n",
    "_actions = _actions.sort_values(by=['action', 'date'])\n",
    "print(_actions.shape)"
   ],
   "id": "33bc13582ac56739",
   "outputs": [
    {
     "name": "stdout",
     "output_type": "stream",
     "text": [
      "(6859002, 7)\n"
     ]
    }
   ],
   "execution_count": 9
  },
  {
   "metadata": {},
   "cell_type": "markdown",
   "source": [
    "#### Новая шкала action в train_actions.pq в порядке возрастания важности\n",
    "    0 - clearB (удаление всех товаров из корзины)\n",
    "    1 - visit (посещение страницы с товаром)\n",
    "    2 - visitCategory (посещение страницы с группой товаров)\n",
    "    3 - search (поиск товара)           \n",
    "    4 - delB (удаление товара из корзины)\n",
    "    5 - view (просмотр товара)\n",
    "    6 - like (лайк товара)\n",
    "    7 - addB (добавление товара в корзину)\n",
    "    8 - listB (посещение страницы корзины и вывод списка товаров в корзине)\n",
    "    9 - order (оформление заказа)\n",
    "    "
   ],
   "id": "61bff49bb1302804"
  },
  {
   "metadata": {},
   "cell_type": "markdown",
   "source": [
    "#### Переименовываем поля и обьеденияем датасеты каталога и дейсвтвий пользователя    \n",
    "'products' теперь 'item_id', 'action'  превратился в 'weight' (мы перевели код действия в шкалу по возрастанию ранее)"
   ],
   "id": "edbf3590e0fdcf21"
  },
  {
   "metadata": {
    "ExecuteTime": {
     "end_time": "2024-10-12T21:30:56.259213Z",
     "start_time": "2024-10-12T21:30:55.505273Z"
    }
   },
   "cell_type": "code",
   "source": "interactions = _actions.rename(columns={'products': 'item_id', 'action' : 'weight', 'action_datetime': 'datetime'})",
   "id": "9cf4c400c2eb31f2",
   "outputs": [],
   "execution_count": 10
  },
  {
   "metadata": {
    "ExecuteTime": {
     "end_time": "2024-10-12T21:30:56.273184Z",
     "start_time": "2024-10-12T21:30:56.264305Z"
    }
   },
   "cell_type": "code",
   "source": "items = _catalog.rename(columns={'product_id': 'item_id'})",
   "id": "44b6d7a792587132",
   "outputs": [],
   "execution_count": 11
  },
  {
   "metadata": {
    "ExecuteTime": {
     "end_time": "2024-10-12T21:30:57.508104Z",
     "start_time": "2024-10-12T21:30:56.328245Z"
    }
   },
   "cell_type": "code",
   "source": [
    "interactions_merge = interactions.merge(items, on='item_id', how='left')\n",
    "interactions_merge.shape"
   ],
   "id": "29511698b4b25a81",
   "outputs": [
    {
     "data": {
      "text/plain": [
       "(6859002, 13)"
      ]
     },
     "execution_count": 12,
     "metadata": {},
     "output_type": "execute_result"
    }
   ],
   "execution_count": 12
  },
  {
   "metadata": {
    "ExecuteTime": {
     "end_time": "2024-10-12T21:30:58.401034Z",
     "start_time": "2024-10-12T21:30:57.606041Z"
    }
   },
   "cell_type": "code",
   "source": [
    "interactions_merge['day'] = interactions_merge['datetime'].dt.day\n",
    "interactions_merge['day_of_week'] = interactions_merge['datetime'].dt.dayofweek  # Monday=0, Sunday=6\n",
    "\n",
    "interactions_merge['hour'] = interactions_merge['datetime'].dt.hour\n",
    "interactions_merge['minute'] = interactions_merge['datetime'].dt.minute"
   ],
   "id": "59042b7e4bce6aa9",
   "outputs": [],
   "execution_count": 13
  },
  {
   "metadata": {
    "ExecuteTime": {
     "end_time": "2024-10-12T21:31:00.449325Z",
     "start_time": "2024-10-12T21:30:58.438606Z"
    }
   },
   "cell_type": "code",
   "source": [
    "interactions_merge['price_diff'] = interactions_merge['price'] - interactions_merge['old_price']\n",
    "\n",
    "interactions_merge['category_id'] = interactions_merge['category_id'].fillna(0)\n",
    "interactions_merge['price_diff'] = interactions_merge['price_diff'].fillna(0)\n",
    "\n",
    "interactions_merge['category_id'] = interactions_merge['category_id'].astype(np.int32)"
   ],
   "id": "e1baf5098e5fb6a5",
   "outputs": [],
   "execution_count": 14
  },
  {
   "metadata": {
    "ExecuteTime": {
     "end_time": "2024-10-12T21:31:05.121882Z",
     "start_time": "2024-10-12T21:31:00.609647Z"
    }
   },
   "cell_type": "code",
   "source": [
    "inters = interactions_merge.merge(\n",
    "    interactions_merge.groupby('user_id')['loc_user_id'].count().reset_index(name='loc_user_count'),\n",
    "    on='user_id',\n",
    "    how='left'\n",
    ")\n",
    "print(inters.shape)"
   ],
   "id": "dbeec347bf647835",
   "outputs": [
    {
     "name": "stdout",
     "output_type": "stream",
     "text": [
      "(6859002, 19)\n"
     ]
    }
   ],
   "execution_count": 15
  },
  {
   "metadata": {
    "ExecuteTime": {
     "end_time": "2024-10-12T21:31:08.485277Z",
     "start_time": "2024-10-12T21:31:05.186744Z"
    }
   },
   "cell_type": "code",
   "source": [
    "inters = inters.merge(\n",
    "    interactions_merge.groupby('user_id')['category_id'].count().reset_index(name='category_id_count'),\n",
    "    on='user_id',\n",
    "    how='left'\n",
    ")\n",
    "print(inters.shape)"
   ],
   "id": "134633534bc44644",
   "outputs": [
    {
     "name": "stdout",
     "output_type": "stream",
     "text": [
      "(6859002, 20)\n"
     ]
    }
   ],
   "execution_count": 16
  },
  {
   "metadata": {
    "ExecuteTime": {
     "end_time": "2024-10-12T21:31:08.520999Z",
     "start_time": "2024-10-12T21:31:08.518908Z"
    }
   },
   "cell_type": "code",
   "source": "",
   "id": "57fdee436f311726",
   "outputs": [],
   "execution_count": null
  },
  {
   "metadata": {
    "ExecuteTime": {
     "end_time": "2024-10-12T21:31:22.834582Z",
     "start_time": "2024-10-12T21:31:08.590102Z"
    }
   },
   "cell_type": "code",
   "source": [
    "for action in sorted(interactions_merge.weight.unique()):\n",
    "    inters = inters.merge(\n",
    "        interactions_merge[interactions_merge.weight  == action].groupby('user_id')['weight'].count().reset_index(name=f'action_{action}_count'),\n",
    "        on='user_id',\n",
    "        how='left'\n",
    "    )\n",
    "    inters[f'action_{action}_count'] = inters[f'action_{action}_count'].fillna(0)\n",
    "print(inters.shape)"
   ],
   "id": "e1bacf3c6ee6e617",
   "outputs": [
    {
     "name": "stdout",
     "output_type": "stream",
     "text": [
      "(6859002, 30)\n"
     ]
    }
   ],
   "execution_count": 17
  },
  {
   "metadata": {
    "ExecuteTime": {
     "end_time": "2024-10-12T21:31:23.895690Z",
     "start_time": "2024-10-12T21:31:23.894270Z"
    }
   },
   "cell_type": "code",
   "source": "",
   "id": "b046b5b46ce107b1",
   "outputs": [],
   "execution_count": null
  },
  {
   "metadata": {
    "ExecuteTime": {
     "end_time": "2024-10-12T21:31:28.203869Z",
     "start_time": "2024-10-12T21:31:24.869313Z"
    }
   },
   "cell_type": "code",
   "source": [
    "inters['delta_sec'] = inters.sort_values(by=['datetime']).groupby('user_id')['datetime'].diff()\n",
    "inters['delta_sec'] = inters['delta_sec'].dt.total_seconds()\n",
    "inters['delta_sec'] = inters['delta_sec'].fillna(0)"
   ],
   "id": "e5529ba8b7fa03a3",
   "outputs": [],
   "execution_count": 18
  },
  {
   "metadata": {
    "ExecuteTime": {
     "end_time": "2024-10-12T21:31:36.227765Z",
     "start_time": "2024-10-12T21:31:29.217590Z"
    }
   },
   "cell_type": "code",
   "source": [
    "inters['delta_day'] = inters.sort_values(by=['datetime']).groupby('user_id')['day'].diff()\n",
    "inters['delta_day'] = inters['delta_day'].fillna(0)\n",
    "\n",
    "inters['delta_hour'] = inters.sort_values(by=['datetime']).groupby('user_id')['hour'].diff()\n",
    "inters['delta_hour'] = inters['delta_hour'].fillna(0)\n",
    "\n",
    "inters['delta_min'] = inters.sort_values(by=['datetime']).groupby('user_id')['minute'].diff()\n",
    "inters['delta_min'] = inters['delta_min'].fillna(0)"
   ],
   "id": "366408200ad38780",
   "outputs": [],
   "execution_count": 19
  },
  {
   "metadata": {
    "ExecuteTime": {
     "end_time": "2024-10-12T21:31:37.722445Z",
     "start_time": "2024-10-12T21:31:37.223109Z"
    }
   },
   "cell_type": "code",
   "source": "inters = inters.drop(columns=['day', 'hour', 'minute'])",
   "id": "b4d3d265efe6438c",
   "outputs": [],
   "execution_count": 20
  },
  {
   "metadata": {
    "ExecuteTime": {
     "end_time": "2024-10-12T21:31:38.986236Z",
     "start_time": "2024-10-12T21:31:38.583805Z"
    }
   },
   "cell_type": "code",
   "source": "inters = inters.drop(columns=['price', 'old_price', 'date', 'add_date', 'loc_user_id', 'shop_id'])",
   "id": "5a08b82472678503",
   "outputs": [],
   "execution_count": 21
  },
  {
   "metadata": {
    "ExecuteTime": {
     "end_time": "2024-10-12T21:31:41.324670Z",
     "start_time": "2024-10-12T21:31:39.768645Z"
    }
   },
   "cell_type": "code",
   "source": [
    "inters = inters[inters['item_id'] != '/*']\n",
    "inters = inters[inters['user_id'] != '/*']"
   ],
   "id": "4fb8cb777c7bd7ba",
   "outputs": [],
   "execution_count": 22
  },
  {
   "metadata": {
    "ExecuteTime": {
     "end_time": "2024-10-12T21:31:42.264971Z",
     "start_time": "2024-10-12T21:31:41.976464Z"
    }
   },
   "cell_type": "code",
   "source": "inters[inters.user_id == 'e4362420-f6ca-11ec-86e0-002590c0647c'].head(500)",
   "id": "84c3076767e80047",
   "outputs": [
    {
     "data": {
      "text/plain": [
       "                                      user_id  weight  item_id      pageId  \\\n",
       "379      e4362420-f6ca-11ec-86e0-002590c0647c       1       -1  4263215769   \n",
       "383      e4362420-f6ca-11ec-86e0-002590c0647c       1       -1  4263215769   \n",
       "387      e4362420-f6ca-11ec-86e0-002590c0647c       1       -1  4263215769   \n",
       "388      e4362420-f6ca-11ec-86e0-002590c0647c       1       -1  4263215769   \n",
       "404      e4362420-f6ca-11ec-86e0-002590c0647c       1       -1  3450082821   \n",
       "...                                       ...     ...      ...         ...   \n",
       "6295889  e4362420-f6ca-11ec-86e0-002590c0647c       5  6770769   252042197   \n",
       "6295906  e4362420-f6ca-11ec-86e0-002590c0647c       5  6990711   252042197   \n",
       "6295912  e4362420-f6ca-11ec-86e0-002590c0647c       5  6770769   252042197   \n",
       "6847200  e4362420-f6ca-11ec-86e0-002590c0647c       9  5422963  4263215769   \n",
       "6847201  e4362420-f6ca-11ec-86e0-002590c0647c       9  4899652  4263215769   \n",
       "\n",
       "                   datetime  category_id  \\\n",
       "379     2024-09-07 00:00:26            0   \n",
       "383     2024-09-07 00:00:41            0   \n",
       "387     2024-09-07 00:00:51            0   \n",
       "388     2024-09-07 00:00:52            0   \n",
       "404     2024-09-07 00:01:37            0   \n",
       "...                     ...          ...   \n",
       "6295889 2024-09-27 06:14:04        50448   \n",
       "6295906 2024-09-27 06:14:21        50448   \n",
       "6295912 2024-09-27 06:14:25        50448   \n",
       "6847200 2024-09-07 00:01:12         2247   \n",
       "6847201 2024-09-07 00:01:12          389   \n",
       "\n",
       "                                             title  day_of_week  price_diff  \\\n",
       "379                                            NaN            5         0.0   \n",
       "383                                            NaN            5         0.0   \n",
       "387                                            NaN            5         0.0   \n",
       "388                                            NaN            5         0.0   \n",
       "404                                            NaN            5         0.0   \n",
       "...                                            ...          ...         ...   \n",
       "6295889                                18203 15838            4         0.0   \n",
       "6295906                                18203 15838            4         0.0   \n",
       "6295912                                18203 15838            4         0.0   \n",
       "6847200  30744 37270 46732 29313 52878 60036 63016            5     -5700.0   \n",
       "6847201  30035 28258 58315 46732 29313 52878 32899            5     -4500.0   \n",
       "\n",
       "         loc_user_count  ...  action_4_count  action_5_count  action_6_count  \\\n",
       "379                 384  ...             0.0            57.0             0.0   \n",
       "383                 384  ...             0.0            57.0             0.0   \n",
       "387                 384  ...             0.0            57.0             0.0   \n",
       "388                 384  ...             0.0            57.0             0.0   \n",
       "404                 384  ...             0.0            57.0             0.0   \n",
       "...                 ...  ...             ...             ...             ...   \n",
       "6295889             384  ...             0.0            57.0             0.0   \n",
       "6295906             384  ...             0.0            57.0             0.0   \n",
       "6295912             384  ...             0.0            57.0             0.0   \n",
       "6847200             384  ...             0.0            57.0             0.0   \n",
       "6847201             384  ...             0.0            57.0             0.0   \n",
       "\n",
       "         action_7_count  action_8_count  action_9_count  delta_sec  delta_day  \\\n",
       "379                 0.0             0.0             2.0        0.0        0.0   \n",
       "383                 0.0             0.0             2.0       15.0        0.0   \n",
       "387                 0.0             0.0             2.0       10.0        0.0   \n",
       "388                 0.0             0.0             2.0        1.0        0.0   \n",
       "404                 0.0             0.0             2.0       25.0        0.0   \n",
       "...                 ...             ...             ...        ...        ...   \n",
       "6295889             0.0             0.0             2.0        1.0        0.0   \n",
       "6295906             0.0             0.0             2.0        1.0        0.0   \n",
       "6295912             0.0             0.0             2.0        1.0        0.0   \n",
       "6847200             0.0             0.0             2.0        0.0        0.0   \n",
       "6847201             0.0             0.0             2.0       20.0        0.0   \n",
       "\n",
       "         delta_hour  delta_min  \n",
       "379             0.0        0.0  \n",
       "383             0.0        0.0  \n",
       "387             0.0        0.0  \n",
       "388             0.0        0.0  \n",
       "404             0.0        0.0  \n",
       "...             ...        ...  \n",
       "6295889         0.0        0.0  \n",
       "6295906         0.0        0.0  \n",
       "6295912         0.0        0.0  \n",
       "6847200         0.0        0.0  \n",
       "6847201         0.0        1.0  \n",
       "\n",
       "[384 rows x 25 columns]"
      ],
      "text/html": [
       "<div>\n",
       "<style scoped>\n",
       "    .dataframe tbody tr th:only-of-type {\n",
       "        vertical-align: middle;\n",
       "    }\n",
       "\n",
       "    .dataframe tbody tr th {\n",
       "        vertical-align: top;\n",
       "    }\n",
       "\n",
       "    .dataframe thead th {\n",
       "        text-align: right;\n",
       "    }\n",
       "</style>\n",
       "<table border=\"1\" class=\"dataframe\">\n",
       "  <thead>\n",
       "    <tr style=\"text-align: right;\">\n",
       "      <th></th>\n",
       "      <th>user_id</th>\n",
       "      <th>weight</th>\n",
       "      <th>item_id</th>\n",
       "      <th>pageId</th>\n",
       "      <th>datetime</th>\n",
       "      <th>category_id</th>\n",
       "      <th>title</th>\n",
       "      <th>day_of_week</th>\n",
       "      <th>price_diff</th>\n",
       "      <th>loc_user_count</th>\n",
       "      <th>...</th>\n",
       "      <th>action_4_count</th>\n",
       "      <th>action_5_count</th>\n",
       "      <th>action_6_count</th>\n",
       "      <th>action_7_count</th>\n",
       "      <th>action_8_count</th>\n",
       "      <th>action_9_count</th>\n",
       "      <th>delta_sec</th>\n",
       "      <th>delta_day</th>\n",
       "      <th>delta_hour</th>\n",
       "      <th>delta_min</th>\n",
       "    </tr>\n",
       "  </thead>\n",
       "  <tbody>\n",
       "    <tr>\n",
       "      <th>379</th>\n",
       "      <td>e4362420-f6ca-11ec-86e0-002590c0647c</td>\n",
       "      <td>1</td>\n",
       "      <td>-1</td>\n",
       "      <td>4263215769</td>\n",
       "      <td>2024-09-07 00:00:26</td>\n",
       "      <td>0</td>\n",
       "      <td>NaN</td>\n",
       "      <td>5</td>\n",
       "      <td>0.0</td>\n",
       "      <td>384</td>\n",
       "      <td>...</td>\n",
       "      <td>0.0</td>\n",
       "      <td>57.0</td>\n",
       "      <td>0.0</td>\n",
       "      <td>0.0</td>\n",
       "      <td>0.0</td>\n",
       "      <td>2.0</td>\n",
       "      <td>0.0</td>\n",
       "      <td>0.0</td>\n",
       "      <td>0.0</td>\n",
       "      <td>0.0</td>\n",
       "    </tr>\n",
       "    <tr>\n",
       "      <th>383</th>\n",
       "      <td>e4362420-f6ca-11ec-86e0-002590c0647c</td>\n",
       "      <td>1</td>\n",
       "      <td>-1</td>\n",
       "      <td>4263215769</td>\n",
       "      <td>2024-09-07 00:00:41</td>\n",
       "      <td>0</td>\n",
       "      <td>NaN</td>\n",
       "      <td>5</td>\n",
       "      <td>0.0</td>\n",
       "      <td>384</td>\n",
       "      <td>...</td>\n",
       "      <td>0.0</td>\n",
       "      <td>57.0</td>\n",
       "      <td>0.0</td>\n",
       "      <td>0.0</td>\n",
       "      <td>0.0</td>\n",
       "      <td>2.0</td>\n",
       "      <td>15.0</td>\n",
       "      <td>0.0</td>\n",
       "      <td>0.0</td>\n",
       "      <td>0.0</td>\n",
       "    </tr>\n",
       "    <tr>\n",
       "      <th>387</th>\n",
       "      <td>e4362420-f6ca-11ec-86e0-002590c0647c</td>\n",
       "      <td>1</td>\n",
       "      <td>-1</td>\n",
       "      <td>4263215769</td>\n",
       "      <td>2024-09-07 00:00:51</td>\n",
       "      <td>0</td>\n",
       "      <td>NaN</td>\n",
       "      <td>5</td>\n",
       "      <td>0.0</td>\n",
       "      <td>384</td>\n",
       "      <td>...</td>\n",
       "      <td>0.0</td>\n",
       "      <td>57.0</td>\n",
       "      <td>0.0</td>\n",
       "      <td>0.0</td>\n",
       "      <td>0.0</td>\n",
       "      <td>2.0</td>\n",
       "      <td>10.0</td>\n",
       "      <td>0.0</td>\n",
       "      <td>0.0</td>\n",
       "      <td>0.0</td>\n",
       "    </tr>\n",
       "    <tr>\n",
       "      <th>388</th>\n",
       "      <td>e4362420-f6ca-11ec-86e0-002590c0647c</td>\n",
       "      <td>1</td>\n",
       "      <td>-1</td>\n",
       "      <td>4263215769</td>\n",
       "      <td>2024-09-07 00:00:52</td>\n",
       "      <td>0</td>\n",
       "      <td>NaN</td>\n",
       "      <td>5</td>\n",
       "      <td>0.0</td>\n",
       "      <td>384</td>\n",
       "      <td>...</td>\n",
       "      <td>0.0</td>\n",
       "      <td>57.0</td>\n",
       "      <td>0.0</td>\n",
       "      <td>0.0</td>\n",
       "      <td>0.0</td>\n",
       "      <td>2.0</td>\n",
       "      <td>1.0</td>\n",
       "      <td>0.0</td>\n",
       "      <td>0.0</td>\n",
       "      <td>0.0</td>\n",
       "    </tr>\n",
       "    <tr>\n",
       "      <th>404</th>\n",
       "      <td>e4362420-f6ca-11ec-86e0-002590c0647c</td>\n",
       "      <td>1</td>\n",
       "      <td>-1</td>\n",
       "      <td>3450082821</td>\n",
       "      <td>2024-09-07 00:01:37</td>\n",
       "      <td>0</td>\n",
       "      <td>NaN</td>\n",
       "      <td>5</td>\n",
       "      <td>0.0</td>\n",
       "      <td>384</td>\n",
       "      <td>...</td>\n",
       "      <td>0.0</td>\n",
       "      <td>57.0</td>\n",
       "      <td>0.0</td>\n",
       "      <td>0.0</td>\n",
       "      <td>0.0</td>\n",
       "      <td>2.0</td>\n",
       "      <td>25.0</td>\n",
       "      <td>0.0</td>\n",
       "      <td>0.0</td>\n",
       "      <td>0.0</td>\n",
       "    </tr>\n",
       "    <tr>\n",
       "      <th>...</th>\n",
       "      <td>...</td>\n",
       "      <td>...</td>\n",
       "      <td>...</td>\n",
       "      <td>...</td>\n",
       "      <td>...</td>\n",
       "      <td>...</td>\n",
       "      <td>...</td>\n",
       "      <td>...</td>\n",
       "      <td>...</td>\n",
       "      <td>...</td>\n",
       "      <td>...</td>\n",
       "      <td>...</td>\n",
       "      <td>...</td>\n",
       "      <td>...</td>\n",
       "      <td>...</td>\n",
       "      <td>...</td>\n",
       "      <td>...</td>\n",
       "      <td>...</td>\n",
       "      <td>...</td>\n",
       "      <td>...</td>\n",
       "      <td>...</td>\n",
       "    </tr>\n",
       "    <tr>\n",
       "      <th>6295889</th>\n",
       "      <td>e4362420-f6ca-11ec-86e0-002590c0647c</td>\n",
       "      <td>5</td>\n",
       "      <td>6770769</td>\n",
       "      <td>252042197</td>\n",
       "      <td>2024-09-27 06:14:04</td>\n",
       "      <td>50448</td>\n",
       "      <td>18203 15838</td>\n",
       "      <td>4</td>\n",
       "      <td>0.0</td>\n",
       "      <td>384</td>\n",
       "      <td>...</td>\n",
       "      <td>0.0</td>\n",
       "      <td>57.0</td>\n",
       "      <td>0.0</td>\n",
       "      <td>0.0</td>\n",
       "      <td>0.0</td>\n",
       "      <td>2.0</td>\n",
       "      <td>1.0</td>\n",
       "      <td>0.0</td>\n",
       "      <td>0.0</td>\n",
       "      <td>0.0</td>\n",
       "    </tr>\n",
       "    <tr>\n",
       "      <th>6295906</th>\n",
       "      <td>e4362420-f6ca-11ec-86e0-002590c0647c</td>\n",
       "      <td>5</td>\n",
       "      <td>6990711</td>\n",
       "      <td>252042197</td>\n",
       "      <td>2024-09-27 06:14:21</td>\n",
       "      <td>50448</td>\n",
       "      <td>18203 15838</td>\n",
       "      <td>4</td>\n",
       "      <td>0.0</td>\n",
       "      <td>384</td>\n",
       "      <td>...</td>\n",
       "      <td>0.0</td>\n",
       "      <td>57.0</td>\n",
       "      <td>0.0</td>\n",
       "      <td>0.0</td>\n",
       "      <td>0.0</td>\n",
       "      <td>2.0</td>\n",
       "      <td>1.0</td>\n",
       "      <td>0.0</td>\n",
       "      <td>0.0</td>\n",
       "      <td>0.0</td>\n",
       "    </tr>\n",
       "    <tr>\n",
       "      <th>6295912</th>\n",
       "      <td>e4362420-f6ca-11ec-86e0-002590c0647c</td>\n",
       "      <td>5</td>\n",
       "      <td>6770769</td>\n",
       "      <td>252042197</td>\n",
       "      <td>2024-09-27 06:14:25</td>\n",
       "      <td>50448</td>\n",
       "      <td>18203 15838</td>\n",
       "      <td>4</td>\n",
       "      <td>0.0</td>\n",
       "      <td>384</td>\n",
       "      <td>...</td>\n",
       "      <td>0.0</td>\n",
       "      <td>57.0</td>\n",
       "      <td>0.0</td>\n",
       "      <td>0.0</td>\n",
       "      <td>0.0</td>\n",
       "      <td>2.0</td>\n",
       "      <td>1.0</td>\n",
       "      <td>0.0</td>\n",
       "      <td>0.0</td>\n",
       "      <td>0.0</td>\n",
       "    </tr>\n",
       "    <tr>\n",
       "      <th>6847200</th>\n",
       "      <td>e4362420-f6ca-11ec-86e0-002590c0647c</td>\n",
       "      <td>9</td>\n",
       "      <td>5422963</td>\n",
       "      <td>4263215769</td>\n",
       "      <td>2024-09-07 00:01:12</td>\n",
       "      <td>2247</td>\n",
       "      <td>30744 37270 46732 29313 52878 60036 63016</td>\n",
       "      <td>5</td>\n",
       "      <td>-5700.0</td>\n",
       "      <td>384</td>\n",
       "      <td>...</td>\n",
       "      <td>0.0</td>\n",
       "      <td>57.0</td>\n",
       "      <td>0.0</td>\n",
       "      <td>0.0</td>\n",
       "      <td>0.0</td>\n",
       "      <td>2.0</td>\n",
       "      <td>0.0</td>\n",
       "      <td>0.0</td>\n",
       "      <td>0.0</td>\n",
       "      <td>0.0</td>\n",
       "    </tr>\n",
       "    <tr>\n",
       "      <th>6847201</th>\n",
       "      <td>e4362420-f6ca-11ec-86e0-002590c0647c</td>\n",
       "      <td>9</td>\n",
       "      <td>4899652</td>\n",
       "      <td>4263215769</td>\n",
       "      <td>2024-09-07 00:01:12</td>\n",
       "      <td>389</td>\n",
       "      <td>30035 28258 58315 46732 29313 52878 32899</td>\n",
       "      <td>5</td>\n",
       "      <td>-4500.0</td>\n",
       "      <td>384</td>\n",
       "      <td>...</td>\n",
       "      <td>0.0</td>\n",
       "      <td>57.0</td>\n",
       "      <td>0.0</td>\n",
       "      <td>0.0</td>\n",
       "      <td>0.0</td>\n",
       "      <td>2.0</td>\n",
       "      <td>20.0</td>\n",
       "      <td>0.0</td>\n",
       "      <td>0.0</td>\n",
       "      <td>1.0</td>\n",
       "    </tr>\n",
       "  </tbody>\n",
       "</table>\n",
       "<p>384 rows × 25 columns</p>\n",
       "</div>"
      ]
     },
     "execution_count": 23,
     "metadata": {},
     "output_type": "execute_result"
    }
   ],
   "execution_count": 23
  },
  {
   "metadata": {
    "ExecuteTime": {
     "end_time": "2024-10-12T21:31:42.942308Z",
     "start_time": "2024-10-12T21:31:42.932631Z"
    }
   },
   "cell_type": "code",
   "source": "inters.head()",
   "id": "8f5f038c3b20fe14",
   "outputs": [
    {
     "data": {
      "text/plain": [
       "                                user_id  weight  item_id      pageId  \\\n",
       "0  5b08b2fc-0e71-11ee-86e0-002590c0647c       0       -1    89919732   \n",
       "1  1af7e04c-6cd1-11ef-9b7b-002590c82436       0       -1   851020872   \n",
       "2  d41cdad4-3b4c-11ef-86e0-002590c0647c       0       -1  1515288183   \n",
       "3  59b9d89a-1de2-11eb-86e0-002590c0647c       0       -1  1497267364   \n",
       "4  9c087566-8065-11ed-86e0-002590c0647c       0       -1  3039170152   \n",
       "\n",
       "             datetime  category_id title  day_of_week  price_diff  \\\n",
       "0 2024-09-07 05:11:00            0   NaN            5         0.0   \n",
       "1 2024-09-07 05:50:01            0   NaN            5         0.0   \n",
       "2 2024-09-07 07:37:02            0   NaN            5         0.0   \n",
       "3 2024-09-07 11:52:12            0   NaN            5         0.0   \n",
       "4 2024-09-07 12:14:30            0   NaN            5         0.0   \n",
       "\n",
       "   loc_user_count  ...  action_4_count  action_5_count  action_6_count  \\\n",
       "0             141  ...             0.0            27.0             2.0   \n",
       "1              91  ...             0.0            25.0             0.0   \n",
       "2              85  ...             0.0            14.0             0.0   \n",
       "3            8270  ...            44.0           694.0             1.0   \n",
       "4             182  ...             1.0            26.0             0.0   \n",
       "\n",
       "   action_7_count  action_8_count  action_9_count  delta_sec  delta_day  \\\n",
       "0             1.0             1.0             0.0       24.0        0.0   \n",
       "1             2.0             5.0             1.0        6.0        0.0   \n",
       "2             2.0             6.0             0.0        8.0        0.0   \n",
       "3           125.0          1729.0           112.0        3.0        0.0   \n",
       "4             3.0             8.0             0.0        9.0        0.0   \n",
       "\n",
       "   delta_hour  delta_min  \n",
       "0         0.0        1.0  \n",
       "1         0.0        1.0  \n",
       "2         0.0        1.0  \n",
       "3         0.0        0.0  \n",
       "4         0.0        0.0  \n",
       "\n",
       "[5 rows x 25 columns]"
      ],
      "text/html": [
       "<div>\n",
       "<style scoped>\n",
       "    .dataframe tbody tr th:only-of-type {\n",
       "        vertical-align: middle;\n",
       "    }\n",
       "\n",
       "    .dataframe tbody tr th {\n",
       "        vertical-align: top;\n",
       "    }\n",
       "\n",
       "    .dataframe thead th {\n",
       "        text-align: right;\n",
       "    }\n",
       "</style>\n",
       "<table border=\"1\" class=\"dataframe\">\n",
       "  <thead>\n",
       "    <tr style=\"text-align: right;\">\n",
       "      <th></th>\n",
       "      <th>user_id</th>\n",
       "      <th>weight</th>\n",
       "      <th>item_id</th>\n",
       "      <th>pageId</th>\n",
       "      <th>datetime</th>\n",
       "      <th>category_id</th>\n",
       "      <th>title</th>\n",
       "      <th>day_of_week</th>\n",
       "      <th>price_diff</th>\n",
       "      <th>loc_user_count</th>\n",
       "      <th>...</th>\n",
       "      <th>action_4_count</th>\n",
       "      <th>action_5_count</th>\n",
       "      <th>action_6_count</th>\n",
       "      <th>action_7_count</th>\n",
       "      <th>action_8_count</th>\n",
       "      <th>action_9_count</th>\n",
       "      <th>delta_sec</th>\n",
       "      <th>delta_day</th>\n",
       "      <th>delta_hour</th>\n",
       "      <th>delta_min</th>\n",
       "    </tr>\n",
       "  </thead>\n",
       "  <tbody>\n",
       "    <tr>\n",
       "      <th>0</th>\n",
       "      <td>5b08b2fc-0e71-11ee-86e0-002590c0647c</td>\n",
       "      <td>0</td>\n",
       "      <td>-1</td>\n",
       "      <td>89919732</td>\n",
       "      <td>2024-09-07 05:11:00</td>\n",
       "      <td>0</td>\n",
       "      <td>NaN</td>\n",
       "      <td>5</td>\n",
       "      <td>0.0</td>\n",
       "      <td>141</td>\n",
       "      <td>...</td>\n",
       "      <td>0.0</td>\n",
       "      <td>27.0</td>\n",
       "      <td>2.0</td>\n",
       "      <td>1.0</td>\n",
       "      <td>1.0</td>\n",
       "      <td>0.0</td>\n",
       "      <td>24.0</td>\n",
       "      <td>0.0</td>\n",
       "      <td>0.0</td>\n",
       "      <td>1.0</td>\n",
       "    </tr>\n",
       "    <tr>\n",
       "      <th>1</th>\n",
       "      <td>1af7e04c-6cd1-11ef-9b7b-002590c82436</td>\n",
       "      <td>0</td>\n",
       "      <td>-1</td>\n",
       "      <td>851020872</td>\n",
       "      <td>2024-09-07 05:50:01</td>\n",
       "      <td>0</td>\n",
       "      <td>NaN</td>\n",
       "      <td>5</td>\n",
       "      <td>0.0</td>\n",
       "      <td>91</td>\n",
       "      <td>...</td>\n",
       "      <td>0.0</td>\n",
       "      <td>25.0</td>\n",
       "      <td>0.0</td>\n",
       "      <td>2.0</td>\n",
       "      <td>5.0</td>\n",
       "      <td>1.0</td>\n",
       "      <td>6.0</td>\n",
       "      <td>0.0</td>\n",
       "      <td>0.0</td>\n",
       "      <td>1.0</td>\n",
       "    </tr>\n",
       "    <tr>\n",
       "      <th>2</th>\n",
       "      <td>d41cdad4-3b4c-11ef-86e0-002590c0647c</td>\n",
       "      <td>0</td>\n",
       "      <td>-1</td>\n",
       "      <td>1515288183</td>\n",
       "      <td>2024-09-07 07:37:02</td>\n",
       "      <td>0</td>\n",
       "      <td>NaN</td>\n",
       "      <td>5</td>\n",
       "      <td>0.0</td>\n",
       "      <td>85</td>\n",
       "      <td>...</td>\n",
       "      <td>0.0</td>\n",
       "      <td>14.0</td>\n",
       "      <td>0.0</td>\n",
       "      <td>2.0</td>\n",
       "      <td>6.0</td>\n",
       "      <td>0.0</td>\n",
       "      <td>8.0</td>\n",
       "      <td>0.0</td>\n",
       "      <td>0.0</td>\n",
       "      <td>1.0</td>\n",
       "    </tr>\n",
       "    <tr>\n",
       "      <th>3</th>\n",
       "      <td>59b9d89a-1de2-11eb-86e0-002590c0647c</td>\n",
       "      <td>0</td>\n",
       "      <td>-1</td>\n",
       "      <td>1497267364</td>\n",
       "      <td>2024-09-07 11:52:12</td>\n",
       "      <td>0</td>\n",
       "      <td>NaN</td>\n",
       "      <td>5</td>\n",
       "      <td>0.0</td>\n",
       "      <td>8270</td>\n",
       "      <td>...</td>\n",
       "      <td>44.0</td>\n",
       "      <td>694.0</td>\n",
       "      <td>1.0</td>\n",
       "      <td>125.0</td>\n",
       "      <td>1729.0</td>\n",
       "      <td>112.0</td>\n",
       "      <td>3.0</td>\n",
       "      <td>0.0</td>\n",
       "      <td>0.0</td>\n",
       "      <td>0.0</td>\n",
       "    </tr>\n",
       "    <tr>\n",
       "      <th>4</th>\n",
       "      <td>9c087566-8065-11ed-86e0-002590c0647c</td>\n",
       "      <td>0</td>\n",
       "      <td>-1</td>\n",
       "      <td>3039170152</td>\n",
       "      <td>2024-09-07 12:14:30</td>\n",
       "      <td>0</td>\n",
       "      <td>NaN</td>\n",
       "      <td>5</td>\n",
       "      <td>0.0</td>\n",
       "      <td>182</td>\n",
       "      <td>...</td>\n",
       "      <td>1.0</td>\n",
       "      <td>26.0</td>\n",
       "      <td>0.0</td>\n",
       "      <td>3.0</td>\n",
       "      <td>8.0</td>\n",
       "      <td>0.0</td>\n",
       "      <td>9.0</td>\n",
       "      <td>0.0</td>\n",
       "      <td>0.0</td>\n",
       "      <td>0.0</td>\n",
       "    </tr>\n",
       "  </tbody>\n",
       "</table>\n",
       "<p>5 rows × 25 columns</p>\n",
       "</div>"
      ]
     },
     "execution_count": 24,
     "metadata": {},
     "output_type": "execute_result"
    }
   ],
   "execution_count": 24
  },
  {
   "metadata": {
    "ExecuteTime": {
     "end_time": "2024-10-12T21:31:43.040367Z",
     "start_time": "2024-10-12T21:31:43.038533Z"
    }
   },
   "cell_type": "code",
   "source": "",
   "id": "c31fe5ba397faa76",
   "outputs": [],
   "execution_count": null
  },
  {
   "metadata": {},
   "cell_type": "markdown",
   "source": "#### Тренировка модели для распознования ключевого события",
   "id": "71b58e8af56b9ae3"
  },
  {
   "metadata": {
    "ExecuteTime": {
     "end_time": "2024-10-12T21:31:43.729240Z",
     "start_time": "2024-10-12T21:31:43.300260Z"
    }
   },
   "cell_type": "code",
   "source": "inters[((inters.weight == 1) | (inters.weight == 4)) & (inters.user_id == '0038911e-79a3-11ef-9b7b-002590c82436')].sort_values(by=['user_id', 'pageId', 'item_id'])",
   "id": "6705e17e173899f1",
   "outputs": [
    {
     "data": {
      "text/plain": [
       "                                      user_id  weight  item_id      pageId  \\\n",
       "3522281  0038911e-79a3-11ef-9b7b-002590c82436       1       -1  1015778690   \n",
       "3337690  0038911e-79a3-11ef-9b7b-002590c82436       1       -1   125129932   \n",
       "3138513  0038911e-79a3-11ef-9b7b-002590c82436       1       -1  1281889168   \n",
       "3338009  0038911e-79a3-11ef-9b7b-002590c82436       1       -1  1326997590   \n",
       "3338048  0038911e-79a3-11ef-9b7b-002590c82436       1       -1  1326997590   \n",
       "...                                       ...     ...      ...         ...   \n",
       "3539012  0038911e-79a3-11ef-9b7b-002590c82436       1       -1   996145740   \n",
       "3539032  0038911e-79a3-11ef-9b7b-002590c82436       1       -1   996145740   \n",
       "3539048  0038911e-79a3-11ef-9b7b-002590c82436       1       -1   996145740   \n",
       "3539063  0038911e-79a3-11ef-9b7b-002590c82436       1       -1   996145740   \n",
       "3539083  0038911e-79a3-11ef-9b7b-002590c82436       1       -1   996145740   \n",
       "\n",
       "                   datetime  category_id title  day_of_week  price_diff  \\\n",
       "3522281 2024-09-25 18:09:12            0   NaN            2         0.0   \n",
       "3337690 2024-09-24 18:18:04            0   NaN            1         0.0   \n",
       "3138513 2024-09-23 18:17:15            0   NaN            0         0.0   \n",
       "3338009 2024-09-24 18:20:22            0   NaN            1         0.0   \n",
       "3338048 2024-09-24 18:20:40            0   NaN            1         0.0   \n",
       "...                     ...          ...   ...          ...         ...   \n",
       "3539012 2024-09-25 19:43:20            0   NaN            2         0.0   \n",
       "3539032 2024-09-25 19:43:25            0   NaN            2         0.0   \n",
       "3539048 2024-09-25 19:43:31            0   NaN            2         0.0   \n",
       "3539063 2024-09-25 19:43:34            0   NaN            2         0.0   \n",
       "3539083 2024-09-25 19:43:39            0   NaN            2         0.0   \n",
       "\n",
       "         loc_user_count  ...  action_4_count  action_5_count  action_6_count  \\\n",
       "3522281             155  ...             3.0            22.0             0.0   \n",
       "3337690             155  ...             3.0            22.0             0.0   \n",
       "3138513             155  ...             3.0            22.0             0.0   \n",
       "3338009             155  ...             3.0            22.0             0.0   \n",
       "3338048             155  ...             3.0            22.0             0.0   \n",
       "...                 ...  ...             ...             ...             ...   \n",
       "3539012             155  ...             3.0            22.0             0.0   \n",
       "3539032             155  ...             3.0            22.0             0.0   \n",
       "3539048             155  ...             3.0            22.0             0.0   \n",
       "3539063             155  ...             3.0            22.0             0.0   \n",
       "3539083             155  ...             3.0            22.0             0.0   \n",
       "\n",
       "         action_7_count  action_8_count  action_9_count  delta_sec  delta_day  \\\n",
       "3522281             2.0            10.0             1.0    23166.0        0.0   \n",
       "3337690             2.0            10.0             1.0        2.0        0.0   \n",
       "3138513             2.0            10.0             1.0      149.0        0.0   \n",
       "3338009             2.0            10.0             1.0        0.0        0.0   \n",
       "3338048             2.0            10.0             1.0       18.0        0.0   \n",
       "...                 ...             ...             ...        ...        ...   \n",
       "3539012             2.0            10.0             1.0        1.0        0.0   \n",
       "3539032             2.0            10.0             1.0        4.0        0.0   \n",
       "3539048             2.0            10.0             1.0        6.0        0.0   \n",
       "3539063             2.0            10.0             1.0        3.0        0.0   \n",
       "3539083             2.0            10.0             1.0        4.0        0.0   \n",
       "\n",
       "         delta_hour  delta_min  \n",
       "3522281         7.0      -34.0  \n",
       "3337690         0.0        0.0  \n",
       "3138513         0.0        3.0  \n",
       "3338009         0.0        0.0  \n",
       "3338048         0.0        0.0  \n",
       "...             ...        ...  \n",
       "3539012         0.0        0.0  \n",
       "3539032         0.0        0.0  \n",
       "3539048         0.0        0.0  \n",
       "3539063         0.0        0.0  \n",
       "3539083         0.0        0.0  \n",
       "\n",
       "[94 rows x 25 columns]"
      ],
      "text/html": [
       "<div>\n",
       "<style scoped>\n",
       "    .dataframe tbody tr th:only-of-type {\n",
       "        vertical-align: middle;\n",
       "    }\n",
       "\n",
       "    .dataframe tbody tr th {\n",
       "        vertical-align: top;\n",
       "    }\n",
       "\n",
       "    .dataframe thead th {\n",
       "        text-align: right;\n",
       "    }\n",
       "</style>\n",
       "<table border=\"1\" class=\"dataframe\">\n",
       "  <thead>\n",
       "    <tr style=\"text-align: right;\">\n",
       "      <th></th>\n",
       "      <th>user_id</th>\n",
       "      <th>weight</th>\n",
       "      <th>item_id</th>\n",
       "      <th>pageId</th>\n",
       "      <th>datetime</th>\n",
       "      <th>category_id</th>\n",
       "      <th>title</th>\n",
       "      <th>day_of_week</th>\n",
       "      <th>price_diff</th>\n",
       "      <th>loc_user_count</th>\n",
       "      <th>...</th>\n",
       "      <th>action_4_count</th>\n",
       "      <th>action_5_count</th>\n",
       "      <th>action_6_count</th>\n",
       "      <th>action_7_count</th>\n",
       "      <th>action_8_count</th>\n",
       "      <th>action_9_count</th>\n",
       "      <th>delta_sec</th>\n",
       "      <th>delta_day</th>\n",
       "      <th>delta_hour</th>\n",
       "      <th>delta_min</th>\n",
       "    </tr>\n",
       "  </thead>\n",
       "  <tbody>\n",
       "    <tr>\n",
       "      <th>3522281</th>\n",
       "      <td>0038911e-79a3-11ef-9b7b-002590c82436</td>\n",
       "      <td>1</td>\n",
       "      <td>-1</td>\n",
       "      <td>1015778690</td>\n",
       "      <td>2024-09-25 18:09:12</td>\n",
       "      <td>0</td>\n",
       "      <td>NaN</td>\n",
       "      <td>2</td>\n",
       "      <td>0.0</td>\n",
       "      <td>155</td>\n",
       "      <td>...</td>\n",
       "      <td>3.0</td>\n",
       "      <td>22.0</td>\n",
       "      <td>0.0</td>\n",
       "      <td>2.0</td>\n",
       "      <td>10.0</td>\n",
       "      <td>1.0</td>\n",
       "      <td>23166.0</td>\n",
       "      <td>0.0</td>\n",
       "      <td>7.0</td>\n",
       "      <td>-34.0</td>\n",
       "    </tr>\n",
       "    <tr>\n",
       "      <th>3337690</th>\n",
       "      <td>0038911e-79a3-11ef-9b7b-002590c82436</td>\n",
       "      <td>1</td>\n",
       "      <td>-1</td>\n",
       "      <td>125129932</td>\n",
       "      <td>2024-09-24 18:18:04</td>\n",
       "      <td>0</td>\n",
       "      <td>NaN</td>\n",
       "      <td>1</td>\n",
       "      <td>0.0</td>\n",
       "      <td>155</td>\n",
       "      <td>...</td>\n",
       "      <td>3.0</td>\n",
       "      <td>22.0</td>\n",
       "      <td>0.0</td>\n",
       "      <td>2.0</td>\n",
       "      <td>10.0</td>\n",
       "      <td>1.0</td>\n",
       "      <td>2.0</td>\n",
       "      <td>0.0</td>\n",
       "      <td>0.0</td>\n",
       "      <td>0.0</td>\n",
       "    </tr>\n",
       "    <tr>\n",
       "      <th>3138513</th>\n",
       "      <td>0038911e-79a3-11ef-9b7b-002590c82436</td>\n",
       "      <td>1</td>\n",
       "      <td>-1</td>\n",
       "      <td>1281889168</td>\n",
       "      <td>2024-09-23 18:17:15</td>\n",
       "      <td>0</td>\n",
       "      <td>NaN</td>\n",
       "      <td>0</td>\n",
       "      <td>0.0</td>\n",
       "      <td>155</td>\n",
       "      <td>...</td>\n",
       "      <td>3.0</td>\n",
       "      <td>22.0</td>\n",
       "      <td>0.0</td>\n",
       "      <td>2.0</td>\n",
       "      <td>10.0</td>\n",
       "      <td>1.0</td>\n",
       "      <td>149.0</td>\n",
       "      <td>0.0</td>\n",
       "      <td>0.0</td>\n",
       "      <td>3.0</td>\n",
       "    </tr>\n",
       "    <tr>\n",
       "      <th>3338009</th>\n",
       "      <td>0038911e-79a3-11ef-9b7b-002590c82436</td>\n",
       "      <td>1</td>\n",
       "      <td>-1</td>\n",
       "      <td>1326997590</td>\n",
       "      <td>2024-09-24 18:20:22</td>\n",
       "      <td>0</td>\n",
       "      <td>NaN</td>\n",
       "      <td>1</td>\n",
       "      <td>0.0</td>\n",
       "      <td>155</td>\n",
       "      <td>...</td>\n",
       "      <td>3.0</td>\n",
       "      <td>22.0</td>\n",
       "      <td>0.0</td>\n",
       "      <td>2.0</td>\n",
       "      <td>10.0</td>\n",
       "      <td>1.0</td>\n",
       "      <td>0.0</td>\n",
       "      <td>0.0</td>\n",
       "      <td>0.0</td>\n",
       "      <td>0.0</td>\n",
       "    </tr>\n",
       "    <tr>\n",
       "      <th>3338048</th>\n",
       "      <td>0038911e-79a3-11ef-9b7b-002590c82436</td>\n",
       "      <td>1</td>\n",
       "      <td>-1</td>\n",
       "      <td>1326997590</td>\n",
       "      <td>2024-09-24 18:20:40</td>\n",
       "      <td>0</td>\n",
       "      <td>NaN</td>\n",
       "      <td>1</td>\n",
       "      <td>0.0</td>\n",
       "      <td>155</td>\n",
       "      <td>...</td>\n",
       "      <td>3.0</td>\n",
       "      <td>22.0</td>\n",
       "      <td>0.0</td>\n",
       "      <td>2.0</td>\n",
       "      <td>10.0</td>\n",
       "      <td>1.0</td>\n",
       "      <td>18.0</td>\n",
       "      <td>0.0</td>\n",
       "      <td>0.0</td>\n",
       "      <td>0.0</td>\n",
       "    </tr>\n",
       "    <tr>\n",
       "      <th>...</th>\n",
       "      <td>...</td>\n",
       "      <td>...</td>\n",
       "      <td>...</td>\n",
       "      <td>...</td>\n",
       "      <td>...</td>\n",
       "      <td>...</td>\n",
       "      <td>...</td>\n",
       "      <td>...</td>\n",
       "      <td>...</td>\n",
       "      <td>...</td>\n",
       "      <td>...</td>\n",
       "      <td>...</td>\n",
       "      <td>...</td>\n",
       "      <td>...</td>\n",
       "      <td>...</td>\n",
       "      <td>...</td>\n",
       "      <td>...</td>\n",
       "      <td>...</td>\n",
       "      <td>...</td>\n",
       "      <td>...</td>\n",
       "      <td>...</td>\n",
       "    </tr>\n",
       "    <tr>\n",
       "      <th>3539012</th>\n",
       "      <td>0038911e-79a3-11ef-9b7b-002590c82436</td>\n",
       "      <td>1</td>\n",
       "      <td>-1</td>\n",
       "      <td>996145740</td>\n",
       "      <td>2024-09-25 19:43:20</td>\n",
       "      <td>0</td>\n",
       "      <td>NaN</td>\n",
       "      <td>2</td>\n",
       "      <td>0.0</td>\n",
       "      <td>155</td>\n",
       "      <td>...</td>\n",
       "      <td>3.0</td>\n",
       "      <td>22.0</td>\n",
       "      <td>0.0</td>\n",
       "      <td>2.0</td>\n",
       "      <td>10.0</td>\n",
       "      <td>1.0</td>\n",
       "      <td>1.0</td>\n",
       "      <td>0.0</td>\n",
       "      <td>0.0</td>\n",
       "      <td>0.0</td>\n",
       "    </tr>\n",
       "    <tr>\n",
       "      <th>3539032</th>\n",
       "      <td>0038911e-79a3-11ef-9b7b-002590c82436</td>\n",
       "      <td>1</td>\n",
       "      <td>-1</td>\n",
       "      <td>996145740</td>\n",
       "      <td>2024-09-25 19:43:25</td>\n",
       "      <td>0</td>\n",
       "      <td>NaN</td>\n",
       "      <td>2</td>\n",
       "      <td>0.0</td>\n",
       "      <td>155</td>\n",
       "      <td>...</td>\n",
       "      <td>3.0</td>\n",
       "      <td>22.0</td>\n",
       "      <td>0.0</td>\n",
       "      <td>2.0</td>\n",
       "      <td>10.0</td>\n",
       "      <td>1.0</td>\n",
       "      <td>4.0</td>\n",
       "      <td>0.0</td>\n",
       "      <td>0.0</td>\n",
       "      <td>0.0</td>\n",
       "    </tr>\n",
       "    <tr>\n",
       "      <th>3539048</th>\n",
       "      <td>0038911e-79a3-11ef-9b7b-002590c82436</td>\n",
       "      <td>1</td>\n",
       "      <td>-1</td>\n",
       "      <td>996145740</td>\n",
       "      <td>2024-09-25 19:43:31</td>\n",
       "      <td>0</td>\n",
       "      <td>NaN</td>\n",
       "      <td>2</td>\n",
       "      <td>0.0</td>\n",
       "      <td>155</td>\n",
       "      <td>...</td>\n",
       "      <td>3.0</td>\n",
       "      <td>22.0</td>\n",
       "      <td>0.0</td>\n",
       "      <td>2.0</td>\n",
       "      <td>10.0</td>\n",
       "      <td>1.0</td>\n",
       "      <td>6.0</td>\n",
       "      <td>0.0</td>\n",
       "      <td>0.0</td>\n",
       "      <td>0.0</td>\n",
       "    </tr>\n",
       "    <tr>\n",
       "      <th>3539063</th>\n",
       "      <td>0038911e-79a3-11ef-9b7b-002590c82436</td>\n",
       "      <td>1</td>\n",
       "      <td>-1</td>\n",
       "      <td>996145740</td>\n",
       "      <td>2024-09-25 19:43:34</td>\n",
       "      <td>0</td>\n",
       "      <td>NaN</td>\n",
       "      <td>2</td>\n",
       "      <td>0.0</td>\n",
       "      <td>155</td>\n",
       "      <td>...</td>\n",
       "      <td>3.0</td>\n",
       "      <td>22.0</td>\n",
       "      <td>0.0</td>\n",
       "      <td>2.0</td>\n",
       "      <td>10.0</td>\n",
       "      <td>1.0</td>\n",
       "      <td>3.0</td>\n",
       "      <td>0.0</td>\n",
       "      <td>0.0</td>\n",
       "      <td>0.0</td>\n",
       "    </tr>\n",
       "    <tr>\n",
       "      <th>3539083</th>\n",
       "      <td>0038911e-79a3-11ef-9b7b-002590c82436</td>\n",
       "      <td>1</td>\n",
       "      <td>-1</td>\n",
       "      <td>996145740</td>\n",
       "      <td>2024-09-25 19:43:39</td>\n",
       "      <td>0</td>\n",
       "      <td>NaN</td>\n",
       "      <td>2</td>\n",
       "      <td>0.0</td>\n",
       "      <td>155</td>\n",
       "      <td>...</td>\n",
       "      <td>3.0</td>\n",
       "      <td>22.0</td>\n",
       "      <td>0.0</td>\n",
       "      <td>2.0</td>\n",
       "      <td>10.0</td>\n",
       "      <td>1.0</td>\n",
       "      <td>4.0</td>\n",
       "      <td>0.0</td>\n",
       "      <td>0.0</td>\n",
       "      <td>0.0</td>\n",
       "    </tr>\n",
       "  </tbody>\n",
       "</table>\n",
       "<p>94 rows × 25 columns</p>\n",
       "</div>"
      ]
     },
     "execution_count": 25,
     "metadata": {},
     "output_type": "execute_result"
    }
   ],
   "execution_count": 25
  },
  {
   "metadata": {
    "ExecuteTime": {
     "end_time": "2024-10-12T22:43:19.256596Z",
     "start_time": "2024-10-12T22:43:17.674245Z"
    }
   },
   "cell_type": "code",
   "source": [
    "max_date = inters['datetime'].max()\n",
    "train_raw = inters[inters['datetime'] >= max_date - pd.Timedelta(days=22)].copy()\n",
    "train_raw = train_raw[train_raw['datetime'] <= max_date - pd.Timedelta(days=3)]\n",
    "test_raw = inters[inters['datetime'] > max_date - pd.Timedelta(days=3)].copy()"
   ],
   "id": "6133f4fbad1eeab6",
   "outputs": [],
   "execution_count": 483
  },
  {
   "metadata": {
    "ExecuteTime": {
     "end_time": "2024-10-12T22:43:23.573876Z",
     "start_time": "2024-10-12T22:43:23.572114Z"
    }
   },
   "cell_type": "code",
   "source": "",
   "id": "d7459139756b00da",
   "outputs": [],
   "execution_count": null
  },
  {
   "metadata": {
    "ExecuteTime": {
     "end_time": "2024-10-12T22:43:23.933925Z",
     "start_time": "2024-10-12T22:43:23.581331Z"
    }
   },
   "cell_type": "code",
   "source": [
    "train = train_raw.drop(columns=['datetime', 'item_id', 'pageId'])\n",
    "test = test_raw.drop(columns=['datetime', 'item_id', 'pageId'])"
   ],
   "id": "e8dcaf82a3c57b1b",
   "outputs": [],
   "execution_count": 484
  },
  {
   "metadata": {
    "ExecuteTime": {
     "end_time": "2024-10-12T22:43:28.953659Z",
     "start_time": "2024-10-12T22:43:28.923081Z"
    }
   },
   "cell_type": "code",
   "source": "test.sample()",
   "id": "f10f0ad22d9d7654",
   "outputs": [
    {
     "data": {
      "text/plain": [
       "                                      user_id  weight  category_id title  \\\n",
       "3812310  11d295d6-9414-11ec-86e0-002590c0647c       1            0   NaN   \n",
       "\n",
       "         day_of_week  price_diff  loc_user_count  category_id_count  \\\n",
       "3812310            4         0.0              41                 41   \n",
       "\n",
       "         action_0_count  action_1_count  ...  action_4_count  action_5_count  \\\n",
       "3812310             0.0            35.0  ...             0.0             2.0   \n",
       "\n",
       "         action_6_count  action_7_count  action_8_count  action_9_count  \\\n",
       "3812310             0.0             1.0             0.0             0.0   \n",
       "\n",
       "         delta_sec  delta_day  delta_hour  delta_min  \n",
       "3812310        1.0        0.0         0.0        0.0  \n",
       "\n",
       "[1 rows x 22 columns]"
      ],
      "text/html": [
       "<div>\n",
       "<style scoped>\n",
       "    .dataframe tbody tr th:only-of-type {\n",
       "        vertical-align: middle;\n",
       "    }\n",
       "\n",
       "    .dataframe tbody tr th {\n",
       "        vertical-align: top;\n",
       "    }\n",
       "\n",
       "    .dataframe thead th {\n",
       "        text-align: right;\n",
       "    }\n",
       "</style>\n",
       "<table border=\"1\" class=\"dataframe\">\n",
       "  <thead>\n",
       "    <tr style=\"text-align: right;\">\n",
       "      <th></th>\n",
       "      <th>user_id</th>\n",
       "      <th>weight</th>\n",
       "      <th>category_id</th>\n",
       "      <th>title</th>\n",
       "      <th>day_of_week</th>\n",
       "      <th>price_diff</th>\n",
       "      <th>loc_user_count</th>\n",
       "      <th>category_id_count</th>\n",
       "      <th>action_0_count</th>\n",
       "      <th>action_1_count</th>\n",
       "      <th>...</th>\n",
       "      <th>action_4_count</th>\n",
       "      <th>action_5_count</th>\n",
       "      <th>action_6_count</th>\n",
       "      <th>action_7_count</th>\n",
       "      <th>action_8_count</th>\n",
       "      <th>action_9_count</th>\n",
       "      <th>delta_sec</th>\n",
       "      <th>delta_day</th>\n",
       "      <th>delta_hour</th>\n",
       "      <th>delta_min</th>\n",
       "    </tr>\n",
       "  </thead>\n",
       "  <tbody>\n",
       "    <tr>\n",
       "      <th>3812310</th>\n",
       "      <td>11d295d6-9414-11ec-86e0-002590c0647c</td>\n",
       "      <td>1</td>\n",
       "      <td>0</td>\n",
       "      <td>NaN</td>\n",
       "      <td>4</td>\n",
       "      <td>0.0</td>\n",
       "      <td>41</td>\n",
       "      <td>41</td>\n",
       "      <td>0.0</td>\n",
       "      <td>35.0</td>\n",
       "      <td>...</td>\n",
       "      <td>0.0</td>\n",
       "      <td>2.0</td>\n",
       "      <td>0.0</td>\n",
       "      <td>1.0</td>\n",
       "      <td>0.0</td>\n",
       "      <td>0.0</td>\n",
       "      <td>1.0</td>\n",
       "      <td>0.0</td>\n",
       "      <td>0.0</td>\n",
       "      <td>0.0</td>\n",
       "    </tr>\n",
       "  </tbody>\n",
       "</table>\n",
       "<p>1 rows × 22 columns</p>\n",
       "</div>"
      ]
     },
     "execution_count": 485,
     "metadata": {},
     "output_type": "execute_result"
    }
   ],
   "execution_count": 485
  },
  {
   "metadata": {
    "ExecuteTime": {
     "end_time": "2024-10-12T22:43:33.237363Z",
     "start_time": "2024-10-12T22:43:33.234937Z"
    }
   },
   "cell_type": "code",
   "source": "train.shape, test.shape",
   "id": "722b5abb87e64ce5",
   "outputs": [
    {
     "data": {
      "text/plain": [
       "((5796546, 22), (1062417, 22))"
      ]
     },
     "execution_count": 486,
     "metadata": {},
     "output_type": "execute_result"
    }
   ],
   "execution_count": 486
  },
  {
   "metadata": {},
   "cell_type": "markdown",
   "source": "### Классы не сбалансированы",
   "id": "88f18be740972951"
  },
  {
   "metadata": {
    "ExecuteTime": {
     "end_time": "2024-10-12T22:43:33.371875Z",
     "start_time": "2024-10-12T22:43:33.348188Z"
    }
   },
   "cell_type": "code",
   "source": "train.weight.value_counts()",
   "id": "d13fdeea693ba952",
   "outputs": [
    {
     "data": {
      "text/plain": [
       "weight\n",
       "1    3554985\n",
       "2     876035\n",
       "5     875680\n",
       "8     314936\n",
       "3      69354\n",
       "7      44249\n",
       "6      26346\n",
       "4      24150\n",
       "9      10478\n",
       "0        333\n",
       "Name: count, dtype: int64"
      ]
     },
     "execution_count": 487,
     "metadata": {},
     "output_type": "execute_result"
    }
   ],
   "execution_count": 487
  },
  {
   "metadata": {
    "ExecuteTime": {
     "end_time": "2024-10-12T22:43:33.450925Z",
     "start_time": "2024-10-12T22:43:33.449628Z"
    }
   },
   "cell_type": "code",
   "source": "",
   "id": "c8169b110162b331",
   "outputs": [],
   "execution_count": null
  },
  {
   "metadata": {},
   "cell_type": "markdown",
   "source": "### Кооректируем баланс классов",
   "id": "bde8dde057ea75de"
  },
  {
   "metadata": {
    "ExecuteTime": {
     "end_time": "2024-10-12T22:43:33.656414Z",
     "start_time": "2024-10-12T22:43:33.511032Z"
    }
   },
   "cell_type": "code",
   "source": [
    "train = train[train.weight.isin([0, 4, 3, 6, 7, 9])].drop_duplicates()\n",
    "train.shape"
   ],
   "id": "82dc937792de5",
   "outputs": [
    {
     "data": {
      "text/plain": [
       "(131821, 22)"
      ]
     },
     "execution_count": 488,
     "metadata": {},
     "output_type": "execute_result"
    }
   ],
   "execution_count": 488
  },
  {
   "metadata": {
    "ExecuteTime": {
     "end_time": "2024-10-12T22:44:01.794887Z",
     "start_time": "2024-10-12T22:44:01.612733Z"
    }
   },
   "cell_type": "code",
   "source": [
    "train_portion = pd.concat(\n",
    "    [\n",
    "        train[train.weight.isin([0, 1, 3, 6, 7, 9])],\n",
    "        train_raw.sample(131821)],\n",
    "    axis='rows'\n",
    ")"
   ],
   "id": "2d10066311257c1c",
   "outputs": [],
   "execution_count": 494
  },
  {
   "metadata": {
    "ExecuteTime": {
     "end_time": "2024-10-12T22:44:05.675418Z",
     "start_time": "2024-10-12T22:44:05.672341Z"
    }
   },
   "cell_type": "code",
   "source": "train_portion.weight.unique()",
   "id": "ad2e701c4dbea219",
   "outputs": [
    {
     "data": {
      "text/plain": [
       "array([0, 3, 6, 7, 9, 1, 8, 2, 5, 4])"
      ]
     },
     "execution_count": 495,
     "metadata": {},
     "output_type": "execute_result"
    }
   ],
   "execution_count": 495
  },
  {
   "metadata": {
    "ExecuteTime": {
     "end_time": "2024-10-12T22:44:05.706624Z",
     "start_time": "2024-10-12T22:44:05.703973Z"
    }
   },
   "cell_type": "code",
   "source": "",
   "id": "107e032de0d208b5",
   "outputs": [],
   "execution_count": null
  },
  {
   "metadata": {
    "ExecuteTime": {
     "end_time": "2024-10-12T22:44:08.770997Z",
     "start_time": "2024-10-12T22:44:08.748730Z"
    }
   },
   "cell_type": "code",
   "source": [
    "h2o.init(verbose=False)\n",
    "print(f'{h2o.cluster().show_status()}')\n",
    "h2o.no_progress()"
   ],
   "id": "8bfde335c2f8ef6f",
   "outputs": [
    {
     "data": {
      "text/plain": [
       "--------------------------  -----------------------------\n",
       "H2O_cluster_uptime:         1 hour 11 mins\n",
       "H2O_cluster_timezone:       Europe/Moscow\n",
       "H2O_data_parsing_timezone:  UTC\n",
       "H2O_cluster_version:        3.46.0.5\n",
       "H2O_cluster_version_age:    1 month and 13 days\n",
       "H2O_cluster_name:           H2O_from_python_varsey_9q0qpv\n",
       "H2O_cluster_total_nodes:    1\n",
       "H2O_cluster_free_memory:    6.685 Gb\n",
       "H2O_cluster_total_cores:    20\n",
       "H2O_cluster_allowed_cores:  20\n",
       "H2O_cluster_status:         locked, healthy\n",
       "H2O_connection_url:         http://localhost:54321\n",
       "H2O_connection_proxy:       {\"http\": null, \"https\": null}\n",
       "H2O_internal_security:      False\n",
       "Python_version:             3.11.10 final\n",
       "--------------------------  -----------------------------"
      ],
      "text/html": [
       "\n",
       "<style>\n",
       "\n",
       "#h2o-table-10.h2o-container {\n",
       "  overflow-x: auto;\n",
       "}\n",
       "#h2o-table-10 .h2o-table {\n",
       "  /* width: 100%; */\n",
       "  margin-top: 1em;\n",
       "  margin-bottom: 1em;\n",
       "}\n",
       "#h2o-table-10 .h2o-table caption {\n",
       "  white-space: nowrap;\n",
       "  caption-side: top;\n",
       "  text-align: left;\n",
       "  /* margin-left: 1em; */\n",
       "  margin: 0;\n",
       "  font-size: larger;\n",
       "}\n",
       "#h2o-table-10 .h2o-table thead {\n",
       "  white-space: nowrap; \n",
       "  position: sticky;\n",
       "  top: 0;\n",
       "  box-shadow: 0 -1px inset;\n",
       "}\n",
       "#h2o-table-10 .h2o-table tbody {\n",
       "  overflow: auto;\n",
       "}\n",
       "#h2o-table-10 .h2o-table th,\n",
       "#h2o-table-10 .h2o-table td {\n",
       "  text-align: right;\n",
       "  /* border: 1px solid; */\n",
       "}\n",
       "#h2o-table-10 .h2o-table tr:nth-child(even) {\n",
       "  /* background: #F5F5F5 */\n",
       "}\n",
       "\n",
       "</style>      \n",
       "<div id=\"h2o-table-10\" class=\"h2o-container\">\n",
       "  <table class=\"h2o-table\">\n",
       "    <caption></caption>\n",
       "    <thead></thead>\n",
       "    <tbody><tr><td>H2O_cluster_uptime:</td>\n",
       "<td>1 hour 11 mins</td></tr>\n",
       "<tr><td>H2O_cluster_timezone:</td>\n",
       "<td>Europe/Moscow</td></tr>\n",
       "<tr><td>H2O_data_parsing_timezone:</td>\n",
       "<td>UTC</td></tr>\n",
       "<tr><td>H2O_cluster_version:</td>\n",
       "<td>3.46.0.5</td></tr>\n",
       "<tr><td>H2O_cluster_version_age:</td>\n",
       "<td>1 month and 13 days</td></tr>\n",
       "<tr><td>H2O_cluster_name:</td>\n",
       "<td>H2O_from_python_varsey_9q0qpv</td></tr>\n",
       "<tr><td>H2O_cluster_total_nodes:</td>\n",
       "<td>1</td></tr>\n",
       "<tr><td>H2O_cluster_free_memory:</td>\n",
       "<td>6.685 Gb</td></tr>\n",
       "<tr><td>H2O_cluster_total_cores:</td>\n",
       "<td>20</td></tr>\n",
       "<tr><td>H2O_cluster_allowed_cores:</td>\n",
       "<td>20</td></tr>\n",
       "<tr><td>H2O_cluster_status:</td>\n",
       "<td>locked, healthy</td></tr>\n",
       "<tr><td>H2O_connection_url:</td>\n",
       "<td>http://localhost:54321</td></tr>\n",
       "<tr><td>H2O_connection_proxy:</td>\n",
       "<td>{\"http\": null, \"https\": null}</td></tr>\n",
       "<tr><td>H2O_internal_security:</td>\n",
       "<td>False</td></tr>\n",
       "<tr><td>Python_version:</td>\n",
       "<td>3.11.10 final</td></tr></tbody>\n",
       "  </table>\n",
       "</div>\n"
      ]
     },
     "metadata": {},
     "output_type": "display_data"
    },
    {
     "name": "stdout",
     "output_type": "stream",
     "text": [
      "None\n"
     ]
    }
   ],
   "execution_count": 496
  },
  {
   "metadata": {
    "ExecuteTime": {
     "end_time": "2024-10-12T22:44:11.891190Z",
     "start_time": "2024-10-12T22:44:11.888640Z"
    }
   },
   "cell_type": "code",
   "source": "test.shape",
   "id": "aa662d63daf2097d",
   "outputs": [
    {
     "data": {
      "text/plain": [
       "(1062417, 22)"
      ]
     },
     "execution_count": 497,
     "metadata": {},
     "output_type": "execute_result"
    }
   ],
   "execution_count": 497
  },
  {
   "metadata": {
    "ExecuteTime": {
     "end_time": "2024-10-12T22:44:18.160630Z",
     "start_time": "2024-10-12T22:44:14.902281Z"
    }
   },
   "cell_type": "code",
   "source": [
    "train_h2o = h2o.H2OFrame(train_portion)\n",
    "test_h2o = h2o.H2OFrame(test.sample(40_000))"
   ],
   "id": "40e3b6f6a7f48db9",
   "outputs": [],
   "execution_count": 498
  },
  {
   "metadata": {
    "ExecuteTime": {
     "end_time": "2024-10-12T22:44:26.282963Z",
     "start_time": "2024-10-12T22:44:26.276686Z"
    }
   },
   "cell_type": "code",
   "source": [
    "y = \"weight\"\n",
    "x = set(train_h2o.names) - set([y, 'user_id', 'shop_id', 'day', 'hour', 'pageId', 'datetime', 'item_id', 'is_useful', 'title'])\n",
    "x"
   ],
   "id": "c73df6245888fc01",
   "outputs": [
    {
     "data": {
      "text/plain": [
       "{'action_0_count',\n",
       " 'action_1_count',\n",
       " 'action_2_count',\n",
       " 'action_3_count',\n",
       " 'action_4_count',\n",
       " 'action_5_count',\n",
       " 'action_6_count',\n",
       " 'action_7_count',\n",
       " 'action_8_count',\n",
       " 'action_9_count',\n",
       " 'category_id',\n",
       " 'category_id_count',\n",
       " 'day_of_week',\n",
       " 'delta_day',\n",
       " 'delta_hour',\n",
       " 'delta_min',\n",
       " 'delta_sec',\n",
       " 'loc_user_count',\n",
       " 'price_diff'}"
      ]
     },
     "execution_count": 499,
     "metadata": {},
     "output_type": "execute_result"
    }
   ],
   "execution_count": 499
  },
  {
   "metadata": {
    "ExecuteTime": {
     "end_time": "2024-10-12T22:44:30.101577Z",
     "start_time": "2024-10-12T22:44:30.092462Z"
    }
   },
   "cell_type": "code",
   "source": [
    "train_h2o[y] = train_h2o[y].asfactor()\n",
    "test_h2o[y] = test_h2o[y].asfactor()"
   ],
   "id": "7fa7d7231c5b1a55",
   "outputs": [],
   "execution_count": 500
  },
  {
   "metadata": {
    "ExecuteTime": {
     "end_time": "2024-10-12T22:44:30.114293Z",
     "start_time": "2024-10-12T22:44:30.111257Z"
    }
   },
   "cell_type": "code",
   "source": [
    "train_h2o['category_id'] = train_h2o['category_id'].asfactor()\n",
    "test_h2o['category_id'] = test_h2o['category_id'].asfactor()"
   ],
   "id": "632976a09523b6a5",
   "outputs": [],
   "execution_count": 501
  },
  {
   "metadata": {},
   "cell_type": "markdown",
   "source": "### для снижения уровня рутины и фокусировки на цели - качесвтенных предсказаниях - используем automl",
   "id": "9339c35bb05f3d21"
  },
  {
   "metadata": {
    "ExecuteTime": {
     "end_time": "2024-10-12T22:44:56.633076Z",
     "start_time": "2024-10-12T22:44:33.877145Z"
    }
   },
   "cell_type": "code",
   "source": [
    "gbm_model = H2OGradientBoostingEstimator(seed=1234)\n",
    "gbm_model.train(x=list(x), y=y, training_frame = train_h2o,  validation_frame = test_h2o, max_runtime_secs=120)"
   ],
   "id": "3be5fd2b53fb9838",
   "outputs": [
    {
     "data": {
      "text/plain": [
       "Model Details\n",
       "=============\n",
       "H2OGradientBoostingEstimator : Gradient Boosting Machine\n",
       "Model Key: GBM_model_python_1728768742217_2\n",
       "\n",
       "\n",
       "Model Summary: \n",
       "    number_of_trees    number_of_internal_trees    model_size_in_bytes    min_depth    max_depth    mean_depth    min_leaves    max_leaves    mean_leaves\n",
       "--  -----------------  --------------------------  ---------------------  -----------  -----------  ------------  ------------  ------------  -------------\n",
       "    50                 500                         261247                 5            5            5             10            32            31.216\n",
       "\n",
       "ModelMetricsMultinomial: gbm\n",
       "** Reported on train data. **\n",
       "\n",
       "MSE: 0.23646242943793352\n",
       "RMSE: 0.486274027106048\n",
       "LogLoss: 0.70122898769545\n",
       "Mean Per-Class Error: 0.5089925975776495\n",
       "AUC table was not computed: it is either disabled (model parameter 'auc_type' was set to AUTO or NONE) or the domain size exceeds the limit (maximum is 50 domains).\n",
       "AUCPR table was not computed: it is either disabled (model parameter 'auc_type' was set to AUTO or NONE) or the domain size exceeds the limit (maximum is 50 domains).\n",
       "\n",
       "Confusion Matrix: Row labels: Actual class; Column labels: Predicted class\n",
       "0    1       2    3      4    5      6      7      8     9     Error     Rate\n",
       "---  ------  ---  -----  ---  -----  -----  -----  ----  ----  --------  ----------------\n",
       "87   214     0    38     0    0      0      1      0     0     0.744118  253 / 340\n",
       "28   72532   142  7793   0    0      171    19     2     0     0.10107   8,155 / 80,687\n",
       "3    16599   312  3029   0    0      11     0      2     0     0.984366  19,644 / 19,956\n",
       "6    4861    0    26308  0    0      24     1      0     0     0.156795  4,892 / 31,200\n",
       "0    34      0    6      7    31     49     329    60    30    0.987179  539 / 546\n",
       "0    1338    0    194    0    12247  1450   3825   299   688   0.388903  7,794 / 20,041\n",
       "1    1834    0    200    0    179    20669  3380   120   119   0.220097  5,833 / 26,502\n",
       "0    2303    0    242    0    292    4040   36030  277   1154  0.187379  8,308 / 44,338\n",
       "0    424     0    80     3    340    546    3448   1630  700   0.772696  5,541 / 7,171\n",
       "0    444     0    68     0    194    744    3753   117   4400  0.547325  5,320 / 9,720\n",
       "125  100583  454  37958  10   13283  27704  50786  2507  7091  0.275587  66,279 / 240,501\n",
       "\n",
       "Top-10 Hit Ratios: \n",
       "k    hit_ratio\n",
       "---  -----------\n",
       "1    0.724413\n",
       "2    0.915339\n",
       "3    0.972266\n",
       "4    0.990116\n",
       "5    0.996748\n",
       "6    0.998778\n",
       "7    0.999696\n",
       "8    0.999954\n",
       "9    0.999996\n",
       "10   1\n",
       "\n",
       "ModelMetricsMultinomial: gbm\n",
       "** Reported on validation data. **\n",
       "\n",
       "MSE: 0.25337396837868303\n",
       "RMSE: 0.503362660890419\n",
       "LogLoss: 0.767996528282714\n",
       "Mean Per-Class Error: 0.5647296285161826\n",
       "AUC table was not computed: it is either disabled (model parameter 'auc_type' was set to AUTO or NONE) or the domain size exceeds the limit (maximum is 50 domains).\n",
       "AUCPR table was not computed: it is either disabled (model parameter 'auc_type' was set to AUTO or NONE) or the domain size exceeds the limit (maximum is 50 domains).\n",
       "\n",
       "Confusion Matrix: Row labels: Actual class; Column labels: Predicted class\n",
       "0    1      2    3     4    5     6     7     8    9    Error     Rate\n",
       "---  -----  ---  ----  ---  ----  ----  ----  ---  ---  --------  ---------------\n",
       "0    1      0    1     0    0     0     0     0    0    1         2 / 2\n",
       "11   22515  40   2115  0    0     92    5     0    0    0.091331  2,263 / 24,778\n",
       "1    5198   75   858   0    0     5     0     0    0    0.987779  6,062 / 6,137\n",
       "0    59     0    399   0    0     0     0     0    0    0.128821  59 / 458\n",
       "0    6      0    3     0    2     18    61    12   5    1         107 / 107\n",
       "0    781    1    90    0    3712  507   993   54   166  0.411168  2,592 / 6,304\n",
       "0    102    0    1     0    1     191   27    2    1    0.412308  134 / 325\n",
       "0    11     0    1     0    0     23    165   0    4    0.191176  39 / 204\n",
       "0    73     0    13    0    125   199   797   315  116  0.807692  1,323 / 1,638\n",
       "0    1      0    0     0    5     4     18    1    18   0.617021  29 / 47\n",
       "12   28747  116  3481  0    3845  1039  2066  384  310  0.31525   12,610 / 40,000\n",
       "\n",
       "Top-10 Hit Ratios: \n",
       "k    hit_ratio\n",
       "---  -----------\n",
       "1    0.68475\n",
       "2    0.89935\n",
       "3    0.9671\n",
       "4    0.98735\n",
       "5    0.994825\n",
       "6    0.9981\n",
       "7    0.999425\n",
       "8    0.99985\n",
       "9    1\n",
       "10   1\n",
       "\n",
       "Scoring History: \n",
       "    timestamp            duration    number_of_trees    training_rmse    training_logloss    training_classification_error    training_auc    training_pr_auc    validation_rmse    validation_logloss    validation_classification_error    validation_auc    validation_pr_auc\n",
       "--  -------------------  ----------  -----------------  ---------------  ------------------  -------------------------------  --------------  -----------------  -----------------  --------------------  ---------------------------------  ----------------  -------------------\n",
       "    2024-10-13 01:44:34  0.086 sec   0                  0.9              2.30259             0.811938                         nan             nan                0.9                2.30259               0.751075                           nan               nan\n",
       "    2024-10-13 01:44:34  0.674 sec   1                  0.843195         1.88147             0.318082                         nan             nan                0.841463           1.87634               0.350375                           nan               nan\n",
       "    2024-10-13 01:44:35  1.136 sec   2                  0.79863          1.65765             0.31577                          nan             nan                0.796582           1.65928               0.350125                           nan               nan\n",
       "    2024-10-13 01:44:36  1.704 sec   3                  0.760327         1.50214             0.315475                         nan             nan                0.758363           1.51045               0.347825                           nan               nan\n",
       "    2024-10-13 01:44:36  2.175 sec   4                  0.726925         1.38437             0.312672                         nan             nan                0.725389           1.39896               0.345675                           nan               nan\n",
       "    2024-10-13 01:44:37  2.734 sec   5                  0.69801          1.29244             0.31083                          nan             nan                0.697091           1.31269               0.335675                           nan               nan\n",
       "    2024-10-13 01:44:37  3.260 sec   6                  0.67301          1.21818             0.309816                         nan             nan                0.672906           1.24368               0.334775                           nan               nan\n",
       "    2024-10-13 01:44:37  3.682 sec   7                  0.650996         1.15455             0.308934                         nan             nan                0.651759           1.18367               0.33405                            nan               nan\n",
       "    2024-10-13 01:44:42  7.955 sec   19                 0.535201         0.841409            0.302485                         nan             nan                0.54324            0.8878                0.33235                            nan               nan\n",
       "    2024-10-13 01:44:49  15.199 sec  36                 0.503093         0.748829            0.295126                         nan             nan                0.514379           0.802145              0.324125                           nan               nan\n",
       "    2024-10-13 01:44:55  21.273 sec  50                 0.486274         0.701229            0.275587                         nan             nan                0.503363           0.767997              0.31525                            nan               nan\n",
       "\n",
       "Variable Importances: \n",
       "variable           relative_importance    scaled_importance    percentage\n",
       "-----------------  ---------------------  -------------------  ------------\n",
       "category_id        191438                 1                    0.452416\n",
       "action_6_count     58093.5                0.303458             0.137289\n",
       "action_3_count     48084.4                0.251174             0.113635\n",
       "action_7_count     43824.9                0.228924             0.103569\n",
       "action_1_count     20392.7                0.106523             0.0481929\n",
       "delta_min          15047.1                0.0786005            0.0355601\n",
       "delta_sec          13541.8                0.070737             0.0320025\n",
       "action_9_count     8468.16                0.0442344            0.0200123\n",
       "action_8_count     7870.4                 0.0411119            0.0185997\n",
       "loc_user_count     6448.62                0.0336851            0.0152397\n",
       "action_2_count     4732.36                0.02472              0.0111837\n",
       "action_5_count     2697.19                0.0140891            0.00637413\n",
       "action_4_count     931.671                0.00486669           0.00220177\n",
       "price_diff         736.68                 0.00384813           0.00174095\n",
       "day_of_week        336.463                0.00175755           0.000795145\n",
       "action_0_count     225.562                0.00117825           0.000533058\n",
       "delta_hour         171.365                0.000895142          0.000404977\n",
       "category_id_count  95.2741                0.000497675          0.000225156\n",
       "delta_day          10.4225                5.44429e-05          2.46309e-05\n",
       "\n",
       "[tips]\n",
       "Use `model.explain()` to inspect the model.\n",
       "--\n",
       "Use `h2o.display.toggle_user_tips()` to switch on/off this section."
      ],
      "text/html": [
       "<pre style='margin: 1em 0 1em 0;'>Model Details\n",
       "=============\n",
       "H2OGradientBoostingEstimator : Gradient Boosting Machine\n",
       "Model Key: GBM_model_python_1728768742217_2\n",
       "</pre>\n",
       "<div style='margin: 1em 0 1em 0;'>\n",
       "<style>\n",
       "\n",
       "#h2o-table-11.h2o-container {\n",
       "  overflow-x: auto;\n",
       "}\n",
       "#h2o-table-11 .h2o-table {\n",
       "  /* width: 100%; */\n",
       "  margin-top: 1em;\n",
       "  margin-bottom: 1em;\n",
       "}\n",
       "#h2o-table-11 .h2o-table caption {\n",
       "  white-space: nowrap;\n",
       "  caption-side: top;\n",
       "  text-align: left;\n",
       "  /* margin-left: 1em; */\n",
       "  margin: 0;\n",
       "  font-size: larger;\n",
       "}\n",
       "#h2o-table-11 .h2o-table thead {\n",
       "  white-space: nowrap; \n",
       "  position: sticky;\n",
       "  top: 0;\n",
       "  box-shadow: 0 -1px inset;\n",
       "}\n",
       "#h2o-table-11 .h2o-table tbody {\n",
       "  overflow: auto;\n",
       "}\n",
       "#h2o-table-11 .h2o-table th,\n",
       "#h2o-table-11 .h2o-table td {\n",
       "  text-align: right;\n",
       "  /* border: 1px solid; */\n",
       "}\n",
       "#h2o-table-11 .h2o-table tr:nth-child(even) {\n",
       "  /* background: #F5F5F5 */\n",
       "}\n",
       "\n",
       "</style>      \n",
       "<div id=\"h2o-table-11\" class=\"h2o-container\">\n",
       "  <table class=\"h2o-table\">\n",
       "    <caption>Model Summary: </caption>\n",
       "    <thead><tr><th></th>\n",
       "<th>number_of_trees</th>\n",
       "<th>number_of_internal_trees</th>\n",
       "<th>model_size_in_bytes</th>\n",
       "<th>min_depth</th>\n",
       "<th>max_depth</th>\n",
       "<th>mean_depth</th>\n",
       "<th>min_leaves</th>\n",
       "<th>max_leaves</th>\n",
       "<th>mean_leaves</th></tr></thead>\n",
       "    <tbody><tr><td></td>\n",
       "<td>50.0</td>\n",
       "<td>500.0</td>\n",
       "<td>261247.0</td>\n",
       "<td>5.0</td>\n",
       "<td>5.0</td>\n",
       "<td>5.0</td>\n",
       "<td>10.0</td>\n",
       "<td>32.0</td>\n",
       "<td>31.216</td></tr></tbody>\n",
       "  </table>\n",
       "</div>\n",
       "</div>\n",
       "<div style='margin: 1em 0 1em 0;'><pre style='margin: 1em 0 1em 0;'>ModelMetricsMultinomial: gbm\n",
       "** Reported on train data. **\n",
       "\n",
       "MSE: 0.23646242943793352\n",
       "RMSE: 0.486274027106048\n",
       "LogLoss: 0.70122898769545\n",
       "Mean Per-Class Error: 0.5089925975776495\n",
       "AUC table was not computed: it is either disabled (model parameter 'auc_type' was set to AUTO or NONE) or the domain size exceeds the limit (maximum is 50 domains).\n",
       "AUCPR table was not computed: it is either disabled (model parameter 'auc_type' was set to AUTO or NONE) or the domain size exceeds the limit (maximum is 50 domains).</pre>\n",
       "<div style='margin: 1em 0 1em 0;'>\n",
       "<style>\n",
       "\n",
       "#h2o-table-12.h2o-container {\n",
       "  overflow-x: auto;\n",
       "}\n",
       "#h2o-table-12 .h2o-table {\n",
       "  /* width: 100%; */\n",
       "  margin-top: 1em;\n",
       "  margin-bottom: 1em;\n",
       "}\n",
       "#h2o-table-12 .h2o-table caption {\n",
       "  white-space: nowrap;\n",
       "  caption-side: top;\n",
       "  text-align: left;\n",
       "  /* margin-left: 1em; */\n",
       "  margin: 0;\n",
       "  font-size: larger;\n",
       "}\n",
       "#h2o-table-12 .h2o-table thead {\n",
       "  white-space: nowrap; \n",
       "  position: sticky;\n",
       "  top: 0;\n",
       "  box-shadow: 0 -1px inset;\n",
       "}\n",
       "#h2o-table-12 .h2o-table tbody {\n",
       "  overflow: auto;\n",
       "}\n",
       "#h2o-table-12 .h2o-table th,\n",
       "#h2o-table-12 .h2o-table td {\n",
       "  text-align: right;\n",
       "  /* border: 1px solid; */\n",
       "}\n",
       "#h2o-table-12 .h2o-table tr:nth-child(even) {\n",
       "  /* background: #F5F5F5 */\n",
       "}\n",
       "\n",
       "</style>      \n",
       "<div id=\"h2o-table-12\" class=\"h2o-container\">\n",
       "  <table class=\"h2o-table\">\n",
       "    <caption>Confusion Matrix: Row labels: Actual class; Column labels: Predicted class</caption>\n",
       "    <thead><tr><th>0</th>\n",
       "<th>1</th>\n",
       "<th>2</th>\n",
       "<th>3</th>\n",
       "<th>4</th>\n",
       "<th>5</th>\n",
       "<th>6</th>\n",
       "<th>7</th>\n",
       "<th>8</th>\n",
       "<th>9</th>\n",
       "<th>Error</th>\n",
       "<th>Rate</th></tr></thead>\n",
       "    <tbody><tr><td>87.0</td>\n",
       "<td>214.0</td>\n",
       "<td>0.0</td>\n",
       "<td>38.0</td>\n",
       "<td>0.0</td>\n",
       "<td>0.0</td>\n",
       "<td>0.0</td>\n",
       "<td>1.0</td>\n",
       "<td>0.0</td>\n",
       "<td>0.0</td>\n",
       "<td>0.7441176</td>\n",
       "<td>253 / 340</td></tr>\n",
       "<tr><td>28.0</td>\n",
       "<td>72532.0</td>\n",
       "<td>142.0</td>\n",
       "<td>7793.0</td>\n",
       "<td>0.0</td>\n",
       "<td>0.0</td>\n",
       "<td>171.0</td>\n",
       "<td>19.0</td>\n",
       "<td>2.0</td>\n",
       "<td>0.0</td>\n",
       "<td>0.1010696</td>\n",
       "<td>8,155 / 80,687</td></tr>\n",
       "<tr><td>3.0</td>\n",
       "<td>16599.0</td>\n",
       "<td>312.0</td>\n",
       "<td>3029.0</td>\n",
       "<td>0.0</td>\n",
       "<td>0.0</td>\n",
       "<td>11.0</td>\n",
       "<td>0.0</td>\n",
       "<td>2.0</td>\n",
       "<td>0.0</td>\n",
       "<td>0.9843656</td>\n",
       "<td>19,644 / 19,956</td></tr>\n",
       "<tr><td>6.0</td>\n",
       "<td>4861.0</td>\n",
       "<td>0.0</td>\n",
       "<td>26308.0</td>\n",
       "<td>0.0</td>\n",
       "<td>0.0</td>\n",
       "<td>24.0</td>\n",
       "<td>1.0</td>\n",
       "<td>0.0</td>\n",
       "<td>0.0</td>\n",
       "<td>0.1567949</td>\n",
       "<td>4,892 / 31,200</td></tr>\n",
       "<tr><td>0.0</td>\n",
       "<td>34.0</td>\n",
       "<td>0.0</td>\n",
       "<td>6.0</td>\n",
       "<td>7.0</td>\n",
       "<td>31.0</td>\n",
       "<td>49.0</td>\n",
       "<td>329.0</td>\n",
       "<td>60.0</td>\n",
       "<td>30.0</td>\n",
       "<td>0.9871795</td>\n",
       "<td>539 / 546</td></tr>\n",
       "<tr><td>0.0</td>\n",
       "<td>1338.0</td>\n",
       "<td>0.0</td>\n",
       "<td>194.0</td>\n",
       "<td>0.0</td>\n",
       "<td>12247.0</td>\n",
       "<td>1450.0</td>\n",
       "<td>3825.0</td>\n",
       "<td>299.0</td>\n",
       "<td>688.0</td>\n",
       "<td>0.3889027</td>\n",
       "<td>7,794 / 20,041</td></tr>\n",
       "<tr><td>1.0</td>\n",
       "<td>1834.0</td>\n",
       "<td>0.0</td>\n",
       "<td>200.0</td>\n",
       "<td>0.0</td>\n",
       "<td>179.0</td>\n",
       "<td>20669.0</td>\n",
       "<td>3380.0</td>\n",
       "<td>120.0</td>\n",
       "<td>119.0</td>\n",
       "<td>0.2200966</td>\n",
       "<td>5,833 / 26,502</td></tr>\n",
       "<tr><td>0.0</td>\n",
       "<td>2303.0</td>\n",
       "<td>0.0</td>\n",
       "<td>242.0</td>\n",
       "<td>0.0</td>\n",
       "<td>292.0</td>\n",
       "<td>4040.0</td>\n",
       "<td>36030.0</td>\n",
       "<td>277.0</td>\n",
       "<td>1154.0</td>\n",
       "<td>0.1873788</td>\n",
       "<td>8,308 / 44,338</td></tr>\n",
       "<tr><td>0.0</td>\n",
       "<td>424.0</td>\n",
       "<td>0.0</td>\n",
       "<td>80.0</td>\n",
       "<td>3.0</td>\n",
       "<td>340.0</td>\n",
       "<td>546.0</td>\n",
       "<td>3448.0</td>\n",
       "<td>1630.0</td>\n",
       "<td>700.0</td>\n",
       "<td>0.7726956</td>\n",
       "<td>5,541 / 7,171</td></tr>\n",
       "<tr><td>0.0</td>\n",
       "<td>444.0</td>\n",
       "<td>0.0</td>\n",
       "<td>68.0</td>\n",
       "<td>0.0</td>\n",
       "<td>194.0</td>\n",
       "<td>744.0</td>\n",
       "<td>3753.0</td>\n",
       "<td>117.0</td>\n",
       "<td>4400.0</td>\n",
       "<td>0.5473251</td>\n",
       "<td>5,320 / 9,720</td></tr>\n",
       "<tr><td>125.0</td>\n",
       "<td>100583.0</td>\n",
       "<td>454.0</td>\n",
       "<td>37958.0</td>\n",
       "<td>10.0</td>\n",
       "<td>13283.0</td>\n",
       "<td>27704.0</td>\n",
       "<td>50786.0</td>\n",
       "<td>2507.0</td>\n",
       "<td>7091.0</td>\n",
       "<td>0.2755872</td>\n",
       "<td>66,279 / 240,501</td></tr></tbody>\n",
       "  </table>\n",
       "</div>\n",
       "</div>\n",
       "<div style='margin: 1em 0 1em 0;'>\n",
       "<style>\n",
       "\n",
       "#h2o-table-13.h2o-container {\n",
       "  overflow-x: auto;\n",
       "}\n",
       "#h2o-table-13 .h2o-table {\n",
       "  /* width: 100%; */\n",
       "  margin-top: 1em;\n",
       "  margin-bottom: 1em;\n",
       "}\n",
       "#h2o-table-13 .h2o-table caption {\n",
       "  white-space: nowrap;\n",
       "  caption-side: top;\n",
       "  text-align: left;\n",
       "  /* margin-left: 1em; */\n",
       "  margin: 0;\n",
       "  font-size: larger;\n",
       "}\n",
       "#h2o-table-13 .h2o-table thead {\n",
       "  white-space: nowrap; \n",
       "  position: sticky;\n",
       "  top: 0;\n",
       "  box-shadow: 0 -1px inset;\n",
       "}\n",
       "#h2o-table-13 .h2o-table tbody {\n",
       "  overflow: auto;\n",
       "}\n",
       "#h2o-table-13 .h2o-table th,\n",
       "#h2o-table-13 .h2o-table td {\n",
       "  text-align: right;\n",
       "  /* border: 1px solid; */\n",
       "}\n",
       "#h2o-table-13 .h2o-table tr:nth-child(even) {\n",
       "  /* background: #F5F5F5 */\n",
       "}\n",
       "\n",
       "</style>      \n",
       "<div id=\"h2o-table-13\" class=\"h2o-container\">\n",
       "  <table class=\"h2o-table\">\n",
       "    <caption>Top-10 Hit Ratios: </caption>\n",
       "    <thead><tr><th>k</th>\n",
       "<th>hit_ratio</th></tr></thead>\n",
       "    <tbody><tr><td>1</td>\n",
       "<td>0.7244128</td></tr>\n",
       "<tr><td>2</td>\n",
       "<td>0.9153392</td></tr>\n",
       "<tr><td>3</td>\n",
       "<td>0.9722663</td></tr>\n",
       "<tr><td>4</td>\n",
       "<td>0.9901165</td></tr>\n",
       "<tr><td>5</td>\n",
       "<td>0.9967485</td></tr>\n",
       "<tr><td>6</td>\n",
       "<td>0.9987776</td></tr>\n",
       "<tr><td>7</td>\n",
       "<td>0.9996965</td></tr>\n",
       "<tr><td>8</td>\n",
       "<td>0.9999543</td></tr>\n",
       "<tr><td>9</td>\n",
       "<td>0.9999959</td></tr>\n",
       "<tr><td>10</td>\n",
       "<td>1.0</td></tr></tbody>\n",
       "  </table>\n",
       "</div>\n",
       "</div></div>\n",
       "<div style='margin: 1em 0 1em 0;'><pre style='margin: 1em 0 1em 0;'>ModelMetricsMultinomial: gbm\n",
       "** Reported on validation data. **\n",
       "\n",
       "MSE: 0.25337396837868303\n",
       "RMSE: 0.503362660890419\n",
       "LogLoss: 0.767996528282714\n",
       "Mean Per-Class Error: 0.5647296285161826\n",
       "AUC table was not computed: it is either disabled (model parameter 'auc_type' was set to AUTO or NONE) or the domain size exceeds the limit (maximum is 50 domains).\n",
       "AUCPR table was not computed: it is either disabled (model parameter 'auc_type' was set to AUTO or NONE) or the domain size exceeds the limit (maximum is 50 domains).</pre>\n",
       "<div style='margin: 1em 0 1em 0;'>\n",
       "<style>\n",
       "\n",
       "#h2o-table-14.h2o-container {\n",
       "  overflow-x: auto;\n",
       "}\n",
       "#h2o-table-14 .h2o-table {\n",
       "  /* width: 100%; */\n",
       "  margin-top: 1em;\n",
       "  margin-bottom: 1em;\n",
       "}\n",
       "#h2o-table-14 .h2o-table caption {\n",
       "  white-space: nowrap;\n",
       "  caption-side: top;\n",
       "  text-align: left;\n",
       "  /* margin-left: 1em; */\n",
       "  margin: 0;\n",
       "  font-size: larger;\n",
       "}\n",
       "#h2o-table-14 .h2o-table thead {\n",
       "  white-space: nowrap; \n",
       "  position: sticky;\n",
       "  top: 0;\n",
       "  box-shadow: 0 -1px inset;\n",
       "}\n",
       "#h2o-table-14 .h2o-table tbody {\n",
       "  overflow: auto;\n",
       "}\n",
       "#h2o-table-14 .h2o-table th,\n",
       "#h2o-table-14 .h2o-table td {\n",
       "  text-align: right;\n",
       "  /* border: 1px solid; */\n",
       "}\n",
       "#h2o-table-14 .h2o-table tr:nth-child(even) {\n",
       "  /* background: #F5F5F5 */\n",
       "}\n",
       "\n",
       "</style>      \n",
       "<div id=\"h2o-table-14\" class=\"h2o-container\">\n",
       "  <table class=\"h2o-table\">\n",
       "    <caption>Confusion Matrix: Row labels: Actual class; Column labels: Predicted class</caption>\n",
       "    <thead><tr><th>0</th>\n",
       "<th>1</th>\n",
       "<th>2</th>\n",
       "<th>3</th>\n",
       "<th>4</th>\n",
       "<th>5</th>\n",
       "<th>6</th>\n",
       "<th>7</th>\n",
       "<th>8</th>\n",
       "<th>9</th>\n",
       "<th>Error</th>\n",
       "<th>Rate</th></tr></thead>\n",
       "    <tbody><tr><td>0.0</td>\n",
       "<td>1.0</td>\n",
       "<td>0.0</td>\n",
       "<td>1.0</td>\n",
       "<td>0.0</td>\n",
       "<td>0.0</td>\n",
       "<td>0.0</td>\n",
       "<td>0.0</td>\n",
       "<td>0.0</td>\n",
       "<td>0.0</td>\n",
       "<td>1.0</td>\n",
       "<td>2 / 2</td></tr>\n",
       "<tr><td>11.0</td>\n",
       "<td>22515.0</td>\n",
       "<td>40.0</td>\n",
       "<td>2115.0</td>\n",
       "<td>0.0</td>\n",
       "<td>0.0</td>\n",
       "<td>92.0</td>\n",
       "<td>5.0</td>\n",
       "<td>0.0</td>\n",
       "<td>0.0</td>\n",
       "<td>0.0913310</td>\n",
       "<td>2,263 / 24,778</td></tr>\n",
       "<tr><td>1.0</td>\n",
       "<td>5198.0</td>\n",
       "<td>75.0</td>\n",
       "<td>858.0</td>\n",
       "<td>0.0</td>\n",
       "<td>0.0</td>\n",
       "<td>5.0</td>\n",
       "<td>0.0</td>\n",
       "<td>0.0</td>\n",
       "<td>0.0</td>\n",
       "<td>0.9877790</td>\n",
       "<td>6,062 / 6,137</td></tr>\n",
       "<tr><td>0.0</td>\n",
       "<td>59.0</td>\n",
       "<td>0.0</td>\n",
       "<td>399.0</td>\n",
       "<td>0.0</td>\n",
       "<td>0.0</td>\n",
       "<td>0.0</td>\n",
       "<td>0.0</td>\n",
       "<td>0.0</td>\n",
       "<td>0.0</td>\n",
       "<td>0.1288210</td>\n",
       "<td>59 / 458</td></tr>\n",
       "<tr><td>0.0</td>\n",
       "<td>6.0</td>\n",
       "<td>0.0</td>\n",
       "<td>3.0</td>\n",
       "<td>0.0</td>\n",
       "<td>2.0</td>\n",
       "<td>18.0</td>\n",
       "<td>61.0</td>\n",
       "<td>12.0</td>\n",
       "<td>5.0</td>\n",
       "<td>1.0</td>\n",
       "<td>107 / 107</td></tr>\n",
       "<tr><td>0.0</td>\n",
       "<td>781.0</td>\n",
       "<td>1.0</td>\n",
       "<td>90.0</td>\n",
       "<td>0.0</td>\n",
       "<td>3712.0</td>\n",
       "<td>507.0</td>\n",
       "<td>993.0</td>\n",
       "<td>54.0</td>\n",
       "<td>166.0</td>\n",
       "<td>0.4111675</td>\n",
       "<td>2,592 / 6,304</td></tr>\n",
       "<tr><td>0.0</td>\n",
       "<td>102.0</td>\n",
       "<td>0.0</td>\n",
       "<td>1.0</td>\n",
       "<td>0.0</td>\n",
       "<td>1.0</td>\n",
       "<td>191.0</td>\n",
       "<td>27.0</td>\n",
       "<td>2.0</td>\n",
       "<td>1.0</td>\n",
       "<td>0.4123077</td>\n",
       "<td>134 / 325</td></tr>\n",
       "<tr><td>0.0</td>\n",
       "<td>11.0</td>\n",
       "<td>0.0</td>\n",
       "<td>1.0</td>\n",
       "<td>0.0</td>\n",
       "<td>0.0</td>\n",
       "<td>23.0</td>\n",
       "<td>165.0</td>\n",
       "<td>0.0</td>\n",
       "<td>4.0</td>\n",
       "<td>0.1911765</td>\n",
       "<td>39 / 204</td></tr>\n",
       "<tr><td>0.0</td>\n",
       "<td>73.0</td>\n",
       "<td>0.0</td>\n",
       "<td>13.0</td>\n",
       "<td>0.0</td>\n",
       "<td>125.0</td>\n",
       "<td>199.0</td>\n",
       "<td>797.0</td>\n",
       "<td>315.0</td>\n",
       "<td>116.0</td>\n",
       "<td>0.8076923</td>\n",
       "<td>1,323 / 1,638</td></tr>\n",
       "<tr><td>0.0</td>\n",
       "<td>1.0</td>\n",
       "<td>0.0</td>\n",
       "<td>0.0</td>\n",
       "<td>0.0</td>\n",
       "<td>5.0</td>\n",
       "<td>4.0</td>\n",
       "<td>18.0</td>\n",
       "<td>1.0</td>\n",
       "<td>18.0</td>\n",
       "<td>0.6170213</td>\n",
       "<td>29 / 47</td></tr>\n",
       "<tr><td>12.0</td>\n",
       "<td>28747.0</td>\n",
       "<td>116.0</td>\n",
       "<td>3481.0</td>\n",
       "<td>0.0</td>\n",
       "<td>3845.0</td>\n",
       "<td>1039.0</td>\n",
       "<td>2066.0</td>\n",
       "<td>384.0</td>\n",
       "<td>310.0</td>\n",
       "<td>0.31525</td>\n",
       "<td>12,610 / 40,000</td></tr></tbody>\n",
       "  </table>\n",
       "</div>\n",
       "</div>\n",
       "<div style='margin: 1em 0 1em 0;'>\n",
       "<style>\n",
       "\n",
       "#h2o-table-15.h2o-container {\n",
       "  overflow-x: auto;\n",
       "}\n",
       "#h2o-table-15 .h2o-table {\n",
       "  /* width: 100%; */\n",
       "  margin-top: 1em;\n",
       "  margin-bottom: 1em;\n",
       "}\n",
       "#h2o-table-15 .h2o-table caption {\n",
       "  white-space: nowrap;\n",
       "  caption-side: top;\n",
       "  text-align: left;\n",
       "  /* margin-left: 1em; */\n",
       "  margin: 0;\n",
       "  font-size: larger;\n",
       "}\n",
       "#h2o-table-15 .h2o-table thead {\n",
       "  white-space: nowrap; \n",
       "  position: sticky;\n",
       "  top: 0;\n",
       "  box-shadow: 0 -1px inset;\n",
       "}\n",
       "#h2o-table-15 .h2o-table tbody {\n",
       "  overflow: auto;\n",
       "}\n",
       "#h2o-table-15 .h2o-table th,\n",
       "#h2o-table-15 .h2o-table td {\n",
       "  text-align: right;\n",
       "  /* border: 1px solid; */\n",
       "}\n",
       "#h2o-table-15 .h2o-table tr:nth-child(even) {\n",
       "  /* background: #F5F5F5 */\n",
       "}\n",
       "\n",
       "</style>      \n",
       "<div id=\"h2o-table-15\" class=\"h2o-container\">\n",
       "  <table class=\"h2o-table\">\n",
       "    <caption>Top-10 Hit Ratios: </caption>\n",
       "    <thead><tr><th>k</th>\n",
       "<th>hit_ratio</th></tr></thead>\n",
       "    <tbody><tr><td>1</td>\n",
       "<td>0.68475</td></tr>\n",
       "<tr><td>2</td>\n",
       "<td>0.8993501</td></tr>\n",
       "<tr><td>3</td>\n",
       "<td>0.9671</td></tr>\n",
       "<tr><td>4</td>\n",
       "<td>0.9873500</td></tr>\n",
       "<tr><td>5</td>\n",
       "<td>0.9948251</td></tr>\n",
       "<tr><td>6</td>\n",
       "<td>0.9981000</td></tr>\n",
       "<tr><td>7</td>\n",
       "<td>0.9994251</td></tr>\n",
       "<tr><td>8</td>\n",
       "<td>0.9998500</td></tr>\n",
       "<tr><td>9</td>\n",
       "<td>1.0</td></tr>\n",
       "<tr><td>10</td>\n",
       "<td>1.0</td></tr></tbody>\n",
       "  </table>\n",
       "</div>\n",
       "</div></div>\n",
       "<div style='margin: 1em 0 1em 0;'>\n",
       "<style>\n",
       "\n",
       "#h2o-table-16.h2o-container {\n",
       "  overflow-x: auto;\n",
       "}\n",
       "#h2o-table-16 .h2o-table {\n",
       "  /* width: 100%; */\n",
       "  margin-top: 1em;\n",
       "  margin-bottom: 1em;\n",
       "}\n",
       "#h2o-table-16 .h2o-table caption {\n",
       "  white-space: nowrap;\n",
       "  caption-side: top;\n",
       "  text-align: left;\n",
       "  /* margin-left: 1em; */\n",
       "  margin: 0;\n",
       "  font-size: larger;\n",
       "}\n",
       "#h2o-table-16 .h2o-table thead {\n",
       "  white-space: nowrap; \n",
       "  position: sticky;\n",
       "  top: 0;\n",
       "  box-shadow: 0 -1px inset;\n",
       "}\n",
       "#h2o-table-16 .h2o-table tbody {\n",
       "  overflow: auto;\n",
       "}\n",
       "#h2o-table-16 .h2o-table th,\n",
       "#h2o-table-16 .h2o-table td {\n",
       "  text-align: right;\n",
       "  /* border: 1px solid; */\n",
       "}\n",
       "#h2o-table-16 .h2o-table tr:nth-child(even) {\n",
       "  /* background: #F5F5F5 */\n",
       "}\n",
       "\n",
       "</style>      \n",
       "<div id=\"h2o-table-16\" class=\"h2o-container\">\n",
       "  <table class=\"h2o-table\">\n",
       "    <caption>Scoring History: </caption>\n",
       "    <thead><tr><th></th>\n",
       "<th>timestamp</th>\n",
       "<th>duration</th>\n",
       "<th>number_of_trees</th>\n",
       "<th>training_rmse</th>\n",
       "<th>training_logloss</th>\n",
       "<th>training_classification_error</th>\n",
       "<th>training_auc</th>\n",
       "<th>training_pr_auc</th>\n",
       "<th>validation_rmse</th>\n",
       "<th>validation_logloss</th>\n",
       "<th>validation_classification_error</th>\n",
       "<th>validation_auc</th>\n",
       "<th>validation_pr_auc</th></tr></thead>\n",
       "    <tbody><tr><td></td>\n",
       "<td>2024-10-13 01:44:34</td>\n",
       "<td> 0.086 sec</td>\n",
       "<td>0.0</td>\n",
       "<td>0.9000000</td>\n",
       "<td>2.3025851</td>\n",
       "<td>0.8119384</td>\n",
       "<td>nan</td>\n",
       "<td>nan</td>\n",
       "<td>0.9000000</td>\n",
       "<td>2.3025851</td>\n",
       "<td>0.751075</td>\n",
       "<td>nan</td>\n",
       "<td>nan</td></tr>\n",
       "<tr><td></td>\n",
       "<td>2024-10-13 01:44:34</td>\n",
       "<td> 0.674 sec</td>\n",
       "<td>1.0</td>\n",
       "<td>0.8431953</td>\n",
       "<td>1.8814674</td>\n",
       "<td>0.3180818</td>\n",
       "<td>nan</td>\n",
       "<td>nan</td>\n",
       "<td>0.8414633</td>\n",
       "<td>1.8763383</td>\n",
       "<td>0.350375</td>\n",
       "<td>nan</td>\n",
       "<td>nan</td></tr>\n",
       "<tr><td></td>\n",
       "<td>2024-10-13 01:44:35</td>\n",
       "<td> 1.136 sec</td>\n",
       "<td>2.0</td>\n",
       "<td>0.7986304</td>\n",
       "<td>1.6576497</td>\n",
       "<td>0.3157700</td>\n",
       "<td>nan</td>\n",
       "<td>nan</td>\n",
       "<td>0.7965819</td>\n",
       "<td>1.6592768</td>\n",
       "<td>0.350125</td>\n",
       "<td>nan</td>\n",
       "<td>nan</td></tr>\n",
       "<tr><td></td>\n",
       "<td>2024-10-13 01:44:36</td>\n",
       "<td> 1.704 sec</td>\n",
       "<td>3.0</td>\n",
       "<td>0.7603270</td>\n",
       "<td>1.5021401</td>\n",
       "<td>0.3154748</td>\n",
       "<td>nan</td>\n",
       "<td>nan</td>\n",
       "<td>0.7583630</td>\n",
       "<td>1.5104540</td>\n",
       "<td>0.347825</td>\n",
       "<td>nan</td>\n",
       "<td>nan</td></tr>\n",
       "<tr><td></td>\n",
       "<td>2024-10-13 01:44:36</td>\n",
       "<td> 2.175 sec</td>\n",
       "<td>4.0</td>\n",
       "<td>0.7269251</td>\n",
       "<td>1.3843736</td>\n",
       "<td>0.3126723</td>\n",
       "<td>nan</td>\n",
       "<td>nan</td>\n",
       "<td>0.7253889</td>\n",
       "<td>1.3989591</td>\n",
       "<td>0.345675</td>\n",
       "<td>nan</td>\n",
       "<td>nan</td></tr>\n",
       "<tr><td></td>\n",
       "<td>2024-10-13 01:44:37</td>\n",
       "<td> 2.734 sec</td>\n",
       "<td>5.0</td>\n",
       "<td>0.6980098</td>\n",
       "<td>1.2924392</td>\n",
       "<td>0.3108303</td>\n",
       "<td>nan</td>\n",
       "<td>nan</td>\n",
       "<td>0.6970913</td>\n",
       "<td>1.3126877</td>\n",
       "<td>0.335675</td>\n",
       "<td>nan</td>\n",
       "<td>nan</td></tr>\n",
       "<tr><td></td>\n",
       "<td>2024-10-13 01:44:37</td>\n",
       "<td> 3.260 sec</td>\n",
       "<td>6.0</td>\n",
       "<td>0.6730102</td>\n",
       "<td>1.2181762</td>\n",
       "<td>0.3098158</td>\n",
       "<td>nan</td>\n",
       "<td>nan</td>\n",
       "<td>0.6729059</td>\n",
       "<td>1.2436824</td>\n",
       "<td>0.334775</td>\n",
       "<td>nan</td>\n",
       "<td>nan</td></tr>\n",
       "<tr><td></td>\n",
       "<td>2024-10-13 01:44:37</td>\n",
       "<td> 3.682 sec</td>\n",
       "<td>7.0</td>\n",
       "<td>0.6509961</td>\n",
       "<td>1.1545458</td>\n",
       "<td>0.3089343</td>\n",
       "<td>nan</td>\n",
       "<td>nan</td>\n",
       "<td>0.6517593</td>\n",
       "<td>1.1836681</td>\n",
       "<td>0.33405</td>\n",
       "<td>nan</td>\n",
       "<td>nan</td></tr>\n",
       "<tr><td></td>\n",
       "<td>2024-10-13 01:44:42</td>\n",
       "<td> 7.955 sec</td>\n",
       "<td>19.0</td>\n",
       "<td>0.5352009</td>\n",
       "<td>0.8414093</td>\n",
       "<td>0.3024852</td>\n",
       "<td>nan</td>\n",
       "<td>nan</td>\n",
       "<td>0.5432395</td>\n",
       "<td>0.8878001</td>\n",
       "<td>0.33235</td>\n",
       "<td>nan</td>\n",
       "<td>nan</td></tr>\n",
       "<tr><td></td>\n",
       "<td>2024-10-13 01:44:49</td>\n",
       "<td>15.199 sec</td>\n",
       "<td>36.0</td>\n",
       "<td>0.5030934</td>\n",
       "<td>0.7488287</td>\n",
       "<td>0.2951256</td>\n",
       "<td>nan</td>\n",
       "<td>nan</td>\n",
       "<td>0.5143788</td>\n",
       "<td>0.8021454</td>\n",
       "<td>0.324125</td>\n",
       "<td>nan</td>\n",
       "<td>nan</td></tr>\n",
       "<tr><td></td>\n",
       "<td>2024-10-13 01:44:55</td>\n",
       "<td>21.273 sec</td>\n",
       "<td>50.0</td>\n",
       "<td>0.4862740</td>\n",
       "<td>0.7012290</td>\n",
       "<td>0.2755872</td>\n",
       "<td>nan</td>\n",
       "<td>nan</td>\n",
       "<td>0.5033627</td>\n",
       "<td>0.7679965</td>\n",
       "<td>0.31525</td>\n",
       "<td>nan</td>\n",
       "<td>nan</td></tr></tbody>\n",
       "  </table>\n",
       "</div>\n",
       "</div>\n",
       "<div style='margin: 1em 0 1em 0;'>\n",
       "<style>\n",
       "\n",
       "#h2o-table-17.h2o-container {\n",
       "  overflow-x: auto;\n",
       "}\n",
       "#h2o-table-17 .h2o-table {\n",
       "  /* width: 100%; */\n",
       "  margin-top: 1em;\n",
       "  margin-bottom: 1em;\n",
       "}\n",
       "#h2o-table-17 .h2o-table caption {\n",
       "  white-space: nowrap;\n",
       "  caption-side: top;\n",
       "  text-align: left;\n",
       "  /* margin-left: 1em; */\n",
       "  margin: 0;\n",
       "  font-size: larger;\n",
       "}\n",
       "#h2o-table-17 .h2o-table thead {\n",
       "  white-space: nowrap; \n",
       "  position: sticky;\n",
       "  top: 0;\n",
       "  box-shadow: 0 -1px inset;\n",
       "}\n",
       "#h2o-table-17 .h2o-table tbody {\n",
       "  overflow: auto;\n",
       "}\n",
       "#h2o-table-17 .h2o-table th,\n",
       "#h2o-table-17 .h2o-table td {\n",
       "  text-align: right;\n",
       "  /* border: 1px solid; */\n",
       "}\n",
       "#h2o-table-17 .h2o-table tr:nth-child(even) {\n",
       "  /* background: #F5F5F5 */\n",
       "}\n",
       "\n",
       "</style>      \n",
       "<div id=\"h2o-table-17\" class=\"h2o-container\">\n",
       "  <table class=\"h2o-table\">\n",
       "    <caption>Variable Importances: </caption>\n",
       "    <thead><tr><th>variable</th>\n",
       "<th>relative_importance</th>\n",
       "<th>scaled_importance</th>\n",
       "<th>percentage</th></tr></thead>\n",
       "    <tbody><tr><td>category_id</td>\n",
       "<td>191438.4218750</td>\n",
       "<td>1.0</td>\n",
       "<td>0.4524158</td></tr>\n",
       "<tr><td>action_6_count</td>\n",
       "<td>58093.4570312</td>\n",
       "<td>0.3034577</td>\n",
       "<td>0.1372891</td></tr>\n",
       "<tr><td>action_3_count</td>\n",
       "<td>48084.4375000</td>\n",
       "<td>0.2511744</td>\n",
       "<td>0.1136353</td></tr>\n",
       "<tr><td>action_7_count</td>\n",
       "<td>43824.9335938</td>\n",
       "<td>0.2289244</td>\n",
       "<td>0.1035690</td></tr>\n",
       "<tr><td>action_1_count</td>\n",
       "<td>20392.6738281</td>\n",
       "<td>0.1065234</td>\n",
       "<td>0.0481929</td></tr>\n",
       "<tr><td>delta_min</td>\n",
       "<td>15047.1484375</td>\n",
       "<td>0.0786005</td>\n",
       "<td>0.0355601</td></tr>\n",
       "<tr><td>delta_sec</td>\n",
       "<td>13541.7832031</td>\n",
       "<td>0.0707370</td>\n",
       "<td>0.0320025</td></tr>\n",
       "<tr><td>action_9_count</td>\n",
       "<td>8468.1640625</td>\n",
       "<td>0.0442344</td>\n",
       "<td>0.0200123</td></tr>\n",
       "<tr><td>action_8_count</td>\n",
       "<td>7870.4047852</td>\n",
       "<td>0.0411119</td>\n",
       "<td>0.0185997</td></tr>\n",
       "<tr><td>loc_user_count</td>\n",
       "<td>6448.6210938</td>\n",
       "<td>0.0336851</td>\n",
       "<td>0.0152397</td></tr>\n",
       "<tr><td>action_2_count</td>\n",
       "<td>4732.3647461</td>\n",
       "<td>0.0247200</td>\n",
       "<td>0.0111837</td></tr>\n",
       "<tr><td>action_5_count</td>\n",
       "<td>2697.1921387</td>\n",
       "<td>0.0140891</td>\n",
       "<td>0.0063741</td></tr>\n",
       "<tr><td>action_4_count</td>\n",
       "<td>931.6710815</td>\n",
       "<td>0.0048667</td>\n",
       "<td>0.0022018</td></tr>\n",
       "<tr><td>price_diff</td>\n",
       "<td>736.6796875</td>\n",
       "<td>0.0038481</td>\n",
       "<td>0.0017410</td></tr>\n",
       "<tr><td>day_of_week</td>\n",
       "<td>336.4631653</td>\n",
       "<td>0.0017576</td>\n",
       "<td>0.0007951</td></tr>\n",
       "<tr><td>action_0_count</td>\n",
       "<td>225.5619202</td>\n",
       "<td>0.0011782</td>\n",
       "<td>0.0005331</td></tr>\n",
       "<tr><td>delta_hour</td>\n",
       "<td>171.3646393</td>\n",
       "<td>0.0008951</td>\n",
       "<td>0.0004050</td></tr>\n",
       "<tr><td>category_id_count</td>\n",
       "<td>95.2740936</td>\n",
       "<td>0.0004977</td>\n",
       "<td>0.0002252</td></tr>\n",
       "<tr><td>delta_day</td>\n",
       "<td>10.4224720</td>\n",
       "<td>0.0000544</td>\n",
       "<td>0.0000246</td></tr></tbody>\n",
       "  </table>\n",
       "</div>\n",
       "</div><pre style=\"font-size: smaller; margin: 1em 0 0 0;\">\n",
       "\n",
       "[tips]\n",
       "Use `model.explain()` to inspect the model.\n",
       "--\n",
       "Use `h2o.display.toggle_user_tips()` to switch on/off this section.</pre>"
      ]
     },
     "execution_count": 502,
     "metadata": {},
     "output_type": "execute_result"
    }
   ],
   "execution_count": 502
  },
  {
   "metadata": {
    "ExecuteTime": {
     "end_time": "2024-10-12T22:45:00.350663Z",
     "start_time": "2024-10-12T22:45:00.349171Z"
    }
   },
   "cell_type": "code",
   "source": "",
   "id": "25b2e7ebc47bafe4",
   "outputs": [],
   "execution_count": null
  },
  {
   "metadata": {
    "ExecuteTime": {
     "end_time": "2024-10-12T22:45:03.646709Z",
     "start_time": "2024-10-12T22:45:03.644534Z"
    }
   },
   "cell_type": "code",
   "source": "# gbm_model.model_performance(test_h2o)",
   "id": "df542bafe3b785fb",
   "outputs": [],
   "execution_count": 503
  },
  {
   "metadata": {
    "ExecuteTime": {
     "end_time": "2024-10-12T22:45:06.722428Z",
     "start_time": "2024-10-12T22:45:06.693992Z"
    }
   },
   "cell_type": "code",
   "source": "gbm_model.varimp(use_pandas=True)",
   "id": "eabbc1198fbe0869",
   "outputs": [
    {
     "data": {
      "text/plain": [
       "             variable  relative_importance  scaled_importance  percentage\n",
       "0         category_id        191438.421875           1.000000    0.452416\n",
       "1      action_6_count         58093.457031           0.303458    0.137289\n",
       "2      action_3_count         48084.437500           0.251174    0.113635\n",
       "3      action_7_count         43824.933594           0.228924    0.103569\n",
       "4      action_1_count         20392.673828           0.106523    0.048193\n",
       "5           delta_min         15047.148438           0.078600    0.035560\n",
       "6           delta_sec         13541.783203           0.070737    0.032003\n",
       "7      action_9_count          8468.164062           0.044234    0.020012\n",
       "8      action_8_count          7870.404785           0.041112    0.018600\n",
       "9      loc_user_count          6448.621094           0.033685    0.015240\n",
       "10     action_2_count          4732.364746           0.024720    0.011184\n",
       "11     action_5_count          2697.192139           0.014089    0.006374\n",
       "12     action_4_count           931.671082           0.004867    0.002202\n",
       "13         price_diff           736.679688           0.003848    0.001741\n",
       "14        day_of_week           336.463165           0.001758    0.000795\n",
       "15     action_0_count           225.561920           0.001178    0.000533\n",
       "16         delta_hour           171.364639           0.000895    0.000405\n",
       "17  category_id_count            95.274094           0.000498    0.000225\n",
       "18          delta_day            10.422472           0.000054    0.000025"
      ],
      "text/html": [
       "<div>\n",
       "<style scoped>\n",
       "    .dataframe tbody tr th:only-of-type {\n",
       "        vertical-align: middle;\n",
       "    }\n",
       "\n",
       "    .dataframe tbody tr th {\n",
       "        vertical-align: top;\n",
       "    }\n",
       "\n",
       "    .dataframe thead th {\n",
       "        text-align: right;\n",
       "    }\n",
       "</style>\n",
       "<table border=\"1\" class=\"dataframe\">\n",
       "  <thead>\n",
       "    <tr style=\"text-align: right;\">\n",
       "      <th></th>\n",
       "      <th>variable</th>\n",
       "      <th>relative_importance</th>\n",
       "      <th>scaled_importance</th>\n",
       "      <th>percentage</th>\n",
       "    </tr>\n",
       "  </thead>\n",
       "  <tbody>\n",
       "    <tr>\n",
       "      <th>0</th>\n",
       "      <td>category_id</td>\n",
       "      <td>191438.421875</td>\n",
       "      <td>1.000000</td>\n",
       "      <td>0.452416</td>\n",
       "    </tr>\n",
       "    <tr>\n",
       "      <th>1</th>\n",
       "      <td>action_6_count</td>\n",
       "      <td>58093.457031</td>\n",
       "      <td>0.303458</td>\n",
       "      <td>0.137289</td>\n",
       "    </tr>\n",
       "    <tr>\n",
       "      <th>2</th>\n",
       "      <td>action_3_count</td>\n",
       "      <td>48084.437500</td>\n",
       "      <td>0.251174</td>\n",
       "      <td>0.113635</td>\n",
       "    </tr>\n",
       "    <tr>\n",
       "      <th>3</th>\n",
       "      <td>action_7_count</td>\n",
       "      <td>43824.933594</td>\n",
       "      <td>0.228924</td>\n",
       "      <td>0.103569</td>\n",
       "    </tr>\n",
       "    <tr>\n",
       "      <th>4</th>\n",
       "      <td>action_1_count</td>\n",
       "      <td>20392.673828</td>\n",
       "      <td>0.106523</td>\n",
       "      <td>0.048193</td>\n",
       "    </tr>\n",
       "    <tr>\n",
       "      <th>5</th>\n",
       "      <td>delta_min</td>\n",
       "      <td>15047.148438</td>\n",
       "      <td>0.078600</td>\n",
       "      <td>0.035560</td>\n",
       "    </tr>\n",
       "    <tr>\n",
       "      <th>6</th>\n",
       "      <td>delta_sec</td>\n",
       "      <td>13541.783203</td>\n",
       "      <td>0.070737</td>\n",
       "      <td>0.032003</td>\n",
       "    </tr>\n",
       "    <tr>\n",
       "      <th>7</th>\n",
       "      <td>action_9_count</td>\n",
       "      <td>8468.164062</td>\n",
       "      <td>0.044234</td>\n",
       "      <td>0.020012</td>\n",
       "    </tr>\n",
       "    <tr>\n",
       "      <th>8</th>\n",
       "      <td>action_8_count</td>\n",
       "      <td>7870.404785</td>\n",
       "      <td>0.041112</td>\n",
       "      <td>0.018600</td>\n",
       "    </tr>\n",
       "    <tr>\n",
       "      <th>9</th>\n",
       "      <td>loc_user_count</td>\n",
       "      <td>6448.621094</td>\n",
       "      <td>0.033685</td>\n",
       "      <td>0.015240</td>\n",
       "    </tr>\n",
       "    <tr>\n",
       "      <th>10</th>\n",
       "      <td>action_2_count</td>\n",
       "      <td>4732.364746</td>\n",
       "      <td>0.024720</td>\n",
       "      <td>0.011184</td>\n",
       "    </tr>\n",
       "    <tr>\n",
       "      <th>11</th>\n",
       "      <td>action_5_count</td>\n",
       "      <td>2697.192139</td>\n",
       "      <td>0.014089</td>\n",
       "      <td>0.006374</td>\n",
       "    </tr>\n",
       "    <tr>\n",
       "      <th>12</th>\n",
       "      <td>action_4_count</td>\n",
       "      <td>931.671082</td>\n",
       "      <td>0.004867</td>\n",
       "      <td>0.002202</td>\n",
       "    </tr>\n",
       "    <tr>\n",
       "      <th>13</th>\n",
       "      <td>price_diff</td>\n",
       "      <td>736.679688</td>\n",
       "      <td>0.003848</td>\n",
       "      <td>0.001741</td>\n",
       "    </tr>\n",
       "    <tr>\n",
       "      <th>14</th>\n",
       "      <td>day_of_week</td>\n",
       "      <td>336.463165</td>\n",
       "      <td>0.001758</td>\n",
       "      <td>0.000795</td>\n",
       "    </tr>\n",
       "    <tr>\n",
       "      <th>15</th>\n",
       "      <td>action_0_count</td>\n",
       "      <td>225.561920</td>\n",
       "      <td>0.001178</td>\n",
       "      <td>0.000533</td>\n",
       "    </tr>\n",
       "    <tr>\n",
       "      <th>16</th>\n",
       "      <td>delta_hour</td>\n",
       "      <td>171.364639</td>\n",
       "      <td>0.000895</td>\n",
       "      <td>0.000405</td>\n",
       "    </tr>\n",
       "    <tr>\n",
       "      <th>17</th>\n",
       "      <td>category_id_count</td>\n",
       "      <td>95.274094</td>\n",
       "      <td>0.000498</td>\n",
       "      <td>0.000225</td>\n",
       "    </tr>\n",
       "    <tr>\n",
       "      <th>18</th>\n",
       "      <td>delta_day</td>\n",
       "      <td>10.422472</td>\n",
       "      <td>0.000054</td>\n",
       "      <td>0.000025</td>\n",
       "    </tr>\n",
       "  </tbody>\n",
       "</table>\n",
       "</div>"
      ]
     },
     "execution_count": 504,
     "metadata": {},
     "output_type": "execute_result"
    }
   ],
   "execution_count": 504
  },
  {
   "metadata": {},
   "cell_type": "markdown",
   "source": "#### Расчитываем recall для локальных тестов",
   "id": "3bdeed0fc9e5677a"
  },
  {
   "metadata": {},
   "cell_type": "markdown",
   "source": "",
   "id": "f352074171c4f945"
  },
  {
   "metadata": {},
   "cell_type": "markdown",
   "source": "#### Тестовые данные - три дня и ключевое событие - 9 (заказ)",
   "id": "ff1086bd6fdb731a"
  },
  {
   "metadata": {
    "ExecuteTime": {
     "end_time": "2024-10-12T22:45:11.645383Z",
     "start_time": "2024-10-12T22:45:10.035721Z"
    }
   },
   "cell_type": "code",
   "source": [
    "last_3_days = inters['datetime'].max() - pd.Timedelta(3, unit='D')\n",
    "last_13_days = inters['datetime'].max() - pd.Timedelta(0, unit='D')\n",
    "test_purchasers = inters.sort_values(by=['datetime', 'weight'], ascending=True)\n",
    "test_purchasers = test_purchasers[\n",
    "    (test_purchasers['weight'] == 9) \n",
    "    & (test_purchasers['datetime'] > last_3_days)\n",
    "    & (test_purchasers['datetime'] < last_13_days)\n",
    "]\n",
    "print(test_purchasers['datetime'].max(), test_purchasers['datetime'].min(),)\n",
    "test_purchasers = test_purchasers.groupby(['user_id'])['item_id'].apply(processing)\n",
    "test_purchasers = test_purchasers.reset_index()\n",
    "test_purchasers.shape"
   ],
   "id": "3be5212427a6c914",
   "outputs": [
    {
     "name": "stdout",
     "output_type": "stream",
     "text": [
      "2024-09-28 23:46:12 2024-09-26 00:38:57\n"
     ]
    },
    {
     "data": {
      "text/plain": [
       "(496, 2)"
      ]
     },
     "execution_count": 505,
     "metadata": {},
     "output_type": "execute_result"
    }
   ],
   "execution_count": 505
  },
  {
   "metadata": {
    "ExecuteTime": {
     "end_time": "2024-10-12T22:45:11.763668Z",
     "start_time": "2024-10-12T22:45:11.761082Z"
    }
   },
   "cell_type": "code",
   "source": [
    "    # 0 - clearB (удаление всех товаров из корзины)\n",
    "    # 1 - visit (посещение страницы с товаром)\n",
    "    # 2 - visitCategory (посещение страницы с группой товаров)\n",
    "    # 3 - search (поиск товара)           \n",
    "    # 4 - delB (удаление товара из корзины)\n",
    "    # 5 - view (просмотр товара)\n",
    "    # 6 - like (лайк товара)\n",
    "    # 7 - addB (добавление товара в корзину)\n",
    "    # 8 - listB (посещение страницы корзины и вывод списка товаров в корзине)\n",
    "    # 9 - order (оформление заказа)"
   ],
   "id": "ab40f2294e5c64cd",
   "outputs": [],
   "execution_count": 506
  },
  {
   "metadata": {
    "ExecuteTime": {
     "end_time": "2024-10-12T22:45:16.406855Z",
     "start_time": "2024-10-12T22:45:15.267601Z"
    }
   },
   "cell_type": "code",
   "source": [
    "# Предсказания фильтрацией\n",
    "last_3_days = inters['datetime'].max() - pd.Timedelta(0, unit='D')\n",
    "last_8_days = inters['datetime'].max() - pd.Timedelta(5*24, unit='hours')\n",
    "pred_purchasers = inters.sort_values(by=['datetime', 'weight'], ascending=True)\n",
    "pred_purchasers = pred_purchasers[\n",
    "    (pred_purchasers['weight'].isin([8, 0, 4]))\n",
    "    & (pred_purchasers['datetime'] > last_8_days)\n",
    "    & (pred_purchasers['datetime'] < last_3_days)\n",
    "    & (\n",
    "            (pred_purchasers.action_7_count > 50) \n",
    "            | (pred_purchasers.action_8_count > 20) \n",
    "            | (pred_purchasers.action_9_count > 0) \n",
    "            # & (pred_purchasers.action_6_count > 0) \n",
    "            # & (pred_purchasers.action_3_count > 0)\n",
    "    )\n",
    "]\n",
    "pred_purchasers = pred_purchasers.groupby(['user_id'])['item_id'].apply(processing)\n",
    "pred_purchasers = pred_purchasers.reset_index()\n",
    "pred_purchasers.shape"
   ],
   "id": "398943f556385638",
   "outputs": [
    {
     "data": {
      "text/plain": [
       "(1761, 2)"
      ]
     },
     "execution_count": 507,
     "metadata": {},
     "output_type": "execute_result"
    }
   ],
   "execution_count": 507
  },
  {
   "metadata": {
    "ExecuteTime": {
     "end_time": "2024-10-12T22:45:19.448772Z",
     "start_time": "2024-10-12T22:45:19.444279Z"
    }
   },
   "cell_type": "code",
   "source": [
    "# Проверяем сколько пользователей из теста удалось \"зацепить\" фильтрацией\n",
    "pred_purchasers[pred_purchasers.user_id.isin(test_purchasers.user_id.unique())].shape"
   ],
   "id": "29e94d0446632ec2",
   "outputs": [
    {
     "data": {
      "text/plain": [
       "(495, 2)"
      ]
     },
     "execution_count": 508,
     "metadata": {},
     "output_type": "execute_result"
    }
   ],
   "execution_count": 508
  },
  {
   "metadata": {
    "ExecuteTime": {
     "end_time": "2024-10-12T22:45:23.169743Z",
     "start_time": "2024-10-12T22:45:23.159303Z"
    }
   },
   "cell_type": "code",
   "source": [
    "check_merge = test_purchasers.merge(pred_purchasers[-3000:], on='user_id', how='left')\n",
    "check_merge.item_id_y.loc[check_merge.item_id_y.isnull()] = check_merge.item_id_y.loc[check_merge.item_id_y.isnull()].apply(lambda x: [])\n",
    "check_merge.shape"
   ],
   "id": "a33904fee2d14bfb",
   "outputs": [
    {
     "data": {
      "text/plain": [
       "(496, 3)"
      ]
     },
     "execution_count": 509,
     "metadata": {},
     "output_type": "execute_result"
    }
   ],
   "execution_count": 509
  },
  {
   "metadata": {
    "ExecuteTime": {
     "end_time": "2024-10-12T22:45:26.705169Z",
     "start_time": "2024-10-12T22:45:26.700754Z"
    }
   },
   "cell_type": "code",
   "source": "check_merge.sample(3)",
   "id": "b7da4fd1f665a549",
   "outputs": [
    {
     "data": {
      "text/plain": [
       "                                  user_id           item_id_x  \\\n",
       "137  3ebf9d2a-c25b-11ed-a1c4-002590c82437  [6172675, 6172750]   \n",
       "489  fbd7a216-7dcd-11ef-9b7b-002590c82436           [6090812]   \n",
       "191  572534f6-7ccc-11ef-9b7b-002590c82436           [5886352]   \n",
       "\n",
       "                                         item_id_y  \n",
       "137  [6172750, 6172675, 6376993, 6377020, 6172795]  \n",
       "489                                      [6090812]  \n",
       "191                                      [5886352]  "
      ],
      "text/html": [
       "<div>\n",
       "<style scoped>\n",
       "    .dataframe tbody tr th:only-of-type {\n",
       "        vertical-align: middle;\n",
       "    }\n",
       "\n",
       "    .dataframe tbody tr th {\n",
       "        vertical-align: top;\n",
       "    }\n",
       "\n",
       "    .dataframe thead th {\n",
       "        text-align: right;\n",
       "    }\n",
       "</style>\n",
       "<table border=\"1\" class=\"dataframe\">\n",
       "  <thead>\n",
       "    <tr style=\"text-align: right;\">\n",
       "      <th></th>\n",
       "      <th>user_id</th>\n",
       "      <th>item_id_x</th>\n",
       "      <th>item_id_y</th>\n",
       "    </tr>\n",
       "  </thead>\n",
       "  <tbody>\n",
       "    <tr>\n",
       "      <th>137</th>\n",
       "      <td>3ebf9d2a-c25b-11ed-a1c4-002590c82437</td>\n",
       "      <td>[6172675, 6172750]</td>\n",
       "      <td>[6172750, 6172675, 6376993, 6377020, 6172795]</td>\n",
       "    </tr>\n",
       "    <tr>\n",
       "      <th>489</th>\n",
       "      <td>fbd7a216-7dcd-11ef-9b7b-002590c82436</td>\n",
       "      <td>[6090812]</td>\n",
       "      <td>[6090812]</td>\n",
       "    </tr>\n",
       "    <tr>\n",
       "      <th>191</th>\n",
       "      <td>572534f6-7ccc-11ef-9b7b-002590c82436</td>\n",
       "      <td>[5886352]</td>\n",
       "      <td>[5886352]</td>\n",
       "    </tr>\n",
       "  </tbody>\n",
       "</table>\n",
       "</div>"
      ]
     },
     "execution_count": 510,
     "metadata": {},
     "output_type": "execute_result"
    }
   ],
   "execution_count": 510
  },
  {
   "metadata": {
    "ExecuteTime": {
     "end_time": "2024-10-12T22:45:29.855151Z",
     "start_time": "2024-10-12T22:45:29.852798Z"
    }
   },
   "cell_type": "code",
   "source": "#### Проверяем полноту фильтрации",
   "id": "de086f09a15b86de",
   "outputs": [],
   "execution_count": 511
  },
  {
   "metadata": {
    "jupyter": {
     "is_executing": true
    }
   },
   "cell_type": "code",
   "source": [
    "check_merge['recall'] = check_merge.apply(calculate_recall, axis=1)\n",
    "check_merge['recall'].mean().round(4)"
   ],
   "id": "e8b2727593788803",
   "outputs": [],
   "execution_count": null
  },
  {
   "metadata": {
    "ExecuteTime": {
     "end_time": "2024-10-12T22:38:49.172047Z",
     "start_time": "2024-10-12T22:38:49.170337Z"
    }
   },
   "cell_type": "code",
   "source": "",
   "id": "e708eef45177dc97",
   "outputs": [],
   "execution_count": null
  },
  {
   "metadata": {
    "ExecuteTime": {
     "end_time": "2024-10-12T22:35:22.291852Z",
     "start_time": "2024-10-12T22:35:22.290395Z"
    }
   },
   "cell_type": "code",
   "source": "",
   "id": "8d71105583e8b08a",
   "outputs": [],
   "execution_count": null
  },
  {
   "metadata": {},
   "cell_type": "markdown",
   "source": "#### Используем классификатор чтобы предсказать пользователей с целевыми действиями",
   "id": "18cdcc9d7364760"
  },
  {
   "metadata": {
    "ExecuteTime": {
     "end_time": "2024-10-12T21:34:52.209949Z",
     "start_time": "2024-10-12T21:34:52.184514Z"
    }
   },
   "cell_type": "code",
   "source": "inters['datetime'].min(), inters['datetime'].max()",
   "id": "9ad035ca9ea4811a",
   "outputs": [
    {
     "data": {
      "text/plain": [
       "(Timestamp('2024-09-07 00:00:04'), Timestamp('2024-09-28 23:59:59'))"
      ]
     },
     "execution_count": 52,
     "metadata": {},
     "output_type": "execute_result"
    }
   ],
   "execution_count": 52
  },
  {
   "metadata": {
    "ExecuteTime": {
     "end_time": "2024-10-12T21:34:55.971087Z",
     "start_time": "2024-10-12T21:34:55.452977Z"
    }
   },
   "cell_type": "code",
   "source": [
    "last_3_days = inters['datetime'].max() - pd.Timedelta(0, unit='D')\n",
    "last_8_days = inters['datetime'].max() - pd.Timedelta(27, unit='D')\n",
    "pred_data = inters[(inters['datetime'] > last_8_days) & (inters['datetime'] < last_3_days)]"
   ],
   "id": "2a096716de8d5078",
   "outputs": [],
   "execution_count": 53
  },
  {
   "metadata": {
    "ExecuteTime": {
     "end_time": "2024-10-12T21:35:35.802153Z",
     "start_time": "2024-10-12T21:34:59.151733Z"
    }
   },
   "cell_type": "code",
   "source": "t = h2o.H2OFrame(pred_data[list(x)])",
   "id": "80716113f5edb9d6",
   "outputs": [],
   "execution_count": 54
  },
  {
   "metadata": {
    "ExecuteTime": {
     "end_time": "2024-10-12T21:35:35.808665Z",
     "start_time": "2024-10-12T21:35:35.806386Z"
    }
   },
   "cell_type": "code",
   "source": "t['category_id'] = t['category_id'].asfactor()",
   "id": "7008c5c0f7e486cd",
   "outputs": [],
   "execution_count": 55
  },
  {
   "metadata": {
    "ExecuteTime": {
     "end_time": "2024-10-12T21:37:16.071285Z",
     "start_time": "2024-10-12T21:35:38.177470Z"
    }
   },
   "cell_type": "code",
   "source": "preds = gbm_model.predict(t)",
   "id": "509ee3ee83313321",
   "outputs": [],
   "execution_count": 56
  },
  {
   "metadata": {},
   "cell_type": "markdown",
   "source": "#### Обьединяем предсказания с исходными данными, чтобы фильтровать дальше",
   "id": "dc571a3718d20cae"
  },
  {
   "metadata": {
    "ExecuteTime": {
     "end_time": "2024-10-12T21:54:07.954667Z",
     "start_time": "2024-10-12T21:53:40.243901Z"
    }
   },
   "cell_type": "code",
   "source": [
    "res = pd.concat(\n",
    "    [\n",
    "        pred_data[list(x) + ['weight', 'user_id', 'item_id', 'datetime']].reset_index(drop=True),\n",
    "        preds.as_data_frame().reset_index(drop=True)\n",
    "    ],\n",
    "    axis='columns',\n",
    ")"
   ],
   "id": "4c607291f16cf37f",
   "outputs": [],
   "execution_count": 118
  },
  {
   "metadata": {
    "ExecuteTime": {
     "end_time": "2024-10-12T21:54:08.773152Z",
     "start_time": "2024-10-12T21:54:07.964451Z"
    }
   },
   "cell_type": "code",
   "source": [
    "# Максимальный скор с которым предсказали целевое действие\n",
    "res['score'] = res[res.columns[-10:]].max(axis=1)"
   ],
   "id": "7c40113dbfd5ee58",
   "outputs": [],
   "execution_count": 119
  },
  {
   "metadata": {
    "ExecuteTime": {
     "end_time": "2024-10-12T21:54:13.581460Z",
     "start_time": "2024-10-12T21:54:13.579318Z"
    }
   },
   "cell_type": "code",
   "source": [
    "# Смотрим корреляцию по данным чтобы понять по чему фильтровать\n",
    "# res[list(set(res.columns) - set(['user_id']))].sample(1000).corr()"
   ],
   "id": "9afc6abd0a9bd5a3",
   "outputs": [],
   "execution_count": 120
  },
  {
   "metadata": {
    "ExecuteTime": {
     "end_time": "2024-10-12T22:42:44.984410Z",
     "start_time": "2024-10-12T22:42:44.947360Z"
    }
   },
   "cell_type": "code",
   "source": [
    "mask = (\n",
    "    (res.predict.isin([6]) & (res.score > 0.0))\n",
    "    # |\n",
    "    # (res.predict.isin([8]) & (res.score > 0.75))\n",
    ")"
   ],
   "id": "f2b8d3dcd807d5d0",
   "outputs": [],
   "execution_count": 478
  },
  {
   "metadata": {
    "ExecuteTime": {
     "end_time": "2024-10-12T22:42:53.178427Z",
     "start_time": "2024-10-12T22:42:53.090316Z"
    }
   },
   "cell_type": "code",
   "source": [
    "# Оцениваем размер таблицы после фильрации\n",
    "res[\n",
    "    mask\n",
    "].groupby('user_id')['item_id'].agg(lambda x: list(map(str, x))[:25]).reset_index().shape"
   ],
   "id": "d54d045a464a8a4c",
   "outputs": [
    {
     "data": {
      "text/plain": [
       "(3112, 2)"
      ]
     },
     "execution_count": 479,
     "metadata": {},
     "output_type": "execute_result"
    }
   ],
   "execution_count": 479
  },
  {
   "metadata": {
    "ExecuteTime": {
     "end_time": "2024-10-12T22:42:56.836526Z",
     "start_time": "2024-10-12T22:42:56.658313Z"
    }
   },
   "cell_type": "code",
   "source": [
    "# Оцениваем количество пользователей, которое удалось \"зацепить\" фильтрацией из теста\n",
    "res[\n",
    "    mask\n",
    "    & (res.user_id.isin(test_purchasers.user_id.unique()))\n",
    "].groupby('user_id')['item_id'].agg(lambda x: list(set(map(str, x)))[:25]).reset_index().shape"
   ],
   "id": "936c3aae07a92e79",
   "outputs": [
    {
     "data": {
      "text/plain": [
       "(92, 2)"
      ]
     },
     "execution_count": 480,
     "metadata": {},
     "output_type": "execute_result"
    }
   ],
   "execution_count": 480
  },
  {
   "metadata": {
    "ExecuteTime": {
     "end_time": "2024-10-12T22:43:00.931720Z",
     "start_time": "2024-10-12T22:43:00.753085Z"
    }
   },
   "cell_type": "code",
   "source": [
    "ml_users = res[\n",
    "    mask\n",
    "    & (res.user_id.isin(test_purchasers.user_id.unique()))\n",
    "].groupby('user_id')['item_id'].agg(lambda x: list(set(map(str, x)))[:25]).reset_index().user_id.to_list()"
   ],
   "id": "cac4660dfa1e65d5",
   "outputs": [],
   "execution_count": 481
  },
  {
   "metadata": {
    "ExecuteTime": {
     "end_time": "2024-10-12T22:43:00.955407Z",
     "start_time": "2024-10-12T22:43:00.951783Z"
    }
   },
   "cell_type": "code",
   "source": [
    "print(len(pred_purchasers.user_id.unique()))\n",
    "print(len(ml_users))\n",
    "print(len(set(ml_users).intersection(set(pred_purchasers.user_id.unique()))))"
   ],
   "id": "77a775ce8ff3632c",
   "outputs": [
    {
     "name": "stdout",
     "output_type": "stream",
     "text": [
      "1761\n",
      "92\n",
      "92\n"
     ]
    }
   ],
   "execution_count": 482
  },
  {
   "metadata": {
    "ExecuteTime": {
     "end_time": "2024-10-12T22:35:43.708504Z",
     "start_time": "2024-10-12T22:35:43.707019Z"
    }
   },
   "cell_type": "code",
   "source": "",
   "id": "97668af004d32ac1",
   "outputs": [],
   "execution_count": null
  },
  {
   "metadata": {
    "ExecuteTime": {
     "end_time": "2024-10-12T22:35:47.548780Z",
     "start_time": "2024-10-12T22:35:47.506785Z"
    }
   },
   "cell_type": "code",
   "source": [
    "# Генерим таблицу с кандидатами по результатам мл - предсказания\n",
    "ml_pred = res[\n",
    "    mask\n",
    "].sort_values(by=['weight'], ascending=False).groupby('user_id')['item_id'].agg(\n",
    "    lambda x: [y for y in (set(map(str, x))) if y != '-1'][:25]\n",
    ").reset_index()\n",
    "ml_pred.shape"
   ],
   "id": "4fecc641289068c",
   "outputs": [
    {
     "data": {
      "text/plain": [
       "(1804, 2)"
      ]
     },
     "execution_count": 425,
     "metadata": {},
     "output_type": "execute_result"
    }
   ],
   "execution_count": 425
  },
  {
   "metadata": {
    "ExecuteTime": {
     "end_time": "2024-10-12T22:35:50.876833Z",
     "start_time": "2024-10-12T22:35:50.874493Z"
    }
   },
   "cell_type": "code",
   "source": [
    "# Напоминание о размере таблицы с кандидатами после обычной фильтрации - оставшееся от 3000 строк место мы заполнили результатами мл\n",
    "pred_purchasers.shape"
   ],
   "id": "e0591e5a8ff67720",
   "outputs": [
    {
     "data": {
      "text/plain": [
       "(3016, 2)"
      ]
     },
     "execution_count": 426,
     "metadata": {},
     "output_type": "execute_result"
    }
   ],
   "execution_count": 426
  },
  {
   "metadata": {
    "ExecuteTime": {
     "end_time": "2024-10-12T22:35:54.133910Z",
     "start_time": "2024-10-12T22:35:54.128273Z"
    }
   },
   "cell_type": "code",
   "source": [
    "data_to_check = pd.concat(\n",
    "    [\n",
    "        ml_pred.reset_index(drop=True),\n",
    "        pred_purchasers.reset_index(drop=True),\n",
    "    ],\n",
    "    axis='rows'\n",
    ")\n",
    "print(data_to_check.shape)\n",
    "data_to_check = data_to_check.drop_duplicates(subset='user_id', keep='last') # .reset_index(drop=True)\n",
    "print(data_to_check[data_to_check.user_id.isin(test_purchasers.user_id.unique())].shape)\n",
    "data_to_check.shape"
   ],
   "id": "bf424e0840c3fdca",
   "outputs": [
    {
     "name": "stdout",
     "output_type": "stream",
     "text": [
      "(4820, 2)\n",
      "(496, 2)\n"
     ]
    },
    {
     "data": {
      "text/plain": [
       "(3826, 2)"
      ]
     },
     "execution_count": 427,
     "metadata": {},
     "output_type": "execute_result"
    }
   ],
   "execution_count": 427
  },
  {
   "metadata": {
    "ExecuteTime": {
     "end_time": "2024-10-12T22:35:57.329013Z",
     "start_time": "2024-10-12T22:35:57.326384Z"
    }
   },
   "cell_type": "code",
   "source": [
    "# Ограничим резульат 3000 строк (как по условию). Так как данные обычной фильтрации эффективнее и они в конце обьединенных данных - ограничим с конца\n",
    "data_to_check[-3000:].shape"
   ],
   "id": "7e97f625035edf8a",
   "outputs": [
    {
     "data": {
      "text/plain": [
       "(3000, 2)"
      ]
     },
     "execution_count": 428,
     "metadata": {},
     "output_type": "execute_result"
    }
   ],
   "execution_count": 428
  },
  {
   "metadata": {},
   "cell_type": "markdown",
   "source": "#### Проверяем результат локально на данных фильтрация + мл",
   "id": "cf4f7af1874236d7"
  },
  {
   "metadata": {
    "ExecuteTime": {
     "end_time": "2024-10-12T22:36:00.503899Z",
     "start_time": "2024-10-12T22:36:00.495672Z"
    }
   },
   "cell_type": "code",
   "source": [
    "# check_merge_ml = test_purchasers.merge(data_to_check.sample(3000, random_state=42), on='user_id', how='left')\n",
    "check_merge_ml = test_purchasers.merge(data_to_check[-3000:], on='user_id', how='left')\n",
    "check_merge_ml.item_id_y.loc[check_merge_ml.item_id_y.isnull()] = check_merge_ml.item_id_y.loc[check_merge_ml.item_id_y.isnull()].apply(lambda x: [])\n",
    "print(check_merge_ml.shape)\n",
    "check_merge_ml['recall'] = check_merge_ml.apply(calculate_recall, axis=1)\n",
    "check_merge_ml['recall'].mean().round(4)"
   ],
   "id": "38a2437811180840",
   "outputs": [
    {
     "name": "stdout",
     "output_type": "stream",
     "text": [
      "(496, 3)\n"
     ]
    },
    {
     "data": {
      "text/plain": [
       "0.4966"
      ]
     },
     "execution_count": 429,
     "metadata": {},
     "output_type": "execute_result"
    }
   ],
   "execution_count": 429
  },
  {
   "metadata": {},
   "cell_type": "code",
   "source": "",
   "id": "5fc85e854d30f27c",
   "outputs": [],
   "execution_count": null
  },
  {
   "metadata": {},
   "cell_type": "markdown",
   "source": [
    "### Построение рекомендаций \n",
    "дополним данные после фильрации товарами на основе \"оценок\" пользователей (ценность действия интерпретируем как оценку)"
   ],
   "id": "b7ed9351358d87e3"
  },
  {
   "metadata": {},
   "cell_type": "markdown",
   "source": "#### Построение модели",
   "id": "756b9be360307a10"
  },
  {
   "metadata": {
    "ExecuteTime": {
     "end_time": "2024-10-12T21:38:26.578398Z",
     "start_time": "2024-10-12T21:38:26.576002Z"
    }
   },
   "cell_type": "code",
   "source": [
    "K_RECOS = 25\n",
    "NUM_THREADS = 24\n",
    "RANDOM_STATE = 32\n",
    "ITERATIONS = 25"
   ],
   "id": "2a979d8d60da505d",
   "outputs": [],
   "execution_count": 71
  },
  {
   "metadata": {
    "ExecuteTime": {
     "end_time": "2024-10-12T21:38:33.975860Z",
     "start_time": "2024-10-12T21:38:33.973754Z"
    }
   },
   "cell_type": "code",
   "source": [
    "def make_base_model(factors: int, regularization: float, alpha: float, fit_features_together: bool=False):\n",
    "    return ImplicitALSWrapperModel(\n",
    "        AlternatingLeastSquares(\n",
    "            factors=factors,\n",
    "            regularization=regularization,\n",
    "            alpha=alpha,\n",
    "            random_state=RANDOM_STATE,\n",
    "            use_gpu=False,\n",
    "            num_threads = NUM_THREADS,\n",
    "            iterations=ITERATIONS),\n",
    "        fit_features_together = fit_features_together,\n",
    "        )"
   ],
   "id": "c76217e904af56de",
   "outputs": [],
   "execution_count": 72
  },
  {
   "metadata": {
    "ExecuteTime": {
     "end_time": "2024-10-12T21:38:34.028117Z",
     "start_time": "2024-10-12T21:38:34.024604Z"
    }
   },
   "cell_type": "code",
   "source": "",
   "id": "b431ae38edd475c5",
   "outputs": [],
   "execution_count": null
  },
  {
   "metadata": {
    "ExecuteTime": {
     "end_time": "2024-10-12T21:38:38.071601Z",
     "start_time": "2024-10-12T21:38:37.321672Z"
    }
   },
   "cell_type": "code",
   "source": [
    "last_3_days = inters['datetime'].max() - pd.Timedelta(0, unit='D')\n",
    "last_8_days = inters['datetime'].max() - pd.Timedelta(27, unit='D')\n",
    "recos_data = inters[\n",
    "    (inters['datetime'] > last_8_days)\n",
    "    & (inters['datetime'] < last_3_days) \n",
    "    # & ((inters['weight'] > 3))   # дейсвтия ниже 5 не привязаны к товару, чтобы не рекомендовать -1 и сэкономить на размере входных данных - фильтруем\n",
    "]"
   ],
   "id": "24ff12b544a9ff36",
   "outputs": [],
   "execution_count": 73
  },
  {
   "metadata": {
    "ExecuteTime": {
     "end_time": "2024-10-12T21:38:42.504739Z",
     "start_time": "2024-10-12T21:38:42.444730Z"
    }
   },
   "cell_type": "code",
   "source": [
    "items = _catalog.rename(columns={'product_id': 'item_id'})\n",
    "\n",
    "items = items.loc[items['item_id'].isin(recos_data['item_id'])].copy()\n",
    "\n",
    "item_feature = items[[\"item_id\", \"category_id\"]].explode(\"category_id\")\n",
    "item_feature.columns = [\"id\", \"value\"]\n",
    "item_feature[\"feature\"] = \"category_id\"\n",
    "item_features = pd.concat((item_feature,))"
   ],
   "id": "c9049f3dd5d6aae2",
   "outputs": [],
   "execution_count": 74
  },
  {
   "metadata": {
    "ExecuteTime": {
     "end_time": "2024-10-12T21:38:45.884671Z",
     "start_time": "2024-10-12T21:38:45.879140Z"
    }
   },
   "cell_type": "code",
   "source": "item_features.sample(3)",
   "id": "afb2cc1ae4d8cb5d",
   "outputs": [
    {
     "data": {
      "text/plain": [
       "            id value      feature\n",
       "35392  4959463  7081  category_id\n",
       "78610  6627159  1702  category_id\n",
       "81579  6742515  8945  category_id"
      ],
      "text/html": [
       "<div>\n",
       "<style scoped>\n",
       "    .dataframe tbody tr th:only-of-type {\n",
       "        vertical-align: middle;\n",
       "    }\n",
       "\n",
       "    .dataframe tbody tr th {\n",
       "        vertical-align: top;\n",
       "    }\n",
       "\n",
       "    .dataframe thead th {\n",
       "        text-align: right;\n",
       "    }\n",
       "</style>\n",
       "<table border=\"1\" class=\"dataframe\">\n",
       "  <thead>\n",
       "    <tr style=\"text-align: right;\">\n",
       "      <th></th>\n",
       "      <th>id</th>\n",
       "      <th>value</th>\n",
       "      <th>feature</th>\n",
       "    </tr>\n",
       "  </thead>\n",
       "  <tbody>\n",
       "    <tr>\n",
       "      <th>35392</th>\n",
       "      <td>4959463</td>\n",
       "      <td>7081</td>\n",
       "      <td>category_id</td>\n",
       "    </tr>\n",
       "    <tr>\n",
       "      <th>78610</th>\n",
       "      <td>6627159</td>\n",
       "      <td>1702</td>\n",
       "      <td>category_id</td>\n",
       "    </tr>\n",
       "    <tr>\n",
       "      <th>81579</th>\n",
       "      <td>6742515</td>\n",
       "      <td>8945</td>\n",
       "      <td>category_id</td>\n",
       "    </tr>\n",
       "  </tbody>\n",
       "</table>\n",
       "</div>"
      ]
     },
     "execution_count": 75,
     "metadata": {},
     "output_type": "execute_result"
    }
   ],
   "execution_count": 75
  },
  {
   "metadata": {
    "ExecuteTime": {
     "end_time": "2024-10-12T21:38:50.331376Z",
     "start_time": "2024-10-12T21:38:50.302418Z"
    }
   },
   "cell_type": "code",
   "source": "recos_data.weight.unique()",
   "id": "feaaf4f26e413175",
   "outputs": [
    {
     "data": {
      "text/plain": [
       "array([0, 1, 2, 3, 4, 5, 6, 7, 8, 9])"
      ]
     },
     "execution_count": 76,
     "metadata": {},
     "output_type": "execute_result"
    }
   ],
   "execution_count": 76
  },
  {
   "metadata": {
    "ExecuteTime": {
     "end_time": "2024-10-12T21:43:01.644264Z",
     "start_time": "2024-10-12T21:38:50.407342Z"
    }
   },
   "cell_type": "code",
   "source": [
    "recs_dataset = Dataset.construct(\n",
    "    interactions_df=recos_data[['user_id', 'item_id', 'weight', 'datetime']],\n",
    "    item_features_df=item_features,\n",
    "    cat_item_features=[\"category_id\"],\n",
    ")\n",
    "\n",
    "model = make_base_model(factors=256, regularization=0.2, alpha=100)\n",
    "model.fit(recs_dataset)"
   ],
   "id": "6d652d721b1a922c",
   "outputs": [
    {
     "name": "stderr",
     "output_type": "stream",
     "text": [
      "100%|██████████| 1/1 [01:45<00:00, 105.57s/it]\n"
     ]
    },
    {
     "data": {
      "text/plain": [
       "<rectools.models.implicit_als.ImplicitALSWrapperModel at 0x7d8b495abb10>"
      ]
     },
     "execution_count": 77,
     "metadata": {},
     "output_type": "execute_result"
    }
   ],
   "execution_count": 77
  },
  {
   "metadata": {
    "ExecuteTime": {
     "end_time": "2024-10-12T22:36:16.406617Z",
     "start_time": "2024-10-12T22:36:08.371731Z"
    }
   },
   "cell_type": "code",
   "source": [
    "recos = model.recommend(\n",
    "    users=data_to_check[-3000:].user_id,\n",
    "    dataset=recs_dataset,\n",
    "    k=22,\n",
    "    filter_viewed=False,\n",
    ")"
   ],
   "id": "e4dab274d782581a",
   "outputs": [],
   "execution_count": 430
  },
  {
   "metadata": {
    "ExecuteTime": {
     "end_time": "2024-10-12T22:36:16.415903Z",
     "start_time": "2024-10-12T22:36:16.411303Z"
    }
   },
   "cell_type": "code",
   "source": "recos = recos[recos.item_id > -1]",
   "id": "15653f013cc89695",
   "outputs": [],
   "execution_count": 431
  },
  {
   "metadata": {
    "ExecuteTime": {
     "end_time": "2024-10-12T22:36:20.213606Z",
     "start_time": "2024-10-12T22:36:20.211940Z"
    }
   },
   "cell_type": "code",
   "source": "",
   "id": "237914981f8f6682",
   "outputs": [],
   "execution_count": null
  },
  {
   "metadata": {},
   "cell_type": "markdown",
   "source": "#### Дополняем данные с предыдущих предсказаний (фильтрация + ml) ",
   "id": "dbf96e9618c2aa55"
  },
  {
   "metadata": {
    "ExecuteTime": {
     "end_time": "2024-10-12T22:36:23.741676Z",
     "start_time": "2024-10-12T22:36:23.707177Z"
    }
   },
   "cell_type": "code",
   "source": "recos_agg = recos.groupby('user_id')['item_id'].agg(lambda x: list(map(str, x))).reset_index()",
   "id": "ace9ca55b8ca263",
   "outputs": [],
   "execution_count": 432
  },
  {
   "metadata": {
    "ExecuteTime": {
     "end_time": "2024-10-12T22:36:30.415149Z",
     "start_time": "2024-10-12T22:36:30.411456Z"
    }
   },
   "cell_type": "code",
   "source": [
    "recos_agg_selected_uid = recos_agg[\n",
    "    recos_agg.user_id.isin(\n",
    "        data_to_check[-3000:].user_id\n",
    "    )\n",
    "]"
   ],
   "id": "f21bb1e0291b115e",
   "outputs": [],
   "execution_count": 433
  },
  {
   "metadata": {
    "ExecuteTime": {
     "end_time": "2024-10-12T22:36:30.422328Z",
     "start_time": "2024-10-12T22:36:30.419405Z"
    }
   },
   "cell_type": "code",
   "source": "recos_agg_selected_uid.shape",
   "id": "19423cc75ee0229",
   "outputs": [
    {
     "data": {
      "text/plain": [
       "(3000, 2)"
      ]
     },
     "execution_count": 434,
     "metadata": {},
     "output_type": "execute_result"
    }
   ],
   "execution_count": 434
  },
  {
   "metadata": {
    "ExecuteTime": {
     "end_time": "2024-10-12T22:36:33.605780Z",
     "start_time": "2024-10-12T22:36:33.600836Z"
    }
   },
   "cell_type": "code",
   "source": [
    "# Объединяем рекомендации с предсказанями фильтрацией и мл\n",
    "enriched_data_to_check = data_to_check[-3000:].merge(recos_agg_selected_uid, on='user_id', how='left')"
   ],
   "id": "a91bbd7f6b42311a",
   "outputs": [],
   "execution_count": 435
  },
  {
   "metadata": {
    "ExecuteTime": {
     "end_time": "2024-10-12T22:36:36.820829Z",
     "start_time": "2024-10-12T22:36:36.817546Z"
    }
   },
   "cell_type": "code",
   "source": "enriched_data_to_check.columns",
   "id": "12e644962bd8eea2",
   "outputs": [
    {
     "data": {
      "text/plain": [
       "Index(['user_id', 'item_id_x', 'item_id_y'], dtype='object')"
      ]
     },
     "execution_count": 436,
     "metadata": {},
     "output_type": "execute_result"
    }
   ],
   "execution_count": 436
  },
  {
   "metadata": {
    "ExecuteTime": {
     "end_time": "2024-10-12T22:36:43.430154Z",
     "start_time": "2024-10-12T22:36:43.427086Z"
    }
   },
   "cell_type": "code",
   "source": [
    "# Заполняем nan пустыми списками для корректного расчета метрики\n",
    "enriched_data_to_check.item_id_y.loc[enriched_data_to_check.item_id_y.isnull()] = enriched_data_to_check.item_id_y.loc[enriched_data_to_check.item_id_y.isnull()].apply(lambda x: [])"
   ],
   "id": "81053f9e282beee7",
   "outputs": [],
   "execution_count": 437
  },
  {
   "metadata": {
    "ExecuteTime": {
     "end_time": "2024-10-12T22:36:46.585228Z",
     "start_time": "2024-10-12T22:36:46.581543Z"
    }
   },
   "cell_type": "code",
   "source": [
    "# Обьединяем исходное предсказание рекомендациями по rectools - сначала исходные айди, потом рекоммендации (порядок важен, тк далее оставляем только 25 элементов списка)\n",
    "enriched_data_to_check['item_id'] = enriched_data_to_check['item_id_x'] + enriched_data_to_check['item_id_y']"
   ],
   "id": "d535010dd8203776",
   "outputs": [],
   "execution_count": 438
  },
  {
   "metadata": {
    "ExecuteTime": {
     "end_time": "2024-10-12T22:36:46.595772Z",
     "start_time": "2024-10-12T22:36:46.591727Z"
    }
   },
   "cell_type": "code",
   "source": [
    "enriched_data_to_check['products_count'] = enriched_data_to_check['item_id'].apply(len)\n",
    "enriched_data_to_check['products_count'].mean()"
   ],
   "id": "dad87f86e3396456",
   "outputs": [
    {
     "data": {
      "text/plain": [
       "25.281666666666666"
      ]
     },
     "execution_count": 439,
     "metadata": {},
     "output_type": "execute_result"
    }
   ],
   "execution_count": 439
  },
  {
   "metadata": {
    "ExecuteTime": {
     "end_time": "2024-10-12T22:36:50.013963Z",
     "start_time": "2024-10-12T22:36:50.005305Z"
    }
   },
   "cell_type": "code",
   "source": [
    "# Убеждаемся что добавлением новых товаров мы не вышли \n",
    "enriched_data_to_check['item_id'] = enriched_data_to_check['item_id'].apply(lambda x: list(set(x[:25])))"
   ],
   "id": "676c823cbb3a2c82",
   "outputs": [],
   "execution_count": 440
  },
  {
   "metadata": {
    "ExecuteTime": {
     "end_time": "2024-10-12T22:36:53.420712Z",
     "start_time": "2024-10-12T22:36:53.417626Z"
    }
   },
   "cell_type": "code",
   "source": [
    "enriched_data_to_check['products_count'] = enriched_data_to_check['item_id'].apply(len)\n",
    "enriched_data_to_check['products_count'].mean()"
   ],
   "id": "4c3dc27bda2589c7",
   "outputs": [
    {
     "data": {
      "text/plain": [
       "21.752"
      ]
     },
     "execution_count": 441,
     "metadata": {},
     "output_type": "execute_result"
    }
   ],
   "execution_count": 441
  },
  {
   "metadata": {
    "ExecuteTime": {
     "end_time": "2024-10-12T22:36:56.992780Z",
     "start_time": "2024-10-12T22:36:56.990266Z"
    }
   },
   "cell_type": "code",
   "source": "enriched_data_to_check = enriched_data_to_check[['user_id', 'item_id']]",
   "id": "787e6e120926c0f8",
   "outputs": [],
   "execution_count": 442
  },
  {
   "metadata": {
    "ExecuteTime": {
     "end_time": "2024-10-12T22:37:00.200552Z",
     "start_time": "2024-10-12T22:37:00.197473Z"
    }
   },
   "cell_type": "code",
   "source": "enriched_data_to_check.drop_duplicates(subset=['user_id']).shape",
   "id": "2a699c3f67dc091e",
   "outputs": [
    {
     "data": {
      "text/plain": [
       "(3000, 2)"
      ]
     },
     "execution_count": 443,
     "metadata": {},
     "output_type": "execute_result"
    }
   ],
   "execution_count": 443
  },
  {
   "metadata": {
    "ExecuteTime": {
     "end_time": "2024-10-12T22:37:03.425953Z",
     "start_time": "2024-10-12T22:37:03.417001Z"
    }
   },
   "cell_type": "code",
   "source": [
    "check_merge_ml = test_purchasers.merge(enriched_data_to_check[-3000:], on='user_id', how='left')\n",
    "check_merge_ml.item_id_y.loc[check_merge_ml.item_id_y.isnull()] = check_merge_ml.item_id_y.loc[check_merge_ml.item_id_y.isnull()].apply(lambda x: [])\n",
    "print(check_merge_ml.shape)\n",
    "check_merge_ml['recall'] = check_merge_ml.apply(calculate_recall, axis=1)\n",
    "check_merge_ml['recall'].mean().round(4)"
   ],
   "id": "2f78de4bca3db947",
   "outputs": [
    {
     "name": "stdout",
     "output_type": "stream",
     "text": [
      "(496, 3)\n"
     ]
    },
    {
     "data": {
      "text/plain": [
       "0.4976"
      ]
     },
     "execution_count": 444,
     "metadata": {},
     "output_type": "execute_result"
    }
   ],
   "execution_count": 444
  },
  {
   "metadata": {
    "ExecuteTime": {
     "end_time": "2024-10-12T22:37:06.987300Z",
     "start_time": "2024-10-12T22:37:06.985813Z"
    }
   },
   "cell_type": "code",
   "source": "",
   "id": "6995bf5b371144ee",
   "outputs": [],
   "execution_count": null
  },
  {
   "metadata": {
    "ExecuteTime": {
     "end_time": "2024-10-12T22:01:00.390149Z",
     "start_time": "2024-10-12T22:01:00.388659Z"
    }
   },
   "cell_type": "code",
   "source": "",
   "id": "40df2af073215d1e",
   "outputs": [],
   "execution_count": null
  },
  {
   "metadata": {},
   "cell_type": "markdown",
   "source": "### Сохраняем результаты",
   "id": "c2f3bbb02c579c0e"
  },
  {
   "metadata": {
    "ExecuteTime": {
     "end_time": "2024-10-12T22:05:14.974314Z",
     "start_time": "2024-10-12T22:05:14.958188Z"
    }
   },
   "cell_type": "code",
   "source": "enriched_data_to_check.rename(columns={'item_id': 'products'}).reset_index(drop=True).to_csv(\"r_final.csv\", index=False)",
   "id": "6533fd075d463a8b",
   "outputs": [],
   "execution_count": 254
  },
  {
   "metadata": {
    "ExecuteTime": {
     "end_time": "2024-10-12T22:05:18.102722Z",
     "start_time": "2024-10-12T22:05:18.095248Z"
    }
   },
   "cell_type": "code",
   "source": "pd.read_csv('r_final.csv').shape",
   "id": "c0ecc478bd15bf87",
   "outputs": [
    {
     "data": {
      "text/plain": [
       "(3000, 2)"
      ]
     },
     "execution_count": 255,
     "metadata": {},
     "output_type": "execute_result"
    }
   ],
   "execution_count": 255
  },
  {
   "metadata": {
    "ExecuteTime": {
     "end_time": "2024-10-11T18:43:37.274224Z",
     "start_time": "2024-10-11T18:43:37.271920Z"
    }
   },
   "cell_type": "code",
   "outputs": [],
   "source": "",
   "id": "d863abf0bb1e67d8",
   "execution_count": null
  },
  {
   "metadata": {
    "ExecuteTime": {
     "end_time": "2024-10-12T19:55:48.181475Z",
     "start_time": "2024-10-12T19:55:48.170983Z"
    }
   },
   "cell_type": "code",
   "source": "",
   "id": "2739db0f3171a8d3",
   "outputs": [],
   "execution_count": null
  },
  {
   "metadata": {
    "ExecuteTime": {
     "end_time": "2024-10-12T19:55:48.415464Z",
     "start_time": "2024-10-12T19:55:48.412451Z"
    }
   },
   "cell_type": "code",
   "source": "",
   "id": "ae92da6258d84fed",
   "outputs": [],
   "execution_count": 524
  },
  {
   "metadata": {
    "ExecuteTime": {
     "end_time": "2024-10-12T20:46:38.732230Z",
     "start_time": "2024-10-12T20:46:38.609391Z"
    }
   },
   "cell_type": "code",
   "source": [
    "catalog = pd.read_parquet(f'{Path.cwd().parent}/data/stokman_catalog_preprocessed.pq', engine='pyarrow')\n",
    "catalog.head()\n",
    "\n",
    "catalog['desc'] = catalog['category_id'].astype(str) + ' ' + catalog['title']\n",
    "catalog = catalog.drop_duplicates(subset='product_id').reset_index(drop=True)\n",
    "catalog = catalog.dropna(subset=['desc'])\n",
    "catalog.shape"
   ],
   "id": "196b1c34e558f18d",
   "outputs": [
    {
     "data": {
      "text/plain": [
       "(89483, 8)"
      ]
     },
     "execution_count": 775,
     "metadata": {},
     "output_type": "execute_result"
    }
   ],
   "execution_count": 775
  },
  {
   "metadata": {
    "ExecuteTime": {
     "end_time": "2024-10-12T20:46:42.700794Z",
     "start_time": "2024-10-12T20:46:39.007897Z"
    }
   },
   "cell_type": "code",
   "source": [
    "documents = catalog.desc.dropna().to_list()\n",
    "print(len(documents))\n",
    "vectorizer = TfidfVectorizer(lowercase=False)\n",
    "tfidf_matrix = vectorizer.fit_transform(documents).toarray().astype('float32')"
   ],
   "id": "429802d2498f1017",
   "outputs": [
    {
     "name": "stdout",
     "output_type": "stream",
     "text": [
      "89483\n"
     ]
    }
   ],
   "execution_count": 776
  },
  {
   "metadata": {
    "ExecuteTime": {
     "end_time": "2024-10-12T19:58:28.047041Z",
     "start_time": "2024-10-12T19:55:55.529708Z"
    }
   },
   "cell_type": "code",
   "source": "index = create_index_hnsw(tfidf_matrix)",
   "id": "9b0b372ac4581d6f",
   "outputs": [],
   "execution_count": 527
  },
  {
   "metadata": {
    "ExecuteTime": {
     "end_time": "2024-10-12T19:58:28.157428Z",
     "start_time": "2024-10-12T19:58:28.155569Z"
    }
   },
   "cell_type": "code",
   "source": "# dict(zip(vectorizer.vocabulary_, vectorizer.idf_)) ",
   "id": "35e3099035168af9",
   "outputs": [],
   "execution_count": 529
  },
  {
   "metadata": {
    "ExecuteTime": {
     "end_time": "2024-10-12T20:47:14.597073Z",
     "start_time": "2024-10-12T20:47:14.592244Z"
    }
   },
   "cell_type": "code",
   "source": [
    "query_vector = vectorizer.transform(['230 38721 36072 46732 26240 32815',])\n",
    "\n",
    "N = 1\n",
    "_, indices = index.search(query_vector.toarray().reshape(1, -1), 4) \n",
    "for indx in range(N):\n",
    "    match = catalog.iloc[indices[0][indx]].to_dict()\n",
    "    print(match['product_id'], ' ', match['desc'])\n",
    "    "
   ],
   "id": "f3655a49691d9410",
   "outputs": [
    {
     "name": "stdout",
     "output_type": "stream",
     "text": [
      "5920453   230 38721 36072 46732 26240 32815\n"
     ]
    }
   ],
   "execution_count": 780
  },
  {
   "metadata": {
    "ExecuteTime": {
     "end_time": "2024-10-12T20:48:28.580914Z",
     "start_time": "2024-10-12T20:48:28.576807Z"
    }
   },
   "cell_type": "code",
   "source": [
    "def get_similar(x):\n",
    "    res = []\n",
    "    for y in x[:4]:\n",
    "        cand = catalog[catalog.product_id == y]\n",
    "        if cand.shape[0] > 0:\n",
    "            to_match = cand.desc.values[0]\n",
    "            query_vector = vectorizer.transform([to_match, ])\n",
    "            _, indices = index.search(query_vector.toarray().reshape(1, -1), 2)\n",
    "            match1 = catalog.iloc[indices[0][0]].to_dict()\n",
    "            match2 = catalog.iloc[indices[0][1]].to_dict()\n",
    "            res.append(match1['product_id'])\n",
    "            res.append(match2['product_id'])\n",
    "    return res"
   ],
   "id": "fabbe4620f5c4ce3",
   "outputs": [],
   "execution_count": 786
  },
  {
   "metadata": {
    "ExecuteTime": {
     "end_time": "2024-10-12T20:48:30.469362Z",
     "start_time": "2024-10-12T20:48:30.466737Z"
    }
   },
   "cell_type": "code",
   "source": "enriched_data_to_check_w_similar = enriched_data_to_check.copy()",
   "id": "637a59eae9bf8f02",
   "outputs": [],
   "execution_count": 787
  },
  {
   "metadata": {
    "ExecuteTime": {
     "end_time": "2024-10-12T20:49:28.543048Z",
     "start_time": "2024-10-12T20:48:30.738141Z"
    }
   },
   "cell_type": "code",
   "source": "enriched_data_to_check_w_similar['items_sim']  = enriched_data_to_check_w_similar['item_id'].apply(lambda x: get_similar(x))",
   "id": "9773f2bfae7e6e25",
   "outputs": [],
   "execution_count": 788
  },
  {
   "metadata": {
    "ExecuteTime": {
     "end_time": "2024-10-12T20:49:42.040599Z",
     "start_time": "2024-10-12T20:49:42.033501Z"
    }
   },
   "cell_type": "code",
   "source": [
    "# Убеждаемся что добавлением новых товаров мы не вышли \n",
    "enriched_data_to_check_w_similar['item_id'] = enriched_data_to_check_w_similar['item_id'] + enriched_data_to_check_w_similar['items_sim'].apply(lambda x: list(set(x)))"
   ],
   "id": "c3c88ee891ccd8f6",
   "outputs": [],
   "execution_count": 789
  },
  {
   "metadata": {
    "ExecuteTime": {
     "end_time": "2024-10-12T20:49:43.997480Z",
     "start_time": "2024-10-12T20:49:43.977274Z"
    }
   },
   "cell_type": "code",
   "source": "enriched_data_to_check_w_similar['item_id'] = enriched_data_to_check_w_similar['item_id'].apply(lambda x: sorted(list(set(x[:25])), reverse=True))",
   "id": "24420341df21eac3",
   "outputs": [],
   "execution_count": 790
  },
  {
   "metadata": {
    "ExecuteTime": {
     "end_time": "2024-10-12T20:49:44.646287Z",
     "start_time": "2024-10-12T20:49:44.642132Z"
    }
   },
   "cell_type": "code",
   "source": [
    "enriched_data_to_check_w_similar['products_count'] = enriched_data_to_check_w_similar['item_id'].apply(len)\n",
    "enriched_data_to_check_w_similar['products_count'].mean()"
   ],
   "id": "a89a926a41991209",
   "outputs": [
    {
     "data": {
      "text/plain": [
       "23.474"
      ]
     },
     "execution_count": 791,
     "metadata": {},
     "output_type": "execute_result"
    }
   ],
   "execution_count": 791
  },
  {
   "metadata": {
    "ExecuteTime": {
     "end_time": "2024-10-12T20:49:45.243835Z",
     "start_time": "2024-10-12T20:49:45.234765Z"
    }
   },
   "cell_type": "code",
   "source": "enriched_data_to_check_w_similar.sample(5)",
   "id": "d0e1dd45a2e291fb",
   "outputs": [
    {
     "data": {
      "text/plain": [
       "                                   user_id  \\\n",
       "1207  6ce9e6ac-4383-11ee-86e0-002590c0647c   \n",
       "166   15492920-4c9f-11ed-8644-002590c82437   \n",
       "1978  a95cc5ca-025f-11ed-bf62-002590c82437   \n",
       "2459  d162bc0e-31b3-11e8-a0d7-002590e45c38   \n",
       "2157  b8ae1e90-5b84-11ef-86e0-002590c0647c   \n",
       "\n",
       "                                                item_id  \\\n",
       "1207  [787768, 734339, 6606440, 6438154, 6438151, 64...   \n",
       "166   [718659, 718652, 6886686, 6588035, 6422179, 64...   \n",
       "1978  [5880976, 5880442, 5418100, 5313529, 5313490, ...   \n",
       "2459  [6655476, 6627677, 6627675, 6481510, 6481492, ...   \n",
       "2157  [6534112, 6534088, 6534079, 6534028, 6534001, ...   \n",
       "\n",
       "                                              items_sim  products_count  \n",
       "1207  [787768, 4964878, 1334129, 1335152, 6652005, 6...              25  \n",
       "166   [718652, 718659, 6886686, 1041541, 6588035, 59...              24  \n",
       "1978  [5880976, 5880442, 5418100, 5399602, 5313490, ...              23  \n",
       "2459  [6655476, 6110206, 6627675, 6627677, 6481492, ...              24  \n",
       "2157  [6533962, 6534088, 6533962, 6534088, 6533944, ...              21  "
      ],
      "text/html": [
       "<div>\n",
       "<style scoped>\n",
       "    .dataframe tbody tr th:only-of-type {\n",
       "        vertical-align: middle;\n",
       "    }\n",
       "\n",
       "    .dataframe tbody tr th {\n",
       "        vertical-align: top;\n",
       "    }\n",
       "\n",
       "    .dataframe thead th {\n",
       "        text-align: right;\n",
       "    }\n",
       "</style>\n",
       "<table border=\"1\" class=\"dataframe\">\n",
       "  <thead>\n",
       "    <tr style=\"text-align: right;\">\n",
       "      <th></th>\n",
       "      <th>user_id</th>\n",
       "      <th>item_id</th>\n",
       "      <th>items_sim</th>\n",
       "      <th>products_count</th>\n",
       "    </tr>\n",
       "  </thead>\n",
       "  <tbody>\n",
       "    <tr>\n",
       "      <th>1207</th>\n",
       "      <td>6ce9e6ac-4383-11ee-86e0-002590c0647c</td>\n",
       "      <td>[787768, 734339, 6606440, 6438154, 6438151, 64...</td>\n",
       "      <td>[787768, 4964878, 1334129, 1335152, 6652005, 6...</td>\n",
       "      <td>25</td>\n",
       "    </tr>\n",
       "    <tr>\n",
       "      <th>166</th>\n",
       "      <td>15492920-4c9f-11ed-8644-002590c82437</td>\n",
       "      <td>[718659, 718652, 6886686, 6588035, 6422179, 64...</td>\n",
       "      <td>[718652, 718659, 6886686, 1041541, 6588035, 59...</td>\n",
       "      <td>24</td>\n",
       "    </tr>\n",
       "    <tr>\n",
       "      <th>1978</th>\n",
       "      <td>a95cc5ca-025f-11ed-bf62-002590c82437</td>\n",
       "      <td>[5880976, 5880442, 5418100, 5313529, 5313490, ...</td>\n",
       "      <td>[5880976, 5880442, 5418100, 5399602, 5313490, ...</td>\n",
       "      <td>23</td>\n",
       "    </tr>\n",
       "    <tr>\n",
       "      <th>2459</th>\n",
       "      <td>d162bc0e-31b3-11e8-a0d7-002590e45c38</td>\n",
       "      <td>[6655476, 6627677, 6627675, 6481510, 6481492, ...</td>\n",
       "      <td>[6655476, 6110206, 6627675, 6627677, 6481492, ...</td>\n",
       "      <td>24</td>\n",
       "    </tr>\n",
       "    <tr>\n",
       "      <th>2157</th>\n",
       "      <td>b8ae1e90-5b84-11ef-86e0-002590c0647c</td>\n",
       "      <td>[6534112, 6534088, 6534079, 6534028, 6534001, ...</td>\n",
       "      <td>[6533962, 6534088, 6533962, 6534088, 6533944, ...</td>\n",
       "      <td>21</td>\n",
       "    </tr>\n",
       "  </tbody>\n",
       "</table>\n",
       "</div>"
      ]
     },
     "execution_count": 792,
     "metadata": {},
     "output_type": "execute_result"
    }
   ],
   "execution_count": 792
  },
  {
   "metadata": {
    "ExecuteTime": {
     "end_time": "2024-10-12T20:49:46.171705Z",
     "start_time": "2024-10-12T20:49:46.160852Z"
    }
   },
   "cell_type": "code",
   "source": [
    "check_merge_ml = test_purchasers.merge(enriched_data_to_check_w_similar[-3000:], on='user_id', how='left')\n",
    "check_merge_ml.item_id_y.loc[check_merge_ml.item_id_y.isnull()] = check_merge_ml.item_id_y.loc[check_merge_ml.item_id_y.isnull()].apply(lambda x: [])\n",
    "print(check_merge_ml.shape)\n",
    "check_merge_ml['recall'] = check_merge_ml.apply(calculate_recall, axis=1)\n",
    "check_merge_ml['recall'].mean().round(4)"
   ],
   "id": "ef545c52ed19d730",
   "outputs": [
    {
     "name": "stdout",
     "output_type": "stream",
     "text": [
      "(496, 5)\n"
     ]
    },
    {
     "data": {
      "text/plain": [
       "0.0857"
      ]
     },
     "execution_count": 793,
     "metadata": {},
     "output_type": "execute_result"
    }
   ],
   "execution_count": 793
  },
  {
   "metadata": {},
   "cell_type": "code",
   "outputs": [],
   "execution_count": null,
   "source": "",
   "id": "4c6911b9fd715390"
  },
  {
   "metadata": {},
   "cell_type": "code",
   "outputs": [],
   "execution_count": null,
   "source": "",
   "id": "69e00c9e4decd673"
  },
  {
   "metadata": {
    "ExecuteTime": {
     "end_time": "2024-10-10T11:43:02.271963Z",
     "start_time": "2024-10-10T11:43:02.237844Z"
    }
   },
   "cell_type": "code",
   "outputs": [],
   "execution_count": 176,
   "source": [
    "# Не забываем выключить кластер h2o на локальной машине\n",
    "h2o.cluster().shutdown()"
   ],
   "id": "86e0213bf4b74754"
  },
  {
   "metadata": {},
   "cell_type": "code",
   "outputs": [],
   "source": "",
   "id": "9fe39f68ddcdd212",
   "execution_count": null
  }
 ],
 "metadata": {
  "kernelspec": {
   "display_name": "Python 3",
   "language": "python",
   "name": "python3"
  },
  "language_info": {
   "codemirror_mode": {
    "name": "ipython",
    "version": 2
   },
   "file_extension": ".py",
   "mimetype": "text/x-python",
   "name": "python",
   "nbconvert_exporter": "python",
   "pygments_lexer": "ipython2",
   "version": "2.7.6"
  }
 },
 "nbformat": 4,
 "nbformat_minor": 5
}
