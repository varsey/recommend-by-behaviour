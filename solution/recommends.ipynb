{
 "cells": [
  {
   "metadata": {
    "collapsed": true,
    "ExecuteTime": {
     "end_time": "2024-10-12T17:33:59.687258Z",
     "start_time": "2024-10-12T17:33:59.684815Z"
    }
   },
   "cell_type": "code",
   "source": [
    "from pathlib import Path\n",
    "\n",
    "import numpy as np\n",
    "import pandas as pd"
   ],
   "id": "initial_id",
   "outputs": [],
   "execution_count": 6
  },
  {
   "metadata": {
    "ExecuteTime": {
     "end_time": "2024-10-12T17:34:00.567304Z",
     "start_time": "2024-10-12T17:34:00.565208Z"
    }
   },
   "cell_type": "code",
   "source": [
    "import h2o\n",
    "from h2o.estimators.gbm import H2OGradientBoostingEstimator"
   ],
   "id": "5802908c400af4a0",
   "outputs": [],
   "execution_count": 7
  },
  {
   "metadata": {
    "ExecuteTime": {
     "end_time": "2024-10-12T17:34:00.907925Z",
     "start_time": "2024-10-12T17:34:00.900354Z"
    }
   },
   "cell_type": "code",
   "source": [
    "import os\n",
    "import threadpoolctl\n",
    "import warnings\n",
    "\n",
    "from rectools.models import ImplicitALSWrapperModel\n",
    "from rectools.dataset import Dataset\n",
    "from implicit.als import AlternatingLeastSquares\n",
    "\n",
    "warnings.filterwarnings('ignore')\n",
    "\n",
    "# For implicit ALS\n",
    "os.environ[\"OPENBLAS_NUM_THREADS\"] = \"1\"\n",
    "threadpoolctl.threadpool_limits(1, \"blas\")"
   ],
   "id": "8a30bde391d9e196",
   "outputs": [
    {
     "data": {
      "text/plain": [
       "<threadpoolctl.threadpool_limits at 0x745766f10e10>"
      ]
     },
     "execution_count": 8,
     "metadata": {},
     "output_type": "execute_result"
    }
   ],
   "execution_count": 8
  },
  {
   "metadata": {
    "ExecuteTime": {
     "end_time": "2024-10-12T17:34:01.139730Z",
     "start_time": "2024-10-12T17:34:01.137387Z"
    }
   },
   "cell_type": "code",
   "source": "from sklearn.feature_extraction.text import TfidfVectorizer\n",
   "id": "56a98e0f54b9958f",
   "outputs": [],
   "execution_count": 9
  },
  {
   "metadata": {
    "ExecuteTime": {
     "end_time": "2024-10-12T20:46:07.263337Z",
     "start_time": "2024-10-12T20:46:07.229566Z"
    }
   },
   "cell_type": "code",
   "source": "from src.utils import processing, calculate_recall, create_index_hnsw ",
   "id": "8713cf7a9fc9dc59",
   "outputs": [
    {
     "ename": "ImportError",
     "evalue": "cannot import name 'create_index_hnsw' from 'src.utils' (/home/varsey/PycharmProjects/reshenie-kokos-002/src/utils.py)",
     "output_type": "error",
     "traceback": [
      "\u001B[0;31m---------------------------------------------------------------------------\u001B[0m",
      "\u001B[0;31mImportError\u001B[0m                               Traceback (most recent call last)",
      "Cell \u001B[0;32mIn[773], line 1\u001B[0m\n\u001B[0;32m----> 1\u001B[0m \u001B[38;5;28;01mfrom\u001B[39;00m \u001B[38;5;21;01msrc\u001B[39;00m\u001B[38;5;21;01m.\u001B[39;00m\u001B[38;5;21;01mutils\u001B[39;00m \u001B[38;5;28;01mimport\u001B[39;00m processing, calculate_recall, create_index_hnsw, get_similar \n",
      "\u001B[0;31mImportError\u001B[0m: cannot import name 'create_index_hnsw' from 'src.utils' (/home/varsey/PycharmProjects/reshenie-kokos-002/src/utils.py)"
     ]
    }
   ],
   "execution_count": 773
  },
  {
   "metadata": {
    "ExecuteTime": {
     "end_time": "2024-10-12T19:20:57.846034Z",
     "start_time": "2024-10-12T19:20:57.798898Z"
    }
   },
   "cell_type": "code",
   "source": [
    "catalog = pd.read_parquet(f'{Path.cwd().parent}/data/stokman_catalog_preprocessed.pq', engine='pyarrow')\n",
    "catalog.head()"
   ],
   "id": "ed039728e851bc93",
   "outputs": [
    {
     "data": {
      "text/plain": [
       "             add_date shop_id product_id category_id  price  \\\n",
       "0 2024-09-30 03:07:09     350    1025536        8922   6990   \n",
       "1 2024-09-19 03:07:08     350    1025614       10600    330   \n",
       "2 2024-09-30 03:07:09     350    1025656         231  13240   \n",
       "3 2024-09-30 03:07:09     350    1025659       14546   7550   \n",
       "4 2024-09-30 03:07:09     350    1025668        1949   1290   \n",
       "\n",
       "                                       title  old_price  \n",
       "0               6048 48557 44342 53515 17614       6990  \n",
       "1          42548 40244 23485 10853 6545 2343        330  \n",
       "2  14034 42002 48557 56089 46836 55620 50785      26490  \n",
       "3        32640 50164 48557 25314 23255 42146      12590  \n",
       "4                    51789 48557 56089 20149       1290  "
      ],
      "text/html": [
       "<div>\n",
       "<style scoped>\n",
       "    .dataframe tbody tr th:only-of-type {\n",
       "        vertical-align: middle;\n",
       "    }\n",
       "\n",
       "    .dataframe tbody tr th {\n",
       "        vertical-align: top;\n",
       "    }\n",
       "\n",
       "    .dataframe thead th {\n",
       "        text-align: right;\n",
       "    }\n",
       "</style>\n",
       "<table border=\"1\" class=\"dataframe\">\n",
       "  <thead>\n",
       "    <tr style=\"text-align: right;\">\n",
       "      <th></th>\n",
       "      <th>add_date</th>\n",
       "      <th>shop_id</th>\n",
       "      <th>product_id</th>\n",
       "      <th>category_id</th>\n",
       "      <th>price</th>\n",
       "      <th>title</th>\n",
       "      <th>old_price</th>\n",
       "    </tr>\n",
       "  </thead>\n",
       "  <tbody>\n",
       "    <tr>\n",
       "      <th>0</th>\n",
       "      <td>2024-09-30 03:07:09</td>\n",
       "      <td>350</td>\n",
       "      <td>1025536</td>\n",
       "      <td>8922</td>\n",
       "      <td>6990</td>\n",
       "      <td>6048 48557 44342 53515 17614</td>\n",
       "      <td>6990</td>\n",
       "    </tr>\n",
       "    <tr>\n",
       "      <th>1</th>\n",
       "      <td>2024-09-19 03:07:08</td>\n",
       "      <td>350</td>\n",
       "      <td>1025614</td>\n",
       "      <td>10600</td>\n",
       "      <td>330</td>\n",
       "      <td>42548 40244 23485 10853 6545 2343</td>\n",
       "      <td>330</td>\n",
       "    </tr>\n",
       "    <tr>\n",
       "      <th>2</th>\n",
       "      <td>2024-09-30 03:07:09</td>\n",
       "      <td>350</td>\n",
       "      <td>1025656</td>\n",
       "      <td>231</td>\n",
       "      <td>13240</td>\n",
       "      <td>14034 42002 48557 56089 46836 55620 50785</td>\n",
       "      <td>26490</td>\n",
       "    </tr>\n",
       "    <tr>\n",
       "      <th>3</th>\n",
       "      <td>2024-09-30 03:07:09</td>\n",
       "      <td>350</td>\n",
       "      <td>1025659</td>\n",
       "      <td>14546</td>\n",
       "      <td>7550</td>\n",
       "      <td>32640 50164 48557 25314 23255 42146</td>\n",
       "      <td>12590</td>\n",
       "    </tr>\n",
       "    <tr>\n",
       "      <th>4</th>\n",
       "      <td>2024-09-30 03:07:09</td>\n",
       "      <td>350</td>\n",
       "      <td>1025668</td>\n",
       "      <td>1949</td>\n",
       "      <td>1290</td>\n",
       "      <td>51789 48557 56089 20149</td>\n",
       "      <td>1290</td>\n",
       "    </tr>\n",
       "  </tbody>\n",
       "</table>\n",
       "</div>"
      ]
     },
     "execution_count": 338,
     "metadata": {},
     "output_type": "execute_result"
    }
   ],
   "execution_count": 338
  },
  {
   "metadata": {
    "ExecuteTime": {
     "end_time": "2024-10-12T17:34:05.381192Z",
     "start_time": "2024-10-12T17:34:02.779587Z"
    }
   },
   "cell_type": "code",
   "source": [
    "actions = pd.read_parquet(f'{Path.cwd().parent}/data/train_actions.pq', engine='pyarrow')\n",
    "actions.head()"
   ],
   "id": "981e162b35596c1",
   "outputs": [
    {
     "data": {
      "text/plain": [
       "                                user_id                           loc_user_id  \\\n",
       "0  6fd49b56-8cc6-11ed-86e0-002590c0647c  c6e357dc-121d-449d-a744-e9a0b56c2380   \n",
       "1  6fd49b56-8cc6-11ed-86e0-002590c0647c  c6e357dc-121d-449d-a744-e9a0b56c2380   \n",
       "2  f9c498ec-5d3b-11ef-86e0-002590c0647c  120c9064-1131-4dc3-8048-44184531b42e   \n",
       "3  59386b5c-e64f-11ec-8086-002590c82437  f0745572-893f-4e50-bc52-5af47badff5a   \n",
       "4  badbd396-6cab-11ef-86e0-002590c0647c  73423d85-d47c-4332-8155-5200615302b5   \n",
       "\n",
       "   action                date products      pageId  \n",
       "0       7 2024-09-07 00:00:04       []  2571824865  \n",
       "1       7 2024-09-07 00:00:08       []  3834364438  \n",
       "2       7 2024-09-07 00:00:08       []  2448628415  \n",
       "3       7 2024-09-07 00:00:11       []  3875013967  \n",
       "4       7 2024-09-07 00:00:11       []  3025531174  "
      ],
      "text/html": [
       "<div>\n",
       "<style scoped>\n",
       "    .dataframe tbody tr th:only-of-type {\n",
       "        vertical-align: middle;\n",
       "    }\n",
       "\n",
       "    .dataframe tbody tr th {\n",
       "        vertical-align: top;\n",
       "    }\n",
       "\n",
       "    .dataframe thead th {\n",
       "        text-align: right;\n",
       "    }\n",
       "</style>\n",
       "<table border=\"1\" class=\"dataframe\">\n",
       "  <thead>\n",
       "    <tr style=\"text-align: right;\">\n",
       "      <th></th>\n",
       "      <th>user_id</th>\n",
       "      <th>loc_user_id</th>\n",
       "      <th>action</th>\n",
       "      <th>date</th>\n",
       "      <th>products</th>\n",
       "      <th>pageId</th>\n",
       "    </tr>\n",
       "  </thead>\n",
       "  <tbody>\n",
       "    <tr>\n",
       "      <th>0</th>\n",
       "      <td>6fd49b56-8cc6-11ed-86e0-002590c0647c</td>\n",
       "      <td>c6e357dc-121d-449d-a744-e9a0b56c2380</td>\n",
       "      <td>7</td>\n",
       "      <td>2024-09-07 00:00:04</td>\n",
       "      <td>[]</td>\n",
       "      <td>2571824865</td>\n",
       "    </tr>\n",
       "    <tr>\n",
       "      <th>1</th>\n",
       "      <td>6fd49b56-8cc6-11ed-86e0-002590c0647c</td>\n",
       "      <td>c6e357dc-121d-449d-a744-e9a0b56c2380</td>\n",
       "      <td>7</td>\n",
       "      <td>2024-09-07 00:00:08</td>\n",
       "      <td>[]</td>\n",
       "      <td>3834364438</td>\n",
       "    </tr>\n",
       "    <tr>\n",
       "      <th>2</th>\n",
       "      <td>f9c498ec-5d3b-11ef-86e0-002590c0647c</td>\n",
       "      <td>120c9064-1131-4dc3-8048-44184531b42e</td>\n",
       "      <td>7</td>\n",
       "      <td>2024-09-07 00:00:08</td>\n",
       "      <td>[]</td>\n",
       "      <td>2448628415</td>\n",
       "    </tr>\n",
       "    <tr>\n",
       "      <th>3</th>\n",
       "      <td>59386b5c-e64f-11ec-8086-002590c82437</td>\n",
       "      <td>f0745572-893f-4e50-bc52-5af47badff5a</td>\n",
       "      <td>7</td>\n",
       "      <td>2024-09-07 00:00:11</td>\n",
       "      <td>[]</td>\n",
       "      <td>3875013967</td>\n",
       "    </tr>\n",
       "    <tr>\n",
       "      <th>4</th>\n",
       "      <td>badbd396-6cab-11ef-86e0-002590c0647c</td>\n",
       "      <td>73423d85-d47c-4332-8155-5200615302b5</td>\n",
       "      <td>7</td>\n",
       "      <td>2024-09-07 00:00:11</td>\n",
       "      <td>[]</td>\n",
       "      <td>3025531174</td>\n",
       "    </tr>\n",
       "  </tbody>\n",
       "</table>\n",
       "</div>"
      ]
     },
     "execution_count": 12,
     "metadata": {},
     "output_type": "execute_result"
    }
   ],
   "execution_count": 12
  },
  {
   "metadata": {},
   "cell_type": "markdown",
   "source": "#### Разворачиваем данные по айдишникам продуктов",
   "id": "56e5db1a6058946c"
  },
  {
   "metadata": {
    "ExecuteTime": {
     "end_time": "2024-10-12T17:34:09.060513Z",
     "start_time": "2024-10-12T17:34:05.443298Z"
    }
   },
   "cell_type": "code",
   "source": [
    "_actions = (\n",
    "    actions\n",
    "    .copy()\n",
    "    .explode('products')\n",
    "    .assign(products=lambda x: x.products.fillna(-1).astype(np.int64))\n",
    ")\n",
    "print(_actions.shape)\n",
    "\n",
    "_catalog = (\n",
    "    catalog\n",
    "    .copy()\n",
    "    .assign(product_id=lambda x: x.product_id.astype(np.int64))\n",
    ")"
   ],
   "id": "3e0c476cbb5adeb0",
   "outputs": [
    {
     "name": "stdout",
     "output_type": "stream",
     "text": [
      "(6859002, 6)\n"
     ]
    }
   ],
   "execution_count": 13
  },
  {
   "metadata": {},
   "cell_type": "markdown",
   "source": "#### Разворачиваем данные по айдишникам продуктов",
   "id": "8ab92b6327317d65"
  },
  {
   "metadata": {
    "ExecuteTime": {
     "end_time": "2024-10-12T17:34:10.821261Z",
     "start_time": "2024-10-12T17:34:09.108534Z"
    }
   },
   "cell_type": "code",
   "source": [
    "_actions['action_datetime'] = pd.to_datetime(_actions['date'])\n",
    "\n",
    "_actions.action = _actions.action + 10\n",
    "_actions.action = _actions.action.replace({14: 0, 13: 4, 18: 2, 19: 3, 10: 5, 17: 1, 11: 6, 12: 7, 16: 8, 15: 9})\n",
    "_actions = _actions.sort_values(by=['action', 'date'])\n",
    "print(_actions.shape)"
   ],
   "id": "33bc13582ac56739",
   "outputs": [
    {
     "name": "stdout",
     "output_type": "stream",
     "text": [
      "(6859002, 7)\n"
     ]
    }
   ],
   "execution_count": 14
  },
  {
   "metadata": {},
   "cell_type": "markdown",
   "source": [
    "#### Новая шкала action в train_actions.pq в порядке возрастания важности\n",
    "    0 - clearB (удаление всех товаров из корзины)\n",
    "    1 - visit (посещение страницы с товаром)\n",
    "    2 - visitCategory (посещение страницы с группой товаров)\n",
    "    3 - search (поиск товара)           \n",
    "    4 - delB (удаление товара из корзины)\n",
    "    5 - view (просмотр товара)\n",
    "    6 - like (лайк товара)\n",
    "    7 - addB (добавление товара в корзину)\n",
    "    8 - listB (посещение страницы корзины и вывод списка товаров в корзине)\n",
    "    9 - order (оформление заказа)\n",
    "    "
   ],
   "id": "61bff49bb1302804"
  },
  {
   "metadata": {},
   "cell_type": "markdown",
   "source": [
    "#### Переименовываем поля и обьеденияем датасеты каталога и дейсвтвий пользователя    \n",
    "'products' теперь 'item_id', 'action'  превратился в 'weight' (мы перевели код действия в шкалу по возрастанию ранее)"
   ],
   "id": "edbf3590e0fdcf21"
  },
  {
   "metadata": {
    "ExecuteTime": {
     "end_time": "2024-10-12T17:34:11.425873Z",
     "start_time": "2024-10-12T17:34:10.839870Z"
    }
   },
   "cell_type": "code",
   "source": "interactions = _actions.rename(columns={'products': 'item_id', 'action' : 'weight', 'action_datetime': 'datetime'})",
   "id": "9cf4c400c2eb31f2",
   "outputs": [],
   "execution_count": 15
  },
  {
   "metadata": {
    "ExecuteTime": {
     "end_time": "2024-10-12T17:34:15.023766Z",
     "start_time": "2024-10-12T17:34:15.012266Z"
    }
   },
   "cell_type": "code",
   "source": "items = _catalog.rename(columns={'product_id': 'item_id'})",
   "id": "44b6d7a792587132",
   "outputs": [],
   "execution_count": 16
  },
  {
   "metadata": {
    "ExecuteTime": {
     "end_time": "2024-10-12T17:34:15.870570Z",
     "start_time": "2024-10-12T17:34:15.185691Z"
    }
   },
   "cell_type": "code",
   "source": [
    "interactions_merge = interactions.merge(items, on='item_id', how='left')\n",
    "interactions_merge.shape"
   ],
   "id": "29511698b4b25a81",
   "outputs": [
    {
     "data": {
      "text/plain": [
       "(6859002, 13)"
      ]
     },
     "execution_count": 17,
     "metadata": {},
     "output_type": "execute_result"
    }
   ],
   "execution_count": 17
  },
  {
   "metadata": {
    "ExecuteTime": {
     "end_time": "2024-10-12T17:34:16.317838Z",
     "start_time": "2024-10-12T17:34:15.979230Z"
    }
   },
   "cell_type": "code",
   "source": [
    "interactions_merge['day'] = interactions_merge['datetime'].dt.day\n",
    "interactions_merge['day_of_week'] = interactions_merge['datetime'].dt.dayofweek  # Monday=0, Sunday=6\n",
    "\n",
    "interactions_merge['hour'] = interactions_merge['datetime'].dt.hour\n",
    "interactions_merge['minute'] = interactions_merge['datetime'].dt.minute"
   ],
   "id": "59042b7e4bce6aa9",
   "outputs": [],
   "execution_count": 18
  },
  {
   "metadata": {
    "ExecuteTime": {
     "end_time": "2024-10-12T17:34:17.399024Z",
     "start_time": "2024-10-12T17:34:16.335726Z"
    }
   },
   "cell_type": "code",
   "source": [
    "interactions_merge['price_diff'] = interactions_merge['price'] - interactions_merge['old_price']\n",
    "\n",
    "interactions_merge['category_id'] = interactions_merge['category_id'].fillna(0)\n",
    "interactions_merge['price_diff'] = interactions_merge['price_diff'].fillna(0)\n",
    "\n",
    "interactions_merge['category_id'] = interactions_merge['category_id'].astype(np.int32)"
   ],
   "id": "e1baf5098e5fb6a5",
   "outputs": [],
   "execution_count": 19
  },
  {
   "metadata": {
    "ExecuteTime": {
     "end_time": "2024-10-12T17:34:20.524097Z",
     "start_time": "2024-10-12T17:34:17.434335Z"
    }
   },
   "cell_type": "code",
   "source": [
    "inters = interactions_merge.merge(\n",
    "    interactions_merge.groupby('user_id')['loc_user_id'].count().reset_index(name='loc_user_count'),\n",
    "    on='user_id',\n",
    "    how='left'\n",
    ")\n",
    "print(inters.shape)"
   ],
   "id": "dbeec347bf647835",
   "outputs": [
    {
     "name": "stdout",
     "output_type": "stream",
     "text": [
      "(6859002, 19)\n"
     ]
    }
   ],
   "execution_count": 20
  },
  {
   "metadata": {
    "ExecuteTime": {
     "end_time": "2024-10-12T17:34:22.582271Z",
     "start_time": "2024-10-12T17:34:20.568503Z"
    }
   },
   "cell_type": "code",
   "source": [
    "inters = inters.merge(\n",
    "    interactions_merge.groupby('user_id')['category_id'].count().reset_index(name='category_id_count'),\n",
    "    on='user_id',\n",
    "    how='left'\n",
    ")\n",
    "print(inters.shape)"
   ],
   "id": "134633534bc44644",
   "outputs": [
    {
     "name": "stdout",
     "output_type": "stream",
     "text": [
      "(6859002, 20)\n"
     ]
    }
   ],
   "execution_count": 21
  },
  {
   "metadata": {
    "ExecuteTime": {
     "end_time": "2024-10-12T17:34:22.612222Z",
     "start_time": "2024-10-12T17:34:22.610469Z"
    }
   },
   "cell_type": "code",
   "source": "",
   "id": "57fdee436f311726",
   "outputs": [],
   "execution_count": null
  },
  {
   "metadata": {
    "ExecuteTime": {
     "end_time": "2024-10-12T17:34:36.494826Z",
     "start_time": "2024-10-12T17:34:22.688087Z"
    }
   },
   "cell_type": "code",
   "source": [
    "for action in sorted(interactions_merge.weight.unique()):\n",
    "    inters = inters.merge(\n",
    "        interactions_merge[interactions_merge.weight  == action].groupby('user_id')['weight'].count().reset_index(name=f'action_{action}_count'),\n",
    "        on='user_id',\n",
    "        how='left'\n",
    "    )\n",
    "    inters[f'action_{action}_count'] = inters[f'action_{action}_count'].fillna(0)\n",
    "print(inters.shape)"
   ],
   "id": "e1bacf3c6ee6e617",
   "outputs": [
    {
     "name": "stdout",
     "output_type": "stream",
     "text": [
      "(6859002, 30)\n"
     ]
    }
   ],
   "execution_count": 22
  },
  {
   "metadata": {
    "ExecuteTime": {
     "end_time": "2024-10-12T17:34:37.371196Z",
     "start_time": "2024-10-12T17:34:37.369635Z"
    }
   },
   "cell_type": "code",
   "source": "",
   "id": "b046b5b46ce107b1",
   "outputs": [],
   "execution_count": null
  },
  {
   "metadata": {
    "ExecuteTime": {
     "end_time": "2024-10-12T17:34:40.798707Z",
     "start_time": "2024-10-12T17:34:38.267235Z"
    }
   },
   "cell_type": "code",
   "source": [
    "inters['delta_sec'] = inters.sort_values(by=['datetime']).groupby('user_id')['datetime'].diff()\n",
    "inters['delta_sec'] = inters['delta_sec'].dt.total_seconds()\n",
    "inters['delta_sec'] = inters['delta_sec'].fillna(0)"
   ],
   "id": "e5529ba8b7fa03a3",
   "outputs": [],
   "execution_count": 23
  },
  {
   "metadata": {
    "ExecuteTime": {
     "end_time": "2024-10-12T17:34:49.117983Z",
     "start_time": "2024-10-12T17:34:41.686199Z"
    }
   },
   "cell_type": "code",
   "source": [
    "inters['delta_day'] = inters.sort_values(by=['datetime']).groupby('user_id')['day'].diff()\n",
    "inters['delta_day'] = inters['delta_day'].fillna(0)\n",
    "\n",
    "inters['delta_hour'] = inters.sort_values(by=['datetime']).groupby('user_id')['hour'].diff()\n",
    "inters['delta_hour'] = inters['delta_hour'].fillna(0)\n",
    "\n",
    "inters['delta_min'] = inters.sort_values(by=['datetime']).groupby('user_id')['minute'].diff()\n",
    "inters['delta_min'] = inters['delta_min'].fillna(0)"
   ],
   "id": "366408200ad38780",
   "outputs": [],
   "execution_count": 24
  },
  {
   "metadata": {
    "ExecuteTime": {
     "end_time": "2024-10-12T17:34:50.801738Z",
     "start_time": "2024-10-12T17:34:50.258323Z"
    }
   },
   "cell_type": "code",
   "source": "inters = inters.drop(columns=['day', 'hour', 'minute'])",
   "id": "b4d3d265efe6438c",
   "outputs": [],
   "execution_count": 25
  },
  {
   "metadata": {
    "ExecuteTime": {
     "end_time": "2024-10-12T17:34:52.114339Z",
     "start_time": "2024-10-12T17:34:51.715508Z"
    }
   },
   "cell_type": "code",
   "source": "inters = inters.drop(columns=['price', 'old_price', 'date', 'add_date', 'loc_user_id', 'shop_id'])",
   "id": "5a08b82472678503",
   "outputs": [],
   "execution_count": 26
  },
  {
   "metadata": {
    "ExecuteTime": {
     "end_time": "2024-10-12T17:34:54.217051Z",
     "start_time": "2024-10-12T17:34:52.936357Z"
    }
   },
   "cell_type": "code",
   "source": [
    "inters = inters[inters['item_id'] != '/*']\n",
    "inters = inters[inters['user_id'] != '/*']"
   ],
   "id": "4fb8cb777c7bd7ba",
   "outputs": [],
   "execution_count": 27
  },
  {
   "metadata": {
    "ExecuteTime": {
     "end_time": "2024-10-12T17:34:55.089684Z",
     "start_time": "2024-10-12T17:34:54.830694Z"
    }
   },
   "cell_type": "code",
   "source": "inters[inters.user_id == 'e4362420-f6ca-11ec-86e0-002590c0647c'].head(500)",
   "id": "84c3076767e80047",
   "outputs": [
    {
     "data": {
      "text/plain": [
       "                                      user_id  weight  item_id      pageId  \\\n",
       "379      e4362420-f6ca-11ec-86e0-002590c0647c       1       -1  4263215769   \n",
       "383      e4362420-f6ca-11ec-86e0-002590c0647c       1       -1  4263215769   \n",
       "387      e4362420-f6ca-11ec-86e0-002590c0647c       1       -1  4263215769   \n",
       "388      e4362420-f6ca-11ec-86e0-002590c0647c       1       -1  4263215769   \n",
       "404      e4362420-f6ca-11ec-86e0-002590c0647c       1       -1  3450082821   \n",
       "...                                       ...     ...      ...         ...   \n",
       "6295889  e4362420-f6ca-11ec-86e0-002590c0647c       5  6770769   252042197   \n",
       "6295906  e4362420-f6ca-11ec-86e0-002590c0647c       5  6990711   252042197   \n",
       "6295912  e4362420-f6ca-11ec-86e0-002590c0647c       5  6770769   252042197   \n",
       "6847200  e4362420-f6ca-11ec-86e0-002590c0647c       9  5422963  4263215769   \n",
       "6847201  e4362420-f6ca-11ec-86e0-002590c0647c       9  4899652  4263215769   \n",
       "\n",
       "                   datetime  category_id  \\\n",
       "379     2024-09-07 00:00:26            0   \n",
       "383     2024-09-07 00:00:41            0   \n",
       "387     2024-09-07 00:00:51            0   \n",
       "388     2024-09-07 00:00:52            0   \n",
       "404     2024-09-07 00:01:37            0   \n",
       "...                     ...          ...   \n",
       "6295889 2024-09-27 06:14:04        50448   \n",
       "6295906 2024-09-27 06:14:21        50448   \n",
       "6295912 2024-09-27 06:14:25        50448   \n",
       "6847200 2024-09-07 00:01:12         2247   \n",
       "6847201 2024-09-07 00:01:12          389   \n",
       "\n",
       "                                             title  day_of_week  price_diff  \\\n",
       "379                                            NaN            5         0.0   \n",
       "383                                            NaN            5         0.0   \n",
       "387                                            NaN            5         0.0   \n",
       "388                                            NaN            5         0.0   \n",
       "404                                            NaN            5         0.0   \n",
       "...                                            ...          ...         ...   \n",
       "6295889                                18203 15838            4         0.0   \n",
       "6295906                                18203 15838            4         0.0   \n",
       "6295912                                18203 15838            4         0.0   \n",
       "6847200  30744 37270 46732 29313 52878 60036 63016            5     -5700.0   \n",
       "6847201  30035 28258 58315 46732 29313 52878 32899            5     -4500.0   \n",
       "\n",
       "         loc_user_count  ...  action_4_count  action_5_count  action_6_count  \\\n",
       "379                 384  ...             0.0            57.0             0.0   \n",
       "383                 384  ...             0.0            57.0             0.0   \n",
       "387                 384  ...             0.0            57.0             0.0   \n",
       "388                 384  ...             0.0            57.0             0.0   \n",
       "404                 384  ...             0.0            57.0             0.0   \n",
       "...                 ...  ...             ...             ...             ...   \n",
       "6295889             384  ...             0.0            57.0             0.0   \n",
       "6295906             384  ...             0.0            57.0             0.0   \n",
       "6295912             384  ...             0.0            57.0             0.0   \n",
       "6847200             384  ...             0.0            57.0             0.0   \n",
       "6847201             384  ...             0.0            57.0             0.0   \n",
       "\n",
       "         action_7_count  action_8_count  action_9_count  delta_sec  delta_day  \\\n",
       "379                 0.0             0.0             2.0        0.0        0.0   \n",
       "383                 0.0             0.0             2.0       15.0        0.0   \n",
       "387                 0.0             0.0             2.0       10.0        0.0   \n",
       "388                 0.0             0.0             2.0        1.0        0.0   \n",
       "404                 0.0             0.0             2.0       25.0        0.0   \n",
       "...                 ...             ...             ...        ...        ...   \n",
       "6295889             0.0             0.0             2.0        1.0        0.0   \n",
       "6295906             0.0             0.0             2.0        1.0        0.0   \n",
       "6295912             0.0             0.0             2.0        1.0        0.0   \n",
       "6847200             0.0             0.0             2.0        0.0        0.0   \n",
       "6847201             0.0             0.0             2.0       20.0        0.0   \n",
       "\n",
       "         delta_hour  delta_min  \n",
       "379             0.0        0.0  \n",
       "383             0.0        0.0  \n",
       "387             0.0        0.0  \n",
       "388             0.0        0.0  \n",
       "404             0.0        0.0  \n",
       "...             ...        ...  \n",
       "6295889         0.0        0.0  \n",
       "6295906         0.0        0.0  \n",
       "6295912         0.0        0.0  \n",
       "6847200         0.0        0.0  \n",
       "6847201         0.0        1.0  \n",
       "\n",
       "[384 rows x 25 columns]"
      ],
      "text/html": [
       "<div>\n",
       "<style scoped>\n",
       "    .dataframe tbody tr th:only-of-type {\n",
       "        vertical-align: middle;\n",
       "    }\n",
       "\n",
       "    .dataframe tbody tr th {\n",
       "        vertical-align: top;\n",
       "    }\n",
       "\n",
       "    .dataframe thead th {\n",
       "        text-align: right;\n",
       "    }\n",
       "</style>\n",
       "<table border=\"1\" class=\"dataframe\">\n",
       "  <thead>\n",
       "    <tr style=\"text-align: right;\">\n",
       "      <th></th>\n",
       "      <th>user_id</th>\n",
       "      <th>weight</th>\n",
       "      <th>item_id</th>\n",
       "      <th>pageId</th>\n",
       "      <th>datetime</th>\n",
       "      <th>category_id</th>\n",
       "      <th>title</th>\n",
       "      <th>day_of_week</th>\n",
       "      <th>price_diff</th>\n",
       "      <th>loc_user_count</th>\n",
       "      <th>...</th>\n",
       "      <th>action_4_count</th>\n",
       "      <th>action_5_count</th>\n",
       "      <th>action_6_count</th>\n",
       "      <th>action_7_count</th>\n",
       "      <th>action_8_count</th>\n",
       "      <th>action_9_count</th>\n",
       "      <th>delta_sec</th>\n",
       "      <th>delta_day</th>\n",
       "      <th>delta_hour</th>\n",
       "      <th>delta_min</th>\n",
       "    </tr>\n",
       "  </thead>\n",
       "  <tbody>\n",
       "    <tr>\n",
       "      <th>379</th>\n",
       "      <td>e4362420-f6ca-11ec-86e0-002590c0647c</td>\n",
       "      <td>1</td>\n",
       "      <td>-1</td>\n",
       "      <td>4263215769</td>\n",
       "      <td>2024-09-07 00:00:26</td>\n",
       "      <td>0</td>\n",
       "      <td>NaN</td>\n",
       "      <td>5</td>\n",
       "      <td>0.0</td>\n",
       "      <td>384</td>\n",
       "      <td>...</td>\n",
       "      <td>0.0</td>\n",
       "      <td>57.0</td>\n",
       "      <td>0.0</td>\n",
       "      <td>0.0</td>\n",
       "      <td>0.0</td>\n",
       "      <td>2.0</td>\n",
       "      <td>0.0</td>\n",
       "      <td>0.0</td>\n",
       "      <td>0.0</td>\n",
       "      <td>0.0</td>\n",
       "    </tr>\n",
       "    <tr>\n",
       "      <th>383</th>\n",
       "      <td>e4362420-f6ca-11ec-86e0-002590c0647c</td>\n",
       "      <td>1</td>\n",
       "      <td>-1</td>\n",
       "      <td>4263215769</td>\n",
       "      <td>2024-09-07 00:00:41</td>\n",
       "      <td>0</td>\n",
       "      <td>NaN</td>\n",
       "      <td>5</td>\n",
       "      <td>0.0</td>\n",
       "      <td>384</td>\n",
       "      <td>...</td>\n",
       "      <td>0.0</td>\n",
       "      <td>57.0</td>\n",
       "      <td>0.0</td>\n",
       "      <td>0.0</td>\n",
       "      <td>0.0</td>\n",
       "      <td>2.0</td>\n",
       "      <td>15.0</td>\n",
       "      <td>0.0</td>\n",
       "      <td>0.0</td>\n",
       "      <td>0.0</td>\n",
       "    </tr>\n",
       "    <tr>\n",
       "      <th>387</th>\n",
       "      <td>e4362420-f6ca-11ec-86e0-002590c0647c</td>\n",
       "      <td>1</td>\n",
       "      <td>-1</td>\n",
       "      <td>4263215769</td>\n",
       "      <td>2024-09-07 00:00:51</td>\n",
       "      <td>0</td>\n",
       "      <td>NaN</td>\n",
       "      <td>5</td>\n",
       "      <td>0.0</td>\n",
       "      <td>384</td>\n",
       "      <td>...</td>\n",
       "      <td>0.0</td>\n",
       "      <td>57.0</td>\n",
       "      <td>0.0</td>\n",
       "      <td>0.0</td>\n",
       "      <td>0.0</td>\n",
       "      <td>2.0</td>\n",
       "      <td>10.0</td>\n",
       "      <td>0.0</td>\n",
       "      <td>0.0</td>\n",
       "      <td>0.0</td>\n",
       "    </tr>\n",
       "    <tr>\n",
       "      <th>388</th>\n",
       "      <td>e4362420-f6ca-11ec-86e0-002590c0647c</td>\n",
       "      <td>1</td>\n",
       "      <td>-1</td>\n",
       "      <td>4263215769</td>\n",
       "      <td>2024-09-07 00:00:52</td>\n",
       "      <td>0</td>\n",
       "      <td>NaN</td>\n",
       "      <td>5</td>\n",
       "      <td>0.0</td>\n",
       "      <td>384</td>\n",
       "      <td>...</td>\n",
       "      <td>0.0</td>\n",
       "      <td>57.0</td>\n",
       "      <td>0.0</td>\n",
       "      <td>0.0</td>\n",
       "      <td>0.0</td>\n",
       "      <td>2.0</td>\n",
       "      <td>1.0</td>\n",
       "      <td>0.0</td>\n",
       "      <td>0.0</td>\n",
       "      <td>0.0</td>\n",
       "    </tr>\n",
       "    <tr>\n",
       "      <th>404</th>\n",
       "      <td>e4362420-f6ca-11ec-86e0-002590c0647c</td>\n",
       "      <td>1</td>\n",
       "      <td>-1</td>\n",
       "      <td>3450082821</td>\n",
       "      <td>2024-09-07 00:01:37</td>\n",
       "      <td>0</td>\n",
       "      <td>NaN</td>\n",
       "      <td>5</td>\n",
       "      <td>0.0</td>\n",
       "      <td>384</td>\n",
       "      <td>...</td>\n",
       "      <td>0.0</td>\n",
       "      <td>57.0</td>\n",
       "      <td>0.0</td>\n",
       "      <td>0.0</td>\n",
       "      <td>0.0</td>\n",
       "      <td>2.0</td>\n",
       "      <td>25.0</td>\n",
       "      <td>0.0</td>\n",
       "      <td>0.0</td>\n",
       "      <td>0.0</td>\n",
       "    </tr>\n",
       "    <tr>\n",
       "      <th>...</th>\n",
       "      <td>...</td>\n",
       "      <td>...</td>\n",
       "      <td>...</td>\n",
       "      <td>...</td>\n",
       "      <td>...</td>\n",
       "      <td>...</td>\n",
       "      <td>...</td>\n",
       "      <td>...</td>\n",
       "      <td>...</td>\n",
       "      <td>...</td>\n",
       "      <td>...</td>\n",
       "      <td>...</td>\n",
       "      <td>...</td>\n",
       "      <td>...</td>\n",
       "      <td>...</td>\n",
       "      <td>...</td>\n",
       "      <td>...</td>\n",
       "      <td>...</td>\n",
       "      <td>...</td>\n",
       "      <td>...</td>\n",
       "      <td>...</td>\n",
       "    </tr>\n",
       "    <tr>\n",
       "      <th>6295889</th>\n",
       "      <td>e4362420-f6ca-11ec-86e0-002590c0647c</td>\n",
       "      <td>5</td>\n",
       "      <td>6770769</td>\n",
       "      <td>252042197</td>\n",
       "      <td>2024-09-27 06:14:04</td>\n",
       "      <td>50448</td>\n",
       "      <td>18203 15838</td>\n",
       "      <td>4</td>\n",
       "      <td>0.0</td>\n",
       "      <td>384</td>\n",
       "      <td>...</td>\n",
       "      <td>0.0</td>\n",
       "      <td>57.0</td>\n",
       "      <td>0.0</td>\n",
       "      <td>0.0</td>\n",
       "      <td>0.0</td>\n",
       "      <td>2.0</td>\n",
       "      <td>1.0</td>\n",
       "      <td>0.0</td>\n",
       "      <td>0.0</td>\n",
       "      <td>0.0</td>\n",
       "    </tr>\n",
       "    <tr>\n",
       "      <th>6295906</th>\n",
       "      <td>e4362420-f6ca-11ec-86e0-002590c0647c</td>\n",
       "      <td>5</td>\n",
       "      <td>6990711</td>\n",
       "      <td>252042197</td>\n",
       "      <td>2024-09-27 06:14:21</td>\n",
       "      <td>50448</td>\n",
       "      <td>18203 15838</td>\n",
       "      <td>4</td>\n",
       "      <td>0.0</td>\n",
       "      <td>384</td>\n",
       "      <td>...</td>\n",
       "      <td>0.0</td>\n",
       "      <td>57.0</td>\n",
       "      <td>0.0</td>\n",
       "      <td>0.0</td>\n",
       "      <td>0.0</td>\n",
       "      <td>2.0</td>\n",
       "      <td>1.0</td>\n",
       "      <td>0.0</td>\n",
       "      <td>0.0</td>\n",
       "      <td>0.0</td>\n",
       "    </tr>\n",
       "    <tr>\n",
       "      <th>6295912</th>\n",
       "      <td>e4362420-f6ca-11ec-86e0-002590c0647c</td>\n",
       "      <td>5</td>\n",
       "      <td>6770769</td>\n",
       "      <td>252042197</td>\n",
       "      <td>2024-09-27 06:14:25</td>\n",
       "      <td>50448</td>\n",
       "      <td>18203 15838</td>\n",
       "      <td>4</td>\n",
       "      <td>0.0</td>\n",
       "      <td>384</td>\n",
       "      <td>...</td>\n",
       "      <td>0.0</td>\n",
       "      <td>57.0</td>\n",
       "      <td>0.0</td>\n",
       "      <td>0.0</td>\n",
       "      <td>0.0</td>\n",
       "      <td>2.0</td>\n",
       "      <td>1.0</td>\n",
       "      <td>0.0</td>\n",
       "      <td>0.0</td>\n",
       "      <td>0.0</td>\n",
       "    </tr>\n",
       "    <tr>\n",
       "      <th>6847200</th>\n",
       "      <td>e4362420-f6ca-11ec-86e0-002590c0647c</td>\n",
       "      <td>9</td>\n",
       "      <td>5422963</td>\n",
       "      <td>4263215769</td>\n",
       "      <td>2024-09-07 00:01:12</td>\n",
       "      <td>2247</td>\n",
       "      <td>30744 37270 46732 29313 52878 60036 63016</td>\n",
       "      <td>5</td>\n",
       "      <td>-5700.0</td>\n",
       "      <td>384</td>\n",
       "      <td>...</td>\n",
       "      <td>0.0</td>\n",
       "      <td>57.0</td>\n",
       "      <td>0.0</td>\n",
       "      <td>0.0</td>\n",
       "      <td>0.0</td>\n",
       "      <td>2.0</td>\n",
       "      <td>0.0</td>\n",
       "      <td>0.0</td>\n",
       "      <td>0.0</td>\n",
       "      <td>0.0</td>\n",
       "    </tr>\n",
       "    <tr>\n",
       "      <th>6847201</th>\n",
       "      <td>e4362420-f6ca-11ec-86e0-002590c0647c</td>\n",
       "      <td>9</td>\n",
       "      <td>4899652</td>\n",
       "      <td>4263215769</td>\n",
       "      <td>2024-09-07 00:01:12</td>\n",
       "      <td>389</td>\n",
       "      <td>30035 28258 58315 46732 29313 52878 32899</td>\n",
       "      <td>5</td>\n",
       "      <td>-4500.0</td>\n",
       "      <td>384</td>\n",
       "      <td>...</td>\n",
       "      <td>0.0</td>\n",
       "      <td>57.0</td>\n",
       "      <td>0.0</td>\n",
       "      <td>0.0</td>\n",
       "      <td>0.0</td>\n",
       "      <td>2.0</td>\n",
       "      <td>20.0</td>\n",
       "      <td>0.0</td>\n",
       "      <td>0.0</td>\n",
       "      <td>1.0</td>\n",
       "    </tr>\n",
       "  </tbody>\n",
       "</table>\n",
       "<p>384 rows × 25 columns</p>\n",
       "</div>"
      ]
     },
     "execution_count": 28,
     "metadata": {},
     "output_type": "execute_result"
    }
   ],
   "execution_count": 28
  },
  {
   "metadata": {
    "ExecuteTime": {
     "end_time": "2024-10-12T17:34:55.727896Z",
     "start_time": "2024-10-12T17:34:55.709253Z"
    }
   },
   "cell_type": "code",
   "source": "inters.head()",
   "id": "8f5f038c3b20fe14",
   "outputs": [
    {
     "data": {
      "text/plain": [
       "                                user_id  weight  item_id      pageId  \\\n",
       "0  5b08b2fc-0e71-11ee-86e0-002590c0647c       0       -1    89919732   \n",
       "1  1af7e04c-6cd1-11ef-9b7b-002590c82436       0       -1   851020872   \n",
       "2  d41cdad4-3b4c-11ef-86e0-002590c0647c       0       -1  1515288183   \n",
       "3  59b9d89a-1de2-11eb-86e0-002590c0647c       0       -1  1497267364   \n",
       "4  9c087566-8065-11ed-86e0-002590c0647c       0       -1  3039170152   \n",
       "\n",
       "             datetime  category_id title  day_of_week  price_diff  \\\n",
       "0 2024-09-07 05:11:00            0   NaN            5         0.0   \n",
       "1 2024-09-07 05:50:01            0   NaN            5         0.0   \n",
       "2 2024-09-07 07:37:02            0   NaN            5         0.0   \n",
       "3 2024-09-07 11:52:12            0   NaN            5         0.0   \n",
       "4 2024-09-07 12:14:30            0   NaN            5         0.0   \n",
       "\n",
       "   loc_user_count  ...  action_4_count  action_5_count  action_6_count  \\\n",
       "0             141  ...             0.0            27.0             2.0   \n",
       "1              91  ...             0.0            25.0             0.0   \n",
       "2              85  ...             0.0            14.0             0.0   \n",
       "3            8270  ...            44.0           694.0             1.0   \n",
       "4             182  ...             1.0            26.0             0.0   \n",
       "\n",
       "   action_7_count  action_8_count  action_9_count  delta_sec  delta_day  \\\n",
       "0             1.0             1.0             0.0       24.0        0.0   \n",
       "1             2.0             5.0             1.0        6.0        0.0   \n",
       "2             2.0             6.0             0.0        8.0        0.0   \n",
       "3           125.0          1729.0           112.0        3.0        0.0   \n",
       "4             3.0             8.0             0.0        9.0        0.0   \n",
       "\n",
       "   delta_hour  delta_min  \n",
       "0         0.0        1.0  \n",
       "1         0.0        1.0  \n",
       "2         0.0        1.0  \n",
       "3         0.0        0.0  \n",
       "4         0.0        0.0  \n",
       "\n",
       "[5 rows x 25 columns]"
      ],
      "text/html": [
       "<div>\n",
       "<style scoped>\n",
       "    .dataframe tbody tr th:only-of-type {\n",
       "        vertical-align: middle;\n",
       "    }\n",
       "\n",
       "    .dataframe tbody tr th {\n",
       "        vertical-align: top;\n",
       "    }\n",
       "\n",
       "    .dataframe thead th {\n",
       "        text-align: right;\n",
       "    }\n",
       "</style>\n",
       "<table border=\"1\" class=\"dataframe\">\n",
       "  <thead>\n",
       "    <tr style=\"text-align: right;\">\n",
       "      <th></th>\n",
       "      <th>user_id</th>\n",
       "      <th>weight</th>\n",
       "      <th>item_id</th>\n",
       "      <th>pageId</th>\n",
       "      <th>datetime</th>\n",
       "      <th>category_id</th>\n",
       "      <th>title</th>\n",
       "      <th>day_of_week</th>\n",
       "      <th>price_diff</th>\n",
       "      <th>loc_user_count</th>\n",
       "      <th>...</th>\n",
       "      <th>action_4_count</th>\n",
       "      <th>action_5_count</th>\n",
       "      <th>action_6_count</th>\n",
       "      <th>action_7_count</th>\n",
       "      <th>action_8_count</th>\n",
       "      <th>action_9_count</th>\n",
       "      <th>delta_sec</th>\n",
       "      <th>delta_day</th>\n",
       "      <th>delta_hour</th>\n",
       "      <th>delta_min</th>\n",
       "    </tr>\n",
       "  </thead>\n",
       "  <tbody>\n",
       "    <tr>\n",
       "      <th>0</th>\n",
       "      <td>5b08b2fc-0e71-11ee-86e0-002590c0647c</td>\n",
       "      <td>0</td>\n",
       "      <td>-1</td>\n",
       "      <td>89919732</td>\n",
       "      <td>2024-09-07 05:11:00</td>\n",
       "      <td>0</td>\n",
       "      <td>NaN</td>\n",
       "      <td>5</td>\n",
       "      <td>0.0</td>\n",
       "      <td>141</td>\n",
       "      <td>...</td>\n",
       "      <td>0.0</td>\n",
       "      <td>27.0</td>\n",
       "      <td>2.0</td>\n",
       "      <td>1.0</td>\n",
       "      <td>1.0</td>\n",
       "      <td>0.0</td>\n",
       "      <td>24.0</td>\n",
       "      <td>0.0</td>\n",
       "      <td>0.0</td>\n",
       "      <td>1.0</td>\n",
       "    </tr>\n",
       "    <tr>\n",
       "      <th>1</th>\n",
       "      <td>1af7e04c-6cd1-11ef-9b7b-002590c82436</td>\n",
       "      <td>0</td>\n",
       "      <td>-1</td>\n",
       "      <td>851020872</td>\n",
       "      <td>2024-09-07 05:50:01</td>\n",
       "      <td>0</td>\n",
       "      <td>NaN</td>\n",
       "      <td>5</td>\n",
       "      <td>0.0</td>\n",
       "      <td>91</td>\n",
       "      <td>...</td>\n",
       "      <td>0.0</td>\n",
       "      <td>25.0</td>\n",
       "      <td>0.0</td>\n",
       "      <td>2.0</td>\n",
       "      <td>5.0</td>\n",
       "      <td>1.0</td>\n",
       "      <td>6.0</td>\n",
       "      <td>0.0</td>\n",
       "      <td>0.0</td>\n",
       "      <td>1.0</td>\n",
       "    </tr>\n",
       "    <tr>\n",
       "      <th>2</th>\n",
       "      <td>d41cdad4-3b4c-11ef-86e0-002590c0647c</td>\n",
       "      <td>0</td>\n",
       "      <td>-1</td>\n",
       "      <td>1515288183</td>\n",
       "      <td>2024-09-07 07:37:02</td>\n",
       "      <td>0</td>\n",
       "      <td>NaN</td>\n",
       "      <td>5</td>\n",
       "      <td>0.0</td>\n",
       "      <td>85</td>\n",
       "      <td>...</td>\n",
       "      <td>0.0</td>\n",
       "      <td>14.0</td>\n",
       "      <td>0.0</td>\n",
       "      <td>2.0</td>\n",
       "      <td>6.0</td>\n",
       "      <td>0.0</td>\n",
       "      <td>8.0</td>\n",
       "      <td>0.0</td>\n",
       "      <td>0.0</td>\n",
       "      <td>1.0</td>\n",
       "    </tr>\n",
       "    <tr>\n",
       "      <th>3</th>\n",
       "      <td>59b9d89a-1de2-11eb-86e0-002590c0647c</td>\n",
       "      <td>0</td>\n",
       "      <td>-1</td>\n",
       "      <td>1497267364</td>\n",
       "      <td>2024-09-07 11:52:12</td>\n",
       "      <td>0</td>\n",
       "      <td>NaN</td>\n",
       "      <td>5</td>\n",
       "      <td>0.0</td>\n",
       "      <td>8270</td>\n",
       "      <td>...</td>\n",
       "      <td>44.0</td>\n",
       "      <td>694.0</td>\n",
       "      <td>1.0</td>\n",
       "      <td>125.0</td>\n",
       "      <td>1729.0</td>\n",
       "      <td>112.0</td>\n",
       "      <td>3.0</td>\n",
       "      <td>0.0</td>\n",
       "      <td>0.0</td>\n",
       "      <td>0.0</td>\n",
       "    </tr>\n",
       "    <tr>\n",
       "      <th>4</th>\n",
       "      <td>9c087566-8065-11ed-86e0-002590c0647c</td>\n",
       "      <td>0</td>\n",
       "      <td>-1</td>\n",
       "      <td>3039170152</td>\n",
       "      <td>2024-09-07 12:14:30</td>\n",
       "      <td>0</td>\n",
       "      <td>NaN</td>\n",
       "      <td>5</td>\n",
       "      <td>0.0</td>\n",
       "      <td>182</td>\n",
       "      <td>...</td>\n",
       "      <td>1.0</td>\n",
       "      <td>26.0</td>\n",
       "      <td>0.0</td>\n",
       "      <td>3.0</td>\n",
       "      <td>8.0</td>\n",
       "      <td>0.0</td>\n",
       "      <td>9.0</td>\n",
       "      <td>0.0</td>\n",
       "      <td>0.0</td>\n",
       "      <td>0.0</td>\n",
       "    </tr>\n",
       "  </tbody>\n",
       "</table>\n",
       "<p>5 rows × 25 columns</p>\n",
       "</div>"
      ]
     },
     "execution_count": 29,
     "metadata": {},
     "output_type": "execute_result"
    }
   ],
   "execution_count": 29
  },
  {
   "metadata": {
    "ExecuteTime": {
     "end_time": "2024-10-12T17:34:55.862283Z",
     "start_time": "2024-10-12T17:34:55.860510Z"
    }
   },
   "cell_type": "code",
   "source": "",
   "id": "c31fe5ba397faa76",
   "outputs": [],
   "execution_count": null
  },
  {
   "metadata": {},
   "cell_type": "markdown",
   "source": "#### Тренировка модели для распознования ключевого события",
   "id": "71b58e8af56b9ae3"
  },
  {
   "metadata": {
    "ExecuteTime": {
     "end_time": "2024-10-12T17:34:56.304731Z",
     "start_time": "2024-10-12T17:34:56.021471Z"
    }
   },
   "cell_type": "code",
   "source": "inters[((inters.weight == 1) | (inters.weight == 4)) & (inters.user_id == '0038911e-79a3-11ef-9b7b-002590c82436')].sort_values(by=['user_id', 'pageId', 'item_id'])",
   "id": "6705e17e173899f1",
   "outputs": [
    {
     "data": {
      "text/plain": [
       "                                      user_id  weight  item_id      pageId  \\\n",
       "3522281  0038911e-79a3-11ef-9b7b-002590c82436       1       -1  1015778690   \n",
       "3337690  0038911e-79a3-11ef-9b7b-002590c82436       1       -1   125129932   \n",
       "3138513  0038911e-79a3-11ef-9b7b-002590c82436       1       -1  1281889168   \n",
       "3338009  0038911e-79a3-11ef-9b7b-002590c82436       1       -1  1326997590   \n",
       "3338048  0038911e-79a3-11ef-9b7b-002590c82436       1       -1  1326997590   \n",
       "...                                       ...     ...      ...         ...   \n",
       "3539012  0038911e-79a3-11ef-9b7b-002590c82436       1       -1   996145740   \n",
       "3539032  0038911e-79a3-11ef-9b7b-002590c82436       1       -1   996145740   \n",
       "3539048  0038911e-79a3-11ef-9b7b-002590c82436       1       -1   996145740   \n",
       "3539063  0038911e-79a3-11ef-9b7b-002590c82436       1       -1   996145740   \n",
       "3539083  0038911e-79a3-11ef-9b7b-002590c82436       1       -1   996145740   \n",
       "\n",
       "                   datetime  category_id title  day_of_week  price_diff  \\\n",
       "3522281 2024-09-25 18:09:12            0   NaN            2         0.0   \n",
       "3337690 2024-09-24 18:18:04            0   NaN            1         0.0   \n",
       "3138513 2024-09-23 18:17:15            0   NaN            0         0.0   \n",
       "3338009 2024-09-24 18:20:22            0   NaN            1         0.0   \n",
       "3338048 2024-09-24 18:20:40            0   NaN            1         0.0   \n",
       "...                     ...          ...   ...          ...         ...   \n",
       "3539012 2024-09-25 19:43:20            0   NaN            2         0.0   \n",
       "3539032 2024-09-25 19:43:25            0   NaN            2         0.0   \n",
       "3539048 2024-09-25 19:43:31            0   NaN            2         0.0   \n",
       "3539063 2024-09-25 19:43:34            0   NaN            2         0.0   \n",
       "3539083 2024-09-25 19:43:39            0   NaN            2         0.0   \n",
       "\n",
       "         loc_user_count  ...  action_4_count  action_5_count  action_6_count  \\\n",
       "3522281             155  ...             3.0            22.0             0.0   \n",
       "3337690             155  ...             3.0            22.0             0.0   \n",
       "3138513             155  ...             3.0            22.0             0.0   \n",
       "3338009             155  ...             3.0            22.0             0.0   \n",
       "3338048             155  ...             3.0            22.0             0.0   \n",
       "...                 ...  ...             ...             ...             ...   \n",
       "3539012             155  ...             3.0            22.0             0.0   \n",
       "3539032             155  ...             3.0            22.0             0.0   \n",
       "3539048             155  ...             3.0            22.0             0.0   \n",
       "3539063             155  ...             3.0            22.0             0.0   \n",
       "3539083             155  ...             3.0            22.0             0.0   \n",
       "\n",
       "         action_7_count  action_8_count  action_9_count  delta_sec  delta_day  \\\n",
       "3522281             2.0            10.0             1.0    23166.0        0.0   \n",
       "3337690             2.0            10.0             1.0        2.0        0.0   \n",
       "3138513             2.0            10.0             1.0      149.0        0.0   \n",
       "3338009             2.0            10.0             1.0        0.0        0.0   \n",
       "3338048             2.0            10.0             1.0       18.0        0.0   \n",
       "...                 ...             ...             ...        ...        ...   \n",
       "3539012             2.0            10.0             1.0        1.0        0.0   \n",
       "3539032             2.0            10.0             1.0        4.0        0.0   \n",
       "3539048             2.0            10.0             1.0        6.0        0.0   \n",
       "3539063             2.0            10.0             1.0        3.0        0.0   \n",
       "3539083             2.0            10.0             1.0        4.0        0.0   \n",
       "\n",
       "         delta_hour  delta_min  \n",
       "3522281         7.0      -34.0  \n",
       "3337690         0.0        0.0  \n",
       "3138513         0.0        3.0  \n",
       "3338009         0.0        0.0  \n",
       "3338048         0.0        0.0  \n",
       "...             ...        ...  \n",
       "3539012         0.0        0.0  \n",
       "3539032         0.0        0.0  \n",
       "3539048         0.0        0.0  \n",
       "3539063         0.0        0.0  \n",
       "3539083         0.0        0.0  \n",
       "\n",
       "[94 rows x 25 columns]"
      ],
      "text/html": [
       "<div>\n",
       "<style scoped>\n",
       "    .dataframe tbody tr th:only-of-type {\n",
       "        vertical-align: middle;\n",
       "    }\n",
       "\n",
       "    .dataframe tbody tr th {\n",
       "        vertical-align: top;\n",
       "    }\n",
       "\n",
       "    .dataframe thead th {\n",
       "        text-align: right;\n",
       "    }\n",
       "</style>\n",
       "<table border=\"1\" class=\"dataframe\">\n",
       "  <thead>\n",
       "    <tr style=\"text-align: right;\">\n",
       "      <th></th>\n",
       "      <th>user_id</th>\n",
       "      <th>weight</th>\n",
       "      <th>item_id</th>\n",
       "      <th>pageId</th>\n",
       "      <th>datetime</th>\n",
       "      <th>category_id</th>\n",
       "      <th>title</th>\n",
       "      <th>day_of_week</th>\n",
       "      <th>price_diff</th>\n",
       "      <th>loc_user_count</th>\n",
       "      <th>...</th>\n",
       "      <th>action_4_count</th>\n",
       "      <th>action_5_count</th>\n",
       "      <th>action_6_count</th>\n",
       "      <th>action_7_count</th>\n",
       "      <th>action_8_count</th>\n",
       "      <th>action_9_count</th>\n",
       "      <th>delta_sec</th>\n",
       "      <th>delta_day</th>\n",
       "      <th>delta_hour</th>\n",
       "      <th>delta_min</th>\n",
       "    </tr>\n",
       "  </thead>\n",
       "  <tbody>\n",
       "    <tr>\n",
       "      <th>3522281</th>\n",
       "      <td>0038911e-79a3-11ef-9b7b-002590c82436</td>\n",
       "      <td>1</td>\n",
       "      <td>-1</td>\n",
       "      <td>1015778690</td>\n",
       "      <td>2024-09-25 18:09:12</td>\n",
       "      <td>0</td>\n",
       "      <td>NaN</td>\n",
       "      <td>2</td>\n",
       "      <td>0.0</td>\n",
       "      <td>155</td>\n",
       "      <td>...</td>\n",
       "      <td>3.0</td>\n",
       "      <td>22.0</td>\n",
       "      <td>0.0</td>\n",
       "      <td>2.0</td>\n",
       "      <td>10.0</td>\n",
       "      <td>1.0</td>\n",
       "      <td>23166.0</td>\n",
       "      <td>0.0</td>\n",
       "      <td>7.0</td>\n",
       "      <td>-34.0</td>\n",
       "    </tr>\n",
       "    <tr>\n",
       "      <th>3337690</th>\n",
       "      <td>0038911e-79a3-11ef-9b7b-002590c82436</td>\n",
       "      <td>1</td>\n",
       "      <td>-1</td>\n",
       "      <td>125129932</td>\n",
       "      <td>2024-09-24 18:18:04</td>\n",
       "      <td>0</td>\n",
       "      <td>NaN</td>\n",
       "      <td>1</td>\n",
       "      <td>0.0</td>\n",
       "      <td>155</td>\n",
       "      <td>...</td>\n",
       "      <td>3.0</td>\n",
       "      <td>22.0</td>\n",
       "      <td>0.0</td>\n",
       "      <td>2.0</td>\n",
       "      <td>10.0</td>\n",
       "      <td>1.0</td>\n",
       "      <td>2.0</td>\n",
       "      <td>0.0</td>\n",
       "      <td>0.0</td>\n",
       "      <td>0.0</td>\n",
       "    </tr>\n",
       "    <tr>\n",
       "      <th>3138513</th>\n",
       "      <td>0038911e-79a3-11ef-9b7b-002590c82436</td>\n",
       "      <td>1</td>\n",
       "      <td>-1</td>\n",
       "      <td>1281889168</td>\n",
       "      <td>2024-09-23 18:17:15</td>\n",
       "      <td>0</td>\n",
       "      <td>NaN</td>\n",
       "      <td>0</td>\n",
       "      <td>0.0</td>\n",
       "      <td>155</td>\n",
       "      <td>...</td>\n",
       "      <td>3.0</td>\n",
       "      <td>22.0</td>\n",
       "      <td>0.0</td>\n",
       "      <td>2.0</td>\n",
       "      <td>10.0</td>\n",
       "      <td>1.0</td>\n",
       "      <td>149.0</td>\n",
       "      <td>0.0</td>\n",
       "      <td>0.0</td>\n",
       "      <td>3.0</td>\n",
       "    </tr>\n",
       "    <tr>\n",
       "      <th>3338009</th>\n",
       "      <td>0038911e-79a3-11ef-9b7b-002590c82436</td>\n",
       "      <td>1</td>\n",
       "      <td>-1</td>\n",
       "      <td>1326997590</td>\n",
       "      <td>2024-09-24 18:20:22</td>\n",
       "      <td>0</td>\n",
       "      <td>NaN</td>\n",
       "      <td>1</td>\n",
       "      <td>0.0</td>\n",
       "      <td>155</td>\n",
       "      <td>...</td>\n",
       "      <td>3.0</td>\n",
       "      <td>22.0</td>\n",
       "      <td>0.0</td>\n",
       "      <td>2.0</td>\n",
       "      <td>10.0</td>\n",
       "      <td>1.0</td>\n",
       "      <td>0.0</td>\n",
       "      <td>0.0</td>\n",
       "      <td>0.0</td>\n",
       "      <td>0.0</td>\n",
       "    </tr>\n",
       "    <tr>\n",
       "      <th>3338048</th>\n",
       "      <td>0038911e-79a3-11ef-9b7b-002590c82436</td>\n",
       "      <td>1</td>\n",
       "      <td>-1</td>\n",
       "      <td>1326997590</td>\n",
       "      <td>2024-09-24 18:20:40</td>\n",
       "      <td>0</td>\n",
       "      <td>NaN</td>\n",
       "      <td>1</td>\n",
       "      <td>0.0</td>\n",
       "      <td>155</td>\n",
       "      <td>...</td>\n",
       "      <td>3.0</td>\n",
       "      <td>22.0</td>\n",
       "      <td>0.0</td>\n",
       "      <td>2.0</td>\n",
       "      <td>10.0</td>\n",
       "      <td>1.0</td>\n",
       "      <td>18.0</td>\n",
       "      <td>0.0</td>\n",
       "      <td>0.0</td>\n",
       "      <td>0.0</td>\n",
       "    </tr>\n",
       "    <tr>\n",
       "      <th>...</th>\n",
       "      <td>...</td>\n",
       "      <td>...</td>\n",
       "      <td>...</td>\n",
       "      <td>...</td>\n",
       "      <td>...</td>\n",
       "      <td>...</td>\n",
       "      <td>...</td>\n",
       "      <td>...</td>\n",
       "      <td>...</td>\n",
       "      <td>...</td>\n",
       "      <td>...</td>\n",
       "      <td>...</td>\n",
       "      <td>...</td>\n",
       "      <td>...</td>\n",
       "      <td>...</td>\n",
       "      <td>...</td>\n",
       "      <td>...</td>\n",
       "      <td>...</td>\n",
       "      <td>...</td>\n",
       "      <td>...</td>\n",
       "      <td>...</td>\n",
       "    </tr>\n",
       "    <tr>\n",
       "      <th>3539012</th>\n",
       "      <td>0038911e-79a3-11ef-9b7b-002590c82436</td>\n",
       "      <td>1</td>\n",
       "      <td>-1</td>\n",
       "      <td>996145740</td>\n",
       "      <td>2024-09-25 19:43:20</td>\n",
       "      <td>0</td>\n",
       "      <td>NaN</td>\n",
       "      <td>2</td>\n",
       "      <td>0.0</td>\n",
       "      <td>155</td>\n",
       "      <td>...</td>\n",
       "      <td>3.0</td>\n",
       "      <td>22.0</td>\n",
       "      <td>0.0</td>\n",
       "      <td>2.0</td>\n",
       "      <td>10.0</td>\n",
       "      <td>1.0</td>\n",
       "      <td>1.0</td>\n",
       "      <td>0.0</td>\n",
       "      <td>0.0</td>\n",
       "      <td>0.0</td>\n",
       "    </tr>\n",
       "    <tr>\n",
       "      <th>3539032</th>\n",
       "      <td>0038911e-79a3-11ef-9b7b-002590c82436</td>\n",
       "      <td>1</td>\n",
       "      <td>-1</td>\n",
       "      <td>996145740</td>\n",
       "      <td>2024-09-25 19:43:25</td>\n",
       "      <td>0</td>\n",
       "      <td>NaN</td>\n",
       "      <td>2</td>\n",
       "      <td>0.0</td>\n",
       "      <td>155</td>\n",
       "      <td>...</td>\n",
       "      <td>3.0</td>\n",
       "      <td>22.0</td>\n",
       "      <td>0.0</td>\n",
       "      <td>2.0</td>\n",
       "      <td>10.0</td>\n",
       "      <td>1.0</td>\n",
       "      <td>4.0</td>\n",
       "      <td>0.0</td>\n",
       "      <td>0.0</td>\n",
       "      <td>0.0</td>\n",
       "    </tr>\n",
       "    <tr>\n",
       "      <th>3539048</th>\n",
       "      <td>0038911e-79a3-11ef-9b7b-002590c82436</td>\n",
       "      <td>1</td>\n",
       "      <td>-1</td>\n",
       "      <td>996145740</td>\n",
       "      <td>2024-09-25 19:43:31</td>\n",
       "      <td>0</td>\n",
       "      <td>NaN</td>\n",
       "      <td>2</td>\n",
       "      <td>0.0</td>\n",
       "      <td>155</td>\n",
       "      <td>...</td>\n",
       "      <td>3.0</td>\n",
       "      <td>22.0</td>\n",
       "      <td>0.0</td>\n",
       "      <td>2.0</td>\n",
       "      <td>10.0</td>\n",
       "      <td>1.0</td>\n",
       "      <td>6.0</td>\n",
       "      <td>0.0</td>\n",
       "      <td>0.0</td>\n",
       "      <td>0.0</td>\n",
       "    </tr>\n",
       "    <tr>\n",
       "      <th>3539063</th>\n",
       "      <td>0038911e-79a3-11ef-9b7b-002590c82436</td>\n",
       "      <td>1</td>\n",
       "      <td>-1</td>\n",
       "      <td>996145740</td>\n",
       "      <td>2024-09-25 19:43:34</td>\n",
       "      <td>0</td>\n",
       "      <td>NaN</td>\n",
       "      <td>2</td>\n",
       "      <td>0.0</td>\n",
       "      <td>155</td>\n",
       "      <td>...</td>\n",
       "      <td>3.0</td>\n",
       "      <td>22.0</td>\n",
       "      <td>0.0</td>\n",
       "      <td>2.0</td>\n",
       "      <td>10.0</td>\n",
       "      <td>1.0</td>\n",
       "      <td>3.0</td>\n",
       "      <td>0.0</td>\n",
       "      <td>0.0</td>\n",
       "      <td>0.0</td>\n",
       "    </tr>\n",
       "    <tr>\n",
       "      <th>3539083</th>\n",
       "      <td>0038911e-79a3-11ef-9b7b-002590c82436</td>\n",
       "      <td>1</td>\n",
       "      <td>-1</td>\n",
       "      <td>996145740</td>\n",
       "      <td>2024-09-25 19:43:39</td>\n",
       "      <td>0</td>\n",
       "      <td>NaN</td>\n",
       "      <td>2</td>\n",
       "      <td>0.0</td>\n",
       "      <td>155</td>\n",
       "      <td>...</td>\n",
       "      <td>3.0</td>\n",
       "      <td>22.0</td>\n",
       "      <td>0.0</td>\n",
       "      <td>2.0</td>\n",
       "      <td>10.0</td>\n",
       "      <td>1.0</td>\n",
       "      <td>4.0</td>\n",
       "      <td>0.0</td>\n",
       "      <td>0.0</td>\n",
       "      <td>0.0</td>\n",
       "    </tr>\n",
       "  </tbody>\n",
       "</table>\n",
       "<p>94 rows × 25 columns</p>\n",
       "</div>"
      ]
     },
     "execution_count": 30,
     "metadata": {},
     "output_type": "execute_result"
    }
   ],
   "execution_count": 30
  },
  {
   "metadata": {
    "ExecuteTime": {
     "end_time": "2024-10-12T17:35:05.470245Z",
     "start_time": "2024-10-12T17:35:04.232901Z"
    }
   },
   "cell_type": "code",
   "source": [
    "max_date = inters['datetime'].max()\n",
    "train_raw = inters[inters['datetime'] >= max_date - pd.Timedelta(days=22)].copy()\n",
    "train_raw = train_raw[train_raw['datetime'] <= max_date - pd.Timedelta(days=3)]\n",
    "test_raw = inters[inters['datetime'] > max_date - pd.Timedelta(days=3)].copy()"
   ],
   "id": "6133f4fbad1eeab6",
   "outputs": [],
   "execution_count": 38
  },
  {
   "metadata": {
    "ExecuteTime": {
     "end_time": "2024-10-12T17:35:11.618638Z",
     "start_time": "2024-10-12T17:35:11.616546Z"
    }
   },
   "cell_type": "code",
   "source": "",
   "id": "d7459139756b00da",
   "outputs": [],
   "execution_count": null
  },
  {
   "metadata": {
    "ExecuteTime": {
     "end_time": "2024-10-12T17:35:14.298167Z",
     "start_time": "2024-10-12T17:35:13.947605Z"
    }
   },
   "cell_type": "code",
   "source": [
    "train = train_raw.drop(columns=['datetime', 'item_id', 'pageId'])\n",
    "test = test_raw.drop(columns=['datetime', 'item_id', 'pageId'])"
   ],
   "id": "e8dcaf82a3c57b1b",
   "outputs": [],
   "execution_count": 39
  },
  {
   "metadata": {
    "ExecuteTime": {
     "end_time": "2024-10-12T17:35:14.373931Z",
     "start_time": "2024-10-12T17:35:14.341340Z"
    }
   },
   "cell_type": "code",
   "source": "test.sample()",
   "id": "f10f0ad22d9d7654",
   "outputs": [
    {
     "data": {
      "text/plain": [
       "                                      user_id  weight  category_id title  \\\n",
       "4073300  ca963d3e-e8ef-11ee-86e0-002590c0647c       1            0   NaN   \n",
       "\n",
       "         day_of_week  price_diff  loc_user_count  category_id_count  \\\n",
       "4073300            5         0.0             973                973   \n",
       "\n",
       "         action_0_count  action_1_count  ...  action_4_count  action_5_count  \\\n",
       "4073300             0.0           642.0  ...             0.0            68.0   \n",
       "\n",
       "         action_6_count  action_7_count  action_8_count  action_9_count  \\\n",
       "4073300             0.0             0.0             0.0             0.0   \n",
       "\n",
       "         delta_sec  delta_day  delta_hour  delta_min  \n",
       "4073300        3.0        0.0         0.0        0.0  \n",
       "\n",
       "[1 rows x 22 columns]"
      ],
      "text/html": [
       "<div>\n",
       "<style scoped>\n",
       "    .dataframe tbody tr th:only-of-type {\n",
       "        vertical-align: middle;\n",
       "    }\n",
       "\n",
       "    .dataframe tbody tr th {\n",
       "        vertical-align: top;\n",
       "    }\n",
       "\n",
       "    .dataframe thead th {\n",
       "        text-align: right;\n",
       "    }\n",
       "</style>\n",
       "<table border=\"1\" class=\"dataframe\">\n",
       "  <thead>\n",
       "    <tr style=\"text-align: right;\">\n",
       "      <th></th>\n",
       "      <th>user_id</th>\n",
       "      <th>weight</th>\n",
       "      <th>category_id</th>\n",
       "      <th>title</th>\n",
       "      <th>day_of_week</th>\n",
       "      <th>price_diff</th>\n",
       "      <th>loc_user_count</th>\n",
       "      <th>category_id_count</th>\n",
       "      <th>action_0_count</th>\n",
       "      <th>action_1_count</th>\n",
       "      <th>...</th>\n",
       "      <th>action_4_count</th>\n",
       "      <th>action_5_count</th>\n",
       "      <th>action_6_count</th>\n",
       "      <th>action_7_count</th>\n",
       "      <th>action_8_count</th>\n",
       "      <th>action_9_count</th>\n",
       "      <th>delta_sec</th>\n",
       "      <th>delta_day</th>\n",
       "      <th>delta_hour</th>\n",
       "      <th>delta_min</th>\n",
       "    </tr>\n",
       "  </thead>\n",
       "  <tbody>\n",
       "    <tr>\n",
       "      <th>4073300</th>\n",
       "      <td>ca963d3e-e8ef-11ee-86e0-002590c0647c</td>\n",
       "      <td>1</td>\n",
       "      <td>0</td>\n",
       "      <td>NaN</td>\n",
       "      <td>5</td>\n",
       "      <td>0.0</td>\n",
       "      <td>973</td>\n",
       "      <td>973</td>\n",
       "      <td>0.0</td>\n",
       "      <td>642.0</td>\n",
       "      <td>...</td>\n",
       "      <td>0.0</td>\n",
       "      <td>68.0</td>\n",
       "      <td>0.0</td>\n",
       "      <td>0.0</td>\n",
       "      <td>0.0</td>\n",
       "      <td>0.0</td>\n",
       "      <td>3.0</td>\n",
       "      <td>0.0</td>\n",
       "      <td>0.0</td>\n",
       "      <td>0.0</td>\n",
       "    </tr>\n",
       "  </tbody>\n",
       "</table>\n",
       "<p>1 rows × 22 columns</p>\n",
       "</div>"
      ]
     },
     "execution_count": 40,
     "metadata": {},
     "output_type": "execute_result"
    }
   ],
   "execution_count": 40
  },
  {
   "metadata": {
    "ExecuteTime": {
     "end_time": "2024-10-12T17:35:17.221155Z",
     "start_time": "2024-10-12T17:35:17.218701Z"
    }
   },
   "cell_type": "code",
   "source": "train.shape, test.shape",
   "id": "722b5abb87e64ce5",
   "outputs": [
    {
     "data": {
      "text/plain": [
       "((5796546, 22), (1062417, 22))"
      ]
     },
     "execution_count": 41,
     "metadata": {},
     "output_type": "execute_result"
    }
   ],
   "execution_count": 41
  },
  {
   "metadata": {},
   "cell_type": "markdown",
   "source": "### Классы не сбалансированы",
   "id": "88f18be740972951"
  },
  {
   "metadata": {
    "ExecuteTime": {
     "end_time": "2024-10-12T17:35:17.394070Z",
     "start_time": "2024-10-12T17:35:17.374878Z"
    }
   },
   "cell_type": "code",
   "source": "train.weight.value_counts()",
   "id": "d13fdeea693ba952",
   "outputs": [
    {
     "data": {
      "text/plain": [
       "weight\n",
       "1    3554985\n",
       "2     876035\n",
       "5     875680\n",
       "8     314936\n",
       "3      69354\n",
       "7      44249\n",
       "6      26346\n",
       "4      24150\n",
       "9      10478\n",
       "0        333\n",
       "Name: count, dtype: int64"
      ]
     },
     "execution_count": 42,
     "metadata": {},
     "output_type": "execute_result"
    }
   ],
   "execution_count": 42
  },
  {
   "metadata": {
    "ExecuteTime": {
     "end_time": "2024-10-12T17:35:17.528168Z",
     "start_time": "2024-10-12T17:35:17.526403Z"
    }
   },
   "cell_type": "code",
   "source": "",
   "id": "c8169b110162b331",
   "outputs": [],
   "execution_count": null
  },
  {
   "metadata": {},
   "cell_type": "markdown",
   "source": "### Кооректируем баланс классов",
   "id": "bde8dde057ea75de"
  },
  {
   "metadata": {
    "ExecuteTime": {
     "end_time": "2024-10-12T17:35:19.534607Z",
     "start_time": "2024-10-12T17:35:17.763056Z"
    }
   },
   "cell_type": "code",
   "source": [
    "train = train[train.weight.isin([0, 1, 3, 6, 7, 9])].drop_duplicates()\n",
    "train.shape"
   ],
   "id": "82dc937792de5",
   "outputs": [
    {
     "data": {
      "text/plain": [
       "(2540506, 22)"
      ]
     },
     "execution_count": 43,
     "metadata": {},
     "output_type": "execute_result"
    }
   ],
   "execution_count": 43
  },
  {
   "metadata": {
    "ExecuteTime": {
     "end_time": "2024-10-12T17:35:20.035190Z",
     "start_time": "2024-10-12T17:35:19.567598Z"
    }
   },
   "cell_type": "code",
   "source": [
    "train_portion = pd.concat(\n",
    "    [\n",
    "        train[train.weight.isin([0, 1, 3, 6, 7, 9])],\n",
    "        train_raw.sample(130_000)],\n",
    "    axis='rows'\n",
    ")"
   ],
   "id": "2d10066311257c1c",
   "outputs": [],
   "execution_count": 44
  },
  {
   "metadata": {
    "ExecuteTime": {
     "end_time": "2024-10-12T17:35:22.047969Z",
     "start_time": "2024-10-12T17:35:22.038251Z"
    }
   },
   "cell_type": "code",
   "source": "train_portion.weight.unique()",
   "id": "ad2e701c4dbea219",
   "outputs": [
    {
     "data": {
      "text/plain": [
       "array([0, 1, 3, 6, 7, 9, 2, 5, 8, 4])"
      ]
     },
     "execution_count": 45,
     "metadata": {},
     "output_type": "execute_result"
    }
   ],
   "execution_count": 45
  },
  {
   "metadata": {
    "ExecuteTime": {
     "end_time": "2024-10-12T17:35:23.874261Z",
     "start_time": "2024-10-12T17:35:23.872664Z"
    }
   },
   "cell_type": "code",
   "source": "",
   "id": "107e032de0d208b5",
   "outputs": [],
   "execution_count": null
  },
  {
   "metadata": {
    "ExecuteTime": {
     "end_time": "2024-10-12T17:35:29.602869Z",
     "start_time": "2024-10-12T17:35:25.590151Z"
    }
   },
   "cell_type": "code",
   "source": [
    "h2o.init(verbose=False)\n",
    "print(f'{h2o.cluster().show_status()}')\n",
    "h2o.no_progress()"
   ],
   "id": "8bfde335c2f8ef6f",
   "outputs": [
    {
     "data": {
      "text/plain": [
       "--------------------------  -----------------------------\n",
       "H2O_cluster_uptime:         01 secs\n",
       "H2O_cluster_timezone:       Europe/Moscow\n",
       "H2O_data_parsing_timezone:  UTC\n",
       "H2O_cluster_version:        3.46.0.5\n",
       "H2O_cluster_version_age:    1 month and 13 days\n",
       "H2O_cluster_name:           H2O_from_python_varsey_v7h4ed\n",
       "H2O_cluster_total_nodes:    1\n",
       "H2O_cluster_free_memory:    15.62 Gb\n",
       "H2O_cluster_total_cores:    12\n",
       "H2O_cluster_allowed_cores:  12\n",
       "H2O_cluster_status:         locked, healthy\n",
       "H2O_connection_url:         http://127.0.0.1:54321\n",
       "H2O_connection_proxy:       {\"http\": null, \"https\": null}\n",
       "H2O_internal_security:      False\n",
       "Python_version:             3.11.6 final\n",
       "--------------------------  -----------------------------"
      ],
      "text/html": [
       "\n",
       "<style>\n",
       "\n",
       "#h2o-table-1.h2o-container {\n",
       "  overflow-x: auto;\n",
       "}\n",
       "#h2o-table-1 .h2o-table {\n",
       "  /* width: 100%; */\n",
       "  margin-top: 1em;\n",
       "  margin-bottom: 1em;\n",
       "}\n",
       "#h2o-table-1 .h2o-table caption {\n",
       "  white-space: nowrap;\n",
       "  caption-side: top;\n",
       "  text-align: left;\n",
       "  /* margin-left: 1em; */\n",
       "  margin: 0;\n",
       "  font-size: larger;\n",
       "}\n",
       "#h2o-table-1 .h2o-table thead {\n",
       "  white-space: nowrap; \n",
       "  position: sticky;\n",
       "  top: 0;\n",
       "  box-shadow: 0 -1px inset;\n",
       "}\n",
       "#h2o-table-1 .h2o-table tbody {\n",
       "  overflow: auto;\n",
       "}\n",
       "#h2o-table-1 .h2o-table th,\n",
       "#h2o-table-1 .h2o-table td {\n",
       "  text-align: right;\n",
       "  /* border: 1px solid; */\n",
       "}\n",
       "#h2o-table-1 .h2o-table tr:nth-child(even) {\n",
       "  /* background: #F5F5F5 */\n",
       "}\n",
       "\n",
       "</style>      \n",
       "<div id=\"h2o-table-1\" class=\"h2o-container\">\n",
       "  <table class=\"h2o-table\">\n",
       "    <caption></caption>\n",
       "    <thead></thead>\n",
       "    <tbody><tr><td>H2O_cluster_uptime:</td>\n",
       "<td>01 secs</td></tr>\n",
       "<tr><td>H2O_cluster_timezone:</td>\n",
       "<td>Europe/Moscow</td></tr>\n",
       "<tr><td>H2O_data_parsing_timezone:</td>\n",
       "<td>UTC</td></tr>\n",
       "<tr><td>H2O_cluster_version:</td>\n",
       "<td>3.46.0.5</td></tr>\n",
       "<tr><td>H2O_cluster_version_age:</td>\n",
       "<td>1 month and 13 days</td></tr>\n",
       "<tr><td>H2O_cluster_name:</td>\n",
       "<td>H2O_from_python_varsey_v7h4ed</td></tr>\n",
       "<tr><td>H2O_cluster_total_nodes:</td>\n",
       "<td>1</td></tr>\n",
       "<tr><td>H2O_cluster_free_memory:</td>\n",
       "<td>15.62 Gb</td></tr>\n",
       "<tr><td>H2O_cluster_total_cores:</td>\n",
       "<td>12</td></tr>\n",
       "<tr><td>H2O_cluster_allowed_cores:</td>\n",
       "<td>12</td></tr>\n",
       "<tr><td>H2O_cluster_status:</td>\n",
       "<td>locked, healthy</td></tr>\n",
       "<tr><td>H2O_connection_url:</td>\n",
       "<td>http://127.0.0.1:54321</td></tr>\n",
       "<tr><td>H2O_connection_proxy:</td>\n",
       "<td>{\"http\": null, \"https\": null}</td></tr>\n",
       "<tr><td>H2O_internal_security:</td>\n",
       "<td>False</td></tr>\n",
       "<tr><td>Python_version:</td>\n",
       "<td>3.11.6 final</td></tr></tbody>\n",
       "  </table>\n",
       "</div>\n"
      ]
     },
     "metadata": {},
     "output_type": "display_data"
    },
    {
     "name": "stdout",
     "output_type": "stream",
     "text": [
      "None\n"
     ]
    }
   ],
   "execution_count": 46
  },
  {
   "metadata": {
    "ExecuteTime": {
     "end_time": "2024-10-12T17:35:31.399439Z",
     "start_time": "2024-10-12T17:35:31.385067Z"
    }
   },
   "cell_type": "code",
   "source": "train_portion[train_portion.weight == 0]",
   "id": "6900d3c1a291c034",
   "outputs": [
    {
     "data": {
      "text/plain": [
       "                                  user_id  weight  category_id title  \\\n",
       "0    5b08b2fc-0e71-11ee-86e0-002590c0647c       0            0   NaN   \n",
       "1    1af7e04c-6cd1-11ef-9b7b-002590c82436       0            0   NaN   \n",
       "2    d41cdad4-3b4c-11ef-86e0-002590c0647c       0            0   NaN   \n",
       "3    59b9d89a-1de2-11eb-86e0-002590c0647c       0            0   NaN   \n",
       "4    9c087566-8065-11ed-86e0-002590c0647c       0            0   NaN   \n",
       "..                                    ...     ...          ...   ...   \n",
       "243  3200ffea-fbc5-11ed-86e0-002590c0647c       0            0   NaN   \n",
       "39   3365d13e-0160-11ef-9b7b-002590c82436       0            0   NaN   \n",
       "23   f36c080e-9118-11ed-86e0-002590c0647c       0            0   NaN   \n",
       "252  52a97bf6-3c82-11ef-86e0-002590c0647c       0            0   NaN   \n",
       "172  a00f7104-1560-11eb-8a53-0cc47a6d2fef       0            0   NaN   \n",
       "\n",
       "     day_of_week  price_diff  loc_user_count  category_id_count  \\\n",
       "0              5         0.0             141                141   \n",
       "1              5         0.0              91                 91   \n",
       "2              5         0.0              85                 85   \n",
       "3              5         0.0            8270               8270   \n",
       "4              5         0.0             182                182   \n",
       "..           ...         ...             ...                ...   \n",
       "243            4         0.0             343                343   \n",
       "39             1         0.0            3331               3331   \n",
       "23             0         0.0             235                235   \n",
       "252            5         0.0            8318               8318   \n",
       "172            0         0.0              82                 82   \n",
       "\n",
       "     action_0_count  action_1_count  ...  action_7_count  action_8_count  \\\n",
       "0               1.0           101.0  ...             1.0             1.0   \n",
       "1               1.0            47.0  ...             2.0             5.0   \n",
       "2               2.0            48.0  ...             2.0             6.0   \n",
       "3               2.0          5244.0  ...           125.0          1729.0   \n",
       "4               1.0           118.0  ...             3.0             8.0   \n",
       "..              ...             ...  ...             ...             ...   \n",
       "243             1.0           230.0  ...             3.0            12.0   \n",
       "39             11.0          1729.0  ...            13.0            23.0   \n",
       "23              1.0           158.0  ...             1.0             5.0   \n",
       "252            11.0          5866.0  ...           136.0          1557.0   \n",
       "172             2.0            46.0  ...             2.0             2.0   \n",
       "\n",
       "     action_9_count  delta_sec  delta_day  delta_hour  delta_min  item_id  \\\n",
       "0               0.0       24.0        0.0         0.0        1.0      NaN   \n",
       "1               1.0        6.0        0.0         0.0        1.0      NaN   \n",
       "2               0.0        8.0        0.0         0.0        1.0      NaN   \n",
       "3             112.0        3.0        0.0         0.0        0.0      NaN   \n",
       "4               0.0        9.0        0.0         0.0        0.0      NaN   \n",
       "..              ...        ...        ...         ...        ...      ...   \n",
       "243             1.0       16.0        0.0         0.0        0.0     -1.0   \n",
       "39              0.0        7.0        0.0         0.0        0.0     -1.0   \n",
       "23              0.0       19.0        0.0         0.0        1.0     -1.0   \n",
       "252            86.0        3.0        0.0         0.0        0.0     -1.0   \n",
       "172             0.0       16.0        0.0         0.0        1.0     -1.0   \n",
       "\n",
       "         pageId            datetime  \n",
       "0           NaN                 NaT  \n",
       "1           NaN                 NaT  \n",
       "2           NaN                 NaT  \n",
       "3           NaN                 NaT  \n",
       "4           NaN                 NaT  \n",
       "..          ...                 ...  \n",
       "243  3505743548 2024-09-20 14:18:24  \n",
       "39   3155583250 2024-09-10 10:05:21  \n",
       "23    358330127 2024-09-09 06:56:01  \n",
       "252  3473946959 2024-09-21 12:44:20  \n",
       "172  3451119225 2024-09-16 19:36:12  \n",
       "\n",
       "[343 rows x 25 columns]"
      ],
      "text/html": [
       "<div>\n",
       "<style scoped>\n",
       "    .dataframe tbody tr th:only-of-type {\n",
       "        vertical-align: middle;\n",
       "    }\n",
       "\n",
       "    .dataframe tbody tr th {\n",
       "        vertical-align: top;\n",
       "    }\n",
       "\n",
       "    .dataframe thead th {\n",
       "        text-align: right;\n",
       "    }\n",
       "</style>\n",
       "<table border=\"1\" class=\"dataframe\">\n",
       "  <thead>\n",
       "    <tr style=\"text-align: right;\">\n",
       "      <th></th>\n",
       "      <th>user_id</th>\n",
       "      <th>weight</th>\n",
       "      <th>category_id</th>\n",
       "      <th>title</th>\n",
       "      <th>day_of_week</th>\n",
       "      <th>price_diff</th>\n",
       "      <th>loc_user_count</th>\n",
       "      <th>category_id_count</th>\n",
       "      <th>action_0_count</th>\n",
       "      <th>action_1_count</th>\n",
       "      <th>...</th>\n",
       "      <th>action_7_count</th>\n",
       "      <th>action_8_count</th>\n",
       "      <th>action_9_count</th>\n",
       "      <th>delta_sec</th>\n",
       "      <th>delta_day</th>\n",
       "      <th>delta_hour</th>\n",
       "      <th>delta_min</th>\n",
       "      <th>item_id</th>\n",
       "      <th>pageId</th>\n",
       "      <th>datetime</th>\n",
       "    </tr>\n",
       "  </thead>\n",
       "  <tbody>\n",
       "    <tr>\n",
       "      <th>0</th>\n",
       "      <td>5b08b2fc-0e71-11ee-86e0-002590c0647c</td>\n",
       "      <td>0</td>\n",
       "      <td>0</td>\n",
       "      <td>NaN</td>\n",
       "      <td>5</td>\n",
       "      <td>0.0</td>\n",
       "      <td>141</td>\n",
       "      <td>141</td>\n",
       "      <td>1.0</td>\n",
       "      <td>101.0</td>\n",
       "      <td>...</td>\n",
       "      <td>1.0</td>\n",
       "      <td>1.0</td>\n",
       "      <td>0.0</td>\n",
       "      <td>24.0</td>\n",
       "      <td>0.0</td>\n",
       "      <td>0.0</td>\n",
       "      <td>1.0</td>\n",
       "      <td>NaN</td>\n",
       "      <td>NaN</td>\n",
       "      <td>NaT</td>\n",
       "    </tr>\n",
       "    <tr>\n",
       "      <th>1</th>\n",
       "      <td>1af7e04c-6cd1-11ef-9b7b-002590c82436</td>\n",
       "      <td>0</td>\n",
       "      <td>0</td>\n",
       "      <td>NaN</td>\n",
       "      <td>5</td>\n",
       "      <td>0.0</td>\n",
       "      <td>91</td>\n",
       "      <td>91</td>\n",
       "      <td>1.0</td>\n",
       "      <td>47.0</td>\n",
       "      <td>...</td>\n",
       "      <td>2.0</td>\n",
       "      <td>5.0</td>\n",
       "      <td>1.0</td>\n",
       "      <td>6.0</td>\n",
       "      <td>0.0</td>\n",
       "      <td>0.0</td>\n",
       "      <td>1.0</td>\n",
       "      <td>NaN</td>\n",
       "      <td>NaN</td>\n",
       "      <td>NaT</td>\n",
       "    </tr>\n",
       "    <tr>\n",
       "      <th>2</th>\n",
       "      <td>d41cdad4-3b4c-11ef-86e0-002590c0647c</td>\n",
       "      <td>0</td>\n",
       "      <td>0</td>\n",
       "      <td>NaN</td>\n",
       "      <td>5</td>\n",
       "      <td>0.0</td>\n",
       "      <td>85</td>\n",
       "      <td>85</td>\n",
       "      <td>2.0</td>\n",
       "      <td>48.0</td>\n",
       "      <td>...</td>\n",
       "      <td>2.0</td>\n",
       "      <td>6.0</td>\n",
       "      <td>0.0</td>\n",
       "      <td>8.0</td>\n",
       "      <td>0.0</td>\n",
       "      <td>0.0</td>\n",
       "      <td>1.0</td>\n",
       "      <td>NaN</td>\n",
       "      <td>NaN</td>\n",
       "      <td>NaT</td>\n",
       "    </tr>\n",
       "    <tr>\n",
       "      <th>3</th>\n",
       "      <td>59b9d89a-1de2-11eb-86e0-002590c0647c</td>\n",
       "      <td>0</td>\n",
       "      <td>0</td>\n",
       "      <td>NaN</td>\n",
       "      <td>5</td>\n",
       "      <td>0.0</td>\n",
       "      <td>8270</td>\n",
       "      <td>8270</td>\n",
       "      <td>2.0</td>\n",
       "      <td>5244.0</td>\n",
       "      <td>...</td>\n",
       "      <td>125.0</td>\n",
       "      <td>1729.0</td>\n",
       "      <td>112.0</td>\n",
       "      <td>3.0</td>\n",
       "      <td>0.0</td>\n",
       "      <td>0.0</td>\n",
       "      <td>0.0</td>\n",
       "      <td>NaN</td>\n",
       "      <td>NaN</td>\n",
       "      <td>NaT</td>\n",
       "    </tr>\n",
       "    <tr>\n",
       "      <th>4</th>\n",
       "      <td>9c087566-8065-11ed-86e0-002590c0647c</td>\n",
       "      <td>0</td>\n",
       "      <td>0</td>\n",
       "      <td>NaN</td>\n",
       "      <td>5</td>\n",
       "      <td>0.0</td>\n",
       "      <td>182</td>\n",
       "      <td>182</td>\n",
       "      <td>1.0</td>\n",
       "      <td>118.0</td>\n",
       "      <td>...</td>\n",
       "      <td>3.0</td>\n",
       "      <td>8.0</td>\n",
       "      <td>0.0</td>\n",
       "      <td>9.0</td>\n",
       "      <td>0.0</td>\n",
       "      <td>0.0</td>\n",
       "      <td>0.0</td>\n",
       "      <td>NaN</td>\n",
       "      <td>NaN</td>\n",
       "      <td>NaT</td>\n",
       "    </tr>\n",
       "    <tr>\n",
       "      <th>...</th>\n",
       "      <td>...</td>\n",
       "      <td>...</td>\n",
       "      <td>...</td>\n",
       "      <td>...</td>\n",
       "      <td>...</td>\n",
       "      <td>...</td>\n",
       "      <td>...</td>\n",
       "      <td>...</td>\n",
       "      <td>...</td>\n",
       "      <td>...</td>\n",
       "      <td>...</td>\n",
       "      <td>...</td>\n",
       "      <td>...</td>\n",
       "      <td>...</td>\n",
       "      <td>...</td>\n",
       "      <td>...</td>\n",
       "      <td>...</td>\n",
       "      <td>...</td>\n",
       "      <td>...</td>\n",
       "      <td>...</td>\n",
       "      <td>...</td>\n",
       "    </tr>\n",
       "    <tr>\n",
       "      <th>243</th>\n",
       "      <td>3200ffea-fbc5-11ed-86e0-002590c0647c</td>\n",
       "      <td>0</td>\n",
       "      <td>0</td>\n",
       "      <td>NaN</td>\n",
       "      <td>4</td>\n",
       "      <td>0.0</td>\n",
       "      <td>343</td>\n",
       "      <td>343</td>\n",
       "      <td>1.0</td>\n",
       "      <td>230.0</td>\n",
       "      <td>...</td>\n",
       "      <td>3.0</td>\n",
       "      <td>12.0</td>\n",
       "      <td>1.0</td>\n",
       "      <td>16.0</td>\n",
       "      <td>0.0</td>\n",
       "      <td>0.0</td>\n",
       "      <td>0.0</td>\n",
       "      <td>-1.0</td>\n",
       "      <td>3505743548</td>\n",
       "      <td>2024-09-20 14:18:24</td>\n",
       "    </tr>\n",
       "    <tr>\n",
       "      <th>39</th>\n",
       "      <td>3365d13e-0160-11ef-9b7b-002590c82436</td>\n",
       "      <td>0</td>\n",
       "      <td>0</td>\n",
       "      <td>NaN</td>\n",
       "      <td>1</td>\n",
       "      <td>0.0</td>\n",
       "      <td>3331</td>\n",
       "      <td>3331</td>\n",
       "      <td>11.0</td>\n",
       "      <td>1729.0</td>\n",
       "      <td>...</td>\n",
       "      <td>13.0</td>\n",
       "      <td>23.0</td>\n",
       "      <td>0.0</td>\n",
       "      <td>7.0</td>\n",
       "      <td>0.0</td>\n",
       "      <td>0.0</td>\n",
       "      <td>0.0</td>\n",
       "      <td>-1.0</td>\n",
       "      <td>3155583250</td>\n",
       "      <td>2024-09-10 10:05:21</td>\n",
       "    </tr>\n",
       "    <tr>\n",
       "      <th>23</th>\n",
       "      <td>f36c080e-9118-11ed-86e0-002590c0647c</td>\n",
       "      <td>0</td>\n",
       "      <td>0</td>\n",
       "      <td>NaN</td>\n",
       "      <td>0</td>\n",
       "      <td>0.0</td>\n",
       "      <td>235</td>\n",
       "      <td>235</td>\n",
       "      <td>1.0</td>\n",
       "      <td>158.0</td>\n",
       "      <td>...</td>\n",
       "      <td>1.0</td>\n",
       "      <td>5.0</td>\n",
       "      <td>0.0</td>\n",
       "      <td>19.0</td>\n",
       "      <td>0.0</td>\n",
       "      <td>0.0</td>\n",
       "      <td>1.0</td>\n",
       "      <td>-1.0</td>\n",
       "      <td>358330127</td>\n",
       "      <td>2024-09-09 06:56:01</td>\n",
       "    </tr>\n",
       "    <tr>\n",
       "      <th>252</th>\n",
       "      <td>52a97bf6-3c82-11ef-86e0-002590c0647c</td>\n",
       "      <td>0</td>\n",
       "      <td>0</td>\n",
       "      <td>NaN</td>\n",
       "      <td>5</td>\n",
       "      <td>0.0</td>\n",
       "      <td>8318</td>\n",
       "      <td>8318</td>\n",
       "      <td>11.0</td>\n",
       "      <td>5866.0</td>\n",
       "      <td>...</td>\n",
       "      <td>136.0</td>\n",
       "      <td>1557.0</td>\n",
       "      <td>86.0</td>\n",
       "      <td>3.0</td>\n",
       "      <td>0.0</td>\n",
       "      <td>0.0</td>\n",
       "      <td>0.0</td>\n",
       "      <td>-1.0</td>\n",
       "      <td>3473946959</td>\n",
       "      <td>2024-09-21 12:44:20</td>\n",
       "    </tr>\n",
       "    <tr>\n",
       "      <th>172</th>\n",
       "      <td>a00f7104-1560-11eb-8a53-0cc47a6d2fef</td>\n",
       "      <td>0</td>\n",
       "      <td>0</td>\n",
       "      <td>NaN</td>\n",
       "      <td>0</td>\n",
       "      <td>0.0</td>\n",
       "      <td>82</td>\n",
       "      <td>82</td>\n",
       "      <td>2.0</td>\n",
       "      <td>46.0</td>\n",
       "      <td>...</td>\n",
       "      <td>2.0</td>\n",
       "      <td>2.0</td>\n",
       "      <td>0.0</td>\n",
       "      <td>16.0</td>\n",
       "      <td>0.0</td>\n",
       "      <td>0.0</td>\n",
       "      <td>1.0</td>\n",
       "      <td>-1.0</td>\n",
       "      <td>3451119225</td>\n",
       "      <td>2024-09-16 19:36:12</td>\n",
       "    </tr>\n",
       "  </tbody>\n",
       "</table>\n",
       "<p>343 rows × 25 columns</p>\n",
       "</div>"
      ]
     },
     "execution_count": 47,
     "metadata": {},
     "output_type": "execute_result"
    }
   ],
   "execution_count": 47
  },
  {
   "metadata": {
    "ExecuteTime": {
     "end_time": "2024-10-12T17:35:53.454523Z",
     "start_time": "2024-10-12T17:35:33.390420Z"
    }
   },
   "cell_type": "code",
   "source": [
    "train_h2o = h2o.H2OFrame(train_portion)\n",
    "test_h2o = h2o.H2OFrame(test.sample(40_000))"
   ],
   "id": "40e3b6f6a7f48db9",
   "outputs": [],
   "execution_count": 48
  },
  {
   "metadata": {
    "ExecuteTime": {
     "end_time": "2024-10-12T17:35:53.487596Z",
     "start_time": "2024-10-12T17:35:53.483177Z"
    }
   },
   "cell_type": "code",
   "source": [
    "y = \"weight\"\n",
    "x = set(train_h2o.names) - set([y, 'user_id', 'shop_id', 'day', 'hour', 'pageId', 'datetime', 'item_id', 'is_useful'])\n",
    "x"
   ],
   "id": "c73df6245888fc01",
   "outputs": [
    {
     "data": {
      "text/plain": [
       "{'action_0_count',\n",
       " 'action_1_count',\n",
       " 'action_2_count',\n",
       " 'action_3_count',\n",
       " 'action_4_count',\n",
       " 'action_5_count',\n",
       " 'action_6_count',\n",
       " 'action_7_count',\n",
       " 'action_8_count',\n",
       " 'action_9_count',\n",
       " 'category_id',\n",
       " 'category_id_count',\n",
       " 'day_of_week',\n",
       " 'delta_day',\n",
       " 'delta_hour',\n",
       " 'delta_min',\n",
       " 'delta_sec',\n",
       " 'loc_user_count',\n",
       " 'price_diff',\n",
       " 'title'}"
      ]
     },
     "execution_count": 49,
     "metadata": {},
     "output_type": "execute_result"
    }
   ],
   "execution_count": 49
  },
  {
   "metadata": {
    "ExecuteTime": {
     "end_time": "2024-10-12T17:35:53.624368Z",
     "start_time": "2024-10-12T17:35:53.620335Z"
    }
   },
   "cell_type": "code",
   "source": [
    "train_h2o[y] = train_h2o[y].asfactor()\n",
    "test_h2o[y] = test_h2o[y].asfactor()"
   ],
   "id": "7fa7d7231c5b1a55",
   "outputs": [],
   "execution_count": 50
  },
  {
   "metadata": {
    "ExecuteTime": {
     "end_time": "2024-10-12T17:35:53.699912Z",
     "start_time": "2024-10-12T17:35:53.697207Z"
    }
   },
   "cell_type": "code",
   "source": [
    "train_h2o['category_id'] = train_h2o['category_id'].asfactor()\n",
    "test_h2o['category_id'] = test_h2o['category_id'].asfactor()"
   ],
   "id": "632976a09523b6a5",
   "outputs": [],
   "execution_count": 51
  },
  {
   "metadata": {},
   "cell_type": "markdown",
   "source": "### для снижения уровня рутины и фокусировки на цели - качесвтенных предсказаниях - используем automl",
   "id": "9339c35bb05f3d21"
  },
  {
   "metadata": {
    "ExecuteTime": {
     "end_time": "2024-10-12T17:37:58.268711Z",
     "start_time": "2024-10-12T17:35:55.474893Z"
    }
   },
   "cell_type": "code",
   "source": [
    "gbm_model = H2OGradientBoostingEstimator(seed=1234)\n",
    "gbm_model.train(x=list(x), y=y, training_frame = train_h2o,  validation_frame = test_h2o, max_runtime_secs=120)"
   ],
   "id": "3be5fd2b53fb9838",
   "outputs": [
    {
     "data": {
      "text/plain": [
       "Model Details\n",
       "=============\n",
       "H2OGradientBoostingEstimator : Gradient Boosting Machine\n",
       "Model Key: GBM_model_python_1728754526945_1\n",
       "\n",
       "\n",
       "Model Summary: \n",
       "    number_of_trees    number_of_internal_trees    model_size_in_bytes    min_depth    max_depth    mean_depth    min_leaves    max_leaves    mean_leaves\n",
       "--  -----------------  --------------------------  ---------------------  -----------  -----------  ------------  ------------  ------------  -------------\n",
       "    46                 460                         249598                 5            5            5             16            32            30.1739\n",
       "\n",
       "ModelMetricsMultinomial: gbm\n",
       "** Reported on train data. **\n",
       "\n",
       "MSE: 0.02959301835999367\n",
       "RMSE: 0.17202621416514888\n",
       "LogLoss: 0.12214595962997915\n",
       "Mean Per-Class Error: 0.6288613430761583\n",
       "AUC table was not computed: it is either disabled (model parameter 'auc_type' was set to AUTO or NONE) or the domain size exceeds the limit (maximum is 50 domains).\n",
       "AUCPR table was not computed: it is either disabled (model parameter 'auc_type' was set to AUTO or NONE) or the domain size exceeds the limit (maximum is 50 domains).\n",
       "\n",
       "Confusion Matrix: Row labels: Actual class; Column labels: Predicted class\n",
       "0    1            2    3    4    5      6      7      8     9     Error      Rate\n",
       "---  -----------  ---  ---  ---  -----  -----  -----  ----  ----  ---------  ------------------\n",
       "0    343          0    0    0    0      0      0      0     0     1          343 / 343\n",
       "0    2.51193e+06  0    0    0    0      0      0      0     0     0          0 / 2,511,926\n",
       "0    19600        0    0    0    0      0      0      0     0     1          19,600 / 19,600\n",
       "0    31177        0    0    0    0      0      0      0     0     1          31,177 / 31,177\n",
       "0    52           0    0    12   11     82     366    52    17    0.97973    580 / 592\n",
       "0    1540         0    0    0    13442  1189   2961   94    249   0.309782   6,033 / 19,475\n",
       "0    2461         0    0    0    532    20176  3117   108   99    0.23844    6,317 / 26,493\n",
       "0    2606         0    0    1    475    4164   34774  335   1955  0.215211   9,536 / 44,310\n",
       "0    525          0    0    3    325    743    4025   999   286   0.855343   5,907 / 6,906\n",
       "0    515          0    0    0    43     1067   4997   61    3001  0.690107   6,683 / 9,684\n",
       "0    2.57074e+06  0    0    16   14828  27421  50240  1649  5607  0.0322695  86,176 / 2,670,506\n",
       "\n",
       "Top-10 Hit Ratios: \n",
       "k    hit_ratio\n",
       "---  -----------\n",
       "1    0.96773\n",
       "2    0.992252\n",
       "3    0.997517\n",
       "4    0.999083\n",
       "5    0.999674\n",
       "6    0.999882\n",
       "7    0.99996\n",
       "8    0.999994\n",
       "9    1\n",
       "10   1\n",
       "\n",
       "ModelMetricsMultinomial: gbm\n",
       "** Reported on validation data. **\n",
       "\n",
       "MSE: 0.25884600046611544\n",
       "RMSE: 0.5087691032935426\n",
       "LogLoss: 1.1288511669388714\n",
       "Mean Per-Class Error: 0.6922247918730551\n",
       "AUC table was not computed: it is either disabled (model parameter 'auc_type' was set to AUTO or NONE) or the domain size exceeds the limit (maximum is 50 domains).\n",
       "AUCPR table was not computed: it is either disabled (model parameter 'auc_type' was set to AUTO or NONE) or the domain size exceeds the limit (maximum is 50 domains).\n",
       "\n",
       "Confusion Matrix: Row labels: Actual class; Column labels: Predicted class\n",
       "0    1      2    3    4    5     6    7     8    9    Error     Rate\n",
       "---  -----  ---  ---  ---  ----  ---  ----  ---  ---  --------  ---------------\n",
       "0    4      0    0    0    0     0    0     0    0    1         4 / 4\n",
       "0    24812  0    0    0    0     0    0     0    0    0         0 / 24,812\n",
       "0    6351   0    0    0    0     0    0     0    0    1         6,351 / 6,351\n",
       "0    451    0    0    0    0     0    0     0    0    1         451 / 451\n",
       "0    21     0    0    0    5     16   70    9    1    1         122 / 122\n",
       "0    1562   0    1    1    3548  369  622   12   50   0.424493  2,617 / 6,165\n",
       "0    137    0    1    0    2     119  21    0    0    0.575     161 / 280\n",
       "0    32     0    0    0    2     27   148   3    9    0.330317  73 / 221\n",
       "0    248    0    0    0    63    207  818   165  33   0.892438  1,369 / 1,534\n",
       "0    10     0    0    0    0     4    28    0    18   0.7       42 / 60\n",
       "0    33628  0    2    1    3620  742  1707  189  111  0.27975   11,190 / 40,000\n",
       "\n",
       "Top-10 Hit Ratios: \n",
       "k    hit_ratio\n",
       "---  -----------\n",
       "1    0.72025\n",
       "2    0.89085\n",
       "3    0.96065\n",
       "4    0.979825\n",
       "5    0.989475\n",
       "6    0.9955\n",
       "7    0.998725\n",
       "8    0.9998\n",
       "9    1\n",
       "10   1\n",
       "\n",
       "Scoring History: \n",
       "     timestamp            duration          number_of_trees    training_rmse        training_logloss     training_classification_error    training_auc    training_pr_auc    validation_rmse     validation_logloss    validation_classification_error    validation_auc    validation_pr_auc\n",
       "---  -------------------  ----------------  -----------------  -------------------  -------------------  -------------------------------  --------------  -----------------  ------------------  --------------------  ---------------------------------  ----------------  -------------------\n",
       "     2024-10-12 20:35:56  0.063 sec         0.0                0.9000000000001857   2.3025850929936023   0.11607650385357682              nan             nan                0.9000000000001901  2.3025850929938656    0.415075                           nan               nan\n",
       "     2024-10-12 20:36:00  4.481 sec         1.0                0.778185646076673    1.5146341250383246   0.03427290558418517              nan             nan                0.8168485783092565  1.762194510412999     0.30115                            nan               nan\n",
       "     2024-10-12 20:36:06  10.071 sec        3.0                0.6092155718265281   0.9580228775917757   0.034254182540687045             nan             nan                0.7103373821180797  1.408175142810152     0.3017                             nan               nan\n",
       "     2024-10-12 20:36:11  15.451 sec        5.0                0.4776310223284224   0.6703206413688307   0.03400591498390193              nan             nan                0.6375061782168605  1.2493833707029498    0.301075                           nan               nan\n",
       "     2024-10-12 20:36:16  20.795 sec        7.0                0.37791018375499225  0.49311413225216677  0.03391529545337101              nan             nan                0.5902591802744344  1.1677441249611467    0.300075                           nan               nan\n",
       "     2024-10-12 20:36:22  26.029 sec        9.0                0.3062071632788857   0.37743232276871985  0.033892453340303295             nan             nan                0.5617185729739054  1.1284757620913572    0.299625                           nan               nan\n",
       "     2024-10-12 20:36:27  31.333 sec        11.0               0.257459744096471    0.3001556988219474   0.033854258331567126             nan             nan                0.5453693607962983  1.1160517461716284    0.299275                           nan               nan\n",
       "     2024-10-12 20:36:32  36.630 sec        13.0               0.22614628609284806  0.24767278987810717  0.03379996150542257              nan             nan                0.5362472661138152  1.115568945506192     0.2988                             nan               nan\n",
       "     2024-10-12 20:36:38  41.874 sec        15.0               0.20693306472353107  0.21172632312565715  0.03375090713145749              nan             nan                0.5315163212598374  1.1281388132535086    0.297975                           nan               nan\n",
       "     2024-10-12 20:36:43  47.151 sec        17.0               0.19536239321004706  0.1869970802701194   0.0336898700096536               nan             nan                0.528557891052866   1.1391715086658876    0.2977                             nan               nan\n",
       "---  ---                  ---               ---                ---                  ---                  ---                              ---             ---                ---                 ---                   ---                                ---               ---\n",
       "     2024-10-12 20:37:14  1 min 18.587 sec  29.0               0.17591783318371151  0.13357217013363507  0.03282186971308059              nan             nan                0.5151045091318343  1.1593098314829755    0.285425                           nan               nan\n",
       "     2024-10-12 20:37:19  1 min 23.713 sec  31.0               0.1752047848618203   0.13103508349850082  0.0327469775390881               nan             nan                0.5145021836355093  1.1579620412541736    0.285                              nan               nan\n",
       "     2024-10-12 20:37:25  1 min 28.876 sec  33.0               0.174734688433242    0.12899187798994888  0.032707284686872076             nan             nan                0.5140784995117059  1.1566326583725528    0.28495                            nan               nan\n",
       "     2024-10-12 20:37:30  1 min 33.927 sec  35.0               0.1740551675777198   0.1272208365707618   0.03260805255633202              nan             nan                0.5125488080664123  1.1503696379124961    0.283                              nan               nan\n",
       "     2024-10-12 20:37:35  1 min 39.022 sec  37.0               0.17351277599226167  0.12579534936047163  0.03253053915624979              nan             nan                0.5115380956291994  1.1449153855670329    0.282025                           nan               nan\n",
       "     2024-10-12 20:37:40  1 min 44.047 sec  39.0               0.17282044224510887  0.12448667932829552  0.03241782643439108              nan             nan                0.5098628556662171  1.137750340234132     0.2806                             nan               nan\n",
       "     2024-10-12 20:37:45  1 min 49.083 sec  41.0               0.17255731712704317  0.12366412852267333  0.032381129269134765             nan             nan                0.5095273267394617  1.1359611211669138    0.28035                            nan               nan\n",
       "     2024-10-12 20:37:50  1 min 54.063 sec  43.0               0.17232092055347606  0.12300012588096297  0.03232046660820084              nan             nan                0.5092503901603745  1.1341536475060683    0.280175                           nan               nan\n",
       "     2024-10-12 20:37:55  1 min 59.109 sec  45.0               0.17212922995434493  0.1223995641451534   0.032278901451635006             nan             nan                0.5088633754270602  1.1299140574017297    0.279975                           nan               nan\n",
       "     2024-10-12 20:37:57  2 min  1.660 sec  46.0               0.17202621416514888  0.12214595962997915  0.032269539929885946             nan             nan                0.5087691032935426  1.1288511669388714    0.27975                            nan               nan\n",
       "[25 rows x 14 columns]\n",
       "\n",
       "\n",
       "Variable Importances: \n",
       "variable           relative_importance    scaled_importance    percentage\n",
       "-----------------  ---------------------  -------------------  ------------\n",
       "title              480332                 1                    0.731762\n",
       "action_6_count     53739.3                0.111879             0.0818691\n",
       "action_7_count     43213.6                0.089966             0.0658337\n",
       "delta_min          16077.1                0.0334707            0.0244926\n",
       "action_3_count     15105.6                0.0314482            0.0230126\n",
       "action_1_count     10722.1                0.0223224            0.0163347\n",
       "action_9_count     8314.38                0.0173096            0.0126665\n",
       "delta_sec          8230.7                 0.0171354            0.0125391\n",
       "action_8_count     6930.27                0.0144281            0.0105579\n",
       "loc_user_count     5562.13                0.0115798            0.00847364\n",
       "category_id        2807.46                0.00584484           0.00427703\n",
       "action_5_count     1681.05                0.00349977           0.002561\n",
       "action_2_count     1325.84                0.00276025           0.00201984\n",
       "price_diff         1137.96                0.0023691            0.00173362\n",
       "action_4_count     705.555                0.00146889           0.00107488\n",
       "day_of_week        168.144                0.000350057          0.000256158\n",
       "action_0_count     115.055                0.000239532          0.00017528\n",
       "category_id_count  96.4978                0.000200898          0.00014701\n",
       "delta_hour         72.7167                0.000151388          0.00011078\n",
       "delta_day          67.1273                0.000139752          0.000102265\n",
       "\n",
       "[tips]\n",
       "Use `model.explain()` to inspect the model.\n",
       "--\n",
       "Use `h2o.display.toggle_user_tips()` to switch on/off this section."
      ],
      "text/html": [
       "<pre style='margin: 1em 0 1em 0;'>Model Details\n",
       "=============\n",
       "H2OGradientBoostingEstimator : Gradient Boosting Machine\n",
       "Model Key: GBM_model_python_1728754526945_1\n",
       "</pre>\n",
       "<div style='margin: 1em 0 1em 0;'>\n",
       "<style>\n",
       "\n",
       "#h2o-table-2.h2o-container {\n",
       "  overflow-x: auto;\n",
       "}\n",
       "#h2o-table-2 .h2o-table {\n",
       "  /* width: 100%; */\n",
       "  margin-top: 1em;\n",
       "  margin-bottom: 1em;\n",
       "}\n",
       "#h2o-table-2 .h2o-table caption {\n",
       "  white-space: nowrap;\n",
       "  caption-side: top;\n",
       "  text-align: left;\n",
       "  /* margin-left: 1em; */\n",
       "  margin: 0;\n",
       "  font-size: larger;\n",
       "}\n",
       "#h2o-table-2 .h2o-table thead {\n",
       "  white-space: nowrap; \n",
       "  position: sticky;\n",
       "  top: 0;\n",
       "  box-shadow: 0 -1px inset;\n",
       "}\n",
       "#h2o-table-2 .h2o-table tbody {\n",
       "  overflow: auto;\n",
       "}\n",
       "#h2o-table-2 .h2o-table th,\n",
       "#h2o-table-2 .h2o-table td {\n",
       "  text-align: right;\n",
       "  /* border: 1px solid; */\n",
       "}\n",
       "#h2o-table-2 .h2o-table tr:nth-child(even) {\n",
       "  /* background: #F5F5F5 */\n",
       "}\n",
       "\n",
       "</style>      \n",
       "<div id=\"h2o-table-2\" class=\"h2o-container\">\n",
       "  <table class=\"h2o-table\">\n",
       "    <caption>Model Summary: </caption>\n",
       "    <thead><tr><th></th>\n",
       "<th>number_of_trees</th>\n",
       "<th>number_of_internal_trees</th>\n",
       "<th>model_size_in_bytes</th>\n",
       "<th>min_depth</th>\n",
       "<th>max_depth</th>\n",
       "<th>mean_depth</th>\n",
       "<th>min_leaves</th>\n",
       "<th>max_leaves</th>\n",
       "<th>mean_leaves</th></tr></thead>\n",
       "    <tbody><tr><td></td>\n",
       "<td>46.0</td>\n",
       "<td>460.0</td>\n",
       "<td>249598.0</td>\n",
       "<td>5.0</td>\n",
       "<td>5.0</td>\n",
       "<td>5.0</td>\n",
       "<td>16.0</td>\n",
       "<td>32.0</td>\n",
       "<td>30.173914</td></tr></tbody>\n",
       "  </table>\n",
       "</div>\n",
       "</div>\n",
       "<div style='margin: 1em 0 1em 0;'><pre style='margin: 1em 0 1em 0;'>ModelMetricsMultinomial: gbm\n",
       "** Reported on train data. **\n",
       "\n",
       "MSE: 0.02959301835999367\n",
       "RMSE: 0.17202621416514888\n",
       "LogLoss: 0.12214595962997915\n",
       "Mean Per-Class Error: 0.6288613430761583\n",
       "AUC table was not computed: it is either disabled (model parameter 'auc_type' was set to AUTO or NONE) or the domain size exceeds the limit (maximum is 50 domains).\n",
       "AUCPR table was not computed: it is either disabled (model parameter 'auc_type' was set to AUTO or NONE) or the domain size exceeds the limit (maximum is 50 domains).</pre>\n",
       "<div style='margin: 1em 0 1em 0;'>\n",
       "<style>\n",
       "\n",
       "#h2o-table-3.h2o-container {\n",
       "  overflow-x: auto;\n",
       "}\n",
       "#h2o-table-3 .h2o-table {\n",
       "  /* width: 100%; */\n",
       "  margin-top: 1em;\n",
       "  margin-bottom: 1em;\n",
       "}\n",
       "#h2o-table-3 .h2o-table caption {\n",
       "  white-space: nowrap;\n",
       "  caption-side: top;\n",
       "  text-align: left;\n",
       "  /* margin-left: 1em; */\n",
       "  margin: 0;\n",
       "  font-size: larger;\n",
       "}\n",
       "#h2o-table-3 .h2o-table thead {\n",
       "  white-space: nowrap; \n",
       "  position: sticky;\n",
       "  top: 0;\n",
       "  box-shadow: 0 -1px inset;\n",
       "}\n",
       "#h2o-table-3 .h2o-table tbody {\n",
       "  overflow: auto;\n",
       "}\n",
       "#h2o-table-3 .h2o-table th,\n",
       "#h2o-table-3 .h2o-table td {\n",
       "  text-align: right;\n",
       "  /* border: 1px solid; */\n",
       "}\n",
       "#h2o-table-3 .h2o-table tr:nth-child(even) {\n",
       "  /* background: #F5F5F5 */\n",
       "}\n",
       "\n",
       "</style>      \n",
       "<div id=\"h2o-table-3\" class=\"h2o-container\">\n",
       "  <table class=\"h2o-table\">\n",
       "    <caption>Confusion Matrix: Row labels: Actual class; Column labels: Predicted class</caption>\n",
       "    <thead><tr><th>0</th>\n",
       "<th>1</th>\n",
       "<th>2</th>\n",
       "<th>3</th>\n",
       "<th>4</th>\n",
       "<th>5</th>\n",
       "<th>6</th>\n",
       "<th>7</th>\n",
       "<th>8</th>\n",
       "<th>9</th>\n",
       "<th>Error</th>\n",
       "<th>Rate</th></tr></thead>\n",
       "    <tbody><tr><td>0.0</td>\n",
       "<td>343.0</td>\n",
       "<td>0.0</td>\n",
       "<td>0.0</td>\n",
       "<td>0.0</td>\n",
       "<td>0.0</td>\n",
       "<td>0.0</td>\n",
       "<td>0.0</td>\n",
       "<td>0.0</td>\n",
       "<td>0.0</td>\n",
       "<td>1.0</td>\n",
       "<td>343 / 343</td></tr>\n",
       "<tr><td>0.0</td>\n",
       "<td>2511926.0</td>\n",
       "<td>0.0</td>\n",
       "<td>0.0</td>\n",
       "<td>0.0</td>\n",
       "<td>0.0</td>\n",
       "<td>0.0</td>\n",
       "<td>0.0</td>\n",
       "<td>0.0</td>\n",
       "<td>0.0</td>\n",
       "<td>0.0</td>\n",
       "<td>0 / 2,511,926</td></tr>\n",
       "<tr><td>0.0</td>\n",
       "<td>19600.0</td>\n",
       "<td>0.0</td>\n",
       "<td>0.0</td>\n",
       "<td>0.0</td>\n",
       "<td>0.0</td>\n",
       "<td>0.0</td>\n",
       "<td>0.0</td>\n",
       "<td>0.0</td>\n",
       "<td>0.0</td>\n",
       "<td>1.0</td>\n",
       "<td>19,600 / 19,600</td></tr>\n",
       "<tr><td>0.0</td>\n",
       "<td>31177.0</td>\n",
       "<td>0.0</td>\n",
       "<td>0.0</td>\n",
       "<td>0.0</td>\n",
       "<td>0.0</td>\n",
       "<td>0.0</td>\n",
       "<td>0.0</td>\n",
       "<td>0.0</td>\n",
       "<td>0.0</td>\n",
       "<td>1.0</td>\n",
       "<td>31,177 / 31,177</td></tr>\n",
       "<tr><td>0.0</td>\n",
       "<td>52.0</td>\n",
       "<td>0.0</td>\n",
       "<td>0.0</td>\n",
       "<td>12.0</td>\n",
       "<td>11.0</td>\n",
       "<td>82.0</td>\n",
       "<td>366.0</td>\n",
       "<td>52.0</td>\n",
       "<td>17.0</td>\n",
       "<td>0.9797297</td>\n",
       "<td>580 / 592</td></tr>\n",
       "<tr><td>0.0</td>\n",
       "<td>1540.0</td>\n",
       "<td>0.0</td>\n",
       "<td>0.0</td>\n",
       "<td>0.0</td>\n",
       "<td>13442.0</td>\n",
       "<td>1189.0</td>\n",
       "<td>2961.0</td>\n",
       "<td>94.0</td>\n",
       "<td>249.0</td>\n",
       "<td>0.3097818</td>\n",
       "<td>6,033 / 19,475</td></tr>\n",
       "<tr><td>0.0</td>\n",
       "<td>2461.0</td>\n",
       "<td>0.0</td>\n",
       "<td>0.0</td>\n",
       "<td>0.0</td>\n",
       "<td>532.0</td>\n",
       "<td>20176.0</td>\n",
       "<td>3117.0</td>\n",
       "<td>108.0</td>\n",
       "<td>99.0</td>\n",
       "<td>0.2384403</td>\n",
       "<td>6,317 / 26,493</td></tr>\n",
       "<tr><td>0.0</td>\n",
       "<td>2606.0</td>\n",
       "<td>0.0</td>\n",
       "<td>0.0</td>\n",
       "<td>1.0</td>\n",
       "<td>475.0</td>\n",
       "<td>4164.0</td>\n",
       "<td>34774.0</td>\n",
       "<td>335.0</td>\n",
       "<td>1955.0</td>\n",
       "<td>0.2152110</td>\n",
       "<td>9,536 / 44,310</td></tr>\n",
       "<tr><td>0.0</td>\n",
       "<td>525.0</td>\n",
       "<td>0.0</td>\n",
       "<td>0.0</td>\n",
       "<td>3.0</td>\n",
       "<td>325.0</td>\n",
       "<td>743.0</td>\n",
       "<td>4025.0</td>\n",
       "<td>999.0</td>\n",
       "<td>286.0</td>\n",
       "<td>0.8553432</td>\n",
       "<td>5,907 / 6,906</td></tr>\n",
       "<tr><td>0.0</td>\n",
       "<td>515.0</td>\n",
       "<td>0.0</td>\n",
       "<td>0.0</td>\n",
       "<td>0.0</td>\n",
       "<td>43.0</td>\n",
       "<td>1067.0</td>\n",
       "<td>4997.0</td>\n",
       "<td>61.0</td>\n",
       "<td>3001.0</td>\n",
       "<td>0.6901074</td>\n",
       "<td>6,683 / 9,684</td></tr>\n",
       "<tr><td>0.0</td>\n",
       "<td>2570745.0</td>\n",
       "<td>0.0</td>\n",
       "<td>0.0</td>\n",
       "<td>16.0</td>\n",
       "<td>14828.0</td>\n",
       "<td>27421.0</td>\n",
       "<td>50240.0</td>\n",
       "<td>1649.0</td>\n",
       "<td>5607.0</td>\n",
       "<td>0.0322695</td>\n",
       "<td>86,176 / 2,670,506</td></tr></tbody>\n",
       "  </table>\n",
       "</div>\n",
       "</div>\n",
       "<div style='margin: 1em 0 1em 0;'>\n",
       "<style>\n",
       "\n",
       "#h2o-table-4.h2o-container {\n",
       "  overflow-x: auto;\n",
       "}\n",
       "#h2o-table-4 .h2o-table {\n",
       "  /* width: 100%; */\n",
       "  margin-top: 1em;\n",
       "  margin-bottom: 1em;\n",
       "}\n",
       "#h2o-table-4 .h2o-table caption {\n",
       "  white-space: nowrap;\n",
       "  caption-side: top;\n",
       "  text-align: left;\n",
       "  /* margin-left: 1em; */\n",
       "  margin: 0;\n",
       "  font-size: larger;\n",
       "}\n",
       "#h2o-table-4 .h2o-table thead {\n",
       "  white-space: nowrap; \n",
       "  position: sticky;\n",
       "  top: 0;\n",
       "  box-shadow: 0 -1px inset;\n",
       "}\n",
       "#h2o-table-4 .h2o-table tbody {\n",
       "  overflow: auto;\n",
       "}\n",
       "#h2o-table-4 .h2o-table th,\n",
       "#h2o-table-4 .h2o-table td {\n",
       "  text-align: right;\n",
       "  /* border: 1px solid; */\n",
       "}\n",
       "#h2o-table-4 .h2o-table tr:nth-child(even) {\n",
       "  /* background: #F5F5F5 */\n",
       "}\n",
       "\n",
       "</style>      \n",
       "<div id=\"h2o-table-4\" class=\"h2o-container\">\n",
       "  <table class=\"h2o-table\">\n",
       "    <caption>Top-10 Hit Ratios: </caption>\n",
       "    <thead><tr><th>k</th>\n",
       "<th>hit_ratio</th></tr></thead>\n",
       "    <tbody><tr><td>1</td>\n",
       "<td>0.9677305</td></tr>\n",
       "<tr><td>2</td>\n",
       "<td>0.9922524</td></tr>\n",
       "<tr><td>3</td>\n",
       "<td>0.9975166</td></tr>\n",
       "<tr><td>4</td>\n",
       "<td>0.9990829</td></tr>\n",
       "<tr><td>5</td>\n",
       "<td>0.9996742</td></tr>\n",
       "<tr><td>6</td>\n",
       "<td>0.9998816</td></tr>\n",
       "<tr><td>7</td>\n",
       "<td>0.9999599</td></tr>\n",
       "<tr><td>8</td>\n",
       "<td>0.9999943</td></tr>\n",
       "<tr><td>9</td>\n",
       "<td>0.9999996</td></tr>\n",
       "<tr><td>10</td>\n",
       "<td>0.9999999</td></tr></tbody>\n",
       "  </table>\n",
       "</div>\n",
       "</div></div>\n",
       "<div style='margin: 1em 0 1em 0;'><pre style='margin: 1em 0 1em 0;'>ModelMetricsMultinomial: gbm\n",
       "** Reported on validation data. **\n",
       "\n",
       "MSE: 0.25884600046611544\n",
       "RMSE: 0.5087691032935426\n",
       "LogLoss: 1.1288511669388714\n",
       "Mean Per-Class Error: 0.6922247918730551\n",
       "AUC table was not computed: it is either disabled (model parameter 'auc_type' was set to AUTO or NONE) or the domain size exceeds the limit (maximum is 50 domains).\n",
       "AUCPR table was not computed: it is either disabled (model parameter 'auc_type' was set to AUTO or NONE) or the domain size exceeds the limit (maximum is 50 domains).</pre>\n",
       "<div style='margin: 1em 0 1em 0;'>\n",
       "<style>\n",
       "\n",
       "#h2o-table-5.h2o-container {\n",
       "  overflow-x: auto;\n",
       "}\n",
       "#h2o-table-5 .h2o-table {\n",
       "  /* width: 100%; */\n",
       "  margin-top: 1em;\n",
       "  margin-bottom: 1em;\n",
       "}\n",
       "#h2o-table-5 .h2o-table caption {\n",
       "  white-space: nowrap;\n",
       "  caption-side: top;\n",
       "  text-align: left;\n",
       "  /* margin-left: 1em; */\n",
       "  margin: 0;\n",
       "  font-size: larger;\n",
       "}\n",
       "#h2o-table-5 .h2o-table thead {\n",
       "  white-space: nowrap; \n",
       "  position: sticky;\n",
       "  top: 0;\n",
       "  box-shadow: 0 -1px inset;\n",
       "}\n",
       "#h2o-table-5 .h2o-table tbody {\n",
       "  overflow: auto;\n",
       "}\n",
       "#h2o-table-5 .h2o-table th,\n",
       "#h2o-table-5 .h2o-table td {\n",
       "  text-align: right;\n",
       "  /* border: 1px solid; */\n",
       "}\n",
       "#h2o-table-5 .h2o-table tr:nth-child(even) {\n",
       "  /* background: #F5F5F5 */\n",
       "}\n",
       "\n",
       "</style>      \n",
       "<div id=\"h2o-table-5\" class=\"h2o-container\">\n",
       "  <table class=\"h2o-table\">\n",
       "    <caption>Confusion Matrix: Row labels: Actual class; Column labels: Predicted class</caption>\n",
       "    <thead><tr><th>0</th>\n",
       "<th>1</th>\n",
       "<th>2</th>\n",
       "<th>3</th>\n",
       "<th>4</th>\n",
       "<th>5</th>\n",
       "<th>6</th>\n",
       "<th>7</th>\n",
       "<th>8</th>\n",
       "<th>9</th>\n",
       "<th>Error</th>\n",
       "<th>Rate</th></tr></thead>\n",
       "    <tbody><tr><td>0.0</td>\n",
       "<td>4.0</td>\n",
       "<td>0.0</td>\n",
       "<td>0.0</td>\n",
       "<td>0.0</td>\n",
       "<td>0.0</td>\n",
       "<td>0.0</td>\n",
       "<td>0.0</td>\n",
       "<td>0.0</td>\n",
       "<td>0.0</td>\n",
       "<td>1.0</td>\n",
       "<td>4 / 4</td></tr>\n",
       "<tr><td>0.0</td>\n",
       "<td>24812.0</td>\n",
       "<td>0.0</td>\n",
       "<td>0.0</td>\n",
       "<td>0.0</td>\n",
       "<td>0.0</td>\n",
       "<td>0.0</td>\n",
       "<td>0.0</td>\n",
       "<td>0.0</td>\n",
       "<td>0.0</td>\n",
       "<td>0.0</td>\n",
       "<td>0 / 24,812</td></tr>\n",
       "<tr><td>0.0</td>\n",
       "<td>6351.0</td>\n",
       "<td>0.0</td>\n",
       "<td>0.0</td>\n",
       "<td>0.0</td>\n",
       "<td>0.0</td>\n",
       "<td>0.0</td>\n",
       "<td>0.0</td>\n",
       "<td>0.0</td>\n",
       "<td>0.0</td>\n",
       "<td>1.0</td>\n",
       "<td>6,351 / 6,351</td></tr>\n",
       "<tr><td>0.0</td>\n",
       "<td>451.0</td>\n",
       "<td>0.0</td>\n",
       "<td>0.0</td>\n",
       "<td>0.0</td>\n",
       "<td>0.0</td>\n",
       "<td>0.0</td>\n",
       "<td>0.0</td>\n",
       "<td>0.0</td>\n",
       "<td>0.0</td>\n",
       "<td>1.0</td>\n",
       "<td>451 / 451</td></tr>\n",
       "<tr><td>0.0</td>\n",
       "<td>21.0</td>\n",
       "<td>0.0</td>\n",
       "<td>0.0</td>\n",
       "<td>0.0</td>\n",
       "<td>5.0</td>\n",
       "<td>16.0</td>\n",
       "<td>70.0</td>\n",
       "<td>9.0</td>\n",
       "<td>1.0</td>\n",
       "<td>1.0</td>\n",
       "<td>122 / 122</td></tr>\n",
       "<tr><td>0.0</td>\n",
       "<td>1562.0</td>\n",
       "<td>0.0</td>\n",
       "<td>1.0</td>\n",
       "<td>1.0</td>\n",
       "<td>3548.0</td>\n",
       "<td>369.0</td>\n",
       "<td>622.0</td>\n",
       "<td>12.0</td>\n",
       "<td>50.0</td>\n",
       "<td>0.4244931</td>\n",
       "<td>2,617 / 6,165</td></tr>\n",
       "<tr><td>0.0</td>\n",
       "<td>137.0</td>\n",
       "<td>0.0</td>\n",
       "<td>1.0</td>\n",
       "<td>0.0</td>\n",
       "<td>2.0</td>\n",
       "<td>119.0</td>\n",
       "<td>21.0</td>\n",
       "<td>0.0</td>\n",
       "<td>0.0</td>\n",
       "<td>0.575</td>\n",
       "<td>161 / 280</td></tr>\n",
       "<tr><td>0.0</td>\n",
       "<td>32.0</td>\n",
       "<td>0.0</td>\n",
       "<td>0.0</td>\n",
       "<td>0.0</td>\n",
       "<td>2.0</td>\n",
       "<td>27.0</td>\n",
       "<td>148.0</td>\n",
       "<td>3.0</td>\n",
       "<td>9.0</td>\n",
       "<td>0.3303167</td>\n",
       "<td>73 / 221</td></tr>\n",
       "<tr><td>0.0</td>\n",
       "<td>248.0</td>\n",
       "<td>0.0</td>\n",
       "<td>0.0</td>\n",
       "<td>0.0</td>\n",
       "<td>63.0</td>\n",
       "<td>207.0</td>\n",
       "<td>818.0</td>\n",
       "<td>165.0</td>\n",
       "<td>33.0</td>\n",
       "<td>0.8924381</td>\n",
       "<td>1,369 / 1,534</td></tr>\n",
       "<tr><td>0.0</td>\n",
       "<td>10.0</td>\n",
       "<td>0.0</td>\n",
       "<td>0.0</td>\n",
       "<td>0.0</td>\n",
       "<td>0.0</td>\n",
       "<td>4.0</td>\n",
       "<td>28.0</td>\n",
       "<td>0.0</td>\n",
       "<td>18.0</td>\n",
       "<td>0.7</td>\n",
       "<td>42 / 60</td></tr>\n",
       "<tr><td>0.0</td>\n",
       "<td>33628.0</td>\n",
       "<td>0.0</td>\n",
       "<td>2.0</td>\n",
       "<td>1.0</td>\n",
       "<td>3620.0</td>\n",
       "<td>742.0</td>\n",
       "<td>1707.0</td>\n",
       "<td>189.0</td>\n",
       "<td>111.0</td>\n",
       "<td>0.27975</td>\n",
       "<td>11,190 / 40,000</td></tr></tbody>\n",
       "  </table>\n",
       "</div>\n",
       "</div>\n",
       "<div style='margin: 1em 0 1em 0;'>\n",
       "<style>\n",
       "\n",
       "#h2o-table-6.h2o-container {\n",
       "  overflow-x: auto;\n",
       "}\n",
       "#h2o-table-6 .h2o-table {\n",
       "  /* width: 100%; */\n",
       "  margin-top: 1em;\n",
       "  margin-bottom: 1em;\n",
       "}\n",
       "#h2o-table-6 .h2o-table caption {\n",
       "  white-space: nowrap;\n",
       "  caption-side: top;\n",
       "  text-align: left;\n",
       "  /* margin-left: 1em; */\n",
       "  margin: 0;\n",
       "  font-size: larger;\n",
       "}\n",
       "#h2o-table-6 .h2o-table thead {\n",
       "  white-space: nowrap; \n",
       "  position: sticky;\n",
       "  top: 0;\n",
       "  box-shadow: 0 -1px inset;\n",
       "}\n",
       "#h2o-table-6 .h2o-table tbody {\n",
       "  overflow: auto;\n",
       "}\n",
       "#h2o-table-6 .h2o-table th,\n",
       "#h2o-table-6 .h2o-table td {\n",
       "  text-align: right;\n",
       "  /* border: 1px solid; */\n",
       "}\n",
       "#h2o-table-6 .h2o-table tr:nth-child(even) {\n",
       "  /* background: #F5F5F5 */\n",
       "}\n",
       "\n",
       "</style>      \n",
       "<div id=\"h2o-table-6\" class=\"h2o-container\">\n",
       "  <table class=\"h2o-table\">\n",
       "    <caption>Top-10 Hit Ratios: </caption>\n",
       "    <thead><tr><th>k</th>\n",
       "<th>hit_ratio</th></tr></thead>\n",
       "    <tbody><tr><td>1</td>\n",
       "<td>0.72025</td></tr>\n",
       "<tr><td>2</td>\n",
       "<td>0.89085</td></tr>\n",
       "<tr><td>3</td>\n",
       "<td>0.96065</td></tr>\n",
       "<tr><td>4</td>\n",
       "<td>0.979825</td></tr>\n",
       "<tr><td>5</td>\n",
       "<td>0.989475</td></tr>\n",
       "<tr><td>6</td>\n",
       "<td>0.9955</td></tr>\n",
       "<tr><td>7</td>\n",
       "<td>0.9987251</td></tr>\n",
       "<tr><td>8</td>\n",
       "<td>0.9998001</td></tr>\n",
       "<tr><td>9</td>\n",
       "<td>1.0000001</td></tr>\n",
       "<tr><td>10</td>\n",
       "<td>1.0000001</td></tr></tbody>\n",
       "  </table>\n",
       "</div>\n",
       "</div></div>\n",
       "<div style='margin: 1em 0 1em 0;'>\n",
       "<style>\n",
       "\n",
       "#h2o-table-7.h2o-container {\n",
       "  overflow-x: auto;\n",
       "}\n",
       "#h2o-table-7 .h2o-table {\n",
       "  /* width: 100%; */\n",
       "  margin-top: 1em;\n",
       "  margin-bottom: 1em;\n",
       "}\n",
       "#h2o-table-7 .h2o-table caption {\n",
       "  white-space: nowrap;\n",
       "  caption-side: top;\n",
       "  text-align: left;\n",
       "  /* margin-left: 1em; */\n",
       "  margin: 0;\n",
       "  font-size: larger;\n",
       "}\n",
       "#h2o-table-7 .h2o-table thead {\n",
       "  white-space: nowrap; \n",
       "  position: sticky;\n",
       "  top: 0;\n",
       "  box-shadow: 0 -1px inset;\n",
       "}\n",
       "#h2o-table-7 .h2o-table tbody {\n",
       "  overflow: auto;\n",
       "}\n",
       "#h2o-table-7 .h2o-table th,\n",
       "#h2o-table-7 .h2o-table td {\n",
       "  text-align: right;\n",
       "  /* border: 1px solid; */\n",
       "}\n",
       "#h2o-table-7 .h2o-table tr:nth-child(even) {\n",
       "  /* background: #F5F5F5 */\n",
       "}\n",
       "\n",
       "</style>      \n",
       "<div id=\"h2o-table-7\" class=\"h2o-container\">\n",
       "  <table class=\"h2o-table\">\n",
       "    <caption>Scoring History: </caption>\n",
       "    <thead><tr><th></th>\n",
       "<th>timestamp</th>\n",
       "<th>duration</th>\n",
       "<th>number_of_trees</th>\n",
       "<th>training_rmse</th>\n",
       "<th>training_logloss</th>\n",
       "<th>training_classification_error</th>\n",
       "<th>training_auc</th>\n",
       "<th>training_pr_auc</th>\n",
       "<th>validation_rmse</th>\n",
       "<th>validation_logloss</th>\n",
       "<th>validation_classification_error</th>\n",
       "<th>validation_auc</th>\n",
       "<th>validation_pr_auc</th></tr></thead>\n",
       "    <tbody><tr><td></td>\n",
       "<td>2024-10-12 20:35:56</td>\n",
       "<td> 0.063 sec</td>\n",
       "<td>0.0</td>\n",
       "<td>0.9000000</td>\n",
       "<td>2.3025851</td>\n",
       "<td>0.1160765</td>\n",
       "<td>nan</td>\n",
       "<td>nan</td>\n",
       "<td>0.9000000</td>\n",
       "<td>2.3025851</td>\n",
       "<td>0.415075</td>\n",
       "<td>nan</td>\n",
       "<td>nan</td></tr>\n",
       "<tr><td></td>\n",
       "<td>2024-10-12 20:36:00</td>\n",
       "<td> 4.481 sec</td>\n",
       "<td>1.0</td>\n",
       "<td>0.7781856</td>\n",
       "<td>1.5146341</td>\n",
       "<td>0.0342729</td>\n",
       "<td>nan</td>\n",
       "<td>nan</td>\n",
       "<td>0.8168486</td>\n",
       "<td>1.7621945</td>\n",
       "<td>0.30115</td>\n",
       "<td>nan</td>\n",
       "<td>nan</td></tr>\n",
       "<tr><td></td>\n",
       "<td>2024-10-12 20:36:06</td>\n",
       "<td>10.071 sec</td>\n",
       "<td>3.0</td>\n",
       "<td>0.6092156</td>\n",
       "<td>0.9580229</td>\n",
       "<td>0.0342542</td>\n",
       "<td>nan</td>\n",
       "<td>nan</td>\n",
       "<td>0.7103374</td>\n",
       "<td>1.4081751</td>\n",
       "<td>0.3017</td>\n",
       "<td>nan</td>\n",
       "<td>nan</td></tr>\n",
       "<tr><td></td>\n",
       "<td>2024-10-12 20:36:11</td>\n",
       "<td>15.451 sec</td>\n",
       "<td>5.0</td>\n",
       "<td>0.4776310</td>\n",
       "<td>0.6703206</td>\n",
       "<td>0.0340059</td>\n",
       "<td>nan</td>\n",
       "<td>nan</td>\n",
       "<td>0.6375062</td>\n",
       "<td>1.2493834</td>\n",
       "<td>0.301075</td>\n",
       "<td>nan</td>\n",
       "<td>nan</td></tr>\n",
       "<tr><td></td>\n",
       "<td>2024-10-12 20:36:16</td>\n",
       "<td>20.795 sec</td>\n",
       "<td>7.0</td>\n",
       "<td>0.3779102</td>\n",
       "<td>0.4931141</td>\n",
       "<td>0.0339153</td>\n",
       "<td>nan</td>\n",
       "<td>nan</td>\n",
       "<td>0.5902592</td>\n",
       "<td>1.1677441</td>\n",
       "<td>0.300075</td>\n",
       "<td>nan</td>\n",
       "<td>nan</td></tr>\n",
       "<tr><td></td>\n",
       "<td>2024-10-12 20:36:22</td>\n",
       "<td>26.029 sec</td>\n",
       "<td>9.0</td>\n",
       "<td>0.3062072</td>\n",
       "<td>0.3774323</td>\n",
       "<td>0.0338925</td>\n",
       "<td>nan</td>\n",
       "<td>nan</td>\n",
       "<td>0.5617186</td>\n",
       "<td>1.1284758</td>\n",
       "<td>0.299625</td>\n",
       "<td>nan</td>\n",
       "<td>nan</td></tr>\n",
       "<tr><td></td>\n",
       "<td>2024-10-12 20:36:27</td>\n",
       "<td>31.333 sec</td>\n",
       "<td>11.0</td>\n",
       "<td>0.2574597</td>\n",
       "<td>0.3001557</td>\n",
       "<td>0.0338543</td>\n",
       "<td>nan</td>\n",
       "<td>nan</td>\n",
       "<td>0.5453694</td>\n",
       "<td>1.1160517</td>\n",
       "<td>0.299275</td>\n",
       "<td>nan</td>\n",
       "<td>nan</td></tr>\n",
       "<tr><td></td>\n",
       "<td>2024-10-12 20:36:32</td>\n",
       "<td>36.630 sec</td>\n",
       "<td>13.0</td>\n",
       "<td>0.2261463</td>\n",
       "<td>0.2476728</td>\n",
       "<td>0.0338000</td>\n",
       "<td>nan</td>\n",
       "<td>nan</td>\n",
       "<td>0.5362473</td>\n",
       "<td>1.1155689</td>\n",
       "<td>0.2988</td>\n",
       "<td>nan</td>\n",
       "<td>nan</td></tr>\n",
       "<tr><td></td>\n",
       "<td>2024-10-12 20:36:38</td>\n",
       "<td>41.874 sec</td>\n",
       "<td>15.0</td>\n",
       "<td>0.2069331</td>\n",
       "<td>0.2117263</td>\n",
       "<td>0.0337509</td>\n",
       "<td>nan</td>\n",
       "<td>nan</td>\n",
       "<td>0.5315163</td>\n",
       "<td>1.1281388</td>\n",
       "<td>0.297975</td>\n",
       "<td>nan</td>\n",
       "<td>nan</td></tr>\n",
       "<tr><td></td>\n",
       "<td>2024-10-12 20:36:43</td>\n",
       "<td>47.151 sec</td>\n",
       "<td>17.0</td>\n",
       "<td>0.1953624</td>\n",
       "<td>0.1869971</td>\n",
       "<td>0.0336899</td>\n",
       "<td>nan</td>\n",
       "<td>nan</td>\n",
       "<td>0.5285579</td>\n",
       "<td>1.1391715</td>\n",
       "<td>0.2977</td>\n",
       "<td>nan</td>\n",
       "<td>nan</td></tr>\n",
       "<tr><td>---</td>\n",
       "<td>---</td>\n",
       "<td>---</td>\n",
       "<td>---</td>\n",
       "<td>---</td>\n",
       "<td>---</td>\n",
       "<td>---</td>\n",
       "<td>---</td>\n",
       "<td>---</td>\n",
       "<td>---</td>\n",
       "<td>---</td>\n",
       "<td>---</td>\n",
       "<td>---</td>\n",
       "<td>---</td></tr>\n",
       "<tr><td></td>\n",
       "<td>2024-10-12 20:37:14</td>\n",
       "<td> 1 min 18.587 sec</td>\n",
       "<td>29.0</td>\n",
       "<td>0.1759178</td>\n",
       "<td>0.1335722</td>\n",
       "<td>0.0328219</td>\n",
       "<td>nan</td>\n",
       "<td>nan</td>\n",
       "<td>0.5151045</td>\n",
       "<td>1.1593098</td>\n",
       "<td>0.285425</td>\n",
       "<td>nan</td>\n",
       "<td>nan</td></tr>\n",
       "<tr><td></td>\n",
       "<td>2024-10-12 20:37:19</td>\n",
       "<td> 1 min 23.713 sec</td>\n",
       "<td>31.0</td>\n",
       "<td>0.1752048</td>\n",
       "<td>0.1310351</td>\n",
       "<td>0.0327470</td>\n",
       "<td>nan</td>\n",
       "<td>nan</td>\n",
       "<td>0.5145022</td>\n",
       "<td>1.1579620</td>\n",
       "<td>0.285</td>\n",
       "<td>nan</td>\n",
       "<td>nan</td></tr>\n",
       "<tr><td></td>\n",
       "<td>2024-10-12 20:37:25</td>\n",
       "<td> 1 min 28.876 sec</td>\n",
       "<td>33.0</td>\n",
       "<td>0.1747347</td>\n",
       "<td>0.1289919</td>\n",
       "<td>0.0327073</td>\n",
       "<td>nan</td>\n",
       "<td>nan</td>\n",
       "<td>0.5140785</td>\n",
       "<td>1.1566327</td>\n",
       "<td>0.28495</td>\n",
       "<td>nan</td>\n",
       "<td>nan</td></tr>\n",
       "<tr><td></td>\n",
       "<td>2024-10-12 20:37:30</td>\n",
       "<td> 1 min 33.927 sec</td>\n",
       "<td>35.0</td>\n",
       "<td>0.1740552</td>\n",
       "<td>0.1272208</td>\n",
       "<td>0.0326081</td>\n",
       "<td>nan</td>\n",
       "<td>nan</td>\n",
       "<td>0.5125488</td>\n",
       "<td>1.1503696</td>\n",
       "<td>0.283</td>\n",
       "<td>nan</td>\n",
       "<td>nan</td></tr>\n",
       "<tr><td></td>\n",
       "<td>2024-10-12 20:37:35</td>\n",
       "<td> 1 min 39.022 sec</td>\n",
       "<td>37.0</td>\n",
       "<td>0.1735128</td>\n",
       "<td>0.1257953</td>\n",
       "<td>0.0325305</td>\n",
       "<td>nan</td>\n",
       "<td>nan</td>\n",
       "<td>0.5115381</td>\n",
       "<td>1.1449154</td>\n",
       "<td>0.282025</td>\n",
       "<td>nan</td>\n",
       "<td>nan</td></tr>\n",
       "<tr><td></td>\n",
       "<td>2024-10-12 20:37:40</td>\n",
       "<td> 1 min 44.047 sec</td>\n",
       "<td>39.0</td>\n",
       "<td>0.1728204</td>\n",
       "<td>0.1244867</td>\n",
       "<td>0.0324178</td>\n",
       "<td>nan</td>\n",
       "<td>nan</td>\n",
       "<td>0.5098629</td>\n",
       "<td>1.1377503</td>\n",
       "<td>0.2806</td>\n",
       "<td>nan</td>\n",
       "<td>nan</td></tr>\n",
       "<tr><td></td>\n",
       "<td>2024-10-12 20:37:45</td>\n",
       "<td> 1 min 49.083 sec</td>\n",
       "<td>41.0</td>\n",
       "<td>0.1725573</td>\n",
       "<td>0.1236641</td>\n",
       "<td>0.0323811</td>\n",
       "<td>nan</td>\n",
       "<td>nan</td>\n",
       "<td>0.5095273</td>\n",
       "<td>1.1359611</td>\n",
       "<td>0.28035</td>\n",
       "<td>nan</td>\n",
       "<td>nan</td></tr>\n",
       "<tr><td></td>\n",
       "<td>2024-10-12 20:37:50</td>\n",
       "<td> 1 min 54.063 sec</td>\n",
       "<td>43.0</td>\n",
       "<td>0.1723209</td>\n",
       "<td>0.1230001</td>\n",
       "<td>0.0323205</td>\n",
       "<td>nan</td>\n",
       "<td>nan</td>\n",
       "<td>0.5092504</td>\n",
       "<td>1.1341536</td>\n",
       "<td>0.280175</td>\n",
       "<td>nan</td>\n",
       "<td>nan</td></tr>\n",
       "<tr><td></td>\n",
       "<td>2024-10-12 20:37:55</td>\n",
       "<td> 1 min 59.109 sec</td>\n",
       "<td>45.0</td>\n",
       "<td>0.1721292</td>\n",
       "<td>0.1223996</td>\n",
       "<td>0.0322789</td>\n",
       "<td>nan</td>\n",
       "<td>nan</td>\n",
       "<td>0.5088634</td>\n",
       "<td>1.1299141</td>\n",
       "<td>0.279975</td>\n",
       "<td>nan</td>\n",
       "<td>nan</td></tr>\n",
       "<tr><td></td>\n",
       "<td>2024-10-12 20:37:57</td>\n",
       "<td> 2 min  1.660 sec</td>\n",
       "<td>46.0</td>\n",
       "<td>0.1720262</td>\n",
       "<td>0.1221460</td>\n",
       "<td>0.0322695</td>\n",
       "<td>nan</td>\n",
       "<td>nan</td>\n",
       "<td>0.5087691</td>\n",
       "<td>1.1288512</td>\n",
       "<td>0.27975</td>\n",
       "<td>nan</td>\n",
       "<td>nan</td></tr></tbody>\n",
       "  </table>\n",
       "</div>\n",
       "<pre style='font-size: smaller; margin-bottom: 1em;'>[25 rows x 14 columns]</pre></div>\n",
       "<div style='margin: 1em 0 1em 0;'>\n",
       "<style>\n",
       "\n",
       "#h2o-table-8.h2o-container {\n",
       "  overflow-x: auto;\n",
       "}\n",
       "#h2o-table-8 .h2o-table {\n",
       "  /* width: 100%; */\n",
       "  margin-top: 1em;\n",
       "  margin-bottom: 1em;\n",
       "}\n",
       "#h2o-table-8 .h2o-table caption {\n",
       "  white-space: nowrap;\n",
       "  caption-side: top;\n",
       "  text-align: left;\n",
       "  /* margin-left: 1em; */\n",
       "  margin: 0;\n",
       "  font-size: larger;\n",
       "}\n",
       "#h2o-table-8 .h2o-table thead {\n",
       "  white-space: nowrap; \n",
       "  position: sticky;\n",
       "  top: 0;\n",
       "  box-shadow: 0 -1px inset;\n",
       "}\n",
       "#h2o-table-8 .h2o-table tbody {\n",
       "  overflow: auto;\n",
       "}\n",
       "#h2o-table-8 .h2o-table th,\n",
       "#h2o-table-8 .h2o-table td {\n",
       "  text-align: right;\n",
       "  /* border: 1px solid; */\n",
       "}\n",
       "#h2o-table-8 .h2o-table tr:nth-child(even) {\n",
       "  /* background: #F5F5F5 */\n",
       "}\n",
       "\n",
       "</style>      \n",
       "<div id=\"h2o-table-8\" class=\"h2o-container\">\n",
       "  <table class=\"h2o-table\">\n",
       "    <caption>Variable Importances: </caption>\n",
       "    <thead><tr><th>variable</th>\n",
       "<th>relative_importance</th>\n",
       "<th>scaled_importance</th>\n",
       "<th>percentage</th></tr></thead>\n",
       "    <tbody><tr><td>title</td>\n",
       "<td>480332.2812500</td>\n",
       "<td>1.0</td>\n",
       "<td>0.7317623</td></tr>\n",
       "<tr><td>action_6_count</td>\n",
       "<td>53739.2617188</td>\n",
       "<td>0.1118793</td>\n",
       "<td>0.0818691</td></tr>\n",
       "<tr><td>action_7_count</td>\n",
       "<td>43213.5546875</td>\n",
       "<td>0.0899660</td>\n",
       "<td>0.0658337</td></tr>\n",
       "<tr><td>delta_min</td>\n",
       "<td>16077.0546875</td>\n",
       "<td>0.0334707</td>\n",
       "<td>0.0244926</td></tr>\n",
       "<tr><td>action_3_count</td>\n",
       "<td>15105.6015625</td>\n",
       "<td>0.0314482</td>\n",
       "<td>0.0230126</td></tr>\n",
       "<tr><td>action_1_count</td>\n",
       "<td>10722.1455078</td>\n",
       "<td>0.0223224</td>\n",
       "<td>0.0163347</td></tr>\n",
       "<tr><td>action_9_count</td>\n",
       "<td>8314.3828125</td>\n",
       "<td>0.0173096</td>\n",
       "<td>0.0126665</td></tr>\n",
       "<tr><td>delta_sec</td>\n",
       "<td>8230.6972656</td>\n",
       "<td>0.0171354</td>\n",
       "<td>0.0125391</td></tr>\n",
       "<tr><td>action_8_count</td>\n",
       "<td>6930.2700195</td>\n",
       "<td>0.0144281</td>\n",
       "<td>0.0105579</td></tr>\n",
       "<tr><td>loc_user_count</td>\n",
       "<td>5562.1347656</td>\n",
       "<td>0.0115798</td>\n",
       "<td>0.0084736</td></tr>\n",
       "<tr><td>category_id</td>\n",
       "<td>2807.4633789</td>\n",
       "<td>0.0058448</td>\n",
       "<td>0.0042770</td></tr>\n",
       "<tr><td>action_5_count</td>\n",
       "<td>1681.0539551</td>\n",
       "<td>0.0034998</td>\n",
       "<td>0.0025610</td></tr>\n",
       "<tr><td>action_2_count</td>\n",
       "<td>1325.8355713</td>\n",
       "<td>0.0027602</td>\n",
       "<td>0.0020198</td></tr>\n",
       "<tr><td>price_diff</td>\n",
       "<td>1137.9571533</td>\n",
       "<td>0.0023691</td>\n",
       "<td>0.0017336</td></tr>\n",
       "<tr><td>action_4_count</td>\n",
       "<td>705.5551758</td>\n",
       "<td>0.0014689</td>\n",
       "<td>0.0010749</td></tr>\n",
       "<tr><td>day_of_week</td>\n",
       "<td>168.1435547</td>\n",
       "<td>0.0003501</td>\n",
       "<td>0.0002562</td></tr>\n",
       "<tr><td>action_0_count</td>\n",
       "<td>115.0548553</td>\n",
       "<td>0.0002395</td>\n",
       "<td>0.0001753</td></tr>\n",
       "<tr><td>category_id_count</td>\n",
       "<td>96.4978104</td>\n",
       "<td>0.0002009</td>\n",
       "<td>0.0001470</td></tr>\n",
       "<tr><td>delta_hour</td>\n",
       "<td>72.7167282</td>\n",
       "<td>0.0001514</td>\n",
       "<td>0.0001108</td></tr>\n",
       "<tr><td>delta_day</td>\n",
       "<td>67.1272659</td>\n",
       "<td>0.0001398</td>\n",
       "<td>0.0001023</td></tr></tbody>\n",
       "  </table>\n",
       "</div>\n",
       "</div><pre style=\"font-size: smaller; margin: 1em 0 0 0;\">\n",
       "\n",
       "[tips]\n",
       "Use `model.explain()` to inspect the model.\n",
       "--\n",
       "Use `h2o.display.toggle_user_tips()` to switch on/off this section.</pre>"
      ]
     },
     "execution_count": 52,
     "metadata": {},
     "output_type": "execute_result"
    }
   ],
   "execution_count": 52
  },
  {
   "metadata": {
    "ExecuteTime": {
     "end_time": "2024-10-12T17:38:00.036654Z",
     "start_time": "2024-10-12T17:38:00.035195Z"
    }
   },
   "cell_type": "code",
   "source": "",
   "id": "25b2e7ebc47bafe4",
   "outputs": [],
   "execution_count": null
  },
  {
   "metadata": {
    "ExecuteTime": {
     "end_time": "2024-10-12T17:38:03.652288Z",
     "start_time": "2024-10-12T17:38:01.807105Z"
    }
   },
   "cell_type": "code",
   "source": "gbm_model.model_performance(test_h2o)",
   "id": "df542bafe3b785fb",
   "outputs": [
    {
     "data": {
      "text/plain": [
       "ModelMetricsMultinomial: gbm\n",
       "** Reported on test data. **\n",
       "\n",
       "MSE: 0.25884600046611544\n",
       "RMSE: 0.5087691032935426\n",
       "LogLoss: 1.1288511669388714\n",
       "Mean Per-Class Error: 0.6922247918730551\n",
       "AUC table was not computed: it is either disabled (model parameter 'auc_type' was set to AUTO or NONE) or the domain size exceeds the limit (maximum is 50 domains).\n",
       "AUCPR table was not computed: it is either disabled (model parameter 'auc_type' was set to AUTO or NONE) or the domain size exceeds the limit (maximum is 50 domains).\n",
       "\n",
       "Confusion Matrix: Row labels: Actual class; Column labels: Predicted class\n",
       "0    1      2    3    4    5     6    7     8    9    Error     Rate\n",
       "---  -----  ---  ---  ---  ----  ---  ----  ---  ---  --------  ---------------\n",
       "0    4      0    0    0    0     0    0     0    0    1         4 / 4\n",
       "0    24812  0    0    0    0     0    0     0    0    0         0 / 24,812\n",
       "0    6351   0    0    0    0     0    0     0    0    1         6,351 / 6,351\n",
       "0    451    0    0    0    0     0    0     0    0    1         451 / 451\n",
       "0    21     0    0    0    5     16   70    9    1    1         122 / 122\n",
       "0    1562   0    1    1    3548  369  622   12   50   0.424493  2,617 / 6,165\n",
       "0    137    0    1    0    2     119  21    0    0    0.575     161 / 280\n",
       "0    32     0    0    0    2     27   148   3    9    0.330317  73 / 221\n",
       "0    248    0    0    0    63    207  818   165  33   0.892438  1,369 / 1,534\n",
       "0    10     0    0    0    0     4    28    0    18   0.7       42 / 60\n",
       "0    33628  0    2    1    3620  742  1707  189  111  0.27975   11,190 / 40,000\n",
       "\n",
       "Top-10 Hit Ratios: \n",
       "k    hit_ratio\n",
       "---  -----------\n",
       "1    0.72025\n",
       "2    0.89085\n",
       "3    0.96065\n",
       "4    0.979825\n",
       "5    0.989475\n",
       "6    0.9955\n",
       "7    0.998725\n",
       "8    0.9998\n",
       "9    1\n",
       "10   1"
      ],
      "text/html": [
       "<pre style='margin: 1em 0 1em 0;'>ModelMetricsMultinomial: gbm\n",
       "** Reported on test data. **\n",
       "\n",
       "MSE: 0.25884600046611544\n",
       "RMSE: 0.5087691032935426\n",
       "LogLoss: 1.1288511669388714\n",
       "Mean Per-Class Error: 0.6922247918730551\n",
       "AUC table was not computed: it is either disabled (model parameter 'auc_type' was set to AUTO or NONE) or the domain size exceeds the limit (maximum is 50 domains).\n",
       "AUCPR table was not computed: it is either disabled (model parameter 'auc_type' was set to AUTO or NONE) or the domain size exceeds the limit (maximum is 50 domains).</pre>\n",
       "<div style='margin: 1em 0 1em 0;'>\n",
       "<style>\n",
       "\n",
       "#h2o-table-9.h2o-container {\n",
       "  overflow-x: auto;\n",
       "}\n",
       "#h2o-table-9 .h2o-table {\n",
       "  /* width: 100%; */\n",
       "  margin-top: 1em;\n",
       "  margin-bottom: 1em;\n",
       "}\n",
       "#h2o-table-9 .h2o-table caption {\n",
       "  white-space: nowrap;\n",
       "  caption-side: top;\n",
       "  text-align: left;\n",
       "  /* margin-left: 1em; */\n",
       "  margin: 0;\n",
       "  font-size: larger;\n",
       "}\n",
       "#h2o-table-9 .h2o-table thead {\n",
       "  white-space: nowrap; \n",
       "  position: sticky;\n",
       "  top: 0;\n",
       "  box-shadow: 0 -1px inset;\n",
       "}\n",
       "#h2o-table-9 .h2o-table tbody {\n",
       "  overflow: auto;\n",
       "}\n",
       "#h2o-table-9 .h2o-table th,\n",
       "#h2o-table-9 .h2o-table td {\n",
       "  text-align: right;\n",
       "  /* border: 1px solid; */\n",
       "}\n",
       "#h2o-table-9 .h2o-table tr:nth-child(even) {\n",
       "  /* background: #F5F5F5 */\n",
       "}\n",
       "\n",
       "</style>      \n",
       "<div id=\"h2o-table-9\" class=\"h2o-container\">\n",
       "  <table class=\"h2o-table\">\n",
       "    <caption>Confusion Matrix: Row labels: Actual class; Column labels: Predicted class</caption>\n",
       "    <thead><tr><th>0</th>\n",
       "<th>1</th>\n",
       "<th>2</th>\n",
       "<th>3</th>\n",
       "<th>4</th>\n",
       "<th>5</th>\n",
       "<th>6</th>\n",
       "<th>7</th>\n",
       "<th>8</th>\n",
       "<th>9</th>\n",
       "<th>Error</th>\n",
       "<th>Rate</th></tr></thead>\n",
       "    <tbody><tr><td>0.0</td>\n",
       "<td>4.0</td>\n",
       "<td>0.0</td>\n",
       "<td>0.0</td>\n",
       "<td>0.0</td>\n",
       "<td>0.0</td>\n",
       "<td>0.0</td>\n",
       "<td>0.0</td>\n",
       "<td>0.0</td>\n",
       "<td>0.0</td>\n",
       "<td>1.0</td>\n",
       "<td>4 / 4</td></tr>\n",
       "<tr><td>0.0</td>\n",
       "<td>24812.0</td>\n",
       "<td>0.0</td>\n",
       "<td>0.0</td>\n",
       "<td>0.0</td>\n",
       "<td>0.0</td>\n",
       "<td>0.0</td>\n",
       "<td>0.0</td>\n",
       "<td>0.0</td>\n",
       "<td>0.0</td>\n",
       "<td>0.0</td>\n",
       "<td>0 / 24,812</td></tr>\n",
       "<tr><td>0.0</td>\n",
       "<td>6351.0</td>\n",
       "<td>0.0</td>\n",
       "<td>0.0</td>\n",
       "<td>0.0</td>\n",
       "<td>0.0</td>\n",
       "<td>0.0</td>\n",
       "<td>0.0</td>\n",
       "<td>0.0</td>\n",
       "<td>0.0</td>\n",
       "<td>1.0</td>\n",
       "<td>6,351 / 6,351</td></tr>\n",
       "<tr><td>0.0</td>\n",
       "<td>451.0</td>\n",
       "<td>0.0</td>\n",
       "<td>0.0</td>\n",
       "<td>0.0</td>\n",
       "<td>0.0</td>\n",
       "<td>0.0</td>\n",
       "<td>0.0</td>\n",
       "<td>0.0</td>\n",
       "<td>0.0</td>\n",
       "<td>1.0</td>\n",
       "<td>451 / 451</td></tr>\n",
       "<tr><td>0.0</td>\n",
       "<td>21.0</td>\n",
       "<td>0.0</td>\n",
       "<td>0.0</td>\n",
       "<td>0.0</td>\n",
       "<td>5.0</td>\n",
       "<td>16.0</td>\n",
       "<td>70.0</td>\n",
       "<td>9.0</td>\n",
       "<td>1.0</td>\n",
       "<td>1.0</td>\n",
       "<td>122 / 122</td></tr>\n",
       "<tr><td>0.0</td>\n",
       "<td>1562.0</td>\n",
       "<td>0.0</td>\n",
       "<td>1.0</td>\n",
       "<td>1.0</td>\n",
       "<td>3548.0</td>\n",
       "<td>369.0</td>\n",
       "<td>622.0</td>\n",
       "<td>12.0</td>\n",
       "<td>50.0</td>\n",
       "<td>0.4244931</td>\n",
       "<td>2,617 / 6,165</td></tr>\n",
       "<tr><td>0.0</td>\n",
       "<td>137.0</td>\n",
       "<td>0.0</td>\n",
       "<td>1.0</td>\n",
       "<td>0.0</td>\n",
       "<td>2.0</td>\n",
       "<td>119.0</td>\n",
       "<td>21.0</td>\n",
       "<td>0.0</td>\n",
       "<td>0.0</td>\n",
       "<td>0.575</td>\n",
       "<td>161 / 280</td></tr>\n",
       "<tr><td>0.0</td>\n",
       "<td>32.0</td>\n",
       "<td>0.0</td>\n",
       "<td>0.0</td>\n",
       "<td>0.0</td>\n",
       "<td>2.0</td>\n",
       "<td>27.0</td>\n",
       "<td>148.0</td>\n",
       "<td>3.0</td>\n",
       "<td>9.0</td>\n",
       "<td>0.3303167</td>\n",
       "<td>73 / 221</td></tr>\n",
       "<tr><td>0.0</td>\n",
       "<td>248.0</td>\n",
       "<td>0.0</td>\n",
       "<td>0.0</td>\n",
       "<td>0.0</td>\n",
       "<td>63.0</td>\n",
       "<td>207.0</td>\n",
       "<td>818.0</td>\n",
       "<td>165.0</td>\n",
       "<td>33.0</td>\n",
       "<td>0.8924381</td>\n",
       "<td>1,369 / 1,534</td></tr>\n",
       "<tr><td>0.0</td>\n",
       "<td>10.0</td>\n",
       "<td>0.0</td>\n",
       "<td>0.0</td>\n",
       "<td>0.0</td>\n",
       "<td>0.0</td>\n",
       "<td>4.0</td>\n",
       "<td>28.0</td>\n",
       "<td>0.0</td>\n",
       "<td>18.0</td>\n",
       "<td>0.7</td>\n",
       "<td>42 / 60</td></tr>\n",
       "<tr><td>0.0</td>\n",
       "<td>33628.0</td>\n",
       "<td>0.0</td>\n",
       "<td>2.0</td>\n",
       "<td>1.0</td>\n",
       "<td>3620.0</td>\n",
       "<td>742.0</td>\n",
       "<td>1707.0</td>\n",
       "<td>189.0</td>\n",
       "<td>111.0</td>\n",
       "<td>0.27975</td>\n",
       "<td>11,190 / 40,000</td></tr></tbody>\n",
       "  </table>\n",
       "</div>\n",
       "</div>\n",
       "<div style='margin: 1em 0 1em 0;'>\n",
       "<style>\n",
       "\n",
       "#h2o-table-10.h2o-container {\n",
       "  overflow-x: auto;\n",
       "}\n",
       "#h2o-table-10 .h2o-table {\n",
       "  /* width: 100%; */\n",
       "  margin-top: 1em;\n",
       "  margin-bottom: 1em;\n",
       "}\n",
       "#h2o-table-10 .h2o-table caption {\n",
       "  white-space: nowrap;\n",
       "  caption-side: top;\n",
       "  text-align: left;\n",
       "  /* margin-left: 1em; */\n",
       "  margin: 0;\n",
       "  font-size: larger;\n",
       "}\n",
       "#h2o-table-10 .h2o-table thead {\n",
       "  white-space: nowrap; \n",
       "  position: sticky;\n",
       "  top: 0;\n",
       "  box-shadow: 0 -1px inset;\n",
       "}\n",
       "#h2o-table-10 .h2o-table tbody {\n",
       "  overflow: auto;\n",
       "}\n",
       "#h2o-table-10 .h2o-table th,\n",
       "#h2o-table-10 .h2o-table td {\n",
       "  text-align: right;\n",
       "  /* border: 1px solid; */\n",
       "}\n",
       "#h2o-table-10 .h2o-table tr:nth-child(even) {\n",
       "  /* background: #F5F5F5 */\n",
       "}\n",
       "\n",
       "</style>      \n",
       "<div id=\"h2o-table-10\" class=\"h2o-container\">\n",
       "  <table class=\"h2o-table\">\n",
       "    <caption>Top-10 Hit Ratios: </caption>\n",
       "    <thead><tr><th>k</th>\n",
       "<th>hit_ratio</th></tr></thead>\n",
       "    <tbody><tr><td>1</td>\n",
       "<td>0.72025</td></tr>\n",
       "<tr><td>2</td>\n",
       "<td>0.89085</td></tr>\n",
       "<tr><td>3</td>\n",
       "<td>0.96065</td></tr>\n",
       "<tr><td>4</td>\n",
       "<td>0.979825</td></tr>\n",
       "<tr><td>5</td>\n",
       "<td>0.989475</td></tr>\n",
       "<tr><td>6</td>\n",
       "<td>0.9955</td></tr>\n",
       "<tr><td>7</td>\n",
       "<td>0.9987251</td></tr>\n",
       "<tr><td>8</td>\n",
       "<td>0.9998001</td></tr>\n",
       "<tr><td>9</td>\n",
       "<td>1.0000001</td></tr>\n",
       "<tr><td>10</td>\n",
       "<td>1.0000001</td></tr></tbody>\n",
       "  </table>\n",
       "</div>\n",
       "</div>"
      ]
     },
     "execution_count": 53,
     "metadata": {},
     "output_type": "execute_result"
    }
   ],
   "execution_count": 53
  },
  {
   "metadata": {
    "ExecuteTime": {
     "end_time": "2024-10-12T17:38:05.448416Z",
     "start_time": "2024-10-12T17:38:05.438821Z"
    }
   },
   "cell_type": "code",
   "source": "gbm_model.varimp(use_pandas=True)",
   "id": "eabbc1198fbe0869",
   "outputs": [
    {
     "data": {
      "text/plain": [
       "             variable  relative_importance  scaled_importance  percentage\n",
       "0               title        480332.281250           1.000000    0.731762\n",
       "1      action_6_count         53739.261719           0.111879    0.081869\n",
       "2      action_7_count         43213.554688           0.089966    0.065834\n",
       "3           delta_min         16077.054688           0.033471    0.024493\n",
       "4      action_3_count         15105.601562           0.031448    0.023013\n",
       "5      action_1_count         10722.145508           0.022322    0.016335\n",
       "6      action_9_count          8314.382812           0.017310    0.012667\n",
       "7           delta_sec          8230.697266           0.017135    0.012539\n",
       "8      action_8_count          6930.270020           0.014428    0.010558\n",
       "9      loc_user_count          5562.134766           0.011580    0.008474\n",
       "10        category_id          2807.463379           0.005845    0.004277\n",
       "11     action_5_count          1681.053955           0.003500    0.002561\n",
       "12     action_2_count          1325.835571           0.002760    0.002020\n",
       "13         price_diff          1137.957153           0.002369    0.001734\n",
       "14     action_4_count           705.555176           0.001469    0.001075\n",
       "15        day_of_week           168.143555           0.000350    0.000256\n",
       "16     action_0_count           115.054855           0.000240    0.000175\n",
       "17  category_id_count            96.497810           0.000201    0.000147\n",
       "18         delta_hour            72.716728           0.000151    0.000111\n",
       "19          delta_day            67.127266           0.000140    0.000102"
      ],
      "text/html": [
       "<div>\n",
       "<style scoped>\n",
       "    .dataframe tbody tr th:only-of-type {\n",
       "        vertical-align: middle;\n",
       "    }\n",
       "\n",
       "    .dataframe tbody tr th {\n",
       "        vertical-align: top;\n",
       "    }\n",
       "\n",
       "    .dataframe thead th {\n",
       "        text-align: right;\n",
       "    }\n",
       "</style>\n",
       "<table border=\"1\" class=\"dataframe\">\n",
       "  <thead>\n",
       "    <tr style=\"text-align: right;\">\n",
       "      <th></th>\n",
       "      <th>variable</th>\n",
       "      <th>relative_importance</th>\n",
       "      <th>scaled_importance</th>\n",
       "      <th>percentage</th>\n",
       "    </tr>\n",
       "  </thead>\n",
       "  <tbody>\n",
       "    <tr>\n",
       "      <th>0</th>\n",
       "      <td>title</td>\n",
       "      <td>480332.281250</td>\n",
       "      <td>1.000000</td>\n",
       "      <td>0.731762</td>\n",
       "    </tr>\n",
       "    <tr>\n",
       "      <th>1</th>\n",
       "      <td>action_6_count</td>\n",
       "      <td>53739.261719</td>\n",
       "      <td>0.111879</td>\n",
       "      <td>0.081869</td>\n",
       "    </tr>\n",
       "    <tr>\n",
       "      <th>2</th>\n",
       "      <td>action_7_count</td>\n",
       "      <td>43213.554688</td>\n",
       "      <td>0.089966</td>\n",
       "      <td>0.065834</td>\n",
       "    </tr>\n",
       "    <tr>\n",
       "      <th>3</th>\n",
       "      <td>delta_min</td>\n",
       "      <td>16077.054688</td>\n",
       "      <td>0.033471</td>\n",
       "      <td>0.024493</td>\n",
       "    </tr>\n",
       "    <tr>\n",
       "      <th>4</th>\n",
       "      <td>action_3_count</td>\n",
       "      <td>15105.601562</td>\n",
       "      <td>0.031448</td>\n",
       "      <td>0.023013</td>\n",
       "    </tr>\n",
       "    <tr>\n",
       "      <th>5</th>\n",
       "      <td>action_1_count</td>\n",
       "      <td>10722.145508</td>\n",
       "      <td>0.022322</td>\n",
       "      <td>0.016335</td>\n",
       "    </tr>\n",
       "    <tr>\n",
       "      <th>6</th>\n",
       "      <td>action_9_count</td>\n",
       "      <td>8314.382812</td>\n",
       "      <td>0.017310</td>\n",
       "      <td>0.012667</td>\n",
       "    </tr>\n",
       "    <tr>\n",
       "      <th>7</th>\n",
       "      <td>delta_sec</td>\n",
       "      <td>8230.697266</td>\n",
       "      <td>0.017135</td>\n",
       "      <td>0.012539</td>\n",
       "    </tr>\n",
       "    <tr>\n",
       "      <th>8</th>\n",
       "      <td>action_8_count</td>\n",
       "      <td>6930.270020</td>\n",
       "      <td>0.014428</td>\n",
       "      <td>0.010558</td>\n",
       "    </tr>\n",
       "    <tr>\n",
       "      <th>9</th>\n",
       "      <td>loc_user_count</td>\n",
       "      <td>5562.134766</td>\n",
       "      <td>0.011580</td>\n",
       "      <td>0.008474</td>\n",
       "    </tr>\n",
       "    <tr>\n",
       "      <th>10</th>\n",
       "      <td>category_id</td>\n",
       "      <td>2807.463379</td>\n",
       "      <td>0.005845</td>\n",
       "      <td>0.004277</td>\n",
       "    </tr>\n",
       "    <tr>\n",
       "      <th>11</th>\n",
       "      <td>action_5_count</td>\n",
       "      <td>1681.053955</td>\n",
       "      <td>0.003500</td>\n",
       "      <td>0.002561</td>\n",
       "    </tr>\n",
       "    <tr>\n",
       "      <th>12</th>\n",
       "      <td>action_2_count</td>\n",
       "      <td>1325.835571</td>\n",
       "      <td>0.002760</td>\n",
       "      <td>0.002020</td>\n",
       "    </tr>\n",
       "    <tr>\n",
       "      <th>13</th>\n",
       "      <td>price_diff</td>\n",
       "      <td>1137.957153</td>\n",
       "      <td>0.002369</td>\n",
       "      <td>0.001734</td>\n",
       "    </tr>\n",
       "    <tr>\n",
       "      <th>14</th>\n",
       "      <td>action_4_count</td>\n",
       "      <td>705.555176</td>\n",
       "      <td>0.001469</td>\n",
       "      <td>0.001075</td>\n",
       "    </tr>\n",
       "    <tr>\n",
       "      <th>15</th>\n",
       "      <td>day_of_week</td>\n",
       "      <td>168.143555</td>\n",
       "      <td>0.000350</td>\n",
       "      <td>0.000256</td>\n",
       "    </tr>\n",
       "    <tr>\n",
       "      <th>16</th>\n",
       "      <td>action_0_count</td>\n",
       "      <td>115.054855</td>\n",
       "      <td>0.000240</td>\n",
       "      <td>0.000175</td>\n",
       "    </tr>\n",
       "    <tr>\n",
       "      <th>17</th>\n",
       "      <td>category_id_count</td>\n",
       "      <td>96.497810</td>\n",
       "      <td>0.000201</td>\n",
       "      <td>0.000147</td>\n",
       "    </tr>\n",
       "    <tr>\n",
       "      <th>18</th>\n",
       "      <td>delta_hour</td>\n",
       "      <td>72.716728</td>\n",
       "      <td>0.000151</td>\n",
       "      <td>0.000111</td>\n",
       "    </tr>\n",
       "    <tr>\n",
       "      <th>19</th>\n",
       "      <td>delta_day</td>\n",
       "      <td>67.127266</td>\n",
       "      <td>0.000140</td>\n",
       "      <td>0.000102</td>\n",
       "    </tr>\n",
       "  </tbody>\n",
       "</table>\n",
       "</div>"
      ]
     },
     "execution_count": 54,
     "metadata": {},
     "output_type": "execute_result"
    }
   ],
   "execution_count": 54
  },
  {
   "metadata": {},
   "cell_type": "markdown",
   "source": "#### Расчитываем recall для локальных тестов",
   "id": "3bdeed0fc9e5677a"
  },
  {
   "metadata": {},
   "cell_type": "markdown",
   "source": "",
   "id": "f352074171c4f945"
  },
  {
   "metadata": {},
   "cell_type": "markdown",
   "source": "#### Тестовые данные - три дня и ключевое событие - 9 (заказ)",
   "id": "ff1086bd6fdb731a"
  },
  {
   "metadata": {
    "ExecuteTime": {
     "end_time": "2024-10-12T17:38:08.776570Z",
     "start_time": "2024-10-12T17:38:07.573642Z"
    }
   },
   "cell_type": "code",
   "source": [
    "last_3_days = inters['datetime'].max() - pd.Timedelta(3, unit='D')\n",
    "last_13_days = inters['datetime'].max() - pd.Timedelta(0, unit='D')\n",
    "test_purchasers = inters.sort_values(by=['datetime', 'weight'], ascending=True)\n",
    "test_purchasers = test_purchasers[\n",
    "    (test_purchasers['weight'] == 9) \n",
    "    & (test_purchasers['datetime'] > last_3_days)\n",
    "    & (test_purchasers['datetime'] < last_13_days)\n",
    "]\n",
    "print(test_purchasers['datetime'].max(), test_purchasers['datetime'].min(),)\n",
    "test_purchasers = test_purchasers.groupby(['user_id'])['item_id'].apply(processing)\n",
    "test_purchasers = test_purchasers.reset_index()\n",
    "test_purchasers.shape"
   ],
   "id": "3be5212427a6c914",
   "outputs": [
    {
     "name": "stdout",
     "output_type": "stream",
     "text": [
      "2024-09-28 23:46:12 2024-09-26 00:38:57\n"
     ]
    },
    {
     "data": {
      "text/plain": [
       "(496, 2)"
      ]
     },
     "execution_count": 55,
     "metadata": {},
     "output_type": "execute_result"
    }
   ],
   "execution_count": 55
  },
  {
   "metadata": {
    "ExecuteTime": {
     "end_time": "2024-10-12T17:38:08.901870Z",
     "start_time": "2024-10-12T17:38:08.888151Z"
    }
   },
   "cell_type": "code",
   "source": "inters['datetime'].max() - pd.Timedelta(7, unit='D')",
   "id": "54d85fb69df5898d",
   "outputs": [
    {
     "data": {
      "text/plain": [
       "Timestamp('2024-09-21 23:59:59')"
      ]
     },
     "execution_count": 56,
     "metadata": {},
     "output_type": "execute_result"
    }
   ],
   "execution_count": 56
  },
  {
   "metadata": {
    "ExecuteTime": {
     "end_time": "2024-10-12T17:38:11.097029Z",
     "start_time": "2024-10-12T17:38:11.093128Z"
    }
   },
   "cell_type": "code",
   "source": "inters.columns",
   "id": "82cf773492794075",
   "outputs": [
    {
     "data": {
      "text/plain": [
       "Index(['user_id', 'weight', 'item_id', 'pageId', 'datetime', 'category_id',\n",
       "       'title', 'day_of_week', 'price_diff', 'loc_user_count',\n",
       "       'category_id_count', 'action_0_count', 'action_1_count',\n",
       "       'action_2_count', 'action_3_count', 'action_4_count', 'action_5_count',\n",
       "       'action_6_count', 'action_7_count', 'action_8_count', 'action_9_count',\n",
       "       'delta_sec', 'delta_day', 'delta_hour', 'delta_min'],\n",
       "      dtype='object')"
      ]
     },
     "execution_count": 57,
     "metadata": {},
     "output_type": "execute_result"
    }
   ],
   "execution_count": 57
  },
  {
   "metadata": {},
   "cell_type": "markdown",
   "source": [
    "#### Предсказания фильтрацией\n",
    "\n",
    "    "
   ],
   "id": "62c487e4b075845b"
  },
  {
   "metadata": {
    "ExecuteTime": {
     "end_time": "2024-10-12T17:38:14.585238Z",
     "start_time": "2024-10-12T17:38:13.248930Z"
    }
   },
   "cell_type": "code",
   "source": [
    "last_3_days = inters['datetime'].max() - pd.Timedelta(3, unit='D')\n",
    "last_8_days = inters['datetime'].max() - pd.Timedelta(8*24, unit='hours')\n",
    "pred_purchasers = inters.sort_values(by=['datetime', 'weight'], ascending=True)\n",
    "pred_purchasers = pred_purchasers[\n",
    "    (pred_purchasers['weight'].isin([8, 1]))\n",
    "    & (pred_purchasers['datetime'] > last_8_days)\n",
    "    & (pred_purchasers['datetime'] < last_3_days)\n",
    "    & (\n",
    "            (pred_purchasers.action_7_count > 50) \n",
    "            | (pred_purchasers.action_8_count > 20) \n",
    "            | (pred_purchasers.action_9_count > 0) \n",
    "            # & (pred_purchasers.action_6_count > 0) \n",
    "            # & (pred_purchasers.action_3_count > 0)\n",
    "    )\n",
    "]\n",
    "pred_purchasers = pred_purchasers.groupby(['user_id'])['item_id'].apply(processing)\n",
    "pred_purchasers = pred_purchasers.reset_index()\n",
    "pred_purchasers.shape"
   ],
   "id": "5dda51efea46a6bc",
   "outputs": [
    {
     "data": {
      "text/plain": [
       "(3074, 2)"
      ]
     },
     "execution_count": 58,
     "metadata": {},
     "output_type": "execute_result"
    }
   ],
   "execution_count": 58
  },
  {
   "metadata": {},
   "cell_type": "markdown",
   "source": "#### Проверяем сколько пользователей из теста удалось \"зацепить\" фильтрацией",
   "id": "33e59bd06e570d54"
  },
  {
   "metadata": {
    "ExecuteTime": {
     "end_time": "2024-10-12T17:38:20.151931Z",
     "start_time": "2024-10-12T17:38:20.147358Z"
    }
   },
   "cell_type": "code",
   "source": "pred_purchasers[pred_purchasers.user_id.isin(test_purchasers.user_id.unique())].shape",
   "id": "29e94d0446632ec2",
   "outputs": [
    {
     "data": {
      "text/plain": [
       "(314, 2)"
      ]
     },
     "execution_count": 59,
     "metadata": {},
     "output_type": "execute_result"
    }
   ],
   "execution_count": 59
  },
  {
   "metadata": {
    "ExecuteTime": {
     "end_time": "2024-10-12T17:38:22.485629Z",
     "start_time": "2024-10-12T17:38:22.479728Z"
    }
   },
   "cell_type": "code",
   "source": [
    "check_merge = test_purchasers.merge(pred_purchasers[-3000:], on='user_id', how='left')\n",
    "check_merge.item_id_y.loc[check_merge.item_id_y.isnull()] = check_merge.item_id_y.loc[check_merge.item_id_y.isnull()].apply(lambda x: [])\n",
    "check_merge.shape"
   ],
   "id": "a33904fee2d14bfb",
   "outputs": [
    {
     "data": {
      "text/plain": [
       "(496, 3)"
      ]
     },
     "execution_count": 60,
     "metadata": {},
     "output_type": "execute_result"
    }
   ],
   "execution_count": 60
  },
  {
   "metadata": {
    "ExecuteTime": {
     "end_time": "2024-10-12T17:38:24.458051Z",
     "start_time": "2024-10-12T17:38:24.451259Z"
    }
   },
   "cell_type": "code",
   "source": "check_merge.sample(100)",
   "id": "b7da4fd1f665a549",
   "outputs": [
    {
     "data": {
      "text/plain": [
       "                                  user_id  \\\n",
       "411  cc2e0348-8d2d-11ee-86e0-002590c0647c   \n",
       "323  9d3b1990-12bb-11ef-86e0-002590c0647c   \n",
       "379  be757f4a-1938-11eb-a6e9-002590c82437   \n",
       "314  96c440be-5f04-11eb-86e0-002590c0647c   \n",
       "91   24aff1ca-564c-11ee-86e0-002590c0647c   \n",
       "..                                    ...   \n",
       "283  894491ae-badd-11ee-bbb1-002590c82436   \n",
       "254  76393776-549e-11ef-86e0-002590c0647c   \n",
       "164  4a69d0c8-bf99-11ee-bbb1-002590c82436   \n",
       "143  4147a044-6bfb-11ed-86e0-002590c0647c   \n",
       "442  de73dbc8-6996-11ee-86e0-002590c0647c   \n",
       "\n",
       "                                        item_id_x  \\\n",
       "411                   [4987300, 4088073, 5066200]   \n",
       "323  [4966585, 615593, 6773805, 5111692, 6168001]   \n",
       "379                                     [6530860]   \n",
       "314                                     [5919193]   \n",
       "91                             [1312778, 4946035]   \n",
       "..                                            ...   \n",
       "283                            [6436573, 6929214]   \n",
       "254                                     [5182840]   \n",
       "164                                     [4008375]   \n",
       "143                                     [2133910]   \n",
       "442                                     [4058064]   \n",
       "\n",
       "                                             item_id_y  \n",
       "411                                                 []  \n",
       "323                                                 []  \n",
       "379                                                 []  \n",
       "314                                                 []  \n",
       "91   [7064121, 6926697, 7065537, 7064949, 6075575, ...  \n",
       "..                                                 ...  \n",
       "283                                                 []  \n",
       "254                                                 []  \n",
       "164                                          [3758833]  \n",
       "143                                                 []  \n",
       "442               [3649870, 5248744, 5226859, 6998484]  \n",
       "\n",
       "[100 rows x 3 columns]"
      ],
      "text/html": [
       "<div>\n",
       "<style scoped>\n",
       "    .dataframe tbody tr th:only-of-type {\n",
       "        vertical-align: middle;\n",
       "    }\n",
       "\n",
       "    .dataframe tbody tr th {\n",
       "        vertical-align: top;\n",
       "    }\n",
       "\n",
       "    .dataframe thead th {\n",
       "        text-align: right;\n",
       "    }\n",
       "</style>\n",
       "<table border=\"1\" class=\"dataframe\">\n",
       "  <thead>\n",
       "    <tr style=\"text-align: right;\">\n",
       "      <th></th>\n",
       "      <th>user_id</th>\n",
       "      <th>item_id_x</th>\n",
       "      <th>item_id_y</th>\n",
       "    </tr>\n",
       "  </thead>\n",
       "  <tbody>\n",
       "    <tr>\n",
       "      <th>411</th>\n",
       "      <td>cc2e0348-8d2d-11ee-86e0-002590c0647c</td>\n",
       "      <td>[4987300, 4088073, 5066200]</td>\n",
       "      <td>[]</td>\n",
       "    </tr>\n",
       "    <tr>\n",
       "      <th>323</th>\n",
       "      <td>9d3b1990-12bb-11ef-86e0-002590c0647c</td>\n",
       "      <td>[4966585, 615593, 6773805, 5111692, 6168001]</td>\n",
       "      <td>[]</td>\n",
       "    </tr>\n",
       "    <tr>\n",
       "      <th>379</th>\n",
       "      <td>be757f4a-1938-11eb-a6e9-002590c82437</td>\n",
       "      <td>[6530860]</td>\n",
       "      <td>[]</td>\n",
       "    </tr>\n",
       "    <tr>\n",
       "      <th>314</th>\n",
       "      <td>96c440be-5f04-11eb-86e0-002590c0647c</td>\n",
       "      <td>[5919193]</td>\n",
       "      <td>[]</td>\n",
       "    </tr>\n",
       "    <tr>\n",
       "      <th>91</th>\n",
       "      <td>24aff1ca-564c-11ee-86e0-002590c0647c</td>\n",
       "      <td>[1312778, 4946035]</td>\n",
       "      <td>[7064121, 6926697, 7065537, 7064949, 6075575, ...</td>\n",
       "    </tr>\n",
       "    <tr>\n",
       "      <th>...</th>\n",
       "      <td>...</td>\n",
       "      <td>...</td>\n",
       "      <td>...</td>\n",
       "    </tr>\n",
       "    <tr>\n",
       "      <th>283</th>\n",
       "      <td>894491ae-badd-11ee-bbb1-002590c82436</td>\n",
       "      <td>[6436573, 6929214]</td>\n",
       "      <td>[]</td>\n",
       "    </tr>\n",
       "    <tr>\n",
       "      <th>254</th>\n",
       "      <td>76393776-549e-11ef-86e0-002590c0647c</td>\n",
       "      <td>[5182840]</td>\n",
       "      <td>[]</td>\n",
       "    </tr>\n",
       "    <tr>\n",
       "      <th>164</th>\n",
       "      <td>4a69d0c8-bf99-11ee-bbb1-002590c82436</td>\n",
       "      <td>[4008375]</td>\n",
       "      <td>[3758833]</td>\n",
       "    </tr>\n",
       "    <tr>\n",
       "      <th>143</th>\n",
       "      <td>4147a044-6bfb-11ed-86e0-002590c0647c</td>\n",
       "      <td>[2133910]</td>\n",
       "      <td>[]</td>\n",
       "    </tr>\n",
       "    <tr>\n",
       "      <th>442</th>\n",
       "      <td>de73dbc8-6996-11ee-86e0-002590c0647c</td>\n",
       "      <td>[4058064]</td>\n",
       "      <td>[3649870, 5248744, 5226859, 6998484]</td>\n",
       "    </tr>\n",
       "  </tbody>\n",
       "</table>\n",
       "<p>100 rows × 3 columns</p>\n",
       "</div>"
      ]
     },
     "execution_count": 61,
     "metadata": {},
     "output_type": "execute_result"
    }
   ],
   "execution_count": 61
  },
  {
   "metadata": {
    "ExecuteTime": {
     "end_time": "2024-10-12T17:38:24.510544Z",
     "start_time": "2024-10-12T17:38:24.509080Z"
    }
   },
   "cell_type": "code",
   "source": "#### Проверяем полноту фильтрации",
   "id": "de086f09a15b86de",
   "outputs": [],
   "execution_count": 62
  },
  {
   "metadata": {
    "ExecuteTime": {
     "end_time": "2024-10-12T17:38:24.608025Z",
     "start_time": "2024-10-12T17:38:24.600655Z"
    }
   },
   "cell_type": "code",
   "source": [
    "check_merge['recall'] = check_merge.apply(calculate_recall, axis=1)\n",
    "check_merge['recall'].mean().round(4)"
   ],
   "id": "e8b2727593788803",
   "outputs": [
    {
     "data": {
      "text/plain": [
       "0.0563"
      ]
     },
     "execution_count": 63,
     "metadata": {},
     "output_type": "execute_result"
    }
   ],
   "execution_count": 63
  },
  {
   "metadata": {
    "ExecuteTime": {
     "end_time": "2024-10-12T17:38:27.064930Z",
     "start_time": "2024-10-12T17:38:27.062303Z"
    }
   },
   "cell_type": "code",
   "source": "",
   "id": "e708eef45177dc97",
   "outputs": [],
   "execution_count": null
  },
  {
   "metadata": {
    "ExecuteTime": {
     "end_time": "2024-10-12T17:38:27.104598Z",
     "start_time": "2024-10-12T17:38:27.102723Z"
    }
   },
   "cell_type": "code",
   "source": "",
   "id": "8d71105583e8b08a",
   "outputs": [],
   "execution_count": null
  },
  {
   "metadata": {},
   "cell_type": "markdown",
   "source": "#### Используем классификатор чтобы предсказать пользователей с целевыми действиями",
   "id": "18cdcc9d7364760"
  },
  {
   "metadata": {
    "ExecuteTime": {
     "end_time": "2024-10-12T17:38:31.101895Z",
     "start_time": "2024-10-12T17:38:31.077657Z"
    }
   },
   "cell_type": "code",
   "source": "inters['datetime'].min(), inters['datetime'].max()",
   "id": "9ad035ca9ea4811a",
   "outputs": [
    {
     "data": {
      "text/plain": [
       "(Timestamp('2024-09-07 00:00:04'), Timestamp('2024-09-28 23:59:59'))"
      ]
     },
     "execution_count": 64,
     "metadata": {},
     "output_type": "execute_result"
    }
   ],
   "execution_count": 64
  },
  {
   "metadata": {
    "ExecuteTime": {
     "end_time": "2024-10-12T17:38:31.675841Z",
     "start_time": "2024-10-12T17:38:31.221864Z"
    }
   },
   "cell_type": "code",
   "source": [
    "last_3_days = inters['datetime'].max() - pd.Timedelta(3, unit='D')\n",
    "last_8_days = inters['datetime'].max() - pd.Timedelta(27, unit='D')\n",
    "pred_data = inters[(inters['datetime'] > last_8_days) & (inters['datetime'] < last_3_days)]"
   ],
   "id": "2a096716de8d5078",
   "outputs": [],
   "execution_count": 65
  },
  {
   "metadata": {
    "ExecuteTime": {
     "end_time": "2024-10-12T17:39:01.578685Z",
     "start_time": "2024-10-12T17:38:34.429017Z"
    }
   },
   "cell_type": "code",
   "source": "t = h2o.H2OFrame(pred_data[list(x)])",
   "id": "80716113f5edb9d6",
   "outputs": [],
   "execution_count": 66
  },
  {
   "metadata": {
    "ExecuteTime": {
     "end_time": "2024-10-12T17:39:03.919647Z",
     "start_time": "2024-10-12T17:39:03.917388Z"
    }
   },
   "cell_type": "code",
   "source": "t['category_id'] = t['category_id'].asfactor()",
   "id": "7008c5c0f7e486cd",
   "outputs": [],
   "execution_count": 67
  },
  {
   "metadata": {
    "ExecuteTime": {
     "end_time": "2024-10-12T17:39:56.440551Z",
     "start_time": "2024-10-12T17:39:06.257676Z"
    }
   },
   "cell_type": "code",
   "source": "preds = gbm_model.predict(t)",
   "id": "509ee3ee83313321",
   "outputs": [],
   "execution_count": 68
  },
  {
   "metadata": {},
   "cell_type": "markdown",
   "source": "#### Обьединяем предсказания с исходными данными, чтобы фильтровать дальше",
   "id": "dc571a3718d20cae"
  },
  {
   "metadata": {
    "ExecuteTime": {
     "end_time": "2024-10-12T17:40:13.350310Z",
     "start_time": "2024-10-12T17:39:58.753548Z"
    }
   },
   "cell_type": "code",
   "source": [
    "res = pd.concat(\n",
    "    [\n",
    "        pred_data[list(x) + ['weight', 'user_id', 'item_id', 'datetime']].reset_index(drop=True),\n",
    "        preds.as_data_frame().reset_index(drop=True)\n",
    "    ],\n",
    "    axis='columns',\n",
    ")"
   ],
   "id": "4c607291f16cf37f",
   "outputs": [],
   "execution_count": 69
  },
  {
   "metadata": {
    "ExecuteTime": {
     "end_time": "2024-10-12T17:40:16.483339Z",
     "start_time": "2024-10-12T17:40:15.982431Z"
    }
   },
   "cell_type": "code",
   "source": [
    "# Максимальный скор с которым предсказали целевое действие\n",
    "res['score'] = res[res.columns[-10:]].max(axis=1)"
   ],
   "id": "7c40113dbfd5ee58",
   "outputs": [],
   "execution_count": 70
  },
  {
   "metadata": {
    "ExecuteTime": {
     "end_time": "2024-10-12T17:40:19.320699Z",
     "start_time": "2024-10-12T17:40:19.318911Z"
    }
   },
   "cell_type": "code",
   "source": [
    "# Смотрим корреляцию по данным чтобы понять по чему фильтровать\n",
    "# res[list(set(res.columns) - set(['user_id']))].sample(1000).corr()"
   ],
   "id": "9afc6abd0a9bd5a3",
   "outputs": [],
   "execution_count": 71
  },
  {
   "metadata": {
    "ExecuteTime": {
     "end_time": "2024-10-12T17:40:22.122139Z",
     "start_time": "2024-10-12T17:40:22.094186Z"
    }
   },
   "cell_type": "code",
   "source": [
    "mask = (\n",
    "    (res.predict.isin([9]) & (res.score > 0))\n",
    "    # |\n",
    "    # (res.predict.isin([8]) & (res.score > 0.75))\n",
    ")"
   ],
   "id": "f2b8d3dcd807d5d0",
   "outputs": [],
   "execution_count": 72
  },
  {
   "metadata": {
    "ExecuteTime": {
     "end_time": "2024-10-12T17:40:25.066448Z",
     "start_time": "2024-10-12T17:40:25.036716Z"
    }
   },
   "cell_type": "code",
   "source": [
    "# Оцениваем размер таблицы после фильрации\n",
    "res[\n",
    "    mask\n",
    "].groupby('user_id')['item_id'].agg(lambda x: list(map(str, x))[:25]).reset_index().shape"
   ],
   "id": "d54d045a464a8a4c",
   "outputs": [
    {
     "data": {
      "text/plain": [
       "(1606, 2)"
      ]
     },
     "execution_count": 73,
     "metadata": {},
     "output_type": "execute_result"
    }
   ],
   "execution_count": 73
  },
  {
   "metadata": {
    "ExecuteTime": {
     "end_time": "2024-10-12T17:40:30.842385Z",
     "start_time": "2024-10-12T17:40:30.691180Z"
    }
   },
   "cell_type": "code",
   "source": [
    "# Оцениваем количество пользователей, которое удалось \"зацепить\" фильтрацией из теста\n",
    "res[\n",
    "    mask\n",
    "    & (res.user_id.isin(test_purchasers.user_id.unique()))\n",
    "].groupby('user_id')['item_id'].agg(lambda x: list(set(map(str, x)))[:25]).reset_index().shape"
   ],
   "id": "936c3aae07a92e79",
   "outputs": [
    {
     "data": {
      "text/plain": [
       "(146, 2)"
      ]
     },
     "execution_count": 74,
     "metadata": {},
     "output_type": "execute_result"
    }
   ],
   "execution_count": 74
  },
  {
   "metadata": {
    "ExecuteTime": {
     "end_time": "2024-10-12T17:40:34.421671Z",
     "start_time": "2024-10-12T17:40:34.275020Z"
    }
   },
   "cell_type": "code",
   "source": [
    "ml_users = res[\n",
    "    mask\n",
    "    & (res.user_id.isin(test_purchasers.user_id.unique()))\n",
    "].groupby('user_id')['item_id'].agg(lambda x: list(set(map(str, x)))[:25]).reset_index().user_id.to_list()"
   ],
   "id": "cac4660dfa1e65d5",
   "outputs": [],
   "execution_count": 75
  },
  {
   "metadata": {
    "ExecuteTime": {
     "end_time": "2024-10-12T17:40:37.601955Z",
     "start_time": "2024-10-12T17:40:37.597222Z"
    }
   },
   "cell_type": "code",
   "source": [
    "print(len(pred_purchasers.user_id.unique()))\n",
    "print(len(ml_users))\n",
    "print(len(set(ml_users).intersection(set(pred_purchasers.user_id.unique()))))"
   ],
   "id": "77a775ce8ff3632c",
   "outputs": [
    {
     "name": "stdout",
     "output_type": "stream",
     "text": [
      "3074\n",
      "146\n",
      "116\n"
     ]
    }
   ],
   "execution_count": 76
  },
  {
   "metadata": {
    "ExecuteTime": {
     "end_time": "2024-10-12T17:40:37.725140Z",
     "start_time": "2024-10-12T17:40:37.723330Z"
    }
   },
   "cell_type": "code",
   "source": "",
   "id": "97668af004d32ac1",
   "outputs": [],
   "execution_count": null
  },
  {
   "metadata": {
    "ExecuteTime": {
     "end_time": "2024-10-12T17:40:40.863627Z",
     "start_time": "2024-10-12T17:40:40.823778Z"
    }
   },
   "cell_type": "code",
   "source": [
    "# Генерим таблицу с кандидатами по результатам мл - предсказания\n",
    "ml_pred = res[\n",
    "    mask\n",
    "].sort_values(by=['weight'], ascending=False).groupby('user_id')['item_id'].agg(\n",
    "    lambda x: [y for y in (set(map(str, x))) if y != '-1'][:25]\n",
    ").reset_index()\n",
    "ml_pred.shape"
   ],
   "id": "4fecc641289068c",
   "outputs": [
    {
     "data": {
      "text/plain": [
       "(1606, 2)"
      ]
     },
     "execution_count": 77,
     "metadata": {},
     "output_type": "execute_result"
    }
   ],
   "execution_count": 77
  },
  {
   "metadata": {
    "ExecuteTime": {
     "end_time": "2024-10-12T17:40:43.729595Z",
     "start_time": "2024-10-12T17:40:43.726383Z"
    }
   },
   "cell_type": "code",
   "source": [
    "# Напоминание о размере таблицы с кандидатами после обычной фильтрации - оставшееся от 3000 строк место мы заполнили результатами мл\n",
    "pred_purchasers.shape"
   ],
   "id": "e0591e5a8ff67720",
   "outputs": [
    {
     "data": {
      "text/plain": [
       "(3074, 2)"
      ]
     },
     "execution_count": 78,
     "metadata": {},
     "output_type": "execute_result"
    }
   ],
   "execution_count": 78
  },
  {
   "metadata": {
    "ExecuteTime": {
     "end_time": "2024-10-12T17:40:55.108387Z",
     "start_time": "2024-10-12T17:40:55.101675Z"
    }
   },
   "cell_type": "code",
   "source": [
    "data_to_check = pd.concat(\n",
    "    [\n",
    "        ml_pred.reset_index(drop=True),\n",
    "        pred_purchasers.reset_index(drop=True),\n",
    "    ],\n",
    "    axis='rows'\n",
    ")\n",
    "print(data_to_check.shape)\n",
    "data_to_check = data_to_check.drop_duplicates(subset='user_id', keep='last') # .reset_index(drop=True)\n",
    "print(data_to_check[data_to_check.user_id.isin(test_purchasers.user_id.unique())].shape)\n",
    "data_to_check.shape"
   ],
   "id": "bf424e0840c3fdca",
   "outputs": [
    {
     "name": "stdout",
     "output_type": "stream",
     "text": [
      "(4680, 2)\n",
      "(344, 2)\n"
     ]
    },
    {
     "data": {
      "text/plain": [
       "(3733, 2)"
      ]
     },
     "execution_count": 79,
     "metadata": {},
     "output_type": "execute_result"
    }
   ],
   "execution_count": 79
  },
  {
   "metadata": {
    "ExecuteTime": {
     "end_time": "2024-10-12T17:40:58.740107Z",
     "start_time": "2024-10-12T17:40:58.736922Z"
    }
   },
   "cell_type": "code",
   "source": [
    "# Ограничим резульат 3000 строк (как по условию). Так как данные обычной фильтрации эффективнее и они в конце обьединенных данных - ограничим с конца\n",
    "data_to_check[-3000:].shape"
   ],
   "id": "7e97f625035edf8a",
   "outputs": [
    {
     "data": {
      "text/plain": [
       "(3000, 2)"
      ]
     },
     "execution_count": 80,
     "metadata": {},
     "output_type": "execute_result"
    }
   ],
   "execution_count": 80
  },
  {
   "metadata": {},
   "cell_type": "markdown",
   "source": "#### Проверяем результат локально на данных фильтрация + мл",
   "id": "cf4f7af1874236d7"
  },
  {
   "metadata": {
    "ExecuteTime": {
     "end_time": "2024-10-12T17:41:01.768841Z",
     "start_time": "2024-10-12T17:41:01.758287Z"
    }
   },
   "cell_type": "code",
   "source": [
    "# check_merge_ml = test_purchasers.merge(data_to_check.sample(3000, random_state=42), on='user_id', how='left')\n",
    "check_merge_ml = test_purchasers.merge(data_to_check[-3000:], on='user_id', how='left')\n",
    "check_merge_ml.item_id_y.loc[check_merge_ml.item_id_y.isnull()] = check_merge_ml.item_id_y.loc[check_merge_ml.item_id_y.isnull()].apply(lambda x: [])\n",
    "print(check_merge_ml.shape)\n",
    "check_merge_ml['recall'] = check_merge_ml.apply(calculate_recall, axis=1)\n",
    "check_merge_ml['recall'].mean().round(4)"
   ],
   "id": "38a2437811180840",
   "outputs": [
    {
     "name": "stdout",
     "output_type": "stream",
     "text": [
      "(496, 3)\n"
     ]
    },
    {
     "data": {
      "text/plain": [
       "0.0563"
      ]
     },
     "execution_count": 81,
     "metadata": {},
     "output_type": "execute_result"
    }
   ],
   "execution_count": 81
  },
  {
   "metadata": {
    "ExecuteTime": {
     "end_time": "2024-10-12T17:41:05.089141Z",
     "start_time": "2024-10-12T17:41:05.087421Z"
    }
   },
   "cell_type": "code",
   "source": "",
   "id": "5fc85e854d30f27c",
   "outputs": [],
   "execution_count": null
  },
  {
   "metadata": {},
   "cell_type": "markdown",
   "source": [
    "### Построение рекомендаций \n",
    "дополним данные после фильрации товарами на основе \"оценок\" пользователей (ценность действия интерпретируем как оценку)"
   ],
   "id": "b7ed9351358d87e3"
  },
  {
   "metadata": {},
   "cell_type": "markdown",
   "source": "#### Построение модели",
   "id": "756b9be360307a10"
  },
  {
   "metadata": {
    "ExecuteTime": {
     "end_time": "2024-10-12T17:41:08.085164Z",
     "start_time": "2024-10-12T17:41:08.083020Z"
    }
   },
   "cell_type": "code",
   "source": [
    "K_RECOS = 25\n",
    "NUM_THREADS = 24\n",
    "RANDOM_STATE = 32\n",
    "ITERATIONS = 25"
   ],
   "id": "2a979d8d60da505d",
   "outputs": [],
   "execution_count": 82
  },
  {
   "metadata": {
    "ExecuteTime": {
     "end_time": "2024-10-12T17:41:08.101050Z",
     "start_time": "2024-10-12T17:41:08.089726Z"
    }
   },
   "cell_type": "code",
   "source": [
    "def make_base_model(factors: int, regularization: float, alpha: float, fit_features_together: bool=False):\n",
    "    return ImplicitALSWrapperModel(\n",
    "        AlternatingLeastSquares(\n",
    "            factors=factors,\n",
    "            regularization=regularization,\n",
    "            alpha=alpha,\n",
    "            random_state=RANDOM_STATE,\n",
    "            use_gpu=False,\n",
    "            num_threads = NUM_THREADS,\n",
    "            iterations=ITERATIONS),\n",
    "        fit_features_together = fit_features_together,\n",
    "        )"
   ],
   "id": "c76217e904af56de",
   "outputs": [],
   "execution_count": 83
  },
  {
   "metadata": {
    "ExecuteTime": {
     "end_time": "2024-10-12T17:41:13.798346Z",
     "start_time": "2024-10-12T17:41:13.796756Z"
    }
   },
   "cell_type": "code",
   "source": "",
   "id": "b431ae38edd475c5",
   "outputs": [],
   "execution_count": null
  },
  {
   "metadata": {
    "ExecuteTime": {
     "end_time": "2024-10-12T17:41:14.263170Z",
     "start_time": "2024-10-12T17:41:13.845729Z"
    }
   },
   "cell_type": "code",
   "source": [
    "last_3_days = inters['datetime'].max() - pd.Timedelta(3, unit='D')\n",
    "last_8_days = inters['datetime'].max() - pd.Timedelta(27, unit='D')\n",
    "recos_data = inters[\n",
    "    (inters['datetime'] > last_8_days)\n",
    "    & (inters['datetime'] < last_3_days) \n",
    "    # & ((inters['weight'] > 3))   # дейсвтия ниже 5 не привязаны к товару, чтобы не рекомендовать -1 и сэкономить на размере входных данных - фильтруем\n",
    "]"
   ],
   "id": "24ff12b544a9ff36",
   "outputs": [],
   "execution_count": 84
  },
  {
   "metadata": {
    "ExecuteTime": {
     "end_time": "2024-10-12T20:26:11.603892Z",
     "start_time": "2024-10-12T20:26:11.541448Z"
    }
   },
   "cell_type": "code",
   "source": [
    "items = _catalog.rename(columns={'product_id': 'item_id'})\n",
    "\n",
    "items = items.loc[items['item_id'].isin(recos_data['item_id'])].copy()\n",
    "\n",
    "genre_feature = items[[\"item_id\", \"category_id\"]].explode(\"category_id\")\n",
    "genre_feature.columns = [\"id\", \"value\"]\n",
    "genre_feature[\"feature\"] = \"category_id\"\n",
    "item_features = pd.concat((genre_feature,))"
   ],
   "id": "c9049f3dd5d6aae2",
   "outputs": [],
   "execution_count": 731
  },
  {
   "metadata": {
    "ExecuteTime": {
     "end_time": "2024-10-12T20:26:12.163208Z",
     "start_time": "2024-10-12T20:26:12.155955Z"
    }
   },
   "cell_type": "code",
   "source": "item_features.sample(3)",
   "id": "afb2cc1ae4d8cb5d",
   "outputs": [
    {
     "data": {
      "text/plain": [
       "            id  value      feature\n",
       "65657  6220858  16647  category_id\n",
       "10966  1813223   8927  category_id\n",
       "54318  5480137   7022  category_id"
      ],
      "text/html": [
       "<div>\n",
       "<style scoped>\n",
       "    .dataframe tbody tr th:only-of-type {\n",
       "        vertical-align: middle;\n",
       "    }\n",
       "\n",
       "    .dataframe tbody tr th {\n",
       "        vertical-align: top;\n",
       "    }\n",
       "\n",
       "    .dataframe thead th {\n",
       "        text-align: right;\n",
       "    }\n",
       "</style>\n",
       "<table border=\"1\" class=\"dataframe\">\n",
       "  <thead>\n",
       "    <tr style=\"text-align: right;\">\n",
       "      <th></th>\n",
       "      <th>id</th>\n",
       "      <th>value</th>\n",
       "      <th>feature</th>\n",
       "    </tr>\n",
       "  </thead>\n",
       "  <tbody>\n",
       "    <tr>\n",
       "      <th>65657</th>\n",
       "      <td>6220858</td>\n",
       "      <td>16647</td>\n",
       "      <td>category_id</td>\n",
       "    </tr>\n",
       "    <tr>\n",
       "      <th>10966</th>\n",
       "      <td>1813223</td>\n",
       "      <td>8927</td>\n",
       "      <td>category_id</td>\n",
       "    </tr>\n",
       "    <tr>\n",
       "      <th>54318</th>\n",
       "      <td>5480137</td>\n",
       "      <td>7022</td>\n",
       "      <td>category_id</td>\n",
       "    </tr>\n",
       "  </tbody>\n",
       "</table>\n",
       "</div>"
      ]
     },
     "execution_count": 732,
     "metadata": {},
     "output_type": "execute_result"
    }
   ],
   "execution_count": 732
  },
  {
   "metadata": {
    "ExecuteTime": {
     "end_time": "2024-10-12T20:35:15.779902Z",
     "start_time": "2024-10-12T20:35:14.772476Z"
    }
   },
   "cell_type": "code",
   "source": "len(actions.loc_user_id.unique()), len(actions.pageId.unique()), len(items.category_id.unique()), len(inters.loc_user_count.unique()) ",
   "id": "cb93115e617f6cb2",
   "outputs": [
    {
     "data": {
      "text/plain": [
       "(488970, 1421245, 1235, 1294)"
      ]
     },
     "execution_count": 747,
     "metadata": {},
     "output_type": "execute_result"
    }
   ],
   "execution_count": 747
  },
  {
   "metadata": {
    "ExecuteTime": {
     "end_time": "2024-10-12T20:37:47.970653Z",
     "start_time": "2024-10-12T20:37:44.883843Z"
    }
   },
   "cell_type": "code",
   "source": [
    "users = inters.dropna(subset=['loc_user_count']).copy()\n",
    "\n",
    "users = users.loc[users['user_id'].isin(recos_data['user_id'])].copy()\n",
    "\n",
    "feature_frame = users.reindex(columns=['user_id', 'loc_user_count'])\n",
    "feature_frame.columns = [\"id\", \"value\"]\n",
    "feature_frame[\"feature\"] = 'loc_user_count'\n",
    "user_features = pd.concat((feature_frame,))"
   ],
   "id": "772dcf66c7ed0741",
   "outputs": [],
   "execution_count": 752
  },
  {
   "metadata": {
    "ExecuteTime": {
     "end_time": "2024-10-12T20:38:03.784629Z",
     "start_time": "2024-10-12T20:38:03.613546Z"
    }
   },
   "cell_type": "code",
   "source": "user_features.sample(3)",
   "id": "5281ebee2e2e3adf",
   "outputs": [
    {
     "data": {
      "text/plain": [
       "                                           id  value         feature\n",
       "1021367  e0e61258-7111-11ef-9b7b-002590c82436      8  loc_user_count\n",
       "5105930  0143e38e-f8c8-11ea-8a53-0cc47a6d2fef   2962  loc_user_count\n",
       "5950962  bd8d2610-94a7-11eb-a6e9-002590c82437     74  loc_user_count"
      ],
      "text/html": [
       "<div>\n",
       "<style scoped>\n",
       "    .dataframe tbody tr th:only-of-type {\n",
       "        vertical-align: middle;\n",
       "    }\n",
       "\n",
       "    .dataframe tbody tr th {\n",
       "        vertical-align: top;\n",
       "    }\n",
       "\n",
       "    .dataframe thead th {\n",
       "        text-align: right;\n",
       "    }\n",
       "</style>\n",
       "<table border=\"1\" class=\"dataframe\">\n",
       "  <thead>\n",
       "    <tr style=\"text-align: right;\">\n",
       "      <th></th>\n",
       "      <th>id</th>\n",
       "      <th>value</th>\n",
       "      <th>feature</th>\n",
       "    </tr>\n",
       "  </thead>\n",
       "  <tbody>\n",
       "    <tr>\n",
       "      <th>1021367</th>\n",
       "      <td>e0e61258-7111-11ef-9b7b-002590c82436</td>\n",
       "      <td>8</td>\n",
       "      <td>loc_user_count</td>\n",
       "    </tr>\n",
       "    <tr>\n",
       "      <th>5105930</th>\n",
       "      <td>0143e38e-f8c8-11ea-8a53-0cc47a6d2fef</td>\n",
       "      <td>2962</td>\n",
       "      <td>loc_user_count</td>\n",
       "    </tr>\n",
       "    <tr>\n",
       "      <th>5950962</th>\n",
       "      <td>bd8d2610-94a7-11eb-a6e9-002590c82437</td>\n",
       "      <td>74</td>\n",
       "      <td>loc_user_count</td>\n",
       "    </tr>\n",
       "  </tbody>\n",
       "</table>\n",
       "</div>"
      ]
     },
     "execution_count": 755,
     "metadata": {},
     "output_type": "execute_result"
    }
   ],
   "execution_count": 755
  },
  {
   "metadata": {
    "ExecuteTime": {
     "end_time": "2024-10-12T20:38:05.312539Z",
     "start_time": "2024-10-12T20:38:05.294540Z"
    }
   },
   "cell_type": "code",
   "source": "recos_data.weight.unique()",
   "id": "feaaf4f26e413175",
   "outputs": [
    {
     "data": {
      "text/plain": [
       "array([0, 1, 2, 3, 4, 5, 6, 7, 8, 9])"
      ]
     },
     "execution_count": 756,
     "metadata": {},
     "output_type": "execute_result"
    }
   ],
   "execution_count": 756
  },
  {
   "metadata": {
    "ExecuteTime": {
     "end_time": "2024-10-12T20:42:11.112246Z",
     "start_time": "2024-10-12T20:38:17.108379Z"
    }
   },
   "cell_type": "code",
   "source": [
    "recs_dataset = Dataset.construct(\n",
    "    interactions_df=recos_data[['user_id', 'item_id', 'weight', 'datetime']],\n",
    "    # user_features_df=user_features,\n",
    "    # cat_user_features=[\"loc_user_count\"],\n",
    "    item_features_df=item_features,\n",
    "    cat_item_features=[\"category_id\"],\n",
    ")\n",
    "\n",
    "model = make_base_model(factors=256, regularization=0.2, alpha=100)\n",
    "model.fit(recs_dataset)"
   ],
   "id": "6d652d721b1a922c",
   "outputs": [
    {
     "data": {
      "text/plain": [
       "  0%|          | 0/1 [00:00<?, ?it/s]"
      ],
      "application/vnd.jupyter.widget-view+json": {
       "version_major": 2,
       "version_minor": 0,
       "model_id": "86974f4bf5784c28a606480687e18389"
      }
     },
     "metadata": {},
     "output_type": "display_data"
    },
    {
     "data": {
      "text/plain": [
       "  0%|          | 0/1 [00:00<?, ?it/s]"
      ],
      "application/vnd.jupyter.widget-view+json": {
       "version_major": 2,
       "version_minor": 0,
       "model_id": "56d36221f6f74ac49fc1bb8c2ea9f67f"
      }
     },
     "metadata": {},
     "output_type": "display_data"
    },
    {
     "data": {
      "text/plain": [
       "<rectools.models.implicit_als.ImplicitALSWrapperModel at 0x74548015eed0>"
      ]
     },
     "execution_count": 758,
     "metadata": {},
     "output_type": "execute_result"
    }
   ],
   "execution_count": 758
  },
  {
   "metadata": {
    "ExecuteTime": {
     "end_time": "2024-10-12T20:42:28.711618Z",
     "start_time": "2024-10-12T20:42:15.672695Z"
    }
   },
   "cell_type": "code",
   "source": [
    "recos = model.recommend(\n",
    "    users=data_to_check[-3000:].user_id,\n",
    "    dataset=recs_dataset,\n",
    "    k=20,\n",
    "    filter_viewed=False,\n",
    ")"
   ],
   "id": "e4dab274d782581a",
   "outputs": [],
   "execution_count": 759
  },
  {
   "metadata": {
    "ExecuteTime": {
     "end_time": "2024-10-12T20:42:29.916014Z",
     "start_time": "2024-10-12T20:42:29.911403Z"
    }
   },
   "cell_type": "code",
   "source": "recos = recos[recos.item_id > -1]",
   "id": "15653f013cc89695",
   "outputs": [],
   "execution_count": 760
  },
  {
   "metadata": {
    "ExecuteTime": {
     "end_time": "2024-10-12T20:42:30.243651Z",
     "start_time": "2024-10-12T20:42:30.242035Z"
    }
   },
   "cell_type": "code",
   "source": "",
   "id": "237914981f8f6682",
   "outputs": [],
   "execution_count": null
  },
  {
   "metadata": {},
   "cell_type": "markdown",
   "source": "#### Дополняем данные с предыдущих предсказаний (фильтрация + ml) ",
   "id": "dbf96e9618c2aa55"
  },
  {
   "metadata": {
    "ExecuteTime": {
     "end_time": "2024-10-12T20:42:30.722593Z",
     "start_time": "2024-10-12T20:42:30.685446Z"
    }
   },
   "cell_type": "code",
   "source": "recos_agg = recos.groupby('user_id')['item_id'].agg(lambda x: list(map(str, x))).reset_index()",
   "id": "ace9ca55b8ca263",
   "outputs": [],
   "execution_count": 761
  },
  {
   "metadata": {
    "ExecuteTime": {
     "end_time": "2024-10-12T20:42:31.164209Z",
     "start_time": "2024-10-12T20:42:31.154746Z"
    }
   },
   "cell_type": "code",
   "source": [
    "recos_agg_selected_uid = recos_agg[\n",
    "    recos_agg.user_id.isin(\n",
    "        data_to_check[-3000:].user_id\n",
    "    )\n",
    "]"
   ],
   "id": "f21bb1e0291b115e",
   "outputs": [],
   "execution_count": 762
  },
  {
   "metadata": {
    "ExecuteTime": {
     "end_time": "2024-10-12T20:42:31.592259Z",
     "start_time": "2024-10-12T20:42:31.588750Z"
    }
   },
   "cell_type": "code",
   "source": "recos_agg_selected_uid.shape",
   "id": "19423cc75ee0229",
   "outputs": [
    {
     "data": {
      "text/plain": [
       "(3000, 2)"
      ]
     },
     "execution_count": 763,
     "metadata": {},
     "output_type": "execute_result"
    }
   ],
   "execution_count": 763
  },
  {
   "metadata": {
    "ExecuteTime": {
     "end_time": "2024-10-12T20:42:31.956931Z",
     "start_time": "2024-10-12T20:42:31.950989Z"
    }
   },
   "cell_type": "code",
   "source": [
    "# Объединяем рекомендации с предсказанями фильтрацией и мл\n",
    "enriched_data_to_check = data_to_check[-3000:].merge(recos_agg_selected_uid, on='user_id', how='left')"
   ],
   "id": "a91bbd7f6b42311a",
   "outputs": [],
   "execution_count": 764
  },
  {
   "metadata": {
    "ExecuteTime": {
     "end_time": "2024-10-12T20:42:32.418393Z",
     "start_time": "2024-10-12T20:42:32.415124Z"
    }
   },
   "cell_type": "code",
   "source": "enriched_data_to_check.columns",
   "id": "12e644962bd8eea2",
   "outputs": [
    {
     "data": {
      "text/plain": [
       "Index(['user_id', 'item_id_x', 'item_id_y'], dtype='object')"
      ]
     },
     "execution_count": 765,
     "metadata": {},
     "output_type": "execute_result"
    }
   ],
   "execution_count": 765
  },
  {
   "metadata": {
    "ExecuteTime": {
     "end_time": "2024-10-12T20:42:32.776840Z",
     "start_time": "2024-10-12T20:42:32.772322Z"
    }
   },
   "cell_type": "code",
   "source": [
    "# Заполняем nan пустыми списками для корректного расчета метрики\n",
    "enriched_data_to_check.item_id_y.loc[enriched_data_to_check.item_id_y.isnull()] = enriched_data_to_check.item_id_y.loc[enriched_data_to_check.item_id_y.isnull()].apply(lambda x: [])"
   ],
   "id": "81053f9e282beee7",
   "outputs": [],
   "execution_count": 766
  },
  {
   "metadata": {
    "ExecuteTime": {
     "end_time": "2024-10-12T20:42:33.205689Z",
     "start_time": "2024-10-12T20:42:33.201597Z"
    }
   },
   "cell_type": "code",
   "source": [
    "# Обьединяем исходное предсказание рекомендациями по rectools - сначала исходные айди, потом рекоммендации (порядок важен, тк далее оставляем только 25 элементов списка)\n",
    "enriched_data_to_check['item_id'] = enriched_data_to_check['item_id_x'] + enriched_data_to_check['item_id_y']"
   ],
   "id": "d535010dd8203776",
   "outputs": [],
   "execution_count": 767
  },
  {
   "metadata": {
    "ExecuteTime": {
     "end_time": "2024-10-12T20:42:33.462420Z",
     "start_time": "2024-10-12T20:42:33.447125Z"
    }
   },
   "cell_type": "code",
   "source": [
    "# Убеждаемся что добавлением новых товаров мы не вышли \n",
    "enriched_data_to_check['item_id'] = enriched_data_to_check['item_id'].apply(lambda x: sorted(list(set(x[:25])), reverse=True))"
   ],
   "id": "676c823cbb3a2c82",
   "outputs": [],
   "execution_count": 768
  },
  {
   "metadata": {
    "ExecuteTime": {
     "end_time": "2024-10-12T20:42:34.571661Z",
     "start_time": "2024-10-12T20:42:34.567755Z"
    }
   },
   "cell_type": "code",
   "source": [
    "enriched_data_to_check['products_count'] = enriched_data_to_check['item_id'].apply(len)\n",
    "enriched_data_to_check['products_count'].mean()"
   ],
   "id": "4c3dc27bda2589c7",
   "outputs": [
    {
     "data": {
      "text/plain": [
       "21.514333333333333"
      ]
     },
     "execution_count": 769,
     "metadata": {},
     "output_type": "execute_result"
    }
   ],
   "execution_count": 769
  },
  {
   "metadata": {
    "ExecuteTime": {
     "end_time": "2024-10-12T20:42:35.268665Z",
     "start_time": "2024-10-12T20:42:35.266026Z"
    }
   },
   "cell_type": "code",
   "source": "enriched_data_to_check = enriched_data_to_check[['user_id', 'item_id']]",
   "id": "787e6e120926c0f8",
   "outputs": [],
   "execution_count": 770
  },
  {
   "metadata": {
    "ExecuteTime": {
     "end_time": "2024-10-12T20:42:35.810675Z",
     "start_time": "2024-10-12T20:42:35.806035Z"
    }
   },
   "cell_type": "code",
   "source": "enriched_data_to_check.drop_duplicates(subset=['user_id']).shape",
   "id": "2a699c3f67dc091e",
   "outputs": [
    {
     "data": {
      "text/plain": [
       "(3000, 2)"
      ]
     },
     "execution_count": 771,
     "metadata": {},
     "output_type": "execute_result"
    }
   ],
   "execution_count": 771
  },
  {
   "metadata": {
    "ExecuteTime": {
     "end_time": "2024-10-12T20:42:36.296264Z",
     "start_time": "2024-10-12T20:42:36.286567Z"
    }
   },
   "cell_type": "code",
   "source": [
    "check_merge_ml = test_purchasers.merge(enriched_data_to_check[-3000:], on='user_id', how='left')\n",
    "check_merge_ml.item_id_y.loc[check_merge_ml.item_id_y.isnull()] = check_merge_ml.item_id_y.loc[check_merge_ml.item_id_y.isnull()].apply(lambda x: [])\n",
    "print(check_merge_ml.shape)\n",
    "check_merge_ml['recall'] = check_merge_ml.apply(calculate_recall, axis=1)\n",
    "check_merge_ml['recall'].mean().round(4)"
   ],
   "id": "2f78de4bca3db947",
   "outputs": [
    {
     "name": "stdout",
     "output_type": "stream",
     "text": [
      "(496, 3)\n"
     ]
    },
    {
     "data": {
      "text/plain": [
       "0.0857"
      ]
     },
     "execution_count": 772,
     "metadata": {},
     "output_type": "execute_result"
    }
   ],
   "execution_count": 772
  },
  {
   "metadata": {
    "ExecuteTime": {
     "end_time": "2024-10-12T20:18:40.094993Z",
     "start_time": "2024-10-12T20:18:40.093230Z"
    }
   },
   "cell_type": "code",
   "source": "",
   "id": "6995bf5b371144ee",
   "outputs": [],
   "execution_count": null
  },
  {
   "metadata": {
    "ExecuteTime": {
     "end_time": "2024-10-12T20:08:18.672407Z",
     "start_time": "2024-10-12T20:08:18.670352Z"
    }
   },
   "cell_type": "code",
   "source": "",
   "id": "40df2af073215d1e",
   "outputs": [],
   "execution_count": null
  },
  {
   "metadata": {},
   "cell_type": "markdown",
   "source": "### Сохраняем результаты",
   "id": "c2f3bbb02c579c0e"
  },
  {
   "metadata": {
    "ExecuteTime": {
     "end_time": "2024-10-12T16:24:12.134185Z",
     "start_time": "2024-10-12T16:24:12.113813Z"
    }
   },
   "cell_type": "code",
   "source": "enriched_data_to_check.rename(columns={'item_id': 'products'}).reset_index().to_csv(\"r_final.csv\", index=False)",
   "id": "6533fd075d463a8b",
   "outputs": [],
   "execution_count": 1446
  },
  {
   "metadata": {
    "ExecuteTime": {
     "end_time": "2024-10-12T16:24:12.155425Z",
     "start_time": "2024-10-12T16:24:12.146419Z"
    }
   },
   "cell_type": "code",
   "source": "pd.read_csv('r_final.csv').shape",
   "id": "c0ecc478bd15bf87",
   "outputs": [
    {
     "data": {
      "text/plain": [
       "(3000, 3)"
      ]
     },
     "execution_count": 1447,
     "metadata": {},
     "output_type": "execute_result"
    }
   ],
   "execution_count": 1447
  },
  {
   "metadata": {
    "ExecuteTime": {
     "end_time": "2024-10-11T18:43:37.274224Z",
     "start_time": "2024-10-11T18:43:37.271920Z"
    }
   },
   "cell_type": "code",
   "outputs": [],
   "source": "",
   "id": "d863abf0bb1e67d8",
   "execution_count": null
  },
  {
   "metadata": {
    "ExecuteTime": {
     "end_time": "2024-10-12T19:55:48.181475Z",
     "start_time": "2024-10-12T19:55:48.170983Z"
    }
   },
   "cell_type": "code",
   "source": "",
   "id": "2739db0f3171a8d3",
   "outputs": [],
   "execution_count": null
  },
  {
   "metadata": {
    "ExecuteTime": {
     "end_time": "2024-10-12T19:55:48.415464Z",
     "start_time": "2024-10-12T19:55:48.412451Z"
    }
   },
   "cell_type": "code",
   "source": "",
   "id": "ae92da6258d84fed",
   "outputs": [],
   "execution_count": 524
  },
  {
   "metadata": {
    "ExecuteTime": {
     "end_time": "2024-10-12T20:46:38.732230Z",
     "start_time": "2024-10-12T20:46:38.609391Z"
    }
   },
   "cell_type": "code",
   "source": [
    "catalog = pd.read_parquet(f'{Path.cwd().parent}/data/stokman_catalog_preprocessed.pq', engine='pyarrow')\n",
    "catalog.head()\n",
    "\n",
    "catalog['desc'] = catalog['category_id'].astype(str) + ' ' + catalog['title']\n",
    "catalog = catalog.drop_duplicates(subset='product_id').reset_index(drop=True)\n",
    "catalog = catalog.dropna(subset=['desc'])\n",
    "catalog.shape"
   ],
   "id": "196b1c34e558f18d",
   "outputs": [
    {
     "data": {
      "text/plain": [
       "(89483, 8)"
      ]
     },
     "execution_count": 775,
     "metadata": {},
     "output_type": "execute_result"
    }
   ],
   "execution_count": 775
  },
  {
   "metadata": {
    "ExecuteTime": {
     "end_time": "2024-10-12T20:46:42.700794Z",
     "start_time": "2024-10-12T20:46:39.007897Z"
    }
   },
   "cell_type": "code",
   "source": [
    "documents = catalog.desc.dropna().to_list()\n",
    "print(len(documents))\n",
    "vectorizer = TfidfVectorizer(lowercase=False)\n",
    "tfidf_matrix = vectorizer.fit_transform(documents).toarray().astype('float32')"
   ],
   "id": "429802d2498f1017",
   "outputs": [
    {
     "name": "stdout",
     "output_type": "stream",
     "text": [
      "89483\n"
     ]
    }
   ],
   "execution_count": 776
  },
  {
   "metadata": {
    "ExecuteTime": {
     "end_time": "2024-10-12T19:58:28.047041Z",
     "start_time": "2024-10-12T19:55:55.529708Z"
    }
   },
   "cell_type": "code",
   "source": "index = create_index_hnsw(tfidf_matrix)",
   "id": "9b0b372ac4581d6f",
   "outputs": [],
   "execution_count": 527
  },
  {
   "metadata": {
    "ExecuteTime": {
     "end_time": "2024-10-12T19:58:28.157428Z",
     "start_time": "2024-10-12T19:58:28.155569Z"
    }
   },
   "cell_type": "code",
   "source": "# dict(zip(vectorizer.vocabulary_, vectorizer.idf_)) ",
   "id": "35e3099035168af9",
   "outputs": [],
   "execution_count": 529
  },
  {
   "metadata": {
    "ExecuteTime": {
     "end_time": "2024-10-12T20:47:14.597073Z",
     "start_time": "2024-10-12T20:47:14.592244Z"
    }
   },
   "cell_type": "code",
   "source": [
    "query_vector = vectorizer.transform(['230 38721 36072 46732 26240 32815',])\n",
    "\n",
    "N = 1\n",
    "_, indices = index.search(query_vector.toarray().reshape(1, -1), 4) \n",
    "for indx in range(N):\n",
    "    match = catalog.iloc[indices[0][indx]].to_dict()\n",
    "    print(match['product_id'], ' ', match['desc'])\n",
    "    "
   ],
   "id": "f3655a49691d9410",
   "outputs": [
    {
     "name": "stdout",
     "output_type": "stream",
     "text": [
      "5920453   230 38721 36072 46732 26240 32815\n"
     ]
    }
   ],
   "execution_count": 780
  },
  {
   "metadata": {
    "ExecuteTime": {
     "end_time": "2024-10-12T20:48:28.580914Z",
     "start_time": "2024-10-12T20:48:28.576807Z"
    }
   },
   "cell_type": "code",
   "source": [
    "def get_similar(x):\n",
    "    res = []\n",
    "    for y in x[:4]:\n",
    "        cand = catalog[catalog.product_id == y]\n",
    "        if cand.shape[0] > 0:\n",
    "            to_match = cand.desc.values[0]\n",
    "            query_vector = vectorizer.transform([to_match, ])\n",
    "            _, indices = index.search(query_vector.toarray().reshape(1, -1), 2)\n",
    "            match1 = catalog.iloc[indices[0][0]].to_dict()\n",
    "            match2 = catalog.iloc[indices[0][1]].to_dict()\n",
    "            res.append(match1['product_id'])\n",
    "            res.append(match2['product_id'])\n",
    "    return res"
   ],
   "id": "fabbe4620f5c4ce3",
   "outputs": [],
   "execution_count": 786
  },
  {
   "metadata": {
    "ExecuteTime": {
     "end_time": "2024-10-12T20:48:30.469362Z",
     "start_time": "2024-10-12T20:48:30.466737Z"
    }
   },
   "cell_type": "code",
   "source": "enriched_data_to_check_w_similar = enriched_data_to_check.copy()",
   "id": "637a59eae9bf8f02",
   "outputs": [],
   "execution_count": 787
  },
  {
   "metadata": {
    "ExecuteTime": {
     "end_time": "2024-10-12T20:49:28.543048Z",
     "start_time": "2024-10-12T20:48:30.738141Z"
    }
   },
   "cell_type": "code",
   "source": "enriched_data_to_check_w_similar['items_sim']  = enriched_data_to_check_w_similar['item_id'].apply(lambda x: get_similar(x))",
   "id": "9773f2bfae7e6e25",
   "outputs": [],
   "execution_count": 788
  },
  {
   "metadata": {
    "ExecuteTime": {
     "end_time": "2024-10-12T20:49:42.040599Z",
     "start_time": "2024-10-12T20:49:42.033501Z"
    }
   },
   "cell_type": "code",
   "source": [
    "# Убеждаемся что добавлением новых товаров мы не вышли \n",
    "enriched_data_to_check_w_similar['item_id'] = enriched_data_to_check_w_similar['item_id'] + enriched_data_to_check_w_similar['items_sim'].apply(lambda x: list(set(x)))"
   ],
   "id": "c3c88ee891ccd8f6",
   "outputs": [],
   "execution_count": 789
  },
  {
   "metadata": {
    "ExecuteTime": {
     "end_time": "2024-10-12T20:49:43.997480Z",
     "start_time": "2024-10-12T20:49:43.977274Z"
    }
   },
   "cell_type": "code",
   "source": "enriched_data_to_check_w_similar['item_id'] = enriched_data_to_check_w_similar['item_id'].apply(lambda x: sorted(list(set(x[:25])), reverse=True))",
   "id": "24420341df21eac3",
   "outputs": [],
   "execution_count": 790
  },
  {
   "metadata": {
    "ExecuteTime": {
     "end_time": "2024-10-12T20:49:44.646287Z",
     "start_time": "2024-10-12T20:49:44.642132Z"
    }
   },
   "cell_type": "code",
   "source": [
    "enriched_data_to_check_w_similar['products_count'] = enriched_data_to_check_w_similar['item_id'].apply(len)\n",
    "enriched_data_to_check_w_similar['products_count'].mean()"
   ],
   "id": "a89a926a41991209",
   "outputs": [
    {
     "data": {
      "text/plain": [
       "23.474"
      ]
     },
     "execution_count": 791,
     "metadata": {},
     "output_type": "execute_result"
    }
   ],
   "execution_count": 791
  },
  {
   "metadata": {
    "ExecuteTime": {
     "end_time": "2024-10-12T20:49:45.243835Z",
     "start_time": "2024-10-12T20:49:45.234765Z"
    }
   },
   "cell_type": "code",
   "source": "enriched_data_to_check_w_similar.sample(5)",
   "id": "d0e1dd45a2e291fb",
   "outputs": [
    {
     "data": {
      "text/plain": [
       "                                   user_id  \\\n",
       "1207  6ce9e6ac-4383-11ee-86e0-002590c0647c   \n",
       "166   15492920-4c9f-11ed-8644-002590c82437   \n",
       "1978  a95cc5ca-025f-11ed-bf62-002590c82437   \n",
       "2459  d162bc0e-31b3-11e8-a0d7-002590e45c38   \n",
       "2157  b8ae1e90-5b84-11ef-86e0-002590c0647c   \n",
       "\n",
       "                                                item_id  \\\n",
       "1207  [787768, 734339, 6606440, 6438154, 6438151, 64...   \n",
       "166   [718659, 718652, 6886686, 6588035, 6422179, 64...   \n",
       "1978  [5880976, 5880442, 5418100, 5313529, 5313490, ...   \n",
       "2459  [6655476, 6627677, 6627675, 6481510, 6481492, ...   \n",
       "2157  [6534112, 6534088, 6534079, 6534028, 6534001, ...   \n",
       "\n",
       "                                              items_sim  products_count  \n",
       "1207  [787768, 4964878, 1334129, 1335152, 6652005, 6...              25  \n",
       "166   [718652, 718659, 6886686, 1041541, 6588035, 59...              24  \n",
       "1978  [5880976, 5880442, 5418100, 5399602, 5313490, ...              23  \n",
       "2459  [6655476, 6110206, 6627675, 6627677, 6481492, ...              24  \n",
       "2157  [6533962, 6534088, 6533962, 6534088, 6533944, ...              21  "
      ],
      "text/html": [
       "<div>\n",
       "<style scoped>\n",
       "    .dataframe tbody tr th:only-of-type {\n",
       "        vertical-align: middle;\n",
       "    }\n",
       "\n",
       "    .dataframe tbody tr th {\n",
       "        vertical-align: top;\n",
       "    }\n",
       "\n",
       "    .dataframe thead th {\n",
       "        text-align: right;\n",
       "    }\n",
       "</style>\n",
       "<table border=\"1\" class=\"dataframe\">\n",
       "  <thead>\n",
       "    <tr style=\"text-align: right;\">\n",
       "      <th></th>\n",
       "      <th>user_id</th>\n",
       "      <th>item_id</th>\n",
       "      <th>items_sim</th>\n",
       "      <th>products_count</th>\n",
       "    </tr>\n",
       "  </thead>\n",
       "  <tbody>\n",
       "    <tr>\n",
       "      <th>1207</th>\n",
       "      <td>6ce9e6ac-4383-11ee-86e0-002590c0647c</td>\n",
       "      <td>[787768, 734339, 6606440, 6438154, 6438151, 64...</td>\n",
       "      <td>[787768, 4964878, 1334129, 1335152, 6652005, 6...</td>\n",
       "      <td>25</td>\n",
       "    </tr>\n",
       "    <tr>\n",
       "      <th>166</th>\n",
       "      <td>15492920-4c9f-11ed-8644-002590c82437</td>\n",
       "      <td>[718659, 718652, 6886686, 6588035, 6422179, 64...</td>\n",
       "      <td>[718652, 718659, 6886686, 1041541, 6588035, 59...</td>\n",
       "      <td>24</td>\n",
       "    </tr>\n",
       "    <tr>\n",
       "      <th>1978</th>\n",
       "      <td>a95cc5ca-025f-11ed-bf62-002590c82437</td>\n",
       "      <td>[5880976, 5880442, 5418100, 5313529, 5313490, ...</td>\n",
       "      <td>[5880976, 5880442, 5418100, 5399602, 5313490, ...</td>\n",
       "      <td>23</td>\n",
       "    </tr>\n",
       "    <tr>\n",
       "      <th>2459</th>\n",
       "      <td>d162bc0e-31b3-11e8-a0d7-002590e45c38</td>\n",
       "      <td>[6655476, 6627677, 6627675, 6481510, 6481492, ...</td>\n",
       "      <td>[6655476, 6110206, 6627675, 6627677, 6481492, ...</td>\n",
       "      <td>24</td>\n",
       "    </tr>\n",
       "    <tr>\n",
       "      <th>2157</th>\n",
       "      <td>b8ae1e90-5b84-11ef-86e0-002590c0647c</td>\n",
       "      <td>[6534112, 6534088, 6534079, 6534028, 6534001, ...</td>\n",
       "      <td>[6533962, 6534088, 6533962, 6534088, 6533944, ...</td>\n",
       "      <td>21</td>\n",
       "    </tr>\n",
       "  </tbody>\n",
       "</table>\n",
       "</div>"
      ]
     },
     "execution_count": 792,
     "metadata": {},
     "output_type": "execute_result"
    }
   ],
   "execution_count": 792
  },
  {
   "metadata": {
    "ExecuteTime": {
     "end_time": "2024-10-12T20:49:46.171705Z",
     "start_time": "2024-10-12T20:49:46.160852Z"
    }
   },
   "cell_type": "code",
   "source": [
    "check_merge_ml = test_purchasers.merge(enriched_data_to_check_w_similar[-3000:], on='user_id', how='left')\n",
    "check_merge_ml.item_id_y.loc[check_merge_ml.item_id_y.isnull()] = check_merge_ml.item_id_y.loc[check_merge_ml.item_id_y.isnull()].apply(lambda x: [])\n",
    "print(check_merge_ml.shape)\n",
    "check_merge_ml['recall'] = check_merge_ml.apply(calculate_recall, axis=1)\n",
    "check_merge_ml['recall'].mean().round(4)"
   ],
   "id": "ef545c52ed19d730",
   "outputs": [
    {
     "name": "stdout",
     "output_type": "stream",
     "text": [
      "(496, 5)\n"
     ]
    },
    {
     "data": {
      "text/plain": [
       "0.0857"
      ]
     },
     "execution_count": 793,
     "metadata": {},
     "output_type": "execute_result"
    }
   ],
   "execution_count": 793
  },
  {
   "metadata": {},
   "cell_type": "code",
   "outputs": [],
   "execution_count": null,
   "source": "",
   "id": "4c6911b9fd715390"
  },
  {
   "metadata": {},
   "cell_type": "code",
   "outputs": [],
   "execution_count": null,
   "source": "",
   "id": "69e00c9e4decd673"
  },
  {
   "metadata": {
    "ExecuteTime": {
     "end_time": "2024-10-10T11:43:02.271963Z",
     "start_time": "2024-10-10T11:43:02.237844Z"
    }
   },
   "cell_type": "code",
   "outputs": [],
   "execution_count": 176,
   "source": [
    "# Не забываем выключить кластер h2o на локальной машине\n",
    "h2o.cluster().shutdown()"
   ],
   "id": "86e0213bf4b74754"
  },
  {
   "metadata": {},
   "cell_type": "code",
   "outputs": [],
   "source": "",
   "id": "9fe39f68ddcdd212",
   "execution_count": null
  }
 ],
 "metadata": {
  "kernelspec": {
   "display_name": "Python 3",
   "language": "python",
   "name": "python3"
  },
  "language_info": {
   "codemirror_mode": {
    "name": "ipython",
    "version": 2
   },
   "file_extension": ".py",
   "mimetype": "text/x-python",
   "name": "python",
   "nbconvert_exporter": "python",
   "pygments_lexer": "ipython2",
   "version": "2.7.6"
  }
 },
 "nbformat": 4,
 "nbformat_minor": 5
}
