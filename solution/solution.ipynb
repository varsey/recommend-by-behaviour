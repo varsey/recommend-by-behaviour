{
 "cells": [
  {
   "cell_type": "code",
   "id": "initial_id",
   "metadata": {
    "collapsed": true,
    "ExecuteTime": {
     "end_time": "2024-10-11T06:10:30.127325Z",
     "start_time": "2024-10-11T06:10:30.124248Z"
    }
   },
   "source": [
    "from pathlib import Path\n",
    "\n",
    "import numpy as np\n",
    "import pandas as pd\n"
   ],
   "outputs": [],
   "execution_count": 9
  },
  {
   "metadata": {
    "ExecuteTime": {
     "end_time": "2024-10-11T06:10:30.718632Z",
     "start_time": "2024-10-11T06:10:30.716055Z"
    }
   },
   "cell_type": "code",
   "source": [
    "import h2o\n",
    "from h2o.estimators.gbm import H2OGradientBoostingEstimator\n"
   ],
   "id": "5802908c400af4a0",
   "outputs": [],
   "execution_count": 10
  },
  {
   "metadata": {},
   "cell_type": "code",
   "outputs": [],
   "execution_count": null,
   "source": [
    "import os\n",
    "import threadpoolctl\n",
    "import warnings\n",
    "\n",
    "import seaborn as sns\n",
    "\n",
    "from rectools.metrics import MAP, calc_metrics, MeanInvUserFreq, Serendipity\n",
    "from rectools.models import ImplicitALSWrapperModel\n",
    "from rectools.dataset import Dataset\n",
    "from implicit.als import AlternatingLeastSquares\n",
    "\n",
    "warnings.filterwarnings('ignore')\n",
    "sns.set_theme(style=\"whitegrid\")\n",
    "\n",
    "# For implicit ALS\n",
    "os.environ[\"OPENBLAS_NUM_THREADS\"] = \"1\"\n",
    "threadpoolctl.threadpool_limits(1, \"blas\")"
   ],
   "id": "8a30bde391d9e196"
  },
  {
   "metadata": {
    "ExecuteTime": {
     "end_time": "2024-10-11T06:10:31.084898Z",
     "start_time": "2024-10-11T06:10:31.026472Z"
    }
   },
   "cell_type": "code",
   "source": [
    "catalog = pd.read_parquet(f'{Path.cwd().parent}/data/stokman_catalog_preprocessed.pq', engine='pyarrow')\n",
    "catalog.head()"
   ],
   "id": "ed039728e851bc93",
   "outputs": [
    {
     "data": {
      "text/plain": [
       "             add_date shop_id product_id category_id  price  \\\n",
       "0 2024-09-30 03:07:09     350    1025536        8922   6990   \n",
       "1 2024-09-19 03:07:08     350    1025614       10600    330   \n",
       "2 2024-09-30 03:07:09     350    1025656         231  13240   \n",
       "3 2024-09-30 03:07:09     350    1025659       14546   7550   \n",
       "4 2024-09-30 03:07:09     350    1025668        1949   1290   \n",
       "\n",
       "                                       title  old_price  \n",
       "0               6048 48557 44342 53515 17614       6990  \n",
       "1          42548 40244 23485 10853 6545 2343        330  \n",
       "2  14034 42002 48557 56089 46836 55620 50785      26490  \n",
       "3        32640 50164 48557 25314 23255 42146      12590  \n",
       "4                    51789 48557 56089 20149       1290  "
      ],
      "text/html": [
       "<div>\n",
       "<style scoped>\n",
       "    .dataframe tbody tr th:only-of-type {\n",
       "        vertical-align: middle;\n",
       "    }\n",
       "\n",
       "    .dataframe tbody tr th {\n",
       "        vertical-align: top;\n",
       "    }\n",
       "\n",
       "    .dataframe thead th {\n",
       "        text-align: right;\n",
       "    }\n",
       "</style>\n",
       "<table border=\"1\" class=\"dataframe\">\n",
       "  <thead>\n",
       "    <tr style=\"text-align: right;\">\n",
       "      <th></th>\n",
       "      <th>add_date</th>\n",
       "      <th>shop_id</th>\n",
       "      <th>product_id</th>\n",
       "      <th>category_id</th>\n",
       "      <th>price</th>\n",
       "      <th>title</th>\n",
       "      <th>old_price</th>\n",
       "    </tr>\n",
       "  </thead>\n",
       "  <tbody>\n",
       "    <tr>\n",
       "      <th>0</th>\n",
       "      <td>2024-09-30 03:07:09</td>\n",
       "      <td>350</td>\n",
       "      <td>1025536</td>\n",
       "      <td>8922</td>\n",
       "      <td>6990</td>\n",
       "      <td>6048 48557 44342 53515 17614</td>\n",
       "      <td>6990</td>\n",
       "    </tr>\n",
       "    <tr>\n",
       "      <th>1</th>\n",
       "      <td>2024-09-19 03:07:08</td>\n",
       "      <td>350</td>\n",
       "      <td>1025614</td>\n",
       "      <td>10600</td>\n",
       "      <td>330</td>\n",
       "      <td>42548 40244 23485 10853 6545 2343</td>\n",
       "      <td>330</td>\n",
       "    </tr>\n",
       "    <tr>\n",
       "      <th>2</th>\n",
       "      <td>2024-09-30 03:07:09</td>\n",
       "      <td>350</td>\n",
       "      <td>1025656</td>\n",
       "      <td>231</td>\n",
       "      <td>13240</td>\n",
       "      <td>14034 42002 48557 56089 46836 55620 50785</td>\n",
       "      <td>26490</td>\n",
       "    </tr>\n",
       "    <tr>\n",
       "      <th>3</th>\n",
       "      <td>2024-09-30 03:07:09</td>\n",
       "      <td>350</td>\n",
       "      <td>1025659</td>\n",
       "      <td>14546</td>\n",
       "      <td>7550</td>\n",
       "      <td>32640 50164 48557 25314 23255 42146</td>\n",
       "      <td>12590</td>\n",
       "    </tr>\n",
       "    <tr>\n",
       "      <th>4</th>\n",
       "      <td>2024-09-30 03:07:09</td>\n",
       "      <td>350</td>\n",
       "      <td>1025668</td>\n",
       "      <td>1949</td>\n",
       "      <td>1290</td>\n",
       "      <td>51789 48557 56089 20149</td>\n",
       "      <td>1290</td>\n",
       "    </tr>\n",
       "  </tbody>\n",
       "</table>\n",
       "</div>"
      ]
     },
     "execution_count": 11,
     "metadata": {},
     "output_type": "execute_result"
    }
   ],
   "execution_count": 11
  },
  {
   "metadata": {
    "ExecuteTime": {
     "end_time": "2024-10-11T06:10:34.135879Z",
     "start_time": "2024-10-11T06:10:31.539627Z"
    }
   },
   "cell_type": "code",
   "source": [
    "actions = pd.read_parquet(f'{Path.cwd().parent}/data/train_actions_sorted.pq', engine='pyarrow')\n",
    "actions.head()"
   ],
   "id": "981e162b35596c1",
   "outputs": [
    {
     "data": {
      "text/plain": [
       "                                user_id                           loc_user_id  \\\n",
       "0  6fd49b56-8cc6-11ed-86e0-002590c0647c  c6e357dc-121d-449d-a744-e9a0b56c2380   \n",
       "1  6fd49b56-8cc6-11ed-86e0-002590c0647c  c6e357dc-121d-449d-a744-e9a0b56c2380   \n",
       "2  f9c498ec-5d3b-11ef-86e0-002590c0647c  120c9064-1131-4dc3-8048-44184531b42e   \n",
       "3  59386b5c-e64f-11ec-8086-002590c82437  f0745572-893f-4e50-bc52-5af47badff5a   \n",
       "4  badbd396-6cab-11ef-86e0-002590c0647c  73423d85-d47c-4332-8155-5200615302b5   \n",
       "\n",
       "   action                date products      pageId  \n",
       "0       7 2024-09-07 00:00:04       []  2571824865  \n",
       "1       7 2024-09-07 00:00:08       []  3834364438  \n",
       "2       7 2024-09-07 00:00:08       []  2448628415  \n",
       "3       7 2024-09-07 00:00:11       []  3875013967  \n",
       "4       7 2024-09-07 00:00:11       []  3025531174  "
      ],
      "text/html": [
       "<div>\n",
       "<style scoped>\n",
       "    .dataframe tbody tr th:only-of-type {\n",
       "        vertical-align: middle;\n",
       "    }\n",
       "\n",
       "    .dataframe tbody tr th {\n",
       "        vertical-align: top;\n",
       "    }\n",
       "\n",
       "    .dataframe thead th {\n",
       "        text-align: right;\n",
       "    }\n",
       "</style>\n",
       "<table border=\"1\" class=\"dataframe\">\n",
       "  <thead>\n",
       "    <tr style=\"text-align: right;\">\n",
       "      <th></th>\n",
       "      <th>user_id</th>\n",
       "      <th>loc_user_id</th>\n",
       "      <th>action</th>\n",
       "      <th>date</th>\n",
       "      <th>products</th>\n",
       "      <th>pageId</th>\n",
       "    </tr>\n",
       "  </thead>\n",
       "  <tbody>\n",
       "    <tr>\n",
       "      <th>0</th>\n",
       "      <td>6fd49b56-8cc6-11ed-86e0-002590c0647c</td>\n",
       "      <td>c6e357dc-121d-449d-a744-e9a0b56c2380</td>\n",
       "      <td>7</td>\n",
       "      <td>2024-09-07 00:00:04</td>\n",
       "      <td>[]</td>\n",
       "      <td>2571824865</td>\n",
       "    </tr>\n",
       "    <tr>\n",
       "      <th>1</th>\n",
       "      <td>6fd49b56-8cc6-11ed-86e0-002590c0647c</td>\n",
       "      <td>c6e357dc-121d-449d-a744-e9a0b56c2380</td>\n",
       "      <td>7</td>\n",
       "      <td>2024-09-07 00:00:08</td>\n",
       "      <td>[]</td>\n",
       "      <td>3834364438</td>\n",
       "    </tr>\n",
       "    <tr>\n",
       "      <th>2</th>\n",
       "      <td>f9c498ec-5d3b-11ef-86e0-002590c0647c</td>\n",
       "      <td>120c9064-1131-4dc3-8048-44184531b42e</td>\n",
       "      <td>7</td>\n",
       "      <td>2024-09-07 00:00:08</td>\n",
       "      <td>[]</td>\n",
       "      <td>2448628415</td>\n",
       "    </tr>\n",
       "    <tr>\n",
       "      <th>3</th>\n",
       "      <td>59386b5c-e64f-11ec-8086-002590c82437</td>\n",
       "      <td>f0745572-893f-4e50-bc52-5af47badff5a</td>\n",
       "      <td>7</td>\n",
       "      <td>2024-09-07 00:00:11</td>\n",
       "      <td>[]</td>\n",
       "      <td>3875013967</td>\n",
       "    </tr>\n",
       "    <tr>\n",
       "      <th>4</th>\n",
       "      <td>badbd396-6cab-11ef-86e0-002590c0647c</td>\n",
       "      <td>73423d85-d47c-4332-8155-5200615302b5</td>\n",
       "      <td>7</td>\n",
       "      <td>2024-09-07 00:00:11</td>\n",
       "      <td>[]</td>\n",
       "      <td>3025531174</td>\n",
       "    </tr>\n",
       "  </tbody>\n",
       "</table>\n",
       "</div>"
      ]
     },
     "execution_count": 12,
     "metadata": {},
     "output_type": "execute_result"
    }
   ],
   "execution_count": 12
  },
  {
   "metadata": {},
   "cell_type": "markdown",
   "source": "#### Разворачиваем данные по айдишникам продуктов",
   "id": "56e5db1a6058946c"
  },
  {
   "metadata": {
    "ExecuteTime": {
     "end_time": "2024-10-11T06:15:21.129312Z",
     "start_time": "2024-10-11T06:15:17.700048Z"
    }
   },
   "cell_type": "code",
   "source": [
    "_actions = (\n",
    "    actions\n",
    "    .copy()\n",
    "    .explode('products')\n",
    "    .assign(products=lambda x: x.products.fillna(-1).astype(np.int64))\n",
    ")\n",
    "print(_actions.shape)\n",
    "\n",
    "_catalog = (\n",
    "    catalog\n",
    "    .copy()\n",
    "    .assign(product_id=lambda x: x.product_id.astype(np.int64))\n",
    ")"
   ],
   "id": "3e0c476cbb5adeb0",
   "outputs": [
    {
     "name": "stdout",
     "output_type": "stream",
     "text": [
      "(6859002, 6)\n"
     ]
    }
   ],
   "execution_count": 38
  },
  {
   "metadata": {},
   "cell_type": "markdown",
   "source": "#### Разворачиваем данные по айдишникам продуктов",
   "id": "8ab92b6327317d65"
  },
  {
   "metadata": {
    "ExecuteTime": {
     "end_time": "2024-10-11T06:15:21.963610Z",
     "start_time": "2024-10-11T06:15:21.241223Z"
    }
   },
   "cell_type": "code",
   "source": [
    "_actions['action_datetime'] = pd.to_datetime(_actions['date'])\n",
    "\n",
    "_actions.action = _actions.action + 10\n",
    "_actions.action = _actions.action.replace({14: 0, 13: 1, 18: 2, 19: 3, 10: 5, 17: 4, 11: 6, 12: 7, 16: 8, 15: 9})\n",
    "print(_actions.shape)"
   ],
   "id": "33bc13582ac56739",
   "outputs": [
    {
     "name": "stdout",
     "output_type": "stream",
     "text": [
      "(6859002, 7)\n"
     ]
    }
   ],
   "execution_count": 39
  },
  {
   "metadata": {},
   "cell_type": "markdown",
   "source": [
    "#### Новая шкала action в train_actions.pq в порядке возрастания важности\n",
    "    0 - clearB (удаление всех товаров из корзины)\n",
    "    1 - delB (удаление товара из корзины)\n",
    "    2 - visitCategory (посещение страницы с группой товаров)\n",
    "    3 - search (поиск товара)           \n",
    "    4 - visit (посещение страницы с товаром)\n",
    "    5 - view (просмотр товара)\n",
    "    6 - like (лайк товара)\n",
    "    7 - addB (добавление товара в корзину)\n",
    "    8 - listB (посещение страницы корзины и вывод списка товаров в корзине)\n",
    "    9 - order (оформление заказа)\n",
    "    "
   ],
   "id": "61bff49bb1302804"
  },
  {
   "metadata": {},
   "cell_type": "markdown",
   "source": "#### переименовываем поля и обьеденияем датасеты каталога и дейсвтвий пользователя    ",
   "id": "edbf3590e0fdcf21"
  },
  {
   "metadata": {
    "ExecuteTime": {
     "end_time": "2024-10-11T06:22:18.829328Z",
     "start_time": "2024-10-11T06:22:18.003226Z"
    }
   },
   "cell_type": "code",
   "source": [
    "interactions = _actions.rename(columns={'products': 'item_id', 'action' : 'weight', 'action_datetime': 'datetime'})\n",
    "interactions = interactions[interactions['item_id'] != '/*']"
   ],
   "id": "9cf4c400c2eb31f2",
   "outputs": [],
   "execution_count": 69
  },
  {
   "metadata": {
    "ExecuteTime": {
     "end_time": "2024-10-11T06:22:20.666319Z",
     "start_time": "2024-10-11T06:22:20.658884Z"
    }
   },
   "cell_type": "code",
   "source": "items = _catalog.rename(columns={'product_id': 'item_id'})",
   "id": "44b6d7a792587132",
   "outputs": [],
   "execution_count": 70
  },
  {
   "metadata": {
    "ExecuteTime": {
     "end_time": "2024-10-11T06:22:21.579147Z",
     "start_time": "2024-10-11T06:22:20.801826Z"
    }
   },
   "cell_type": "code",
   "source": [
    "interactions_merge = interactions.merge(items, on='item_id', how='left')\n",
    "interactions_merge.shape"
   ],
   "id": "29511698b4b25a81",
   "outputs": [
    {
     "data": {
      "text/plain": [
       "(6859002, 13)"
      ]
     },
     "execution_count": 71,
     "metadata": {},
     "output_type": "execute_result"
    }
   ],
   "execution_count": 71
  },
  {
   "metadata": {
    "ExecuteTime": {
     "end_time": "2024-10-11T06:22:21.678025Z",
     "start_time": "2024-10-11T06:22:21.676154Z"
    }
   },
   "cell_type": "code",
   "source": "",
   "id": "7c8783798665e5f4",
   "outputs": [],
   "execution_count": null
  },
  {
   "metadata": {
    "ExecuteTime": {
     "end_time": "2024-10-11T06:23:17.290534Z",
     "start_time": "2024-10-11T06:23:17.110938Z"
    }
   },
   "cell_type": "code",
   "source": "interactions_merge.sample()",
   "id": "7ce4c88e7890eea6",
   "outputs": [
    {
     "data": {
      "text/plain": [
       "                                      user_id  \\\n",
       "2358390  187bdc62-2009-11ee-86e0-002590c0647c   \n",
       "\n",
       "                                  loc_user_id  weight                date  \\\n",
       "2358390  4481bd75-b221-41ad-83c4-774b87c761aa       5 2024-09-14 21:18:47   \n",
       "\n",
       "         item_id      pageId            datetime            add_date shop_id  \\\n",
       "2358390  5139433  4258660424 2024-09-14 21:18:47 2024-09-30 03:07:09     350   \n",
       "\n",
       "        category_id   price                    title  old_price  \n",
       "2358390        2111  6590.0  38730 46732 15745 32899     6590.0  "
      ],
      "text/html": [
       "<div>\n",
       "<style scoped>\n",
       "    .dataframe tbody tr th:only-of-type {\n",
       "        vertical-align: middle;\n",
       "    }\n",
       "\n",
       "    .dataframe tbody tr th {\n",
       "        vertical-align: top;\n",
       "    }\n",
       "\n",
       "    .dataframe thead th {\n",
       "        text-align: right;\n",
       "    }\n",
       "</style>\n",
       "<table border=\"1\" class=\"dataframe\">\n",
       "  <thead>\n",
       "    <tr style=\"text-align: right;\">\n",
       "      <th></th>\n",
       "      <th>user_id</th>\n",
       "      <th>loc_user_id</th>\n",
       "      <th>weight</th>\n",
       "      <th>date</th>\n",
       "      <th>item_id</th>\n",
       "      <th>pageId</th>\n",
       "      <th>datetime</th>\n",
       "      <th>add_date</th>\n",
       "      <th>shop_id</th>\n",
       "      <th>category_id</th>\n",
       "      <th>price</th>\n",
       "      <th>title</th>\n",
       "      <th>old_price</th>\n",
       "    </tr>\n",
       "  </thead>\n",
       "  <tbody>\n",
       "    <tr>\n",
       "      <th>2358390</th>\n",
       "      <td>187bdc62-2009-11ee-86e0-002590c0647c</td>\n",
       "      <td>4481bd75-b221-41ad-83c4-774b87c761aa</td>\n",
       "      <td>5</td>\n",
       "      <td>2024-09-14 21:18:47</td>\n",
       "      <td>5139433</td>\n",
       "      <td>4258660424</td>\n",
       "      <td>2024-09-14 21:18:47</td>\n",
       "      <td>2024-09-30 03:07:09</td>\n",
       "      <td>350</td>\n",
       "      <td>2111</td>\n",
       "      <td>6590.0</td>\n",
       "      <td>38730 46732 15745 32899</td>\n",
       "      <td>6590.0</td>\n",
       "    </tr>\n",
       "  </tbody>\n",
       "</table>\n",
       "</div>"
      ]
     },
     "execution_count": 72,
     "metadata": {},
     "output_type": "execute_result"
    }
   ],
   "execution_count": 72
  },
  {
   "metadata": {
    "ExecuteTime": {
     "end_time": "2024-10-11T06:23:24.664479Z",
     "start_time": "2024-10-11T06:23:24.572801Z"
    }
   },
   "cell_type": "code",
   "source": "sorted(interactions_merge.weight.unique()), len(interactions_merge.category_id.unique()), len(interactions_merge.pageId.unique())",
   "id": "cd5ab3bb681ee06",
   "outputs": [
    {
     "data": {
      "text/plain": [
       "([0, 1, 2, 3, 4, 5, 6, 7, 8, 9], 1244)"
      ]
     },
     "execution_count": 73,
     "metadata": {},
     "output_type": "execute_result"
    }
   ],
   "execution_count": 73
  },
  {
   "metadata": {
    "ExecuteTime": {
     "end_time": "2024-10-11T06:23:24.918817Z",
     "start_time": "2024-10-11T06:23:24.916857Z"
    }
   },
   "cell_type": "code",
   "source": "",
   "id": "5682102e6c9e76af",
   "outputs": [],
   "execution_count": null
  },
  {
   "metadata": {
    "ExecuteTime": {
     "end_time": "2024-10-11T06:23:25.403038Z",
     "start_time": "2024-10-11T06:23:25.090557Z"
    }
   },
   "cell_type": "code",
   "source": [
    "interactions_merge['day'] = interactions_merge['datetime'].dt.day\n",
    "interactions_merge['day_of_week'] = interactions_merge['datetime'].dt.dayofweek  # Monday=0, Sunday=6\n",
    "\n",
    "interactions_merge['hour'] = interactions_merge['datetime'].dt.hour\n",
    "interactions_merge['minute'] = interactions_merge['datetime'].dt.minute"
   ],
   "id": "59042b7e4bce6aa9",
   "outputs": [],
   "execution_count": 74
  },
  {
   "metadata": {
    "ExecuteTime": {
     "end_time": "2024-10-11T06:23:25.698247Z",
     "start_time": "2024-10-11T06:23:25.514611Z"
    }
   },
   "cell_type": "code",
   "source": "interactions_merge.sample()",
   "id": "7deb8b86c8e37802",
   "outputs": [
    {
     "data": {
      "text/plain": [
       "                                      user_id  \\\n",
       "3954326  e38dc35e-a3c4-11ee-86e0-002590c0647c   \n",
       "\n",
       "                                  loc_user_id  weight                date  \\\n",
       "3954326  2c09d985-5ab6-495b-b10a-02d6d7501605       2 2024-09-20 06:12:05   \n",
       "\n",
       "         item_id     pageId            datetime add_date shop_id category_id  \\\n",
       "3954326       -1  171370293 2024-09-20 06:12:05      NaT     NaN         NaN   \n",
       "\n",
       "         price title  old_price  day  day_of_week  hour  minute  \n",
       "3954326    NaN   NaN        NaN   20            4     6      12  "
      ],
      "text/html": [
       "<div>\n",
       "<style scoped>\n",
       "    .dataframe tbody tr th:only-of-type {\n",
       "        vertical-align: middle;\n",
       "    }\n",
       "\n",
       "    .dataframe tbody tr th {\n",
       "        vertical-align: top;\n",
       "    }\n",
       "\n",
       "    .dataframe thead th {\n",
       "        text-align: right;\n",
       "    }\n",
       "</style>\n",
       "<table border=\"1\" class=\"dataframe\">\n",
       "  <thead>\n",
       "    <tr style=\"text-align: right;\">\n",
       "      <th></th>\n",
       "      <th>user_id</th>\n",
       "      <th>loc_user_id</th>\n",
       "      <th>weight</th>\n",
       "      <th>date</th>\n",
       "      <th>item_id</th>\n",
       "      <th>pageId</th>\n",
       "      <th>datetime</th>\n",
       "      <th>add_date</th>\n",
       "      <th>shop_id</th>\n",
       "      <th>category_id</th>\n",
       "      <th>price</th>\n",
       "      <th>title</th>\n",
       "      <th>old_price</th>\n",
       "      <th>day</th>\n",
       "      <th>day_of_week</th>\n",
       "      <th>hour</th>\n",
       "      <th>minute</th>\n",
       "    </tr>\n",
       "  </thead>\n",
       "  <tbody>\n",
       "    <tr>\n",
       "      <th>3954326</th>\n",
       "      <td>e38dc35e-a3c4-11ee-86e0-002590c0647c</td>\n",
       "      <td>2c09d985-5ab6-495b-b10a-02d6d7501605</td>\n",
       "      <td>2</td>\n",
       "      <td>2024-09-20 06:12:05</td>\n",
       "      <td>-1</td>\n",
       "      <td>171370293</td>\n",
       "      <td>2024-09-20 06:12:05</td>\n",
       "      <td>NaT</td>\n",
       "      <td>NaN</td>\n",
       "      <td>NaN</td>\n",
       "      <td>NaN</td>\n",
       "      <td>NaN</td>\n",
       "      <td>NaN</td>\n",
       "      <td>20</td>\n",
       "      <td>4</td>\n",
       "      <td>6</td>\n",
       "      <td>12</td>\n",
       "    </tr>\n",
       "  </tbody>\n",
       "</table>\n",
       "</div>"
      ]
     },
     "execution_count": 75,
     "metadata": {},
     "output_type": "execute_result"
    }
   ],
   "execution_count": 75
  },
  {
   "metadata": {
    "ExecuteTime": {
     "end_time": "2024-10-11T06:23:26.104303Z",
     "start_time": "2024-10-11T06:23:26.101518Z"
    }
   },
   "cell_type": "code",
   "source": "interactions_merge.shape",
   "id": "3cd0b388845914f2",
   "outputs": [
    {
     "data": {
      "text/plain": [
       "(6859002, 17)"
      ]
     },
     "execution_count": 76,
     "metadata": {},
     "output_type": "execute_result"
    }
   ],
   "execution_count": 76
  },
  {
   "metadata": {
    "ExecuteTime": {
     "end_time": "2024-10-11T06:23:49.578752Z",
     "start_time": "2024-10-11T06:23:49.575822Z"
    }
   },
   "cell_type": "code",
   "source": "",
   "id": "b99dc1ca02040ce5",
   "outputs": [],
   "execution_count": null
  },
  {
   "metadata": {
    "ExecuteTime": {
     "end_time": "2024-10-11T06:23:54.800826Z",
     "start_time": "2024-10-11T06:23:54.498969Z"
    }
   },
   "cell_type": "code",
   "source": [
    "interactions_merge['price_diff'] = interactions_merge['price'] - interactions_merge['old_price']\n",
    "\n",
    "interactions_merge['category_id'] = interactions_merge['category_id'].fillna(0)\n",
    "interactions_merge['price_diff'] = interactions_merge['price_diff'].fillna(0)"
   ],
   "id": "e1baf5098e5fb6a5",
   "outputs": [],
   "execution_count": 78
  },
  {
   "metadata": {
    "ExecuteTime": {
     "end_time": "2024-10-11T06:28:35.865593Z",
     "start_time": "2024-10-11T06:28:33.137550Z"
    }
   },
   "cell_type": "code",
   "source": [
    "inters = interactions_merge.merge(\n",
    "    interactions_merge.groupby('user_id')['loc_user_id'].count().reset_index(name='count'),\n",
    "    on='user_id',\n",
    "    how='left'\n",
    ")\n",
    "print(inters.shape)"
   ],
   "id": "dbeec347bf647835",
   "outputs": [
    {
     "name": "stdout",
     "output_type": "stream",
     "text": [
      "(6859002, 19)\n"
     ]
    }
   ],
   "execution_count": 83
  },
  {
   "metadata": {
    "ExecuteTime": {
     "end_time": "2024-10-11T10:21:10.589071Z",
     "start_time": "2024-10-11T10:21:10.587301Z"
    }
   },
   "cell_type": "code",
   "source": "",
   "id": "57fdee436f311726",
   "outputs": [],
   "execution_count": null
  },
  {
   "metadata": {
    "ExecuteTime": {
     "end_time": "2024-10-11T06:28:48.952225Z",
     "start_time": "2024-10-11T06:28:36.597408Z"
    }
   },
   "cell_type": "code",
   "source": [
    "for action in sorted(interactions_merge.weight.unique()):\n",
    "    inters = inters.merge(\n",
    "        interactions_merge[interactions_merge.weight  == action].groupby('user_id')['weight'].count().reset_index(name=f'action_{action}_count'),\n",
    "        on='user_id',\n",
    "        how='left'\n",
    "    )\n",
    "    inters[f'action_{action}_count'] = inters[f'action_{action}_count'].fillna(0)\n",
    "print(inters.shape)"
   ],
   "id": "e1bacf3c6ee6e617",
   "outputs": [
    {
     "name": "stdout",
     "output_type": "stream",
     "text": [
      "(6859002, 29)\n"
     ]
    }
   ],
   "execution_count": 84
  },
  {
   "metadata": {
    "ExecuteTime": {
     "end_time": "2024-10-11T06:29:02.908404Z",
     "start_time": "2024-10-11T06:29:02.717752Z"
    }
   },
   "cell_type": "code",
   "source": "inters.sample(20)",
   "id": "2113ec301a479237",
   "outputs": [
    {
     "data": {
      "text/plain": [
       "                                      user_id  \\\n",
       "5213890  2c5cf89c-6962-11ec-a6e9-002590c82437   \n",
       "1394024  6ead6634-69d0-11ef-86e0-002590c0647c   \n",
       "211642   b2004a54-2304-11ef-9b7b-002590c82436   \n",
       "928009   b24bbbe0-8f10-11ec-a6e9-002590c82437   \n",
       "6743735  ca996e04-4d7d-11e9-86e0-002590c0647c   \n",
       "3645597  c7581430-9a5e-11ec-86e0-002590c0647c   \n",
       "4912027  8a06f4c2-d1b1-11e7-86e0-002590c0647c   \n",
       "4347907  1703507e-ff14-11ed-a1c4-002590c82437   \n",
       "6030633  9a893954-6164-11eb-a6e9-002590c82437   \n",
       "3461452  b58aa590-6d8f-11ef-9b7b-002590c82436   \n",
       "4747916  41a7c314-5558-11ef-9b7b-002590c82436   \n",
       "6635402  5337c7b6-b560-11ee-bbb1-002590c82436   \n",
       "4964400  c00c75ce-2187-11ef-86e0-002590c0647c   \n",
       "6004251  5740910e-04ea-11ec-8a53-0cc47a6d2fef   \n",
       "6231327  9b575a1c-0f1d-11eb-8a53-0cc47a6d2fef   \n",
       "544010   0394baaa-a67e-11eb-a6e9-002590c82437   \n",
       "6155981  a330b86e-5fc8-11ef-9b7b-002590c82436   \n",
       "6673132  e499ae0c-411d-11ee-86e0-002590c0647c   \n",
       "3637649  2f17b64a-4a50-11ef-86e0-002590c0647c   \n",
       "5016264  ef4f100c-74e4-11ef-86e0-002590c0647c   \n",
       "\n",
       "                                  loc_user_id  weight                date  \\\n",
       "5213890  4879a3bf-e8ec-4487-821f-f490ac91eea0       4 2024-09-24 06:01:16   \n",
       "1394024  4006bee7-2969-4512-8eca-715834297f93       8 2024-09-12 00:43:25   \n",
       "211642   5e8419b2-1d52-4298-9cdc-44bc7bdde287       4 2024-09-07 18:33:43   \n",
       "928009   69ba0007-f050-4bfa-a71d-0d3c6ae3f0a4       4 2024-09-10 10:02:54   \n",
       "6743735  98d1eafd-400a-4292-8a4d-87d0ff367349       5 2024-09-28 17:26:07   \n",
       "3645597  544d675c-ddf3-4ce2-a2dc-ed3ca502ccdb       4 2024-09-19 08:27:22   \n",
       "4912027  28bdb882-fdfd-4a30-95d3-1cf0c3feaf7c       4 2024-09-23 07:21:14   \n",
       "4347907  1e68193a-b139-49b7-8384-5890acedcfd9       2 2024-09-21 11:14:54   \n",
       "6030633  fabd217b-d6bc-420f-8514-7537cf4c68ff       4 2024-09-26 17:01:51   \n",
       "3461452  2f5d0fb9-bb02-4ca7-ad52-447ed3146d6f       4 2024-09-18 15:56:13   \n",
       "4747916  67c9b635-ed7b-41ca-8f7a-f10e7b08cd73       4 2024-09-22 16:33:37   \n",
       "6635402  cca2b2a9-0768-44bd-a1a9-055ee3633515       5 2024-09-28 12:21:06   \n",
       "4964400  c821748e-f7f6-44bc-9ad2-685242dcec1d       4 2024-09-23 09:36:50   \n",
       "6004251  e89221d1-8375-4b1d-90ee-9a60f4ab82bf       6 2024-09-26 15:29:33   \n",
       "6231327  a2fdf6f7-dd7c-49cd-9263-4a992cab9daf       4 2024-09-27 09:40:55   \n",
       "544010   0374448e-3280-493b-9a9d-f29fc42c150c       3 2024-09-09 04:38:46   \n",
       "6155981  aa4af328-fcbb-42f5-8590-958d87034c70       4 2024-09-27 06:23:56   \n",
       "6673132  d43c146f-187a-45a1-a14c-41db977976b5       5 2024-09-28 14:15:38   \n",
       "3637649  ed392317-1d76-435d-869d-4586897ee3f6       4 2024-09-19 08:15:07   \n",
       "5016264  63153eb5-4a5a-4bb0-8ef9-f8546b03ad99       2 2024-09-23 12:21:13   \n",
       "\n",
       "         item_id      pageId            datetime            add_date shop_id  \\\n",
       "5213890       -1  1823707769 2024-09-24 06:01:16                 NaT     NaN   \n",
       "1394024  6391909  2590829625 2024-09-12 00:43:25 2024-09-25 16:08:23     350   \n",
       "211642        -1  4110793588 2024-09-07 18:33:43                 NaT     NaN   \n",
       "928009        -1  2125387868 2024-09-10 10:02:54                 NaT     NaN   \n",
       "6743735  6404044  1507522782 2024-09-28 17:26:07 2024-09-30 03:07:09     350   \n",
       "3645597       -1  3387443320 2024-09-19 08:27:22                 NaT     NaN   \n",
       "4912027       -1  1765316673 2024-09-23 07:21:14                 NaT     NaN   \n",
       "4347907       -1  1464484931 2024-09-21 11:14:54                 NaT     NaN   \n",
       "6030633       -1  2390655488 2024-09-26 17:01:51                 NaT     NaN   \n",
       "3461452       -1  3457957070 2024-09-18 15:56:13                 NaT     NaN   \n",
       "4747916       -1  2302468516 2024-09-22 16:33:37                 NaT     NaN   \n",
       "6635402  3763234  1477638475 2024-09-28 12:21:06 2024-09-30 03:07:09     350   \n",
       "4964400       -1  2131788376 2024-09-23 09:36:50                 NaT     NaN   \n",
       "6004251  3194644  3771853114 2024-09-26 15:29:33 2024-09-30 03:07:09     350   \n",
       "6231327       -1  1035239114 2024-09-27 09:40:55                 NaT     NaN   \n",
       "544010        -1  3625444813 2024-09-09 04:38:46                 NaT     NaN   \n",
       "6155981       -1  1567974594 2024-09-27 06:23:56                 NaT     NaN   \n",
       "6673132  3864388   369789894 2024-09-28 14:15:38 2024-09-30 03:07:09     350   \n",
       "3637649       -1  1465255665 2024-09-19 08:15:07                 NaT     NaN   \n",
       "5016264       -1  1569762291 2024-09-23 12:21:13                 NaT     NaN   \n",
       "\n",
       "        category_id  ...  action_0_count action_1_count  action_2_count  \\\n",
       "5213890           0  ...             0.0            0.0            15.0   \n",
       "1394024         375  ...             0.0            6.0            46.0   \n",
       "211642            0  ...             0.0            0.0           241.0   \n",
       "928009            0  ...             0.0            0.0             8.0   \n",
       "6743735        1711  ...             0.0            0.0             3.0   \n",
       "3645597           0  ...             0.0            0.0            11.0   \n",
       "4912027           0  ...             0.0            0.0            19.0   \n",
       "4347907           0  ...             0.0           60.0          1188.0   \n",
       "6030633           0  ...             0.0           33.0           375.0   \n",
       "3461452           0  ...             0.0            0.0             3.0   \n",
       "4747916           0  ...             0.0            0.0            19.0   \n",
       "6635402         885  ...             1.0            8.0            97.0   \n",
       "4964400           0  ...             0.0            0.0            10.0   \n",
       "6004251         935  ...             0.0            0.0            24.0   \n",
       "6231327           0  ...             0.0            0.0             2.0   \n",
       "544010            0  ...             0.0           30.0           339.0   \n",
       "6155981           0  ...             0.0           12.0             4.0   \n",
       "6673132       14546  ...             0.0            0.0             4.0   \n",
       "3637649           0  ...             0.0            0.0             3.0   \n",
       "5016264           0  ...             0.0            0.0            13.0   \n",
       "\n",
       "         action_3_count  action_4_count  action_5_count  action_6_count  \\\n",
       "5213890             0.0            61.0             4.0             0.0   \n",
       "1394024             0.0           187.0            60.0             0.0   \n",
       "211642              0.0           707.0           201.0             0.0   \n",
       "928009              0.0            58.0            15.0             0.0   \n",
       "6743735             0.0             7.0             3.0             0.0   \n",
       "3645597             0.0            42.0             9.0             0.0   \n",
       "4912027             0.0            79.0            17.0             0.0   \n",
       "4347907             1.0          3394.0          1219.0             0.0   \n",
       "6030633             0.0          1438.0           475.0             0.0   \n",
       "3461452             0.0             5.0             2.0             0.0   \n",
       "4747916             9.0           222.0            51.0             0.0   \n",
       "6635402             3.0           841.0           185.0            34.0   \n",
       "4964400             0.0            42.0             5.0             0.0   \n",
       "6004251             7.0           105.0            25.0            10.0   \n",
       "6231327             0.0             8.0             0.0             0.0   \n",
       "544010             84.0          1011.0           332.0             2.0   \n",
       "6155981             0.0            33.0            16.0             2.0   \n",
       "6673132             4.0            55.0            27.0             2.0   \n",
       "3637649             0.0            14.0             1.0             0.0   \n",
       "5016264             3.0            27.0             8.0             0.0   \n",
       "\n",
       "         action_7_count  action_8_count  action_9_count  \n",
       "5213890             0.0             0.0             0.0  \n",
       "1394024             9.0            95.0             3.0  \n",
       "211642              0.0             0.0             0.0  \n",
       "928009              3.0             4.0             0.0  \n",
       "6743735             0.0             0.0             0.0  \n",
       "3645597             0.0             0.0             0.0  \n",
       "4912027             2.0             2.0             0.0  \n",
       "4347907            95.0           203.0            33.0  \n",
       "6030633            42.0           194.0            10.0  \n",
       "3461452             0.0             0.0             0.0  \n",
       "4747916             1.0             2.0             0.0  \n",
       "6635402            10.0            22.0             1.0  \n",
       "4964400             0.0             0.0             0.0  \n",
       "6004251             1.0             6.0             0.0  \n",
       "6231327             0.0             0.0             0.0  \n",
       "544010             34.0           287.0             4.0  \n",
       "6155981             1.0           155.0             0.0  \n",
       "6673132             0.0             5.0             0.0  \n",
       "3637649             0.0             0.0             0.0  \n",
       "5016264             0.0             0.0             0.0  \n",
       "\n",
       "[20 rows x 29 columns]"
      ],
      "text/html": [
       "<div>\n",
       "<style scoped>\n",
       "    .dataframe tbody tr th:only-of-type {\n",
       "        vertical-align: middle;\n",
       "    }\n",
       "\n",
       "    .dataframe tbody tr th {\n",
       "        vertical-align: top;\n",
       "    }\n",
       "\n",
       "    .dataframe thead th {\n",
       "        text-align: right;\n",
       "    }\n",
       "</style>\n",
       "<table border=\"1\" class=\"dataframe\">\n",
       "  <thead>\n",
       "    <tr style=\"text-align: right;\">\n",
       "      <th></th>\n",
       "      <th>user_id</th>\n",
       "      <th>loc_user_id</th>\n",
       "      <th>weight</th>\n",
       "      <th>date</th>\n",
       "      <th>item_id</th>\n",
       "      <th>pageId</th>\n",
       "      <th>datetime</th>\n",
       "      <th>add_date</th>\n",
       "      <th>shop_id</th>\n",
       "      <th>category_id</th>\n",
       "      <th>...</th>\n",
       "      <th>action_0_count</th>\n",
       "      <th>action_1_count</th>\n",
       "      <th>action_2_count</th>\n",
       "      <th>action_3_count</th>\n",
       "      <th>action_4_count</th>\n",
       "      <th>action_5_count</th>\n",
       "      <th>action_6_count</th>\n",
       "      <th>action_7_count</th>\n",
       "      <th>action_8_count</th>\n",
       "      <th>action_9_count</th>\n",
       "    </tr>\n",
       "  </thead>\n",
       "  <tbody>\n",
       "    <tr>\n",
       "      <th>5213890</th>\n",
       "      <td>2c5cf89c-6962-11ec-a6e9-002590c82437</td>\n",
       "      <td>4879a3bf-e8ec-4487-821f-f490ac91eea0</td>\n",
       "      <td>4</td>\n",
       "      <td>2024-09-24 06:01:16</td>\n",
       "      <td>-1</td>\n",
       "      <td>1823707769</td>\n",
       "      <td>2024-09-24 06:01:16</td>\n",
       "      <td>NaT</td>\n",
       "      <td>NaN</td>\n",
       "      <td>0</td>\n",
       "      <td>...</td>\n",
       "      <td>0.0</td>\n",
       "      <td>0.0</td>\n",
       "      <td>15.0</td>\n",
       "      <td>0.0</td>\n",
       "      <td>61.0</td>\n",
       "      <td>4.0</td>\n",
       "      <td>0.0</td>\n",
       "      <td>0.0</td>\n",
       "      <td>0.0</td>\n",
       "      <td>0.0</td>\n",
       "    </tr>\n",
       "    <tr>\n",
       "      <th>1394024</th>\n",
       "      <td>6ead6634-69d0-11ef-86e0-002590c0647c</td>\n",
       "      <td>4006bee7-2969-4512-8eca-715834297f93</td>\n",
       "      <td>8</td>\n",
       "      <td>2024-09-12 00:43:25</td>\n",
       "      <td>6391909</td>\n",
       "      <td>2590829625</td>\n",
       "      <td>2024-09-12 00:43:25</td>\n",
       "      <td>2024-09-25 16:08:23</td>\n",
       "      <td>350</td>\n",
       "      <td>375</td>\n",
       "      <td>...</td>\n",
       "      <td>0.0</td>\n",
       "      <td>6.0</td>\n",
       "      <td>46.0</td>\n",
       "      <td>0.0</td>\n",
       "      <td>187.0</td>\n",
       "      <td>60.0</td>\n",
       "      <td>0.0</td>\n",
       "      <td>9.0</td>\n",
       "      <td>95.0</td>\n",
       "      <td>3.0</td>\n",
       "    </tr>\n",
       "    <tr>\n",
       "      <th>211642</th>\n",
       "      <td>b2004a54-2304-11ef-9b7b-002590c82436</td>\n",
       "      <td>5e8419b2-1d52-4298-9cdc-44bc7bdde287</td>\n",
       "      <td>4</td>\n",
       "      <td>2024-09-07 18:33:43</td>\n",
       "      <td>-1</td>\n",
       "      <td>4110793588</td>\n",
       "      <td>2024-09-07 18:33:43</td>\n",
       "      <td>NaT</td>\n",
       "      <td>NaN</td>\n",
       "      <td>0</td>\n",
       "      <td>...</td>\n",
       "      <td>0.0</td>\n",
       "      <td>0.0</td>\n",
       "      <td>241.0</td>\n",
       "      <td>0.0</td>\n",
       "      <td>707.0</td>\n",
       "      <td>201.0</td>\n",
       "      <td>0.0</td>\n",
       "      <td>0.0</td>\n",
       "      <td>0.0</td>\n",
       "      <td>0.0</td>\n",
       "    </tr>\n",
       "    <tr>\n",
       "      <th>928009</th>\n",
       "      <td>b24bbbe0-8f10-11ec-a6e9-002590c82437</td>\n",
       "      <td>69ba0007-f050-4bfa-a71d-0d3c6ae3f0a4</td>\n",
       "      <td>4</td>\n",
       "      <td>2024-09-10 10:02:54</td>\n",
       "      <td>-1</td>\n",
       "      <td>2125387868</td>\n",
       "      <td>2024-09-10 10:02:54</td>\n",
       "      <td>NaT</td>\n",
       "      <td>NaN</td>\n",
       "      <td>0</td>\n",
       "      <td>...</td>\n",
       "      <td>0.0</td>\n",
       "      <td>0.0</td>\n",
       "      <td>8.0</td>\n",
       "      <td>0.0</td>\n",
       "      <td>58.0</td>\n",
       "      <td>15.0</td>\n",
       "      <td>0.0</td>\n",
       "      <td>3.0</td>\n",
       "      <td>4.0</td>\n",
       "      <td>0.0</td>\n",
       "    </tr>\n",
       "    <tr>\n",
       "      <th>6743735</th>\n",
       "      <td>ca996e04-4d7d-11e9-86e0-002590c0647c</td>\n",
       "      <td>98d1eafd-400a-4292-8a4d-87d0ff367349</td>\n",
       "      <td>5</td>\n",
       "      <td>2024-09-28 17:26:07</td>\n",
       "      <td>6404044</td>\n",
       "      <td>1507522782</td>\n",
       "      <td>2024-09-28 17:26:07</td>\n",
       "      <td>2024-09-30 03:07:09</td>\n",
       "      <td>350</td>\n",
       "      <td>1711</td>\n",
       "      <td>...</td>\n",
       "      <td>0.0</td>\n",
       "      <td>0.0</td>\n",
       "      <td>3.0</td>\n",
       "      <td>0.0</td>\n",
       "      <td>7.0</td>\n",
       "      <td>3.0</td>\n",
       "      <td>0.0</td>\n",
       "      <td>0.0</td>\n",
       "      <td>0.0</td>\n",
       "      <td>0.0</td>\n",
       "    </tr>\n",
       "    <tr>\n",
       "      <th>3645597</th>\n",
       "      <td>c7581430-9a5e-11ec-86e0-002590c0647c</td>\n",
       "      <td>544d675c-ddf3-4ce2-a2dc-ed3ca502ccdb</td>\n",
       "      <td>4</td>\n",
       "      <td>2024-09-19 08:27:22</td>\n",
       "      <td>-1</td>\n",
       "      <td>3387443320</td>\n",
       "      <td>2024-09-19 08:27:22</td>\n",
       "      <td>NaT</td>\n",
       "      <td>NaN</td>\n",
       "      <td>0</td>\n",
       "      <td>...</td>\n",
       "      <td>0.0</td>\n",
       "      <td>0.0</td>\n",
       "      <td>11.0</td>\n",
       "      <td>0.0</td>\n",
       "      <td>42.0</td>\n",
       "      <td>9.0</td>\n",
       "      <td>0.0</td>\n",
       "      <td>0.0</td>\n",
       "      <td>0.0</td>\n",
       "      <td>0.0</td>\n",
       "    </tr>\n",
       "    <tr>\n",
       "      <th>4912027</th>\n",
       "      <td>8a06f4c2-d1b1-11e7-86e0-002590c0647c</td>\n",
       "      <td>28bdb882-fdfd-4a30-95d3-1cf0c3feaf7c</td>\n",
       "      <td>4</td>\n",
       "      <td>2024-09-23 07:21:14</td>\n",
       "      <td>-1</td>\n",
       "      <td>1765316673</td>\n",
       "      <td>2024-09-23 07:21:14</td>\n",
       "      <td>NaT</td>\n",
       "      <td>NaN</td>\n",
       "      <td>0</td>\n",
       "      <td>...</td>\n",
       "      <td>0.0</td>\n",
       "      <td>0.0</td>\n",
       "      <td>19.0</td>\n",
       "      <td>0.0</td>\n",
       "      <td>79.0</td>\n",
       "      <td>17.0</td>\n",
       "      <td>0.0</td>\n",
       "      <td>2.0</td>\n",
       "      <td>2.0</td>\n",
       "      <td>0.0</td>\n",
       "    </tr>\n",
       "    <tr>\n",
       "      <th>4347907</th>\n",
       "      <td>1703507e-ff14-11ed-a1c4-002590c82437</td>\n",
       "      <td>1e68193a-b139-49b7-8384-5890acedcfd9</td>\n",
       "      <td>2</td>\n",
       "      <td>2024-09-21 11:14:54</td>\n",
       "      <td>-1</td>\n",
       "      <td>1464484931</td>\n",
       "      <td>2024-09-21 11:14:54</td>\n",
       "      <td>NaT</td>\n",
       "      <td>NaN</td>\n",
       "      <td>0</td>\n",
       "      <td>...</td>\n",
       "      <td>0.0</td>\n",
       "      <td>60.0</td>\n",
       "      <td>1188.0</td>\n",
       "      <td>1.0</td>\n",
       "      <td>3394.0</td>\n",
       "      <td>1219.0</td>\n",
       "      <td>0.0</td>\n",
       "      <td>95.0</td>\n",
       "      <td>203.0</td>\n",
       "      <td>33.0</td>\n",
       "    </tr>\n",
       "    <tr>\n",
       "      <th>6030633</th>\n",
       "      <td>9a893954-6164-11eb-a6e9-002590c82437</td>\n",
       "      <td>fabd217b-d6bc-420f-8514-7537cf4c68ff</td>\n",
       "      <td>4</td>\n",
       "      <td>2024-09-26 17:01:51</td>\n",
       "      <td>-1</td>\n",
       "      <td>2390655488</td>\n",
       "      <td>2024-09-26 17:01:51</td>\n",
       "      <td>NaT</td>\n",
       "      <td>NaN</td>\n",
       "      <td>0</td>\n",
       "      <td>...</td>\n",
       "      <td>0.0</td>\n",
       "      <td>33.0</td>\n",
       "      <td>375.0</td>\n",
       "      <td>0.0</td>\n",
       "      <td>1438.0</td>\n",
       "      <td>475.0</td>\n",
       "      <td>0.0</td>\n",
       "      <td>42.0</td>\n",
       "      <td>194.0</td>\n",
       "      <td>10.0</td>\n",
       "    </tr>\n",
       "    <tr>\n",
       "      <th>3461452</th>\n",
       "      <td>b58aa590-6d8f-11ef-9b7b-002590c82436</td>\n",
       "      <td>2f5d0fb9-bb02-4ca7-ad52-447ed3146d6f</td>\n",
       "      <td>4</td>\n",
       "      <td>2024-09-18 15:56:13</td>\n",
       "      <td>-1</td>\n",
       "      <td>3457957070</td>\n",
       "      <td>2024-09-18 15:56:13</td>\n",
       "      <td>NaT</td>\n",
       "      <td>NaN</td>\n",
       "      <td>0</td>\n",
       "      <td>...</td>\n",
       "      <td>0.0</td>\n",
       "      <td>0.0</td>\n",
       "      <td>3.0</td>\n",
       "      <td>0.0</td>\n",
       "      <td>5.0</td>\n",
       "      <td>2.0</td>\n",
       "      <td>0.0</td>\n",
       "      <td>0.0</td>\n",
       "      <td>0.0</td>\n",
       "      <td>0.0</td>\n",
       "    </tr>\n",
       "    <tr>\n",
       "      <th>4747916</th>\n",
       "      <td>41a7c314-5558-11ef-9b7b-002590c82436</td>\n",
       "      <td>67c9b635-ed7b-41ca-8f7a-f10e7b08cd73</td>\n",
       "      <td>4</td>\n",
       "      <td>2024-09-22 16:33:37</td>\n",
       "      <td>-1</td>\n",
       "      <td>2302468516</td>\n",
       "      <td>2024-09-22 16:33:37</td>\n",
       "      <td>NaT</td>\n",
       "      <td>NaN</td>\n",
       "      <td>0</td>\n",
       "      <td>...</td>\n",
       "      <td>0.0</td>\n",
       "      <td>0.0</td>\n",
       "      <td>19.0</td>\n",
       "      <td>9.0</td>\n",
       "      <td>222.0</td>\n",
       "      <td>51.0</td>\n",
       "      <td>0.0</td>\n",
       "      <td>1.0</td>\n",
       "      <td>2.0</td>\n",
       "      <td>0.0</td>\n",
       "    </tr>\n",
       "    <tr>\n",
       "      <th>6635402</th>\n",
       "      <td>5337c7b6-b560-11ee-bbb1-002590c82436</td>\n",
       "      <td>cca2b2a9-0768-44bd-a1a9-055ee3633515</td>\n",
       "      <td>5</td>\n",
       "      <td>2024-09-28 12:21:06</td>\n",
       "      <td>3763234</td>\n",
       "      <td>1477638475</td>\n",
       "      <td>2024-09-28 12:21:06</td>\n",
       "      <td>2024-09-30 03:07:09</td>\n",
       "      <td>350</td>\n",
       "      <td>885</td>\n",
       "      <td>...</td>\n",
       "      <td>1.0</td>\n",
       "      <td>8.0</td>\n",
       "      <td>97.0</td>\n",
       "      <td>3.0</td>\n",
       "      <td>841.0</td>\n",
       "      <td>185.0</td>\n",
       "      <td>34.0</td>\n",
       "      <td>10.0</td>\n",
       "      <td>22.0</td>\n",
       "      <td>1.0</td>\n",
       "    </tr>\n",
       "    <tr>\n",
       "      <th>4964400</th>\n",
       "      <td>c00c75ce-2187-11ef-86e0-002590c0647c</td>\n",
       "      <td>c821748e-f7f6-44bc-9ad2-685242dcec1d</td>\n",
       "      <td>4</td>\n",
       "      <td>2024-09-23 09:36:50</td>\n",
       "      <td>-1</td>\n",
       "      <td>2131788376</td>\n",
       "      <td>2024-09-23 09:36:50</td>\n",
       "      <td>NaT</td>\n",
       "      <td>NaN</td>\n",
       "      <td>0</td>\n",
       "      <td>...</td>\n",
       "      <td>0.0</td>\n",
       "      <td>0.0</td>\n",
       "      <td>10.0</td>\n",
       "      <td>0.0</td>\n",
       "      <td>42.0</td>\n",
       "      <td>5.0</td>\n",
       "      <td>0.0</td>\n",
       "      <td>0.0</td>\n",
       "      <td>0.0</td>\n",
       "      <td>0.0</td>\n",
       "    </tr>\n",
       "    <tr>\n",
       "      <th>6004251</th>\n",
       "      <td>5740910e-04ea-11ec-8a53-0cc47a6d2fef</td>\n",
       "      <td>e89221d1-8375-4b1d-90ee-9a60f4ab82bf</td>\n",
       "      <td>6</td>\n",
       "      <td>2024-09-26 15:29:33</td>\n",
       "      <td>3194644</td>\n",
       "      <td>3771853114</td>\n",
       "      <td>2024-09-26 15:29:33</td>\n",
       "      <td>2024-09-30 03:07:09</td>\n",
       "      <td>350</td>\n",
       "      <td>935</td>\n",
       "      <td>...</td>\n",
       "      <td>0.0</td>\n",
       "      <td>0.0</td>\n",
       "      <td>24.0</td>\n",
       "      <td>7.0</td>\n",
       "      <td>105.0</td>\n",
       "      <td>25.0</td>\n",
       "      <td>10.0</td>\n",
       "      <td>1.0</td>\n",
       "      <td>6.0</td>\n",
       "      <td>0.0</td>\n",
       "    </tr>\n",
       "    <tr>\n",
       "      <th>6231327</th>\n",
       "      <td>9b575a1c-0f1d-11eb-8a53-0cc47a6d2fef</td>\n",
       "      <td>a2fdf6f7-dd7c-49cd-9263-4a992cab9daf</td>\n",
       "      <td>4</td>\n",
       "      <td>2024-09-27 09:40:55</td>\n",
       "      <td>-1</td>\n",
       "      <td>1035239114</td>\n",
       "      <td>2024-09-27 09:40:55</td>\n",
       "      <td>NaT</td>\n",
       "      <td>NaN</td>\n",
       "      <td>0</td>\n",
       "      <td>...</td>\n",
       "      <td>0.0</td>\n",
       "      <td>0.0</td>\n",
       "      <td>2.0</td>\n",
       "      <td>0.0</td>\n",
       "      <td>8.0</td>\n",
       "      <td>0.0</td>\n",
       "      <td>0.0</td>\n",
       "      <td>0.0</td>\n",
       "      <td>0.0</td>\n",
       "      <td>0.0</td>\n",
       "    </tr>\n",
       "    <tr>\n",
       "      <th>544010</th>\n",
       "      <td>0394baaa-a67e-11eb-a6e9-002590c82437</td>\n",
       "      <td>0374448e-3280-493b-9a9d-f29fc42c150c</td>\n",
       "      <td>3</td>\n",
       "      <td>2024-09-09 04:38:46</td>\n",
       "      <td>-1</td>\n",
       "      <td>3625444813</td>\n",
       "      <td>2024-09-09 04:38:46</td>\n",
       "      <td>NaT</td>\n",
       "      <td>NaN</td>\n",
       "      <td>0</td>\n",
       "      <td>...</td>\n",
       "      <td>0.0</td>\n",
       "      <td>30.0</td>\n",
       "      <td>339.0</td>\n",
       "      <td>84.0</td>\n",
       "      <td>1011.0</td>\n",
       "      <td>332.0</td>\n",
       "      <td>2.0</td>\n",
       "      <td>34.0</td>\n",
       "      <td>287.0</td>\n",
       "      <td>4.0</td>\n",
       "    </tr>\n",
       "    <tr>\n",
       "      <th>6155981</th>\n",
       "      <td>a330b86e-5fc8-11ef-9b7b-002590c82436</td>\n",
       "      <td>aa4af328-fcbb-42f5-8590-958d87034c70</td>\n",
       "      <td>4</td>\n",
       "      <td>2024-09-27 06:23:56</td>\n",
       "      <td>-1</td>\n",
       "      <td>1567974594</td>\n",
       "      <td>2024-09-27 06:23:56</td>\n",
       "      <td>NaT</td>\n",
       "      <td>NaN</td>\n",
       "      <td>0</td>\n",
       "      <td>...</td>\n",
       "      <td>0.0</td>\n",
       "      <td>12.0</td>\n",
       "      <td>4.0</td>\n",
       "      <td>0.0</td>\n",
       "      <td>33.0</td>\n",
       "      <td>16.0</td>\n",
       "      <td>2.0</td>\n",
       "      <td>1.0</td>\n",
       "      <td>155.0</td>\n",
       "      <td>0.0</td>\n",
       "    </tr>\n",
       "    <tr>\n",
       "      <th>6673132</th>\n",
       "      <td>e499ae0c-411d-11ee-86e0-002590c0647c</td>\n",
       "      <td>d43c146f-187a-45a1-a14c-41db977976b5</td>\n",
       "      <td>5</td>\n",
       "      <td>2024-09-28 14:15:38</td>\n",
       "      <td>3864388</td>\n",
       "      <td>369789894</td>\n",
       "      <td>2024-09-28 14:15:38</td>\n",
       "      <td>2024-09-30 03:07:09</td>\n",
       "      <td>350</td>\n",
       "      <td>14546</td>\n",
       "      <td>...</td>\n",
       "      <td>0.0</td>\n",
       "      <td>0.0</td>\n",
       "      <td>4.0</td>\n",
       "      <td>4.0</td>\n",
       "      <td>55.0</td>\n",
       "      <td>27.0</td>\n",
       "      <td>2.0</td>\n",
       "      <td>0.0</td>\n",
       "      <td>5.0</td>\n",
       "      <td>0.0</td>\n",
       "    </tr>\n",
       "    <tr>\n",
       "      <th>3637649</th>\n",
       "      <td>2f17b64a-4a50-11ef-86e0-002590c0647c</td>\n",
       "      <td>ed392317-1d76-435d-869d-4586897ee3f6</td>\n",
       "      <td>4</td>\n",
       "      <td>2024-09-19 08:15:07</td>\n",
       "      <td>-1</td>\n",
       "      <td>1465255665</td>\n",
       "      <td>2024-09-19 08:15:07</td>\n",
       "      <td>NaT</td>\n",
       "      <td>NaN</td>\n",
       "      <td>0</td>\n",
       "      <td>...</td>\n",
       "      <td>0.0</td>\n",
       "      <td>0.0</td>\n",
       "      <td>3.0</td>\n",
       "      <td>0.0</td>\n",
       "      <td>14.0</td>\n",
       "      <td>1.0</td>\n",
       "      <td>0.0</td>\n",
       "      <td>0.0</td>\n",
       "      <td>0.0</td>\n",
       "      <td>0.0</td>\n",
       "    </tr>\n",
       "    <tr>\n",
       "      <th>5016264</th>\n",
       "      <td>ef4f100c-74e4-11ef-86e0-002590c0647c</td>\n",
       "      <td>63153eb5-4a5a-4bb0-8ef9-f8546b03ad99</td>\n",
       "      <td>2</td>\n",
       "      <td>2024-09-23 12:21:13</td>\n",
       "      <td>-1</td>\n",
       "      <td>1569762291</td>\n",
       "      <td>2024-09-23 12:21:13</td>\n",
       "      <td>NaT</td>\n",
       "      <td>NaN</td>\n",
       "      <td>0</td>\n",
       "      <td>...</td>\n",
       "      <td>0.0</td>\n",
       "      <td>0.0</td>\n",
       "      <td>13.0</td>\n",
       "      <td>3.0</td>\n",
       "      <td>27.0</td>\n",
       "      <td>8.0</td>\n",
       "      <td>0.0</td>\n",
       "      <td>0.0</td>\n",
       "      <td>0.0</td>\n",
       "      <td>0.0</td>\n",
       "    </tr>\n",
       "  </tbody>\n",
       "</table>\n",
       "<p>20 rows × 29 columns</p>\n",
       "</div>"
      ]
     },
     "execution_count": 86,
     "metadata": {},
     "output_type": "execute_result"
    }
   ],
   "execution_count": 86
  },
  {
   "metadata": {
    "ExecuteTime": {
     "end_time": "2024-10-11T06:29:47.243181Z",
     "start_time": "2024-10-11T06:29:47.241211Z"
    }
   },
   "cell_type": "code",
   "source": "",
   "id": "9dc9ceda729ce7a1",
   "outputs": [],
   "execution_count": null
  },
  {
   "metadata": {
    "ExecuteTime": {
     "end_time": "2024-10-11T06:30:03.112456Z",
     "start_time": "2024-10-11T06:30:02.713588Z"
    }
   },
   "cell_type": "code",
   "source": "inters = inters.drop(columns=['price', 'title', 'old_price', 'date', 'add_date', 'loc_user_id', 'shop_id'])",
   "id": "b046b5b46ce107b1",
   "outputs": [],
   "execution_count": 88
  },
  {
   "metadata": {
    "ExecuteTime": {
     "end_time": "2024-10-11T06:30:08.754072Z",
     "start_time": "2024-10-11T06:30:06.501172Z"
    }
   },
   "cell_type": "code",
   "source": [
    "inters['delta_sec'] = inters.sort_values(by=['datetime']).groupby('user_id')['datetime'].diff()\n",
    "inters['delta_sec'] = inters['delta_sec'].dt.total_seconds()\n",
    "inters['delta_sec'] = inters['delta_sec'].fillna(0)"
   ],
   "id": "e5529ba8b7fa03a3",
   "outputs": [],
   "execution_count": 89
  },
  {
   "metadata": {
    "ExecuteTime": {
     "end_time": "2024-10-11T06:30:16.903165Z",
     "start_time": "2024-10-11T06:30:10.818904Z"
    }
   },
   "cell_type": "code",
   "source": [
    "inters['delta_day'] = inters.sort_values(by=['datetime']).groupby('user_id')['day'].diff()\n",
    "inters['delta_day'] = inters['delta_day'].fillna(0)\n",
    "\n",
    "inters['delta_hour'] = inters.sort_values(by=['datetime']).groupby('user_id')['hour'].diff()\n",
    "inters['delta_hour'] = inters['delta_hour'].fillna(0)\n",
    "\n",
    "inters['delta_min'] = inters.sort_values(by=['datetime']).groupby('user_id')['minute'].diff()\n",
    "inters['delta_min'] = inters['delta_min'].fillna(0)"
   ],
   "id": "366408200ad38780",
   "outputs": [],
   "execution_count": 90
  },
  {
   "metadata": {
    "ExecuteTime": {
     "end_time": "2024-10-11T06:30:18.076016Z",
     "start_time": "2024-10-11T06:30:17.691812Z"
    }
   },
   "cell_type": "code",
   "source": "inters = inters.drop(columns=['day', 'hour', 'minute'])",
   "id": "b4d3d265efe6438c",
   "outputs": [],
   "execution_count": 91
  },
  {
   "metadata": {
    "ExecuteTime": {
     "end_time": "2024-10-10T19:08:46.342713Z",
     "start_time": "2024-10-10T19:08:46.341184Z"
    }
   },
   "cell_type": "code",
   "source": "# inters = inters.drop(columns=['item_id'])",
   "id": "5a08b82472678503",
   "outputs": [],
   "execution_count": 29
  },
  {
   "metadata": {
    "ExecuteTime": {
     "end_time": "2024-10-11T06:30:45.921158Z",
     "start_time": "2024-10-11T06:30:45.914039Z"
    }
   },
   "cell_type": "code",
   "source": "inters['is_useful'] = inters['weight'] > 4 ",
   "id": "4fb8cb777c7bd7ba",
   "outputs": [],
   "execution_count": 92
  },
  {
   "metadata": {
    "ExecuteTime": {
     "end_time": "2024-10-11T06:30:47.467895Z",
     "start_time": "2024-10-11T06:30:47.185735Z"
    }
   },
   "cell_type": "code",
   "source": "inters[inters.user_id == 'e4362420-f6ca-11ec-86e0-002590c0647c'].head(500)",
   "id": "84c3076767e80047",
   "outputs": [
    {
     "data": {
      "text/plain": [
       "                                      user_id  weight  item_id      pageId  \\\n",
       "11       e4362420-f6ca-11ec-86e0-002590c0647c       4       -1  4263215769   \n",
       "19       e4362420-f6ca-11ec-86e0-002590c0647c       4       -1  4263215769   \n",
       "23       e4362420-f6ca-11ec-86e0-002590c0647c       4       -1  4263215769   \n",
       "25       e4362420-f6ca-11ec-86e0-002590c0647c       4       -1  4263215769   \n",
       "35       e4362420-f6ca-11ec-86e0-002590c0647c       9  5422963  4263215769   \n",
       "...                                       ...     ...      ...         ...   \n",
       "6152873  e4362420-f6ca-11ec-86e0-002590c0647c       5  6770769   252042197   \n",
       "6152970  e4362420-f6ca-11ec-86e0-002590c0647c       4       -1   252042197   \n",
       "6152981  e4362420-f6ca-11ec-86e0-002590c0647c       5  6990711   252042197   \n",
       "6152997  e4362420-f6ca-11ec-86e0-002590c0647c       4       -1   252042197   \n",
       "6153006  e4362420-f6ca-11ec-86e0-002590c0647c       5  6770769   252042197   \n",
       "\n",
       "                   datetime shop_id category_id  day_of_week  price_diff  \\\n",
       "11      2024-09-07 00:00:26     NaN           0            5         0.0   \n",
       "19      2024-09-07 00:00:41     NaN           0            5         0.0   \n",
       "23      2024-09-07 00:00:51     NaN           0            5         0.0   \n",
       "25      2024-09-07 00:00:52     NaN           0            5         0.0   \n",
       "35      2024-09-07 00:01:12     350        2247            5     -5700.0   \n",
       "...                     ...     ...         ...          ...         ...   \n",
       "6152873 2024-09-27 06:14:04     350       50448            4         0.0   \n",
       "6152970 2024-09-27 06:14:20     NaN           0            4         0.0   \n",
       "6152981 2024-09-27 06:14:21     350       50448            4         0.0   \n",
       "6152997 2024-09-27 06:14:24     NaN           0            4         0.0   \n",
       "6153006 2024-09-27 06:14:25     350       50448            4         0.0   \n",
       "\n",
       "         count  ...  action_5_count  action_6_count  action_7_count  \\\n",
       "11         384  ...            57.0             0.0             0.0   \n",
       "19         384  ...            57.0             0.0             0.0   \n",
       "23         384  ...            57.0             0.0             0.0   \n",
       "25         384  ...            57.0             0.0             0.0   \n",
       "35         384  ...            57.0             0.0             0.0   \n",
       "...        ...  ...             ...             ...             ...   \n",
       "6152873    384  ...            57.0             0.0             0.0   \n",
       "6152970    384  ...            57.0             0.0             0.0   \n",
       "6152981    384  ...            57.0             0.0             0.0   \n",
       "6152997    384  ...            57.0             0.0             0.0   \n",
       "6153006    384  ...            57.0             0.0             0.0   \n",
       "\n",
       "         action_8_count  action_9_count  delta_sec  delta_day  delta_hour  \\\n",
       "11                  0.0             2.0        0.0        0.0         0.0   \n",
       "19                  0.0             2.0       15.0        0.0         0.0   \n",
       "23                  0.0             2.0       10.0        0.0         0.0   \n",
       "25                  0.0             2.0        1.0        0.0         0.0   \n",
       "35                  0.0             2.0       20.0        0.0         0.0   \n",
       "...                 ...             ...        ...        ...         ...   \n",
       "6152873             0.0             2.0        1.0        0.0         0.0   \n",
       "6152970             0.0             2.0       16.0        0.0         0.0   \n",
       "6152981             0.0             2.0        1.0        0.0         0.0   \n",
       "6152997             0.0             2.0        3.0        0.0         0.0   \n",
       "6153006             0.0             2.0        1.0        0.0         0.0   \n",
       "\n",
       "         delta_min  is_useful  \n",
       "11             0.0      False  \n",
       "19             0.0      False  \n",
       "23             0.0      False  \n",
       "25             0.0      False  \n",
       "35             1.0       True  \n",
       "...            ...        ...  \n",
       "6152873        0.0       True  \n",
       "6152970        0.0      False  \n",
       "6152981        0.0       True  \n",
       "6152997        0.0      False  \n",
       "6153006        0.0       True  \n",
       "\n",
       "[384 rows x 25 columns]"
      ],
      "text/html": [
       "<div>\n",
       "<style scoped>\n",
       "    .dataframe tbody tr th:only-of-type {\n",
       "        vertical-align: middle;\n",
       "    }\n",
       "\n",
       "    .dataframe tbody tr th {\n",
       "        vertical-align: top;\n",
       "    }\n",
       "\n",
       "    .dataframe thead th {\n",
       "        text-align: right;\n",
       "    }\n",
       "</style>\n",
       "<table border=\"1\" class=\"dataframe\">\n",
       "  <thead>\n",
       "    <tr style=\"text-align: right;\">\n",
       "      <th></th>\n",
       "      <th>user_id</th>\n",
       "      <th>weight</th>\n",
       "      <th>item_id</th>\n",
       "      <th>pageId</th>\n",
       "      <th>datetime</th>\n",
       "      <th>shop_id</th>\n",
       "      <th>category_id</th>\n",
       "      <th>day_of_week</th>\n",
       "      <th>price_diff</th>\n",
       "      <th>count</th>\n",
       "      <th>...</th>\n",
       "      <th>action_5_count</th>\n",
       "      <th>action_6_count</th>\n",
       "      <th>action_7_count</th>\n",
       "      <th>action_8_count</th>\n",
       "      <th>action_9_count</th>\n",
       "      <th>delta_sec</th>\n",
       "      <th>delta_day</th>\n",
       "      <th>delta_hour</th>\n",
       "      <th>delta_min</th>\n",
       "      <th>is_useful</th>\n",
       "    </tr>\n",
       "  </thead>\n",
       "  <tbody>\n",
       "    <tr>\n",
       "      <th>11</th>\n",
       "      <td>e4362420-f6ca-11ec-86e0-002590c0647c</td>\n",
       "      <td>4</td>\n",
       "      <td>-1</td>\n",
       "      <td>4263215769</td>\n",
       "      <td>2024-09-07 00:00:26</td>\n",
       "      <td>NaN</td>\n",
       "      <td>0</td>\n",
       "      <td>5</td>\n",
       "      <td>0.0</td>\n",
       "      <td>384</td>\n",
       "      <td>...</td>\n",
       "      <td>57.0</td>\n",
       "      <td>0.0</td>\n",
       "      <td>0.0</td>\n",
       "      <td>0.0</td>\n",
       "      <td>2.0</td>\n",
       "      <td>0.0</td>\n",
       "      <td>0.0</td>\n",
       "      <td>0.0</td>\n",
       "      <td>0.0</td>\n",
       "      <td>False</td>\n",
       "    </tr>\n",
       "    <tr>\n",
       "      <th>19</th>\n",
       "      <td>e4362420-f6ca-11ec-86e0-002590c0647c</td>\n",
       "      <td>4</td>\n",
       "      <td>-1</td>\n",
       "      <td>4263215769</td>\n",
       "      <td>2024-09-07 00:00:41</td>\n",
       "      <td>NaN</td>\n",
       "      <td>0</td>\n",
       "      <td>5</td>\n",
       "      <td>0.0</td>\n",
       "      <td>384</td>\n",
       "      <td>...</td>\n",
       "      <td>57.0</td>\n",
       "      <td>0.0</td>\n",
       "      <td>0.0</td>\n",
       "      <td>0.0</td>\n",
       "      <td>2.0</td>\n",
       "      <td>15.0</td>\n",
       "      <td>0.0</td>\n",
       "      <td>0.0</td>\n",
       "      <td>0.0</td>\n",
       "      <td>False</td>\n",
       "    </tr>\n",
       "    <tr>\n",
       "      <th>23</th>\n",
       "      <td>e4362420-f6ca-11ec-86e0-002590c0647c</td>\n",
       "      <td>4</td>\n",
       "      <td>-1</td>\n",
       "      <td>4263215769</td>\n",
       "      <td>2024-09-07 00:00:51</td>\n",
       "      <td>NaN</td>\n",
       "      <td>0</td>\n",
       "      <td>5</td>\n",
       "      <td>0.0</td>\n",
       "      <td>384</td>\n",
       "      <td>...</td>\n",
       "      <td>57.0</td>\n",
       "      <td>0.0</td>\n",
       "      <td>0.0</td>\n",
       "      <td>0.0</td>\n",
       "      <td>2.0</td>\n",
       "      <td>10.0</td>\n",
       "      <td>0.0</td>\n",
       "      <td>0.0</td>\n",
       "      <td>0.0</td>\n",
       "      <td>False</td>\n",
       "    </tr>\n",
       "    <tr>\n",
       "      <th>25</th>\n",
       "      <td>e4362420-f6ca-11ec-86e0-002590c0647c</td>\n",
       "      <td>4</td>\n",
       "      <td>-1</td>\n",
       "      <td>4263215769</td>\n",
       "      <td>2024-09-07 00:00:52</td>\n",
       "      <td>NaN</td>\n",
       "      <td>0</td>\n",
       "      <td>5</td>\n",
       "      <td>0.0</td>\n",
       "      <td>384</td>\n",
       "      <td>...</td>\n",
       "      <td>57.0</td>\n",
       "      <td>0.0</td>\n",
       "      <td>0.0</td>\n",
       "      <td>0.0</td>\n",
       "      <td>2.0</td>\n",
       "      <td>1.0</td>\n",
       "      <td>0.0</td>\n",
       "      <td>0.0</td>\n",
       "      <td>0.0</td>\n",
       "      <td>False</td>\n",
       "    </tr>\n",
       "    <tr>\n",
       "      <th>35</th>\n",
       "      <td>e4362420-f6ca-11ec-86e0-002590c0647c</td>\n",
       "      <td>9</td>\n",
       "      <td>5422963</td>\n",
       "      <td>4263215769</td>\n",
       "      <td>2024-09-07 00:01:12</td>\n",
       "      <td>350</td>\n",
       "      <td>2247</td>\n",
       "      <td>5</td>\n",
       "      <td>-5700.0</td>\n",
       "      <td>384</td>\n",
       "      <td>...</td>\n",
       "      <td>57.0</td>\n",
       "      <td>0.0</td>\n",
       "      <td>0.0</td>\n",
       "      <td>0.0</td>\n",
       "      <td>2.0</td>\n",
       "      <td>20.0</td>\n",
       "      <td>0.0</td>\n",
       "      <td>0.0</td>\n",
       "      <td>1.0</td>\n",
       "      <td>True</td>\n",
       "    </tr>\n",
       "    <tr>\n",
       "      <th>...</th>\n",
       "      <td>...</td>\n",
       "      <td>...</td>\n",
       "      <td>...</td>\n",
       "      <td>...</td>\n",
       "      <td>...</td>\n",
       "      <td>...</td>\n",
       "      <td>...</td>\n",
       "      <td>...</td>\n",
       "      <td>...</td>\n",
       "      <td>...</td>\n",
       "      <td>...</td>\n",
       "      <td>...</td>\n",
       "      <td>...</td>\n",
       "      <td>...</td>\n",
       "      <td>...</td>\n",
       "      <td>...</td>\n",
       "      <td>...</td>\n",
       "      <td>...</td>\n",
       "      <td>...</td>\n",
       "      <td>...</td>\n",
       "      <td>...</td>\n",
       "    </tr>\n",
       "    <tr>\n",
       "      <th>6152873</th>\n",
       "      <td>e4362420-f6ca-11ec-86e0-002590c0647c</td>\n",
       "      <td>5</td>\n",
       "      <td>6770769</td>\n",
       "      <td>252042197</td>\n",
       "      <td>2024-09-27 06:14:04</td>\n",
       "      <td>350</td>\n",
       "      <td>50448</td>\n",
       "      <td>4</td>\n",
       "      <td>0.0</td>\n",
       "      <td>384</td>\n",
       "      <td>...</td>\n",
       "      <td>57.0</td>\n",
       "      <td>0.0</td>\n",
       "      <td>0.0</td>\n",
       "      <td>0.0</td>\n",
       "      <td>2.0</td>\n",
       "      <td>1.0</td>\n",
       "      <td>0.0</td>\n",
       "      <td>0.0</td>\n",
       "      <td>0.0</td>\n",
       "      <td>True</td>\n",
       "    </tr>\n",
       "    <tr>\n",
       "      <th>6152970</th>\n",
       "      <td>e4362420-f6ca-11ec-86e0-002590c0647c</td>\n",
       "      <td>4</td>\n",
       "      <td>-1</td>\n",
       "      <td>252042197</td>\n",
       "      <td>2024-09-27 06:14:20</td>\n",
       "      <td>NaN</td>\n",
       "      <td>0</td>\n",
       "      <td>4</td>\n",
       "      <td>0.0</td>\n",
       "      <td>384</td>\n",
       "      <td>...</td>\n",
       "      <td>57.0</td>\n",
       "      <td>0.0</td>\n",
       "      <td>0.0</td>\n",
       "      <td>0.0</td>\n",
       "      <td>2.0</td>\n",
       "      <td>16.0</td>\n",
       "      <td>0.0</td>\n",
       "      <td>0.0</td>\n",
       "      <td>0.0</td>\n",
       "      <td>False</td>\n",
       "    </tr>\n",
       "    <tr>\n",
       "      <th>6152981</th>\n",
       "      <td>e4362420-f6ca-11ec-86e0-002590c0647c</td>\n",
       "      <td>5</td>\n",
       "      <td>6990711</td>\n",
       "      <td>252042197</td>\n",
       "      <td>2024-09-27 06:14:21</td>\n",
       "      <td>350</td>\n",
       "      <td>50448</td>\n",
       "      <td>4</td>\n",
       "      <td>0.0</td>\n",
       "      <td>384</td>\n",
       "      <td>...</td>\n",
       "      <td>57.0</td>\n",
       "      <td>0.0</td>\n",
       "      <td>0.0</td>\n",
       "      <td>0.0</td>\n",
       "      <td>2.0</td>\n",
       "      <td>1.0</td>\n",
       "      <td>0.0</td>\n",
       "      <td>0.0</td>\n",
       "      <td>0.0</td>\n",
       "      <td>True</td>\n",
       "    </tr>\n",
       "    <tr>\n",
       "      <th>6152997</th>\n",
       "      <td>e4362420-f6ca-11ec-86e0-002590c0647c</td>\n",
       "      <td>4</td>\n",
       "      <td>-1</td>\n",
       "      <td>252042197</td>\n",
       "      <td>2024-09-27 06:14:24</td>\n",
       "      <td>NaN</td>\n",
       "      <td>0</td>\n",
       "      <td>4</td>\n",
       "      <td>0.0</td>\n",
       "      <td>384</td>\n",
       "      <td>...</td>\n",
       "      <td>57.0</td>\n",
       "      <td>0.0</td>\n",
       "      <td>0.0</td>\n",
       "      <td>0.0</td>\n",
       "      <td>2.0</td>\n",
       "      <td>3.0</td>\n",
       "      <td>0.0</td>\n",
       "      <td>0.0</td>\n",
       "      <td>0.0</td>\n",
       "      <td>False</td>\n",
       "    </tr>\n",
       "    <tr>\n",
       "      <th>6153006</th>\n",
       "      <td>e4362420-f6ca-11ec-86e0-002590c0647c</td>\n",
       "      <td>5</td>\n",
       "      <td>6770769</td>\n",
       "      <td>252042197</td>\n",
       "      <td>2024-09-27 06:14:25</td>\n",
       "      <td>350</td>\n",
       "      <td>50448</td>\n",
       "      <td>4</td>\n",
       "      <td>0.0</td>\n",
       "      <td>384</td>\n",
       "      <td>...</td>\n",
       "      <td>57.0</td>\n",
       "      <td>0.0</td>\n",
       "      <td>0.0</td>\n",
       "      <td>0.0</td>\n",
       "      <td>2.0</td>\n",
       "      <td>1.0</td>\n",
       "      <td>0.0</td>\n",
       "      <td>0.0</td>\n",
       "      <td>0.0</td>\n",
       "      <td>True</td>\n",
       "    </tr>\n",
       "  </tbody>\n",
       "</table>\n",
       "<p>384 rows × 25 columns</p>\n",
       "</div>"
      ]
     },
     "execution_count": 93,
     "metadata": {},
     "output_type": "execute_result"
    }
   ],
   "execution_count": 93
  },
  {
   "metadata": {},
   "cell_type": "code",
   "outputs": [],
   "execution_count": null,
   "source": "",
   "id": "70de3601305c32b3"
  },
  {
   "metadata": {
    "ExecuteTime": {
     "end_time": "2024-10-11T07:39:13.310613Z",
     "start_time": "2024-10-11T07:39:13.307879Z"
    }
   },
   "cell_type": "code",
   "source": [
    "def processing(purchasers):\n",
    "    purchasers = purchasers.map(lambda x: [f'{y}' for y in x] if isinstance(x, list) else [f'{x}'])\n",
    "    purchasers = list([item for sublist in purchasers for item in sublist])\n",
    "    return list(set(purchasers))[:25]"
   ],
   "id": "8f5f038c3b20fe14",
   "outputs": [],
   "execution_count": 264
  },
  {
   "metadata": {
    "ExecuteTime": {
     "end_time": "2024-10-11T07:39:15.162162Z",
     "start_time": "2024-10-11T07:39:15.160701Z"
    }
   },
   "cell_type": "code",
   "source": "# baseline filter v4.2 - pd.Timedelta(5, unit='D') & (purchasers['weight'] > 7) & purchasers.iloc[purchasers.shape[0] - 3000:, :].item_id",
   "id": "1bfc1f9c43a30223",
   "outputs": [],
   "execution_count": null
  },
  {
   "metadata": {
    "ExecuteTime": {
     "end_time": "2024-10-11T11:25:17.309563Z",
     "start_time": "2024-10-11T11:25:16.137518Z"
    }
   },
   "cell_type": "code",
   "source": [
    "last_5_days = inters['datetime'].max() - pd.Timedelta(5, unit='D')\n",
    "purchasers = inters.sort_values(by=['datetime', 'weight'], ascending=True)\n",
    "purchasers = purchasers[(purchasers['weight'] > 7) & (purchasers['datetime'] > last_5_days)]\n",
    "purchasers = purchasers.groupby(['user_id'])['item_id'].apply(processing)\n",
    "purchasers = purchasers.reset_index()\n",
    "purchasers.shape"
   ],
   "id": "66f65e864bf90672",
   "outputs": [
    {
     "data": {
      "text/plain": [
       "(3793, 2)"
      ]
     },
     "execution_count": 970,
     "metadata": {},
     "output_type": "execute_result"
    }
   ],
   "execution_count": 970
  },
  {
   "metadata": {
    "ExecuteTime": {
     "end_time": "2024-10-11T11:25:18.507418Z",
     "start_time": "2024-10-11T11:25:18.504498Z"
    }
   },
   "cell_type": "code",
   "source": "len(purchasers.user_id.unique())",
   "id": "1707a17272a1064",
   "outputs": [
    {
     "data": {
      "text/plain": [
       "3793"
      ]
     },
     "execution_count": 971,
     "metadata": {},
     "output_type": "execute_result"
    }
   ],
   "execution_count": 971
  },
  {
   "metadata": {
    "ExecuteTime": {
     "end_time": "2024-10-11T11:25:19.281271Z",
     "start_time": "2024-10-11T11:25:19.278231Z"
    }
   },
   "cell_type": "code",
   "source": "proved_ids = purchasers.iloc[purchasers.shape[0] - 3000:, :].item_id",
   "id": "d33974c45d4b98c7",
   "outputs": [],
   "execution_count": 972
  },
  {
   "metadata": {
    "ExecuteTime": {
     "end_time": "2024-10-11T11:25:20.791735Z",
     "start_time": "2024-10-11T11:25:20.658086Z"
    }
   },
   "cell_type": "code",
   "source": [
    "purchasers = purchasers[purchasers.item_id.isin(proved_ids)]\n",
    "print(purchasers.shape)\n",
    "p = purchasers.iloc[purchasers.shape[0] - 3000:, :].reset_index(drop=True).rename(columns={'item_id': 'products'})\n",
    "print(p.shape)\n",
    "p.to_csv(\"predictions.csv\", index=False)"
   ],
   "id": "366355d6b642bc51",
   "outputs": [
    {
     "name": "stdout",
     "output_type": "stream",
     "text": [
      "(3052, 2)\n",
      "(3000, 2)\n"
     ]
    }
   ],
   "execution_count": 973
  },
  {
   "metadata": {
    "ExecuteTime": {
     "end_time": "2024-10-11T11:25:21.832236Z",
     "start_time": "2024-10-11T11:25:21.819183Z"
    }
   },
   "cell_type": "code",
   "source": [
    "print(pd.read_csv('predictions.csv').shape)\n",
    "pd.read_csv('predictions.csv').sample(200)"
   ],
   "id": "f3f46f9ed34f9f5",
   "outputs": [
    {
     "name": "stdout",
     "output_type": "stream",
     "text": [
      "(3000, 2)\n"
     ]
    },
    {
     "data": {
      "text/plain": [
       "                                   user_id  \\\n",
       "384   507ed48e-2012-11ef-9b7b-002590c82436   \n",
       "2812  f08c7a66-5a1a-11ef-86e0-002590c0647c   \n",
       "1760  a9670390-5a42-11ef-86e0-002590c0647c   \n",
       "1855  b10a9ee0-7b31-11ee-86e0-002590c0647c   \n",
       "821   6cf47eb2-6113-11ed-ab15-002590c82437   \n",
       "...                                    ...   \n",
       "1195  84f8d5d2-7e1b-11ee-86e0-002590c0647c   \n",
       "1281  8a069df2-5f20-11ef-86e0-002590c0647c   \n",
       "1113  8079ebd0-4e0a-11ef-86e0-002590c0647c   \n",
       "1407  9231a498-01c3-11ed-86e0-002590c0647c   \n",
       "2239  cb05bd96-e4a6-11ee-86e0-002590c0647c   \n",
       "\n",
       "                                                                                                                                                                  products  \n",
       "384                                                                                                                                      ['5114413', '6092723', '6112825']  \n",
       "2812  ['5897404', '1715166', '5230549', '3864580', '6729342', '5928955', '6214150', '807538', '1898206', '1898233', '2692978', '2702593', '5391193', '5109001', '5872915']  \n",
       "1760                                                                                                                                                           ['5001964']  \n",
       "1855                                                                                                                                                           ['4942675']  \n",
       "821                                                                                                     ['1850045', '6143536', '5402779', '2682553', '4911277', '6143185']  \n",
       "...                                                                                                                                                                    ...  \n",
       "1195                                                                              ['4138767', '4914904', '4040538', '3777112', '3201988', '1407332', '4078893', '2741671']  \n",
       "1281                                                                                                                                                           ['1679595']  \n",
       "1113                                                                                                                                                           ['5066056']  \n",
       "1407                                                                                                                                                           ['4999225']  \n",
       "2239                                                                                                                                                ['6530962', '6531148']  \n",
       "\n",
       "[200 rows x 2 columns]"
      ],
      "text/html": [
       "<div>\n",
       "<style scoped>\n",
       "    .dataframe tbody tr th:only-of-type {\n",
       "        vertical-align: middle;\n",
       "    }\n",
       "\n",
       "    .dataframe tbody tr th {\n",
       "        vertical-align: top;\n",
       "    }\n",
       "\n",
       "    .dataframe thead th {\n",
       "        text-align: right;\n",
       "    }\n",
       "</style>\n",
       "<table border=\"1\" class=\"dataframe\">\n",
       "  <thead>\n",
       "    <tr style=\"text-align: right;\">\n",
       "      <th></th>\n",
       "      <th>user_id</th>\n",
       "      <th>products</th>\n",
       "    </tr>\n",
       "  </thead>\n",
       "  <tbody>\n",
       "    <tr>\n",
       "      <th>384</th>\n",
       "      <td>507ed48e-2012-11ef-9b7b-002590c82436</td>\n",
       "      <td>['5114413', '6092723', '6112825']</td>\n",
       "    </tr>\n",
       "    <tr>\n",
       "      <th>2812</th>\n",
       "      <td>f08c7a66-5a1a-11ef-86e0-002590c0647c</td>\n",
       "      <td>['5897404', '1715166', '5230549', '3864580', '6729342', '5928955', '6214150', '807538', '1898206', '1898233', '2692978', '2702593', '5391193', '5109001', '5872915']</td>\n",
       "    </tr>\n",
       "    <tr>\n",
       "      <th>1760</th>\n",
       "      <td>a9670390-5a42-11ef-86e0-002590c0647c</td>\n",
       "      <td>['5001964']</td>\n",
       "    </tr>\n",
       "    <tr>\n",
       "      <th>1855</th>\n",
       "      <td>b10a9ee0-7b31-11ee-86e0-002590c0647c</td>\n",
       "      <td>['4942675']</td>\n",
       "    </tr>\n",
       "    <tr>\n",
       "      <th>821</th>\n",
       "      <td>6cf47eb2-6113-11ed-ab15-002590c82437</td>\n",
       "      <td>['1850045', '6143536', '5402779', '2682553', '4911277', '6143185']</td>\n",
       "    </tr>\n",
       "    <tr>\n",
       "      <th>...</th>\n",
       "      <td>...</td>\n",
       "      <td>...</td>\n",
       "    </tr>\n",
       "    <tr>\n",
       "      <th>1195</th>\n",
       "      <td>84f8d5d2-7e1b-11ee-86e0-002590c0647c</td>\n",
       "      <td>['4138767', '4914904', '4040538', '3777112', '3201988', '1407332', '4078893', '2741671']</td>\n",
       "    </tr>\n",
       "    <tr>\n",
       "      <th>1281</th>\n",
       "      <td>8a069df2-5f20-11ef-86e0-002590c0647c</td>\n",
       "      <td>['1679595']</td>\n",
       "    </tr>\n",
       "    <tr>\n",
       "      <th>1113</th>\n",
       "      <td>8079ebd0-4e0a-11ef-86e0-002590c0647c</td>\n",
       "      <td>['5066056']</td>\n",
       "    </tr>\n",
       "    <tr>\n",
       "      <th>1407</th>\n",
       "      <td>9231a498-01c3-11ed-86e0-002590c0647c</td>\n",
       "      <td>['4999225']</td>\n",
       "    </tr>\n",
       "    <tr>\n",
       "      <th>2239</th>\n",
       "      <td>cb05bd96-e4a6-11ee-86e0-002590c0647c</td>\n",
       "      <td>['6530962', '6531148']</td>\n",
       "    </tr>\n",
       "  </tbody>\n",
       "</table>\n",
       "<p>200 rows × 2 columns</p>\n",
       "</div>"
      ]
     },
     "execution_count": 974,
     "metadata": {},
     "output_type": "execute_result"
    }
   ],
   "execution_count": 974
  },
  {
   "metadata": {},
   "cell_type": "code",
   "outputs": [],
   "execution_count": null,
   "source": "",
   "id": "c96cbe49d43b585a"
  },
  {
   "metadata": {
    "ExecuteTime": {
     "end_time": "2024-10-11T09:39:35.741144Z",
     "start_time": "2024-10-11T09:39:35.739474Z"
    }
   },
   "cell_type": "code",
   "source": "",
   "id": "c31fe5ba397faa76",
   "outputs": [],
   "execution_count": null
  },
  {
   "metadata": {
    "ExecuteTime": {
     "end_time": "2024-10-11T07:21:36.513858Z",
     "start_time": "2024-10-11T07:21:36.512026Z"
    }
   },
   "cell_type": "code",
   "source": "",
   "id": "c5f216a2bb36a7f2",
   "outputs": [],
   "execution_count": null
  },
  {
   "metadata": {
    "ExecuteTime": {
     "end_time": "2024-10-11T07:51:01.782948Z",
     "start_time": "2024-10-11T07:51:00.442355Z"
    }
   },
   "cell_type": "code",
   "source": [
    "max_date = inters['datetime'].max()\n",
    "train_raw = inters[inters['datetime'] >= max_date - pd.Timedelta(days=14)].copy()\n",
    "train_raw = train_raw[train_raw['datetime'] <= max_date - pd.Timedelta(days=3)]\n",
    "test_raw = inters[inters['datetime'] > max_date - pd.Timedelta(days=3)].copy()"
   ],
   "id": "6133f4fbad1eeab6",
   "outputs": [],
   "execution_count": 324
  },
  {
   "metadata": {
    "ExecuteTime": {
     "end_time": "2024-10-11T07:51:04.660152Z",
     "start_time": "2024-10-11T07:51:04.658387Z"
    }
   },
   "cell_type": "code",
   "source": "",
   "id": "d7459139756b00da",
   "outputs": [],
   "execution_count": null
  },
  {
   "metadata": {
    "ExecuteTime": {
     "end_time": "2024-10-11T07:51:06.625420Z",
     "start_time": "2024-10-11T07:51:06.435824Z"
    }
   },
   "cell_type": "code",
   "source": [
    "train = train_raw.drop(columns=['datetime', 'item_id', 'shop_id', 'pageId'])\n",
    "test = test_raw.drop(columns=['datetime', 'item_id', 'shop_id', 'pageId'])"
   ],
   "id": "e8dcaf82a3c57b1b",
   "outputs": [],
   "execution_count": 325
  },
  {
   "metadata": {
    "ExecuteTime": {
     "end_time": "2024-10-11T07:51:06.683920Z",
     "start_time": "2024-10-11T07:51:06.654984Z"
    }
   },
   "cell_type": "code",
   "source": "test.sample()",
   "id": "f10f0ad22d9d7654",
   "outputs": [
    {
     "data": {
      "text/plain": [
       "                                      user_id  weight category_id  \\\n",
       "6312960  4b4a627e-0c94-11ec-8a53-0cc47a6d2fef       4           0   \n",
       "\n",
       "         day_of_week  price_diff  count  action_0_count  action_1_count  \\\n",
       "6312960            4         0.0    201             0.0             1.0   \n",
       "\n",
       "         action_2_count  action_3_count  ...  action_5_count  action_6_count  \\\n",
       "6312960            38.0             0.0  ...            45.0             0.0   \n",
       "\n",
       "         action_7_count  action_8_count  action_9_count  delta_sec  delta_day  \\\n",
       "6312960             5.0            13.0             0.0        5.0        0.0   \n",
       "\n",
       "         delta_hour  delta_min  is_useful  \n",
       "6312960         0.0        0.0      False  \n",
       "\n",
       "[1 rows x 21 columns]"
      ],
      "text/html": [
       "<div>\n",
       "<style scoped>\n",
       "    .dataframe tbody tr th:only-of-type {\n",
       "        vertical-align: middle;\n",
       "    }\n",
       "\n",
       "    .dataframe tbody tr th {\n",
       "        vertical-align: top;\n",
       "    }\n",
       "\n",
       "    .dataframe thead th {\n",
       "        text-align: right;\n",
       "    }\n",
       "</style>\n",
       "<table border=\"1\" class=\"dataframe\">\n",
       "  <thead>\n",
       "    <tr style=\"text-align: right;\">\n",
       "      <th></th>\n",
       "      <th>user_id</th>\n",
       "      <th>weight</th>\n",
       "      <th>category_id</th>\n",
       "      <th>day_of_week</th>\n",
       "      <th>price_diff</th>\n",
       "      <th>count</th>\n",
       "      <th>action_0_count</th>\n",
       "      <th>action_1_count</th>\n",
       "      <th>action_2_count</th>\n",
       "      <th>action_3_count</th>\n",
       "      <th>...</th>\n",
       "      <th>action_5_count</th>\n",
       "      <th>action_6_count</th>\n",
       "      <th>action_7_count</th>\n",
       "      <th>action_8_count</th>\n",
       "      <th>action_9_count</th>\n",
       "      <th>delta_sec</th>\n",
       "      <th>delta_day</th>\n",
       "      <th>delta_hour</th>\n",
       "      <th>delta_min</th>\n",
       "      <th>is_useful</th>\n",
       "    </tr>\n",
       "  </thead>\n",
       "  <tbody>\n",
       "    <tr>\n",
       "      <th>6312960</th>\n",
       "      <td>4b4a627e-0c94-11ec-8a53-0cc47a6d2fef</td>\n",
       "      <td>4</td>\n",
       "      <td>0</td>\n",
       "      <td>4</td>\n",
       "      <td>0.0</td>\n",
       "      <td>201</td>\n",
       "      <td>0.0</td>\n",
       "      <td>1.0</td>\n",
       "      <td>38.0</td>\n",
       "      <td>0.0</td>\n",
       "      <td>...</td>\n",
       "      <td>45.0</td>\n",
       "      <td>0.0</td>\n",
       "      <td>5.0</td>\n",
       "      <td>13.0</td>\n",
       "      <td>0.0</td>\n",
       "      <td>5.0</td>\n",
       "      <td>0.0</td>\n",
       "      <td>0.0</td>\n",
       "      <td>0.0</td>\n",
       "      <td>False</td>\n",
       "    </tr>\n",
       "  </tbody>\n",
       "</table>\n",
       "<p>1 rows × 21 columns</p>\n",
       "</div>"
      ]
     },
     "execution_count": 326,
     "metadata": {},
     "output_type": "execute_result"
    }
   ],
   "execution_count": 326
  },
  {
   "metadata": {
    "ExecuteTime": {
     "end_time": "2024-10-11T07:51:08.520770Z",
     "start_time": "2024-10-11T07:51:08.517732Z"
    }
   },
   "cell_type": "code",
   "source": "train.shape, test.shape",
   "id": "722b5abb87e64ce5",
   "outputs": [
    {
     "data": {
      "text/plain": [
       "((3422180, 21), (1062417, 21))"
      ]
     },
     "execution_count": 327,
     "metadata": {},
     "output_type": "execute_result"
    }
   ],
   "execution_count": 327
  },
  {
   "metadata": {
    "ExecuteTime": {
     "end_time": "2024-10-11T07:51:11.932776Z",
     "start_time": "2024-10-11T07:51:11.920524Z"
    }
   },
   "cell_type": "code",
   "source": "train.weight.value_counts()",
   "id": "d13fdeea693ba952",
   "outputs": [
    {
     "data": {
      "text/plain": [
       "weight\n",
       "4    2093607\n",
       "2     517154\n",
       "5     515541\n",
       "8     190084\n",
       "3      42703\n",
       "7      26076\n",
       "6      16084\n",
       "1      14502\n",
       "9       6238\n",
       "0        191\n",
       "Name: count, dtype: int64"
      ]
     },
     "execution_count": 328,
     "metadata": {},
     "output_type": "execute_result"
    }
   ],
   "execution_count": 328
  },
  {
   "metadata": {
    "ExecuteTime": {
     "end_time": "2024-10-11T07:51:13.895757Z",
     "start_time": "2024-10-11T07:51:13.808067Z"
    }
   },
   "cell_type": "code",
   "source": [
    "train = train[train.weight.isin([0, 1, 3, 6, 7, 9])].drop_duplicates()\n",
    "train.shape"
   ],
   "id": "82dc937792de5",
   "outputs": [
    {
     "data": {
      "text/plain": [
       "(78203, 21)"
      ]
     },
     "execution_count": 329,
     "metadata": {},
     "output_type": "execute_result"
    }
   ],
   "execution_count": 329
  },
  {
   "metadata": {
    "ExecuteTime": {
     "end_time": "2024-10-11T07:51:15.515594Z",
     "start_time": "2024-10-11T07:51:15.367264Z"
    }
   },
   "cell_type": "code",
   "source": [
    "train_portion = pd.concat(\n",
    "    [train[train.weight.isin([0, 1, 3, 6, 7, 9])], train_raw.sample(78_000)],\n",
    "    axis='rows'\n",
    ")"
   ],
   "id": "2d10066311257c1c",
   "outputs": [],
   "execution_count": 330
  },
  {
   "metadata": {
    "ExecuteTime": {
     "end_time": "2024-10-11T07:51:19.317783Z",
     "start_time": "2024-10-11T07:51:19.314453Z"
    }
   },
   "cell_type": "code",
   "source": "train_portion.weight.unique()",
   "id": "ad2e701c4dbea219",
   "outputs": [
    {
     "data": {
      "text/plain": [
       "array([7, 3, 6, 1, 9, 0, 2, 4, 5, 8])"
      ]
     },
     "execution_count": 331,
     "metadata": {},
     "output_type": "execute_result"
    }
   ],
   "execution_count": 331
  },
  {
   "metadata": {
    "ExecuteTime": {
     "end_time": "2024-10-11T07:51:23.933259Z",
     "start_time": "2024-10-11T07:51:20.918766Z"
    }
   },
   "cell_type": "code",
   "source": [
    "train_h2o = h2o.H2OFrame(train_portion)\n",
    "test_h2o = h2o.H2OFrame(test.sample(160_000))"
   ],
   "id": "40e3b6f6a7f48db9",
   "outputs": [],
   "execution_count": 332
  },
  {
   "metadata": {
    "ExecuteTime": {
     "end_time": "2024-10-11T07:51:25.296981Z",
     "start_time": "2024-10-11T07:51:25.288398Z"
    }
   },
   "cell_type": "code",
   "source": [
    "y = \"weight\"\n",
    "x = set(train_h2o.names) - set([y, 'user_id', 'shop_id', 'day', 'hour', 'pageId', 'datetime', 'item_id', 'is_useful'])\n",
    "x"
   ],
   "id": "c73df6245888fc01",
   "outputs": [
    {
     "data": {
      "text/plain": [
       "{'action_0_count',\n",
       " 'action_1_count',\n",
       " 'action_2_count',\n",
       " 'action_3_count',\n",
       " 'action_4_count',\n",
       " 'action_5_count',\n",
       " 'action_6_count',\n",
       " 'action_7_count',\n",
       " 'action_8_count',\n",
       " 'action_9_count',\n",
       " 'category_id',\n",
       " 'count',\n",
       " 'day_of_week',\n",
       " 'delta_day',\n",
       " 'delta_hour',\n",
       " 'delta_min',\n",
       " 'delta_sec',\n",
       " 'price_diff'}"
      ]
     },
     "execution_count": 333,
     "metadata": {},
     "output_type": "execute_result"
    }
   ],
   "execution_count": 333
  },
  {
   "metadata": {
    "ExecuteTime": {
     "end_time": "2024-10-11T07:51:32.085454Z",
     "start_time": "2024-10-11T07:51:32.082613Z"
    }
   },
   "cell_type": "code",
   "source": [
    "train_h2o[y] = train_h2o[y].asfactor()\n",
    "test_h2o[y] = test_h2o[y].asfactor()"
   ],
   "id": "7fa7d7231c5b1a55",
   "outputs": [],
   "execution_count": 334
  },
  {
   "metadata": {
    "ExecuteTime": {
     "end_time": "2024-10-11T07:51:35.610258Z",
     "start_time": "2024-10-11T07:51:35.608409Z"
    }
   },
   "cell_type": "code",
   "source": [
    "# train_h2o['is_useful'] = train_h2o['is_useful'].asfactor()\n",
    "# test_h2o['is_useful'] = test_h2o['is_useful'].asfactor()"
   ],
   "id": "39ebeab709491571",
   "outputs": [],
   "execution_count": 335
  },
  {
   "metadata": {
    "ExecuteTime": {
     "end_time": "2024-10-11T07:51:37.028628Z",
     "start_time": "2024-10-11T07:51:37.020925Z"
    }
   },
   "cell_type": "code",
   "source": [
    "train_h2o['category_id'] = train_h2o['category_id'].asfactor()\n",
    "test_h2o['category_id'] = test_h2o['category_id'].asfactor()"
   ],
   "id": "632976a09523b6a5",
   "outputs": [],
   "execution_count": 336
  },
  {
   "metadata": {
    "ExecuteTime": {
     "end_time": "2024-10-11T07:51:38.616276Z",
     "start_time": "2024-10-11T07:51:38.614420Z"
    }
   },
   "cell_type": "code",
   "source": "",
   "id": "7cd87e0be14c3d19",
   "outputs": [],
   "execution_count": null
  },
  {
   "metadata": {
    "ExecuteTime": {
     "end_time": "2024-10-11T07:51:40.166126Z",
     "start_time": "2024-10-11T07:51:40.148064Z"
    }
   },
   "cell_type": "code",
   "source": [
    "h2o.init(verbose=False)\n",
    "print(f'{h2o.cluster().show_status()}')\n",
    "h2o.no_progress()"
   ],
   "id": "8bfde335c2f8ef6f",
   "outputs": [
    {
     "data": {
      "text/plain": [
       "--------------------------  -----------------------------\n",
       "H2O_cluster_uptime:         12 hours 42 mins\n",
       "H2O_cluster_timezone:       Europe/Moscow\n",
       "H2O_data_parsing_timezone:  UTC\n",
       "H2O_cluster_version:        3.46.0.5\n",
       "H2O_cluster_version_age:    1 month and 11 days\n",
       "H2O_cluster_name:           H2O_from_python_varsey_hsrv8g\n",
       "H2O_cluster_total_nodes:    1\n",
       "H2O_cluster_free_memory:    13.85 Gb\n",
       "H2O_cluster_total_cores:    12\n",
       "H2O_cluster_allowed_cores:  12\n",
       "H2O_cluster_status:         locked, healthy\n",
       "H2O_connection_url:         http://localhost:54321\n",
       "H2O_connection_proxy:       {\"http\": null, \"https\": null}\n",
       "H2O_internal_security:      False\n",
       "Python_version:             3.11.6 final\n",
       "--------------------------  -----------------------------"
      ],
      "text/html": [
       "\n",
       "<style>\n",
       "\n",
       "#h2o-table-20.h2o-container {\n",
       "  overflow-x: auto;\n",
       "}\n",
       "#h2o-table-20 .h2o-table {\n",
       "  /* width: 100%; */\n",
       "  margin-top: 1em;\n",
       "  margin-bottom: 1em;\n",
       "}\n",
       "#h2o-table-20 .h2o-table caption {\n",
       "  white-space: nowrap;\n",
       "  caption-side: top;\n",
       "  text-align: left;\n",
       "  /* margin-left: 1em; */\n",
       "  margin: 0;\n",
       "  font-size: larger;\n",
       "}\n",
       "#h2o-table-20 .h2o-table thead {\n",
       "  white-space: nowrap; \n",
       "  position: sticky;\n",
       "  top: 0;\n",
       "  box-shadow: 0 -1px inset;\n",
       "}\n",
       "#h2o-table-20 .h2o-table tbody {\n",
       "  overflow: auto;\n",
       "}\n",
       "#h2o-table-20 .h2o-table th,\n",
       "#h2o-table-20 .h2o-table td {\n",
       "  text-align: right;\n",
       "  /* border: 1px solid; */\n",
       "}\n",
       "#h2o-table-20 .h2o-table tr:nth-child(even) {\n",
       "  /* background: #F5F5F5 */\n",
       "}\n",
       "\n",
       "</style>      \n",
       "<div id=\"h2o-table-20\" class=\"h2o-container\">\n",
       "  <table class=\"h2o-table\">\n",
       "    <caption></caption>\n",
       "    <thead></thead>\n",
       "    <tbody><tr><td>H2O_cluster_uptime:</td>\n",
       "<td>12 hours 42 mins</td></tr>\n",
       "<tr><td>H2O_cluster_timezone:</td>\n",
       "<td>Europe/Moscow</td></tr>\n",
       "<tr><td>H2O_data_parsing_timezone:</td>\n",
       "<td>UTC</td></tr>\n",
       "<tr><td>H2O_cluster_version:</td>\n",
       "<td>3.46.0.5</td></tr>\n",
       "<tr><td>H2O_cluster_version_age:</td>\n",
       "<td>1 month and 11 days</td></tr>\n",
       "<tr><td>H2O_cluster_name:</td>\n",
       "<td>H2O_from_python_varsey_hsrv8g</td></tr>\n",
       "<tr><td>H2O_cluster_total_nodes:</td>\n",
       "<td>1</td></tr>\n",
       "<tr><td>H2O_cluster_free_memory:</td>\n",
       "<td>13.85 Gb</td></tr>\n",
       "<tr><td>H2O_cluster_total_cores:</td>\n",
       "<td>12</td></tr>\n",
       "<tr><td>H2O_cluster_allowed_cores:</td>\n",
       "<td>12</td></tr>\n",
       "<tr><td>H2O_cluster_status:</td>\n",
       "<td>locked, healthy</td></tr>\n",
       "<tr><td>H2O_connection_url:</td>\n",
       "<td>http://localhost:54321</td></tr>\n",
       "<tr><td>H2O_connection_proxy:</td>\n",
       "<td>{\"http\": null, \"https\": null}</td></tr>\n",
       "<tr><td>H2O_internal_security:</td>\n",
       "<td>False</td></tr>\n",
       "<tr><td>Python_version:</td>\n",
       "<td>3.11.6 final</td></tr></tbody>\n",
       "  </table>\n",
       "</div>\n"
      ]
     },
     "metadata": {},
     "output_type": "display_data"
    },
    {
     "name": "stdout",
     "output_type": "stream",
     "text": [
      "None\n"
     ]
    }
   ],
   "execution_count": 337
  },
  {
   "metadata": {},
   "cell_type": "code",
   "source": [
    "gbm_model = H2OGradientBoostingEstimator(seed=1234)\n",
    "gbm_model.train(x=list(x),\n",
    "                y=y,\n",
    "                training_frame = train_h2o,\n",
    "                validation_frame = test_h2o,\n",
    "                )"
   ],
   "id": "3be5fd2b53fb9838",
   "outputs": [],
   "execution_count": null
  },
  {
   "metadata": {
    "ExecuteTime": {
     "end_time": "2024-10-11T07:51:54.133061Z",
     "start_time": "2024-10-11T07:51:54.122055Z"
    }
   },
   "cell_type": "code",
   "source": "gbm_model.varimp(use_pandas=True)",
   "id": "25b2e7ebc47bafe4",
   "outputs": [
    {
     "data": {
      "text/plain": [
       "          variable  relative_importance  scaled_importance  percentage\n",
       "0      category_id        115934.929688           1.000000    0.446864\n",
       "1   action_6_count         30175.240234           0.260277    0.116309\n",
       "2   action_3_count         27399.675781           0.236337    0.105610\n",
       "3   action_7_count         18472.289062           0.159333    0.071200\n",
       "4   action_1_count         14832.882812           0.127941    0.057172\n",
       "5        delta_min         12405.874023           0.107007    0.047818\n",
       "6   action_4_count         11709.735352           0.101003    0.045134\n",
       "7   action_8_count         10262.751953           0.088522    0.039557\n",
       "8            count          4609.777832           0.039762    0.017768\n",
       "9        delta_sec          4002.286133           0.034522    0.015427\n",
       "10  action_9_count          3927.839600           0.033880    0.015140\n",
       "11  action_2_count          2603.456543           0.022456    0.010035\n",
       "12  action_5_count          1728.435181           0.014909    0.006662\n",
       "13      price_diff           660.737244           0.005699    0.002547\n",
       "14     day_of_week           500.746429           0.004319    0.001930\n",
       "15  action_0_count           125.981339           0.001087    0.000486\n",
       "16      delta_hour            57.350998           0.000495    0.000221\n",
       "17       delta_day            30.927172           0.000267    0.000119"
      ],
      "text/html": [
       "<div>\n",
       "<style scoped>\n",
       "    .dataframe tbody tr th:only-of-type {\n",
       "        vertical-align: middle;\n",
       "    }\n",
       "\n",
       "    .dataframe tbody tr th {\n",
       "        vertical-align: top;\n",
       "    }\n",
       "\n",
       "    .dataframe thead th {\n",
       "        text-align: right;\n",
       "    }\n",
       "</style>\n",
       "<table border=\"1\" class=\"dataframe\">\n",
       "  <thead>\n",
       "    <tr style=\"text-align: right;\">\n",
       "      <th></th>\n",
       "      <th>variable</th>\n",
       "      <th>relative_importance</th>\n",
       "      <th>scaled_importance</th>\n",
       "      <th>percentage</th>\n",
       "    </tr>\n",
       "  </thead>\n",
       "  <tbody>\n",
       "    <tr>\n",
       "      <th>0</th>\n",
       "      <td>category_id</td>\n",
       "      <td>115934.929688</td>\n",
       "      <td>1.000000</td>\n",
       "      <td>0.446864</td>\n",
       "    </tr>\n",
       "    <tr>\n",
       "      <th>1</th>\n",
       "      <td>action_6_count</td>\n",
       "      <td>30175.240234</td>\n",
       "      <td>0.260277</td>\n",
       "      <td>0.116309</td>\n",
       "    </tr>\n",
       "    <tr>\n",
       "      <th>2</th>\n",
       "      <td>action_3_count</td>\n",
       "      <td>27399.675781</td>\n",
       "      <td>0.236337</td>\n",
       "      <td>0.105610</td>\n",
       "    </tr>\n",
       "    <tr>\n",
       "      <th>3</th>\n",
       "      <td>action_7_count</td>\n",
       "      <td>18472.289062</td>\n",
       "      <td>0.159333</td>\n",
       "      <td>0.071200</td>\n",
       "    </tr>\n",
       "    <tr>\n",
       "      <th>4</th>\n",
       "      <td>action_1_count</td>\n",
       "      <td>14832.882812</td>\n",
       "      <td>0.127941</td>\n",
       "      <td>0.057172</td>\n",
       "    </tr>\n",
       "    <tr>\n",
       "      <th>5</th>\n",
       "      <td>delta_min</td>\n",
       "      <td>12405.874023</td>\n",
       "      <td>0.107007</td>\n",
       "      <td>0.047818</td>\n",
       "    </tr>\n",
       "    <tr>\n",
       "      <th>6</th>\n",
       "      <td>action_4_count</td>\n",
       "      <td>11709.735352</td>\n",
       "      <td>0.101003</td>\n",
       "      <td>0.045134</td>\n",
       "    </tr>\n",
       "    <tr>\n",
       "      <th>7</th>\n",
       "      <td>action_8_count</td>\n",
       "      <td>10262.751953</td>\n",
       "      <td>0.088522</td>\n",
       "      <td>0.039557</td>\n",
       "    </tr>\n",
       "    <tr>\n",
       "      <th>8</th>\n",
       "      <td>count</td>\n",
       "      <td>4609.777832</td>\n",
       "      <td>0.039762</td>\n",
       "      <td>0.017768</td>\n",
       "    </tr>\n",
       "    <tr>\n",
       "      <th>9</th>\n",
       "      <td>delta_sec</td>\n",
       "      <td>4002.286133</td>\n",
       "      <td>0.034522</td>\n",
       "      <td>0.015427</td>\n",
       "    </tr>\n",
       "    <tr>\n",
       "      <th>10</th>\n",
       "      <td>action_9_count</td>\n",
       "      <td>3927.839600</td>\n",
       "      <td>0.033880</td>\n",
       "      <td>0.015140</td>\n",
       "    </tr>\n",
       "    <tr>\n",
       "      <th>11</th>\n",
       "      <td>action_2_count</td>\n",
       "      <td>2603.456543</td>\n",
       "      <td>0.022456</td>\n",
       "      <td>0.010035</td>\n",
       "    </tr>\n",
       "    <tr>\n",
       "      <th>12</th>\n",
       "      <td>action_5_count</td>\n",
       "      <td>1728.435181</td>\n",
       "      <td>0.014909</td>\n",
       "      <td>0.006662</td>\n",
       "    </tr>\n",
       "    <tr>\n",
       "      <th>13</th>\n",
       "      <td>price_diff</td>\n",
       "      <td>660.737244</td>\n",
       "      <td>0.005699</td>\n",
       "      <td>0.002547</td>\n",
       "    </tr>\n",
       "    <tr>\n",
       "      <th>14</th>\n",
       "      <td>day_of_week</td>\n",
       "      <td>500.746429</td>\n",
       "      <td>0.004319</td>\n",
       "      <td>0.001930</td>\n",
       "    </tr>\n",
       "    <tr>\n",
       "      <th>15</th>\n",
       "      <td>action_0_count</td>\n",
       "      <td>125.981339</td>\n",
       "      <td>0.001087</td>\n",
       "      <td>0.000486</td>\n",
       "    </tr>\n",
       "    <tr>\n",
       "      <th>16</th>\n",
       "      <td>delta_hour</td>\n",
       "      <td>57.350998</td>\n",
       "      <td>0.000495</td>\n",
       "      <td>0.000221</td>\n",
       "    </tr>\n",
       "    <tr>\n",
       "      <th>17</th>\n",
       "      <td>delta_day</td>\n",
       "      <td>30.927172</td>\n",
       "      <td>0.000267</td>\n",
       "      <td>0.000119</td>\n",
       "    </tr>\n",
       "  </tbody>\n",
       "</table>\n",
       "</div>"
      ]
     },
     "execution_count": 339,
     "metadata": {},
     "output_type": "execute_result"
    }
   ],
   "execution_count": 339
  },
  {
   "metadata": {},
   "cell_type": "code",
   "source": "gbm_model.model_performance(test_h2o)",
   "id": "df542bafe3b785fb",
   "outputs": [],
   "execution_count": null
  },
  {
   "metadata": {
    "ExecuteTime": {
     "end_time": "2024-10-11T07:52:07.080423Z",
     "start_time": "2024-10-11T07:52:07.078750Z"
    }
   },
   "cell_type": "code",
   "source": "",
   "id": "eabbc1198fbe0869",
   "outputs": [],
   "execution_count": null
  },
  {
   "metadata": {},
   "cell_type": "code",
   "outputs": [],
   "execution_count": null,
   "source": "",
   "id": "84abd410a0807e47"
  },
  {
   "metadata": {
    "ExecuteTime": {
     "end_time": "2024-10-11T10:46:06.352286Z",
     "start_time": "2024-10-11T10:46:06.171332Z"
    }
   },
   "cell_type": "code",
   "source": [
    "cats = inters.category_id.value_counts()\n",
    "cats = cats.reset_index()\n",
    "cats.category_id = cats.category_id.astype(int)\n",
    "print(cats.columns)\n",
    "selected_cat = cats[(cats['count'] > 1_00) & (cats['count'] != 0)].category_id.to_list()\n",
    "len(selected_cat)"
   ],
   "id": "5a8228409042622",
   "outputs": [
    {
     "name": "stdout",
     "output_type": "stream",
     "text": [
      "Index(['category_id', 'count'], dtype='object')\n"
     ]
    },
    {
     "data": {
      "text/plain": [
       "757"
      ]
     },
     "execution_count": 822,
     "metadata": {},
     "output_type": "execute_result"
    }
   ],
   "execution_count": 822
  },
  {
   "metadata": {
    "ExecuteTime": {
     "end_time": "2024-10-11T10:46:09.253732Z",
     "start_time": "2024-10-11T10:46:09.128822Z"
    }
   },
   "cell_type": "code",
   "source": "cats[(cats['count'] < 10000) & (cats['count'] != 0)]['category_id'].hist(bins=10)",
   "id": "c318afdd334a5416",
   "outputs": [
    {
     "data": {
      "text/plain": [
       "<Axes: >"
      ]
     },
     "execution_count": 823,
     "metadata": {},
     "output_type": "execute_result"
    },
    {
     "data": {
      "text/plain": [
       "<Figure size 640x480 with 1 Axes>"
      ],
      "image/png": "[encoded data removed]"
     },
     "metadata": {},
     "output_type": "display_data"
    }
   ],
   "execution_count": 823
  },
  {
   "metadata": {
    "ExecuteTime": {
     "end_time": "2024-10-11T18:04:52.748331Z",
     "start_time": "2024-10-11T18:04:52.744883Z"
    }
   },
   "cell_type": "code",
   "source": [
    "def calculate_recall(row):\n",
    "    set_col1 = set(row['item_id_x'])\n",
    "    set_col2 = set(row['item_id_y'])\n",
    "\n",
    "    true_positives = len(set_col1.intersection(set_col2))\n",
    "    false_negatives = len(set_col1) # len(set_col2 - set_col1)\n",
    "\n",
    "    if true_positives + false_negatives == 0:  # Avoid division by zero\n",
    "        return 0.0\n",
    "    return true_positives / (true_positives + false_negatives)"
   ],
   "id": "78824cf071aa487d",
   "outputs": [],
   "execution_count": 1676
  },
  {
   "metadata": {
    "ExecuteTime": {
     "end_time": "2024-10-11T18:04:54.207308Z",
     "start_time": "2024-10-11T18:04:53.073645Z"
    }
   },
   "cell_type": "code",
   "source": [
    "last_3_days = inters['datetime'].max() - pd.Timedelta(3, unit='D')\n",
    "test_purchasers = inters.sort_values(by=['datetime', 'weight'], ascending=True)\n",
    "test_purchasers = test_purchasers[(test_purchasers['weight'] == 9) & (test_purchasers['datetime'] > last_3_days)]\n",
    "test_purchasers = test_purchasers.groupby(['user_id'])['item_id'].apply(processing)\n",
    "test_purchasers = test_purchasers.reset_index()\n",
    "test_purchasers.shape"
   ],
   "id": "3be5212427a6c914",
   "outputs": [
    {
     "data": {
      "text/plain": [
       "(496, 2)"
      ]
     },
     "execution_count": 1677,
     "metadata": {},
     "output_type": "execute_result"
    }
   ],
   "execution_count": 1677
  },
  {
   "metadata": {
    "ExecuteTime": {
     "end_time": "2024-10-11T18:04:54.321515Z",
     "start_time": "2024-10-11T18:04:54.319505Z"
    }
   },
   "cell_type": "code",
   "source": "",
   "id": "24721f2d1fc5b85c",
   "outputs": [],
   "execution_count": null
  },
  {
   "metadata": {
    "ExecuteTime": {
     "end_time": "2024-10-11T18:22:34.975419Z",
     "start_time": "2024-10-11T18:22:33.718351Z"
    }
   },
   "cell_type": "code",
   "source": [
    "last_3_days = inters['datetime'].max() - pd.Timedelta(0, unit='D')\n",
    "last_8_days = inters['datetime'].max() - pd.Timedelta(5*25, unit='hours')\n",
    "pred_purchasers = inters.sort_values(by=['datetime', 'weight'], ascending=True)\n",
    "pred_purchasers = pred_purchasers[\n",
    "    (pred_purchasers['weight'] > 7)\n",
    "    & (pred_purchasers['datetime'] > last_8_days)\n",
    "    & (pred_purchasers['datetime'] < last_3_days)\n",
    "    & ((pred_purchasers.action_7_count > 50) | (pred_purchasers.action_8_count > 100) | (pred_purchasers.action_9_count > 0))\n",
    "]\n",
    "pred_purchasers = pred_purchasers.groupby(['user_id'])['item_id'].apply(processing)\n",
    "pred_purchasers = pred_purchasers.reset_index()\n",
    "pred_purchasers.shape"
   ],
   "id": "d679098ef6b23f8a",
   "outputs": [
    {
     "data": {
      "text/plain": [
       "(1334, 2)"
      ]
     },
     "execution_count": 1891,
     "metadata": {},
     "output_type": "execute_result"
    }
   ],
   "execution_count": 1891
  },
  {
   "metadata": {
    "ExecuteTime": {
     "end_time": "2024-10-11T18:22:35.711273Z",
     "start_time": "2024-10-11T18:22:35.707245Z"
    }
   },
   "cell_type": "code",
   "source": "pred_purchasers[pred_purchasers.user_id.isin(test_purchasers.user_id.unique())].shape",
   "id": "29e94d0446632ec2",
   "outputs": [
    {
     "data": {
      "text/plain": [
       "(496, 2)"
      ]
     },
     "execution_count": 1892,
     "metadata": {},
     "output_type": "execute_result"
    }
   ],
   "execution_count": 1892
  },
  {
   "metadata": {
    "ExecuteTime": {
     "end_time": "2024-10-11T18:22:36.695622Z",
     "start_time": "2024-10-11T18:22:36.687406Z"
    }
   },
   "cell_type": "code",
   "source": [
    "check_merge = test_purchasers.merge(pred_purchasers[-3000:], on='user_id', how='left')\n",
    "check_merge.item_id_y.loc[check_merge.item_id_y.isnull()] = check_merge.item_id_y.loc[check_merge.item_id_y.isnull()].apply(lambda x: [])\n",
    "check_merge.shape"
   ],
   "id": "a33904fee2d14bfb",
   "outputs": [
    {
     "data": {
      "text/plain": [
       "(496, 3)"
      ]
     },
     "execution_count": 1893,
     "metadata": {},
     "output_type": "execute_result"
    }
   ],
   "execution_count": 1893
  },
  {
   "metadata": {
    "ExecuteTime": {
     "end_time": "2024-10-11T18:22:37.545111Z",
     "start_time": "2024-10-11T18:22:37.538381Z"
    }
   },
   "cell_type": "code",
   "source": "check_merge.sample(1)",
   "id": "b7da4fd1f665a549",
   "outputs": [
    {
     "data": {
      "text/plain": [
       "                                 user_id                    item_id_x  \\\n",
       "46  128d43f8-c583-11ed-86e0-002590c0647c  [5315221, 5482294, 4959439]   \n",
       "\n",
       "                                                                                     item_id_y  \n",
       "46  [5157772, 5482294, 4959556, 2785537, 1771257, 5033086, 5315221, 4959439, 5025892, 5315320]  "
      ],
      "text/html": [
       "<div>\n",
       "<style scoped>\n",
       "    .dataframe tbody tr th:only-of-type {\n",
       "        vertical-align: middle;\n",
       "    }\n",
       "\n",
       "    .dataframe tbody tr th {\n",
       "        vertical-align: top;\n",
       "    }\n",
       "\n",
       "    .dataframe thead th {\n",
       "        text-align: right;\n",
       "    }\n",
       "</style>\n",
       "<table border=\"1\" class=\"dataframe\">\n",
       "  <thead>\n",
       "    <tr style=\"text-align: right;\">\n",
       "      <th></th>\n",
       "      <th>user_id</th>\n",
       "      <th>item_id_x</th>\n",
       "      <th>item_id_y</th>\n",
       "    </tr>\n",
       "  </thead>\n",
       "  <tbody>\n",
       "    <tr>\n",
       "      <th>46</th>\n",
       "      <td>128d43f8-c583-11ed-86e0-002590c0647c</td>\n",
       "      <td>[5315221, 5482294, 4959439]</td>\n",
       "      <td>[5157772, 5482294, 4959556, 2785537, 1771257, 5033086, 5315221, 4959439, 5025892, 5315320]</td>\n",
       "    </tr>\n",
       "  </tbody>\n",
       "</table>\n",
       "</div>"
      ]
     },
     "execution_count": 1894,
     "metadata": {},
     "output_type": "execute_result"
    }
   ],
   "execution_count": 1894
  },
  {
   "metadata": {
    "ExecuteTime": {
     "end_time": "2024-10-11T18:22:37.792839Z",
     "start_time": "2024-10-11T18:22:37.781869Z"
    }
   },
   "cell_type": "code",
   "source": [
    "check_merge['recall'] = check_merge.apply(calculate_recall, axis=1)\n",
    "check_merge['recall'].mean()"
   ],
   "id": "e8b2727593788803",
   "outputs": [
    {
     "data": {
      "text/plain": [
       "0.49797213353943054"
      ]
     },
     "execution_count": 1895,
     "metadata": {},
     "output_type": "execute_result"
    }
   ],
   "execution_count": 1895
  },
  {
   "metadata": {
    "ExecuteTime": {
     "end_time": "2024-10-11T18:22:38.175347Z",
     "start_time": "2024-10-11T18:22:38.170969Z"
    }
   },
   "cell_type": "code",
   "source": "",
   "id": "e708eef45177dc97",
   "outputs": [],
   "execution_count": null
  },
  {
   "metadata": {
    "ExecuteTime": {
     "end_time": "2024-10-11T18:22:40.448694Z",
     "start_time": "2024-10-11T18:22:40.438913Z"
    }
   },
   "cell_type": "code",
   "source": [
    "print(pred_purchasers.shape)\n",
    "p = pred_purchasers.iloc[pred_purchasers.shape[0] - 3000:, :].reset_index(drop=True).rename(columns={'item_id': 'products'})\n",
    "print(p.shape)\n",
    "p.to_csv(\"predictions.csv\", index=False)"
   ],
   "id": "17e54eb9798f2340",
   "outputs": [
    {
     "name": "stdout",
     "output_type": "stream",
     "text": [
      "(1334, 2)\n",
      "(1334, 2)\n"
     ]
    }
   ],
   "execution_count": 1896
  },
  {
   "metadata": {
    "ExecuteTime": {
     "end_time": "2024-10-11T18:15:56.720324Z",
     "start_time": "2024-10-11T18:15:56.718493Z"
    }
   },
   "cell_type": "code",
   "source": "",
   "id": "8d71105583e8b08a",
   "outputs": [],
   "execution_count": null
  },
  {
   "metadata": {
    "ExecuteTime": {
     "end_time": "2024-10-11T18:15:57.767400Z",
     "start_time": "2024-10-11T18:15:57.745242Z"
    }
   },
   "cell_type": "code",
   "source": "inters['datetime'].min(), inters['datetime'].max()",
   "id": "9ad035ca9ea4811a",
   "outputs": [
    {
     "data": {
      "text/plain": [
       "(Timestamp('2024-09-07 00:00:04'), Timestamp('2024-09-28 23:59:59'))"
      ]
     },
     "execution_count": 1803,
     "metadata": {},
     "output_type": "execute_result"
    }
   ],
   "execution_count": 1803
  },
  {
   "metadata": {
    "ExecuteTime": {
     "end_time": "2024-10-11T18:23:07.643017Z",
     "start_time": "2024-10-11T18:23:06.955762Z"
    }
   },
   "cell_type": "code",
   "source": [
    "last_3_days = inters['datetime'].max() - pd.Timedelta(0, unit='D')\n",
    "last_8_days = inters['datetime'].max() - pd.Timedelta(21, unit='D')\n",
    "pred_data = inters[(inters['datetime'] > last_8_days) & (inters['datetime'] < last_3_days)]"
   ],
   "id": "2a096716de8d5078",
   "outputs": [],
   "execution_count": 1897
  },
  {
   "metadata": {
    "ExecuteTime": {
     "end_time": "2024-10-11T18:23:35.686676Z",
     "start_time": "2024-10-11T18:23:08.274647Z"
    }
   },
   "cell_type": "code",
   "source": "t = h2o.H2OFrame(pred_data[list(x)])",
   "id": "80716113f5edb9d6",
   "outputs": [],
   "execution_count": 1898
  },
  {
   "metadata": {
    "ExecuteTime": {
     "end_time": "2024-10-11T18:24:31.630904Z",
     "start_time": "2024-10-11T18:23:35.738821Z"
    }
   },
   "cell_type": "code",
   "source": "preds = gbm_model.predict(t)",
   "id": "509ee3ee83313321",
   "outputs": [],
   "execution_count": 1899
  },
  {
   "metadata": {
    "ExecuteTime": {
     "end_time": "2024-10-11T18:24:31.691620Z",
     "start_time": "2024-10-11T18:24:31.685903Z"
    }
   },
   "cell_type": "code",
   "source": "",
   "id": "27cd70059d63374f",
   "outputs": [],
   "execution_count": null
  },
  {
   "metadata": {
    "ExecuteTime": {
     "end_time": "2024-10-11T18:24:55.815929Z",
     "start_time": "2024-10-11T18:24:31.744325Z"
    }
   },
   "cell_type": "code",
   "source": [
    "res = pd.concat(\n",
    "    [\n",
    "        pred_data[list(x) + ['weight', 'user_id', 'item_id']].reset_index(drop=True),\n",
    "        preds.as_data_frame().reset_index(drop=True)\n",
    "    ],\n",
    "    axis='columns',\n",
    ")"
   ],
   "id": "4c607291f16cf37f",
   "outputs": [],
   "execution_count": 1900
  },
  {
   "metadata": {
    "ExecuteTime": {
     "end_time": "2024-10-11T18:24:56.363071Z",
     "start_time": "2024-10-11T18:24:55.821494Z"
    }
   },
   "cell_type": "code",
   "source": [
    "res['score'] = res[res.columns[-10:]].max(axis=1)\n",
    "        "
   ],
   "id": "7c40113dbfd5ee58",
   "outputs": [],
   "execution_count": 1901
  },
  {
   "metadata": {
    "ExecuteTime": {
     "end_time": "2024-10-11T18:24:56.367677Z",
     "start_time": "2024-10-11T18:24:56.365708Z"
    }
   },
   "cell_type": "code",
   "source": "# res[list(set(res.columns) - set(['user_id']))].sample(1000).corr()",
   "id": "9afc6abd0a9bd5a3",
   "outputs": [],
   "execution_count": 1902
  },
  {
   "metadata": {
    "ExecuteTime": {
     "end_time": "2024-10-11T18:24:56.789731Z",
     "start_time": "2024-10-11T18:24:56.446843Z"
    }
   },
   "cell_type": "code",
   "source": "res[(res.predict > 5) & (res.category_id.isin(selected_cat)) ].groupby('user_id')['item_id'].agg(lambda x: list(map(str, x))[:25]).reset_index().shape",
   "id": "d54d045a464a8a4c",
   "outputs": [
    {
     "data": {
      "text/plain": [
       "(14321, 2)"
      ]
     },
     "execution_count": 1903,
     "metadata": {},
     "output_type": "execute_result"
    }
   ],
   "execution_count": 1903
  },
  {
   "metadata": {
    "ExecuteTime": {
     "end_time": "2024-10-11T18:30:59.363527Z",
     "start_time": "2024-10-11T18:30:59.106558Z"
    }
   },
   "cell_type": "code",
   "source": [
    "res[\n",
    "    (res.predict > 6)\n",
    "    & (res.predict <= 7)\n",
    "    & (res.category_id.isin(selected_cat))\n",
    "    & (res.user_id.isin(test_purchasers.user_id.unique()))\n",
    "    # & ((res.action_7_count > 1) | (res.action_8_count > 1) | (res.action_9_count > 1))\n",
    "].groupby('user_id')['item_id'].agg(lambda x: list(set(map(str, x)))[:25]).reset_index().shape"
   ],
   "id": "936c3aae07a92e79",
   "outputs": [
    {
     "data": {
      "text/plain": [
       "(409, 2)"
      ]
     },
     "execution_count": 1929,
     "metadata": {},
     "output_type": "execute_result"
    }
   ],
   "execution_count": 1929
  },
  {
   "metadata": {
    "ExecuteTime": {
     "end_time": "2024-10-11T18:31:11.783107Z",
     "start_time": "2024-10-11T18:31:11.492391Z"
    }
   },
   "cell_type": "code",
   "source": [
    "ml_pred = res[\n",
    "    (res.predict > 6)\n",
    "    & (res.predict <= 7)\n",
    "    & (res.category_id.isin(selected_cat))\n",
    "    # & ((res.action_7_count > 1) | (res.action_8_count > 1) | (res.action_9_count > 1))\n",
    "].groupby('user_id')['item_id'].agg(lambda x: list(set(map(str, x)))[:25]).reset_index()\n",
    "ml_pred.shape"
   ],
   "id": "4fecc641289068c",
   "outputs": [
    {
     "data": {
      "text/plain": [
       "(11388, 2)"
      ]
     },
     "execution_count": 1930,
     "metadata": {},
     "output_type": "execute_result"
    }
   ],
   "execution_count": 1930
  },
  {
   "metadata": {
    "ExecuteTime": {
     "end_time": "2024-10-11T18:31:19.657955Z",
     "start_time": "2024-10-11T18:31:19.656110Z"
    }
   },
   "cell_type": "code",
   "source": "# res[(res.predict == 7) & (res.user_id.isin(test_purchasers.user_id.unique()))]",
   "id": "474cac2eed0ded39",
   "outputs": [],
   "execution_count": 1931
  },
  {
   "metadata": {
    "ExecuteTime": {
     "end_time": "2024-10-11T18:31:20.514891Z",
     "start_time": "2024-10-11T18:31:20.278917Z"
    }
   },
   "cell_type": "code",
   "source": "res[(res.predict > 7) & (res.category_id.isin(selected_cat)) & (res.user_id.isin(test_purchasers.user_id.unique())) & (res.action_7_count > 1) & (res.action_8_count > 1) & (res.action_9_count > 1)].shape",
   "id": "da5fe9196daa186c",
   "outputs": [
    {
     "data": {
      "text/plain": [
       "(4942, 33)"
      ]
     },
     "execution_count": 1932,
     "metadata": {},
     "output_type": "execute_result"
    }
   ],
   "execution_count": 1932
  },
  {
   "metadata": {
    "ExecuteTime": {
     "end_time": "2024-10-11T18:31:20.851849Z",
     "start_time": "2024-10-11T18:31:20.848467Z"
    }
   },
   "cell_type": "code",
   "source": "pred_purchasers.shape",
   "id": "e0591e5a8ff67720",
   "outputs": [
    {
     "data": {
      "text/plain": [
       "(1334, 2)"
      ]
     },
     "execution_count": 1933,
     "metadata": {},
     "output_type": "execute_result"
    }
   ],
   "execution_count": 1933
  },
  {
   "metadata": {
    "ExecuteTime": {
     "end_time": "2024-10-11T18:31:40.261966Z",
     "start_time": "2024-10-11T18:31:40.254247Z"
    }
   },
   "cell_type": "code",
   "source": [
    "data_to_check = pd.concat(\n",
    "    [\n",
    "        ml_pred.reset_index(drop=True),\n",
    "        pred_purchasers.reset_index(drop=True),\n",
    "        # res[(res.predict == 6) & (res.category_id.isin(selected_cat))].groupby('user_id')['item_id'].agg(lambda x: list(set(map(str, x)))[:25]).reset_index()\n",
    "    ],\n",
    "    axis='rows'\n",
    ")\n",
    "print(data_to_check.shape)\n",
    "data_to_check = data_to_check.drop_duplicates(subset='user_id', keep='last') # .reset_index(drop=True)\n",
    "print(data_to_check[data_to_check.user_id.isin(test_purchasers.user_id.unique())].shape)\n",
    "data_to_check.shape"
   ],
   "id": "bf424e0840c3fdca",
   "outputs": [
    {
     "name": "stdout",
     "output_type": "stream",
     "text": [
      "(12722, 2)\n",
      "(496, 2)\n"
     ]
    },
    {
     "data": {
      "text/plain": [
       "(11622, 2)"
      ]
     },
     "execution_count": 1938,
     "metadata": {},
     "output_type": "execute_result"
    }
   ],
   "execution_count": 1938
  },
  {
   "metadata": {
    "ExecuteTime": {
     "end_time": "2024-10-11T18:31:41.367019Z",
     "start_time": "2024-10-11T18:31:41.363055Z"
    }
   },
   "cell_type": "code",
   "source": "data_to_check[-3000:].shape",
   "id": "7e97f625035edf8a",
   "outputs": [
    {
     "data": {
      "text/plain": [
       "(3000, 2)"
      ]
     },
     "execution_count": 1939,
     "metadata": {},
     "output_type": "execute_result"
    }
   ],
   "execution_count": 1939
  },
  {
   "metadata": {
    "ExecuteTime": {
     "end_time": "2024-10-11T18:31:42.312227Z",
     "start_time": "2024-10-11T18:31:42.309925Z"
    }
   },
   "cell_type": "code",
   "source": [
    "# data_to_check = data_to_check[-3000:]\n",
    "# print(data_to_check.shape)\n",
    "# data_to_check.head()"
   ],
   "id": "bdda3b4a497aab9a",
   "outputs": [],
   "execution_count": 1940
  },
  {
   "metadata": {
    "ExecuteTime": {
     "end_time": "2024-10-11T18:31:42.724574Z",
     "start_time": "2024-10-11T18:31:42.714435Z"
    }
   },
   "cell_type": "code",
   "source": [
    "# check_merge_ml = test_purchasers.merge(data_to_check.sample(3000, random_state=42), on='user_id', how='left')\n",
    "check_merge_ml = test_purchasers.merge(data_to_check[-3000:], on='user_id', how='left')\n",
    "check_merge_ml.item_id_y.loc[check_merge_ml.item_id_y.isnull()] = check_merge_ml.item_id_y.loc[check_merge_ml.item_id_y.isnull()].apply(lambda x: [])\n",
    "print(check_merge_ml.shape)\n",
    "check_merge_ml['recall'] = check_merge_ml.apply(calculate_recall, axis=1)\n",
    "check_merge_ml['recall'].mean()"
   ],
   "id": "38a2437811180840",
   "outputs": [
    {
     "name": "stdout",
     "output_type": "stream",
     "text": [
      "(496, 3)\n"
     ]
    },
    {
     "data": {
      "text/plain": [
       "0.49797213353943054"
      ]
     },
     "execution_count": 1941,
     "metadata": {},
     "output_type": "execute_result"
    }
   ],
   "execution_count": 1941
  },
  {
   "metadata": {
    "ExecuteTime": {
     "end_time": "2024-10-11T18:06:27.415503Z",
     "start_time": "2024-10-11T18:06:27.413536Z"
    }
   },
   "cell_type": "code",
   "source": "",
   "id": "f486ae5f13d9ea08",
   "outputs": [],
   "execution_count": null
  },
  {
   "metadata": {
    "ExecuteTime": {
     "end_time": "2024-10-11T18:11:16.230411Z",
     "start_time": "2024-10-11T18:11:16.219276Z"
    }
   },
   "cell_type": "code",
   "source": [
    "print(data_to_check.shape)\n",
    "p = data_to_check.iloc[:3000, :].reset_index(drop=True).rename(columns={'item_id': 'products'})\n",
    "print(p.shape)\n",
    "p.to_csv(\"predictions.csv\", index=False)"
   ],
   "id": "f80eccf52c612cb3",
   "outputs": [
    {
     "name": "stdout",
     "output_type": "stream",
     "text": [
      "(9356, 2)\n",
      "(3000, 2)\n"
     ]
    }
   ],
   "execution_count": 1742
  },
  {
   "metadata": {
    "ExecuteTime": {
     "end_time": "2024-10-11T17:55:03.952548Z",
     "start_time": "2024-10-11T17:55:03.951066Z"
    }
   },
   "cell_type": "code",
   "source": "",
   "id": "e91702e418d7c66e",
   "outputs": [],
   "execution_count": null
  },
  {
   "metadata": {
    "ExecuteTime": {
     "end_time": "2024-10-11T17:55:04.003982Z",
     "start_time": "2024-10-11T17:55:04.002360Z"
    }
   },
   "cell_type": "code",
   "source": "",
   "id": "5fc85e854d30f27c",
   "outputs": [],
   "execution_count": null
  },
  {
   "metadata": {},
   "cell_type": "code",
   "outputs": [],
   "execution_count": null,
   "source": "",
   "id": "5312b5a2075a0763"
  },
  {
   "metadata": {},
   "cell_type": "code",
   "outputs": [],
   "execution_count": null,
   "source": "",
   "id": "3725e78a7b4770e7"
  },
  {
   "metadata": {},
   "cell_type": "code",
   "outputs": [],
   "execution_count": null,
   "source": "",
   "id": "4d6c9edd61531503"
  },
  {
   "metadata": {
    "ExecuteTime": {
     "end_time": "2024-10-11T13:11:16.264123Z",
     "start_time": "2024-10-11T13:11:14.351946Z"
    }
   },
   "cell_type": "code",
   "source": "",
   "id": "c649f5e8565d4bd5",
   "outputs": [
    {
     "data": {
      "text/plain": [
       "<threadpoolctl.threadpool_limits at 0x7d2338ca3e10>"
      ]
     },
     "execution_count": 1339,
     "metadata": {},
     "output_type": "execute_result"
    }
   ],
   "execution_count": 1339
  },
  {
   "metadata": {
    "ExecuteTime": {
     "end_time": "2024-10-11T13:11:16.371545Z",
     "start_time": "2024-10-11T13:11:16.368761Z"
    }
   },
   "cell_type": "code",
   "source": "",
   "id": "5622e6df2f0ef5cf",
   "outputs": [],
   "execution_count": null
  },
  {
   "metadata": {
    "ExecuteTime": {
     "end_time": "2024-10-11T13:15:08.946995Z",
     "start_time": "2024-10-11T13:15:07.972615Z"
    }
   },
   "cell_type": "code",
   "source": [
    "last_3_days = inters['datetime'].max() - pd.Timedelta(days=3)\n",
    "last_14_days = inters['datetime'].max() - pd.Timedelta(days=14)\n",
    "train_raw = inters[(inters['datetime'] >= last_14_days) & (inters['datetime'] < last_3_days)].copy()\n",
    "test_raw = inters[inters['datetime'] > last_3_days].copy()"
   ],
   "id": "4cd72c1830136da7",
   "outputs": [],
   "execution_count": 1366
  },
  {
   "metadata": {
    "ExecuteTime": {
     "end_time": "2024-10-11T13:15:09.765370Z",
     "start_time": "2024-10-11T13:15:09.460945Z"
    }
   },
   "cell_type": "code",
   "source": [
    "train_recs = train_raw[train_raw.item_id != -1].drop_duplicates(subset=['user_id', 'item_id']).copy()\n",
    "test_recs = test_raw[test_raw.item_id != -1].drop_duplicates(subset=['user_id', 'item_id']).copy()"
   ],
   "id": "4896fd146add3170",
   "outputs": [],
   "execution_count": 1367
  },
  {
   "metadata": {
    "ExecuteTime": {
     "end_time": "2024-10-11T13:15:09.794830Z",
     "start_time": "2024-10-11T13:15:09.792529Z"
    }
   },
   "cell_type": "code",
   "source": [
    "# train_recs = train_raw[(train_raw.weight > 3)].drop_duplicates(subset=['user_id', 'item_id']).copy()\n",
    "# test_recs = test_raw[(test_raw.weight > 3)].drop_duplicates(subset=['user_id', 'item_id']).copy()"
   ],
   "id": "5d40908c9323b420",
   "outputs": [],
   "execution_count": 1368
  },
  {
   "metadata": {
    "ExecuteTime": {
     "end_time": "2024-10-11T13:15:10.179539Z",
     "start_time": "2024-10-11T13:15:10.175925Z"
    }
   },
   "cell_type": "code",
   "source": "test_recs.weight.unique()",
   "id": "77c583125e82255f",
   "outputs": [
    {
     "data": {
      "text/plain": [
       "array([5, 8, 6, 7, 1])"
      ]
     },
     "execution_count": 1369,
     "metadata": {},
     "output_type": "execute_result"
    }
   ],
   "execution_count": 1369
  },
  {
   "metadata": {
    "ExecuteTime": {
     "end_time": "2024-10-11T13:15:10.495911Z",
     "start_time": "2024-10-11T13:15:10.492941Z"
    }
   },
   "cell_type": "code",
   "source": "train_recs.shape, test_recs.shape",
   "id": "e093dd216861f66d",
   "outputs": [
    {
     "data": {
      "text/plain": [
       "((397929, 25), (137852, 25))"
      ]
     },
     "execution_count": 1370,
     "metadata": {},
     "output_type": "execute_result"
    }
   ],
   "execution_count": 1370
  },
  {
   "metadata": {
    "ExecuteTime": {
     "end_time": "2024-10-11T13:15:11.498969Z",
     "start_time": "2024-10-11T13:15:11.404904Z"
    }
   },
   "cell_type": "code",
   "source": "train_recs.drop_duplicates(subset=['user_id', 'item_id']).shape, test_recs.drop_duplicates(subset=['user_id', 'item_id']).shape",
   "id": "95163f5b8c9b981b",
   "outputs": [
    {
     "data": {
      "text/plain": [
       "((397929, 25), (137852, 25))"
      ]
     },
     "execution_count": 1371,
     "metadata": {},
     "output_type": "execute_result"
    }
   ],
   "execution_count": 1371
  },
  {
   "metadata": {
    "ExecuteTime": {
     "end_time": "2024-10-11T13:15:13.014150Z",
     "start_time": "2024-10-11T13:15:12.189315Z"
    }
   },
   "cell_type": "code",
   "source": [
    "items = inters.copy()\n",
    "items.sample()"
   ],
   "id": "175acaede5de568d",
   "outputs": [
    {
     "data": {
      "text/plain": [
       "                                      user_id  weight  item_id     pageId  \\\n",
       "4437834  3547e2c4-a54f-11ea-8a53-0cc47a6d2fef       4       -1  864898271   \n",
       "\n",
       "                   datetime shop_id category_id  day_of_week  price_diff  \\\n",
       "4437834 2024-09-21 17:14:45     NaN           0            5         0.0   \n",
       "\n",
       "         count  ...  action_5_count  action_6_count  action_7_count  \\\n",
       "4437834    306  ...            11.0             0.0             0.0   \n",
       "\n",
       "         action_8_count  action_9_count  delta_sec  delta_day  delta_hour  \\\n",
       "4437834             0.0             0.0       63.0        0.0         0.0   \n",
       "\n",
       "         delta_min  is_useful  \n",
       "4437834        1.0      False  \n",
       "\n",
       "[1 rows x 25 columns]"
      ],
      "text/html": [
       "<div>\n",
       "<style scoped>\n",
       "    .dataframe tbody tr th:only-of-type {\n",
       "        vertical-align: middle;\n",
       "    }\n",
       "\n",
       "    .dataframe tbody tr th {\n",
       "        vertical-align: top;\n",
       "    }\n",
       "\n",
       "    .dataframe thead th {\n",
       "        text-align: right;\n",
       "    }\n",
       "</style>\n",
       "<table border=\"1\" class=\"dataframe\">\n",
       "  <thead>\n",
       "    <tr style=\"text-align: right;\">\n",
       "      <th></th>\n",
       "      <th>user_id</th>\n",
       "      <th>weight</th>\n",
       "      <th>item_id</th>\n",
       "      <th>pageId</th>\n",
       "      <th>datetime</th>\n",
       "      <th>shop_id</th>\n",
       "      <th>category_id</th>\n",
       "      <th>day_of_week</th>\n",
       "      <th>price_diff</th>\n",
       "      <th>count</th>\n",
       "      <th>...</th>\n",
       "      <th>action_5_count</th>\n",
       "      <th>action_6_count</th>\n",
       "      <th>action_7_count</th>\n",
       "      <th>action_8_count</th>\n",
       "      <th>action_9_count</th>\n",
       "      <th>delta_sec</th>\n",
       "      <th>delta_day</th>\n",
       "      <th>delta_hour</th>\n",
       "      <th>delta_min</th>\n",
       "      <th>is_useful</th>\n",
       "    </tr>\n",
       "  </thead>\n",
       "  <tbody>\n",
       "    <tr>\n",
       "      <th>4437834</th>\n",
       "      <td>3547e2c4-a54f-11ea-8a53-0cc47a6d2fef</td>\n",
       "      <td>4</td>\n",
       "      <td>-1</td>\n",
       "      <td>864898271</td>\n",
       "      <td>2024-09-21 17:14:45</td>\n",
       "      <td>NaN</td>\n",
       "      <td>0</td>\n",
       "      <td>5</td>\n",
       "      <td>0.0</td>\n",
       "      <td>306</td>\n",
       "      <td>...</td>\n",
       "      <td>11.0</td>\n",
       "      <td>0.0</td>\n",
       "      <td>0.0</td>\n",
       "      <td>0.0</td>\n",
       "      <td>0.0</td>\n",
       "      <td>63.0</td>\n",
       "      <td>0.0</td>\n",
       "      <td>0.0</td>\n",
       "      <td>1.0</td>\n",
       "      <td>False</td>\n",
       "    </tr>\n",
       "  </tbody>\n",
       "</table>\n",
       "<p>1 rows × 25 columns</p>\n",
       "</div>"
      ]
     },
     "execution_count": 1372,
     "metadata": {},
     "output_type": "execute_result"
    }
   ],
   "execution_count": 1372
  },
  {
   "metadata": {
    "ExecuteTime": {
     "end_time": "2024-10-11T13:15:13.630676Z",
     "start_time": "2024-10-11T13:15:13.112478Z"
    }
   },
   "cell_type": "code",
   "source": [
    "items = items[items.item_id != -1].drop_duplicates(subset=['user_id', \"category_id\", 'price_diff'])\n",
    "items.shape"
   ],
   "id": "f3bc3fe9fb5cb55",
   "outputs": [
    {
     "data": {
      "text/plain": [
       "(627108, 25)"
      ]
     },
     "execution_count": 1373,
     "metadata": {},
     "output_type": "execute_result"
    }
   ],
   "execution_count": 1373
  },
  {
   "metadata": {
    "ExecuteTime": {
     "end_time": "2024-10-11T13:15:13.925733Z",
     "start_time": "2024-10-11T13:15:13.746258Z"
    }
   },
   "cell_type": "code",
   "source": [
    "users = inters[['user_id', 'pageId', 'count']].copy()\n",
    "users.shape"
   ],
   "id": "e87cced6999c9154",
   "outputs": [
    {
     "data": {
      "text/plain": [
       "(6859002, 3)"
      ]
     },
     "execution_count": 1374,
     "metadata": {},
     "output_type": "execute_result"
    }
   ],
   "execution_count": 1374
  },
  {
   "metadata": {
    "ExecuteTime": {
     "end_time": "2024-10-11T13:15:15.471452Z",
     "start_time": "2024-10-11T13:15:14.116345Z"
    }
   },
   "cell_type": "code",
   "source": [
    "users = users.drop_duplicates(subset=['user_id', 'pageId'])\n",
    "users.shape"
   ],
   "id": "b195f976d656506d",
   "outputs": [
    {
     "data": {
      "text/plain": [
       "(1421473, 3)"
      ]
     },
     "execution_count": 1375,
     "metadata": {},
     "output_type": "execute_result"
    }
   ],
   "execution_count": 1375
  },
  {
   "metadata": {
    "ExecuteTime": {
     "end_time": "2024-10-11T13:15:15.594702Z",
     "start_time": "2024-10-11T13:15:15.500492Z"
    }
   },
   "cell_type": "code",
   "source": [
    "cold_users = set(test_recs['user_id']) - set(train_recs['user_id'])\n",
    "test_recs = test_recs.drop(test_recs[test_recs['user_id'].isin(cold_users)].index)\n",
    "test_users = test_recs['user_id'].unique()\n",
    "catalog=train_recs['user_id'].unique()"
   ],
   "id": "db2f25e6500dace8",
   "outputs": [],
   "execution_count": 1376
  },
  {
   "metadata": {
    "ExecuteTime": {
     "end_time": "2024-10-11T13:15:15.618689Z",
     "start_time": "2024-10-11T13:15:15.615677Z"
    }
   },
   "cell_type": "code",
   "source": "train_recs.shape, test_recs.shape, len(cold_users)",
   "id": "ac6cf69ae03fb8a0",
   "outputs": [
    {
     "data": {
      "text/plain": [
       "((397929, 25), (67373, 25), 30566)"
      ]
     },
     "execution_count": 1377,
     "metadata": {},
     "output_type": "execute_result"
    }
   ],
   "execution_count": 1377
  },
  {
   "metadata": {
    "ExecuteTime": {
     "end_time": "2024-10-11T18:08:18.412136Z",
     "start_time": "2024-10-11T18:08:18.298877Z"
    }
   },
   "cell_type": "code",
   "source": [
    "dataset_no_features = Dataset.construct(\n",
    "    interactions_df=train_recs[['user_id', 'item_id', 'weight', 'datetime']],\n",
    ")\n"
   ],
   "id": "156dafa383ad548a",
   "outputs": [],
   "execution_count": 1703
  },
  {
   "metadata": {
    "ExecuteTime": {
     "end_time": "2024-10-11T13:15:23.571277Z",
     "start_time": "2024-10-11T13:15:23.568631Z"
    }
   },
   "cell_type": "code",
   "source": [
    "metrics_name = {\n",
    "    'MAP': MAP,\n",
    "    'MIUF': MeanInvUserFreq,\n",
    "    'Serendipity': Serendipity\n",
    "}\n",
    "metrics = {}\n",
    "for metric_name, metric in metrics_name.items():\n",
    "    for k in (25,):\n",
    "        metrics[f'{metric_name}@{k}'] = metric(k=k)"
   ],
   "id": "cdda1d23a9fe428",
   "outputs": [],
   "execution_count": 1386
  },
  {
   "metadata": {
    "ExecuteTime": {
     "end_time": "2024-10-11T13:15:23.618693Z",
     "start_time": "2024-10-11T13:15:23.616068Z"
    }
   },
   "cell_type": "code",
   "source": [
    "K_RECOS = 25\n",
    "NUM_THREADS = 24\n",
    "RANDOM_STATE = 32\n",
    "ITERATIONS = 10"
   ],
   "id": "2a979d8d60da505d",
   "outputs": [],
   "execution_count": 1387
  },
  {
   "metadata": {
    "ExecuteTime": {
     "end_time": "2024-10-11T13:15:23.668085Z",
     "start_time": "2024-10-11T13:15:23.664581Z"
    }
   },
   "cell_type": "code",
   "source": [
    "def make_base_model(factors: int, regularization: float, alpha: float, fit_features_together: bool=False):\n",
    "    return ImplicitALSWrapperModel(\n",
    "        AlternatingLeastSquares(\n",
    "            factors=factors,\n",
    "            regularization=regularization,\n",
    "            alpha=alpha,\n",
    "            random_state=RANDOM_STATE,\n",
    "            use_gpu=False,\n",
    "            num_threads = NUM_THREADS,\n",
    "            iterations=ITERATIONS),\n",
    "        fit_features_together = fit_features_together,\n",
    "        )"
   ],
   "id": "c76217e904af56de",
   "outputs": [],
   "execution_count": 1388
  },
  {
   "metadata": {
    "ExecuteTime": {
     "end_time": "2024-10-11T13:15:23.986635Z",
     "start_time": "2024-10-11T13:15:23.983770Z"
    }
   },
   "cell_type": "code",
   "source": [
    "alphas = [10, 100]\n",
    "regularizations = [0.1, 0.2]\n",
    "factors = [256]"
   ],
   "id": "3adabad559e9640e",
   "outputs": [],
   "execution_count": 1389
  },
  {
   "metadata": {
    "ExecuteTime": {
     "end_time": "2024-10-11T13:16:24.860248Z",
     "start_time": "2024-10-11T13:15:24.699368Z"
    }
   },
   "cell_type": "code",
   "source": [
    "results = []\n",
    "dataset = dataset_no_features\n",
    "\n",
    "recs = []\n",
    "for alpha in alphas:\n",
    "    for regularization in regularizations:\n",
    "        for n_factors in factors:\n",
    "            model_name = f\"no_features_factors_{n_factors}_alpha_{alpha}_reg_{regularization}\"\n",
    "            print(model_name)\n",
    "            model = make_base_model(factors=n_factors, regularization=regularization, alpha=alpha)\n",
    "            model.fit(dataset)\n",
    "            recos = model.recommend(\n",
    "                users=test_users,\n",
    "                dataset=dataset,\n",
    "                k=K_RECOS,\n",
    "                filter_viewed=False,\n",
    "            )\n",
    "            recs.append(recos)\n",
    "            metric_values = calc_metrics(metrics, recos, test_raw, train_raw, catalog)\n",
    "            metric_values[\"model\"] = model_name\n",
    "            results.append(metric_values)"
   ],
   "id": "7c9a983c6113cebb",
   "outputs": [
    {
     "name": "stdout",
     "output_type": "stream",
     "text": [
      "no_features_factors_256_alpha_10_reg_0.1\n",
      "no_features_factors_256_alpha_10_reg_0.2\n",
      "no_features_factors_256_alpha_100_reg_0.1\n",
      "no_features_factors_256_alpha_100_reg_0.2\n"
     ]
    }
   ],
   "execution_count": 1390
  },
  {
   "metadata": {
    "ExecuteTime": {
     "end_time": "2024-10-11T13:16:26.461098Z",
     "start_time": "2024-10-11T13:16:26.455888Z"
    }
   },
   "cell_type": "code",
   "source": "recos[recos.item_id == -1]",
   "id": "3ad9d6e166889af6",
   "outputs": [
    {
     "data": {
      "text/plain": [
       "Empty DataFrame\n",
       "Columns: [user_id, item_id, score, rank]\n",
       "Index: []"
      ],
      "text/html": [
       "<div>\n",
       "<style scoped>\n",
       "    .dataframe tbody tr th:only-of-type {\n",
       "        vertical-align: middle;\n",
       "    }\n",
       "\n",
       "    .dataframe tbody tr th {\n",
       "        vertical-align: top;\n",
       "    }\n",
       "\n",
       "    .dataframe thead th {\n",
       "        text-align: right;\n",
       "    }\n",
       "</style>\n",
       "<table border=\"1\" class=\"dataframe\">\n",
       "  <thead>\n",
       "    <tr style=\"text-align: right;\">\n",
       "      <th></th>\n",
       "      <th>user_id</th>\n",
       "      <th>item_id</th>\n",
       "      <th>score</th>\n",
       "      <th>rank</th>\n",
       "    </tr>\n",
       "  </thead>\n",
       "  <tbody>\n",
       "  </tbody>\n",
       "</table>\n",
       "</div>"
      ]
     },
     "execution_count": 1391,
     "metadata": {},
     "output_type": "execute_result"
    }
   ],
   "execution_count": 1391
  },
  {
   "metadata": {
    "ExecuteTime": {
     "end_time": "2024-10-11T13:16:27.262908Z",
     "start_time": "2024-10-11T13:16:27.254665Z"
    }
   },
   "cell_type": "code",
   "source": [
    "pure_df = pd.DataFrame(results).set_index(\"model\").sort_values(by=[\"MAP@25\", \"Serendipity@25\"], ascending=False)\n",
    "pure_df.head(5)"
   ],
   "id": "dc82ec4479e1450f",
   "outputs": [
    {
     "data": {
      "text/plain": [
       "                                             MAP@25    MIUF@25  Serendipity@25\n",
       "model                                                                         \n",
       "no_features_factors_256_alpha_100_reg_0.1  0.009578  13.444757        0.000126\n",
       "no_features_factors_256_alpha_100_reg_0.2  0.009551  13.494579        0.000126\n",
       "no_features_factors_256_alpha_10_reg_0.1   0.008893  12.813678        0.000122\n",
       "no_features_factors_256_alpha_10_reg_0.2   0.008888  12.824343        0.000122"
      ],
      "text/html": [
       "<div>\n",
       "<style scoped>\n",
       "    .dataframe tbody tr th:only-of-type {\n",
       "        vertical-align: middle;\n",
       "    }\n",
       "\n",
       "    .dataframe tbody tr th {\n",
       "        vertical-align: top;\n",
       "    }\n",
       "\n",
       "    .dataframe thead th {\n",
       "        text-align: right;\n",
       "    }\n",
       "</style>\n",
       "<table border=\"1\" class=\"dataframe\">\n",
       "  <thead>\n",
       "    <tr style=\"text-align: right;\">\n",
       "      <th></th>\n",
       "      <th>MAP@25</th>\n",
       "      <th>MIUF@25</th>\n",
       "      <th>Serendipity@25</th>\n",
       "    </tr>\n",
       "    <tr>\n",
       "      <th>model</th>\n",
       "      <th></th>\n",
       "      <th></th>\n",
       "      <th></th>\n",
       "    </tr>\n",
       "  </thead>\n",
       "  <tbody>\n",
       "    <tr>\n",
       "      <th>no_features_factors_256_alpha_100_reg_0.1</th>\n",
       "      <td>0.009578</td>\n",
       "      <td>13.444757</td>\n",
       "      <td>0.000126</td>\n",
       "    </tr>\n",
       "    <tr>\n",
       "      <th>no_features_factors_256_alpha_100_reg_0.2</th>\n",
       "      <td>0.009551</td>\n",
       "      <td>13.494579</td>\n",
       "      <td>0.000126</td>\n",
       "    </tr>\n",
       "    <tr>\n",
       "      <th>no_features_factors_256_alpha_10_reg_0.1</th>\n",
       "      <td>0.008893</td>\n",
       "      <td>12.813678</td>\n",
       "      <td>0.000122</td>\n",
       "    </tr>\n",
       "    <tr>\n",
       "      <th>no_features_factors_256_alpha_10_reg_0.2</th>\n",
       "      <td>0.008888</td>\n",
       "      <td>12.824343</td>\n",
       "      <td>0.000122</td>\n",
       "    </tr>\n",
       "  </tbody>\n",
       "</table>\n",
       "</div>"
      ]
     },
     "execution_count": 1392,
     "metadata": {},
     "output_type": "execute_result"
    }
   ],
   "execution_count": 1392
  },
  {
   "metadata": {},
   "cell_type": "code",
   "outputs": [],
   "execution_count": null,
   "source": "",
   "id": "b431ae38edd475c5"
  },
  {
   "metadata": {
    "ExecuteTime": {
     "end_time": "2024-10-11T18:42:30.986586Z",
     "start_time": "2024-10-11T18:42:30.785035Z"
    }
   },
   "cell_type": "code",
   "source": [
    "last_3_days = inters['datetime'].max() - pd.Timedelta(0, unit='D')\n",
    "last_8_days = inters['datetime'].max() - pd.Timedelta(21, unit='D')\n",
    "recos_data = inters[(inters['datetime'] > last_8_days) & (inters['datetime'] < last_3_days) & (inters['weight'] > 4)]"
   ],
   "id": "24ff12b544a9ff36",
   "outputs": [],
   "execution_count": 1972
  },
  {
   "metadata": {
    "ExecuteTime": {
     "end_time": "2024-10-11T18:42:49.136483Z",
     "start_time": "2024-10-11T18:42:32.145053Z"
    }
   },
   "cell_type": "code",
   "source": [
    "recs_dataset = Dataset.construct(\n",
    "    interactions_df=recos_data[['user_id', 'item_id', 'weight', 'datetime']],\n",
    ")\n",
    "\n",
    "model = make_base_model(factors=256, regularization=0.2, alpha=100)\n",
    "model.fit(recs_dataset)"
   ],
   "id": "6d652d721b1a922c",
   "outputs": [
    {
     "data": {
      "text/plain": [
       "<rectools.models.implicit_als.ImplicitALSWrapperModel at 0x7d2279635a90>"
      ]
     },
     "execution_count": 1973,
     "metadata": {},
     "output_type": "execute_result"
    }
   ],
   "execution_count": 1973
  },
  {
   "metadata": {
    "ExecuteTime": {
     "end_time": "2024-10-11T18:42:50.174252Z",
     "start_time": "2024-10-11T18:42:49.228528Z"
    }
   },
   "cell_type": "code",
   "source": [
    "recos = model.recommend(\n",
    "    users=data_to_check[-3000:].user_id,\n",
    "    dataset=recs_dataset,\n",
    "    k=25,\n",
    "    filter_viewed=False,\n",
    ")"
   ],
   "id": "e4dab274d782581a",
   "outputs": [],
   "execution_count": 1974
  },
  {
   "metadata": {
    "ExecuteTime": {
     "end_time": "2024-10-11T18:42:51.845879Z",
     "start_time": "2024-10-11T18:42:51.840415Z"
    }
   },
   "cell_type": "code",
   "source": "recos[recos.item_id == -1]",
   "id": "15653f013cc89695",
   "outputs": [
    {
     "data": {
      "text/plain": [
       "Empty DataFrame\n",
       "Columns: [user_id, item_id, score, rank]\n",
       "Index: []"
      ],
      "text/html": [
       "<div>\n",
       "<style scoped>\n",
       "    .dataframe tbody tr th:only-of-type {\n",
       "        vertical-align: middle;\n",
       "    }\n",
       "\n",
       "    .dataframe tbody tr th {\n",
       "        vertical-align: top;\n",
       "    }\n",
       "\n",
       "    .dataframe thead th {\n",
       "        text-align: right;\n",
       "    }\n",
       "</style>\n",
       "<table border=\"1\" class=\"dataframe\">\n",
       "  <thead>\n",
       "    <tr style=\"text-align: right;\">\n",
       "      <th></th>\n",
       "      <th>user_id</th>\n",
       "      <th>item_id</th>\n",
       "      <th>score</th>\n",
       "      <th>rank</th>\n",
       "    </tr>\n",
       "  </thead>\n",
       "  <tbody>\n",
       "  </tbody>\n",
       "</table>\n",
       "</div>"
      ]
     },
     "execution_count": 1975,
     "metadata": {},
     "output_type": "execute_result"
    }
   ],
   "execution_count": 1975
  },
  {
   "metadata": {
    "ExecuteTime": {
     "end_time": "2024-10-11T18:42:53.362503Z",
     "start_time": "2024-10-11T18:42:53.360720Z"
    }
   },
   "cell_type": "code",
   "source": "",
   "id": "237914981f8f6682",
   "outputs": [],
   "execution_count": null
  },
  {
   "metadata": {
    "ExecuteTime": {
     "end_time": "2024-10-11T18:42:56.177994Z",
     "start_time": "2024-10-11T18:42:56.176125Z"
    }
   },
   "cell_type": "code",
   "source": "",
   "id": "a1c8c8c89ccd0218",
   "outputs": [],
   "execution_count": null
  },
  {
   "metadata": {
    "ExecuteTime": {
     "end_time": "2024-10-11T18:42:56.448744Z",
     "start_time": "2024-10-11T18:42:56.408881Z"
    }
   },
   "cell_type": "code",
   "source": "result = recos.groupby('user_id')['item_id'].agg(lambda x: list(map(str, x))).reset_index()",
   "id": "ace9ca55b8ca263",
   "outputs": [],
   "execution_count": 1976
  },
  {
   "metadata": {
    "ExecuteTime": {
     "end_time": "2024-10-11T18:42:57.058368Z",
     "start_time": "2024-10-11T18:42:57.052701Z"
    }
   },
   "cell_type": "code",
   "source": "result.head()",
   "id": "54b619de2d0e36a3",
   "outputs": [
    {
     "data": {
      "text/plain": [
       "                                user_id  \\\n",
       "0  0038911e-79a3-11ef-9b7b-002590c82436   \n",
       "1  00a8fe40-024d-11ef-9b7b-002590c82436   \n",
       "2  00d23b34-6e90-11ef-9b7b-002590c82436   \n",
       "3  00d6623e-7086-11ef-86e0-002590c0647c   \n",
       "4  00efb9f8-0d3c-11ef-9b7b-002590c82436   \n",
       "\n",
       "                                                                                                                                                                                                                             item_id  \n",
       "0     [1758351, 1628891, 928663, 1624568, 2745244, 905417, 2747827, 2691970, 1854727, 897321, 1854286, 4821607, 1640093, 5032951, 3623818, 6147385, 4795967, 6431560, 3914454, 1640060, 1665383, 2784478, 2747863, 1641779, 1286477]  \n",
       "1  [6549439, 6101800, 6166786, 6411181, 5382928, 6456766, 3620404, 5177266, 2746507, 6166774, 6166789, 6101860, 6147727, 6101452, 6372010, 6277009, 6388237, 6185125, 6461368, 5724379, 6457720, 6552277, 6421486, 1779624, 5419735]  \n",
       "2      [6415369, 6415366, 5214061, 5419288, 5214058, 6486397, 6627669, 5116486, 3876442, 4098729, 5006872, 593391, 4018857, 5018548, 4938682, 6588884, 698842, 869914, 1115023, 1025683, 4945939, 5052139, 7058487, 895379, 6217162]  \n",
       "3  [3709801, 5278573, 1551965, 3907086, 6645690, 6792456, 4018560, 1651307, 5932465, 4971997, 3721486, 1377644, 5244010, 1279529, 4899280, 5160019, 1605029, 2061748, 5940206, 3845038, 1605089, 4894237, 4082352, 1605041, 3725203]  \n",
       "4   [5479060, 5478679, 5478931, 4005144, 5478691, 6531127, 6333205, 4821973, 1780488, 6337345, 6301267, 1779984, 6534091, 3771964, 4821967, 5698369, 6534001, 6533962, 3732679, 5479054, 6500092, 4821907, 4821883, 628514, 4915036]  "
      ],
      "text/html": [
       "<div>\n",
       "<style scoped>\n",
       "    .dataframe tbody tr th:only-of-type {\n",
       "        vertical-align: middle;\n",
       "    }\n",
       "\n",
       "    .dataframe tbody tr th {\n",
       "        vertical-align: top;\n",
       "    }\n",
       "\n",
       "    .dataframe thead th {\n",
       "        text-align: right;\n",
       "    }\n",
       "</style>\n",
       "<table border=\"1\" class=\"dataframe\">\n",
       "  <thead>\n",
       "    <tr style=\"text-align: right;\">\n",
       "      <th></th>\n",
       "      <th>user_id</th>\n",
       "      <th>item_id</th>\n",
       "    </tr>\n",
       "  </thead>\n",
       "  <tbody>\n",
       "    <tr>\n",
       "      <th>0</th>\n",
       "      <td>0038911e-79a3-11ef-9b7b-002590c82436</td>\n",
       "      <td>[1758351, 1628891, 928663, 1624568, 2745244, 905417, 2747827, 2691970, 1854727, 897321, 1854286, 4821607, 1640093, 5032951, 3623818, 6147385, 4795967, 6431560, 3914454, 1640060, 1665383, 2784478, 2747863, 1641779, 1286477]</td>\n",
       "    </tr>\n",
       "    <tr>\n",
       "      <th>1</th>\n",
       "      <td>00a8fe40-024d-11ef-9b7b-002590c82436</td>\n",
       "      <td>[6549439, 6101800, 6166786, 6411181, 5382928, 6456766, 3620404, 5177266, 2746507, 6166774, 6166789, 6101860, 6147727, 6101452, 6372010, 6277009, 6388237, 6185125, 6461368, 5724379, 6457720, 6552277, 6421486, 1779624, 5419735]</td>\n",
       "    </tr>\n",
       "    <tr>\n",
       "      <th>2</th>\n",
       "      <td>00d23b34-6e90-11ef-9b7b-002590c82436</td>\n",
       "      <td>[6415369, 6415366, 5214061, 5419288, 5214058, 6486397, 6627669, 5116486, 3876442, 4098729, 5006872, 593391, 4018857, 5018548, 4938682, 6588884, 698842, 869914, 1115023, 1025683, 4945939, 5052139, 7058487, 895379, 6217162]</td>\n",
       "    </tr>\n",
       "    <tr>\n",
       "      <th>3</th>\n",
       "      <td>00d6623e-7086-11ef-86e0-002590c0647c</td>\n",
       "      <td>[3709801, 5278573, 1551965, 3907086, 6645690, 6792456, 4018560, 1651307, 5932465, 4971997, 3721486, 1377644, 5244010, 1279529, 4899280, 5160019, 1605029, 2061748, 5940206, 3845038, 1605089, 4894237, 4082352, 1605041, 3725203]</td>\n",
       "    </tr>\n",
       "    <tr>\n",
       "      <th>4</th>\n",
       "      <td>00efb9f8-0d3c-11ef-9b7b-002590c82436</td>\n",
       "      <td>[5479060, 5478679, 5478931, 4005144, 5478691, 6531127, 6333205, 4821973, 1780488, 6337345, 6301267, 1779984, 6534091, 3771964, 4821967, 5698369, 6534001, 6533962, 3732679, 5479054, 6500092, 4821907, 4821883, 628514, 4915036]</td>\n",
       "    </tr>\n",
       "  </tbody>\n",
       "</table>\n",
       "</div>"
      ]
     },
     "execution_count": 1977,
     "metadata": {},
     "output_type": "execute_result"
    }
   ],
   "execution_count": 1977
  },
  {
   "metadata": {
    "ExecuteTime": {
     "end_time": "2024-10-11T18:42:57.852068Z",
     "start_time": "2024-10-11T18:42:57.848504Z"
    }
   },
   "cell_type": "code",
   "source": "r = result[result.user_id.isin(data_to_check[-3000:].user_id)]",
   "id": "f21bb1e0291b115e",
   "outputs": [],
   "execution_count": 1978
  },
  {
   "metadata": {
    "ExecuteTime": {
     "end_time": "2024-10-11T18:43:01.919375Z",
     "start_time": "2024-10-11T18:43:01.916517Z"
    }
   },
   "cell_type": "code",
   "source": "r.shape",
   "id": "19423cc75ee0229",
   "outputs": [
    {
     "data": {
      "text/plain": [
       "(3000, 2)"
      ]
     },
     "execution_count": 1979,
     "metadata": {},
     "output_type": "execute_result"
    }
   ],
   "execution_count": 1979
  },
  {
   "metadata": {
    "ExecuteTime": {
     "end_time": "2024-10-11T18:43:02.757041Z",
     "start_time": "2024-10-11T18:43:02.751116Z"
    }
   },
   "cell_type": "code",
   "source": "r_merge = data_to_check[-3000:].merge(r, on='user_id', how='left')",
   "id": "a91bbd7f6b42311a",
   "outputs": [],
   "execution_count": 1980
  },
  {
   "metadata": {
    "ExecuteTime": {
     "end_time": "2024-10-11T18:43:04.161589Z",
     "start_time": "2024-10-11T18:43:04.158458Z"
    }
   },
   "cell_type": "code",
   "source": "r_merge.columns",
   "id": "12e644962bd8eea2",
   "outputs": [
    {
     "data": {
      "text/plain": [
       "Index(['user_id', 'item_id_x', 'item_id_y'], dtype='object')"
      ]
     },
     "execution_count": 1981,
     "metadata": {},
     "output_type": "execute_result"
    }
   ],
   "execution_count": 1981
  },
  {
   "metadata": {
    "ExecuteTime": {
     "end_time": "2024-10-11T18:43:05.289829Z",
     "start_time": "2024-10-11T18:43:05.286552Z"
    }
   },
   "cell_type": "code",
   "source": "r_merge.item_id_y.loc[r_merge.item_id_y.isnull()] = r_merge.item_id_y.loc[r_merge.item_id_y.isnull()].apply(lambda x: [])",
   "id": "81053f9e282beee7",
   "outputs": [],
   "execution_count": 1982
  },
  {
   "metadata": {
    "ExecuteTime": {
     "end_time": "2024-10-11T18:43:06.728335Z",
     "start_time": "2024-10-11T18:43:06.721248Z"
    }
   },
   "cell_type": "code",
   "source": "r_merge['item_id'] = r_merge['item_id_x'] + r_merge['item_id_y']",
   "id": "d535010dd8203776",
   "outputs": [],
   "execution_count": 1983
  },
  {
   "metadata": {
    "ExecuteTime": {
     "end_time": "2024-10-11T18:43:07.348731Z",
     "start_time": "2024-10-11T18:43:07.339617Z"
    }
   },
   "cell_type": "code",
   "source": "r_merge.sample(5)",
   "id": "2f121971bc9b4cee",
   "outputs": [
    {
     "data": {
      "text/plain": [
       "                                   user_id  \\\n",
       "2132  58b2e29c-cbd2-11ee-86e0-002590c0647c   \n",
       "1578  fdb9e76a-b5a7-11ec-a6e9-002590c82437   \n",
       "2763  ce262a6c-a913-11ed-86e0-002590c0647c   \n",
       "2363  84f8d208-6524-11ef-86e0-002590c0647c   \n",
       "1430  f9cd1f6a-5bd1-11ee-b1da-002590c82437   \n",
       "\n",
       "                                                                                       item_id_x  \\\n",
       "2132  [6672924, 6672927, 4959568, 6672945, 6806931, 6673251, 3732985, 6672717, 5052058, 5872960]   \n",
       "1578                                                                                   [5482288]   \n",
       "2763                                                        [6671922, 6146878, 6091511, 6671928]   \n",
       "2363                                                                           [7037640, 823421]   \n",
       "1430                                                                          [6275200, 6506959]   \n",
       "\n",
       "                                                                                                                                                                                                                              item_id_y  \\\n",
       "2132  [4861441, 3882091, 1695984, 6100267, 5052058, 3717979, 6794997, 6794646, 5872960, 6405784, 6794643, 4959568, 6806931, 6672945, 6672924, 6672927, 4959598, 1865074, 6672741, 6672939, 6101539, 6673251, 6794658, 7049316, 7049298]   \n",
       "1578  [5482288, 1780752, 6345292, 6340336, 5495353, 5743843, 5891002, 6282643, 6102820, 6130405, 3624922, 6544741, 6410149, 6185119, 5498866, 6372013, 5119348, 6345322, 3719650, 5891005, 1763307, 2752321, 5894056, 6548869, 5046442]   \n",
       "2763    [1639925, 4999849, 5177455, 930432, 5177644, 5904715, 5456425, 5165155, 4999228, 387152, 6344224, 4873231, 6671928, 5114533, 6091511, 6671943, 5424547, 6671922, 4964062, 2696224, 6624351, 5885074, 6089585, 6671934, 3718237]   \n",
       "2363   [7097880, 6461533, 823421, 5342950, 5144350, 4894186, 6588041, 6407011, 7037640, 6225895, 6645846, 6461869, 6793491, 3913404, 3867781, 6598523, 6091040, 6526774, 5342953, 5336665, 5278189, 6100933, 6088934, 6462061, 5046247]   \n",
       "1430  [4881631, 6275200, 5319352, 6344647, 6506959, 5319373, 5905753, 6343957, 6998484, 4881637, 6344644, 2678569, 5068111, 5886307, 5490082, 6836064, 6277546, 5324362, 5235334, 1854781, 6286366, 4861438, 4026726, 6593693, 6100876]   \n",
       "\n",
       "                                                                                                                                                                                                                                                                                                                          item_id  \n",
       "2132  [6672924, 6672927, 4959568, 6672945, 6806931, 6673251, 3732985, 6672717, 5052058, 5872960, 4861441, 3882091, 1695984, 6100267, 5052058, 3717979, 6794997, 6794646, 5872960, 6405784, 6794643, 4959568, 6806931, 6672945, 6672924, 6672927, 4959598, 1865074, 6672741, 6672939, 6101539, 6673251, 6794658, 7049316, 7049298]  \n",
       "1578                                                                                   [5482288, 5482288, 1780752, 6345292, 6340336, 5495353, 5743843, 5891002, 6282643, 6102820, 6130405, 3624922, 6544741, 6410149, 6185119, 5498866, 6372013, 5119348, 6345322, 3719650, 5891005, 1763307, 2752321, 5894056, 6548869, 5046442]  \n",
       "2763                                                          [6671922, 6146878, 6091511, 6671928, 1639925, 4999849, 5177455, 930432, 5177644, 5904715, 5456425, 5165155, 4999228, 387152, 6344224, 4873231, 6671928, 5114533, 6091511, 6671943, 5424547, 6671922, 4964062, 2696224, 6624351, 5885074, 6089585, 6671934, 3718237]  \n",
       "2363                                                                            [7037640, 823421, 7097880, 6461533, 823421, 5342950, 5144350, 4894186, 6588041, 6407011, 7037640, 6225895, 6645846, 6461869, 6793491, 3913404, 3867781, 6598523, 6091040, 6526774, 5342953, 5336665, 5278189, 6100933, 6088934, 6462061, 5046247]  \n",
       "1430                                                                          [6275200, 6506959, 4881631, 6275200, 5319352, 6344647, 6506959, 5319373, 5905753, 6343957, 6998484, 4881637, 6344644, 2678569, 5068111, 5886307, 5490082, 6836064, 6277546, 5324362, 5235334, 1854781, 6286366, 4861438, 4026726, 6593693, 6100876]  "
      ],
      "text/html": [
       "<div>\n",
       "<style scoped>\n",
       "    .dataframe tbody tr th:only-of-type {\n",
       "        vertical-align: middle;\n",
       "    }\n",
       "\n",
       "    .dataframe tbody tr th {\n",
       "        vertical-align: top;\n",
       "    }\n",
       "\n",
       "    .dataframe thead th {\n",
       "        text-align: right;\n",
       "    }\n",
       "</style>\n",
       "<table border=\"1\" class=\"dataframe\">\n",
       "  <thead>\n",
       "    <tr style=\"text-align: right;\">\n",
       "      <th></th>\n",
       "      <th>user_id</th>\n",
       "      <th>item_id_x</th>\n",
       "      <th>item_id_y</th>\n",
       "      <th>item_id</th>\n",
       "    </tr>\n",
       "  </thead>\n",
       "  <tbody>\n",
       "    <tr>\n",
       "      <th>2132</th>\n",
       "      <td>58b2e29c-cbd2-11ee-86e0-002590c0647c</td>\n",
       "      <td>[6672924, 6672927, 4959568, 6672945, 6806931, 6673251, 3732985, 6672717, 5052058, 5872960]</td>\n",
       "      <td>[4861441, 3882091, 1695984, 6100267, 5052058, 3717979, 6794997, 6794646, 5872960, 6405784, 6794643, 4959568, 6806931, 6672945, 6672924, 6672927, 4959598, 1865074, 6672741, 6672939, 6101539, 6673251, 6794658, 7049316, 7049298]</td>\n",
       "      <td>[6672924, 6672927, 4959568, 6672945, 6806931, 6673251, 3732985, 6672717, 5052058, 5872960, 4861441, 3882091, 1695984, 6100267, 5052058, 3717979, 6794997, 6794646, 5872960, 6405784, 6794643, 4959568, 6806931, 6672945, 6672924, 6672927, 4959598, 1865074, 6672741, 6672939, 6101539, 6673251, 6794658, 7049316, 7049298]</td>\n",
       "    </tr>\n",
       "    <tr>\n",
       "      <th>1578</th>\n",
       "      <td>fdb9e76a-b5a7-11ec-a6e9-002590c82437</td>\n",
       "      <td>[5482288]</td>\n",
       "      <td>[5482288, 1780752, 6345292, 6340336, 5495353, 5743843, 5891002, 6282643, 6102820, 6130405, 3624922, 6544741, 6410149, 6185119, 5498866, 6372013, 5119348, 6345322, 3719650, 5891005, 1763307, 2752321, 5894056, 6548869, 5046442]</td>\n",
       "      <td>[5482288, 5482288, 1780752, 6345292, 6340336, 5495353, 5743843, 5891002, 6282643, 6102820, 6130405, 3624922, 6544741, 6410149, 6185119, 5498866, 6372013, 5119348, 6345322, 3719650, 5891005, 1763307, 2752321, 5894056, 6548869, 5046442]</td>\n",
       "    </tr>\n",
       "    <tr>\n",
       "      <th>2763</th>\n",
       "      <td>ce262a6c-a913-11ed-86e0-002590c0647c</td>\n",
       "      <td>[6671922, 6146878, 6091511, 6671928]</td>\n",
       "      <td>[1639925, 4999849, 5177455, 930432, 5177644, 5904715, 5456425, 5165155, 4999228, 387152, 6344224, 4873231, 6671928, 5114533, 6091511, 6671943, 5424547, 6671922, 4964062, 2696224, 6624351, 5885074, 6089585, 6671934, 3718237]</td>\n",
       "      <td>[6671922, 6146878, 6091511, 6671928, 1639925, 4999849, 5177455, 930432, 5177644, 5904715, 5456425, 5165155, 4999228, 387152, 6344224, 4873231, 6671928, 5114533, 6091511, 6671943, 5424547, 6671922, 4964062, 2696224, 6624351, 5885074, 6089585, 6671934, 3718237]</td>\n",
       "    </tr>\n",
       "    <tr>\n",
       "      <th>2363</th>\n",
       "      <td>84f8d208-6524-11ef-86e0-002590c0647c</td>\n",
       "      <td>[7037640, 823421]</td>\n",
       "      <td>[7097880, 6461533, 823421, 5342950, 5144350, 4894186, 6588041, 6407011, 7037640, 6225895, 6645846, 6461869, 6793491, 3913404, 3867781, 6598523, 6091040, 6526774, 5342953, 5336665, 5278189, 6100933, 6088934, 6462061, 5046247]</td>\n",
       "      <td>[7037640, 823421, 7097880, 6461533, 823421, 5342950, 5144350, 4894186, 6588041, 6407011, 7037640, 6225895, 6645846, 6461869, 6793491, 3913404, 3867781, 6598523, 6091040, 6526774, 5342953, 5336665, 5278189, 6100933, 6088934, 6462061, 5046247]</td>\n",
       "    </tr>\n",
       "    <tr>\n",
       "      <th>1430</th>\n",
       "      <td>f9cd1f6a-5bd1-11ee-b1da-002590c82437</td>\n",
       "      <td>[6275200, 6506959]</td>\n",
       "      <td>[4881631, 6275200, 5319352, 6344647, 6506959, 5319373, 5905753, 6343957, 6998484, 4881637, 6344644, 2678569, 5068111, 5886307, 5490082, 6836064, 6277546, 5324362, 5235334, 1854781, 6286366, 4861438, 4026726, 6593693, 6100876]</td>\n",
       "      <td>[6275200, 6506959, 4881631, 6275200, 5319352, 6344647, 6506959, 5319373, 5905753, 6343957, 6998484, 4881637, 6344644, 2678569, 5068111, 5886307, 5490082, 6836064, 6277546, 5324362, 5235334, 1854781, 6286366, 4861438, 4026726, 6593693, 6100876]</td>\n",
       "    </tr>\n",
       "  </tbody>\n",
       "</table>\n",
       "</div>"
      ]
     },
     "execution_count": 1984,
     "metadata": {},
     "output_type": "execute_result"
    }
   ],
   "execution_count": 1984
  },
  {
   "metadata": {
    "ExecuteTime": {
     "end_time": "2024-10-11T18:43:34.594980Z",
     "start_time": "2024-10-11T18:43:34.583457Z"
    }
   },
   "cell_type": "code",
   "source": "r_merge['item_id'] = r_merge['item_id'].apply(lambda x: list(set(x[:25]))) # make set",
   "id": "676c823cbb3a2c82",
   "outputs": [],
   "execution_count": 1985
  },
  {
   "metadata": {
    "ExecuteTime": {
     "end_time": "2024-10-11T18:43:35.286960Z",
     "start_time": "2024-10-11T18:43:35.283557Z"
    }
   },
   "cell_type": "code",
   "source": "r_merge = r_merge[['user_id', 'item_id']]",
   "id": "787e6e120926c0f8",
   "outputs": [],
   "execution_count": 1986
  },
  {
   "metadata": {
    "ExecuteTime": {
     "end_time": "2024-10-11T18:43:35.587938Z",
     "start_time": "2024-10-11T18:43:35.584166Z"
    }
   },
   "cell_type": "code",
   "source": "r_merge.drop_duplicates(subset=['user_id']).shape",
   "id": "2a699c3f67dc091e",
   "outputs": [
    {
     "data": {
      "text/plain": [
       "(3000, 2)"
      ]
     },
     "execution_count": 1987,
     "metadata": {},
     "output_type": "execute_result"
    }
   ],
   "execution_count": 1987
  },
  {
   "metadata": {
    "ExecuteTime": {
     "end_time": "2024-10-11T18:45:33.045617Z",
     "start_time": "2024-10-11T18:45:33.023156Z"
    }
   },
   "cell_type": "code",
   "source": "r_merge.rename(columns={'item_id': 'products'}).reset_index().to_csv(\"r_final.csv\", index=False)",
   "id": "6533fd075d463a8b",
   "outputs": [],
   "execution_count": 1992
  },
  {
   "metadata": {
    "ExecuteTime": {
     "end_time": "2024-10-11T18:44:27.059908Z",
     "start_time": "2024-10-11T18:44:27.049311Z"
    }
   },
   "cell_type": "code",
   "source": "pd.read_csv('r_final.csv').shape",
   "id": "c0ecc478bd15bf87",
   "outputs": [
    {
     "data": {
      "text/plain": [
       "(3000, 3)"
      ]
     },
     "execution_count": 1991,
     "metadata": {},
     "output_type": "execute_result"
    }
   ],
   "execution_count": 1991
  },
  {
   "metadata": {
    "ExecuteTime": {
     "end_time": "2024-10-11T18:43:37.274224Z",
     "start_time": "2024-10-11T18:43:37.271920Z"
    }
   },
   "cell_type": "code",
   "source": "",
   "id": "d863abf0bb1e67d8",
   "outputs": [],
   "execution_count": null
  },
  {
   "metadata": {
    "ExecuteTime": {
     "end_time": "2024-10-11T18:43:37.588657Z",
     "start_time": "2024-10-11T18:43:37.573549Z"
    }
   },
   "cell_type": "code",
   "source": [
    "check_merge_ml = test_purchasers.merge(r_merge[-3000:], on='user_id', how='left')\n",
    "check_merge_ml.item_id_y.loc[check_merge_ml.item_id_y.isnull()] = check_merge_ml.item_id_y.loc[check_merge_ml.item_id_y.isnull()].apply(lambda x: [])\n",
    "print(check_merge_ml.shape)\n",
    "check_merge_ml['recall'] = check_merge_ml.apply(calculate_recall, axis=1)\n",
    "check_merge_ml['recall'].mean()"
   ],
   "id": "31d6bbef2a318782",
   "outputs": [
    {
     "name": "stdout",
     "output_type": "stream",
     "text": [
      "(496, 3)\n"
     ]
    },
    {
     "data": {
      "text/plain": [
       "0.49797213353943054"
      ]
     },
     "execution_count": 1990,
     "metadata": {},
     "output_type": "execute_result"
    }
   ],
   "execution_count": 1990
  },
  {
   "metadata": {
    "ExecuteTime": {
     "end_time": "2024-10-11T18:12:47.841438Z",
     "start_time": "2024-10-11T18:12:47.839349Z"
    }
   },
   "cell_type": "code",
   "source": "",
   "id": "5a546be013dde35b",
   "outputs": [],
   "execution_count": null
  },
  {
   "metadata": {},
   "cell_type": "code",
   "outputs": [],
   "source": "",
   "id": "24420341df21eac3",
   "execution_count": null
  },
  {
   "metadata": {
    "ExecuteTime": {
     "end_time": "2024-10-10T11:43:02.271963Z",
     "start_time": "2024-10-10T11:43:02.237844Z"
    }
   },
   "cell_type": "code",
   "outputs": [],
   "execution_count": 176,
   "source": "h2o.cluster().shutdown()",
   "id": "86e0213bf4b74754"
  },
  {
   "metadata": {},
   "cell_type": "code",
   "outputs": [],
   "source": "",
   "id": "9fe39f68ddcdd212",
   "execution_count": null
  }
 ],
 "metadata": {
  "kernelspec": {
   "display_name": "Python 3",
   "language": "python",
   "name": "python3"
  },
  "language_info": {
   "codemirror_mode": {
    "name": "ipython",
    "version": 2
   },
   "file_extension": ".py",
   "mimetype": "text/x-python",
   "name": "python",
   "nbconvert_exporter": "python",
   "pygments_lexer": "ipython2",
   "version": "2.7.6"
  }
 },
 "nbformat": 4,
 "nbformat_minor": 5
}
